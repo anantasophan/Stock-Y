{
  "cells": [
    {
      "cell_type": "markdown",
      "metadata": {
        "id": "JvkrwSr7alUt"
      },
      "source": [
        "<a name=\"lib\"></a>\n",
        "\n",
        "# Import libraries and packages"
      ]
    },
    {
      "cell_type": "markdown",
      "metadata": {
        "id": "ucZKsPXMBjyF"
      },
      "source": [
        "Import the libraries and packages used to do the analysis."
      ]
    },
    {
      "cell_type": "code",
      "execution_count": 1,
      "metadata": {
        "_cell_guid": "b1076dfc-b9ad-4769-8c92-a6c4dae69d19",
        "_uuid": "8f2839f25d086af736a60e9eeb907d3b93b6e0e5",
        "execution": {
          "iopub.execute_input": "2021-08-16T08:12:22.080231Z",
          "iopub.status.busy": "2021-08-16T08:12:22.079553Z",
          "iopub.status.idle": "2021-08-16T08:12:25.382042Z",
          "shell.execute_reply": "2021-08-16T08:12:25.381271Z",
          "shell.execute_reply.started": "2021-08-16T08:12:22.080099Z"
        },
        "id": "zbwrLVZ6alUt",
        "trusted": true
      },
      "outputs": [],
      "source": [
        "import os\n",
        "import pandas as pd\n",
        "import numpy as np\n",
        "import math\n",
        "import datetime as dt\n",
        "\n",
        "from sklearn.metrics import mean_squared_error, mean_absolute_error, explained_variance_score, r2_score \n",
        "from sklearn.metrics import mean_poisson_deviance, mean_gamma_deviance, accuracy_score\n",
        "from sklearn.preprocessing import MinMaxScaler\n",
        "\n",
        "import tensorflow as tf\n",
        "from tensorflow.keras.models import Sequential\n",
        "from tensorflow.keras.layers import Dense, Dropout\n",
        "from tensorflow.keras.layers import LSTM\n",
        "\n",
        "from itertools import cycle\n",
        "import plotly.graph_objects as go\n",
        "import plotly.express as px\n",
        "from plotly.subplots import make_subplots\n"
      ]
    },
    {
      "cell_type": "code",
      "source": [
        "!pip install yfinance"
      ],
      "metadata": {
        "colab": {
          "base_uri": "https://localhost:8080/"
        },
        "id": "dB_SiGQBLZmP",
        "outputId": "b5827318-d72c-4047-d17a-2f1806977cb0"
      },
      "execution_count": 2,
      "outputs": [
        {
          "output_type": "stream",
          "name": "stdout",
          "text": [
            "Looking in indexes: https://pypi.org/simple, https://us-python.pkg.dev/colab-wheels/public/simple/\n",
            "Requirement already satisfied: yfinance in /usr/local/lib/python3.8/dist-packages (0.2.3)\n",
            "Requirement already satisfied: pytz>=2022.5 in /usr/local/lib/python3.8/dist-packages (from yfinance) (2022.6)\n",
            "Requirement already satisfied: appdirs>=1.4.4 in /usr/local/lib/python3.8/dist-packages (from yfinance) (1.4.4)\n",
            "Requirement already satisfied: pandas>=1.3.0 in /usr/local/lib/python3.8/dist-packages (from yfinance) (1.3.5)\n",
            "Requirement already satisfied: multitasking>=0.0.7 in /usr/local/lib/python3.8/dist-packages (from yfinance) (0.0.11)\n",
            "Requirement already satisfied: numpy>=1.16.5 in /usr/local/lib/python3.8/dist-packages (from yfinance) (1.21.6)\n",
            "Requirement already satisfied: requests>=2.26 in /usr/local/lib/python3.8/dist-packages (from yfinance) (2.28.1)\n",
            "Requirement already satisfied: beautifulsoup4>=4.11.1 in /usr/local/lib/python3.8/dist-packages (from yfinance) (4.11.1)\n",
            "Requirement already satisfied: frozendict>=2.3.4 in /usr/local/lib/python3.8/dist-packages (from yfinance) (2.3.4)\n",
            "Requirement already satisfied: cryptography>=3.3.2 in /usr/local/lib/python3.8/dist-packages (from yfinance) (38.0.4)\n",
            "Requirement already satisfied: lxml>=4.9.1 in /usr/local/lib/python3.8/dist-packages (from yfinance) (4.9.2)\n",
            "Requirement already satisfied: html5lib>=1.1 in /usr/local/lib/python3.8/dist-packages (from yfinance) (1.1)\n",
            "Requirement already satisfied: soupsieve>1.2 in /usr/local/lib/python3.8/dist-packages (from beautifulsoup4>=4.11.1->yfinance) (2.3.2.post1)\n",
            "Requirement already satisfied: cffi>=1.12 in /usr/local/lib/python3.8/dist-packages (from cryptography>=3.3.2->yfinance) (1.15.1)\n",
            "Requirement already satisfied: pycparser in /usr/local/lib/python3.8/dist-packages (from cffi>=1.12->cryptography>=3.3.2->yfinance) (2.21)\n",
            "Requirement already satisfied: webencodings in /usr/local/lib/python3.8/dist-packages (from html5lib>=1.1->yfinance) (0.5.1)\n",
            "Requirement already satisfied: six>=1.9 in /usr/local/lib/python3.8/dist-packages (from html5lib>=1.1->yfinance) (1.15.0)\n",
            "Requirement already satisfied: python-dateutil>=2.7.3 in /usr/local/lib/python3.8/dist-packages (from pandas>=1.3.0->yfinance) (2.8.2)\n",
            "Requirement already satisfied: charset-normalizer<3,>=2 in /usr/local/lib/python3.8/dist-packages (from requests>=2.26->yfinance) (2.1.1)\n",
            "Requirement already satisfied: certifi>=2017.4.17 in /usr/local/lib/python3.8/dist-packages (from requests>=2.26->yfinance) (2022.12.7)\n",
            "Requirement already satisfied: idna<4,>=2.5 in /usr/local/lib/python3.8/dist-packages (from requests>=2.26->yfinance) (2.10)\n",
            "Requirement already satisfied: urllib3<1.27,>=1.21.1 in /usr/local/lib/python3.8/dist-packages (from requests>=2.26->yfinance) (1.24.3)\n"
          ]
        }
      ]
    },
    {
      "cell_type": "code",
      "execution_count": 3,
      "metadata": {
        "id": "l-MDhItEbds3"
      },
      "outputs": [],
      "source": [
        "# For retrieving data\n",
        "import yfinance as yf\n",
        "\n",
        "from datetime import datetime, timedelta"
      ]
    },
    {
      "cell_type": "markdown",
      "metadata": {
        "id": "ZFz1qqRLalUu"
      },
      "source": [
        "# Import Dataset"
      ]
    },
    {
      "cell_type": "markdown",
      "metadata": {
        "id": "b5Z6wdmOBjyL"
      },
      "source": [
        "Data gotton starts from 01 January 2015 until the date this project is made which is 21 December 2022."
      ]
    },
    {
      "cell_type": "code",
      "execution_count": 4,
      "metadata": {
        "id": "stQsEbpF2hdh"
      },
      "outputs": [],
      "source": [
        "START = \"2015-01-01\"\n",
        "TODAY = datetime.today().strftime(\"%Y-%m-%d\")"
      ]
    },
    {
      "cell_type": "markdown",
      "metadata": {
        "id": "vbcUkGyrTeR9"
      },
      "source": [
        "Defining the start time and the recent time to get the data from yahoo finance."
      ]
    },
    {
      "cell_type": "code",
      "execution_count": 5,
      "metadata": {
        "colab": {
          "base_uri": "https://localhost:8080/"
        },
        "id": "fQOYObCebUoW",
        "outputId": "e63520c3-a5e2-4f63-d9dc-b574c1e038b9"
      },
      "outputs": [
        {
          "output_type": "stream",
          "name": "stdout",
          "text": [
            "\r[*********************100%***********************]  1 of 1 completed\n"
          ]
        }
      ],
      "source": [
        "data = yf.download(tickers=\"BBRI.JK\", start=START, end=TODAY, interval='1d')"
      ]
    },
    {
      "cell_type": "markdown",
      "metadata": {
        "id": "9SFBzkU8TvQc"
      },
      "source": [
        "downloading the data from yahoo finance from a specific stock market with start and end date defined above with 1 day interval."
      ]
    },
    {
      "cell_type": "code",
      "execution_count": 6,
      "metadata": {
        "colab": {
          "base_uri": "https://localhost:8080/",
          "height": 237
        },
        "id": "c_TqbGpMb4hu",
        "outputId": "6d3fde66-9d19-4606-e660-567905e98155"
      },
      "outputs": [
        {
          "output_type": "execute_result",
          "data": {
            "text/plain": [
              "              Open    High     Low   Close  Adj Close     Volume\n",
              "Date                                                            \n",
              "2022-12-14  5000.0  5000.0  4870.0  4980.0     4980.0  201275800\n",
              "2022-12-15  4900.0  4940.0  4880.0  4910.0     4910.0  170702300\n",
              "2022-12-16  4820.0  4980.0  4820.0  4980.0     4980.0  594601900\n",
              "2022-12-19  4970.0  4980.0  4920.0  4970.0     4970.0   82959800\n",
              "2022-12-20  4930.0  4970.0  4890.0  4910.0     4910.0   78671600"
            ],
            "text/html": [
              "\n",
              "  <div id=\"df-c45c4599-9db3-4589-8596-1cdca3b76300\">\n",
              "    <div class=\"colab-df-container\">\n",
              "      <div>\n",
              "<style scoped>\n",
              "    .dataframe tbody tr th:only-of-type {\n",
              "        vertical-align: middle;\n",
              "    }\n",
              "\n",
              "    .dataframe tbody tr th {\n",
              "        vertical-align: top;\n",
              "    }\n",
              "\n",
              "    .dataframe thead th {\n",
              "        text-align: right;\n",
              "    }\n",
              "</style>\n",
              "<table border=\"1\" class=\"dataframe\">\n",
              "  <thead>\n",
              "    <tr style=\"text-align: right;\">\n",
              "      <th></th>\n",
              "      <th>Open</th>\n",
              "      <th>High</th>\n",
              "      <th>Low</th>\n",
              "      <th>Close</th>\n",
              "      <th>Adj Close</th>\n",
              "      <th>Volume</th>\n",
              "    </tr>\n",
              "    <tr>\n",
              "      <th>Date</th>\n",
              "      <th></th>\n",
              "      <th></th>\n",
              "      <th></th>\n",
              "      <th></th>\n",
              "      <th></th>\n",
              "      <th></th>\n",
              "    </tr>\n",
              "  </thead>\n",
              "  <tbody>\n",
              "    <tr>\n",
              "      <th>2022-12-14</th>\n",
              "      <td>5000.0</td>\n",
              "      <td>5000.0</td>\n",
              "      <td>4870.0</td>\n",
              "      <td>4980.0</td>\n",
              "      <td>4980.0</td>\n",
              "      <td>201275800</td>\n",
              "    </tr>\n",
              "    <tr>\n",
              "      <th>2022-12-15</th>\n",
              "      <td>4900.0</td>\n",
              "      <td>4940.0</td>\n",
              "      <td>4880.0</td>\n",
              "      <td>4910.0</td>\n",
              "      <td>4910.0</td>\n",
              "      <td>170702300</td>\n",
              "    </tr>\n",
              "    <tr>\n",
              "      <th>2022-12-16</th>\n",
              "      <td>4820.0</td>\n",
              "      <td>4980.0</td>\n",
              "      <td>4820.0</td>\n",
              "      <td>4980.0</td>\n",
              "      <td>4980.0</td>\n",
              "      <td>594601900</td>\n",
              "    </tr>\n",
              "    <tr>\n",
              "      <th>2022-12-19</th>\n",
              "      <td>4970.0</td>\n",
              "      <td>4980.0</td>\n",
              "      <td>4920.0</td>\n",
              "      <td>4970.0</td>\n",
              "      <td>4970.0</td>\n",
              "      <td>82959800</td>\n",
              "    </tr>\n",
              "    <tr>\n",
              "      <th>2022-12-20</th>\n",
              "      <td>4930.0</td>\n",
              "      <td>4970.0</td>\n",
              "      <td>4890.0</td>\n",
              "      <td>4910.0</td>\n",
              "      <td>4910.0</td>\n",
              "      <td>78671600</td>\n",
              "    </tr>\n",
              "  </tbody>\n",
              "</table>\n",
              "</div>\n",
              "      <button class=\"colab-df-convert\" onclick=\"convertToInteractive('df-c45c4599-9db3-4589-8596-1cdca3b76300')\"\n",
              "              title=\"Convert this dataframe to an interactive table.\"\n",
              "              style=\"display:none;\">\n",
              "        \n",
              "  <svg xmlns=\"http://www.w3.org/2000/svg\" height=\"24px\"viewBox=\"0 0 24 24\"\n",
              "       width=\"24px\">\n",
              "    <path d=\"M0 0h24v24H0V0z\" fill=\"none\"/>\n",
              "    <path d=\"M18.56 5.44l.94 2.06.94-2.06 2.06-.94-2.06-.94-.94-2.06-.94 2.06-2.06.94zm-11 1L8.5 8.5l.94-2.06 2.06-.94-2.06-.94L8.5 2.5l-.94 2.06-2.06.94zm10 10l.94 2.06.94-2.06 2.06-.94-2.06-.94-.94-2.06-.94 2.06-2.06.94z\"/><path d=\"M17.41 7.96l-1.37-1.37c-.4-.4-.92-.59-1.43-.59-.52 0-1.04.2-1.43.59L10.3 9.45l-7.72 7.72c-.78.78-.78 2.05 0 2.83L4 21.41c.39.39.9.59 1.41.59.51 0 1.02-.2 1.41-.59l7.78-7.78 2.81-2.81c.8-.78.8-2.07 0-2.86zM5.41 20L4 18.59l7.72-7.72 1.47 1.35L5.41 20z\"/>\n",
              "  </svg>\n",
              "      </button>\n",
              "      \n",
              "  <style>\n",
              "    .colab-df-container {\n",
              "      display:flex;\n",
              "      flex-wrap:wrap;\n",
              "      gap: 12px;\n",
              "    }\n",
              "\n",
              "    .colab-df-convert {\n",
              "      background-color: #E8F0FE;\n",
              "      border: none;\n",
              "      border-radius: 50%;\n",
              "      cursor: pointer;\n",
              "      display: none;\n",
              "      fill: #1967D2;\n",
              "      height: 32px;\n",
              "      padding: 0 0 0 0;\n",
              "      width: 32px;\n",
              "    }\n",
              "\n",
              "    .colab-df-convert:hover {\n",
              "      background-color: #E2EBFA;\n",
              "      box-shadow: 0px 1px 2px rgba(60, 64, 67, 0.3), 0px 1px 3px 1px rgba(60, 64, 67, 0.15);\n",
              "      fill: #174EA6;\n",
              "    }\n",
              "\n",
              "    [theme=dark] .colab-df-convert {\n",
              "      background-color: #3B4455;\n",
              "      fill: #D2E3FC;\n",
              "    }\n",
              "\n",
              "    [theme=dark] .colab-df-convert:hover {\n",
              "      background-color: #434B5C;\n",
              "      box-shadow: 0px 1px 3px 1px rgba(0, 0, 0, 0.15);\n",
              "      filter: drop-shadow(0px 1px 2px rgba(0, 0, 0, 0.3));\n",
              "      fill: #FFFFFF;\n",
              "    }\n",
              "  </style>\n",
              "\n",
              "      <script>\n",
              "        const buttonEl =\n",
              "          document.querySelector('#df-c45c4599-9db3-4589-8596-1cdca3b76300 button.colab-df-convert');\n",
              "        buttonEl.style.display =\n",
              "          google.colab.kernel.accessAllowed ? 'block' : 'none';\n",
              "\n",
              "        async function convertToInteractive(key) {\n",
              "          const element = document.querySelector('#df-c45c4599-9db3-4589-8596-1cdca3b76300');\n",
              "          const dataTable =\n",
              "            await google.colab.kernel.invokeFunction('convertToInteractive',\n",
              "                                                     [key], {});\n",
              "          if (!dataTable) return;\n",
              "\n",
              "          const docLinkHtml = 'Like what you see? Visit the ' +\n",
              "            '<a target=\"_blank\" href=https://colab.research.google.com/notebooks/data_table.ipynb>data table notebook</a>'\n",
              "            + ' to learn more about interactive tables.';\n",
              "          element.innerHTML = '';\n",
              "          dataTable['output_type'] = 'display_data';\n",
              "          await google.colab.output.renderOutput(dataTable, element);\n",
              "          const docLink = document.createElement('div');\n",
              "          docLink.innerHTML = docLinkHtml;\n",
              "          element.appendChild(docLink);\n",
              "        }\n",
              "      </script>\n",
              "    </div>\n",
              "  </div>\n",
              "  "
            ]
          },
          "metadata": {},
          "execution_count": 6
        }
      ],
      "source": [
        "data.tail()"
      ]
    },
    {
      "cell_type": "code",
      "execution_count": 7,
      "metadata": {
        "id": "ja4UTVyC4wBK"
      },
      "outputs": [],
      "source": [
        "maindf = data.copy()"
      ]
    },
    {
      "cell_type": "code",
      "execution_count": 8,
      "metadata": {
        "id": "8QISn8F5cMeS"
      },
      "outputs": [],
      "source": [
        "maindf.reset_index(inplace=True)"
      ]
    },
    {
      "cell_type": "markdown",
      "metadata": {
        "id": "2cxwUFE5UhpM"
      },
      "source": [
        "reset index from the data because the default index determined as date column which is going to be used."
      ]
    },
    {
      "cell_type": "code",
      "execution_count": 9,
      "metadata": {
        "id": "tDx5nbUAbz-9"
      },
      "outputs": [],
      "source": [
        "maindf = maindf.rename(columns={'Date': 'date','Open':'open','High':'high','Low':'low','Close':'close',\n",
        "                                 'Adj Close':'adj_close','Volume':'volume'})"
      ]
    },
    {
      "cell_type": "markdown",
      "metadata": {
        "id": "PkZecf4HUWRb"
      },
      "source": [
        "rename the columns names for better convenience."
      ]
    },
    {
      "cell_type": "code",
      "execution_count": 10,
      "metadata": {
        "colab": {
          "base_uri": "https://localhost:8080/",
          "height": 206
        },
        "id": "wvZJLGZhcA1q",
        "outputId": "1ce45b2c-8c2b-4bf6-a379-04d0ee45d1ae"
      },
      "outputs": [
        {
          "output_type": "execute_result",
          "data": {
            "text/plain": [
              "        date    open    high     low   close    adj_close     volume\n",
              "0 2015-01-02  2305.0  2345.0  2305.0  2330.0  1851.301636   45155000\n",
              "1 2015-01-05  2320.0  2340.0  2315.0  2320.0  1843.356201   49569000\n",
              "2 2015-01-06  2310.0  2325.0  2300.0  2305.0  1831.437866   65091500\n",
              "3 2015-01-07  2320.0  2355.0  2315.0  2355.0  1871.165405  146164500\n",
              "4 2015-01-08  2360.0  2395.0  2360.0  2395.0  1902.947754  146663500"
            ],
            "text/html": [
              "\n",
              "  <div id=\"df-d2b3fe29-4037-495d-a29f-113a668cbc21\">\n",
              "    <div class=\"colab-df-container\">\n",
              "      <div>\n",
              "<style scoped>\n",
              "    .dataframe tbody tr th:only-of-type {\n",
              "        vertical-align: middle;\n",
              "    }\n",
              "\n",
              "    .dataframe tbody tr th {\n",
              "        vertical-align: top;\n",
              "    }\n",
              "\n",
              "    .dataframe thead th {\n",
              "        text-align: right;\n",
              "    }\n",
              "</style>\n",
              "<table border=\"1\" class=\"dataframe\">\n",
              "  <thead>\n",
              "    <tr style=\"text-align: right;\">\n",
              "      <th></th>\n",
              "      <th>date</th>\n",
              "      <th>open</th>\n",
              "      <th>high</th>\n",
              "      <th>low</th>\n",
              "      <th>close</th>\n",
              "      <th>adj_close</th>\n",
              "      <th>volume</th>\n",
              "    </tr>\n",
              "  </thead>\n",
              "  <tbody>\n",
              "    <tr>\n",
              "      <th>0</th>\n",
              "      <td>2015-01-02</td>\n",
              "      <td>2305.0</td>\n",
              "      <td>2345.0</td>\n",
              "      <td>2305.0</td>\n",
              "      <td>2330.0</td>\n",
              "      <td>1851.301636</td>\n",
              "      <td>45155000</td>\n",
              "    </tr>\n",
              "    <tr>\n",
              "      <th>1</th>\n",
              "      <td>2015-01-05</td>\n",
              "      <td>2320.0</td>\n",
              "      <td>2340.0</td>\n",
              "      <td>2315.0</td>\n",
              "      <td>2320.0</td>\n",
              "      <td>1843.356201</td>\n",
              "      <td>49569000</td>\n",
              "    </tr>\n",
              "    <tr>\n",
              "      <th>2</th>\n",
              "      <td>2015-01-06</td>\n",
              "      <td>2310.0</td>\n",
              "      <td>2325.0</td>\n",
              "      <td>2300.0</td>\n",
              "      <td>2305.0</td>\n",
              "      <td>1831.437866</td>\n",
              "      <td>65091500</td>\n",
              "    </tr>\n",
              "    <tr>\n",
              "      <th>3</th>\n",
              "      <td>2015-01-07</td>\n",
              "      <td>2320.0</td>\n",
              "      <td>2355.0</td>\n",
              "      <td>2315.0</td>\n",
              "      <td>2355.0</td>\n",
              "      <td>1871.165405</td>\n",
              "      <td>146164500</td>\n",
              "    </tr>\n",
              "    <tr>\n",
              "      <th>4</th>\n",
              "      <td>2015-01-08</td>\n",
              "      <td>2360.0</td>\n",
              "      <td>2395.0</td>\n",
              "      <td>2360.0</td>\n",
              "      <td>2395.0</td>\n",
              "      <td>1902.947754</td>\n",
              "      <td>146663500</td>\n",
              "    </tr>\n",
              "  </tbody>\n",
              "</table>\n",
              "</div>\n",
              "      <button class=\"colab-df-convert\" onclick=\"convertToInteractive('df-d2b3fe29-4037-495d-a29f-113a668cbc21')\"\n",
              "              title=\"Convert this dataframe to an interactive table.\"\n",
              "              style=\"display:none;\">\n",
              "        \n",
              "  <svg xmlns=\"http://www.w3.org/2000/svg\" height=\"24px\"viewBox=\"0 0 24 24\"\n",
              "       width=\"24px\">\n",
              "    <path d=\"M0 0h24v24H0V0z\" fill=\"none\"/>\n",
              "    <path d=\"M18.56 5.44l.94 2.06.94-2.06 2.06-.94-2.06-.94-.94-2.06-.94 2.06-2.06.94zm-11 1L8.5 8.5l.94-2.06 2.06-.94-2.06-.94L8.5 2.5l-.94 2.06-2.06.94zm10 10l.94 2.06.94-2.06 2.06-.94-2.06-.94-.94-2.06-.94 2.06-2.06.94z\"/><path d=\"M17.41 7.96l-1.37-1.37c-.4-.4-.92-.59-1.43-.59-.52 0-1.04.2-1.43.59L10.3 9.45l-7.72 7.72c-.78.78-.78 2.05 0 2.83L4 21.41c.39.39.9.59 1.41.59.51 0 1.02-.2 1.41-.59l7.78-7.78 2.81-2.81c.8-.78.8-2.07 0-2.86zM5.41 20L4 18.59l7.72-7.72 1.47 1.35L5.41 20z\"/>\n",
              "  </svg>\n",
              "      </button>\n",
              "      \n",
              "  <style>\n",
              "    .colab-df-container {\n",
              "      display:flex;\n",
              "      flex-wrap:wrap;\n",
              "      gap: 12px;\n",
              "    }\n",
              "\n",
              "    .colab-df-convert {\n",
              "      background-color: #E8F0FE;\n",
              "      border: none;\n",
              "      border-radius: 50%;\n",
              "      cursor: pointer;\n",
              "      display: none;\n",
              "      fill: #1967D2;\n",
              "      height: 32px;\n",
              "      padding: 0 0 0 0;\n",
              "      width: 32px;\n",
              "    }\n",
              "\n",
              "    .colab-df-convert:hover {\n",
              "      background-color: #E2EBFA;\n",
              "      box-shadow: 0px 1px 2px rgba(60, 64, 67, 0.3), 0px 1px 3px 1px rgba(60, 64, 67, 0.15);\n",
              "      fill: #174EA6;\n",
              "    }\n",
              "\n",
              "    [theme=dark] .colab-df-convert {\n",
              "      background-color: #3B4455;\n",
              "      fill: #D2E3FC;\n",
              "    }\n",
              "\n",
              "    [theme=dark] .colab-df-convert:hover {\n",
              "      background-color: #434B5C;\n",
              "      box-shadow: 0px 1px 3px 1px rgba(0, 0, 0, 0.15);\n",
              "      filter: drop-shadow(0px 1px 2px rgba(0, 0, 0, 0.3));\n",
              "      fill: #FFFFFF;\n",
              "    }\n",
              "  </style>\n",
              "\n",
              "      <script>\n",
              "        const buttonEl =\n",
              "          document.querySelector('#df-d2b3fe29-4037-495d-a29f-113a668cbc21 button.colab-df-convert');\n",
              "        buttonEl.style.display =\n",
              "          google.colab.kernel.accessAllowed ? 'block' : 'none';\n",
              "\n",
              "        async function convertToInteractive(key) {\n",
              "          const element = document.querySelector('#df-d2b3fe29-4037-495d-a29f-113a668cbc21');\n",
              "          const dataTable =\n",
              "            await google.colab.kernel.invokeFunction('convertToInteractive',\n",
              "                                                     [key], {});\n",
              "          if (!dataTable) return;\n",
              "\n",
              "          const docLinkHtml = 'Like what you see? Visit the ' +\n",
              "            '<a target=\"_blank\" href=https://colab.research.google.com/notebooks/data_table.ipynb>data table notebook</a>'\n",
              "            + ' to learn more about interactive tables.';\n",
              "          element.innerHTML = '';\n",
              "          dataTable['output_type'] = 'display_data';\n",
              "          await google.colab.output.renderOutput(dataTable, element);\n",
              "          const docLink = document.createElement('div');\n",
              "          docLink.innerHTML = docLinkHtml;\n",
              "          element.appendChild(docLink);\n",
              "        }\n",
              "      </script>\n",
              "    </div>\n",
              "  </div>\n",
              "  "
            ]
          },
          "metadata": {},
          "execution_count": 10
        }
      ],
      "source": [
        "maindf.head()"
      ]
    },
    {
      "cell_type": "code",
      "execution_count": 11,
      "metadata": {
        "colab": {
          "base_uri": "https://localhost:8080/"
        },
        "execution": {
          "iopub.execute_input": "2021-08-16T08:12:25.419644Z",
          "iopub.status.busy": "2021-08-16T08:12:25.419258Z",
          "iopub.status.idle": "2021-08-16T08:12:25.424521Z",
          "shell.execute_reply": "2021-08-16T08:12:25.423603Z",
          "shell.execute_reply.started": "2021-08-16T08:12:25.419616Z"
        },
        "id": "oDghCPeWalUv",
        "outputId": "284a4029-ca99-40a8-dc0c-c38a5cbf9247",
        "trusted": true
      },
      "outputs": [
        {
          "output_type": "stream",
          "name": "stdout",
          "text": [
            "Total number of days:  1990\n",
            "Total number of fields:  7\n"
          ]
        }
      ],
      "source": [
        "print(\"Total number of days: \",maindf.shape[0])\n",
        "print(\"Total number of fields: \",maindf.shape[1])"
      ]
    },
    {
      "cell_type": "markdown",
      "metadata": {
        "id": "zybBWH8bVFZL"
      },
      "source": [
        "counting the total number of days from the data which shows 1990 days in total, and the the data also has 7 columns in total."
      ]
    },
    {
      "cell_type": "markdown",
      "metadata": {
        "id": "oBiXHgd2alUw"
      },
      "source": [
        "<a name=\"na\"></a>\n",
        "\n",
        "# Checking Null and NA value"
      ]
    },
    {
      "cell_type": "code",
      "execution_count": 12,
      "metadata": {
        "colab": {
          "base_uri": "https://localhost:8080/"
        },
        "execution": {
          "iopub.execute_input": "2021-08-16T08:12:25.426658Z",
          "iopub.status.busy": "2021-08-16T08:12:25.426327Z",
          "iopub.status.idle": "2021-08-16T08:12:25.441149Z",
          "shell.execute_reply": "2021-08-16T08:12:25.440082Z",
          "shell.execute_reply.started": "2021-08-16T08:12:25.426628Z"
        },
        "id": "hMEhJJnPalUw",
        "outputId": "d5eda91f-aa10-46e3-a31c-cb39bcdf8ec3",
        "trusted": true
      },
      "outputs": [
        {
          "output_type": "stream",
          "name": "stdout",
          "text": [
            "Null values: 0\n",
            "NA values: False\n"
          ]
        }
      ],
      "source": [
        "print(\"Null values:\", maindf.isnull().values.sum())\n",
        "print(\"NA values:\", maindf.isna().values.any())"
      ]
    },
    {
      "cell_type": "markdown",
      "metadata": {
        "id": "aZ08-jb3c_TK"
      },
      "source": [
        "after checking the data, there is no missing value found."
      ]
    },
    {
      "cell_type": "markdown",
      "metadata": {
        "id": "C8o6yoVSalUx"
      },
      "source": [
        "<a name=\"predate\"></a>\n",
        "\n",
        "# Convert Date field into datetime format"
      ]
    },
    {
      "cell_type": "code",
      "execution_count": 13,
      "metadata": {
        "colab": {
          "base_uri": "https://localhost:8080/",
          "height": 206
        },
        "execution": {
          "iopub.execute_input": "2021-08-16T08:12:25.443122Z",
          "iopub.status.busy": "2021-08-16T08:12:25.442779Z",
          "iopub.status.idle": "2021-08-16T08:12:25.462531Z",
          "shell.execute_reply": "2021-08-16T08:12:25.461399Z",
          "shell.execute_reply.started": "2021-08-16T08:12:25.443091Z"
        },
        "id": "a_XXUPZPalUx",
        "outputId": "5147bb26-e4c7-41b6-9df9-ce6ae10332fb",
        "trusted": true
      },
      "outputs": [
        {
          "output_type": "execute_result",
          "data": {
            "text/plain": [
              "        date    open    high     low   close    adj_close     volume\n",
              "0 2015-01-02  2305.0  2345.0  2305.0  2330.0  1851.301636   45155000\n",
              "1 2015-01-05  2320.0  2340.0  2315.0  2320.0  1843.356201   49569000\n",
              "2 2015-01-06  2310.0  2325.0  2300.0  2305.0  1831.437866   65091500\n",
              "3 2015-01-07  2320.0  2355.0  2315.0  2355.0  1871.165405  146164500\n",
              "4 2015-01-08  2360.0  2395.0  2360.0  2395.0  1902.947754  146663500"
            ],
            "text/html": [
              "\n",
              "  <div id=\"df-4f5558f4-7cc5-471c-ba00-57575494de79\">\n",
              "    <div class=\"colab-df-container\">\n",
              "      <div>\n",
              "<style scoped>\n",
              "    .dataframe tbody tr th:only-of-type {\n",
              "        vertical-align: middle;\n",
              "    }\n",
              "\n",
              "    .dataframe tbody tr th {\n",
              "        vertical-align: top;\n",
              "    }\n",
              "\n",
              "    .dataframe thead th {\n",
              "        text-align: right;\n",
              "    }\n",
              "</style>\n",
              "<table border=\"1\" class=\"dataframe\">\n",
              "  <thead>\n",
              "    <tr style=\"text-align: right;\">\n",
              "      <th></th>\n",
              "      <th>date</th>\n",
              "      <th>open</th>\n",
              "      <th>high</th>\n",
              "      <th>low</th>\n",
              "      <th>close</th>\n",
              "      <th>adj_close</th>\n",
              "      <th>volume</th>\n",
              "    </tr>\n",
              "  </thead>\n",
              "  <tbody>\n",
              "    <tr>\n",
              "      <th>0</th>\n",
              "      <td>2015-01-02</td>\n",
              "      <td>2305.0</td>\n",
              "      <td>2345.0</td>\n",
              "      <td>2305.0</td>\n",
              "      <td>2330.0</td>\n",
              "      <td>1851.301636</td>\n",
              "      <td>45155000</td>\n",
              "    </tr>\n",
              "    <tr>\n",
              "      <th>1</th>\n",
              "      <td>2015-01-05</td>\n",
              "      <td>2320.0</td>\n",
              "      <td>2340.0</td>\n",
              "      <td>2315.0</td>\n",
              "      <td>2320.0</td>\n",
              "      <td>1843.356201</td>\n",
              "      <td>49569000</td>\n",
              "    </tr>\n",
              "    <tr>\n",
              "      <th>2</th>\n",
              "      <td>2015-01-06</td>\n",
              "      <td>2310.0</td>\n",
              "      <td>2325.0</td>\n",
              "      <td>2300.0</td>\n",
              "      <td>2305.0</td>\n",
              "      <td>1831.437866</td>\n",
              "      <td>65091500</td>\n",
              "    </tr>\n",
              "    <tr>\n",
              "      <th>3</th>\n",
              "      <td>2015-01-07</td>\n",
              "      <td>2320.0</td>\n",
              "      <td>2355.0</td>\n",
              "      <td>2315.0</td>\n",
              "      <td>2355.0</td>\n",
              "      <td>1871.165405</td>\n",
              "      <td>146164500</td>\n",
              "    </tr>\n",
              "    <tr>\n",
              "      <th>4</th>\n",
              "      <td>2015-01-08</td>\n",
              "      <td>2360.0</td>\n",
              "      <td>2395.0</td>\n",
              "      <td>2360.0</td>\n",
              "      <td>2395.0</td>\n",
              "      <td>1902.947754</td>\n",
              "      <td>146663500</td>\n",
              "    </tr>\n",
              "  </tbody>\n",
              "</table>\n",
              "</div>\n",
              "      <button class=\"colab-df-convert\" onclick=\"convertToInteractive('df-4f5558f4-7cc5-471c-ba00-57575494de79')\"\n",
              "              title=\"Convert this dataframe to an interactive table.\"\n",
              "              style=\"display:none;\">\n",
              "        \n",
              "  <svg xmlns=\"http://www.w3.org/2000/svg\" height=\"24px\"viewBox=\"0 0 24 24\"\n",
              "       width=\"24px\">\n",
              "    <path d=\"M0 0h24v24H0V0z\" fill=\"none\"/>\n",
              "    <path d=\"M18.56 5.44l.94 2.06.94-2.06 2.06-.94-2.06-.94-.94-2.06-.94 2.06-2.06.94zm-11 1L8.5 8.5l.94-2.06 2.06-.94-2.06-.94L8.5 2.5l-.94 2.06-2.06.94zm10 10l.94 2.06.94-2.06 2.06-.94-2.06-.94-.94-2.06-.94 2.06-2.06.94z\"/><path d=\"M17.41 7.96l-1.37-1.37c-.4-.4-.92-.59-1.43-.59-.52 0-1.04.2-1.43.59L10.3 9.45l-7.72 7.72c-.78.78-.78 2.05 0 2.83L4 21.41c.39.39.9.59 1.41.59.51 0 1.02-.2 1.41-.59l7.78-7.78 2.81-2.81c.8-.78.8-2.07 0-2.86zM5.41 20L4 18.59l7.72-7.72 1.47 1.35L5.41 20z\"/>\n",
              "  </svg>\n",
              "      </button>\n",
              "      \n",
              "  <style>\n",
              "    .colab-df-container {\n",
              "      display:flex;\n",
              "      flex-wrap:wrap;\n",
              "      gap: 12px;\n",
              "    }\n",
              "\n",
              "    .colab-df-convert {\n",
              "      background-color: #E8F0FE;\n",
              "      border: none;\n",
              "      border-radius: 50%;\n",
              "      cursor: pointer;\n",
              "      display: none;\n",
              "      fill: #1967D2;\n",
              "      height: 32px;\n",
              "      padding: 0 0 0 0;\n",
              "      width: 32px;\n",
              "    }\n",
              "\n",
              "    .colab-df-convert:hover {\n",
              "      background-color: #E2EBFA;\n",
              "      box-shadow: 0px 1px 2px rgba(60, 64, 67, 0.3), 0px 1px 3px 1px rgba(60, 64, 67, 0.15);\n",
              "      fill: #174EA6;\n",
              "    }\n",
              "\n",
              "    [theme=dark] .colab-df-convert {\n",
              "      background-color: #3B4455;\n",
              "      fill: #D2E3FC;\n",
              "    }\n",
              "\n",
              "    [theme=dark] .colab-df-convert:hover {\n",
              "      background-color: #434B5C;\n",
              "      box-shadow: 0px 1px 3px 1px rgba(0, 0, 0, 0.15);\n",
              "      filter: drop-shadow(0px 1px 2px rgba(0, 0, 0, 0.3));\n",
              "      fill: #FFFFFF;\n",
              "    }\n",
              "  </style>\n",
              "\n",
              "      <script>\n",
              "        const buttonEl =\n",
              "          document.querySelector('#df-4f5558f4-7cc5-471c-ba00-57575494de79 button.colab-df-convert');\n",
              "        buttonEl.style.display =\n",
              "          google.colab.kernel.accessAllowed ? 'block' : 'none';\n",
              "\n",
              "        async function convertToInteractive(key) {\n",
              "          const element = document.querySelector('#df-4f5558f4-7cc5-471c-ba00-57575494de79');\n",
              "          const dataTable =\n",
              "            await google.colab.kernel.invokeFunction('convertToInteractive',\n",
              "                                                     [key], {});\n",
              "          if (!dataTable) return;\n",
              "\n",
              "          const docLinkHtml = 'Like what you see? Visit the ' +\n",
              "            '<a target=\"_blank\" href=https://colab.research.google.com/notebooks/data_table.ipynb>data table notebook</a>'\n",
              "            + ' to learn more about interactive tables.';\n",
              "          element.innerHTML = '';\n",
              "          dataTable['output_type'] = 'display_data';\n",
              "          await google.colab.output.renderOutput(dataTable, element);\n",
              "          const docLink = document.createElement('div');\n",
              "          docLink.innerHTML = docLinkHtml;\n",
              "          element.appendChild(docLink);\n",
              "        }\n",
              "      </script>\n",
              "    </div>\n",
              "  </div>\n",
              "  "
            ]
          },
          "metadata": {},
          "execution_count": 13
        }
      ],
      "source": [
        "# convert date field from string to Date format \n",
        "maindf['date'] = pd.to_datetime(maindf.date)\n",
        "maindf.head()"
      ]
    },
    {
      "cell_type": "markdown",
      "metadata": {
        "id": "lmDl9EtIWQ7h"
      },
      "source": [
        "changing the `date` column data type to datetime, as it's an object before."
      ]
    },
    {
      "cell_type": "markdown",
      "metadata": {
        "id": "lD74KxkIalUx"
      },
      "source": [
        "<a name=\"eda\"></a>\n",
        "\n",
        "# EDA - Exploratory Data Analysis"
      ]
    },
    {
      "cell_type": "markdown",
      "metadata": {
        "id": "6BIBE5LzalUx"
      },
      "source": [
        "<a name=\"dur\"></a>\n",
        "\n",
        "### Find the duration of dataset"
      ]
    },
    {
      "cell_type": "code",
      "execution_count": 14,
      "metadata": {
        "colab": {
          "base_uri": "https://localhost:8080/"
        },
        "execution": {
          "iopub.execute_input": "2021-08-16T08:12:25.464188Z",
          "iopub.status.busy": "2021-08-16T08:12:25.463845Z",
          "iopub.status.idle": "2021-08-16T08:12:25.478743Z",
          "shell.execute_reply": "2021-08-16T08:12:25.477735Z",
          "shell.execute_reply.started": "2021-08-16T08:12:25.464157Z"
        },
        "id": "VNiMjJtgalUy",
        "outputId": "f33cf89c-7c3d-467f-a655-ef65be583923",
        "trusted": true
      },
      "outputs": [
        {
          "output_type": "stream",
          "name": "stdout",
          "text": [
            "Starting date:  2015-01-02 00:00:00\n",
            "Ending date:  2022-12-20 00:00:00\n",
            "Duration:  2909 days 00:00:00\n"
          ]
        }
      ],
      "source": [
        "print(\"Starting date: \",maindf.iloc[0][0])\n",
        "print(\"Ending date: \", maindf.iloc[-1][0])\n",
        "print(\"Duration: \", maindf.iloc[-1][0]-maindf.iloc[0][0])"
      ]
    },
    {
      "cell_type": "markdown",
      "metadata": {
        "id": "cAEd0U_ddEsd"
      },
      "source": [
        "the data starts from 2015 until at the end of 2022 with the total in days is 2909 days."
      ]
    },
    {
      "cell_type": "markdown",
      "metadata": {
        "id": "xoo3pPw2alUy"
      },
      "source": [
        "<a name=\"oc\"></a>\n",
        "\n",
        "### Monthwise comparision between Stock open and close price"
      ]
    },
    {
      "cell_type": "code",
      "execution_count": 15,
      "metadata": {
        "colab": {
          "base_uri": "https://localhost:8080/",
          "height": 457
        },
        "execution": {
          "iopub.execute_input": "2021-08-16T08:12:25.480698Z",
          "iopub.status.busy": "2021-08-16T08:12:25.48029Z",
          "iopub.status.idle": "2021-08-16T08:12:25.515217Z",
          "shell.execute_reply": "2021-08-16T08:12:25.51412Z",
          "shell.execute_reply.started": "2021-08-16T08:12:25.480656Z"
        },
        "id": "6hNYFcfValUy",
        "outputId": "ea672ad1-0b31-43ec-d967-1d164d3a498c",
        "trusted": true
      },
      "outputs": [
        {
          "output_type": "execute_result",
          "data": {
            "text/plain": [
              "                  open        close\n",
              "date                               \n",
              "January    3467.645349  3463.139535\n",
              "February   3521.282051  3520.096154\n",
              "March      3479.450867  3464.566474\n",
              "April      3373.384146  3363.597561\n",
              "May        3146.078431  3142.450980\n",
              "June       3238.750000  3234.315476\n",
              "July       3288.484848  3287.393939\n",
              "August     3299.554354  3302.527614\n",
              "September  3264.845794  3263.655957\n",
              "October    3319.970588  3322.088235\n",
              "November   3512.572254  3516.416185\n",
              "December   3591.025641  3592.179487"
            ],
            "text/html": [
              "\n",
              "  <div id=\"df-fdff5434-1d35-470d-b33e-fb4a0ee2c019\">\n",
              "    <div class=\"colab-df-container\">\n",
              "      <div>\n",
              "<style scoped>\n",
              "    .dataframe tbody tr th:only-of-type {\n",
              "        vertical-align: middle;\n",
              "    }\n",
              "\n",
              "    .dataframe tbody tr th {\n",
              "        vertical-align: top;\n",
              "    }\n",
              "\n",
              "    .dataframe thead th {\n",
              "        text-align: right;\n",
              "    }\n",
              "</style>\n",
              "<table border=\"1\" class=\"dataframe\">\n",
              "  <thead>\n",
              "    <tr style=\"text-align: right;\">\n",
              "      <th></th>\n",
              "      <th>open</th>\n",
              "      <th>close</th>\n",
              "    </tr>\n",
              "    <tr>\n",
              "      <th>date</th>\n",
              "      <th></th>\n",
              "      <th></th>\n",
              "    </tr>\n",
              "  </thead>\n",
              "  <tbody>\n",
              "    <tr>\n",
              "      <th>January</th>\n",
              "      <td>3467.645349</td>\n",
              "      <td>3463.139535</td>\n",
              "    </tr>\n",
              "    <tr>\n",
              "      <th>February</th>\n",
              "      <td>3521.282051</td>\n",
              "      <td>3520.096154</td>\n",
              "    </tr>\n",
              "    <tr>\n",
              "      <th>March</th>\n",
              "      <td>3479.450867</td>\n",
              "      <td>3464.566474</td>\n",
              "    </tr>\n",
              "    <tr>\n",
              "      <th>April</th>\n",
              "      <td>3373.384146</td>\n",
              "      <td>3363.597561</td>\n",
              "    </tr>\n",
              "    <tr>\n",
              "      <th>May</th>\n",
              "      <td>3146.078431</td>\n",
              "      <td>3142.450980</td>\n",
              "    </tr>\n",
              "    <tr>\n",
              "      <th>June</th>\n",
              "      <td>3238.750000</td>\n",
              "      <td>3234.315476</td>\n",
              "    </tr>\n",
              "    <tr>\n",
              "      <th>July</th>\n",
              "      <td>3288.484848</td>\n",
              "      <td>3287.393939</td>\n",
              "    </tr>\n",
              "    <tr>\n",
              "      <th>August</th>\n",
              "      <td>3299.554354</td>\n",
              "      <td>3302.527614</td>\n",
              "    </tr>\n",
              "    <tr>\n",
              "      <th>September</th>\n",
              "      <td>3264.845794</td>\n",
              "      <td>3263.655957</td>\n",
              "    </tr>\n",
              "    <tr>\n",
              "      <th>October</th>\n",
              "      <td>3319.970588</td>\n",
              "      <td>3322.088235</td>\n",
              "    </tr>\n",
              "    <tr>\n",
              "      <th>November</th>\n",
              "      <td>3512.572254</td>\n",
              "      <td>3516.416185</td>\n",
              "    </tr>\n",
              "    <tr>\n",
              "      <th>December</th>\n",
              "      <td>3591.025641</td>\n",
              "      <td>3592.179487</td>\n",
              "    </tr>\n",
              "  </tbody>\n",
              "</table>\n",
              "</div>\n",
              "      <button class=\"colab-df-convert\" onclick=\"convertToInteractive('df-fdff5434-1d35-470d-b33e-fb4a0ee2c019')\"\n",
              "              title=\"Convert this dataframe to an interactive table.\"\n",
              "              style=\"display:none;\">\n",
              "        \n",
              "  <svg xmlns=\"http://www.w3.org/2000/svg\" height=\"24px\"viewBox=\"0 0 24 24\"\n",
              "       width=\"24px\">\n",
              "    <path d=\"M0 0h24v24H0V0z\" fill=\"none\"/>\n",
              "    <path d=\"M18.56 5.44l.94 2.06.94-2.06 2.06-.94-2.06-.94-.94-2.06-.94 2.06-2.06.94zm-11 1L8.5 8.5l.94-2.06 2.06-.94-2.06-.94L8.5 2.5l-.94 2.06-2.06.94zm10 10l.94 2.06.94-2.06 2.06-.94-2.06-.94-.94-2.06-.94 2.06-2.06.94z\"/><path d=\"M17.41 7.96l-1.37-1.37c-.4-.4-.92-.59-1.43-.59-.52 0-1.04.2-1.43.59L10.3 9.45l-7.72 7.72c-.78.78-.78 2.05 0 2.83L4 21.41c.39.39.9.59 1.41.59.51 0 1.02-.2 1.41-.59l7.78-7.78 2.81-2.81c.8-.78.8-2.07 0-2.86zM5.41 20L4 18.59l7.72-7.72 1.47 1.35L5.41 20z\"/>\n",
              "  </svg>\n",
              "      </button>\n",
              "      \n",
              "  <style>\n",
              "    .colab-df-container {\n",
              "      display:flex;\n",
              "      flex-wrap:wrap;\n",
              "      gap: 12px;\n",
              "    }\n",
              "\n",
              "    .colab-df-convert {\n",
              "      background-color: #E8F0FE;\n",
              "      border: none;\n",
              "      border-radius: 50%;\n",
              "      cursor: pointer;\n",
              "      display: none;\n",
              "      fill: #1967D2;\n",
              "      height: 32px;\n",
              "      padding: 0 0 0 0;\n",
              "      width: 32px;\n",
              "    }\n",
              "\n",
              "    .colab-df-convert:hover {\n",
              "      background-color: #E2EBFA;\n",
              "      box-shadow: 0px 1px 2px rgba(60, 64, 67, 0.3), 0px 1px 3px 1px rgba(60, 64, 67, 0.15);\n",
              "      fill: #174EA6;\n",
              "    }\n",
              "\n",
              "    [theme=dark] .colab-df-convert {\n",
              "      background-color: #3B4455;\n",
              "      fill: #D2E3FC;\n",
              "    }\n",
              "\n",
              "    [theme=dark] .colab-df-convert:hover {\n",
              "      background-color: #434B5C;\n",
              "      box-shadow: 0px 1px 3px 1px rgba(0, 0, 0, 0.15);\n",
              "      filter: drop-shadow(0px 1px 2px rgba(0, 0, 0, 0.3));\n",
              "      fill: #FFFFFF;\n",
              "    }\n",
              "  </style>\n",
              "\n",
              "      <script>\n",
              "        const buttonEl =\n",
              "          document.querySelector('#df-fdff5434-1d35-470d-b33e-fb4a0ee2c019 button.colab-df-convert');\n",
              "        buttonEl.style.display =\n",
              "          google.colab.kernel.accessAllowed ? 'block' : 'none';\n",
              "\n",
              "        async function convertToInteractive(key) {\n",
              "          const element = document.querySelector('#df-fdff5434-1d35-470d-b33e-fb4a0ee2c019');\n",
              "          const dataTable =\n",
              "            await google.colab.kernel.invokeFunction('convertToInteractive',\n",
              "                                                     [key], {});\n",
              "          if (!dataTable) return;\n",
              "\n",
              "          const docLinkHtml = 'Like what you see? Visit the ' +\n",
              "            '<a target=\"_blank\" href=https://colab.research.google.com/notebooks/data_table.ipynb>data table notebook</a>'\n",
              "            + ' to learn more about interactive tables.';\n",
              "          element.innerHTML = '';\n",
              "          dataTable['output_type'] = 'display_data';\n",
              "          await google.colab.output.renderOutput(dataTable, element);\n",
              "          const docLink = document.createElement('div');\n",
              "          docLink.innerHTML = docLinkHtml;\n",
              "          element.appendChild(docLink);\n",
              "        }\n",
              "      </script>\n",
              "    </div>\n",
              "  </div>\n",
              "  "
            ]
          },
          "metadata": {},
          "execution_count": 15
        }
      ],
      "source": [
        "monthvise= maindf.groupby(maindf['date'].dt.strftime('%B'))[['open','close']].mean()\n",
        "new_order = ['January', 'February', 'March', 'April', 'May', 'June', 'July', 'August', \n",
        "             'September', 'October', 'November', 'December']\n",
        "monthvise = monthvise.reindex(new_order, axis=0)\n",
        "monthvise"
      ]
    },
    {
      "cell_type": "markdown",
      "metadata": {
        "id": "fze0oASLc6c5"
      },
      "source": [
        "comparing the average price of open and close stock per month."
      ]
    },
    {
      "cell_type": "code",
      "execution_count": 16,
      "metadata": {
        "colab": {
          "base_uri": "https://localhost:8080/",
          "height": 542
        },
        "execution": {
          "iopub.execute_input": "2021-08-16T08:12:25.519194Z",
          "iopub.status.busy": "2021-08-16T08:12:25.518866Z",
          "iopub.status.idle": "2021-08-16T08:12:25.567213Z",
          "shell.execute_reply": "2021-08-16T08:12:25.566097Z",
          "shell.execute_reply.started": "2021-08-16T08:12:25.519156Z"
        },
        "id": "BE2-plWzalUy",
        "outputId": "0e87ebce-67bf-4e42-8bca-d5c48cad815b",
        "trusted": true
      },
      "outputs": [
        {
          "output_type": "display_data",
          "data": {
            "text/html": [
              "<html>\n",
              "<head><meta charset=\"utf-8\" /></head>\n",
              "<body>\n",
              "    <div>            <script src=\"https://cdnjs.cloudflare.com/ajax/libs/mathjax/2.7.5/MathJax.js?config=TeX-AMS-MML_SVG\"></script><script type=\"text/javascript\">if (window.MathJax) {MathJax.Hub.Config({SVG: {font: \"STIX-Web\"}});}</script>                <script type=\"text/javascript\">window.PlotlyConfig = {MathJaxConfig: 'local'};</script>\n",
              "        <script src=\"https://cdn.plot.ly/plotly-2.8.3.min.js\"></script>                <div id=\"d1f74b22-8970-48bf-86db-248092b9f3d0\" class=\"plotly-graph-div\" style=\"height:525px; width:100%;\"></div>            <script type=\"text/javascript\">                                    window.PLOTLYENV=window.PLOTLYENV || {};                                    if (document.getElementById(\"d1f74b22-8970-48bf-86db-248092b9f3d0\")) {                    Plotly.newPlot(                        \"d1f74b22-8970-48bf-86db-248092b9f3d0\",                        [{\"marker\":{\"color\":\"crimson\"},\"name\":\"Stock Open Price\",\"x\":[\"January\",\"February\",\"March\",\"April\",\"May\",\"June\",\"July\",\"August\",\"September\",\"October\",\"November\",\"December\"],\"y\":[3467.6453488372094,3521.2820512820513,3479.450867052023,3373.3841463414633,3146.078431372549,3238.75,3288.4848484848485,3299.554354319853,3264.8457936006434,3319.970588235294,3512.57225433526,3591.025641025641],\"type\":\"bar\"},{\"marker\":{\"color\":\"lightsalmon\"},\"name\":\"Stock Close Price\",\"x\":[\"January\",\"February\",\"March\",\"April\",\"May\",\"June\",\"July\",\"August\",\"September\",\"October\",\"November\",\"December\"],\"y\":[3463.139534883721,3520.096153846154,3464.566473988439,3363.5975609756097,3142.450980392157,3234.315476190476,3287.3939393939395,3302.5276137408086,3263.65595703125,3322.0882352941176,3516.416184971098,3592.1794871794873],\"type\":\"bar\"}],                        {\"template\":{\"data\":{\"bar\":[{\"error_x\":{\"color\":\"#2a3f5f\"},\"error_y\":{\"color\":\"#2a3f5f\"},\"marker\":{\"line\":{\"color\":\"#E5ECF6\",\"width\":0.5},\"pattern\":{\"fillmode\":\"overlay\",\"size\":10,\"solidity\":0.2}},\"type\":\"bar\"}],\"barpolar\":[{\"marker\":{\"line\":{\"color\":\"#E5ECF6\",\"width\":0.5},\"pattern\":{\"fillmode\":\"overlay\",\"size\":10,\"solidity\":0.2}},\"type\":\"barpolar\"}],\"carpet\":[{\"aaxis\":{\"endlinecolor\":\"#2a3f5f\",\"gridcolor\":\"white\",\"linecolor\":\"white\",\"minorgridcolor\":\"white\",\"startlinecolor\":\"#2a3f5f\"},\"baxis\":{\"endlinecolor\":\"#2a3f5f\",\"gridcolor\":\"white\",\"linecolor\":\"white\",\"minorgridcolor\":\"white\",\"startlinecolor\":\"#2a3f5f\"},\"type\":\"carpet\"}],\"choropleth\":[{\"colorbar\":{\"outlinewidth\":0,\"ticks\":\"\"},\"type\":\"choropleth\"}],\"contour\":[{\"colorbar\":{\"outlinewidth\":0,\"ticks\":\"\"},\"colorscale\":[[0.0,\"#0d0887\"],[0.1111111111111111,\"#46039f\"],[0.2222222222222222,\"#7201a8\"],[0.3333333333333333,\"#9c179e\"],[0.4444444444444444,\"#bd3786\"],[0.5555555555555556,\"#d8576b\"],[0.6666666666666666,\"#ed7953\"],[0.7777777777777778,\"#fb9f3a\"],[0.8888888888888888,\"#fdca26\"],[1.0,\"#f0f921\"]],\"type\":\"contour\"}],\"contourcarpet\":[{\"colorbar\":{\"outlinewidth\":0,\"ticks\":\"\"},\"type\":\"contourcarpet\"}],\"heatmap\":[{\"colorbar\":{\"outlinewidth\":0,\"ticks\":\"\"},\"colorscale\":[[0.0,\"#0d0887\"],[0.1111111111111111,\"#46039f\"],[0.2222222222222222,\"#7201a8\"],[0.3333333333333333,\"#9c179e\"],[0.4444444444444444,\"#bd3786\"],[0.5555555555555556,\"#d8576b\"],[0.6666666666666666,\"#ed7953\"],[0.7777777777777778,\"#fb9f3a\"],[0.8888888888888888,\"#fdca26\"],[1.0,\"#f0f921\"]],\"type\":\"heatmap\"}],\"heatmapgl\":[{\"colorbar\":{\"outlinewidth\":0,\"ticks\":\"\"},\"colorscale\":[[0.0,\"#0d0887\"],[0.1111111111111111,\"#46039f\"],[0.2222222222222222,\"#7201a8\"],[0.3333333333333333,\"#9c179e\"],[0.4444444444444444,\"#bd3786\"],[0.5555555555555556,\"#d8576b\"],[0.6666666666666666,\"#ed7953\"],[0.7777777777777778,\"#fb9f3a\"],[0.8888888888888888,\"#fdca26\"],[1.0,\"#f0f921\"]],\"type\":\"heatmapgl\"}],\"histogram\":[{\"marker\":{\"pattern\":{\"fillmode\":\"overlay\",\"size\":10,\"solidity\":0.2}},\"type\":\"histogram\"}],\"histogram2d\":[{\"colorbar\":{\"outlinewidth\":0,\"ticks\":\"\"},\"colorscale\":[[0.0,\"#0d0887\"],[0.1111111111111111,\"#46039f\"],[0.2222222222222222,\"#7201a8\"],[0.3333333333333333,\"#9c179e\"],[0.4444444444444444,\"#bd3786\"],[0.5555555555555556,\"#d8576b\"],[0.6666666666666666,\"#ed7953\"],[0.7777777777777778,\"#fb9f3a\"],[0.8888888888888888,\"#fdca26\"],[1.0,\"#f0f921\"]],\"type\":\"histogram2d\"}],\"histogram2dcontour\":[{\"colorbar\":{\"outlinewidth\":0,\"ticks\":\"\"},\"colorscale\":[[0.0,\"#0d0887\"],[0.1111111111111111,\"#46039f\"],[0.2222222222222222,\"#7201a8\"],[0.3333333333333333,\"#9c179e\"],[0.4444444444444444,\"#bd3786\"],[0.5555555555555556,\"#d8576b\"],[0.6666666666666666,\"#ed7953\"],[0.7777777777777778,\"#fb9f3a\"],[0.8888888888888888,\"#fdca26\"],[1.0,\"#f0f921\"]],\"type\":\"histogram2dcontour\"}],\"mesh3d\":[{\"colorbar\":{\"outlinewidth\":0,\"ticks\":\"\"},\"type\":\"mesh3d\"}],\"parcoords\":[{\"line\":{\"colorbar\":{\"outlinewidth\":0,\"ticks\":\"\"}},\"type\":\"parcoords\"}],\"pie\":[{\"automargin\":true,\"type\":\"pie\"}],\"scatter\":[{\"marker\":{\"colorbar\":{\"outlinewidth\":0,\"ticks\":\"\"}},\"type\":\"scatter\"}],\"scatter3d\":[{\"line\":{\"colorbar\":{\"outlinewidth\":0,\"ticks\":\"\"}},\"marker\":{\"colorbar\":{\"outlinewidth\":0,\"ticks\":\"\"}},\"type\":\"scatter3d\"}],\"scattercarpet\":[{\"marker\":{\"colorbar\":{\"outlinewidth\":0,\"ticks\":\"\"}},\"type\":\"scattercarpet\"}],\"scattergeo\":[{\"marker\":{\"colorbar\":{\"outlinewidth\":0,\"ticks\":\"\"}},\"type\":\"scattergeo\"}],\"scattergl\":[{\"marker\":{\"colorbar\":{\"outlinewidth\":0,\"ticks\":\"\"}},\"type\":\"scattergl\"}],\"scattermapbox\":[{\"marker\":{\"colorbar\":{\"outlinewidth\":0,\"ticks\":\"\"}},\"type\":\"scattermapbox\"}],\"scatterpolar\":[{\"marker\":{\"colorbar\":{\"outlinewidth\":0,\"ticks\":\"\"}},\"type\":\"scatterpolar\"}],\"scatterpolargl\":[{\"marker\":{\"colorbar\":{\"outlinewidth\":0,\"ticks\":\"\"}},\"type\":\"scatterpolargl\"}],\"scatterternary\":[{\"marker\":{\"colorbar\":{\"outlinewidth\":0,\"ticks\":\"\"}},\"type\":\"scatterternary\"}],\"surface\":[{\"colorbar\":{\"outlinewidth\":0,\"ticks\":\"\"},\"colorscale\":[[0.0,\"#0d0887\"],[0.1111111111111111,\"#46039f\"],[0.2222222222222222,\"#7201a8\"],[0.3333333333333333,\"#9c179e\"],[0.4444444444444444,\"#bd3786\"],[0.5555555555555556,\"#d8576b\"],[0.6666666666666666,\"#ed7953\"],[0.7777777777777778,\"#fb9f3a\"],[0.8888888888888888,\"#fdca26\"],[1.0,\"#f0f921\"]],\"type\":\"surface\"}],\"table\":[{\"cells\":{\"fill\":{\"color\":\"#EBF0F8\"},\"line\":{\"color\":\"white\"}},\"header\":{\"fill\":{\"color\":\"#C8D4E3\"},\"line\":{\"color\":\"white\"}},\"type\":\"table\"}]},\"layout\":{\"annotationdefaults\":{\"arrowcolor\":\"#2a3f5f\",\"arrowhead\":0,\"arrowwidth\":1},\"autotypenumbers\":\"strict\",\"coloraxis\":{\"colorbar\":{\"outlinewidth\":0,\"ticks\":\"\"}},\"colorscale\":{\"diverging\":[[0,\"#8e0152\"],[0.1,\"#c51b7d\"],[0.2,\"#de77ae\"],[0.3,\"#f1b6da\"],[0.4,\"#fde0ef\"],[0.5,\"#f7f7f7\"],[0.6,\"#e6f5d0\"],[0.7,\"#b8e186\"],[0.8,\"#7fbc41\"],[0.9,\"#4d9221\"],[1,\"#276419\"]],\"sequential\":[[0.0,\"#0d0887\"],[0.1111111111111111,\"#46039f\"],[0.2222222222222222,\"#7201a8\"],[0.3333333333333333,\"#9c179e\"],[0.4444444444444444,\"#bd3786\"],[0.5555555555555556,\"#d8576b\"],[0.6666666666666666,\"#ed7953\"],[0.7777777777777778,\"#fb9f3a\"],[0.8888888888888888,\"#fdca26\"],[1.0,\"#f0f921\"]],\"sequentialminus\":[[0.0,\"#0d0887\"],[0.1111111111111111,\"#46039f\"],[0.2222222222222222,\"#7201a8\"],[0.3333333333333333,\"#9c179e\"],[0.4444444444444444,\"#bd3786\"],[0.5555555555555556,\"#d8576b\"],[0.6666666666666666,\"#ed7953\"],[0.7777777777777778,\"#fb9f3a\"],[0.8888888888888888,\"#fdca26\"],[1.0,\"#f0f921\"]]},\"colorway\":[\"#636efa\",\"#EF553B\",\"#00cc96\",\"#ab63fa\",\"#FFA15A\",\"#19d3f3\",\"#FF6692\",\"#B6E880\",\"#FF97FF\",\"#FECB52\"],\"font\":{\"color\":\"#2a3f5f\"},\"geo\":{\"bgcolor\":\"white\",\"lakecolor\":\"white\",\"landcolor\":\"#E5ECF6\",\"showlakes\":true,\"showland\":true,\"subunitcolor\":\"white\"},\"hoverlabel\":{\"align\":\"left\"},\"hovermode\":\"closest\",\"mapbox\":{\"style\":\"light\"},\"paper_bgcolor\":\"white\",\"plot_bgcolor\":\"#E5ECF6\",\"polar\":{\"angularaxis\":{\"gridcolor\":\"white\",\"linecolor\":\"white\",\"ticks\":\"\"},\"bgcolor\":\"#E5ECF6\",\"radialaxis\":{\"gridcolor\":\"white\",\"linecolor\":\"white\",\"ticks\":\"\"}},\"scene\":{\"xaxis\":{\"backgroundcolor\":\"#E5ECF6\",\"gridcolor\":\"white\",\"gridwidth\":2,\"linecolor\":\"white\",\"showbackground\":true,\"ticks\":\"\",\"zerolinecolor\":\"white\"},\"yaxis\":{\"backgroundcolor\":\"#E5ECF6\",\"gridcolor\":\"white\",\"gridwidth\":2,\"linecolor\":\"white\",\"showbackground\":true,\"ticks\":\"\",\"zerolinecolor\":\"white\"},\"zaxis\":{\"backgroundcolor\":\"#E5ECF6\",\"gridcolor\":\"white\",\"gridwidth\":2,\"linecolor\":\"white\",\"showbackground\":true,\"ticks\":\"\",\"zerolinecolor\":\"white\"}},\"shapedefaults\":{\"line\":{\"color\":\"#2a3f5f\"}},\"ternary\":{\"aaxis\":{\"gridcolor\":\"white\",\"linecolor\":\"white\",\"ticks\":\"\"},\"baxis\":{\"gridcolor\":\"white\",\"linecolor\":\"white\",\"ticks\":\"\"},\"bgcolor\":\"#E5ECF6\",\"caxis\":{\"gridcolor\":\"white\",\"linecolor\":\"white\",\"ticks\":\"\"}},\"title\":{\"x\":0.05},\"xaxis\":{\"automargin\":true,\"gridcolor\":\"white\",\"linecolor\":\"white\",\"ticks\":\"\",\"title\":{\"standoff\":15},\"zerolinecolor\":\"white\",\"zerolinewidth\":2},\"yaxis\":{\"automargin\":true,\"gridcolor\":\"white\",\"linecolor\":\"white\",\"ticks\":\"\",\"title\":{\"standoff\":15},\"zerolinecolor\":\"white\",\"zerolinewidth\":2}}},\"xaxis\":{\"tickangle\":-45},\"barmode\":\"group\",\"title\":{\"text\":\"Monthwise comparision between Stock open and close price\"}},                        {\"responsive\": true}                    ).then(function(){\n",
              "                            \n",
              "var gd = document.getElementById('d1f74b22-8970-48bf-86db-248092b9f3d0');\n",
              "var x = new MutationObserver(function (mutations, observer) {{\n",
              "        var display = window.getComputedStyle(gd).display;\n",
              "        if (!display || display === 'none') {{\n",
              "            console.log([gd, 'removed!']);\n",
              "            Plotly.purge(gd);\n",
              "            observer.disconnect();\n",
              "        }}\n",
              "}});\n",
              "\n",
              "// Listen for the removal of the full notebook cells\n",
              "var notebookContainer = gd.closest('#notebook-container');\n",
              "if (notebookContainer) {{\n",
              "    x.observe(notebookContainer, {childList: true});\n",
              "}}\n",
              "\n",
              "// Listen for the clearing of the current output cell\n",
              "var outputEl = gd.closest('.output');\n",
              "if (outputEl) {{\n",
              "    x.observe(outputEl, {childList: true});\n",
              "}}\n",
              "\n",
              "                        })                };                            </script>        </div>\n",
              "</body>\n",
              "</html>"
            ]
          },
          "metadata": {}
        }
      ],
      "source": [
        "fig = go.Figure()\n",
        "\n",
        "fig.add_trace(go.Bar(\n",
        "    x=monthvise.index,\n",
        "    y=monthvise['open'],\n",
        "    name='Stock Open Price',\n",
        "    marker_color='crimson'\n",
        "))\n",
        "fig.add_trace(go.Bar(\n",
        "    x=monthvise.index,\n",
        "    y=monthvise['close'],\n",
        "    name='Stock Close Price',\n",
        "    marker_color='lightsalmon'\n",
        "))\n",
        "\n",
        "fig.update_layout(barmode='group', xaxis_tickangle=-45, \n",
        "                  title='Monthwise comparision between Stock open and close price')\n",
        "fig.show()"
      ]
    },
    {
      "cell_type": "markdown",
      "metadata": {
        "id": "UP3N3eh5_kBy"
      },
      "source": [
        "December has the highest average number of open and close stock price, meanwhile May has the least average number of the stock price."
      ]
    },
    {
      "cell_type": "markdown",
      "metadata": {
        "id": "i2sI_dzBalUz"
      },
      "source": [
        "<a name=\"hl\"></a>\n",
        "\n",
        "### Monthwise High and Low stock price "
      ]
    },
    {
      "cell_type": "code",
      "execution_count": 17,
      "metadata": {
        "colab": {
          "base_uri": "https://localhost:8080/",
          "height": 542
        },
        "execution": {
          "iopub.execute_input": "2021-08-16T08:12:25.570067Z",
          "iopub.status.busy": "2021-08-16T08:12:25.569615Z",
          "iopub.status.idle": "2021-08-16T08:12:25.631445Z",
          "shell.execute_reply": "2021-08-16T08:12:25.630216Z",
          "shell.execute_reply.started": "2021-08-16T08:12:25.570023Z"
        },
        "id": "K-W-PEKCalUz",
        "outputId": "8188dae3-a8ad-4519-af2b-bfb8b16fc8ad",
        "trusted": true
      },
      "outputs": [
        {
          "output_type": "display_data",
          "data": {
            "text/html": [
              "<html>\n",
              "<head><meta charset=\"utf-8\" /></head>\n",
              "<body>\n",
              "    <div>            <script src=\"https://cdnjs.cloudflare.com/ajax/libs/mathjax/2.7.5/MathJax.js?config=TeX-AMS-MML_SVG\"></script><script type=\"text/javascript\">if (window.MathJax) {MathJax.Hub.Config({SVG: {font: \"STIX-Web\"}});}</script>                <script type=\"text/javascript\">window.PlotlyConfig = {MathJaxConfig: 'local'};</script>\n",
              "        <script src=\"https://cdn.plot.ly/plotly-2.8.3.min.js\"></script>                <div id=\"c2f4792e-63f3-4a25-84dd-5786ccb0053a\" class=\"plotly-graph-div\" style=\"height:525px; width:100%;\"></div>            <script type=\"text/javascript\">                                    window.PLOTLYENV=window.PLOTLYENV || {};                                    if (document.getElementById(\"c2f4792e-63f3-4a25-84dd-5786ccb0053a\")) {                    Plotly.newPlot(                        \"c2f4792e-63f3-4a25-84dd-5786ccb0053a\",                        [{\"marker\":{\"color\":\"rgb(0, 153, 204)\"},\"name\":\"Stock high Price\",\"x\":[\"January\",\"February\",\"March\",\"April\",\"May\",\"June\",\"July\",\"August\",\"September\",\"October\",\"November\",\"December\"],\"y\":[4950.0,4870.0,4880.0,4980.0,4760.0,4600.0,4560.0,4510.0,4700.0,4680.0,4980.0,5025.0],\"type\":\"bar\"},{\"marker\":{\"color\":\"rgb(255, 128, 0)\"},\"name\":\"Stock low Price\",\"x\":[\"January\",\"February\",\"March\",\"April\",\"May\",\"June\",\"July\",\"August\",\"September\",\"October\",\"November\",\"December\"],\"y\":[2150.0,2085.0,2130.0,2010.0,1905.0,1980.0,1860.0,1805.0,1595.0,1710.0,2040.0,2085.0],\"type\":\"bar\"}],                        {\"template\":{\"data\":{\"bar\":[{\"error_x\":{\"color\":\"#2a3f5f\"},\"error_y\":{\"color\":\"#2a3f5f\"},\"marker\":{\"line\":{\"color\":\"#E5ECF6\",\"width\":0.5},\"pattern\":{\"fillmode\":\"overlay\",\"size\":10,\"solidity\":0.2}},\"type\":\"bar\"}],\"barpolar\":[{\"marker\":{\"line\":{\"color\":\"#E5ECF6\",\"width\":0.5},\"pattern\":{\"fillmode\":\"overlay\",\"size\":10,\"solidity\":0.2}},\"type\":\"barpolar\"}],\"carpet\":[{\"aaxis\":{\"endlinecolor\":\"#2a3f5f\",\"gridcolor\":\"white\",\"linecolor\":\"white\",\"minorgridcolor\":\"white\",\"startlinecolor\":\"#2a3f5f\"},\"baxis\":{\"endlinecolor\":\"#2a3f5f\",\"gridcolor\":\"white\",\"linecolor\":\"white\",\"minorgridcolor\":\"white\",\"startlinecolor\":\"#2a3f5f\"},\"type\":\"carpet\"}],\"choropleth\":[{\"colorbar\":{\"outlinewidth\":0,\"ticks\":\"\"},\"type\":\"choropleth\"}],\"contour\":[{\"colorbar\":{\"outlinewidth\":0,\"ticks\":\"\"},\"colorscale\":[[0.0,\"#0d0887\"],[0.1111111111111111,\"#46039f\"],[0.2222222222222222,\"#7201a8\"],[0.3333333333333333,\"#9c179e\"],[0.4444444444444444,\"#bd3786\"],[0.5555555555555556,\"#d8576b\"],[0.6666666666666666,\"#ed7953\"],[0.7777777777777778,\"#fb9f3a\"],[0.8888888888888888,\"#fdca26\"],[1.0,\"#f0f921\"]],\"type\":\"contour\"}],\"contourcarpet\":[{\"colorbar\":{\"outlinewidth\":0,\"ticks\":\"\"},\"type\":\"contourcarpet\"}],\"heatmap\":[{\"colorbar\":{\"outlinewidth\":0,\"ticks\":\"\"},\"colorscale\":[[0.0,\"#0d0887\"],[0.1111111111111111,\"#46039f\"],[0.2222222222222222,\"#7201a8\"],[0.3333333333333333,\"#9c179e\"],[0.4444444444444444,\"#bd3786\"],[0.5555555555555556,\"#d8576b\"],[0.6666666666666666,\"#ed7953\"],[0.7777777777777778,\"#fb9f3a\"],[0.8888888888888888,\"#fdca26\"],[1.0,\"#f0f921\"]],\"type\":\"heatmap\"}],\"heatmapgl\":[{\"colorbar\":{\"outlinewidth\":0,\"ticks\":\"\"},\"colorscale\":[[0.0,\"#0d0887\"],[0.1111111111111111,\"#46039f\"],[0.2222222222222222,\"#7201a8\"],[0.3333333333333333,\"#9c179e\"],[0.4444444444444444,\"#bd3786\"],[0.5555555555555556,\"#d8576b\"],[0.6666666666666666,\"#ed7953\"],[0.7777777777777778,\"#fb9f3a\"],[0.8888888888888888,\"#fdca26\"],[1.0,\"#f0f921\"]],\"type\":\"heatmapgl\"}],\"histogram\":[{\"marker\":{\"pattern\":{\"fillmode\":\"overlay\",\"size\":10,\"solidity\":0.2}},\"type\":\"histogram\"}],\"histogram2d\":[{\"colorbar\":{\"outlinewidth\":0,\"ticks\":\"\"},\"colorscale\":[[0.0,\"#0d0887\"],[0.1111111111111111,\"#46039f\"],[0.2222222222222222,\"#7201a8\"],[0.3333333333333333,\"#9c179e\"],[0.4444444444444444,\"#bd3786\"],[0.5555555555555556,\"#d8576b\"],[0.6666666666666666,\"#ed7953\"],[0.7777777777777778,\"#fb9f3a\"],[0.8888888888888888,\"#fdca26\"],[1.0,\"#f0f921\"]],\"type\":\"histogram2d\"}],\"histogram2dcontour\":[{\"colorbar\":{\"outlinewidth\":0,\"ticks\":\"\"},\"colorscale\":[[0.0,\"#0d0887\"],[0.1111111111111111,\"#46039f\"],[0.2222222222222222,\"#7201a8\"],[0.3333333333333333,\"#9c179e\"],[0.4444444444444444,\"#bd3786\"],[0.5555555555555556,\"#d8576b\"],[0.6666666666666666,\"#ed7953\"],[0.7777777777777778,\"#fb9f3a\"],[0.8888888888888888,\"#fdca26\"],[1.0,\"#f0f921\"]],\"type\":\"histogram2dcontour\"}],\"mesh3d\":[{\"colorbar\":{\"outlinewidth\":0,\"ticks\":\"\"},\"type\":\"mesh3d\"}],\"parcoords\":[{\"line\":{\"colorbar\":{\"outlinewidth\":0,\"ticks\":\"\"}},\"type\":\"parcoords\"}],\"pie\":[{\"automargin\":true,\"type\":\"pie\"}],\"scatter\":[{\"marker\":{\"colorbar\":{\"outlinewidth\":0,\"ticks\":\"\"}},\"type\":\"scatter\"}],\"scatter3d\":[{\"line\":{\"colorbar\":{\"outlinewidth\":0,\"ticks\":\"\"}},\"marker\":{\"colorbar\":{\"outlinewidth\":0,\"ticks\":\"\"}},\"type\":\"scatter3d\"}],\"scattercarpet\":[{\"marker\":{\"colorbar\":{\"outlinewidth\":0,\"ticks\":\"\"}},\"type\":\"scattercarpet\"}],\"scattergeo\":[{\"marker\":{\"colorbar\":{\"outlinewidth\":0,\"ticks\":\"\"}},\"type\":\"scattergeo\"}],\"scattergl\":[{\"marker\":{\"colorbar\":{\"outlinewidth\":0,\"ticks\":\"\"}},\"type\":\"scattergl\"}],\"scattermapbox\":[{\"marker\":{\"colorbar\":{\"outlinewidth\":0,\"ticks\":\"\"}},\"type\":\"scattermapbox\"}],\"scatterpolar\":[{\"marker\":{\"colorbar\":{\"outlinewidth\":0,\"ticks\":\"\"}},\"type\":\"scatterpolar\"}],\"scatterpolargl\":[{\"marker\":{\"colorbar\":{\"outlinewidth\":0,\"ticks\":\"\"}},\"type\":\"scatterpolargl\"}],\"scatterternary\":[{\"marker\":{\"colorbar\":{\"outlinewidth\":0,\"ticks\":\"\"}},\"type\":\"scatterternary\"}],\"surface\":[{\"colorbar\":{\"outlinewidth\":0,\"ticks\":\"\"},\"colorscale\":[[0.0,\"#0d0887\"],[0.1111111111111111,\"#46039f\"],[0.2222222222222222,\"#7201a8\"],[0.3333333333333333,\"#9c179e\"],[0.4444444444444444,\"#bd3786\"],[0.5555555555555556,\"#d8576b\"],[0.6666666666666666,\"#ed7953\"],[0.7777777777777778,\"#fb9f3a\"],[0.8888888888888888,\"#fdca26\"],[1.0,\"#f0f921\"]],\"type\":\"surface\"}],\"table\":[{\"cells\":{\"fill\":{\"color\":\"#EBF0F8\"},\"line\":{\"color\":\"white\"}},\"header\":{\"fill\":{\"color\":\"#C8D4E3\"},\"line\":{\"color\":\"white\"}},\"type\":\"table\"}]},\"layout\":{\"annotationdefaults\":{\"arrowcolor\":\"#2a3f5f\",\"arrowhead\":0,\"arrowwidth\":1},\"autotypenumbers\":\"strict\",\"coloraxis\":{\"colorbar\":{\"outlinewidth\":0,\"ticks\":\"\"}},\"colorscale\":{\"diverging\":[[0,\"#8e0152\"],[0.1,\"#c51b7d\"],[0.2,\"#de77ae\"],[0.3,\"#f1b6da\"],[0.4,\"#fde0ef\"],[0.5,\"#f7f7f7\"],[0.6,\"#e6f5d0\"],[0.7,\"#b8e186\"],[0.8,\"#7fbc41\"],[0.9,\"#4d9221\"],[1,\"#276419\"]],\"sequential\":[[0.0,\"#0d0887\"],[0.1111111111111111,\"#46039f\"],[0.2222222222222222,\"#7201a8\"],[0.3333333333333333,\"#9c179e\"],[0.4444444444444444,\"#bd3786\"],[0.5555555555555556,\"#d8576b\"],[0.6666666666666666,\"#ed7953\"],[0.7777777777777778,\"#fb9f3a\"],[0.8888888888888888,\"#fdca26\"],[1.0,\"#f0f921\"]],\"sequentialminus\":[[0.0,\"#0d0887\"],[0.1111111111111111,\"#46039f\"],[0.2222222222222222,\"#7201a8\"],[0.3333333333333333,\"#9c179e\"],[0.4444444444444444,\"#bd3786\"],[0.5555555555555556,\"#d8576b\"],[0.6666666666666666,\"#ed7953\"],[0.7777777777777778,\"#fb9f3a\"],[0.8888888888888888,\"#fdca26\"],[1.0,\"#f0f921\"]]},\"colorway\":[\"#636efa\",\"#EF553B\",\"#00cc96\",\"#ab63fa\",\"#FFA15A\",\"#19d3f3\",\"#FF6692\",\"#B6E880\",\"#FF97FF\",\"#FECB52\"],\"font\":{\"color\":\"#2a3f5f\"},\"geo\":{\"bgcolor\":\"white\",\"lakecolor\":\"white\",\"landcolor\":\"#E5ECF6\",\"showlakes\":true,\"showland\":true,\"subunitcolor\":\"white\"},\"hoverlabel\":{\"align\":\"left\"},\"hovermode\":\"closest\",\"mapbox\":{\"style\":\"light\"},\"paper_bgcolor\":\"white\",\"plot_bgcolor\":\"#E5ECF6\",\"polar\":{\"angularaxis\":{\"gridcolor\":\"white\",\"linecolor\":\"white\",\"ticks\":\"\"},\"bgcolor\":\"#E5ECF6\",\"radialaxis\":{\"gridcolor\":\"white\",\"linecolor\":\"white\",\"ticks\":\"\"}},\"scene\":{\"xaxis\":{\"backgroundcolor\":\"#E5ECF6\",\"gridcolor\":\"white\",\"gridwidth\":2,\"linecolor\":\"white\",\"showbackground\":true,\"ticks\":\"\",\"zerolinecolor\":\"white\"},\"yaxis\":{\"backgroundcolor\":\"#E5ECF6\",\"gridcolor\":\"white\",\"gridwidth\":2,\"linecolor\":\"white\",\"showbackground\":true,\"ticks\":\"\",\"zerolinecolor\":\"white\"},\"zaxis\":{\"backgroundcolor\":\"#E5ECF6\",\"gridcolor\":\"white\",\"gridwidth\":2,\"linecolor\":\"white\",\"showbackground\":true,\"ticks\":\"\",\"zerolinecolor\":\"white\"}},\"shapedefaults\":{\"line\":{\"color\":\"#2a3f5f\"}},\"ternary\":{\"aaxis\":{\"gridcolor\":\"white\",\"linecolor\":\"white\",\"ticks\":\"\"},\"baxis\":{\"gridcolor\":\"white\",\"linecolor\":\"white\",\"ticks\":\"\"},\"bgcolor\":\"#E5ECF6\",\"caxis\":{\"gridcolor\":\"white\",\"linecolor\":\"white\",\"ticks\":\"\"}},\"title\":{\"x\":0.05},\"xaxis\":{\"automargin\":true,\"gridcolor\":\"white\",\"linecolor\":\"white\",\"ticks\":\"\",\"title\":{\"standoff\":15},\"zerolinecolor\":\"white\",\"zerolinewidth\":2},\"yaxis\":{\"automargin\":true,\"gridcolor\":\"white\",\"linecolor\":\"white\",\"ticks\":\"\",\"title\":{\"standoff\":15},\"zerolinecolor\":\"white\",\"zerolinewidth\":2}}},\"barmode\":\"group\",\"title\":{\"text\":\" Monthwise High and Low stock price\"}},                        {\"responsive\": true}                    ).then(function(){\n",
              "                            \n",
              "var gd = document.getElementById('c2f4792e-63f3-4a25-84dd-5786ccb0053a');\n",
              "var x = new MutationObserver(function (mutations, observer) {{\n",
              "        var display = window.getComputedStyle(gd).display;\n",
              "        if (!display || display === 'none') {{\n",
              "            console.log([gd, 'removed!']);\n",
              "            Plotly.purge(gd);\n",
              "            observer.disconnect();\n",
              "        }}\n",
              "}});\n",
              "\n",
              "// Listen for the removal of the full notebook cells\n",
              "var notebookContainer = gd.closest('#notebook-container');\n",
              "if (notebookContainer) {{\n",
              "    x.observe(notebookContainer, {childList: true});\n",
              "}}\n",
              "\n",
              "// Listen for the clearing of the current output cell\n",
              "var outputEl = gd.closest('.output');\n",
              "if (outputEl) {{\n",
              "    x.observe(outputEl, {childList: true});\n",
              "}}\n",
              "\n",
              "                        })                };                            </script>        </div>\n",
              "</body>\n",
              "</html>"
            ]
          },
          "metadata": {}
        }
      ],
      "source": [
        "maindf.groupby(maindf['date'].dt.strftime('%B'))['low'].min()\n",
        "monthvise_high = maindf.groupby(maindf['date'].dt.strftime('%B'))['high'].max()\n",
        "monthvise_high = monthvise_high.reindex(new_order, axis=0)\n",
        "\n",
        "monthvise_low = maindf.groupby(maindf['date'].dt.strftime('%B'))['low'].min()\n",
        "monthvise_low = monthvise_low.reindex(new_order, axis=0)\n",
        "\n",
        "fig = go.Figure()\n",
        "fig.add_trace(go.Bar(\n",
        "    x=monthvise_high.index,\n",
        "    y=monthvise_high,\n",
        "    name='Stock high Price',\n",
        "    marker_color='rgb(0, 153, 204)'\n",
        "))\n",
        "fig.add_trace(go.Bar(\n",
        "    x=monthvise_low.index,\n",
        "    y=monthvise_low,\n",
        "    name='Stock low Price',\n",
        "    marker_color='rgb(255, 128, 0)'\n",
        "))\n",
        "\n",
        "fig.update_layout(barmode='group', \n",
        "                  title=' Monthwise High and Low stock price')\n",
        "fig.show()"
      ]
    },
    {
      "cell_type": "markdown",
      "metadata": {
        "id": "ejPkzdO6A6MX"
      },
      "source": [
        "if we take a look from the max and min value based on stock prices, April has the highest price which is 10.250, compared to other months. meanwhile, March has the lowest price which is 1.595 compared to other months."
      ]
    },
    {
      "cell_type": "markdown",
      "metadata": {
        "id": "pVzQdC0ealUz"
      },
      "source": [
        "<a name=\"trend\"></a>\n",
        "\n",
        "### Trend comparision between stock open price, close price, high price, low price"
      ]
    },
    {
      "cell_type": "code",
      "execution_count": 18,
      "metadata": {
        "colab": {
          "base_uri": "https://localhost:8080/",
          "height": 542
        },
        "execution": {
          "iopub.execute_input": "2021-08-16T08:12:25.633253Z",
          "iopub.status.busy": "2021-08-16T08:12:25.632924Z",
          "iopub.status.idle": "2021-08-16T08:12:26.136088Z",
          "shell.execute_reply": "2021-08-16T08:12:26.135373Z",
          "shell.execute_reply.started": "2021-08-16T08:12:25.633224Z"
        },
        "id": "eEffMoAAalUz",
        "outputId": "5a785323-ae1a-481f-adbe-da92cc27c993",
        "trusted": true
      },
      "outputs": [
        {
          "output_type": "display_data",
          "data": {
            "text/html": [
              "<html>\n",
              "<head><meta charset=\"utf-8\" /></head>\n",
              "<body>\n",
              "    <div>            <script src=\"https://cdnjs.cloudflare.com/ajax/libs/mathjax/2.7.5/MathJax.js?config=TeX-AMS-MML_SVG\"></script><script type=\"text/javascript\">if (window.MathJax) {MathJax.Hub.Config({SVG: {font: \"STIX-Web\"}});}</script>                <script type=\"text/javascript\">window.PlotlyConfig = {MathJaxConfig: 'local'};</script>\n",
              "        <script src=\"https://cdn.plot.ly/plotly-2.8.3.min.js\"></script>                <div id=\"a6b89082-08c1-40cc-b343-b6d4384d192b\" class=\"plotly-graph-div\" style=\"height:525px; width:100%;\"></div>            <script type=\"text/javascript\">                                    window.PLOTLYENV=window.PLOTLYENV || {};                                    if (document.getElementById(\"a6b89082-08c1-40cc-b343-b6d4384d192b\")) {                    Plotly.newPlot(                        \"a6b89082-08c1-40cc-b343-b6d4384d192b\",                        [{\"hovertemplate\":\"variable=open<br>Date=%{x}<br>Stock value=%{y}<extra></extra>\",\"legendgroup\":\"open\",\"line\":{\"color\":\"#636efa\",\"dash\":\"solid\"},\"marker\":{\"symbol\":\"circle\"},\"mode\":\"lines\",\"name\":\"Stock Open Price\",\"showlegend\":true,\"x\":[\"2015-01-02T00:00:00\",\"2015-01-05T00:00:00\",\"2015-01-06T00:00:00\",\"2015-01-07T00:00:00\",\"2015-01-08T00:00:00\",\"2015-01-09T00:00:00\",\"2015-01-12T00:00:00\",\"2015-01-13T00:00:00\",\"2015-01-14T00:00:00\",\"2015-01-15T00:00:00\",\"2015-01-16T00:00:00\",\"2015-01-19T00:00:00\",\"2015-01-20T00:00:00\",\"2015-01-21T00:00:00\",\"2015-01-22T00:00:00\",\"2015-01-23T00:00:00\",\"2015-01-26T00:00:00\",\"2015-01-27T00:00:00\",\"2015-01-28T00:00:00\",\"2015-01-29T00:00:00\",\"2015-01-30T00:00:00\",\"2015-02-02T00:00:00\",\"2015-02-03T00:00:00\",\"2015-02-04T00:00:00\",\"2015-02-05T00:00:00\",\"2015-02-06T00:00:00\",\"2015-02-09T00:00:00\",\"2015-02-10T00:00:00\",\"2015-02-11T00:00:00\",\"2015-02-12T00:00:00\",\"2015-02-13T00:00:00\",\"2015-02-16T00:00:00\",\"2015-02-17T00:00:00\",\"2015-02-18T00:00:00\",\"2015-02-20T00:00:00\",\"2015-02-23T00:00:00\",\"2015-02-24T00:00:00\",\"2015-02-25T00:00:00\",\"2015-02-26T00:00:00\",\"2015-02-27T00:00:00\",\"2015-03-02T00:00:00\",\"2015-03-03T00:00:00\",\"2015-03-04T00:00:00\",\"2015-03-05T00:00:00\",\"2015-03-06T00:00:00\",\"2015-03-09T00:00:00\",\"2015-03-10T00:00:00\",\"2015-03-11T00:00:00\",\"2015-03-12T00:00:00\",\"2015-03-13T00:00:00\",\"2015-03-16T00:00:00\",\"2015-03-17T00:00:00\",\"2015-03-18T00:00:00\",\"2015-03-19T00:00:00\",\"2015-03-20T00:00:00\",\"2015-03-23T00:00:00\",\"2015-03-24T00:00:00\",\"2015-03-25T00:00:00\",\"2015-03-26T00:00:00\",\"2015-03-27T00:00:00\",\"2015-03-30T00:00:00\",\"2015-03-31T00:00:00\",\"2015-04-01T00:00:00\",\"2015-04-02T00:00:00\",\"2015-04-06T00:00:00\",\"2015-04-07T00:00:00\",\"2015-04-08T00:00:00\",\"2015-04-09T00:00:00\",\"2015-04-10T00:00:00\",\"2015-04-13T00:00:00\",\"2015-04-14T00:00:00\",\"2015-04-15T00:00:00\",\"2015-04-16T00:00:00\",\"2015-04-17T00:00:00\",\"2015-04-20T00:00:00\",\"2015-04-21T00:00:00\",\"2015-04-22T00:00:00\",\"2015-04-23T00:00:00\",\"2015-04-24T00:00:00\",\"2015-04-27T00:00:00\",\"2015-04-28T00:00:00\",\"2015-04-29T00:00:00\",\"2015-04-30T00:00:00\",\"2015-05-04T00:00:00\",\"2015-05-05T00:00:00\",\"2015-05-06T00:00:00\",\"2015-05-07T00:00:00\",\"2015-05-08T00:00:00\",\"2015-05-11T00:00:00\",\"2015-05-12T00:00:00\",\"2015-05-13T00:00:00\",\"2015-05-15T00:00:00\",\"2015-05-18T00:00:00\",\"2015-05-19T00:00:00\",\"2015-05-20T00:00:00\",\"2015-05-21T00:00:00\",\"2015-05-22T00:00:00\",\"2015-05-25T00:00:00\",\"2015-05-26T00:00:00\",\"2015-05-27T00:00:00\",\"2015-05-28T00:00:00\",\"2015-05-29T00:00:00\",\"2015-06-01T00:00:00\",\"2015-06-03T00:00:00\",\"2015-06-04T00:00:00\",\"2015-06-05T00:00:00\",\"2015-06-08T00:00:00\",\"2015-06-09T00:00:00\",\"2015-06-10T00:00:00\",\"2015-06-11T00:00:00\",\"2015-06-12T00:00:00\",\"2015-06-15T00:00:00\",\"2015-06-16T00:00:00\",\"2015-06-17T00:00:00\",\"2015-06-18T00:00:00\",\"2015-06-19T00:00:00\",\"2015-06-22T00:00:00\",\"2015-06-23T00:00:00\",\"2015-06-24T00:00:00\",\"2015-06-25T00:00:00\",\"2015-06-26T00:00:00\",\"2015-06-29T00:00:00\",\"2015-06-30T00:00:00\",\"2015-07-01T00:00:00\",\"2015-07-02T00:00:00\",\"2015-07-03T00:00:00\",\"2015-07-06T00:00:00\",\"2015-07-07T00:00:00\",\"2015-07-08T00:00:00\",\"2015-07-09T00:00:00\",\"2015-07-10T00:00:00\",\"2015-07-13T00:00:00\",\"2015-07-14T00:00:00\",\"2015-07-15T00:00:00\",\"2015-07-22T00:00:00\",\"2015-07-23T00:00:00\",\"2015-07-24T00:00:00\",\"2015-07-27T00:00:00\",\"2015-07-28T00:00:00\",\"2015-07-29T00:00:00\",\"2015-07-30T00:00:00\",\"2015-07-31T00:00:00\",\"2015-08-03T00:00:00\",\"2015-08-04T00:00:00\",\"2015-08-05T00:00:00\",\"2015-08-06T00:00:00\",\"2015-08-07T00:00:00\",\"2015-08-10T00:00:00\",\"2015-08-11T00:00:00\",\"2015-08-12T00:00:00\",\"2015-08-13T00:00:00\",\"2015-08-14T00:00:00\",\"2015-08-18T00:00:00\",\"2015-08-19T00:00:00\",\"2015-08-20T00:00:00\",\"2015-08-21T00:00:00\",\"2015-08-24T00:00:00\",\"2015-08-25T00:00:00\",\"2015-08-26T00:00:00\",\"2015-08-27T00:00:00\",\"2015-08-28T00:00:00\",\"2015-08-31T00:00:00\",\"2015-09-01T00:00:00\",\"2015-09-02T00:00:00\",\"2015-09-03T00:00:00\",\"2015-09-04T00:00:00\",\"2015-09-07T00:00:00\",\"2015-09-08T00:00:00\",\"2015-09-09T00:00:00\",\"2015-09-10T00:00:00\",\"2015-09-11T00:00:00\",\"2015-09-14T00:00:00\",\"2015-09-15T00:00:00\",\"2015-09-16T00:00:00\",\"2015-09-17T00:00:00\",\"2015-09-18T00:00:00\",\"2015-09-21T00:00:00\",\"2015-09-22T00:00:00\",\"2015-09-23T00:00:00\",\"2015-09-25T00:00:00\",\"2015-09-28T00:00:00\",\"2015-09-29T00:00:00\",\"2015-09-30T00:00:00\",\"2015-10-01T00:00:00\",\"2015-10-02T00:00:00\",\"2015-10-05T00:00:00\",\"2015-10-06T00:00:00\",\"2015-10-07T00:00:00\",\"2015-10-08T00:00:00\",\"2015-10-09T00:00:00\",\"2015-10-12T00:00:00\",\"2015-10-13T00:00:00\",\"2015-10-15T00:00:00\",\"2015-10-16T00:00:00\",\"2015-10-19T00:00:00\",\"2015-10-20T00:00:00\",\"2015-10-21T00:00:00\",\"2015-10-22T00:00:00\",\"2015-10-23T00:00:00\",\"2015-10-26T00:00:00\",\"2015-10-27T00:00:00\",\"2015-10-28T00:00:00\",\"2015-10-29T00:00:00\",\"2015-10-30T00:00:00\",\"2015-11-02T00:00:00\",\"2015-11-03T00:00:00\",\"2015-11-04T00:00:00\",\"2015-11-05T00:00:00\",\"2015-11-06T00:00:00\",\"2015-11-09T00:00:00\",\"2015-11-10T00:00:00\",\"2015-11-11T00:00:00\",\"2015-11-12T00:00:00\",\"2015-11-13T00:00:00\",\"2015-11-16T00:00:00\",\"2015-11-17T00:00:00\",\"2015-11-18T00:00:00\",\"2015-11-19T00:00:00\",\"2015-11-20T00:00:00\",\"2015-11-23T00:00:00\",\"2015-11-24T00:00:00\",\"2015-11-25T00:00:00\",\"2015-11-26T00:00:00\",\"2015-11-27T00:00:00\",\"2015-11-30T00:00:00\",\"2015-12-01T00:00:00\",\"2015-12-02T00:00:00\",\"2015-12-03T00:00:00\",\"2015-12-04T00:00:00\",\"2015-12-07T00:00:00\",\"2015-12-08T00:00:00\",\"2015-12-09T00:00:00\",\"2015-12-10T00:00:00\",\"2015-12-11T00:00:00\",\"2015-12-14T00:00:00\",\"2015-12-15T00:00:00\",\"2015-12-16T00:00:00\",\"2015-12-17T00:00:00\",\"2015-12-18T00:00:00\",\"2015-12-21T00:00:00\",\"2015-12-22T00:00:00\",\"2015-12-23T00:00:00\",\"2015-12-28T00:00:00\",\"2015-12-29T00:00:00\",\"2015-12-30T00:00:00\",\"2016-01-04T00:00:00\",\"2016-01-05T00:00:00\",\"2016-01-06T00:00:00\",\"2016-01-07T00:00:00\",\"2016-01-08T00:00:00\",\"2016-01-11T00:00:00\",\"2016-01-12T00:00:00\",\"2016-01-13T00:00:00\",\"2016-01-14T00:00:00\",\"2016-01-15T00:00:00\",\"2016-01-18T00:00:00\",\"2016-01-19T00:00:00\",\"2016-01-20T00:00:00\",\"2016-01-21T00:00:00\",\"2016-01-22T00:00:00\",\"2016-01-25T00:00:00\",\"2016-01-26T00:00:00\",\"2016-01-27T00:00:00\",\"2016-01-28T00:00:00\",\"2016-01-29T00:00:00\",\"2016-02-01T00:00:00\",\"2016-02-02T00:00:00\",\"2016-02-03T00:00:00\",\"2016-02-04T00:00:00\",\"2016-02-05T00:00:00\",\"2016-02-09T00:00:00\",\"2016-02-10T00:00:00\",\"2016-02-11T00:00:00\",\"2016-02-12T00:00:00\",\"2016-02-15T00:00:00\",\"2016-02-16T00:00:00\",\"2016-02-17T00:00:00\",\"2016-02-18T00:00:00\",\"2016-02-19T00:00:00\",\"2016-02-22T00:00:00\",\"2016-02-23T00:00:00\",\"2016-02-24T00:00:00\",\"2016-02-25T00:00:00\",\"2016-02-26T00:00:00\",\"2016-02-29T00:00:00\",\"2016-03-01T00:00:00\",\"2016-03-02T00:00:00\",\"2016-03-03T00:00:00\",\"2016-03-04T00:00:00\",\"2016-03-07T00:00:00\",\"2016-03-08T00:00:00\",\"2016-03-10T00:00:00\",\"2016-03-11T00:00:00\",\"2016-03-14T00:00:00\",\"2016-03-15T00:00:00\",\"2016-03-16T00:00:00\",\"2016-03-17T00:00:00\",\"2016-03-18T00:00:00\",\"2016-03-21T00:00:00\",\"2016-03-22T00:00:00\",\"2016-03-23T00:00:00\",\"2016-03-24T00:00:00\",\"2016-03-28T00:00:00\",\"2016-03-29T00:00:00\",\"2016-03-30T00:00:00\",\"2016-03-31T00:00:00\",\"2016-04-01T00:00:00\",\"2016-04-04T00:00:00\",\"2016-04-05T00:00:00\",\"2016-04-06T00:00:00\",\"2016-04-07T00:00:00\",\"2016-04-08T00:00:00\",\"2016-04-11T00:00:00\",\"2016-04-12T00:00:00\",\"2016-04-13T00:00:00\",\"2016-04-14T00:00:00\",\"2016-04-15T00:00:00\",\"2016-04-18T00:00:00\",\"2016-04-19T00:00:00\",\"2016-04-20T00:00:00\",\"2016-04-21T00:00:00\",\"2016-04-22T00:00:00\",\"2016-04-25T00:00:00\",\"2016-04-26T00:00:00\",\"2016-04-27T00:00:00\",\"2016-04-28T00:00:00\",\"2016-04-29T00:00:00\",\"2016-05-02T00:00:00\",\"2016-05-03T00:00:00\",\"2016-05-04T00:00:00\",\"2016-05-09T00:00:00\",\"2016-05-10T00:00:00\",\"2016-05-11T00:00:00\",\"2016-05-12T00:00:00\",\"2016-05-13T00:00:00\",\"2016-05-16T00:00:00\",\"2016-05-17T00:00:00\",\"2016-05-18T00:00:00\",\"2016-05-19T00:00:00\",\"2016-05-20T00:00:00\",\"2016-05-23T00:00:00\",\"2016-05-24T00:00:00\",\"2016-05-25T00:00:00\",\"2016-05-26T00:00:00\",\"2016-05-27T00:00:00\",\"2016-05-30T00:00:00\",\"2016-05-31T00:00:00\",\"2016-06-01T00:00:00\",\"2016-06-02T00:00:00\",\"2016-06-03T00:00:00\",\"2016-06-06T00:00:00\",\"2016-06-07T00:00:00\",\"2016-06-08T00:00:00\",\"2016-06-09T00:00:00\",\"2016-06-10T00:00:00\",\"2016-06-13T00:00:00\",\"2016-06-14T00:00:00\",\"2016-06-15T00:00:00\",\"2016-06-16T00:00:00\",\"2016-06-17T00:00:00\",\"2016-06-20T00:00:00\",\"2016-06-21T00:00:00\",\"2016-06-22T00:00:00\",\"2016-06-23T00:00:00\",\"2016-06-24T00:00:00\",\"2016-06-27T00:00:00\",\"2016-06-28T00:00:00\",\"2016-06-29T00:00:00\",\"2016-06-30T00:00:00\",\"2016-07-01T00:00:00\",\"2016-07-11T00:00:00\",\"2016-07-12T00:00:00\",\"2016-07-13T00:00:00\",\"2016-07-14T00:00:00\",\"2016-07-15T00:00:00\",\"2016-07-18T00:00:00\",\"2016-07-19T00:00:00\",\"2016-07-20T00:00:00\",\"2016-07-21T00:00:00\",\"2016-07-22T00:00:00\",\"2016-07-25T00:00:00\",\"2016-07-26T00:00:00\",\"2016-07-27T00:00:00\",\"2016-07-28T00:00:00\",\"2016-07-29T00:00:00\",\"2016-08-01T00:00:00\",\"2016-08-02T00:00:00\",\"2016-08-03T00:00:00\",\"2016-08-04T00:00:00\",\"2016-08-05T00:00:00\",\"2016-08-08T00:00:00\",\"2016-08-09T00:00:00\",\"2016-08-10T00:00:00\",\"2016-08-11T00:00:00\",\"2016-08-12T00:00:00\",\"2016-08-15T00:00:00\",\"2016-08-16T00:00:00\",\"2016-08-18T00:00:00\",\"2016-08-19T00:00:00\",\"2016-08-22T00:00:00\",\"2016-08-23T00:00:00\",\"2016-08-24T00:00:00\",\"2016-08-25T00:00:00\",\"2016-08-26T00:00:00\",\"2016-08-29T00:00:00\",\"2016-08-30T00:00:00\",\"2016-08-31T00:00:00\",\"2016-09-01T00:00:00\",\"2016-09-02T00:00:00\",\"2016-09-05T00:00:00\",\"2016-09-06T00:00:00\",\"2016-09-07T00:00:00\",\"2016-09-08T00:00:00\",\"2016-09-09T00:00:00\",\"2016-09-13T00:00:00\",\"2016-09-14T00:00:00\",\"2016-09-15T00:00:00\",\"2016-09-16T00:00:00\",\"2016-09-19T00:00:00\",\"2016-09-20T00:00:00\",\"2016-09-21T00:00:00\",\"2016-09-22T00:00:00\",\"2016-09-23T00:00:00\",\"2016-09-26T00:00:00\",\"2016-09-27T00:00:00\",\"2016-09-28T00:00:00\",\"2016-09-29T00:00:00\",\"2016-09-30T00:00:00\",\"2016-10-03T00:00:00\",\"2016-10-04T00:00:00\",\"2016-10-05T00:00:00\",\"2016-10-06T00:00:00\",\"2016-10-07T00:00:00\",\"2016-10-10T00:00:00\",\"2016-10-11T00:00:00\",\"2016-10-12T00:00:00\",\"2016-10-13T00:00:00\",\"2016-10-14T00:00:00\",\"2016-10-17T00:00:00\",\"2016-10-18T00:00:00\",\"2016-10-19T00:00:00\",\"2016-10-20T00:00:00\",\"2016-10-21T00:00:00\",\"2016-10-24T00:00:00\",\"2016-10-25T00:00:00\",\"2016-10-26T00:00:00\",\"2016-10-27T00:00:00\",\"2016-10-28T00:00:00\",\"2016-10-31T00:00:00\",\"2016-11-01T00:00:00\",\"2016-11-02T00:00:00\",\"2016-11-03T00:00:00\",\"2016-11-04T00:00:00\",\"2016-11-07T00:00:00\",\"2016-11-08T00:00:00\",\"2016-11-09T00:00:00\",\"2016-11-10T00:00:00\",\"2016-11-11T00:00:00\",\"2016-11-14T00:00:00\",\"2016-11-15T00:00:00\",\"2016-11-16T00:00:00\",\"2016-11-17T00:00:00\",\"2016-11-18T00:00:00\",\"2016-11-21T00:00:00\",\"2016-11-22T00:00:00\",\"2016-11-23T00:00:00\",\"2016-11-24T00:00:00\",\"2016-11-25T00:00:00\",\"2016-11-28T00:00:00\",\"2016-11-29T00:00:00\",\"2016-11-30T00:00:00\",\"2016-12-01T00:00:00\",\"2016-12-02T00:00:00\",\"2016-12-05T00:00:00\",\"2016-12-06T00:00:00\",\"2016-12-07T00:00:00\",\"2016-12-08T00:00:00\",\"2016-12-09T00:00:00\",\"2016-12-13T00:00:00\",\"2016-12-14T00:00:00\",\"2016-12-15T00:00:00\",\"2016-12-16T00:00:00\",\"2016-12-19T00:00:00\",\"2016-12-20T00:00:00\",\"2016-12-21T00:00:00\",\"2016-12-22T00:00:00\",\"2016-12-23T00:00:00\",\"2016-12-27T00:00:00\",\"2016-12-28T00:00:00\",\"2016-12-29T00:00:00\",\"2016-12-30T00:00:00\",\"2017-01-02T00:00:00\",\"2017-01-03T00:00:00\",\"2017-01-04T00:00:00\",\"2017-01-05T00:00:00\",\"2017-01-06T00:00:00\",\"2017-01-09T00:00:00\",\"2017-01-10T00:00:00\",\"2017-01-11T00:00:00\",\"2017-01-12T00:00:00\",\"2017-01-13T00:00:00\",\"2017-01-16T00:00:00\",\"2017-01-17T00:00:00\",\"2017-01-18T00:00:00\",\"2017-01-19T00:00:00\",\"2017-01-20T00:00:00\",\"2017-01-23T00:00:00\",\"2017-01-24T00:00:00\",\"2017-01-25T00:00:00\",\"2017-01-26T00:00:00\",\"2017-01-27T00:00:00\",\"2017-01-30T00:00:00\",\"2017-01-31T00:00:00\",\"2017-02-01T00:00:00\",\"2017-02-02T00:00:00\",\"2017-02-03T00:00:00\",\"2017-02-06T00:00:00\",\"2017-02-07T00:00:00\",\"2017-02-08T00:00:00\",\"2017-02-09T00:00:00\",\"2017-02-10T00:00:00\",\"2017-02-13T00:00:00\",\"2017-02-14T00:00:00\",\"2017-02-15T00:00:00\",\"2017-02-16T00:00:00\",\"2017-02-17T00:00:00\",\"2017-02-20T00:00:00\",\"2017-02-21T00:00:00\",\"2017-02-22T00:00:00\",\"2017-02-23T00:00:00\",\"2017-02-24T00:00:00\",\"2017-02-27T00:00:00\",\"2017-02-28T00:00:00\",\"2017-03-01T00:00:00\",\"2017-03-02T00:00:00\",\"2017-03-03T00:00:00\",\"2017-03-06T00:00:00\",\"2017-03-07T00:00:00\",\"2017-03-08T00:00:00\",\"2017-03-09T00:00:00\",\"2017-03-10T00:00:00\",\"2017-03-13T00:00:00\",\"2017-03-14T00:00:00\",\"2017-03-15T00:00:00\",\"2017-03-16T00:00:00\",\"2017-03-17T00:00:00\",\"2017-03-20T00:00:00\",\"2017-03-21T00:00:00\",\"2017-03-22T00:00:00\",\"2017-03-23T00:00:00\",\"2017-03-24T00:00:00\",\"2017-03-27T00:00:00\",\"2017-03-29T00:00:00\",\"2017-03-30T00:00:00\",\"2017-03-31T00:00:00\",\"2017-04-03T00:00:00\",\"2017-04-04T00:00:00\",\"2017-04-05T00:00:00\",\"2017-04-06T00:00:00\",\"2017-04-07T00:00:00\",\"2017-04-10T00:00:00\",\"2017-04-11T00:00:00\",\"2017-04-12T00:00:00\",\"2017-04-13T00:00:00\",\"2017-04-17T00:00:00\",\"2017-04-18T00:00:00\",\"2017-04-19T00:00:00\",\"2017-04-20T00:00:00\",\"2017-04-21T00:00:00\",\"2017-04-25T00:00:00\",\"2017-04-26T00:00:00\",\"2017-04-27T00:00:00\",\"2017-04-28T00:00:00\",\"2017-05-02T00:00:00\",\"2017-05-03T00:00:00\",\"2017-05-04T00:00:00\",\"2017-05-05T00:00:00\",\"2017-05-08T00:00:00\",\"2017-05-09T00:00:00\",\"2017-05-10T00:00:00\",\"2017-05-12T00:00:00\",\"2017-05-15T00:00:00\",\"2017-05-16T00:00:00\",\"2017-05-17T00:00:00\",\"2017-05-18T00:00:00\",\"2017-05-19T00:00:00\",\"2017-05-22T00:00:00\",\"2017-05-23T00:00:00\",\"2017-05-24T00:00:00\",\"2017-05-26T00:00:00\",\"2017-05-29T00:00:00\",\"2017-05-30T00:00:00\",\"2017-05-31T00:00:00\",\"2017-06-01T00:00:00\",\"2017-06-02T00:00:00\",\"2017-06-05T00:00:00\",\"2017-06-06T00:00:00\",\"2017-06-07T00:00:00\",\"2017-06-08T00:00:00\",\"2017-06-09T00:00:00\",\"2017-06-12T00:00:00\",\"2017-06-13T00:00:00\",\"2017-06-14T00:00:00\",\"2017-06-15T00:00:00\",\"2017-06-16T00:00:00\",\"2017-06-19T00:00:00\",\"2017-06-20T00:00:00\",\"2017-06-21T00:00:00\",\"2017-06-22T00:00:00\",\"2017-06-23T00:00:00\",\"2017-06-26T00:00:00\",\"2017-06-27T00:00:00\",\"2017-06-28T00:00:00\",\"2017-06-29T00:00:00\",\"2017-06-30T00:00:00\",\"2017-07-03T00:00:00\",\"2017-07-04T00:00:00\",\"2017-07-05T00:00:00\",\"2017-07-06T00:00:00\",\"2017-07-07T00:00:00\",\"2017-07-10T00:00:00\",\"2017-07-11T00:00:00\",\"2017-07-12T00:00:00\",\"2017-07-13T00:00:00\",\"2017-07-14T00:00:00\",\"2017-07-17T00:00:00\",\"2017-07-18T00:00:00\",\"2017-07-19T00:00:00\",\"2017-07-20T00:00:00\",\"2017-07-21T00:00:00\",\"2017-07-24T00:00:00\",\"2017-07-25T00:00:00\",\"2017-07-26T00:00:00\",\"2017-07-27T00:00:00\",\"2017-07-28T00:00:00\",\"2017-07-31T00:00:00\",\"2017-08-01T00:00:00\",\"2017-08-02T00:00:00\",\"2017-08-03T00:00:00\",\"2017-08-04T00:00:00\",\"2017-08-07T00:00:00\",\"2017-08-08T00:00:00\",\"2017-08-09T00:00:00\",\"2017-08-10T00:00:00\",\"2017-08-11T00:00:00\",\"2017-08-14T00:00:00\",\"2017-08-15T00:00:00\",\"2017-08-16T00:00:00\",\"2017-08-17T00:00:00\",\"2017-08-18T00:00:00\",\"2017-08-21T00:00:00\",\"2017-08-22T00:00:00\",\"2017-08-23T00:00:00\",\"2017-08-24T00:00:00\",\"2017-08-25T00:00:00\",\"2017-08-28T00:00:00\",\"2017-08-29T00:00:00\",\"2017-08-30T00:00:00\",\"2017-08-31T00:00:00\",\"2017-09-01T00:00:00\",\"2017-09-04T00:00:00\",\"2017-09-05T00:00:00\",\"2017-09-06T00:00:00\",\"2017-09-07T00:00:00\",\"2017-09-08T00:00:00\",\"2017-09-11T00:00:00\",\"2017-09-12T00:00:00\",\"2017-09-13T00:00:00\",\"2017-09-14T00:00:00\",\"2017-09-15T00:00:00\",\"2017-09-18T00:00:00\",\"2017-09-19T00:00:00\",\"2017-09-20T00:00:00\",\"2017-09-21T00:00:00\",\"2017-09-22T00:00:00\",\"2017-09-25T00:00:00\",\"2017-09-26T00:00:00\",\"2017-09-27T00:00:00\",\"2017-09-28T00:00:00\",\"2017-09-29T00:00:00\",\"2017-10-02T00:00:00\",\"2017-10-03T00:00:00\",\"2017-10-04T00:00:00\",\"2017-10-05T00:00:00\",\"2017-10-06T00:00:00\",\"2017-10-09T00:00:00\",\"2017-10-10T00:00:00\",\"2017-10-11T00:00:00\",\"2017-10-12T00:00:00\",\"2017-10-13T00:00:00\",\"2017-10-16T00:00:00\",\"2017-10-17T00:00:00\",\"2017-10-18T00:00:00\",\"2017-10-19T00:00:00\",\"2017-10-20T00:00:00\",\"2017-10-23T00:00:00\",\"2017-10-24T00:00:00\",\"2017-10-25T00:00:00\",\"2017-10-26T00:00:00\",\"2017-10-27T00:00:00\",\"2017-10-30T00:00:00\",\"2017-10-31T00:00:00\",\"2017-11-01T00:00:00\",\"2017-11-02T00:00:00\",\"2017-11-03T00:00:00\",\"2017-11-06T00:00:00\",\"2017-11-07T00:00:00\",\"2017-11-08T00:00:00\",\"2017-11-09T00:00:00\",\"2017-11-10T00:00:00\",\"2017-11-13T00:00:00\",\"2017-11-14T00:00:00\",\"2017-11-15T00:00:00\",\"2017-11-16T00:00:00\",\"2017-11-17T00:00:00\",\"2017-11-20T00:00:00\",\"2017-11-21T00:00:00\",\"2017-11-22T00:00:00\",\"2017-11-23T00:00:00\",\"2017-11-24T00:00:00\",\"2017-11-27T00:00:00\",\"2017-11-28T00:00:00\",\"2017-11-29T00:00:00\",\"2017-11-30T00:00:00\",\"2017-12-01T00:00:00\",\"2017-12-04T00:00:00\",\"2017-12-05T00:00:00\",\"2017-12-06T00:00:00\",\"2017-12-07T00:00:00\",\"2017-12-08T00:00:00\",\"2017-12-11T00:00:00\",\"2017-12-12T00:00:00\",\"2017-12-13T00:00:00\",\"2017-12-14T00:00:00\",\"2017-12-15T00:00:00\",\"2017-12-18T00:00:00\",\"2017-12-19T00:00:00\",\"2017-12-20T00:00:00\",\"2017-12-21T00:00:00\",\"2017-12-22T00:00:00\",\"2017-12-25T00:00:00\",\"2017-12-26T00:00:00\",\"2017-12-27T00:00:00\",\"2017-12-28T00:00:00\",\"2017-12-29T00:00:00\",\"2018-01-01T00:00:00\",\"2018-01-02T00:00:00\",\"2018-01-03T00:00:00\",\"2018-01-04T00:00:00\",\"2018-01-05T00:00:00\",\"2018-01-08T00:00:00\",\"2018-01-09T00:00:00\",\"2018-01-10T00:00:00\",\"2018-01-11T00:00:00\",\"2018-01-12T00:00:00\",\"2018-01-15T00:00:00\",\"2018-01-16T00:00:00\",\"2018-01-17T00:00:00\",\"2018-01-18T00:00:00\",\"2018-01-19T00:00:00\",\"2018-01-22T00:00:00\",\"2018-01-23T00:00:00\",\"2018-01-24T00:00:00\",\"2018-01-25T00:00:00\",\"2018-01-26T00:00:00\",\"2018-01-29T00:00:00\",\"2018-01-30T00:00:00\",\"2018-01-31T00:00:00\",\"2018-02-01T00:00:00\",\"2018-02-02T00:00:00\",\"2018-02-05T00:00:00\",\"2018-02-06T00:00:00\",\"2018-02-07T00:00:00\",\"2018-02-08T00:00:00\",\"2018-02-09T00:00:00\",\"2018-02-12T00:00:00\",\"2018-02-13T00:00:00\",\"2018-02-14T00:00:00\",\"2018-02-15T00:00:00\",\"2018-02-16T00:00:00\",\"2018-02-19T00:00:00\",\"2018-02-20T00:00:00\",\"2018-02-21T00:00:00\",\"2018-02-22T00:00:00\",\"2018-02-23T00:00:00\",\"2018-02-26T00:00:00\",\"2018-02-27T00:00:00\",\"2018-02-28T00:00:00\",\"2018-03-01T00:00:00\",\"2018-03-02T00:00:00\",\"2018-03-05T00:00:00\",\"2018-03-06T00:00:00\",\"2018-03-07T00:00:00\",\"2018-03-08T00:00:00\",\"2018-03-09T00:00:00\",\"2018-03-12T00:00:00\",\"2018-03-13T00:00:00\",\"2018-03-14T00:00:00\",\"2018-03-15T00:00:00\",\"2018-03-16T00:00:00\",\"2018-03-19T00:00:00\",\"2018-03-20T00:00:00\",\"2018-03-21T00:00:00\",\"2018-03-22T00:00:00\",\"2018-03-23T00:00:00\",\"2018-03-26T00:00:00\",\"2018-03-27T00:00:00\",\"2018-03-28T00:00:00\",\"2018-03-29T00:00:00\",\"2018-03-30T00:00:00\",\"2018-04-02T00:00:00\",\"2018-04-03T00:00:00\",\"2018-04-04T00:00:00\",\"2018-04-05T00:00:00\",\"2018-04-06T00:00:00\",\"2018-04-09T00:00:00\",\"2018-04-10T00:00:00\",\"2018-04-11T00:00:00\",\"2018-04-12T00:00:00\",\"2018-04-13T00:00:00\",\"2018-04-16T00:00:00\",\"2018-04-17T00:00:00\",\"2018-04-18T00:00:00\",\"2018-04-19T00:00:00\",\"2018-04-20T00:00:00\",\"2018-04-23T00:00:00\",\"2018-04-24T00:00:00\",\"2018-04-25T00:00:00\",\"2018-04-26T00:00:00\",\"2018-04-27T00:00:00\",\"2018-04-30T00:00:00\",\"2018-05-01T00:00:00\",\"2018-05-02T00:00:00\",\"2018-05-03T00:00:00\",\"2018-05-04T00:00:00\",\"2018-05-07T00:00:00\",\"2018-05-08T00:00:00\",\"2018-05-09T00:00:00\",\"2018-05-10T00:00:00\",\"2018-05-11T00:00:00\",\"2018-05-14T00:00:00\",\"2018-05-15T00:00:00\",\"2018-05-16T00:00:00\",\"2018-05-17T00:00:00\",\"2018-05-18T00:00:00\",\"2018-05-21T00:00:00\",\"2018-05-22T00:00:00\",\"2018-05-23T00:00:00\",\"2018-05-24T00:00:00\",\"2018-05-25T00:00:00\",\"2018-05-28T00:00:00\",\"2018-05-29T00:00:00\",\"2018-05-30T00:00:00\",\"2018-05-31T00:00:00\",\"2018-06-01T00:00:00\",\"2018-06-04T00:00:00\",\"2018-06-05T00:00:00\",\"2018-06-06T00:00:00\",\"2018-06-07T00:00:00\",\"2018-06-08T00:00:00\",\"2018-06-11T00:00:00\",\"2018-06-12T00:00:00\",\"2018-06-13T00:00:00\",\"2018-06-14T00:00:00\",\"2018-06-15T00:00:00\",\"2018-06-18T00:00:00\",\"2018-06-19T00:00:00\",\"2018-06-20T00:00:00\",\"2018-06-21T00:00:00\",\"2018-06-22T00:00:00\",\"2018-06-25T00:00:00\",\"2018-06-26T00:00:00\",\"2018-06-27T00:00:00\",\"2018-06-28T00:00:00\",\"2018-06-29T00:00:00\",\"2018-07-02T00:00:00\",\"2018-07-03T00:00:00\",\"2018-07-04T00:00:00\",\"2018-07-05T00:00:00\",\"2018-07-06T00:00:00\",\"2018-07-09T00:00:00\",\"2018-07-10T00:00:00\",\"2018-07-11T00:00:00\",\"2018-07-12T00:00:00\",\"2018-07-13T00:00:00\",\"2018-07-16T00:00:00\",\"2018-07-17T00:00:00\",\"2018-07-18T00:00:00\",\"2018-07-19T00:00:00\",\"2018-07-20T00:00:00\",\"2018-07-23T00:00:00\",\"2018-07-24T00:00:00\",\"2018-07-25T00:00:00\",\"2018-07-26T00:00:00\",\"2018-07-27T00:00:00\",\"2018-07-30T00:00:00\",\"2018-07-31T00:00:00\",\"2018-08-01T00:00:00\",\"2018-08-02T00:00:00\",\"2018-08-03T00:00:00\",\"2018-08-06T00:00:00\",\"2018-08-07T00:00:00\",\"2018-08-08T00:00:00\",\"2018-08-09T00:00:00\",\"2018-08-10T00:00:00\",\"2018-08-13T00:00:00\",\"2018-08-14T00:00:00\",\"2018-08-15T00:00:00\",\"2018-08-16T00:00:00\",\"2018-08-17T00:00:00\",\"2018-08-20T00:00:00\",\"2018-08-21T00:00:00\",\"2018-08-22T00:00:00\",\"2018-08-23T00:00:00\",\"2018-08-24T00:00:00\",\"2018-08-27T00:00:00\",\"2018-08-28T00:00:00\",\"2018-08-29T00:00:00\",\"2018-08-30T00:00:00\",\"2018-08-31T00:00:00\",\"2018-09-03T00:00:00\",\"2018-09-04T00:00:00\",\"2018-09-05T00:00:00\",\"2018-09-06T00:00:00\",\"2018-09-07T00:00:00\",\"2018-09-10T00:00:00\",\"2018-09-11T00:00:00\",\"2018-09-12T00:00:00\",\"2018-09-13T00:00:00\",\"2018-09-14T00:00:00\",\"2018-09-17T00:00:00\",\"2018-09-18T00:00:00\",\"2018-09-19T00:00:00\",\"2018-09-20T00:00:00\",\"2018-09-21T00:00:00\",\"2018-09-24T00:00:00\",\"2018-09-25T00:00:00\",\"2018-09-26T00:00:00\",\"2018-09-27T00:00:00\",\"2018-09-28T00:00:00\",\"2018-10-01T00:00:00\",\"2018-10-02T00:00:00\",\"2018-10-03T00:00:00\",\"2018-10-04T00:00:00\",\"2018-10-05T00:00:00\",\"2018-10-08T00:00:00\",\"2018-10-09T00:00:00\",\"2018-10-10T00:00:00\",\"2018-10-11T00:00:00\",\"2018-10-12T00:00:00\",\"2018-10-15T00:00:00\",\"2018-10-16T00:00:00\",\"2018-10-17T00:00:00\",\"2018-10-18T00:00:00\",\"2018-10-19T00:00:00\",\"2018-10-22T00:00:00\",\"2018-10-23T00:00:00\",\"2018-10-24T00:00:00\",\"2018-10-25T00:00:00\",\"2018-10-26T00:00:00\",\"2018-10-29T00:00:00\",\"2018-10-30T00:00:00\",\"2018-10-31T00:00:00\",\"2018-11-01T00:00:00\",\"2018-11-02T00:00:00\",\"2018-11-05T00:00:00\",\"2018-11-06T00:00:00\",\"2018-11-07T00:00:00\",\"2018-11-08T00:00:00\",\"2018-11-09T00:00:00\",\"2018-11-12T00:00:00\",\"2018-11-13T00:00:00\",\"2018-11-14T00:00:00\",\"2018-11-15T00:00:00\",\"2018-11-16T00:00:00\",\"2018-11-19T00:00:00\",\"2018-11-20T00:00:00\",\"2018-11-21T00:00:00\",\"2018-11-22T00:00:00\",\"2018-11-23T00:00:00\",\"2018-11-26T00:00:00\",\"2018-11-27T00:00:00\",\"2018-11-28T00:00:00\",\"2018-11-29T00:00:00\",\"2018-11-30T00:00:00\",\"2018-12-03T00:00:00\",\"2018-12-04T00:00:00\",\"2018-12-05T00:00:00\",\"2018-12-06T00:00:00\",\"2018-12-07T00:00:00\",\"2018-12-10T00:00:00\",\"2018-12-11T00:00:00\",\"2018-12-12T00:00:00\",\"2018-12-13T00:00:00\",\"2018-12-14T00:00:00\",\"2018-12-17T00:00:00\",\"2018-12-18T00:00:00\",\"2018-12-19T00:00:00\",\"2018-12-20T00:00:00\",\"2018-12-21T00:00:00\",\"2018-12-24T00:00:00\",\"2018-12-25T00:00:00\",\"2018-12-26T00:00:00\",\"2018-12-27T00:00:00\",\"2018-12-28T00:00:00\",\"2018-12-31T00:00:00\",\"2019-01-01T00:00:00\",\"2019-01-02T00:00:00\",\"2019-01-03T00:00:00\",\"2019-01-04T00:00:00\",\"2019-01-07T00:00:00\",\"2019-01-08T00:00:00\",\"2019-01-09T00:00:00\",\"2019-01-10T00:00:00\",\"2019-01-11T00:00:00\",\"2019-01-14T00:00:00\",\"2019-01-15T00:00:00\",\"2019-01-16T00:00:00\",\"2019-01-17T00:00:00\",\"2019-01-18T00:00:00\",\"2019-01-21T00:00:00\",\"2019-01-22T00:00:00\",\"2019-01-23T00:00:00\",\"2019-01-24T00:00:00\",\"2019-01-25T00:00:00\",\"2019-01-28T00:00:00\",\"2019-01-29T00:00:00\",\"2019-01-30T00:00:00\",\"2019-01-31T00:00:00\",\"2019-02-01T00:00:00\",\"2019-02-04T00:00:00\",\"2019-02-05T00:00:00\",\"2019-02-06T00:00:00\",\"2019-02-07T00:00:00\",\"2019-02-08T00:00:00\",\"2019-02-11T00:00:00\",\"2019-02-12T00:00:00\",\"2019-02-13T00:00:00\",\"2019-02-14T00:00:00\",\"2019-02-15T00:00:00\",\"2019-02-18T00:00:00\",\"2019-02-19T00:00:00\",\"2019-02-20T00:00:00\",\"2019-02-21T00:00:00\",\"2019-02-22T00:00:00\",\"2019-02-25T00:00:00\",\"2019-02-26T00:00:00\",\"2019-02-27T00:00:00\",\"2019-02-28T00:00:00\",\"2019-03-01T00:00:00\",\"2019-03-04T00:00:00\",\"2019-03-05T00:00:00\",\"2019-03-06T00:00:00\",\"2019-03-07T00:00:00\",\"2019-03-08T00:00:00\",\"2019-03-11T00:00:00\",\"2019-03-12T00:00:00\",\"2019-03-13T00:00:00\",\"2019-03-14T00:00:00\",\"2019-03-15T00:00:00\",\"2019-03-18T00:00:00\",\"2019-03-19T00:00:00\",\"2019-03-20T00:00:00\",\"2019-03-21T00:00:00\",\"2019-03-22T00:00:00\",\"2019-03-25T00:00:00\",\"2019-03-26T00:00:00\",\"2019-03-27T00:00:00\",\"2019-03-28T00:00:00\",\"2019-03-29T00:00:00\",\"2019-04-01T00:00:00\",\"2019-04-02T00:00:00\",\"2019-04-03T00:00:00\",\"2019-04-04T00:00:00\",\"2019-04-05T00:00:00\",\"2019-04-08T00:00:00\",\"2019-04-09T00:00:00\",\"2019-04-10T00:00:00\",\"2019-04-11T00:00:00\",\"2019-04-12T00:00:00\",\"2019-04-15T00:00:00\",\"2019-04-16T00:00:00\",\"2019-04-17T00:00:00\",\"2019-04-18T00:00:00\",\"2019-04-19T00:00:00\",\"2019-04-22T00:00:00\",\"2019-04-23T00:00:00\",\"2019-04-24T00:00:00\",\"2019-04-25T00:00:00\",\"2019-04-26T00:00:00\",\"2019-04-29T00:00:00\",\"2019-04-30T00:00:00\",\"2019-05-01T00:00:00\",\"2019-05-02T00:00:00\",\"2019-05-03T00:00:00\",\"2019-05-06T00:00:00\",\"2019-05-07T00:00:00\",\"2019-05-08T00:00:00\",\"2019-05-09T00:00:00\",\"2019-05-10T00:00:00\",\"2019-05-13T00:00:00\",\"2019-05-14T00:00:00\",\"2019-05-15T00:00:00\",\"2019-05-16T00:00:00\",\"2019-05-17T00:00:00\",\"2019-05-20T00:00:00\",\"2019-05-21T00:00:00\",\"2019-05-22T00:00:00\",\"2019-05-23T00:00:00\",\"2019-05-24T00:00:00\",\"2019-05-27T00:00:00\",\"2019-05-28T00:00:00\",\"2019-05-29T00:00:00\",\"2019-05-30T00:00:00\",\"2019-05-31T00:00:00\",\"2019-06-03T00:00:00\",\"2019-06-04T00:00:00\",\"2019-06-05T00:00:00\",\"2019-06-06T00:00:00\",\"2019-06-07T00:00:00\",\"2019-06-10T00:00:00\",\"2019-06-11T00:00:00\",\"2019-06-12T00:00:00\",\"2019-06-13T00:00:00\",\"2019-06-14T00:00:00\",\"2019-06-17T00:00:00\",\"2019-06-18T00:00:00\",\"2019-06-20T00:00:00\",\"2019-06-21T00:00:00\",\"2019-06-24T00:00:00\",\"2019-06-25T00:00:00\",\"2019-06-26T00:00:00\",\"2019-06-27T00:00:00\",\"2019-06-28T00:00:00\",\"2019-07-01T00:00:00\",\"2019-07-02T00:00:00\",\"2019-07-03T00:00:00\",\"2019-07-04T00:00:00\",\"2019-07-05T00:00:00\",\"2019-07-08T00:00:00\",\"2019-07-09T00:00:00\",\"2019-07-10T00:00:00\",\"2019-07-11T00:00:00\",\"2019-07-12T00:00:00\",\"2019-07-15T00:00:00\",\"2019-07-16T00:00:00\",\"2019-07-17T00:00:00\",\"2019-07-18T00:00:00\",\"2019-07-19T00:00:00\",\"2019-07-22T00:00:00\",\"2019-07-23T00:00:00\",\"2019-07-24T00:00:00\",\"2019-07-25T00:00:00\",\"2019-07-26T00:00:00\",\"2019-07-29T00:00:00\",\"2019-07-30T00:00:00\",\"2019-07-31T00:00:00\",\"2019-08-01T00:00:00\",\"2019-08-02T00:00:00\",\"2019-08-05T00:00:00\",\"2019-08-06T00:00:00\",\"2019-08-07T00:00:00\",\"2019-08-08T00:00:00\",\"2019-08-09T00:00:00\",\"2019-08-12T00:00:00\",\"2019-08-13T00:00:00\",\"2019-08-14T00:00:00\",\"2019-08-15T00:00:00\",\"2019-08-16T00:00:00\",\"2019-08-19T00:00:00\",\"2019-08-20T00:00:00\",\"2019-08-21T00:00:00\",\"2019-08-22T00:00:00\",\"2019-08-23T00:00:00\",\"2019-08-26T00:00:00\",\"2019-08-27T00:00:00\",\"2019-08-28T00:00:00\",\"2019-08-29T00:00:00\",\"2019-08-30T00:00:00\",\"2019-09-02T00:00:00\",\"2019-09-03T00:00:00\",\"2019-09-04T00:00:00\",\"2019-09-05T00:00:00\",\"2019-09-06T00:00:00\",\"2019-09-09T00:00:00\",\"2019-09-10T00:00:00\",\"2019-09-11T00:00:00\",\"2019-09-12T00:00:00\",\"2019-09-13T00:00:00\",\"2019-09-16T00:00:00\",\"2019-09-17T00:00:00\",\"2019-09-18T00:00:00\",\"2019-09-19T00:00:00\",\"2019-09-20T00:00:00\",\"2019-09-23T00:00:00\",\"2019-09-24T00:00:00\",\"2019-09-25T00:00:00\",\"2019-09-26T00:00:00\",\"2019-09-27T00:00:00\",\"2019-09-30T00:00:00\",\"2019-10-01T00:00:00\",\"2019-10-02T00:00:00\",\"2019-10-03T00:00:00\",\"2019-10-04T00:00:00\",\"2019-10-07T00:00:00\",\"2019-10-08T00:00:00\",\"2019-10-09T00:00:00\",\"2019-10-10T00:00:00\",\"2019-10-11T00:00:00\",\"2019-10-14T00:00:00\",\"2019-10-15T00:00:00\",\"2019-10-16T00:00:00\",\"2019-10-17T00:00:00\",\"2019-10-18T00:00:00\",\"2019-10-21T00:00:00\",\"2019-10-22T00:00:00\",\"2019-10-23T00:00:00\",\"2019-10-24T00:00:00\",\"2019-10-25T00:00:00\",\"2019-10-28T00:00:00\",\"2019-10-29T00:00:00\",\"2019-10-30T00:00:00\",\"2019-10-31T00:00:00\",\"2019-11-01T00:00:00\",\"2019-11-04T00:00:00\",\"2019-11-05T00:00:00\",\"2019-11-06T00:00:00\",\"2019-11-07T00:00:00\",\"2019-11-08T00:00:00\",\"2019-11-11T00:00:00\",\"2019-11-12T00:00:00\",\"2019-11-13T00:00:00\",\"2019-11-14T00:00:00\",\"2019-11-15T00:00:00\",\"2019-11-18T00:00:00\",\"2019-11-19T00:00:00\",\"2019-11-20T00:00:00\",\"2019-11-21T00:00:00\",\"2019-11-22T00:00:00\",\"2019-11-25T00:00:00\",\"2019-11-26T00:00:00\",\"2019-11-27T00:00:00\",\"2019-11-28T00:00:00\",\"2019-11-29T00:00:00\",\"2019-12-02T00:00:00\",\"2019-12-03T00:00:00\",\"2019-12-04T00:00:00\",\"2019-12-05T00:00:00\",\"2019-12-06T00:00:00\",\"2019-12-09T00:00:00\",\"2019-12-10T00:00:00\",\"2019-12-11T00:00:00\",\"2019-12-12T00:00:00\",\"2019-12-13T00:00:00\",\"2019-12-16T00:00:00\",\"2019-12-17T00:00:00\",\"2019-12-18T00:00:00\",\"2019-12-19T00:00:00\",\"2019-12-20T00:00:00\",\"2019-12-23T00:00:00\",\"2019-12-26T00:00:00\",\"2019-12-27T00:00:00\",\"2019-12-30T00:00:00\",\"2020-01-02T00:00:00\",\"2020-01-03T00:00:00\",\"2020-01-06T00:00:00\",\"2020-01-07T00:00:00\",\"2020-01-08T00:00:00\",\"2020-01-09T00:00:00\",\"2020-01-10T00:00:00\",\"2020-01-13T00:00:00\",\"2020-01-14T00:00:00\",\"2020-01-15T00:00:00\",\"2020-01-16T00:00:00\",\"2020-01-17T00:00:00\",\"2020-01-20T00:00:00\",\"2020-01-21T00:00:00\",\"2020-01-22T00:00:00\",\"2020-01-23T00:00:00\",\"2020-01-24T00:00:00\",\"2020-01-27T00:00:00\",\"2020-01-28T00:00:00\",\"2020-01-29T00:00:00\",\"2020-01-30T00:00:00\",\"2020-01-31T00:00:00\",\"2020-02-03T00:00:00\",\"2020-02-04T00:00:00\",\"2020-02-05T00:00:00\",\"2020-02-06T00:00:00\",\"2020-02-07T00:00:00\",\"2020-02-10T00:00:00\",\"2020-02-11T00:00:00\",\"2020-02-12T00:00:00\",\"2020-02-13T00:00:00\",\"2020-02-14T00:00:00\",\"2020-02-17T00:00:00\",\"2020-02-18T00:00:00\",\"2020-02-19T00:00:00\",\"2020-02-20T00:00:00\",\"2020-02-21T00:00:00\",\"2020-02-24T00:00:00\",\"2020-02-25T00:00:00\",\"2020-02-26T00:00:00\",\"2020-02-27T00:00:00\",\"2020-02-28T00:00:00\",\"2020-03-02T00:00:00\",\"2020-03-03T00:00:00\",\"2020-03-04T00:00:00\",\"2020-03-05T00:00:00\",\"2020-03-06T00:00:00\",\"2020-03-09T00:00:00\",\"2020-03-10T00:00:00\",\"2020-03-11T00:00:00\",\"2020-03-12T00:00:00\",\"2020-03-13T00:00:00\",\"2020-03-16T00:00:00\",\"2020-03-17T00:00:00\",\"2020-03-18T00:00:00\",\"2020-03-19T00:00:00\",\"2020-03-20T00:00:00\",\"2020-03-23T00:00:00\",\"2020-03-24T00:00:00\",\"2020-03-26T00:00:00\",\"2020-03-27T00:00:00\",\"2020-03-30T00:00:00\",\"2020-03-31T00:00:00\",\"2020-04-01T00:00:00\",\"2020-04-02T00:00:00\",\"2020-04-03T00:00:00\",\"2020-04-06T00:00:00\",\"2020-04-07T00:00:00\",\"2020-04-08T00:00:00\",\"2020-04-09T00:00:00\",\"2020-04-13T00:00:00\",\"2020-04-14T00:00:00\",\"2020-04-15T00:00:00\",\"2020-04-16T00:00:00\",\"2020-04-17T00:00:00\",\"2020-04-20T00:00:00\",\"2020-04-21T00:00:00\",\"2020-04-22T00:00:00\",\"2020-04-23T00:00:00\",\"2020-04-24T00:00:00\",\"2020-04-27T00:00:00\",\"2020-04-28T00:00:00\",\"2020-04-29T00:00:00\",\"2020-04-30T00:00:00\",\"2020-05-04T00:00:00\",\"2020-05-05T00:00:00\",\"2020-05-06T00:00:00\",\"2020-05-08T00:00:00\",\"2020-05-11T00:00:00\",\"2020-05-12T00:00:00\",\"2020-05-13T00:00:00\",\"2020-05-14T00:00:00\",\"2020-05-15T00:00:00\",\"2020-05-18T00:00:00\",\"2020-05-19T00:00:00\",\"2020-05-20T00:00:00\",\"2020-05-26T00:00:00\",\"2020-05-27T00:00:00\",\"2020-05-28T00:00:00\",\"2020-05-29T00:00:00\",\"2020-06-02T00:00:00\",\"2020-06-03T00:00:00\",\"2020-06-04T00:00:00\",\"2020-06-05T00:00:00\",\"2020-06-08T00:00:00\",\"2020-06-09T00:00:00\",\"2020-06-10T00:00:00\",\"2020-06-11T00:00:00\",\"2020-06-12T00:00:00\",\"2020-06-15T00:00:00\",\"2020-06-16T00:00:00\",\"2020-06-17T00:00:00\",\"2020-06-18T00:00:00\",\"2020-06-19T00:00:00\",\"2020-06-22T00:00:00\",\"2020-06-23T00:00:00\",\"2020-06-24T00:00:00\",\"2020-06-25T00:00:00\",\"2020-06-26T00:00:00\",\"2020-06-29T00:00:00\",\"2020-06-30T00:00:00\",\"2020-07-01T00:00:00\",\"2020-07-02T00:00:00\",\"2020-07-03T00:00:00\",\"2020-07-06T00:00:00\",\"2020-07-07T00:00:00\",\"2020-07-08T00:00:00\",\"2020-07-09T00:00:00\",\"2020-07-10T00:00:00\",\"2020-07-13T00:00:00\",\"2020-07-14T00:00:00\",\"2020-07-15T00:00:00\",\"2020-07-16T00:00:00\",\"2020-07-17T00:00:00\",\"2020-07-20T00:00:00\",\"2020-07-21T00:00:00\",\"2020-07-22T00:00:00\",\"2020-07-23T00:00:00\",\"2020-07-24T00:00:00\",\"2020-07-27T00:00:00\",\"2020-07-28T00:00:00\",\"2020-07-29T00:00:00\",\"2020-07-30T00:00:00\",\"2020-08-03T00:00:00\",\"2020-08-04T00:00:00\",\"2020-08-05T00:00:00\",\"2020-08-06T00:00:00\",\"2020-08-07T00:00:00\",\"2020-08-10T00:00:00\",\"2020-08-11T00:00:00\",\"2020-08-12T00:00:00\",\"2020-08-13T00:00:00\",\"2020-08-14T00:00:00\",\"2020-08-18T00:00:00\",\"2020-08-19T00:00:00\",\"2020-08-24T00:00:00\",\"2020-08-25T00:00:00\",\"2020-08-26T00:00:00\",\"2020-08-27T00:00:00\",\"2020-08-28T00:00:00\",\"2020-08-31T00:00:00\",\"2020-09-01T00:00:00\",\"2020-09-02T00:00:00\",\"2020-09-03T00:00:00\",\"2020-09-04T00:00:00\",\"2020-09-07T00:00:00\",\"2020-09-08T00:00:00\",\"2020-09-09T00:00:00\",\"2020-09-10T00:00:00\",\"2020-09-11T00:00:00\",\"2020-09-14T00:00:00\",\"2020-09-15T00:00:00\",\"2020-09-16T00:00:00\",\"2020-09-17T00:00:00\",\"2020-09-18T00:00:00\",\"2020-09-21T00:00:00\",\"2020-09-22T00:00:00\",\"2020-09-23T00:00:00\",\"2020-09-24T00:00:00\",\"2020-09-25T00:00:00\",\"2020-09-28T00:00:00\",\"2020-09-29T00:00:00\",\"2020-09-30T00:00:00\",\"2020-10-01T00:00:00\",\"2020-10-02T00:00:00\",\"2020-10-05T00:00:00\",\"2020-10-06T00:00:00\",\"2020-10-07T00:00:00\",\"2020-10-08T00:00:00\",\"2020-10-09T00:00:00\",\"2020-10-12T00:00:00\",\"2020-10-13T00:00:00\",\"2020-10-14T00:00:00\",\"2020-10-15T00:00:00\",\"2020-10-16T00:00:00\",\"2020-10-19T00:00:00\",\"2020-10-20T00:00:00\",\"2020-10-21T00:00:00\",\"2020-10-22T00:00:00\",\"2020-10-23T00:00:00\",\"2020-10-26T00:00:00\",\"2020-10-27T00:00:00\",\"2020-11-02T00:00:00\",\"2020-11-03T00:00:00\",\"2020-11-04T00:00:00\",\"2020-11-05T00:00:00\",\"2020-11-06T00:00:00\",\"2020-11-09T00:00:00\",\"2020-11-10T00:00:00\",\"2020-11-11T00:00:00\",\"2020-11-12T00:00:00\",\"2020-11-13T00:00:00\",\"2020-11-16T00:00:00\",\"2020-11-17T00:00:00\",\"2020-11-18T00:00:00\",\"2020-11-19T00:00:00\",\"2020-11-20T00:00:00\",\"2020-11-23T00:00:00\",\"2020-11-24T00:00:00\",\"2020-11-25T00:00:00\",\"2020-11-26T00:00:00\",\"2020-11-27T00:00:00\",\"2020-11-30T00:00:00\",\"2020-12-01T00:00:00\",\"2020-12-02T00:00:00\",\"2020-12-03T00:00:00\",\"2020-12-04T00:00:00\",\"2020-12-07T00:00:00\",\"2020-12-08T00:00:00\",\"2020-12-10T00:00:00\",\"2020-12-11T00:00:00\",\"2020-12-14T00:00:00\",\"2020-12-15T00:00:00\",\"2020-12-16T00:00:00\",\"2020-12-17T00:00:00\",\"2020-12-18T00:00:00\",\"2020-12-21T00:00:00\",\"2020-12-22T00:00:00\",\"2020-12-23T00:00:00\",\"2020-12-28T00:00:00\",\"2020-12-29T00:00:00\",\"2020-12-30T00:00:00\",\"2021-01-04T00:00:00\",\"2021-01-05T00:00:00\",\"2021-01-06T00:00:00\",\"2021-01-07T00:00:00\",\"2021-01-08T00:00:00\",\"2021-01-11T00:00:00\",\"2021-01-12T00:00:00\",\"2021-01-13T00:00:00\",\"2021-01-14T00:00:00\",\"2021-01-15T00:00:00\",\"2021-01-18T00:00:00\",\"2021-01-19T00:00:00\",\"2021-01-20T00:00:00\",\"2021-01-21T00:00:00\",\"2021-01-22T00:00:00\",\"2021-01-25T00:00:00\",\"2021-01-26T00:00:00\",\"2021-01-27T00:00:00\",\"2021-01-28T00:00:00\",\"2021-01-29T00:00:00\",\"2021-02-01T00:00:00\",\"2021-02-02T00:00:00\",\"2021-02-03T00:00:00\",\"2021-02-04T00:00:00\",\"2021-02-05T00:00:00\",\"2021-02-08T00:00:00\",\"2021-02-09T00:00:00\",\"2021-02-10T00:00:00\",\"2021-02-11T00:00:00\",\"2021-02-15T00:00:00\",\"2021-02-16T00:00:00\",\"2021-02-17T00:00:00\",\"2021-02-18T00:00:00\",\"2021-02-19T00:00:00\",\"2021-02-22T00:00:00\",\"2021-02-23T00:00:00\",\"2021-02-24T00:00:00\",\"2021-02-25T00:00:00\",\"2021-02-26T00:00:00\",\"2021-03-01T00:00:00\",\"2021-03-02T00:00:00\",\"2021-03-03T00:00:00\",\"2021-03-04T00:00:00\",\"2021-03-05T00:00:00\",\"2021-03-08T00:00:00\",\"2021-03-09T00:00:00\",\"2021-03-10T00:00:00\",\"2021-03-12T00:00:00\",\"2021-03-15T00:00:00\",\"2021-03-16T00:00:00\",\"2021-03-17T00:00:00\",\"2021-03-18T00:00:00\",\"2021-03-19T00:00:00\",\"2021-03-22T00:00:00\",\"2021-03-23T00:00:00\",\"2021-03-24T00:00:00\",\"2021-03-25T00:00:00\",\"2021-03-26T00:00:00\",\"2021-03-29T00:00:00\",\"2021-03-30T00:00:00\",\"2021-03-31T00:00:00\",\"2021-04-01T00:00:00\",\"2021-04-05T00:00:00\",\"2021-04-06T00:00:00\",\"2021-04-07T00:00:00\",\"2021-04-08T00:00:00\",\"2021-04-09T00:00:00\",\"2021-04-12T00:00:00\",\"2021-04-13T00:00:00\",\"2021-04-14T00:00:00\",\"2021-04-15T00:00:00\",\"2021-04-16T00:00:00\",\"2021-04-19T00:00:00\",\"2021-04-20T00:00:00\",\"2021-04-21T00:00:00\",\"2021-04-22T00:00:00\",\"2021-04-23T00:00:00\",\"2021-04-26T00:00:00\",\"2021-04-27T00:00:00\",\"2021-04-28T00:00:00\",\"2021-04-29T00:00:00\",\"2021-04-30T00:00:00\",\"2021-05-03T00:00:00\",\"2021-05-04T00:00:00\",\"2021-05-05T00:00:00\",\"2021-05-06T00:00:00\",\"2021-05-07T00:00:00\",\"2021-05-10T00:00:00\",\"2021-05-11T00:00:00\",\"2021-05-17T00:00:00\",\"2021-05-18T00:00:00\",\"2021-05-19T00:00:00\",\"2021-05-20T00:00:00\",\"2021-05-21T00:00:00\",\"2021-05-24T00:00:00\",\"2021-05-25T00:00:00\",\"2021-05-27T00:00:00\",\"2021-05-28T00:00:00\",\"2021-05-31T00:00:00\",\"2021-06-02T00:00:00\",\"2021-06-03T00:00:00\",\"2021-06-04T00:00:00\",\"2021-06-07T00:00:00\",\"2021-06-08T00:00:00\",\"2021-06-09T00:00:00\",\"2021-06-10T00:00:00\",\"2021-06-11T00:00:00\",\"2021-06-14T00:00:00\",\"2021-06-15T00:00:00\",\"2021-06-16T00:00:00\",\"2021-06-17T00:00:00\",\"2021-06-18T00:00:00\",\"2021-06-21T00:00:00\",\"2021-06-22T00:00:00\",\"2021-06-23T00:00:00\",\"2021-06-24T00:00:00\",\"2021-06-25T00:00:00\",\"2021-06-28T00:00:00\",\"2021-06-29T00:00:00\",\"2021-06-30T00:00:00\",\"2021-07-01T00:00:00\",\"2021-07-02T00:00:00\",\"2021-07-05T00:00:00\",\"2021-07-06T00:00:00\",\"2021-07-07T00:00:00\",\"2021-07-08T00:00:00\",\"2021-07-09T00:00:00\",\"2021-07-12T00:00:00\",\"2021-07-13T00:00:00\",\"2021-07-14T00:00:00\",\"2021-07-15T00:00:00\",\"2021-07-16T00:00:00\",\"2021-07-19T00:00:00\",\"2021-07-21T00:00:00\",\"2021-07-22T00:00:00\",\"2021-07-23T00:00:00\",\"2021-07-26T00:00:00\",\"2021-07-27T00:00:00\",\"2021-07-28T00:00:00\",\"2021-07-29T00:00:00\",\"2021-07-30T00:00:00\",\"2021-08-02T00:00:00\",\"2021-08-03T00:00:00\",\"2021-08-04T00:00:00\",\"2021-08-05T00:00:00\",\"2021-08-06T00:00:00\",\"2021-08-09T00:00:00\",\"2021-08-10T00:00:00\",\"2021-08-12T00:00:00\",\"2021-08-13T00:00:00\",\"2021-08-16T00:00:00\",\"2021-08-18T00:00:00\",\"2021-08-19T00:00:00\",\"2021-08-20T00:00:00\",\"2021-08-23T00:00:00\",\"2021-08-24T00:00:00\",\"2021-08-25T00:00:00\",\"2021-08-26T00:00:00\",\"2021-08-27T00:00:00\",\"2021-08-30T00:00:00\",\"2021-08-31T00:00:00\",\"2021-09-01T00:00:00\",\"2021-09-02T00:00:00\",\"2021-09-03T00:00:00\",\"2021-09-06T00:00:00\",\"2021-09-07T00:00:00\",\"2021-09-08T00:00:00\",\"2021-09-09T00:00:00\",\"2021-09-10T00:00:00\",\"2021-09-13T00:00:00\",\"2021-09-14T00:00:00\",\"2021-09-15T00:00:00\",\"2021-09-16T00:00:00\",\"2021-09-17T00:00:00\",\"2021-09-20T00:00:00\",\"2021-09-21T00:00:00\",\"2021-09-22T00:00:00\",\"2021-09-23T00:00:00\",\"2021-09-24T00:00:00\",\"2021-09-27T00:00:00\",\"2021-09-28T00:00:00\",\"2021-09-29T00:00:00\",\"2021-09-30T00:00:00\",\"2021-10-01T00:00:00\",\"2021-10-04T00:00:00\",\"2021-10-05T00:00:00\",\"2021-10-06T00:00:00\",\"2021-10-07T00:00:00\",\"2021-10-08T00:00:00\",\"2021-10-11T00:00:00\",\"2021-10-12T00:00:00\",\"2021-10-13T00:00:00\",\"2021-10-14T00:00:00\",\"2021-10-15T00:00:00\",\"2021-10-18T00:00:00\",\"2021-10-19T00:00:00\",\"2021-10-21T00:00:00\",\"2021-10-22T00:00:00\",\"2021-10-25T00:00:00\",\"2021-10-26T00:00:00\",\"2021-10-27T00:00:00\",\"2021-10-28T00:00:00\",\"2021-10-29T00:00:00\",\"2021-11-01T00:00:00\",\"2021-11-02T00:00:00\",\"2021-11-03T00:00:00\",\"2021-11-04T00:00:00\",\"2021-11-05T00:00:00\",\"2021-11-08T00:00:00\",\"2021-11-09T00:00:00\",\"2021-11-10T00:00:00\",\"2021-11-11T00:00:00\",\"2021-11-12T00:00:00\",\"2021-11-15T00:00:00\",\"2021-11-16T00:00:00\",\"2021-11-17T00:00:00\",\"2021-11-18T00:00:00\",\"2021-11-19T00:00:00\",\"2021-11-22T00:00:00\",\"2021-11-23T00:00:00\",\"2021-11-24T00:00:00\",\"2021-11-25T00:00:00\",\"2021-11-26T00:00:00\",\"2021-11-29T00:00:00\",\"2021-11-30T00:00:00\",\"2021-12-01T00:00:00\",\"2021-12-02T00:00:00\",\"2021-12-03T00:00:00\",\"2021-12-06T00:00:00\",\"2021-12-07T00:00:00\",\"2021-12-08T00:00:00\",\"2021-12-09T00:00:00\",\"2021-12-10T00:00:00\",\"2021-12-13T00:00:00\",\"2021-12-14T00:00:00\",\"2021-12-15T00:00:00\",\"2021-12-16T00:00:00\",\"2021-12-17T00:00:00\",\"2021-12-20T00:00:00\",\"2021-12-21T00:00:00\",\"2021-12-22T00:00:00\",\"2021-12-23T00:00:00\",\"2021-12-24T00:00:00\",\"2021-12-27T00:00:00\",\"2021-12-28T00:00:00\",\"2021-12-29T00:00:00\",\"2021-12-30T00:00:00\",\"2022-01-03T00:00:00\",\"2022-01-04T00:00:00\",\"2022-01-05T00:00:00\",\"2022-01-06T00:00:00\",\"2022-01-07T00:00:00\",\"2022-01-10T00:00:00\",\"2022-01-11T00:00:00\",\"2022-01-12T00:00:00\",\"2022-01-13T00:00:00\",\"2022-01-14T00:00:00\",\"2022-01-17T00:00:00\",\"2022-01-18T00:00:00\",\"2022-01-19T00:00:00\",\"2022-01-20T00:00:00\",\"2022-01-21T00:00:00\",\"2022-01-24T00:00:00\",\"2022-01-25T00:00:00\",\"2022-01-26T00:00:00\",\"2022-01-27T00:00:00\",\"2022-01-28T00:00:00\",\"2022-01-31T00:00:00\",\"2022-02-02T00:00:00\",\"2022-02-03T00:00:00\",\"2022-02-04T00:00:00\",\"2022-02-07T00:00:00\",\"2022-02-08T00:00:00\",\"2022-02-09T00:00:00\",\"2022-02-10T00:00:00\",\"2022-02-11T00:00:00\",\"2022-02-14T00:00:00\",\"2022-02-15T00:00:00\",\"2022-02-16T00:00:00\",\"2022-02-17T00:00:00\",\"2022-02-18T00:00:00\",\"2022-02-21T00:00:00\",\"2022-02-22T00:00:00\",\"2022-02-23T00:00:00\",\"2022-02-24T00:00:00\",\"2022-02-25T00:00:00\",\"2022-03-01T00:00:00\",\"2022-03-02T00:00:00\",\"2022-03-04T00:00:00\",\"2022-03-07T00:00:00\",\"2022-03-08T00:00:00\",\"2022-03-09T00:00:00\",\"2022-03-10T00:00:00\",\"2022-03-11T00:00:00\",\"2022-03-14T00:00:00\",\"2022-03-15T00:00:00\",\"2022-03-16T00:00:00\",\"2022-03-17T00:00:00\",\"2022-03-18T00:00:00\",\"2022-03-21T00:00:00\",\"2022-03-22T00:00:00\",\"2022-03-23T00:00:00\",\"2022-03-24T00:00:00\",\"2022-03-25T00:00:00\",\"2022-03-28T00:00:00\",\"2022-03-29T00:00:00\",\"2022-03-30T00:00:00\",\"2022-03-31T00:00:00\",\"2022-04-01T00:00:00\",\"2022-04-04T00:00:00\",\"2022-04-05T00:00:00\",\"2022-04-06T00:00:00\",\"2022-04-07T00:00:00\",\"2022-04-08T00:00:00\",\"2022-04-11T00:00:00\",\"2022-04-12T00:00:00\",\"2022-04-13T00:00:00\",\"2022-04-14T00:00:00\",\"2022-04-18T00:00:00\",\"2022-04-19T00:00:00\",\"2022-04-20T00:00:00\",\"2022-04-21T00:00:00\",\"2022-04-22T00:00:00\",\"2022-04-25T00:00:00\",\"2022-04-26T00:00:00\",\"2022-04-27T00:00:00\",\"2022-04-28T00:00:00\",\"2022-05-09T00:00:00\",\"2022-05-10T00:00:00\",\"2022-05-11T00:00:00\",\"2022-05-12T00:00:00\",\"2022-05-13T00:00:00\",\"2022-05-17T00:00:00\",\"2022-05-18T00:00:00\",\"2022-05-19T00:00:00\",\"2022-05-20T00:00:00\",\"2022-05-23T00:00:00\",\"2022-05-24T00:00:00\",\"2022-05-25T00:00:00\",\"2022-05-27T00:00:00\",\"2022-05-30T00:00:00\",\"2022-05-31T00:00:00\",\"2022-06-02T00:00:00\",\"2022-06-03T00:00:00\",\"2022-06-06T00:00:00\",\"2022-06-07T00:00:00\",\"2022-06-08T00:00:00\",\"2022-06-09T00:00:00\",\"2022-06-10T00:00:00\",\"2022-06-13T00:00:00\",\"2022-06-14T00:00:00\",\"2022-06-15T00:00:00\",\"2022-06-16T00:00:00\",\"2022-06-17T00:00:00\",\"2022-06-20T00:00:00\",\"2022-06-21T00:00:00\",\"2022-06-22T00:00:00\",\"2022-06-23T00:00:00\",\"2022-06-24T00:00:00\",\"2022-06-27T00:00:00\",\"2022-06-28T00:00:00\",\"2022-06-29T00:00:00\",\"2022-06-30T00:00:00\",\"2022-07-01T00:00:00\",\"2022-07-04T00:00:00\",\"2022-07-05T00:00:00\",\"2022-07-06T00:00:00\",\"2022-07-07T00:00:00\",\"2022-07-08T00:00:00\",\"2022-07-11T00:00:00\",\"2022-07-12T00:00:00\",\"2022-07-13T00:00:00\",\"2022-07-14T00:00:00\",\"2022-07-15T00:00:00\",\"2022-07-18T00:00:00\",\"2022-07-19T00:00:00\",\"2022-07-20T00:00:00\",\"2022-07-21T00:00:00\",\"2022-07-22T00:00:00\",\"2022-07-25T00:00:00\",\"2022-07-26T00:00:00\",\"2022-07-27T00:00:00\",\"2022-07-28T00:00:00\",\"2022-07-29T00:00:00\",\"2022-08-01T00:00:00\",\"2022-08-02T00:00:00\",\"2022-08-03T00:00:00\",\"2022-08-04T00:00:00\",\"2022-08-05T00:00:00\",\"2022-08-08T00:00:00\",\"2022-08-09T00:00:00\",\"2022-08-10T00:00:00\",\"2022-08-11T00:00:00\",\"2022-08-12T00:00:00\",\"2022-08-15T00:00:00\",\"2022-08-16T00:00:00\",\"2022-08-18T00:00:00\",\"2022-08-19T00:00:00\",\"2022-08-22T00:00:00\",\"2022-08-23T00:00:00\",\"2022-08-24T00:00:00\",\"2022-08-25T00:00:00\",\"2022-08-26T00:00:00\",\"2022-08-29T00:00:00\",\"2022-08-30T00:00:00\",\"2022-08-31T00:00:00\",\"2022-09-01T00:00:00\",\"2022-09-02T00:00:00\",\"2022-09-05T00:00:00\",\"2022-09-06T00:00:00\",\"2022-09-07T00:00:00\",\"2022-09-08T00:00:00\",\"2022-09-09T00:00:00\",\"2022-09-12T00:00:00\",\"2022-09-13T00:00:00\",\"2022-09-14T00:00:00\",\"2022-09-15T00:00:00\",\"2022-09-16T00:00:00\",\"2022-09-19T00:00:00\",\"2022-09-20T00:00:00\",\"2022-09-21T00:00:00\",\"2022-09-22T00:00:00\",\"2022-09-23T00:00:00\",\"2022-09-26T00:00:00\",\"2022-09-27T00:00:00\",\"2022-09-28T00:00:00\",\"2022-09-29T00:00:00\",\"2022-09-30T00:00:00\",\"2022-10-03T00:00:00\",\"2022-10-04T00:00:00\",\"2022-10-05T00:00:00\",\"2022-10-06T00:00:00\",\"2022-10-07T00:00:00\",\"2022-10-10T00:00:00\",\"2022-10-11T00:00:00\",\"2022-10-12T00:00:00\",\"2022-10-13T00:00:00\",\"2022-10-14T00:00:00\",\"2022-10-17T00:00:00\",\"2022-10-18T00:00:00\",\"2022-10-19T00:00:00\",\"2022-10-20T00:00:00\",\"2022-10-21T00:00:00\",\"2022-10-24T00:00:00\",\"2022-10-25T00:00:00\",\"2022-10-26T00:00:00\",\"2022-10-27T00:00:00\",\"2022-10-28T00:00:00\",\"2022-10-31T00:00:00\",\"2022-11-01T00:00:00\",\"2022-11-02T00:00:00\",\"2022-11-03T00:00:00\",\"2022-11-04T00:00:00\",\"2022-11-07T00:00:00\",\"2022-11-08T00:00:00\",\"2022-11-09T00:00:00\",\"2022-11-10T00:00:00\",\"2022-11-11T00:00:00\",\"2022-11-14T00:00:00\",\"2022-11-15T00:00:00\",\"2022-11-16T00:00:00\",\"2022-11-17T00:00:00\",\"2022-11-18T00:00:00\",\"2022-11-21T00:00:00\",\"2022-11-22T00:00:00\",\"2022-11-23T00:00:00\",\"2022-11-24T00:00:00\",\"2022-11-25T00:00:00\",\"2022-11-28T00:00:00\",\"2022-11-29T00:00:00\",\"2022-11-30T00:00:00\",\"2022-12-01T00:00:00\",\"2022-12-02T00:00:00\",\"2022-12-05T00:00:00\",\"2022-12-06T00:00:00\",\"2022-12-07T00:00:00\",\"2022-12-08T00:00:00\",\"2022-12-09T00:00:00\",\"2022-12-12T00:00:00\",\"2022-12-13T00:00:00\",\"2022-12-14T00:00:00\",\"2022-12-15T00:00:00\",\"2022-12-16T00:00:00\",\"2022-12-19T00:00:00\",\"2022-12-20T00:00:00\"],\"xaxis\":\"x\",\"y\":[2305.0,2320.0,2310.0,2320.0,2360.0,2405.0,2360.0,2340.0,2355.0,2340.0,2330.0,2320.0,2320.0,2325.0,2300.0,2320.0,2360.0,2385.0,2385.0,2350.0,2340.0,2335.0,2350.0,2375.0,2350.0,2355.0,2320.0,2325.0,2345.0,2340.0,2395.0,2400.0,2395.0,2450.0,2505.0,2545.0,2540.0,2580.0,2585.0,2610.0,2575.0,2550.0,2570.0,2570.0,2575.0,2600.0,2570.0,2560.0,2570.0,2600.0,2530.0,2580.0,2560.0,2610.0,2565.0,2580.0,2590.0,2600.0,2610.0,2580.0,2600.0,2640.0,2655.0,2635.0,2600.0,2625.0,2630.0,2620.0,2605.0,2600.0,2595.0,2620.0,2625.0,2625.0,2580.0,2635.0,2610.0,2625.0,2615.0,2580.0,2360.0,2375.0,2320.0,2280.0,2355.0,2335.0,2335.0,2325.0,2340.0,2350.0,2425.0,2450.0,2340.0,2415.0,2480.0,2510.0,2550.0,2495.0,2440.0,2405.0,2400.0,2340.0,2345.0,2330.0,2255.0,2200.0,2275.0,2175.0,2095.0,2095.0,2020.0,2070.0,2050.0,2130.0,2180.0,2165.0,2230.0,2190.0,2150.0,2050.0,2030.0,2060.0,2065.0,2070.0,2130.0,2180.0,2120.0,2080.0,2070.0,2025.0,2080.0,2060.0,2080.0,2095.0,2065.0,2070.0,2040.0,2020.0,1940.0,1905.0,1925.0,1875.0,2025.0,2075.0,2060.0,2160.0,2135.0,2070.0,2150.0,1970.0,1940.0,2025.0,2030.0,1990.0,1960.0,1900.0,1840.0,1850.0,1950.0,2010.0,2130.0,2060.0,2080.0,2000.0,2055.0,2000.0,2010.0,1950.0,2010.0,1955.0,1950.0,1945.0,1915.0,1930.0,1945.0,2010.0,1920.0,1905.0,1840.0,1740.0,1700.0,1610.0,1690.0,1745.0,1730.0,1740.0,1855.0,1925.0,2000.0,2020.0,2125.0,2140.0,2070.0,2040.0,2085.0,2075.0,2140.0,2140.0,2180.0,2310.0,2300.0,2290.0,2200.0,2100.0,2070.0,2110.0,2200.0,2180.0,2185.0,2140.0,2080.0,2080.0,2090.0,2095.0,2060.0,2130.0,2215.0,2190.0,2100.0,2195.0,2175.0,2235.0,2300.0,2280.0,2215.0,2205.0,2255.0,2235.0,2230.0,2240.0,2180.0,2180.0,2160.0,2175.0,2125.0,2130.0,2175.0,2310.0,2245.0,2175.0,2210.0,2210.0,2200.0,2270.0,2290.0,2280.0,2315.0,2280.0,2270.0,2250.0,2280.0,2295.0,2335.0,2270.0,2300.0,2290.0,2265.0,2280.0,2240.0,2220.0,2280.0,2280.0,2280.0,2255.0,2250.0,2270.0,2220.0,2200.0,2210.0,2325.0,2420.0,2365.0,2345.0,2370.0,2380.0,2375.0,2385.0,2400.0,2270.0,2290.0,2200.0,2120.0,2140.0,2105.0,2170.0,2200.0,2180.0,2230.0,2235.0,2300.0,2290.0,2250.0,2200.0,2200.0,2225.0,2200.0,2220.0,2220.0,2220.0,2235.0,2235.0,2265.0,2260.0,2220.0,2195.0,2210.0,2260.0,2200.0,2220.0,2230.0,2225.0,2200.0,2160.0,2100.0,2125.0,2125.0,2125.0,2125.0,2125.0,2030.0,2145.0,2140.0,2170.0,2090.0,2030.0,2060.0,2065.0,2090.0,2080.0,2100.0,2070.0,2000.0,2000.0,1995.0,1980.0,1970.0,1980.0,1920.0,1915.0,1920.0,1960.0,1990.0,1985.0,2000.0,2050.0,2090.0,2125.0,2070.0,2070.0,2065.0,2090.0,2125.0,2120.0,2130.0,2070.0,2065.0,2010.0,1980.0,2035.0,2050.0,2080.0,2060.0,2080.0,2100.0,2060.0,2010.0,2030.0,2085.0,2160.0,2180.0,2190.0,2300.0,2310.0,2320.0,2290.0,2260.0,2265.0,2360.0,2355.0,2285.0,2270.0,2260.0,2320.0,2280.0,2290.0,2320.0,2345.0,2360.0,2360.0,2375.0,2420.0,2430.0,2410.0,2420.0,2350.0,2400.0,2430.0,2430.0,2400.0,2390.0,2320.0,2325.0,2350.0,2350.0,2320.0,2320.0,2330.0,2310.0,2300.0,2360.0,2370.0,2385.0,2380.0,2390.0,2335.0,2315.0,2340.0,2400.0,2400.0,2400.0,2390.0,2420.0,2415.0,2410.0,2375.0,2420.0,2440.0,2420.0,2440.0,2455.0,2465.0,2460.0,2480.0,2380.0,2380.0,2385.0,2410.0,2380.0,2430.0,2455.0,2455.0,2415.0,2435.0,2445.0,2460.0,2400.0,2415.0,2400.0,2460.0,2450.0,2445.0,2480.0,2440.0,2480.0,2500.0,2575.0,2550.0,2480.0,2340.0,2240.0,2240.0,2300.0,2320.0,2285.0,2270.0,2295.0,2270.0,2210.0,2150.0,2085.0,2135.0,2180.0,2210.0,2240.0,2230.0,2270.0,2275.0,2295.0,2290.0,2345.0,2230.0,2280.0,2255.0,2250.0,2285.0,2205.0,2170.0,2170.0,2220.0,2295.0,2345.0,2335.0,2350.0,2380.0,2460.0,2420.0,2400.0,2370.0,2350.0,2380.0,2390.0,2400.0,2375.0,2380.0,2390.0,2395.0,2350.0,2365.0,2375.0,2355.0,2340.0,2365.0,2345.0,2360.0,2400.0,2400.0,2415.0,2410.0,2395.0,2395.0,2395.0,2415.0,2400.0,2400.0,2400.0,2370.0,2360.0,2370.0,2400.0,2385.0,2375.0,2400.0,2385.0,2370.0,2395.0,2380.0,2380.0,2400.0,2410.0,2415.0,2430.0,2430.0,2400.0,2410.0,2460.0,2540.0,2620.0,2600.0,2590.0,2600.0,2625.0,2555.0,2580.0,2590.0,2570.0,2595.0,2560.0,2605.0,2600.0,2635.0,2620.0,2620.0,2580.0,2605.0,2550.0,2525.0,2575.0,2600.0,2550.0,2600.0,2630.0,2630.0,2630.0,2625.0,2625.0,2655.0,2800.0,2770.0,2820.0,2840.0,2805.0,2850.0,2870.0,2830.0,2750.0,2770.0,2960.0,3040.0,2875.0,2830.0,2860.0,2805.0,2850.0,2895.0,2910.0,2955.0,2970.0,2970.0,3000.0,2900.0,2840.0,2900.0,2900.0,2920.0,2940.0,2920.0,2960.0,2985.0,3030.0,3050.0,3050.0,3050.0,3050.0,3050.0,3050.0,3000.0,3050.0,3050.0,3020.0,3000.0,3015.0,2925.0,2925.0,2980.0,2960.0,2960.0,2950.0,2980.0,2945.0,2970.0,2900.0,2950.0,2965.0,2955.0,2930.0,2885.0,2980.0,2990.0,2995.0,2970.0,2985.0,2990.0,3000.0,3000.0,2995.0,3000.0,3005.0,3000.0,3050.0,3020.0,3000.0,3030.0,3070.0,3055.0,3070.0,3060.0,3030.0,2995.0,3025.0,3025.0,2995.0,3025.0,2955.0,2965.0,2970.0,3005.0,2960.0,2960.0,2960.0,2980.0,2980.0,3000.0,3000.0,3005.0,3020.0,3135.0,3135.0,3110.0,3005.0,2990.0,3055.0,3070.0,3080.0,3080.0,3100.0,3100.0,3050.0,3050.0,3060.0,3060.0,3060.0,3065.0,3080.0,3100.0,3100.0,3140.0,3140.0,3095.0,3140.0,3125.0,3130.0,3140.0,3115.0,3140.0,3190.0,3215.0,3250.0,3260.0,3290.0,3320.0,3280.0,3250.0,3180.0,3150.0,3250.0,3300.0,3310.0,3290.0,3350.0,3360.0,3310.0,3320.0,3390.0,3300.0,3210.0,3330.0,3340.0,3350.0,3460.0,3400.0,3430.0,3450.0,3450.0,3430.0,3460.0,3390.0,3430.0,3460.0,3440.0,3430.0,3460.0,3460.0,3470.0,3580.0,3650.0,3640.0,3690.0,3630.0,3610.0,3550.0,3590.0,3600.0,3580.0,3540.0,3550.0,3540.0,3530.0,3620.0,3630.0,3620.0,3620.0,3680.0,3900.0,3860.0,3790.0,3850.0,3800.0,3700.0,3730.0,3740.0,3650.0,3690.0,3710.0,3680.0,3690.0,3700.0,3810.0,3900.0,3860.0,3840.0,3850.0,3840.0,3800.0,3780.0,3760.0,3750.0,3740.0,3780.0,3800.0,3790.0,3800.0,3780.0,3720.0,3730.0,3720.0,3700.0,3760.0,3750.0,3700.0,3640.0,3690.0,3720.0,3750.0,3800.0,3560.0,3580.0,3660.0,3640.0,3590.0,3600.0,3500.0,3530.0,3600.0,3510.0,3470.0,3530.0,3540.0,3650.0,3670.0,3640.0,3550.0,3550.0,3640.0,3660.0,3660.0,3630.0,3570.0,3490.0,3490.0,3490.0,3190.0,3220.0,3230.0,3200.0,3150.0,3080.0,3090.0,3120.0,3210.0,3260.0,3150.0,3220.0,3010.0,3070.0,3000.0,2900.0,2770.0,2780.0,2930.0,3090.0,3130.0,3250.0,3250.0,3170.0,3080.0,3150.0,3150.0,3120.0,3180.0,3210.0,3140.0,3140.0,3140.0,3140.0,3140.0,3140.0,3140.0,3020.0,2950.0,2900.0,2980.0,2810.0,2880.0,2820.0,2800.0,2890.0,2850.0,2830.0,2890.0,2910.0,2860.0,3040.0,3000.0,2960.0,2960.0,3000.0,2930.0,2870.0,2900.0,2890.0,3000.0,3060.0,2980.0,3050.0,3060.0,3100.0,3080.0,3070.0,3200.0,3270.0,3350.0,3350.0,3400.0,3330.0,3350.0,3300.0,3090.0,3150.0,3180.0,3050.0,3080.0,3130.0,3150.0,3180.0,3270.0,3320.0,3330.0,3260.0,3290.0,3180.0,3180.0,3200.0,3070.0,2910.0,2980.0,3030.0,2970.0,2980.0,2960.0,3030.0,3060.0,2970.0,2970.0,3050.0,3150.0,3120.0,3010.0,3030.0,3000.0,3090.0,3150.0,3150.0,3150.0,3060.0,3000.0,2970.0,2970.0,3030.0,2930.0,2930.0,2960.0,3000.0,3060.0,3070.0,3070.0,3010.0,3040.0,3000.0,2910.0,3000.0,3000.0,2960.0,3050.0,3190.0,3240.0,3260.0,3280.0,3340.0,3400.0,3430.0,3320.0,3280.0,3350.0,3370.0,3430.0,3540.0,3520.0,3420.0,3430.0,3530.0,3450.0,3480.0,3650.0,3700.0,3660.0,3720.0,3690.0,3640.0,3640.0,3640.0,3610.0,3610.0,3620.0,3690.0,3670.0,3650.0,3550.0,3600.0,3610.0,3610.0,3620.0,3620.0,3550.0,3650.0,3680.0,3660.0,3660.0,3610.0,3580.0,3620.0,3700.0,3660.0,3710.0,3740.0,3760.0,3730.0,3770.0,3790.0,3790.0,3850.0,3800.0,3770.0,3760.0,3750.0,3820.0,3750.0,3780.0,3700.0,3800.0,3880.0,3950.0,3900.0,3920.0,3930.0,3860.0,3890.0,3900.0,3890.0,3820.0,3840.0,3790.0,3900.0,3910.0,3830.0,3860.0,3940.0,3960.0,3910.0,3850.0,3870.0,3900.0,3900.0,3890.0,3900.0,3820.0,3900.0,3880.0,3800.0,3780.0,3900.0,3990.0,4040.0,3960.0,4010.0,4030.0,4030.0,4050.0,4080.0,4070.0,4050.0,4140.0,4170.0,4150.0,4180.0,4260.0,4290.0,4280.0,4300.0,4300.0,4300.0,4350.0,4330.0,4340.0,4450.0,4460.0,4460.0,4410.0,4410.0,4380.0,4240.0,4290.0,4390.0,4370.0,4420.0,4330.0,4300.0,4210.0,4250.0,4140.0,4100.0,4130.0,4000.0,4050.0,3940.0,3910.0,3800.0,3800.0,3710.0,3820.0,3780.0,3900.0,3930.0,3890.0,3940.0,3990.0,4100.0,4100.0,4100.0,4100.0,4100.0,4220.0,4250.0,4170.0,4250.0,4170.0,4250.0,4180.0,4330.0,4290.0,4310.0,4350.0,4330.0,4380.0,4370.0,4400.0,4420.0,4390.0,4360.0,4420.0,4380.0,4370.0,4410.0,4490.0,4510.0,4540.0,4500.0,4520.0,4500.0,4450.0,4500.0,4500.0,4520.0,4470.0,4410.0,4480.0,4500.0,4500.0,4490.0,4400.0,4410.0,4100.0,4140.0,4250.0,4330.0,4380.0,4330.0,4330.0,4210.0,4250.0,4130.0,4180.0,4100.0,4060.0,4030.0,4020.0,4130.0,4220.0,4220.0,4190.0,4270.0,4180.0,4180.0,4220.0,4260.0,4290.0,4180.0,4150.0,4300.0,4320.0,4290.0,4160.0,4240.0,4200.0,4200.0,4160.0,4160.0,4070.0,4110.0,4210.0,4200.0,4120.0,4050.0,3870.0,3880.0,3970.0,3960.0,3950.0,3970.0,3950.0,3950.0,3970.0,3960.0,4000.0,4050.0,4170.0,4080.0,4150.0,4180.0,4300.0,4230.0,4240.0,4260.0,4210.0,4220.0,4180.0,4190.0,4330.0,4160.0,4010.0,3950.0,4000.0,4000.0,3950.0,4000.0,4090.0,4150.0,4170.0,4200.0,4230.0,4150.0,4150.0,4100.0,4130.0,4060.0,4150.0,4210.0,4200.0,4200.0,4250.0,4190.0,4140.0,4190.0,4230.0,4280.0,4300.0,4360.0,4380.0,4350.0,4350.0,4450.0,4420.0,4380.0,4450.0,4400.0,4420.0,4360.0,4410.0,4380.0,4400.0,4430.0,4430.0,4540.0,4570.0,4570.0,4620.0,4690.0,4670.0,4680.0,4720.0,4730.0,4700.0,4580.0,4620.0,4700.0,4570.0,4460.0,4690.0,4570.0,4590.0,4580.0,4500.0,4540.0,4520.0,4580.0,4530.0,4480.0,4470.0,4460.0,4520.0,4560.0,4540.0,4460.0,4500.0,4380.0,3990.0,4190.0,4050.0,4140.0,4290.0,4040.0,3900.0,3780.0,3950.0,3820.0,3610.0,3750.0,3500.0,3270.0,3130.0,2930.0,2650.0,2580.0,2500.0,3000.0,3150.0,3100.0,3010.0,2850.0,2930.0,2950.0,3100.0,3000.0,2860.0,2790.0,2790.0,2900.0,2770.0,2670.0,2880.0,2750.0,2700.0,2830.0,2800.0,2680.0,2680.0,2600.0,2620.0,2670.0,2630.0,2630.0,2640.0,2630.0,2620.0,2460.0,2440.0,2380.0,2250.0,2250.0,2360.0,2550.0,2540.0,2640.0,2700.0,2950.0,3200.0,3120.0,3070.0,3180.0,3350.0,3180.0,3130.0,2900.0,3040.0,2970.0,3200.0,3050.0,3080.0,3100.0,3020.0,3050.0,3100.0,3100.0,3040.0,3070.0,3040.0,3090.0,3060.0,3070.0,3070.0,3040.0,3190.0,3130.0,3130.0,3160.0,3200.0,3130.0,3140.0,3100.0,3050.0,3160.0,3120.0,3130.0,3090.0,3160.0,3140.0,3130.0,3170.0,3000.0,3100.0,3100.0,3110.0,3110.0,3130.0,3190.0,3350.0,3330.0,3340.0,3520.0,3530.0,3670.0,3800.0,3740.0,3710.0,3700.0,3550.0,3620.0,3660.0,3610.0,3550.0,3510.0,3480.0,3300.0,3020.0,3300.0,3440.0,3370.0,3270.0,3200.0,3200.0,3110.0,3170.0,3030.0,3060.0,3180.0,3120.0,3060.0,3090.0,3180.0,3160.0,3220.0,3160.0,3150.0,3150.0,3160.0,3190.0,3300.0,3360.0,3340.0,3260.0,3280.0,3280.0,3220.0,3350.0,3300.0,3340.0,3360.0,3390.0,3420.0,3370.0,3510.0,3680.0,3800.0,3970.0,4100.0,3970.0,4050.0,4000.0,3980.0,4010.0,4040.0,4010.0,4120.0,4320.0,4220.0,4330.0,4250.0,4130.0,4320.0,4350.0,4400.0,4350.0,4400.0,4450.0,4400.0,4300.0,4280.0,4340.0,4360.0,4270.0,4330.0,4240.0,4150.0,4250.0,4250.0,4190.0,4150.0,4300.0,4280.0,4260.0,4330.0,4420.0,4680.0,4770.0,4820.0,4770.0,4580.0,4700.0,4670.0,4920.0,4860.0,4790.0,4780.0,4650.0,4580.0,4570.0,4180.0,4490.0,4480.0,4450.0,4540.0,4530.0,4500.0,4630.0,4700.0,4710.0,4740.0,4710.0,4700.0,4600.0,4850.0,4810.0,4790.0,4770.0,4730.0,4800.0,4870.0,4800.0,4850.0,4740.0,4800.0,4750.0,4650.0,4690.0,4580.0,4660.0,4680.0,4710.0,4750.0,4700.0,4720.0,4730.0,4700.0,4630.0,4780.0,4700.0,4450.0,4350.0,4320.0,4170.0,4230.0,4250.0,4380.0,4390.0,4210.0,4280.0,4390.0,4450.0,4360.0,4290.0,4240.0,4230.0,4200.0,4240.0,4200.0,4170.0,4190.0,4150.0,4060.0,4020.0,4110.0,4130.0,4140.0,4050.0,4030.0,3960.0,3960.0,3850.0,3840.0,3920.0,3970.0,4070.0,4140.0,4040.0,4130.0,4350.0,4270.0,4380.0,4340.0,4280.0,4100.0,4280.0,4350.0,4330.0,4350.0,4150.0,3980.0,4060.0,3880.0,3940.0,4050.0,4000.0,4030.0,3980.0,3860.0,3900.0,3940.0,4000.0,3930.0,3950.0,3920.0,3890.0,3860.0,3800.0,3800.0,3780.0,3750.0,3850.0,3850.0,3850.0,3870.0,3940.0,3900.0,3860.0,3800.0,3760.0,3830.0,3770.0,3740.0,3790.0,3900.0,4050.0,3940.0,3890.0,3850.0,3820.0,3870.0,3990.0,4000.0,3880.0,3980.0,3950.0,3499.939453125,3536.302490234375,3536.302490234375,3499.939453125,3581.75634765625,3572.66552734375,3509.0302734375,3499.939453125,3590.84716796875,3536.302490234375,3820.0,3700.0,3710.0,3710.0,3720.0,3670.0,3650.0,3630.0,3590.0,3510.0,3520.0,3600.0,3790.0,3770.0,3770.0,3720.0,3760.0,3850.0,3900.0,3950.0,3920.0,4150.0,4190.0,4160.0,4180.0,4230.0,4280.0,4250.0,4350.0,4450.0,4450.0,4340.0,4330.0,4280.0,4330.0,4210.0,4300.0,4330.0,4270.0,4250.0,4330.0,4270.0,4250.0,4230.0,4230.0,4290.0,4270.0,4220.0,4120.0,4170.0,4150.0,4220.0,4310.0,4280.0,4200.0,4180.0,4190.0,4150.0,4150.0,4090.0,4060.0,4210.0,4200.0,4190.0,4250.0,4220.0,4130.0,4170.0,4150.0,4150.0,4220.0,4090.0,4070.0,4100.0,4100.0,4090.0,4100.0,4070.0,4090.0,4090.0,4080.0,4120.0,4200.0,4180.0,4240.0,4170.0,4190.0,4180.0,4170.0,4180.0,4190.0,4200.0,4240.0,4210.0,4130.0,4130.0,4140.0,4100.0,4030.0,4070.0,4170.0,4170.0,4120.0,4180.0,4170.0,4240.0,4450.0,4400.0,4500.0,4420.0,4450.0,4440.0,4470.0,4390.0,4400.0,4460.0,4440.0,4520.0,4470.0,4450.0,4850.0,4680.0,4720.0,4580.0,4500.0,4530.0,4640.0,4400.0,4440.0,4550.0,4650.0,4690.0,4700.0,4600.0,4690.0,4680.0,4640.0,4760.0,4730.0,4750.0,4740.0,4700.0,4690.0,4730.0,4730.0,4690.0,4670.0,4630.0,4600.0,4550.0,4640.0,4600.0,4550.0,4550.0,4610.0,4850.0,4750.0,4700.0,4840.0,4900.0,4870.0,4750.0,4260.0,4550.0,4490.0,4250.0,4270.0,4500.0,4350.0,4440.0,4410.0,4320.0,4430.0,4500.0,4540.0,4470.0,4540.0,4530.0,4470.0,4460.0,4400.0,4500.0,4470.0,4260.0,4300.0,4360.0,4420.0,4370.0,4400.0,4430.0,4410.0,4300.0,4320.0,4310.0,4320.0,4280.0,4120.0,4150.0,4090.0,4040.0,4050.0,4040.0,4090.0,4150.0,4120.0,4110.0,4010.0,4060.0,4110.0,4150.0,4180.0,4300.0,4330.0,4250.0,4270.0,4380.0,4340.0,4390.0,4390.0,4360.0,4410.0,4380.0,4360.0,4360.0,4400.0,4350.0,4380.0,4340.0,4330.0,4350.0,4330.0,4340.0,4320.0,4260.0,4300.0,4280.0,4280.0,4250.0,4250.0,4250.0,4320.0,4410.0,4430.0,4670.0,4510.0,4480.0,4640.0,4610.0,4560.0,4520.0,4600.0,4610.0,4520.0,4570.0,4490.0,4500.0,4540.0,4480.0,4500.0,4510.0,4520.0,4450.0,4500.0,4560.0,4660.0,4540.0,4480.0,4420.0,4390.0,4470.0,4390.0,4380.0,4270.0,4280.0,4280.0,4280.0,4360.0,4430.0,4560.0,4600.0,4550.0,4600.0,4630.0,4690.0,4680.0,4630.0,4650.0,4650.0,4690.0,4600.0,4560.0,4620.0,4620.0,4580.0,4590.0,4520.0,4670.0,4620.0,4570.0,4640.0,4700.0,4700.0,4730.0,4820.0,4810.0,5000.0,4900.0,4910.0,4860.0,4840.0,4760.0,4830.0,4800.0,4870.0,5000.0,4900.0,4820.0,4970.0,4930.0],\"yaxis\":\"y\",\"type\":\"scattergl\"},{\"hovertemplate\":\"variable=close<br>Date=%{x}<br>Stock value=%{y}<extra></extra>\",\"legendgroup\":\"close\",\"line\":{\"color\":\"#EF553B\",\"dash\":\"solid\"},\"marker\":{\"symbol\":\"circle\"},\"mode\":\"lines\",\"name\":\"Stock Close Price\",\"showlegend\":true,\"x\":[\"2015-01-02T00:00:00\",\"2015-01-05T00:00:00\",\"2015-01-06T00:00:00\",\"2015-01-07T00:00:00\",\"2015-01-08T00:00:00\",\"2015-01-09T00:00:00\",\"2015-01-12T00:00:00\",\"2015-01-13T00:00:00\",\"2015-01-14T00:00:00\",\"2015-01-15T00:00:00\",\"2015-01-16T00:00:00\",\"2015-01-19T00:00:00\",\"2015-01-20T00:00:00\",\"2015-01-21T00:00:00\",\"2015-01-22T00:00:00\",\"2015-01-23T00:00:00\",\"2015-01-26T00:00:00\",\"2015-01-27T00:00:00\",\"2015-01-28T00:00:00\",\"2015-01-29T00:00:00\",\"2015-01-30T00:00:00\",\"2015-02-02T00:00:00\",\"2015-02-03T00:00:00\",\"2015-02-04T00:00:00\",\"2015-02-05T00:00:00\",\"2015-02-06T00:00:00\",\"2015-02-09T00:00:00\",\"2015-02-10T00:00:00\",\"2015-02-11T00:00:00\",\"2015-02-12T00:00:00\",\"2015-02-13T00:00:00\",\"2015-02-16T00:00:00\",\"2015-02-17T00:00:00\",\"2015-02-18T00:00:00\",\"2015-02-20T00:00:00\",\"2015-02-23T00:00:00\",\"2015-02-24T00:00:00\",\"2015-02-25T00:00:00\",\"2015-02-26T00:00:00\",\"2015-02-27T00:00:00\",\"2015-03-02T00:00:00\",\"2015-03-03T00:00:00\",\"2015-03-04T00:00:00\",\"2015-03-05T00:00:00\",\"2015-03-06T00:00:00\",\"2015-03-09T00:00:00\",\"2015-03-10T00:00:00\",\"2015-03-11T00:00:00\",\"2015-03-12T00:00:00\",\"2015-03-13T00:00:00\",\"2015-03-16T00:00:00\",\"2015-03-17T00:00:00\",\"2015-03-18T00:00:00\",\"2015-03-19T00:00:00\",\"2015-03-20T00:00:00\",\"2015-03-23T00:00:00\",\"2015-03-24T00:00:00\",\"2015-03-25T00:00:00\",\"2015-03-26T00:00:00\",\"2015-03-27T00:00:00\",\"2015-03-30T00:00:00\",\"2015-03-31T00:00:00\",\"2015-04-01T00:00:00\",\"2015-04-02T00:00:00\",\"2015-04-06T00:00:00\",\"2015-04-07T00:00:00\",\"2015-04-08T00:00:00\",\"2015-04-09T00:00:00\",\"2015-04-10T00:00:00\",\"2015-04-13T00:00:00\",\"2015-04-14T00:00:00\",\"2015-04-15T00:00:00\",\"2015-04-16T00:00:00\",\"2015-04-17T00:00:00\",\"2015-04-20T00:00:00\",\"2015-04-21T00:00:00\",\"2015-04-22T00:00:00\",\"2015-04-23T00:00:00\",\"2015-04-24T00:00:00\",\"2015-04-27T00:00:00\",\"2015-04-28T00:00:00\",\"2015-04-29T00:00:00\",\"2015-04-30T00:00:00\",\"2015-05-04T00:00:00\",\"2015-05-05T00:00:00\",\"2015-05-06T00:00:00\",\"2015-05-07T00:00:00\",\"2015-05-08T00:00:00\",\"2015-05-11T00:00:00\",\"2015-05-12T00:00:00\",\"2015-05-13T00:00:00\",\"2015-05-15T00:00:00\",\"2015-05-18T00:00:00\",\"2015-05-19T00:00:00\",\"2015-05-20T00:00:00\",\"2015-05-21T00:00:00\",\"2015-05-22T00:00:00\",\"2015-05-25T00:00:00\",\"2015-05-26T00:00:00\",\"2015-05-27T00:00:00\",\"2015-05-28T00:00:00\",\"2015-05-29T00:00:00\",\"2015-06-01T00:00:00\",\"2015-06-03T00:00:00\",\"2015-06-04T00:00:00\",\"2015-06-05T00:00:00\",\"2015-06-08T00:00:00\",\"2015-06-09T00:00:00\",\"2015-06-10T00:00:00\",\"2015-06-11T00:00:00\",\"2015-06-12T00:00:00\",\"2015-06-15T00:00:00\",\"2015-06-16T00:00:00\",\"2015-06-17T00:00:00\",\"2015-06-18T00:00:00\",\"2015-06-19T00:00:00\",\"2015-06-22T00:00:00\",\"2015-06-23T00:00:00\",\"2015-06-24T00:00:00\",\"2015-06-25T00:00:00\",\"2015-06-26T00:00:00\",\"2015-06-29T00:00:00\",\"2015-06-30T00:00:00\",\"2015-07-01T00:00:00\",\"2015-07-02T00:00:00\",\"2015-07-03T00:00:00\",\"2015-07-06T00:00:00\",\"2015-07-07T00:00:00\",\"2015-07-08T00:00:00\",\"2015-07-09T00:00:00\",\"2015-07-10T00:00:00\",\"2015-07-13T00:00:00\",\"2015-07-14T00:00:00\",\"2015-07-15T00:00:00\",\"2015-07-22T00:00:00\",\"2015-07-23T00:00:00\",\"2015-07-24T00:00:00\",\"2015-07-27T00:00:00\",\"2015-07-28T00:00:00\",\"2015-07-29T00:00:00\",\"2015-07-30T00:00:00\",\"2015-07-31T00:00:00\",\"2015-08-03T00:00:00\",\"2015-08-04T00:00:00\",\"2015-08-05T00:00:00\",\"2015-08-06T00:00:00\",\"2015-08-07T00:00:00\",\"2015-08-10T00:00:00\",\"2015-08-11T00:00:00\",\"2015-08-12T00:00:00\",\"2015-08-13T00:00:00\",\"2015-08-14T00:00:00\",\"2015-08-18T00:00:00\",\"2015-08-19T00:00:00\",\"2015-08-20T00:00:00\",\"2015-08-21T00:00:00\",\"2015-08-24T00:00:00\",\"2015-08-25T00:00:00\",\"2015-08-26T00:00:00\",\"2015-08-27T00:00:00\",\"2015-08-28T00:00:00\",\"2015-08-31T00:00:00\",\"2015-09-01T00:00:00\",\"2015-09-02T00:00:00\",\"2015-09-03T00:00:00\",\"2015-09-04T00:00:00\",\"2015-09-07T00:00:00\",\"2015-09-08T00:00:00\",\"2015-09-09T00:00:00\",\"2015-09-10T00:00:00\",\"2015-09-11T00:00:00\",\"2015-09-14T00:00:00\",\"2015-09-15T00:00:00\",\"2015-09-16T00:00:00\",\"2015-09-17T00:00:00\",\"2015-09-18T00:00:00\",\"2015-09-21T00:00:00\",\"2015-09-22T00:00:00\",\"2015-09-23T00:00:00\",\"2015-09-25T00:00:00\",\"2015-09-28T00:00:00\",\"2015-09-29T00:00:00\",\"2015-09-30T00:00:00\",\"2015-10-01T00:00:00\",\"2015-10-02T00:00:00\",\"2015-10-05T00:00:00\",\"2015-10-06T00:00:00\",\"2015-10-07T00:00:00\",\"2015-10-08T00:00:00\",\"2015-10-09T00:00:00\",\"2015-10-12T00:00:00\",\"2015-10-13T00:00:00\",\"2015-10-15T00:00:00\",\"2015-10-16T00:00:00\",\"2015-10-19T00:00:00\",\"2015-10-20T00:00:00\",\"2015-10-21T00:00:00\",\"2015-10-22T00:00:00\",\"2015-10-23T00:00:00\",\"2015-10-26T00:00:00\",\"2015-10-27T00:00:00\",\"2015-10-28T00:00:00\",\"2015-10-29T00:00:00\",\"2015-10-30T00:00:00\",\"2015-11-02T00:00:00\",\"2015-11-03T00:00:00\",\"2015-11-04T00:00:00\",\"2015-11-05T00:00:00\",\"2015-11-06T00:00:00\",\"2015-11-09T00:00:00\",\"2015-11-10T00:00:00\",\"2015-11-11T00:00:00\",\"2015-11-12T00:00:00\",\"2015-11-13T00:00:00\",\"2015-11-16T00:00:00\",\"2015-11-17T00:00:00\",\"2015-11-18T00:00:00\",\"2015-11-19T00:00:00\",\"2015-11-20T00:00:00\",\"2015-11-23T00:00:00\",\"2015-11-24T00:00:00\",\"2015-11-25T00:00:00\",\"2015-11-26T00:00:00\",\"2015-11-27T00:00:00\",\"2015-11-30T00:00:00\",\"2015-12-01T00:00:00\",\"2015-12-02T00:00:00\",\"2015-12-03T00:00:00\",\"2015-12-04T00:00:00\",\"2015-12-07T00:00:00\",\"2015-12-08T00:00:00\",\"2015-12-09T00:00:00\",\"2015-12-10T00:00:00\",\"2015-12-11T00:00:00\",\"2015-12-14T00:00:00\",\"2015-12-15T00:00:00\",\"2015-12-16T00:00:00\",\"2015-12-17T00:00:00\",\"2015-12-18T00:00:00\",\"2015-12-21T00:00:00\",\"2015-12-22T00:00:00\",\"2015-12-23T00:00:00\",\"2015-12-28T00:00:00\",\"2015-12-29T00:00:00\",\"2015-12-30T00:00:00\",\"2016-01-04T00:00:00\",\"2016-01-05T00:00:00\",\"2016-01-06T00:00:00\",\"2016-01-07T00:00:00\",\"2016-01-08T00:00:00\",\"2016-01-11T00:00:00\",\"2016-01-12T00:00:00\",\"2016-01-13T00:00:00\",\"2016-01-14T00:00:00\",\"2016-01-15T00:00:00\",\"2016-01-18T00:00:00\",\"2016-01-19T00:00:00\",\"2016-01-20T00:00:00\",\"2016-01-21T00:00:00\",\"2016-01-22T00:00:00\",\"2016-01-25T00:00:00\",\"2016-01-26T00:00:00\",\"2016-01-27T00:00:00\",\"2016-01-28T00:00:00\",\"2016-01-29T00:00:00\",\"2016-02-01T00:00:00\",\"2016-02-02T00:00:00\",\"2016-02-03T00:00:00\",\"2016-02-04T00:00:00\",\"2016-02-05T00:00:00\",\"2016-02-09T00:00:00\",\"2016-02-10T00:00:00\",\"2016-02-11T00:00:00\",\"2016-02-12T00:00:00\",\"2016-02-15T00:00:00\",\"2016-02-16T00:00:00\",\"2016-02-17T00:00:00\",\"2016-02-18T00:00:00\",\"2016-02-19T00:00:00\",\"2016-02-22T00:00:00\",\"2016-02-23T00:00:00\",\"2016-02-24T00:00:00\",\"2016-02-25T00:00:00\",\"2016-02-26T00:00:00\",\"2016-02-29T00:00:00\",\"2016-03-01T00:00:00\",\"2016-03-02T00:00:00\",\"2016-03-03T00:00:00\",\"2016-03-04T00:00:00\",\"2016-03-07T00:00:00\",\"2016-03-08T00:00:00\",\"2016-03-10T00:00:00\",\"2016-03-11T00:00:00\",\"2016-03-14T00:00:00\",\"2016-03-15T00:00:00\",\"2016-03-16T00:00:00\",\"2016-03-17T00:00:00\",\"2016-03-18T00:00:00\",\"2016-03-21T00:00:00\",\"2016-03-22T00:00:00\",\"2016-03-23T00:00:00\",\"2016-03-24T00:00:00\",\"2016-03-28T00:00:00\",\"2016-03-29T00:00:00\",\"2016-03-30T00:00:00\",\"2016-03-31T00:00:00\",\"2016-04-01T00:00:00\",\"2016-04-04T00:00:00\",\"2016-04-05T00:00:00\",\"2016-04-06T00:00:00\",\"2016-04-07T00:00:00\",\"2016-04-08T00:00:00\",\"2016-04-11T00:00:00\",\"2016-04-12T00:00:00\",\"2016-04-13T00:00:00\",\"2016-04-14T00:00:00\",\"2016-04-15T00:00:00\",\"2016-04-18T00:00:00\",\"2016-04-19T00:00:00\",\"2016-04-20T00:00:00\",\"2016-04-21T00:00:00\",\"2016-04-22T00:00:00\",\"2016-04-25T00:00:00\",\"2016-04-26T00:00:00\",\"2016-04-27T00:00:00\",\"2016-04-28T00:00:00\",\"2016-04-29T00:00:00\",\"2016-05-02T00:00:00\",\"2016-05-03T00:00:00\",\"2016-05-04T00:00:00\",\"2016-05-09T00:00:00\",\"2016-05-10T00:00:00\",\"2016-05-11T00:00:00\",\"2016-05-12T00:00:00\",\"2016-05-13T00:00:00\",\"2016-05-16T00:00:00\",\"2016-05-17T00:00:00\",\"2016-05-18T00:00:00\",\"2016-05-19T00:00:00\",\"2016-05-20T00:00:00\",\"2016-05-23T00:00:00\",\"2016-05-24T00:00:00\",\"2016-05-25T00:00:00\",\"2016-05-26T00:00:00\",\"2016-05-27T00:00:00\",\"2016-05-30T00:00:00\",\"2016-05-31T00:00:00\",\"2016-06-01T00:00:00\",\"2016-06-02T00:00:00\",\"2016-06-03T00:00:00\",\"2016-06-06T00:00:00\",\"2016-06-07T00:00:00\",\"2016-06-08T00:00:00\",\"2016-06-09T00:00:00\",\"2016-06-10T00:00:00\",\"2016-06-13T00:00:00\",\"2016-06-14T00:00:00\",\"2016-06-15T00:00:00\",\"2016-06-16T00:00:00\",\"2016-06-17T00:00:00\",\"2016-06-20T00:00:00\",\"2016-06-21T00:00:00\",\"2016-06-22T00:00:00\",\"2016-06-23T00:00:00\",\"2016-06-24T00:00:00\",\"2016-06-27T00:00:00\",\"2016-06-28T00:00:00\",\"2016-06-29T00:00:00\",\"2016-06-30T00:00:00\",\"2016-07-01T00:00:00\",\"2016-07-11T00:00:00\",\"2016-07-12T00:00:00\",\"2016-07-13T00:00:00\",\"2016-07-14T00:00:00\",\"2016-07-15T00:00:00\",\"2016-07-18T00:00:00\",\"2016-07-19T00:00:00\",\"2016-07-20T00:00:00\",\"2016-07-21T00:00:00\",\"2016-07-22T00:00:00\",\"2016-07-25T00:00:00\",\"2016-07-26T00:00:00\",\"2016-07-27T00:00:00\",\"2016-07-28T00:00:00\",\"2016-07-29T00:00:00\",\"2016-08-01T00:00:00\",\"2016-08-02T00:00:00\",\"2016-08-03T00:00:00\",\"2016-08-04T00:00:00\",\"2016-08-05T00:00:00\",\"2016-08-08T00:00:00\",\"2016-08-09T00:00:00\",\"2016-08-10T00:00:00\",\"2016-08-11T00:00:00\",\"2016-08-12T00:00:00\",\"2016-08-15T00:00:00\",\"2016-08-16T00:00:00\",\"2016-08-18T00:00:00\",\"2016-08-19T00:00:00\",\"2016-08-22T00:00:00\",\"2016-08-23T00:00:00\",\"2016-08-24T00:00:00\",\"2016-08-25T00:00:00\",\"2016-08-26T00:00:00\",\"2016-08-29T00:00:00\",\"2016-08-30T00:00:00\",\"2016-08-31T00:00:00\",\"2016-09-01T00:00:00\",\"2016-09-02T00:00:00\",\"2016-09-05T00:00:00\",\"2016-09-06T00:00:00\",\"2016-09-07T00:00:00\",\"2016-09-08T00:00:00\",\"2016-09-09T00:00:00\",\"2016-09-13T00:00:00\",\"2016-09-14T00:00:00\",\"2016-09-15T00:00:00\",\"2016-09-16T00:00:00\",\"2016-09-19T00:00:00\",\"2016-09-20T00:00:00\",\"2016-09-21T00:00:00\",\"2016-09-22T00:00:00\",\"2016-09-23T00:00:00\",\"2016-09-26T00:00:00\",\"2016-09-27T00:00:00\",\"2016-09-28T00:00:00\",\"2016-09-29T00:00:00\",\"2016-09-30T00:00:00\",\"2016-10-03T00:00:00\",\"2016-10-04T00:00:00\",\"2016-10-05T00:00:00\",\"2016-10-06T00:00:00\",\"2016-10-07T00:00:00\",\"2016-10-10T00:00:00\",\"2016-10-11T00:00:00\",\"2016-10-12T00:00:00\",\"2016-10-13T00:00:00\",\"2016-10-14T00:00:00\",\"2016-10-17T00:00:00\",\"2016-10-18T00:00:00\",\"2016-10-19T00:00:00\",\"2016-10-20T00:00:00\",\"2016-10-21T00:00:00\",\"2016-10-24T00:00:00\",\"2016-10-25T00:00:00\",\"2016-10-26T00:00:00\",\"2016-10-27T00:00:00\",\"2016-10-28T00:00:00\",\"2016-10-31T00:00:00\",\"2016-11-01T00:00:00\",\"2016-11-02T00:00:00\",\"2016-11-03T00:00:00\",\"2016-11-04T00:00:00\",\"2016-11-07T00:00:00\",\"2016-11-08T00:00:00\",\"2016-11-09T00:00:00\",\"2016-11-10T00:00:00\",\"2016-11-11T00:00:00\",\"2016-11-14T00:00:00\",\"2016-11-15T00:00:00\",\"2016-11-16T00:00:00\",\"2016-11-17T00:00:00\",\"2016-11-18T00:00:00\",\"2016-11-21T00:00:00\",\"2016-11-22T00:00:00\",\"2016-11-23T00:00:00\",\"2016-11-24T00:00:00\",\"2016-11-25T00:00:00\",\"2016-11-28T00:00:00\",\"2016-11-29T00:00:00\",\"2016-11-30T00:00:00\",\"2016-12-01T00:00:00\",\"2016-12-02T00:00:00\",\"2016-12-05T00:00:00\",\"2016-12-06T00:00:00\",\"2016-12-07T00:00:00\",\"2016-12-08T00:00:00\",\"2016-12-09T00:00:00\",\"2016-12-13T00:00:00\",\"2016-12-14T00:00:00\",\"2016-12-15T00:00:00\",\"2016-12-16T00:00:00\",\"2016-12-19T00:00:00\",\"2016-12-20T00:00:00\",\"2016-12-21T00:00:00\",\"2016-12-22T00:00:00\",\"2016-12-23T00:00:00\",\"2016-12-27T00:00:00\",\"2016-12-28T00:00:00\",\"2016-12-29T00:00:00\",\"2016-12-30T00:00:00\",\"2017-01-02T00:00:00\",\"2017-01-03T00:00:00\",\"2017-01-04T00:00:00\",\"2017-01-05T00:00:00\",\"2017-01-06T00:00:00\",\"2017-01-09T00:00:00\",\"2017-01-10T00:00:00\",\"2017-01-11T00:00:00\",\"2017-01-12T00:00:00\",\"2017-01-13T00:00:00\",\"2017-01-16T00:00:00\",\"2017-01-17T00:00:00\",\"2017-01-18T00:00:00\",\"2017-01-19T00:00:00\",\"2017-01-20T00:00:00\",\"2017-01-23T00:00:00\",\"2017-01-24T00:00:00\",\"2017-01-25T00:00:00\",\"2017-01-26T00:00:00\",\"2017-01-27T00:00:00\",\"2017-01-30T00:00:00\",\"2017-01-31T00:00:00\",\"2017-02-01T00:00:00\",\"2017-02-02T00:00:00\",\"2017-02-03T00:00:00\",\"2017-02-06T00:00:00\",\"2017-02-07T00:00:00\",\"2017-02-08T00:00:00\",\"2017-02-09T00:00:00\",\"2017-02-10T00:00:00\",\"2017-02-13T00:00:00\",\"2017-02-14T00:00:00\",\"2017-02-15T00:00:00\",\"2017-02-16T00:00:00\",\"2017-02-17T00:00:00\",\"2017-02-20T00:00:00\",\"2017-02-21T00:00:00\",\"2017-02-22T00:00:00\",\"2017-02-23T00:00:00\",\"2017-02-24T00:00:00\",\"2017-02-27T00:00:00\",\"2017-02-28T00:00:00\",\"2017-03-01T00:00:00\",\"2017-03-02T00:00:00\",\"2017-03-03T00:00:00\",\"2017-03-06T00:00:00\",\"2017-03-07T00:00:00\",\"2017-03-08T00:00:00\",\"2017-03-09T00:00:00\",\"2017-03-10T00:00:00\",\"2017-03-13T00:00:00\",\"2017-03-14T00:00:00\",\"2017-03-15T00:00:00\",\"2017-03-16T00:00:00\",\"2017-03-17T00:00:00\",\"2017-03-20T00:00:00\",\"2017-03-21T00:00:00\",\"2017-03-22T00:00:00\",\"2017-03-23T00:00:00\",\"2017-03-24T00:00:00\",\"2017-03-27T00:00:00\",\"2017-03-29T00:00:00\",\"2017-03-30T00:00:00\",\"2017-03-31T00:00:00\",\"2017-04-03T00:00:00\",\"2017-04-04T00:00:00\",\"2017-04-05T00:00:00\",\"2017-04-06T00:00:00\",\"2017-04-07T00:00:00\",\"2017-04-10T00:00:00\",\"2017-04-11T00:00:00\",\"2017-04-12T00:00:00\",\"2017-04-13T00:00:00\",\"2017-04-17T00:00:00\",\"2017-04-18T00:00:00\",\"2017-04-19T00:00:00\",\"2017-04-20T00:00:00\",\"2017-04-21T00:00:00\",\"2017-04-25T00:00:00\",\"2017-04-26T00:00:00\",\"2017-04-27T00:00:00\",\"2017-04-28T00:00:00\",\"2017-05-02T00:00:00\",\"2017-05-03T00:00:00\",\"2017-05-04T00:00:00\",\"2017-05-05T00:00:00\",\"2017-05-08T00:00:00\",\"2017-05-09T00:00:00\",\"2017-05-10T00:00:00\",\"2017-05-12T00:00:00\",\"2017-05-15T00:00:00\",\"2017-05-16T00:00:00\",\"2017-05-17T00:00:00\",\"2017-05-18T00:00:00\",\"2017-05-19T00:00:00\",\"2017-05-22T00:00:00\",\"2017-05-23T00:00:00\",\"2017-05-24T00:00:00\",\"2017-05-26T00:00:00\",\"2017-05-29T00:00:00\",\"2017-05-30T00:00:00\",\"2017-05-31T00:00:00\",\"2017-06-01T00:00:00\",\"2017-06-02T00:00:00\",\"2017-06-05T00:00:00\",\"2017-06-06T00:00:00\",\"2017-06-07T00:00:00\",\"2017-06-08T00:00:00\",\"2017-06-09T00:00:00\",\"2017-06-12T00:00:00\",\"2017-06-13T00:00:00\",\"2017-06-14T00:00:00\",\"2017-06-15T00:00:00\",\"2017-06-16T00:00:00\",\"2017-06-19T00:00:00\",\"2017-06-20T00:00:00\",\"2017-06-21T00:00:00\",\"2017-06-22T00:00:00\",\"2017-06-23T00:00:00\",\"2017-06-26T00:00:00\",\"2017-06-27T00:00:00\",\"2017-06-28T00:00:00\",\"2017-06-29T00:00:00\",\"2017-06-30T00:00:00\",\"2017-07-03T00:00:00\",\"2017-07-04T00:00:00\",\"2017-07-05T00:00:00\",\"2017-07-06T00:00:00\",\"2017-07-07T00:00:00\",\"2017-07-10T00:00:00\",\"2017-07-11T00:00:00\",\"2017-07-12T00:00:00\",\"2017-07-13T00:00:00\",\"2017-07-14T00:00:00\",\"2017-07-17T00:00:00\",\"2017-07-18T00:00:00\",\"2017-07-19T00:00:00\",\"2017-07-20T00:00:00\",\"2017-07-21T00:00:00\",\"2017-07-24T00:00:00\",\"2017-07-25T00:00:00\",\"2017-07-26T00:00:00\",\"2017-07-27T00:00:00\",\"2017-07-28T00:00:00\",\"2017-07-31T00:00:00\",\"2017-08-01T00:00:00\",\"2017-08-02T00:00:00\",\"2017-08-03T00:00:00\",\"2017-08-04T00:00:00\",\"2017-08-07T00:00:00\",\"2017-08-08T00:00:00\",\"2017-08-09T00:00:00\",\"2017-08-10T00:00:00\",\"2017-08-11T00:00:00\",\"2017-08-14T00:00:00\",\"2017-08-15T00:00:00\",\"2017-08-16T00:00:00\",\"2017-08-17T00:00:00\",\"2017-08-18T00:00:00\",\"2017-08-21T00:00:00\",\"2017-08-22T00:00:00\",\"2017-08-23T00:00:00\",\"2017-08-24T00:00:00\",\"2017-08-25T00:00:00\",\"2017-08-28T00:00:00\",\"2017-08-29T00:00:00\",\"2017-08-30T00:00:00\",\"2017-08-31T00:00:00\",\"2017-09-01T00:00:00\",\"2017-09-04T00:00:00\",\"2017-09-05T00:00:00\",\"2017-09-06T00:00:00\",\"2017-09-07T00:00:00\",\"2017-09-08T00:00:00\",\"2017-09-11T00:00:00\",\"2017-09-12T00:00:00\",\"2017-09-13T00:00:00\",\"2017-09-14T00:00:00\",\"2017-09-15T00:00:00\",\"2017-09-18T00:00:00\",\"2017-09-19T00:00:00\",\"2017-09-20T00:00:00\",\"2017-09-21T00:00:00\",\"2017-09-22T00:00:00\",\"2017-09-25T00:00:00\",\"2017-09-26T00:00:00\",\"2017-09-27T00:00:00\",\"2017-09-28T00:00:00\",\"2017-09-29T00:00:00\",\"2017-10-02T00:00:00\",\"2017-10-03T00:00:00\",\"2017-10-04T00:00:00\",\"2017-10-05T00:00:00\",\"2017-10-06T00:00:00\",\"2017-10-09T00:00:00\",\"2017-10-10T00:00:00\",\"2017-10-11T00:00:00\",\"2017-10-12T00:00:00\",\"2017-10-13T00:00:00\",\"2017-10-16T00:00:00\",\"2017-10-17T00:00:00\",\"2017-10-18T00:00:00\",\"2017-10-19T00:00:00\",\"2017-10-20T00:00:00\",\"2017-10-23T00:00:00\",\"2017-10-24T00:00:00\",\"2017-10-25T00:00:00\",\"2017-10-26T00:00:00\",\"2017-10-27T00:00:00\",\"2017-10-30T00:00:00\",\"2017-10-31T00:00:00\",\"2017-11-01T00:00:00\",\"2017-11-02T00:00:00\",\"2017-11-03T00:00:00\",\"2017-11-06T00:00:00\",\"2017-11-07T00:00:00\",\"2017-11-08T00:00:00\",\"2017-11-09T00:00:00\",\"2017-11-10T00:00:00\",\"2017-11-13T00:00:00\",\"2017-11-14T00:00:00\",\"2017-11-15T00:00:00\",\"2017-11-16T00:00:00\",\"2017-11-17T00:00:00\",\"2017-11-20T00:00:00\",\"2017-11-21T00:00:00\",\"2017-11-22T00:00:00\",\"2017-11-23T00:00:00\",\"2017-11-24T00:00:00\",\"2017-11-27T00:00:00\",\"2017-11-28T00:00:00\",\"2017-11-29T00:00:00\",\"2017-11-30T00:00:00\",\"2017-12-01T00:00:00\",\"2017-12-04T00:00:00\",\"2017-12-05T00:00:00\",\"2017-12-06T00:00:00\",\"2017-12-07T00:00:00\",\"2017-12-08T00:00:00\",\"2017-12-11T00:00:00\",\"2017-12-12T00:00:00\",\"2017-12-13T00:00:00\",\"2017-12-14T00:00:00\",\"2017-12-15T00:00:00\",\"2017-12-18T00:00:00\",\"2017-12-19T00:00:00\",\"2017-12-20T00:00:00\",\"2017-12-21T00:00:00\",\"2017-12-22T00:00:00\",\"2017-12-25T00:00:00\",\"2017-12-26T00:00:00\",\"2017-12-27T00:00:00\",\"2017-12-28T00:00:00\",\"2017-12-29T00:00:00\",\"2018-01-01T00:00:00\",\"2018-01-02T00:00:00\",\"2018-01-03T00:00:00\",\"2018-01-04T00:00:00\",\"2018-01-05T00:00:00\",\"2018-01-08T00:00:00\",\"2018-01-09T00:00:00\",\"2018-01-10T00:00:00\",\"2018-01-11T00:00:00\",\"2018-01-12T00:00:00\",\"2018-01-15T00:00:00\",\"2018-01-16T00:00:00\",\"2018-01-17T00:00:00\",\"2018-01-18T00:00:00\",\"2018-01-19T00:00:00\",\"2018-01-22T00:00:00\",\"2018-01-23T00:00:00\",\"2018-01-24T00:00:00\",\"2018-01-25T00:00:00\",\"2018-01-26T00:00:00\",\"2018-01-29T00:00:00\",\"2018-01-30T00:00:00\",\"2018-01-31T00:00:00\",\"2018-02-01T00:00:00\",\"2018-02-02T00:00:00\",\"2018-02-05T00:00:00\",\"2018-02-06T00:00:00\",\"2018-02-07T00:00:00\",\"2018-02-08T00:00:00\",\"2018-02-09T00:00:00\",\"2018-02-12T00:00:00\",\"2018-02-13T00:00:00\",\"2018-02-14T00:00:00\",\"2018-02-15T00:00:00\",\"2018-02-16T00:00:00\",\"2018-02-19T00:00:00\",\"2018-02-20T00:00:00\",\"2018-02-21T00:00:00\",\"2018-02-22T00:00:00\",\"2018-02-23T00:00:00\",\"2018-02-26T00:00:00\",\"2018-02-27T00:00:00\",\"2018-02-28T00:00:00\",\"2018-03-01T00:00:00\",\"2018-03-02T00:00:00\",\"2018-03-05T00:00:00\",\"2018-03-06T00:00:00\",\"2018-03-07T00:00:00\",\"2018-03-08T00:00:00\",\"2018-03-09T00:00:00\",\"2018-03-12T00:00:00\",\"2018-03-13T00:00:00\",\"2018-03-14T00:00:00\",\"2018-03-15T00:00:00\",\"2018-03-16T00:00:00\",\"2018-03-19T00:00:00\",\"2018-03-20T00:00:00\",\"2018-03-21T00:00:00\",\"2018-03-22T00:00:00\",\"2018-03-23T00:00:00\",\"2018-03-26T00:00:00\",\"2018-03-27T00:00:00\",\"2018-03-28T00:00:00\",\"2018-03-29T00:00:00\",\"2018-03-30T00:00:00\",\"2018-04-02T00:00:00\",\"2018-04-03T00:00:00\",\"2018-04-04T00:00:00\",\"2018-04-05T00:00:00\",\"2018-04-06T00:00:00\",\"2018-04-09T00:00:00\",\"2018-04-10T00:00:00\",\"2018-04-11T00:00:00\",\"2018-04-12T00:00:00\",\"2018-04-13T00:00:00\",\"2018-04-16T00:00:00\",\"2018-04-17T00:00:00\",\"2018-04-18T00:00:00\",\"2018-04-19T00:00:00\",\"2018-04-20T00:00:00\",\"2018-04-23T00:00:00\",\"2018-04-24T00:00:00\",\"2018-04-25T00:00:00\",\"2018-04-26T00:00:00\",\"2018-04-27T00:00:00\",\"2018-04-30T00:00:00\",\"2018-05-01T00:00:00\",\"2018-05-02T00:00:00\",\"2018-05-03T00:00:00\",\"2018-05-04T00:00:00\",\"2018-05-07T00:00:00\",\"2018-05-08T00:00:00\",\"2018-05-09T00:00:00\",\"2018-05-10T00:00:00\",\"2018-05-11T00:00:00\",\"2018-05-14T00:00:00\",\"2018-05-15T00:00:00\",\"2018-05-16T00:00:00\",\"2018-05-17T00:00:00\",\"2018-05-18T00:00:00\",\"2018-05-21T00:00:00\",\"2018-05-22T00:00:00\",\"2018-05-23T00:00:00\",\"2018-05-24T00:00:00\",\"2018-05-25T00:00:00\",\"2018-05-28T00:00:00\",\"2018-05-29T00:00:00\",\"2018-05-30T00:00:00\",\"2018-05-31T00:00:00\",\"2018-06-01T00:00:00\",\"2018-06-04T00:00:00\",\"2018-06-05T00:00:00\",\"2018-06-06T00:00:00\",\"2018-06-07T00:00:00\",\"2018-06-08T00:00:00\",\"2018-06-11T00:00:00\",\"2018-06-12T00:00:00\",\"2018-06-13T00:00:00\",\"2018-06-14T00:00:00\",\"2018-06-15T00:00:00\",\"2018-06-18T00:00:00\",\"2018-06-19T00:00:00\",\"2018-06-20T00:00:00\",\"2018-06-21T00:00:00\",\"2018-06-22T00:00:00\",\"2018-06-25T00:00:00\",\"2018-06-26T00:00:00\",\"2018-06-27T00:00:00\",\"2018-06-28T00:00:00\",\"2018-06-29T00:00:00\",\"2018-07-02T00:00:00\",\"2018-07-03T00:00:00\",\"2018-07-04T00:00:00\",\"2018-07-05T00:00:00\",\"2018-07-06T00:00:00\",\"2018-07-09T00:00:00\",\"2018-07-10T00:00:00\",\"2018-07-11T00:00:00\",\"2018-07-12T00:00:00\",\"2018-07-13T00:00:00\",\"2018-07-16T00:00:00\",\"2018-07-17T00:00:00\",\"2018-07-18T00:00:00\",\"2018-07-19T00:00:00\",\"2018-07-20T00:00:00\",\"2018-07-23T00:00:00\",\"2018-07-24T00:00:00\",\"2018-07-25T00:00:00\",\"2018-07-26T00:00:00\",\"2018-07-27T00:00:00\",\"2018-07-30T00:00:00\",\"2018-07-31T00:00:00\",\"2018-08-01T00:00:00\",\"2018-08-02T00:00:00\",\"2018-08-03T00:00:00\",\"2018-08-06T00:00:00\",\"2018-08-07T00:00:00\",\"2018-08-08T00:00:00\",\"2018-08-09T00:00:00\",\"2018-08-10T00:00:00\",\"2018-08-13T00:00:00\",\"2018-08-14T00:00:00\",\"2018-08-15T00:00:00\",\"2018-08-16T00:00:00\",\"2018-08-17T00:00:00\",\"2018-08-20T00:00:00\",\"2018-08-21T00:00:00\",\"2018-08-22T00:00:00\",\"2018-08-23T00:00:00\",\"2018-08-24T00:00:00\",\"2018-08-27T00:00:00\",\"2018-08-28T00:00:00\",\"2018-08-29T00:00:00\",\"2018-08-30T00:00:00\",\"2018-08-31T00:00:00\",\"2018-09-03T00:00:00\",\"2018-09-04T00:00:00\",\"2018-09-05T00:00:00\",\"2018-09-06T00:00:00\",\"2018-09-07T00:00:00\",\"2018-09-10T00:00:00\",\"2018-09-11T00:00:00\",\"2018-09-12T00:00:00\",\"2018-09-13T00:00:00\",\"2018-09-14T00:00:00\",\"2018-09-17T00:00:00\",\"2018-09-18T00:00:00\",\"2018-09-19T00:00:00\",\"2018-09-20T00:00:00\",\"2018-09-21T00:00:00\",\"2018-09-24T00:00:00\",\"2018-09-25T00:00:00\",\"2018-09-26T00:00:00\",\"2018-09-27T00:00:00\",\"2018-09-28T00:00:00\",\"2018-10-01T00:00:00\",\"2018-10-02T00:00:00\",\"2018-10-03T00:00:00\",\"2018-10-04T00:00:00\",\"2018-10-05T00:00:00\",\"2018-10-08T00:00:00\",\"2018-10-09T00:00:00\",\"2018-10-10T00:00:00\",\"2018-10-11T00:00:00\",\"2018-10-12T00:00:00\",\"2018-10-15T00:00:00\",\"2018-10-16T00:00:00\",\"2018-10-17T00:00:00\",\"2018-10-18T00:00:00\",\"2018-10-19T00:00:00\",\"2018-10-22T00:00:00\",\"2018-10-23T00:00:00\",\"2018-10-24T00:00:00\",\"2018-10-25T00:00:00\",\"2018-10-26T00:00:00\",\"2018-10-29T00:00:00\",\"2018-10-30T00:00:00\",\"2018-10-31T00:00:00\",\"2018-11-01T00:00:00\",\"2018-11-02T00:00:00\",\"2018-11-05T00:00:00\",\"2018-11-06T00:00:00\",\"2018-11-07T00:00:00\",\"2018-11-08T00:00:00\",\"2018-11-09T00:00:00\",\"2018-11-12T00:00:00\",\"2018-11-13T00:00:00\",\"2018-11-14T00:00:00\",\"2018-11-15T00:00:00\",\"2018-11-16T00:00:00\",\"2018-11-19T00:00:00\",\"2018-11-20T00:00:00\",\"2018-11-21T00:00:00\",\"2018-11-22T00:00:00\",\"2018-11-23T00:00:00\",\"2018-11-26T00:00:00\",\"2018-11-27T00:00:00\",\"2018-11-28T00:00:00\",\"2018-11-29T00:00:00\",\"2018-11-30T00:00:00\",\"2018-12-03T00:00:00\",\"2018-12-04T00:00:00\",\"2018-12-05T00:00:00\",\"2018-12-06T00:00:00\",\"2018-12-07T00:00:00\",\"2018-12-10T00:00:00\",\"2018-12-11T00:00:00\",\"2018-12-12T00:00:00\",\"2018-12-13T00:00:00\",\"2018-12-14T00:00:00\",\"2018-12-17T00:00:00\",\"2018-12-18T00:00:00\",\"2018-12-19T00:00:00\",\"2018-12-20T00:00:00\",\"2018-12-21T00:00:00\",\"2018-12-24T00:00:00\",\"2018-12-25T00:00:00\",\"2018-12-26T00:00:00\",\"2018-12-27T00:00:00\",\"2018-12-28T00:00:00\",\"2018-12-31T00:00:00\",\"2019-01-01T00:00:00\",\"2019-01-02T00:00:00\",\"2019-01-03T00:00:00\",\"2019-01-04T00:00:00\",\"2019-01-07T00:00:00\",\"2019-01-08T00:00:00\",\"2019-01-09T00:00:00\",\"2019-01-10T00:00:00\",\"2019-01-11T00:00:00\",\"2019-01-14T00:00:00\",\"2019-01-15T00:00:00\",\"2019-01-16T00:00:00\",\"2019-01-17T00:00:00\",\"2019-01-18T00:00:00\",\"2019-01-21T00:00:00\",\"2019-01-22T00:00:00\",\"2019-01-23T00:00:00\",\"2019-01-24T00:00:00\",\"2019-01-25T00:00:00\",\"2019-01-28T00:00:00\",\"2019-01-29T00:00:00\",\"2019-01-30T00:00:00\",\"2019-01-31T00:00:00\",\"2019-02-01T00:00:00\",\"2019-02-04T00:00:00\",\"2019-02-05T00:00:00\",\"2019-02-06T00:00:00\",\"2019-02-07T00:00:00\",\"2019-02-08T00:00:00\",\"2019-02-11T00:00:00\",\"2019-02-12T00:00:00\",\"2019-02-13T00:00:00\",\"2019-02-14T00:00:00\",\"2019-02-15T00:00:00\",\"2019-02-18T00:00:00\",\"2019-02-19T00:00:00\",\"2019-02-20T00:00:00\",\"2019-02-21T00:00:00\",\"2019-02-22T00:00:00\",\"2019-02-25T00:00:00\",\"2019-02-26T00:00:00\",\"2019-02-27T00:00:00\",\"2019-02-28T00:00:00\",\"2019-03-01T00:00:00\",\"2019-03-04T00:00:00\",\"2019-03-05T00:00:00\",\"2019-03-06T00:00:00\",\"2019-03-07T00:00:00\",\"2019-03-08T00:00:00\",\"2019-03-11T00:00:00\",\"2019-03-12T00:00:00\",\"2019-03-13T00:00:00\",\"2019-03-14T00:00:00\",\"2019-03-15T00:00:00\",\"2019-03-18T00:00:00\",\"2019-03-19T00:00:00\",\"2019-03-20T00:00:00\",\"2019-03-21T00:00:00\",\"2019-03-22T00:00:00\",\"2019-03-25T00:00:00\",\"2019-03-26T00:00:00\",\"2019-03-27T00:00:00\",\"2019-03-28T00:00:00\",\"2019-03-29T00:00:00\",\"2019-04-01T00:00:00\",\"2019-04-02T00:00:00\",\"2019-04-03T00:00:00\",\"2019-04-04T00:00:00\",\"2019-04-05T00:00:00\",\"2019-04-08T00:00:00\",\"2019-04-09T00:00:00\",\"2019-04-10T00:00:00\",\"2019-04-11T00:00:00\",\"2019-04-12T00:00:00\",\"2019-04-15T00:00:00\",\"2019-04-16T00:00:00\",\"2019-04-17T00:00:00\",\"2019-04-18T00:00:00\",\"2019-04-19T00:00:00\",\"2019-04-22T00:00:00\",\"2019-04-23T00:00:00\",\"2019-04-24T00:00:00\",\"2019-04-25T00:00:00\",\"2019-04-26T00:00:00\",\"2019-04-29T00:00:00\",\"2019-04-30T00:00:00\",\"2019-05-01T00:00:00\",\"2019-05-02T00:00:00\",\"2019-05-03T00:00:00\",\"2019-05-06T00:00:00\",\"2019-05-07T00:00:00\",\"2019-05-08T00:00:00\",\"2019-05-09T00:00:00\",\"2019-05-10T00:00:00\",\"2019-05-13T00:00:00\",\"2019-05-14T00:00:00\",\"2019-05-15T00:00:00\",\"2019-05-16T00:00:00\",\"2019-05-17T00:00:00\",\"2019-05-20T00:00:00\",\"2019-05-21T00:00:00\",\"2019-05-22T00:00:00\",\"2019-05-23T00:00:00\",\"2019-05-24T00:00:00\",\"2019-05-27T00:00:00\",\"2019-05-28T00:00:00\",\"2019-05-29T00:00:00\",\"2019-05-30T00:00:00\",\"2019-05-31T00:00:00\",\"2019-06-03T00:00:00\",\"2019-06-04T00:00:00\",\"2019-06-05T00:00:00\",\"2019-06-06T00:00:00\",\"2019-06-07T00:00:00\",\"2019-06-10T00:00:00\",\"2019-06-11T00:00:00\",\"2019-06-12T00:00:00\",\"2019-06-13T00:00:00\",\"2019-06-14T00:00:00\",\"2019-06-17T00:00:00\",\"2019-06-18T00:00:00\",\"2019-06-20T00:00:00\",\"2019-06-21T00:00:00\",\"2019-06-24T00:00:00\",\"2019-06-25T00:00:00\",\"2019-06-26T00:00:00\",\"2019-06-27T00:00:00\",\"2019-06-28T00:00:00\",\"2019-07-01T00:00:00\",\"2019-07-02T00:00:00\",\"2019-07-03T00:00:00\",\"2019-07-04T00:00:00\",\"2019-07-05T00:00:00\",\"2019-07-08T00:00:00\",\"2019-07-09T00:00:00\",\"2019-07-10T00:00:00\",\"2019-07-11T00:00:00\",\"2019-07-12T00:00:00\",\"2019-07-15T00:00:00\",\"2019-07-16T00:00:00\",\"2019-07-17T00:00:00\",\"2019-07-18T00:00:00\",\"2019-07-19T00:00:00\",\"2019-07-22T00:00:00\",\"2019-07-23T00:00:00\",\"2019-07-24T00:00:00\",\"2019-07-25T00:00:00\",\"2019-07-26T00:00:00\",\"2019-07-29T00:00:00\",\"2019-07-30T00:00:00\",\"2019-07-31T00:00:00\",\"2019-08-01T00:00:00\",\"2019-08-02T00:00:00\",\"2019-08-05T00:00:00\",\"2019-08-06T00:00:00\",\"2019-08-07T00:00:00\",\"2019-08-08T00:00:00\",\"2019-08-09T00:00:00\",\"2019-08-12T00:00:00\",\"2019-08-13T00:00:00\",\"2019-08-14T00:00:00\",\"2019-08-15T00:00:00\",\"2019-08-16T00:00:00\",\"2019-08-19T00:00:00\",\"2019-08-20T00:00:00\",\"2019-08-21T00:00:00\",\"2019-08-22T00:00:00\",\"2019-08-23T00:00:00\",\"2019-08-26T00:00:00\",\"2019-08-27T00:00:00\",\"2019-08-28T00:00:00\",\"2019-08-29T00:00:00\",\"2019-08-30T00:00:00\",\"2019-09-02T00:00:00\",\"2019-09-03T00:00:00\",\"2019-09-04T00:00:00\",\"2019-09-05T00:00:00\",\"2019-09-06T00:00:00\",\"2019-09-09T00:00:00\",\"2019-09-10T00:00:00\",\"2019-09-11T00:00:00\",\"2019-09-12T00:00:00\",\"2019-09-13T00:00:00\",\"2019-09-16T00:00:00\",\"2019-09-17T00:00:00\",\"2019-09-18T00:00:00\",\"2019-09-19T00:00:00\",\"2019-09-20T00:00:00\",\"2019-09-23T00:00:00\",\"2019-09-24T00:00:00\",\"2019-09-25T00:00:00\",\"2019-09-26T00:00:00\",\"2019-09-27T00:00:00\",\"2019-09-30T00:00:00\",\"2019-10-01T00:00:00\",\"2019-10-02T00:00:00\",\"2019-10-03T00:00:00\",\"2019-10-04T00:00:00\",\"2019-10-07T00:00:00\",\"2019-10-08T00:00:00\",\"2019-10-09T00:00:00\",\"2019-10-10T00:00:00\",\"2019-10-11T00:00:00\",\"2019-10-14T00:00:00\",\"2019-10-15T00:00:00\",\"2019-10-16T00:00:00\",\"2019-10-17T00:00:00\",\"2019-10-18T00:00:00\",\"2019-10-21T00:00:00\",\"2019-10-22T00:00:00\",\"2019-10-23T00:00:00\",\"2019-10-24T00:00:00\",\"2019-10-25T00:00:00\",\"2019-10-28T00:00:00\",\"2019-10-29T00:00:00\",\"2019-10-30T00:00:00\",\"2019-10-31T00:00:00\",\"2019-11-01T00:00:00\",\"2019-11-04T00:00:00\",\"2019-11-05T00:00:00\",\"2019-11-06T00:00:00\",\"2019-11-07T00:00:00\",\"2019-11-08T00:00:00\",\"2019-11-11T00:00:00\",\"2019-11-12T00:00:00\",\"2019-11-13T00:00:00\",\"2019-11-14T00:00:00\",\"2019-11-15T00:00:00\",\"2019-11-18T00:00:00\",\"2019-11-19T00:00:00\",\"2019-11-20T00:00:00\",\"2019-11-21T00:00:00\",\"2019-11-22T00:00:00\",\"2019-11-25T00:00:00\",\"2019-11-26T00:00:00\",\"2019-11-27T00:00:00\",\"2019-11-28T00:00:00\",\"2019-11-29T00:00:00\",\"2019-12-02T00:00:00\",\"2019-12-03T00:00:00\",\"2019-12-04T00:00:00\",\"2019-12-05T00:00:00\",\"2019-12-06T00:00:00\",\"2019-12-09T00:00:00\",\"2019-12-10T00:00:00\",\"2019-12-11T00:00:00\",\"2019-12-12T00:00:00\",\"2019-12-13T00:00:00\",\"2019-12-16T00:00:00\",\"2019-12-17T00:00:00\",\"2019-12-18T00:00:00\",\"2019-12-19T00:00:00\",\"2019-12-20T00:00:00\",\"2019-12-23T00:00:00\",\"2019-12-26T00:00:00\",\"2019-12-27T00:00:00\",\"2019-12-30T00:00:00\",\"2020-01-02T00:00:00\",\"2020-01-03T00:00:00\",\"2020-01-06T00:00:00\",\"2020-01-07T00:00:00\",\"2020-01-08T00:00:00\",\"2020-01-09T00:00:00\",\"2020-01-10T00:00:00\",\"2020-01-13T00:00:00\",\"2020-01-14T00:00:00\",\"2020-01-15T00:00:00\",\"2020-01-16T00:00:00\",\"2020-01-17T00:00:00\",\"2020-01-20T00:00:00\",\"2020-01-21T00:00:00\",\"2020-01-22T00:00:00\",\"2020-01-23T00:00:00\",\"2020-01-24T00:00:00\",\"2020-01-27T00:00:00\",\"2020-01-28T00:00:00\",\"2020-01-29T00:00:00\",\"2020-01-30T00:00:00\",\"2020-01-31T00:00:00\",\"2020-02-03T00:00:00\",\"2020-02-04T00:00:00\",\"2020-02-05T00:00:00\",\"2020-02-06T00:00:00\",\"2020-02-07T00:00:00\",\"2020-02-10T00:00:00\",\"2020-02-11T00:00:00\",\"2020-02-12T00:00:00\",\"2020-02-13T00:00:00\",\"2020-02-14T00:00:00\",\"2020-02-17T00:00:00\",\"2020-02-18T00:00:00\",\"2020-02-19T00:00:00\",\"2020-02-20T00:00:00\",\"2020-02-21T00:00:00\",\"2020-02-24T00:00:00\",\"2020-02-25T00:00:00\",\"2020-02-26T00:00:00\",\"2020-02-27T00:00:00\",\"2020-02-28T00:00:00\",\"2020-03-02T00:00:00\",\"2020-03-03T00:00:00\",\"2020-03-04T00:00:00\",\"2020-03-05T00:00:00\",\"2020-03-06T00:00:00\",\"2020-03-09T00:00:00\",\"2020-03-10T00:00:00\",\"2020-03-11T00:00:00\",\"2020-03-12T00:00:00\",\"2020-03-13T00:00:00\",\"2020-03-16T00:00:00\",\"2020-03-17T00:00:00\",\"2020-03-18T00:00:00\",\"2020-03-19T00:00:00\",\"2020-03-20T00:00:00\",\"2020-03-23T00:00:00\",\"2020-03-24T00:00:00\",\"2020-03-26T00:00:00\",\"2020-03-27T00:00:00\",\"2020-03-30T00:00:00\",\"2020-03-31T00:00:00\",\"2020-04-01T00:00:00\",\"2020-04-02T00:00:00\",\"2020-04-03T00:00:00\",\"2020-04-06T00:00:00\",\"2020-04-07T00:00:00\",\"2020-04-08T00:00:00\",\"2020-04-09T00:00:00\",\"2020-04-13T00:00:00\",\"2020-04-14T00:00:00\",\"2020-04-15T00:00:00\",\"2020-04-16T00:00:00\",\"2020-04-17T00:00:00\",\"2020-04-20T00:00:00\",\"2020-04-21T00:00:00\",\"2020-04-22T00:00:00\",\"2020-04-23T00:00:00\",\"2020-04-24T00:00:00\",\"2020-04-27T00:00:00\",\"2020-04-28T00:00:00\",\"2020-04-29T00:00:00\",\"2020-04-30T00:00:00\",\"2020-05-04T00:00:00\",\"2020-05-05T00:00:00\",\"2020-05-06T00:00:00\",\"2020-05-08T00:00:00\",\"2020-05-11T00:00:00\",\"2020-05-12T00:00:00\",\"2020-05-13T00:00:00\",\"2020-05-14T00:00:00\",\"2020-05-15T00:00:00\",\"2020-05-18T00:00:00\",\"2020-05-19T00:00:00\",\"2020-05-20T00:00:00\",\"2020-05-26T00:00:00\",\"2020-05-27T00:00:00\",\"2020-05-28T00:00:00\",\"2020-05-29T00:00:00\",\"2020-06-02T00:00:00\",\"2020-06-03T00:00:00\",\"2020-06-04T00:00:00\",\"2020-06-05T00:00:00\",\"2020-06-08T00:00:00\",\"2020-06-09T00:00:00\",\"2020-06-10T00:00:00\",\"2020-06-11T00:00:00\",\"2020-06-12T00:00:00\",\"2020-06-15T00:00:00\",\"2020-06-16T00:00:00\",\"2020-06-17T00:00:00\",\"2020-06-18T00:00:00\",\"2020-06-19T00:00:00\",\"2020-06-22T00:00:00\",\"2020-06-23T00:00:00\",\"2020-06-24T00:00:00\",\"2020-06-25T00:00:00\",\"2020-06-26T00:00:00\",\"2020-06-29T00:00:00\",\"2020-06-30T00:00:00\",\"2020-07-01T00:00:00\",\"2020-07-02T00:00:00\",\"2020-07-03T00:00:00\",\"2020-07-06T00:00:00\",\"2020-07-07T00:00:00\",\"2020-07-08T00:00:00\",\"2020-07-09T00:00:00\",\"2020-07-10T00:00:00\",\"2020-07-13T00:00:00\",\"2020-07-14T00:00:00\",\"2020-07-15T00:00:00\",\"2020-07-16T00:00:00\",\"2020-07-17T00:00:00\",\"2020-07-20T00:00:00\",\"2020-07-21T00:00:00\",\"2020-07-22T00:00:00\",\"2020-07-23T00:00:00\",\"2020-07-24T00:00:00\",\"2020-07-27T00:00:00\",\"2020-07-28T00:00:00\",\"2020-07-29T00:00:00\",\"2020-07-30T00:00:00\",\"2020-08-03T00:00:00\",\"2020-08-04T00:00:00\",\"2020-08-05T00:00:00\",\"2020-08-06T00:00:00\",\"2020-08-07T00:00:00\",\"2020-08-10T00:00:00\",\"2020-08-11T00:00:00\",\"2020-08-12T00:00:00\",\"2020-08-13T00:00:00\",\"2020-08-14T00:00:00\",\"2020-08-18T00:00:00\",\"2020-08-19T00:00:00\",\"2020-08-24T00:00:00\",\"2020-08-25T00:00:00\",\"2020-08-26T00:00:00\",\"2020-08-27T00:00:00\",\"2020-08-28T00:00:00\",\"2020-08-31T00:00:00\",\"2020-09-01T00:00:00\",\"2020-09-02T00:00:00\",\"2020-09-03T00:00:00\",\"2020-09-04T00:00:00\",\"2020-09-07T00:00:00\",\"2020-09-08T00:00:00\",\"2020-09-09T00:00:00\",\"2020-09-10T00:00:00\",\"2020-09-11T00:00:00\",\"2020-09-14T00:00:00\",\"2020-09-15T00:00:00\",\"2020-09-16T00:00:00\",\"2020-09-17T00:00:00\",\"2020-09-18T00:00:00\",\"2020-09-21T00:00:00\",\"2020-09-22T00:00:00\",\"2020-09-23T00:00:00\",\"2020-09-24T00:00:00\",\"2020-09-25T00:00:00\",\"2020-09-28T00:00:00\",\"2020-09-29T00:00:00\",\"2020-09-30T00:00:00\",\"2020-10-01T00:00:00\",\"2020-10-02T00:00:00\",\"2020-10-05T00:00:00\",\"2020-10-06T00:00:00\",\"2020-10-07T00:00:00\",\"2020-10-08T00:00:00\",\"2020-10-09T00:00:00\",\"2020-10-12T00:00:00\",\"2020-10-13T00:00:00\",\"2020-10-14T00:00:00\",\"2020-10-15T00:00:00\",\"2020-10-16T00:00:00\",\"2020-10-19T00:00:00\",\"2020-10-20T00:00:00\",\"2020-10-21T00:00:00\",\"2020-10-22T00:00:00\",\"2020-10-23T00:00:00\",\"2020-10-26T00:00:00\",\"2020-10-27T00:00:00\",\"2020-11-02T00:00:00\",\"2020-11-03T00:00:00\",\"2020-11-04T00:00:00\",\"2020-11-05T00:00:00\",\"2020-11-06T00:00:00\",\"2020-11-09T00:00:00\",\"2020-11-10T00:00:00\",\"2020-11-11T00:00:00\",\"2020-11-12T00:00:00\",\"2020-11-13T00:00:00\",\"2020-11-16T00:00:00\",\"2020-11-17T00:00:00\",\"2020-11-18T00:00:00\",\"2020-11-19T00:00:00\",\"2020-11-20T00:00:00\",\"2020-11-23T00:00:00\",\"2020-11-24T00:00:00\",\"2020-11-25T00:00:00\",\"2020-11-26T00:00:00\",\"2020-11-27T00:00:00\",\"2020-11-30T00:00:00\",\"2020-12-01T00:00:00\",\"2020-12-02T00:00:00\",\"2020-12-03T00:00:00\",\"2020-12-04T00:00:00\",\"2020-12-07T00:00:00\",\"2020-12-08T00:00:00\",\"2020-12-10T00:00:00\",\"2020-12-11T00:00:00\",\"2020-12-14T00:00:00\",\"2020-12-15T00:00:00\",\"2020-12-16T00:00:00\",\"2020-12-17T00:00:00\",\"2020-12-18T00:00:00\",\"2020-12-21T00:00:00\",\"2020-12-22T00:00:00\",\"2020-12-23T00:00:00\",\"2020-12-28T00:00:00\",\"2020-12-29T00:00:00\",\"2020-12-30T00:00:00\",\"2021-01-04T00:00:00\",\"2021-01-05T00:00:00\",\"2021-01-06T00:00:00\",\"2021-01-07T00:00:00\",\"2021-01-08T00:00:00\",\"2021-01-11T00:00:00\",\"2021-01-12T00:00:00\",\"2021-01-13T00:00:00\",\"2021-01-14T00:00:00\",\"2021-01-15T00:00:00\",\"2021-01-18T00:00:00\",\"2021-01-19T00:00:00\",\"2021-01-20T00:00:00\",\"2021-01-21T00:00:00\",\"2021-01-22T00:00:00\",\"2021-01-25T00:00:00\",\"2021-01-26T00:00:00\",\"2021-01-27T00:00:00\",\"2021-01-28T00:00:00\",\"2021-01-29T00:00:00\",\"2021-02-01T00:00:00\",\"2021-02-02T00:00:00\",\"2021-02-03T00:00:00\",\"2021-02-04T00:00:00\",\"2021-02-05T00:00:00\",\"2021-02-08T00:00:00\",\"2021-02-09T00:00:00\",\"2021-02-10T00:00:00\",\"2021-02-11T00:00:00\",\"2021-02-15T00:00:00\",\"2021-02-16T00:00:00\",\"2021-02-17T00:00:00\",\"2021-02-18T00:00:00\",\"2021-02-19T00:00:00\",\"2021-02-22T00:00:00\",\"2021-02-23T00:00:00\",\"2021-02-24T00:00:00\",\"2021-02-25T00:00:00\",\"2021-02-26T00:00:00\",\"2021-03-01T00:00:00\",\"2021-03-02T00:00:00\",\"2021-03-03T00:00:00\",\"2021-03-04T00:00:00\",\"2021-03-05T00:00:00\",\"2021-03-08T00:00:00\",\"2021-03-09T00:00:00\",\"2021-03-10T00:00:00\",\"2021-03-12T00:00:00\",\"2021-03-15T00:00:00\",\"2021-03-16T00:00:00\",\"2021-03-17T00:00:00\",\"2021-03-18T00:00:00\",\"2021-03-19T00:00:00\",\"2021-03-22T00:00:00\",\"2021-03-23T00:00:00\",\"2021-03-24T00:00:00\",\"2021-03-25T00:00:00\",\"2021-03-26T00:00:00\",\"2021-03-29T00:00:00\",\"2021-03-30T00:00:00\",\"2021-03-31T00:00:00\",\"2021-04-01T00:00:00\",\"2021-04-05T00:00:00\",\"2021-04-06T00:00:00\",\"2021-04-07T00:00:00\",\"2021-04-08T00:00:00\",\"2021-04-09T00:00:00\",\"2021-04-12T00:00:00\",\"2021-04-13T00:00:00\",\"2021-04-14T00:00:00\",\"2021-04-15T00:00:00\",\"2021-04-16T00:00:00\",\"2021-04-19T00:00:00\",\"2021-04-20T00:00:00\",\"2021-04-21T00:00:00\",\"2021-04-22T00:00:00\",\"2021-04-23T00:00:00\",\"2021-04-26T00:00:00\",\"2021-04-27T00:00:00\",\"2021-04-28T00:00:00\",\"2021-04-29T00:00:00\",\"2021-04-30T00:00:00\",\"2021-05-03T00:00:00\",\"2021-05-04T00:00:00\",\"2021-05-05T00:00:00\",\"2021-05-06T00:00:00\",\"2021-05-07T00:00:00\",\"2021-05-10T00:00:00\",\"2021-05-11T00:00:00\",\"2021-05-17T00:00:00\",\"2021-05-18T00:00:00\",\"2021-05-19T00:00:00\",\"2021-05-20T00:00:00\",\"2021-05-21T00:00:00\",\"2021-05-24T00:00:00\",\"2021-05-25T00:00:00\",\"2021-05-27T00:00:00\",\"2021-05-28T00:00:00\",\"2021-05-31T00:00:00\",\"2021-06-02T00:00:00\",\"2021-06-03T00:00:00\",\"2021-06-04T00:00:00\",\"2021-06-07T00:00:00\",\"2021-06-08T00:00:00\",\"2021-06-09T00:00:00\",\"2021-06-10T00:00:00\",\"2021-06-11T00:00:00\",\"2021-06-14T00:00:00\",\"2021-06-15T00:00:00\",\"2021-06-16T00:00:00\",\"2021-06-17T00:00:00\",\"2021-06-18T00:00:00\",\"2021-06-21T00:00:00\",\"2021-06-22T00:00:00\",\"2021-06-23T00:00:00\",\"2021-06-24T00:00:00\",\"2021-06-25T00:00:00\",\"2021-06-28T00:00:00\",\"2021-06-29T00:00:00\",\"2021-06-30T00:00:00\",\"2021-07-01T00:00:00\",\"2021-07-02T00:00:00\",\"2021-07-05T00:00:00\",\"2021-07-06T00:00:00\",\"2021-07-07T00:00:00\",\"2021-07-08T00:00:00\",\"2021-07-09T00:00:00\",\"2021-07-12T00:00:00\",\"2021-07-13T00:00:00\",\"2021-07-14T00:00:00\",\"2021-07-15T00:00:00\",\"2021-07-16T00:00:00\",\"2021-07-19T00:00:00\",\"2021-07-21T00:00:00\",\"2021-07-22T00:00:00\",\"2021-07-23T00:00:00\",\"2021-07-26T00:00:00\",\"2021-07-27T00:00:00\",\"2021-07-28T00:00:00\",\"2021-07-29T00:00:00\",\"2021-07-30T00:00:00\",\"2021-08-02T00:00:00\",\"2021-08-03T00:00:00\",\"2021-08-04T00:00:00\",\"2021-08-05T00:00:00\",\"2021-08-06T00:00:00\",\"2021-08-09T00:00:00\",\"2021-08-10T00:00:00\",\"2021-08-12T00:00:00\",\"2021-08-13T00:00:00\",\"2021-08-16T00:00:00\",\"2021-08-18T00:00:00\",\"2021-08-19T00:00:00\",\"2021-08-20T00:00:00\",\"2021-08-23T00:00:00\",\"2021-08-24T00:00:00\",\"2021-08-25T00:00:00\",\"2021-08-26T00:00:00\",\"2021-08-27T00:00:00\",\"2021-08-30T00:00:00\",\"2021-08-31T00:00:00\",\"2021-09-01T00:00:00\",\"2021-09-02T00:00:00\",\"2021-09-03T00:00:00\",\"2021-09-06T00:00:00\",\"2021-09-07T00:00:00\",\"2021-09-08T00:00:00\",\"2021-09-09T00:00:00\",\"2021-09-10T00:00:00\",\"2021-09-13T00:00:00\",\"2021-09-14T00:00:00\",\"2021-09-15T00:00:00\",\"2021-09-16T00:00:00\",\"2021-09-17T00:00:00\",\"2021-09-20T00:00:00\",\"2021-09-21T00:00:00\",\"2021-09-22T00:00:00\",\"2021-09-23T00:00:00\",\"2021-09-24T00:00:00\",\"2021-09-27T00:00:00\",\"2021-09-28T00:00:00\",\"2021-09-29T00:00:00\",\"2021-09-30T00:00:00\",\"2021-10-01T00:00:00\",\"2021-10-04T00:00:00\",\"2021-10-05T00:00:00\",\"2021-10-06T00:00:00\",\"2021-10-07T00:00:00\",\"2021-10-08T00:00:00\",\"2021-10-11T00:00:00\",\"2021-10-12T00:00:00\",\"2021-10-13T00:00:00\",\"2021-10-14T00:00:00\",\"2021-10-15T00:00:00\",\"2021-10-18T00:00:00\",\"2021-10-19T00:00:00\",\"2021-10-21T00:00:00\",\"2021-10-22T00:00:00\",\"2021-10-25T00:00:00\",\"2021-10-26T00:00:00\",\"2021-10-27T00:00:00\",\"2021-10-28T00:00:00\",\"2021-10-29T00:00:00\",\"2021-11-01T00:00:00\",\"2021-11-02T00:00:00\",\"2021-11-03T00:00:00\",\"2021-11-04T00:00:00\",\"2021-11-05T00:00:00\",\"2021-11-08T00:00:00\",\"2021-11-09T00:00:00\",\"2021-11-10T00:00:00\",\"2021-11-11T00:00:00\",\"2021-11-12T00:00:00\",\"2021-11-15T00:00:00\",\"2021-11-16T00:00:00\",\"2021-11-17T00:00:00\",\"2021-11-18T00:00:00\",\"2021-11-19T00:00:00\",\"2021-11-22T00:00:00\",\"2021-11-23T00:00:00\",\"2021-11-24T00:00:00\",\"2021-11-25T00:00:00\",\"2021-11-26T00:00:00\",\"2021-11-29T00:00:00\",\"2021-11-30T00:00:00\",\"2021-12-01T00:00:00\",\"2021-12-02T00:00:00\",\"2021-12-03T00:00:00\",\"2021-12-06T00:00:00\",\"2021-12-07T00:00:00\",\"2021-12-08T00:00:00\",\"2021-12-09T00:00:00\",\"2021-12-10T00:00:00\",\"2021-12-13T00:00:00\",\"2021-12-14T00:00:00\",\"2021-12-15T00:00:00\",\"2021-12-16T00:00:00\",\"2021-12-17T00:00:00\",\"2021-12-20T00:00:00\",\"2021-12-21T00:00:00\",\"2021-12-22T00:00:00\",\"2021-12-23T00:00:00\",\"2021-12-24T00:00:00\",\"2021-12-27T00:00:00\",\"2021-12-28T00:00:00\",\"2021-12-29T00:00:00\",\"2021-12-30T00:00:00\",\"2022-01-03T00:00:00\",\"2022-01-04T00:00:00\",\"2022-01-05T00:00:00\",\"2022-01-06T00:00:00\",\"2022-01-07T00:00:00\",\"2022-01-10T00:00:00\",\"2022-01-11T00:00:00\",\"2022-01-12T00:00:00\",\"2022-01-13T00:00:00\",\"2022-01-14T00:00:00\",\"2022-01-17T00:00:00\",\"2022-01-18T00:00:00\",\"2022-01-19T00:00:00\",\"2022-01-20T00:00:00\",\"2022-01-21T00:00:00\",\"2022-01-24T00:00:00\",\"2022-01-25T00:00:00\",\"2022-01-26T00:00:00\",\"2022-01-27T00:00:00\",\"2022-01-28T00:00:00\",\"2022-01-31T00:00:00\",\"2022-02-02T00:00:00\",\"2022-02-03T00:00:00\",\"2022-02-04T00:00:00\",\"2022-02-07T00:00:00\",\"2022-02-08T00:00:00\",\"2022-02-09T00:00:00\",\"2022-02-10T00:00:00\",\"2022-02-11T00:00:00\",\"2022-02-14T00:00:00\",\"2022-02-15T00:00:00\",\"2022-02-16T00:00:00\",\"2022-02-17T00:00:00\",\"2022-02-18T00:00:00\",\"2022-02-21T00:00:00\",\"2022-02-22T00:00:00\",\"2022-02-23T00:00:00\",\"2022-02-24T00:00:00\",\"2022-02-25T00:00:00\",\"2022-03-01T00:00:00\",\"2022-03-02T00:00:00\",\"2022-03-04T00:00:00\",\"2022-03-07T00:00:00\",\"2022-03-08T00:00:00\",\"2022-03-09T00:00:00\",\"2022-03-10T00:00:00\",\"2022-03-11T00:00:00\",\"2022-03-14T00:00:00\",\"2022-03-15T00:00:00\",\"2022-03-16T00:00:00\",\"2022-03-17T00:00:00\",\"2022-03-18T00:00:00\",\"2022-03-21T00:00:00\",\"2022-03-22T00:00:00\",\"2022-03-23T00:00:00\",\"2022-03-24T00:00:00\",\"2022-03-25T00:00:00\",\"2022-03-28T00:00:00\",\"2022-03-29T00:00:00\",\"2022-03-30T00:00:00\",\"2022-03-31T00:00:00\",\"2022-04-01T00:00:00\",\"2022-04-04T00:00:00\",\"2022-04-05T00:00:00\",\"2022-04-06T00:00:00\",\"2022-04-07T00:00:00\",\"2022-04-08T00:00:00\",\"2022-04-11T00:00:00\",\"2022-04-12T00:00:00\",\"2022-04-13T00:00:00\",\"2022-04-14T00:00:00\",\"2022-04-18T00:00:00\",\"2022-04-19T00:00:00\",\"2022-04-20T00:00:00\",\"2022-04-21T00:00:00\",\"2022-04-22T00:00:00\",\"2022-04-25T00:00:00\",\"2022-04-26T00:00:00\",\"2022-04-27T00:00:00\",\"2022-04-28T00:00:00\",\"2022-05-09T00:00:00\",\"2022-05-10T00:00:00\",\"2022-05-11T00:00:00\",\"2022-05-12T00:00:00\",\"2022-05-13T00:00:00\",\"2022-05-17T00:00:00\",\"2022-05-18T00:00:00\",\"2022-05-19T00:00:00\",\"2022-05-20T00:00:00\",\"2022-05-23T00:00:00\",\"2022-05-24T00:00:00\",\"2022-05-25T00:00:00\",\"2022-05-27T00:00:00\",\"2022-05-30T00:00:00\",\"2022-05-31T00:00:00\",\"2022-06-02T00:00:00\",\"2022-06-03T00:00:00\",\"2022-06-06T00:00:00\",\"2022-06-07T00:00:00\",\"2022-06-08T00:00:00\",\"2022-06-09T00:00:00\",\"2022-06-10T00:00:00\",\"2022-06-13T00:00:00\",\"2022-06-14T00:00:00\",\"2022-06-15T00:00:00\",\"2022-06-16T00:00:00\",\"2022-06-17T00:00:00\",\"2022-06-20T00:00:00\",\"2022-06-21T00:00:00\",\"2022-06-22T00:00:00\",\"2022-06-23T00:00:00\",\"2022-06-24T00:00:00\",\"2022-06-27T00:00:00\",\"2022-06-28T00:00:00\",\"2022-06-29T00:00:00\",\"2022-06-30T00:00:00\",\"2022-07-01T00:00:00\",\"2022-07-04T00:00:00\",\"2022-07-05T00:00:00\",\"2022-07-06T00:00:00\",\"2022-07-07T00:00:00\",\"2022-07-08T00:00:00\",\"2022-07-11T00:00:00\",\"2022-07-12T00:00:00\",\"2022-07-13T00:00:00\",\"2022-07-14T00:00:00\",\"2022-07-15T00:00:00\",\"2022-07-18T00:00:00\",\"2022-07-19T00:00:00\",\"2022-07-20T00:00:00\",\"2022-07-21T00:00:00\",\"2022-07-22T00:00:00\",\"2022-07-25T00:00:00\",\"2022-07-26T00:00:00\",\"2022-07-27T00:00:00\",\"2022-07-28T00:00:00\",\"2022-07-29T00:00:00\",\"2022-08-01T00:00:00\",\"2022-08-02T00:00:00\",\"2022-08-03T00:00:00\",\"2022-08-04T00:00:00\",\"2022-08-05T00:00:00\",\"2022-08-08T00:00:00\",\"2022-08-09T00:00:00\",\"2022-08-10T00:00:00\",\"2022-08-11T00:00:00\",\"2022-08-12T00:00:00\",\"2022-08-15T00:00:00\",\"2022-08-16T00:00:00\",\"2022-08-18T00:00:00\",\"2022-08-19T00:00:00\",\"2022-08-22T00:00:00\",\"2022-08-23T00:00:00\",\"2022-08-24T00:00:00\",\"2022-08-25T00:00:00\",\"2022-08-26T00:00:00\",\"2022-08-29T00:00:00\",\"2022-08-30T00:00:00\",\"2022-08-31T00:00:00\",\"2022-09-01T00:00:00\",\"2022-09-02T00:00:00\",\"2022-09-05T00:00:00\",\"2022-09-06T00:00:00\",\"2022-09-07T00:00:00\",\"2022-09-08T00:00:00\",\"2022-09-09T00:00:00\",\"2022-09-12T00:00:00\",\"2022-09-13T00:00:00\",\"2022-09-14T00:00:00\",\"2022-09-15T00:00:00\",\"2022-09-16T00:00:00\",\"2022-09-19T00:00:00\",\"2022-09-20T00:00:00\",\"2022-09-21T00:00:00\",\"2022-09-22T00:00:00\",\"2022-09-23T00:00:00\",\"2022-09-26T00:00:00\",\"2022-09-27T00:00:00\",\"2022-09-28T00:00:00\",\"2022-09-29T00:00:00\",\"2022-09-30T00:00:00\",\"2022-10-03T00:00:00\",\"2022-10-04T00:00:00\",\"2022-10-05T00:00:00\",\"2022-10-06T00:00:00\",\"2022-10-07T00:00:00\",\"2022-10-10T00:00:00\",\"2022-10-11T00:00:00\",\"2022-10-12T00:00:00\",\"2022-10-13T00:00:00\",\"2022-10-14T00:00:00\",\"2022-10-17T00:00:00\",\"2022-10-18T00:00:00\",\"2022-10-19T00:00:00\",\"2022-10-20T00:00:00\",\"2022-10-21T00:00:00\",\"2022-10-24T00:00:00\",\"2022-10-25T00:00:00\",\"2022-10-26T00:00:00\",\"2022-10-27T00:00:00\",\"2022-10-28T00:00:00\",\"2022-10-31T00:00:00\",\"2022-11-01T00:00:00\",\"2022-11-02T00:00:00\",\"2022-11-03T00:00:00\",\"2022-11-04T00:00:00\",\"2022-11-07T00:00:00\",\"2022-11-08T00:00:00\",\"2022-11-09T00:00:00\",\"2022-11-10T00:00:00\",\"2022-11-11T00:00:00\",\"2022-11-14T00:00:00\",\"2022-11-15T00:00:00\",\"2022-11-16T00:00:00\",\"2022-11-17T00:00:00\",\"2022-11-18T00:00:00\",\"2022-11-21T00:00:00\",\"2022-11-22T00:00:00\",\"2022-11-23T00:00:00\",\"2022-11-24T00:00:00\",\"2022-11-25T00:00:00\",\"2022-11-28T00:00:00\",\"2022-11-29T00:00:00\",\"2022-11-30T00:00:00\",\"2022-12-01T00:00:00\",\"2022-12-02T00:00:00\",\"2022-12-05T00:00:00\",\"2022-12-06T00:00:00\",\"2022-12-07T00:00:00\",\"2022-12-08T00:00:00\",\"2022-12-09T00:00:00\",\"2022-12-12T00:00:00\",\"2022-12-13T00:00:00\",\"2022-12-14T00:00:00\",\"2022-12-15T00:00:00\",\"2022-12-16T00:00:00\",\"2022-12-19T00:00:00\",\"2022-12-20T00:00:00\"],\"xaxis\":\"x\",\"y\":[2330.0,2320.0,2305.0,2355.0,2395.0,2405.0,2350.0,2365.0,2350.0,2340.0,2315.0,2320.0,2300.0,2285.0,2295.0,2375.0,2375.0,2385.0,2340.0,2340.0,2335.0,2345.0,2350.0,2355.0,2340.0,2330.0,2335.0,2330.0,2340.0,2375.0,2400.0,2405.0,2400.0,2495.0,2545.0,2540.0,2560.0,2585.0,2590.0,2575.0,2590.0,2575.0,2565.0,2570.0,2615.0,2585.0,2575.0,2570.0,2580.0,2550.0,2580.0,2585.0,2595.0,2610.0,2580.0,2580.0,2600.0,2630.0,2625.0,2615.0,2605.0,2655.0,2600.0,2600.0,2605.0,2635.0,2620.0,2615.0,2605.0,2600.0,2600.0,2615.0,2625.0,2600.0,2630.0,2640.0,2635.0,2610.0,2590.0,2405.0,2375.0,2325.0,2325.0,2325.0,2340.0,2350.0,2325.0,2330.0,2355.0,2405.0,2435.0,2360.0,2400.0,2455.0,2495.0,2550.0,2520.0,2470.0,2475.0,2390.0,2365.0,2355.0,2345.0,2250.0,2225.0,2260.0,2200.0,2095.0,2080.0,2025.0,2075.0,2030.0,2110.0,2200.0,2155.0,2210.0,2190.0,2160.0,2060.0,2040.0,2095.0,2075.0,2070.0,2110.0,2175.0,2165.0,2080.0,2095.0,2045.0,2060.0,2095.0,2095.0,2100.0,2025.0,2070.0,2050.0,2020.0,1955.0,1880.0,1900.0,1870.0,2000.0,2090.0,2080.0,2160.0,2155.0,2110.0,2115.0,2030.0,1940.0,2005.0,2045.0,1960.0,1980.0,1945.0,1900.0,1830.0,1900.0,1950.0,2100.0,2080.0,2125.0,2020.0,2040.0,2030.0,2015.0,1955.0,1985.0,1985.0,1930.0,1920.0,1925.0,1925.0,1920.0,2005.0,1955.0,1905.0,1870.0,1760.0,1710.0,1660.0,1670.0,1730.0,1745.0,1735.0,1825.0,1890.0,1970.0,1995.0,2110.0,2160.0,2005.0,2025.0,2060.0,2085.0,2125.0,2110.0,2140.0,2240.0,2320.0,2320.0,2220.0,2150.0,2105.0,2055.0,2140.0,2210.0,2145.0,2140.0,2115.0,2090.0,2095.0,2105.0,2105.0,2105.0,2180.0,2190.0,2195.0,2200.0,2200.0,2210.0,2295.0,2295.0,2260.0,2155.0,2250.0,2255.0,2255.0,2260.0,2210.0,2180.0,2180.0,2175.0,2165.0,2135.0,2150.0,2270.0,2310.0,2175.0,2220.0,2210.0,2220.0,2280.0,2280.0,2285.0,2295.0,2315.0,2305.0,2250.0,2320.0,2275.0,2320.0,2320.0,2345.0,2290.0,2280.0,2300.0,2200.0,2165.0,2255.0,2285.0,2260.0,2275.0,2250.0,2245.0,2245.0,2205.0,2185.0,2280.0,2460.0,2395.0,2355.0,2375.0,2360.0,2375.0,2385.0,2390.0,2400.0,2290.0,2195.0,2120.0,2135.0,2090.0,2170.0,2215.0,2140.0,2195.0,2230.0,2275.0,2280.0,2265.0,2200.0,2200.0,2200.0,2215.0,2210.0,2200.0,2225.0,2230.0,2235.0,2255.0,2255.0,2220.0,2195.0,2230.0,2285.0,2220.0,2220.0,2220.0,2230.0,2220.0,2160.0,2160.0,2125.0,2125.0,2125.0,2125.0,2125.0,2125.0,2095.0,2140.0,2180.0,2100.0,2040.0,2040.0,2075.0,2070.0,2055.0,2105.0,2070.0,2005.0,2010.0,2000.0,1980.0,1975.0,1990.0,1940.0,1905.0,1935.0,1960.0,1985.0,1965.0,1985.0,2060.0,2080.0,2125.0,2070.0,2090.0,2055.0,2080.0,2120.0,2130.0,2130.0,2075.0,2065.0,2020.0,1995.0,2010.0,2040.0,2050.0,2065.0,2080.0,2100.0,2085.0,2060.0,2045.0,2075.0,2135.0,2160.0,2150.0,2270.0,2300.0,2310.0,2275.0,2300.0,2295.0,2360.0,2375.0,2300.0,2285.0,2270.0,2310.0,2320.0,2280.0,2305.0,2345.0,2350.0,2330.0,2360.0,2395.0,2430.0,2400.0,2400.0,2380.0,2390.0,2400.0,2420.0,2420.0,2400.0,2370.0,2310.0,2330.0,2370.0,2350.0,2300.0,2305.0,2330.0,2340.0,2325.0,2360.0,2375.0,2395.0,2395.0,2350.0,2335.0,2340.0,2395.0,2385.0,2370.0,2400.0,2400.0,2415.0,2415.0,2405.0,2420.0,2420.0,2445.0,2440.0,2455.0,2455.0,2460.0,2480.0,2395.0,2370.0,2390.0,2400.0,2395.0,2445.0,2430.0,2440.0,2430.0,2425.0,2445.0,2440.0,2430.0,2415.0,2440.0,2440.0,2440.0,2445.0,2480.0,2465.0,2480.0,2490.0,2575.0,2520.0,2540.0,2395.0,2225.0,2205.0,2300.0,2300.0,2300.0,2290.0,2295.0,2300.0,2260.0,2185.0,2095.0,2110.0,2180.0,2210.0,2260.0,2225.0,2265.0,2285.0,2300.0,2295.0,2345.0,2300.0,2280.0,2255.0,2250.0,2245.0,2200.0,2175.0,2175.0,2200.0,2275.0,2330.0,2335.0,2335.0,2380.0,2440.0,2420.0,2420.0,2350.0,2360.0,2360.0,2375.0,2390.0,2380.0,2385.0,2390.0,2400.0,2360.0,2360.0,2365.0,2340.0,2350.0,2345.0,2350.0,2345.0,2390.0,2395.0,2400.0,2410.0,2405.0,2390.0,2395.0,2405.0,2415.0,2400.0,2400.0,2400.0,2340.0,2350.0,2380.0,2400.0,2385.0,2390.0,2375.0,2390.0,2390.0,2370.0,2370.0,2390.0,2400.0,2400.0,2415.0,2415.0,2415.0,2410.0,2430.0,2505.0,2600.0,2600.0,2600.0,2640.0,2630.0,2630.0,2555.0,2565.0,2590.0,2595.0,2605.0,2605.0,2605.0,2635.0,2610.0,2620.0,2580.0,2555.0,2540.0,2485.0,2575.0,2575.0,2550.0,2585.0,2625.0,2645.0,2600.0,2580.0,2610.0,2640.0,2785.0,2785.0,2820.0,2800.0,2795.0,2805.0,2860.0,2805.0,2820.0,2820.0,2900.0,2925.0,2895.0,2830.0,2845.0,2840.0,2840.0,2895.0,2895.0,2950.0,3005.0,2935.0,2985.0,2930.0,2875.0,2925.0,2895.0,2970.0,2935.0,2935.0,2960.0,2995.0,3060.0,3050.0,3050.0,3050.0,3050.0,3050.0,3050.0,3050.0,3100.0,3060.0,3040.0,3010.0,3010.0,2945.0,2925.0,2965.0,2980.0,2960.0,3000.0,2980.0,2945.0,2945.0,2935.0,2935.0,2960.0,2955.0,2940.0,2900.0,2955.0,2960.0,2990.0,2970.0,2985.0,2980.0,2990.0,3005.0,3000.0,3000.0,3015.0,3010.0,3050.0,3050.0,3030.0,3055.0,3060.0,3060.0,3045.0,3060.0,3045.0,2995.0,3015.0,3025.0,3025.0,2975.0,3000.0,2970.0,3000.0,3000.0,2990.0,2985.0,2980.0,2965.0,2970.0,3000.0,3005.0,3005.0,3005.0,3135.0,3135.0,3110.0,3050.0,2940.0,3055.0,3050.0,3065.0,3055.0,3065.0,3075.0,3075.0,3055.0,3055.0,3075.0,3070.0,3070.0,3080.0,3080.0,3100.0,3125.0,3125.0,3095.0,3120.0,3125.0,3120.0,3110.0,3120.0,3140.0,3190.0,3200.0,3250.0,3240.0,3290.0,3290.0,3280.0,3260.0,3170.0,3140.0,3210.0,3290.0,3340.0,3280.0,3400.0,3360.0,3350.0,3300.0,3380.0,3300.0,3210.0,3210.0,3300.0,3350.0,3460.0,3380.0,3370.0,3440.0,3450.0,3450.0,3460.0,3390.0,3390.0,3440.0,3400.0,3420.0,3460.0,3460.0,3460.0,3550.0,3630.0,3640.0,3640.0,3630.0,3610.0,3550.0,3590.0,3590.0,3570.0,3530.0,3540.0,3540.0,3550.0,3610.0,3630.0,3620.0,3620.0,3650.0,3920.0,3830.0,3770.0,3850.0,3800.0,3720.0,3700.0,3700.0,3740.0,3780.0,3680.0,3700.0,3720.0,3710.0,3800.0,3880.0,3860.0,3840.0,3840.0,3860.0,3800.0,3800.0,3770.0,3790.0,3740.0,3770.0,3780.0,3790.0,3790.0,3770.0,3730.0,3660.0,3770.0,3690.0,3760.0,3760.0,3750.0,3640.0,3680.0,3690.0,3740.0,3810.0,3670.0,3600.0,3600.0,3600.0,3550.0,3600.0,3600.0,3600.0,3600.0,3490.0,3470.0,3480.0,3530.0,3580.0,3650.0,3590.0,3550.0,3550.0,3550.0,3660.0,3660.0,3660.0,3580.0,3490.0,3490.0,3490.0,3490.0,3220.0,3220.0,3230.0,3150.0,3030.0,3050.0,3070.0,3210.0,3210.0,3160.0,3190.0,3070.0,3070.0,2990.0,2940.0,2760.0,2720.0,2880.0,3060.0,3120.0,3250.0,3250.0,3140.0,3080.0,3080.0,3130.0,3110.0,3150.0,3270.0,3140.0,3140.0,3140.0,3140.0,3140.0,3140.0,3140.0,3140.0,2960.0,2910.0,2980.0,2890.0,2820.0,2840.0,2750.0,2840.0,2850.0,2830.0,2930.0,2910.0,2840.0,3010.0,3050.0,2990.0,2970.0,2970.0,2970.0,2870.0,2850.0,2890.0,2980.0,3040.0,3010.0,2990.0,3040.0,3090.0,3080.0,3070.0,3190.0,3250.0,3330.0,3410.0,3350.0,3330.0,3330.0,3390.0,3140.0,3130.0,3210.0,3050.0,3050.0,3180.0,3150.0,3150.0,3270.0,3270.0,3380.0,3330.0,3290.0,3190.0,3180.0,3170.0,3110.0,2930.0,2960.0,3030.0,2970.0,2970.0,2910.0,3000.0,3070.0,2970.0,2940.0,3000.0,3090.0,3120.0,3010.0,3030.0,2990.0,3070.0,3150.0,3180.0,3110.0,3100.0,3000.0,2980.0,2970.0,3020.0,3010.0,2910.0,2950.0,3000.0,3000.0,3070.0,3090.0,3020.0,3050.0,3020.0,2950.0,3000.0,2990.0,2950.0,3030.0,3150.0,3200.0,3280.0,3270.0,3330.0,3370.0,3450.0,3340.0,3280.0,3350.0,3350.0,3410.0,3490.0,3520.0,3520.0,3430.0,3550.0,3480.0,3540.0,3600.0,3650.0,3710.0,3620.0,3690.0,3710.0,3650.0,3650.0,3620.0,3610.0,3620.0,3620.0,3680.0,3680.0,3600.0,3630.0,3670.0,3650.0,3620.0,3620.0,3620.0,3600.0,3660.0,3660.0,3660.0,3660.0,3610.0,3620.0,3660.0,3660.0,3680.0,3720.0,3750.0,3730.0,3790.0,3780.0,3780.0,3810.0,3820.0,3800.0,3770.0,3770.0,3790.0,3780.0,3780.0,3690.0,3750.0,3850.0,3920.0,3900.0,3900.0,3920.0,3930.0,3890.0,3870.0,3850.0,3790.0,3800.0,3770.0,3840.0,3910.0,3890.0,3910.0,3900.0,3960.0,3940.0,3870.0,3850.0,3870.0,3880.0,3860.0,3900.0,3900.0,3850.0,3860.0,3840.0,3790.0,3840.0,3950.0,4000.0,3980.0,3990.0,3990.0,4050.0,4010.0,4060.0,4050.0,4070.0,4110.0,4150.0,4150.0,4150.0,4220.0,4270.0,4250.0,4300.0,4310.0,4300.0,4310.0,4350.0,4340.0,4340.0,4460.0,4460.0,4440.0,4430.0,4400.0,4330.0,4330.0,4340.0,4370.0,4370.0,4370.0,4380.0,4230.0,4250.0,4220.0,4120.0,4120.0,4100.0,4050.0,3890.0,3860.0,3790.0,3750.0,3750.0,3770.0,3850.0,3850.0,3920.0,3810.0,3940.0,3940.0,4100.0,4100.0,4100.0,4100.0,4100.0,4100.0,4230.0,4230.0,4210.0,4200.0,4230.0,4200.0,4260.0,4310.0,4360.0,4310.0,4330.0,4360.0,4380.0,4360.0,4420.0,4410.0,4400.0,4390.0,4400.0,4400.0,4410.0,4470.0,4510.0,4510.0,4530.0,4550.0,4520.0,4450.0,4480.0,4500.0,4490.0,4450.0,4460.0,4440.0,4460.0,4500.0,4480.0,4450.0,4450.0,4270.0,4100.0,4250.0,4290.0,4330.0,4300.0,4280.0,4330.0,4250.0,4210.0,4180.0,4100.0,4050.0,4070.0,4080.0,4070.0,4200.0,4190.0,4200.0,4270.0,4220.0,4150.0,4160.0,4220.0,4270.0,4170.0,4190.0,4250.0,4280.0,4310.0,4190.0,4250.0,4240.0,4220.0,4160.0,4180.0,4110.0,4080.0,4210.0,4180.0,4120.0,4070.0,3930.0,3810.0,3950.0,3900.0,3930.0,3960.0,3890.0,3920.0,3920.0,3940.0,3990.0,4050.0,4170.0,4120.0,4140.0,4180.0,4300.0,4230.0,4230.0,4230.0,4250.0,4210.0,4180.0,4160.0,4300.0,4160.0,4000.0,3990.0,4000.0,4000.0,3960.0,3940.0,4090.0,4120.0,4190.0,4220.0,4220.0,4210.0,4130.0,4150.0,4170.0,4050.0,4090.0,4210.0,4170.0,4130.0,4220.0,4170.0,4180.0,4170.0,4210.0,4250.0,4280.0,4330.0,4350.0,4400.0,4350.0,4360.0,4450.0,4410.0,4430.0,4400.0,4410.0,4420.0,4370.0,4400.0,4380.0,4400.0,4410.0,4510.0,4570.0,4580.0,4570.0,4630.0,4660.0,4670.0,4710.0,4740.0,4740.0,4650.0,4620.0,4620.0,4580.0,4460.0,4460.0,4560.0,4560.0,4550.0,4550.0,4500.0,4510.0,4530.0,4570.0,4550.0,4470.0,4400.0,4480.0,4560.0,4510.0,4490.0,4500.0,4480.0,4130.0,4190.0,3980.0,4100.0,4220.0,4150.0,4010.0,3750.0,3910.0,3910.0,3610.0,3720.0,3500.0,3260.0,3140.0,2930.0,2810.0,2620.0,2440.0,2940.0,3230.0,3010.0,3020.0,2930.0,2870.0,2890.0,3020.0,3030.0,2820.0,2790.0,2770.0,2900.0,2760.0,2610.0,2830.0,2780.0,2720.0,2790.0,2800.0,2630.0,2660.0,2590.0,2580.0,2730.0,2630.0,2630.0,2620.0,2590.0,2620.0,2490.0,2470.0,2350.0,2240.0,2170.0,2370.0,2480.0,2520.0,2630.0,2730.0,2950.0,3180.0,3100.0,3060.0,3110.0,3300.0,3210.0,3030.0,2970.0,3030.0,2900.0,3130.0,3100.0,3050.0,3100.0,3060.0,3010.0,3120.0,3060.0,3030.0,3040.0,3030.0,3060.0,3060.0,3050.0,3040.0,3030.0,3190.0,3140.0,3110.0,3160.0,3170.0,3130.0,3140.0,3100.0,3050.0,3150.0,3100.0,3140.0,3090.0,3150.0,3140.0,3120.0,3160.0,2990.0,3080.0,3080.0,3110.0,3110.0,3130.0,3190.0,3350.0,3330.0,3340.0,3520.0,3560.0,3640.0,3800.0,3740.0,3700.0,3690.0,3510.0,3610.0,3660.0,3580.0,3550.0,3510.0,3520.0,3410.0,3180.0,3250.0,3440.0,3330.0,3260.0,3200.0,3220.0,3190.0,3130.0,3080.0,3030.0,3160.0,3090.0,3040.0,3040.0,3160.0,3100.0,3160.0,3190.0,3120.0,3150.0,3150.0,3190.0,3280.0,3360.0,3310.0,3250.0,3280.0,3250.0,3240.0,3300.0,3290.0,3340.0,3360.0,3380.0,3380.0,3290.0,3490.0,3560.0,3690.0,4000.0,4120.0,3950.0,4000.0,3960.0,3960.0,4040.0,4040.0,4020.0,4080.0,4200.0,4320.0,4290.0,4270.0,4090.0,4240.0,4300.0,4400.0,4300.0,4400.0,4400.0,4330.0,4280.0,4280.0,4280.0,4320.0,4330.0,4280.0,4210.0,4130.0,4160.0,4250.0,4180.0,4170.0,4310.0,4270.0,4200.0,4280.0,4390.0,4650.0,4720.0,4790.0,4770.0,4580.0,4620.0,4620.0,4890.0,4790.0,4720.0,4780.0,4650.0,4620.0,4470.0,4180.0,4400.0,4360.0,4380.0,4490.0,4470.0,4460.0,4620.0,4650.0,4680.0,4710.0,4670.0,4630.0,4670.0,4790.0,4790.0,4790.0,4730.0,4730.0,4710.0,4830.0,4800.0,4850.0,4760.0,4770.0,4730.0,4580.0,4630.0,4580.0,4570.0,4720.0,4670.0,4760.0,4670.0,4630.0,4670.0,4670.0,4620.0,4720.0,4720.0,4500.0,4400.0,4290.0,4200.0,4200.0,4200.0,4350.0,4350.0,4210.0,4160.0,4350.0,4410.0,4340.0,4380.0,4310.0,4230.0,4200.0,4250.0,4140.0,4170.0,4130.0,4160.0,4050.0,4010.0,4060.0,4090.0,4110.0,4050.0,4050.0,3990.0,3900.0,3900.0,3870.0,3880.0,3890.0,4040.0,4060.0,3950.0,4070.0,4260.0,4260.0,4360.0,4340.0,4250.0,4200.0,4220.0,4300.0,4280.0,4350.0,4230.0,4010.0,4030.0,3910.0,3940.0,4040.0,3940.0,3990.0,3990.0,3930.0,3900.0,3940.0,3940.0,3990.0,3900.0,3890.0,3820.0,3870.0,3800.0,3760.0,3780.0,3710.0,3810.0,3840.0,3780.0,3820.0,3900.0,3870.0,3830.0,3800.0,3730.0,3770.0,3710.0,3740.0,3750.0,3850.0,4050.0,3930.0,3850.0,3820.0,3810.0,3870.0,3930.0,4070.0,3880.0,3930.0,3960.0,3890.0,3536.302490234375,3518.12109375,3490.848876953125,3581.75634765625,3572.66552734375,3536.302490234375,3518.12109375,3572.66552734375,3499.939453125,3554.484130859375,3730.0,3730.0,3780.0,3700.0,3700.0,3660.0,3640.0,3610.0,3590.0,3570.0,3610.0,3770.0,3820.0,3750.0,3720.0,3740.0,3850.0,3900.0,3970.0,3930.0,4120.0,4120.0,4160.0,4180.0,4220.0,4280.0,4250.0,4320.0,4410.0,4400.0,4360.0,4400.0,4300.0,4350.0,4290.0,4240.0,4250.0,4230.0,4210.0,4290.0,4250.0,4240.0,4230.0,4250.0,4250.0,4250.0,4220.0,4160.0,4130.0,4200.0,4180.0,4280.0,4280.0,4210.0,4210.0,4220.0,4160.0,4170.0,4090.0,4080.0,4200.0,4170.0,4110.0,4230.0,4210.0,4190.0,4130.0,4160.0,4130.0,4200.0,4140.0,4110.0,4120.0,4080.0,4050.0,4100.0,4070.0,4060.0,4090.0,4080.0,4110.0,4180.0,4160.0,4210.0,4160.0,4190.0,4180.0,4150.0,4160.0,4190.0,4180.0,4210.0,4190.0,4130.0,4130.0,4170.0,4120.0,4070.0,4090.0,4140.0,4140.0,4070.0,4070.0,4130.0,4210.0,4400.0,4440.0,4450.0,4470.0,4450.0,4410.0,4430.0,4420.0,4400.0,4430.0,4490.0,4430.0,4480.0,4390.0,4550.0,4630.0,4560.0,4670.0,4520.0,4430.0,4570.0,4570.0,4400.0,4520.0,4610.0,4650.0,4650.0,4580.0,4590.0,4640.0,4650.0,4730.0,4710.0,4730.0,4690.0,4710.0,4660.0,4730.0,4700.0,4700.0,4600.0,4630.0,4610.0,4570.0,4610.0,4610.0,4540.0,4550.0,4570.0,4850.0,4800.0,4750.0,4840.0,4940.0,4850.0,4870.0,4530.0,4530.0,4490.0,4320.0,4250.0,4450.0,4450.0,4440.0,4430.0,4330.0,4460.0,4350.0,4540.0,4430.0,4630.0,4480.0,4520.0,4430.0,4400.0,4470.0,4490.0,4400.0,4340.0,4360.0,4450.0,4430.0,4370.0,4400.0,4380.0,4320.0,4310.0,4340.0,4280.0,4300.0,4180.0,4150.0,4140.0,4040.0,4090.0,4080.0,4050.0,4200.0,4120.0,4110.0,4060.0,4070.0,4110.0,4140.0,4110.0,4300.0,4310.0,4270.0,4250.0,4330.0,4320.0,4360.0,4360.0,4360.0,4400.0,4380.0,4360.0,4360.0,4370.0,4410.0,4310.0,4350.0,4320.0,4300.0,4280.0,4330.0,4300.0,4270.0,4300.0,4290.0,4270.0,4270.0,4250.0,4260.0,4340.0,4390.0,4450.0,4590.0,4560.0,4460.0,4600.0,4610.0,4560.0,4580.0,4580.0,4610.0,4500.0,4570.0,4490.0,4550.0,4560.0,4480.0,4540.0,4530.0,4520.0,4480.0,4490.0,4530.0,4640.0,4540.0,4510.0,4440.0,4370.0,4430.0,4400.0,4350.0,4270.0,4300.0,4290.0,4300.0,4390.0,4430.0,4500.0,4590.0,4530.0,4600.0,4630.0,4650.0,4660.0,4610.0,4650.0,4650.0,4690.0,4620.0,4650.0,4530.0,4650.0,4580.0,4580.0,4520.0,4670.0,4610.0,4590.0,4590.0,4670.0,4720.0,4750.0,4820.0,4850.0,4980.0,4940.0,4890.0,4890.0,4860.0,4760.0,4840.0,4800.0,4850.0,4970.0,4980.0,4910.0,4980.0,4970.0,4910.0],\"yaxis\":\"y\",\"type\":\"scattergl\"},{\"hovertemplate\":\"variable=high<br>Date=%{x}<br>Stock value=%{y}<extra></extra>\",\"legendgroup\":\"high\",\"line\":{\"color\":\"#00cc96\",\"dash\":\"solid\"},\"marker\":{\"symbol\":\"circle\"},\"mode\":\"lines\",\"name\":\"Stock High Price\",\"showlegend\":true,\"x\":[\"2015-01-02T00:00:00\",\"2015-01-05T00:00:00\",\"2015-01-06T00:00:00\",\"2015-01-07T00:00:00\",\"2015-01-08T00:00:00\",\"2015-01-09T00:00:00\",\"2015-01-12T00:00:00\",\"2015-01-13T00:00:00\",\"2015-01-14T00:00:00\",\"2015-01-15T00:00:00\",\"2015-01-16T00:00:00\",\"2015-01-19T00:00:00\",\"2015-01-20T00:00:00\",\"2015-01-21T00:00:00\",\"2015-01-22T00:00:00\",\"2015-01-23T00:00:00\",\"2015-01-26T00:00:00\",\"2015-01-27T00:00:00\",\"2015-01-28T00:00:00\",\"2015-01-29T00:00:00\",\"2015-01-30T00:00:00\",\"2015-02-02T00:00:00\",\"2015-02-03T00:00:00\",\"2015-02-04T00:00:00\",\"2015-02-05T00:00:00\",\"2015-02-06T00:00:00\",\"2015-02-09T00:00:00\",\"2015-02-10T00:00:00\",\"2015-02-11T00:00:00\",\"2015-02-12T00:00:00\",\"2015-02-13T00:00:00\",\"2015-02-16T00:00:00\",\"2015-02-17T00:00:00\",\"2015-02-18T00:00:00\",\"2015-02-20T00:00:00\",\"2015-02-23T00:00:00\",\"2015-02-24T00:00:00\",\"2015-02-25T00:00:00\",\"2015-02-26T00:00:00\",\"2015-02-27T00:00:00\",\"2015-03-02T00:00:00\",\"2015-03-03T00:00:00\",\"2015-03-04T00:00:00\",\"2015-03-05T00:00:00\",\"2015-03-06T00:00:00\",\"2015-03-09T00:00:00\",\"2015-03-10T00:00:00\",\"2015-03-11T00:00:00\",\"2015-03-12T00:00:00\",\"2015-03-13T00:00:00\",\"2015-03-16T00:00:00\",\"2015-03-17T00:00:00\",\"2015-03-18T00:00:00\",\"2015-03-19T00:00:00\",\"2015-03-20T00:00:00\",\"2015-03-23T00:00:00\",\"2015-03-24T00:00:00\",\"2015-03-25T00:00:00\",\"2015-03-26T00:00:00\",\"2015-03-27T00:00:00\",\"2015-03-30T00:00:00\",\"2015-03-31T00:00:00\",\"2015-04-01T00:00:00\",\"2015-04-02T00:00:00\",\"2015-04-06T00:00:00\",\"2015-04-07T00:00:00\",\"2015-04-08T00:00:00\",\"2015-04-09T00:00:00\",\"2015-04-10T00:00:00\",\"2015-04-13T00:00:00\",\"2015-04-14T00:00:00\",\"2015-04-15T00:00:00\",\"2015-04-16T00:00:00\",\"2015-04-17T00:00:00\",\"2015-04-20T00:00:00\",\"2015-04-21T00:00:00\",\"2015-04-22T00:00:00\",\"2015-04-23T00:00:00\",\"2015-04-24T00:00:00\",\"2015-04-27T00:00:00\",\"2015-04-28T00:00:00\",\"2015-04-29T00:00:00\",\"2015-04-30T00:00:00\",\"2015-05-04T00:00:00\",\"2015-05-05T00:00:00\",\"2015-05-06T00:00:00\",\"2015-05-07T00:00:00\",\"2015-05-08T00:00:00\",\"2015-05-11T00:00:00\",\"2015-05-12T00:00:00\",\"2015-05-13T00:00:00\",\"2015-05-15T00:00:00\",\"2015-05-18T00:00:00\",\"2015-05-19T00:00:00\",\"2015-05-20T00:00:00\",\"2015-05-21T00:00:00\",\"2015-05-22T00:00:00\",\"2015-05-25T00:00:00\",\"2015-05-26T00:00:00\",\"2015-05-27T00:00:00\",\"2015-05-28T00:00:00\",\"2015-05-29T00:00:00\",\"2015-06-01T00:00:00\",\"2015-06-03T00:00:00\",\"2015-06-04T00:00:00\",\"2015-06-05T00:00:00\",\"2015-06-08T00:00:00\",\"2015-06-09T00:00:00\",\"2015-06-10T00:00:00\",\"2015-06-11T00:00:00\",\"2015-06-12T00:00:00\",\"2015-06-15T00:00:00\",\"2015-06-16T00:00:00\",\"2015-06-17T00:00:00\",\"2015-06-18T00:00:00\",\"2015-06-19T00:00:00\",\"2015-06-22T00:00:00\",\"2015-06-23T00:00:00\",\"2015-06-24T00:00:00\",\"2015-06-25T00:00:00\",\"2015-06-26T00:00:00\",\"2015-06-29T00:00:00\",\"2015-06-30T00:00:00\",\"2015-07-01T00:00:00\",\"2015-07-02T00:00:00\",\"2015-07-03T00:00:00\",\"2015-07-06T00:00:00\",\"2015-07-07T00:00:00\",\"2015-07-08T00:00:00\",\"2015-07-09T00:00:00\",\"2015-07-10T00:00:00\",\"2015-07-13T00:00:00\",\"2015-07-14T00:00:00\",\"2015-07-15T00:00:00\",\"2015-07-22T00:00:00\",\"2015-07-23T00:00:00\",\"2015-07-24T00:00:00\",\"2015-07-27T00:00:00\",\"2015-07-28T00:00:00\",\"2015-07-29T00:00:00\",\"2015-07-30T00:00:00\",\"2015-07-31T00:00:00\",\"2015-08-03T00:00:00\",\"2015-08-04T00:00:00\",\"2015-08-05T00:00:00\",\"2015-08-06T00:00:00\",\"2015-08-07T00:00:00\",\"2015-08-10T00:00:00\",\"2015-08-11T00:00:00\",\"2015-08-12T00:00:00\",\"2015-08-13T00:00:00\",\"2015-08-14T00:00:00\",\"2015-08-18T00:00:00\",\"2015-08-19T00:00:00\",\"2015-08-20T00:00:00\",\"2015-08-21T00:00:00\",\"2015-08-24T00:00:00\",\"2015-08-25T00:00:00\",\"2015-08-26T00:00:00\",\"2015-08-27T00:00:00\",\"2015-08-28T00:00:00\",\"2015-08-31T00:00:00\",\"2015-09-01T00:00:00\",\"2015-09-02T00:00:00\",\"2015-09-03T00:00:00\",\"2015-09-04T00:00:00\",\"2015-09-07T00:00:00\",\"2015-09-08T00:00:00\",\"2015-09-09T00:00:00\",\"2015-09-10T00:00:00\",\"2015-09-11T00:00:00\",\"2015-09-14T00:00:00\",\"2015-09-15T00:00:00\",\"2015-09-16T00:00:00\",\"2015-09-17T00:00:00\",\"2015-09-18T00:00:00\",\"2015-09-21T00:00:00\",\"2015-09-22T00:00:00\",\"2015-09-23T00:00:00\",\"2015-09-25T00:00:00\",\"2015-09-28T00:00:00\",\"2015-09-29T00:00:00\",\"2015-09-30T00:00:00\",\"2015-10-01T00:00:00\",\"2015-10-02T00:00:00\",\"2015-10-05T00:00:00\",\"2015-10-06T00:00:00\",\"2015-10-07T00:00:00\",\"2015-10-08T00:00:00\",\"2015-10-09T00:00:00\",\"2015-10-12T00:00:00\",\"2015-10-13T00:00:00\",\"2015-10-15T00:00:00\",\"2015-10-16T00:00:00\",\"2015-10-19T00:00:00\",\"2015-10-20T00:00:00\",\"2015-10-21T00:00:00\",\"2015-10-22T00:00:00\",\"2015-10-23T00:00:00\",\"2015-10-26T00:00:00\",\"2015-10-27T00:00:00\",\"2015-10-28T00:00:00\",\"2015-10-29T00:00:00\",\"2015-10-30T00:00:00\",\"2015-11-02T00:00:00\",\"2015-11-03T00:00:00\",\"2015-11-04T00:00:00\",\"2015-11-05T00:00:00\",\"2015-11-06T00:00:00\",\"2015-11-09T00:00:00\",\"2015-11-10T00:00:00\",\"2015-11-11T00:00:00\",\"2015-11-12T00:00:00\",\"2015-11-13T00:00:00\",\"2015-11-16T00:00:00\",\"2015-11-17T00:00:00\",\"2015-11-18T00:00:00\",\"2015-11-19T00:00:00\",\"2015-11-20T00:00:00\",\"2015-11-23T00:00:00\",\"2015-11-24T00:00:00\",\"2015-11-25T00:00:00\",\"2015-11-26T00:00:00\",\"2015-11-27T00:00:00\",\"2015-11-30T00:00:00\",\"2015-12-01T00:00:00\",\"2015-12-02T00:00:00\",\"2015-12-03T00:00:00\",\"2015-12-04T00:00:00\",\"2015-12-07T00:00:00\",\"2015-12-08T00:00:00\",\"2015-12-09T00:00:00\",\"2015-12-10T00:00:00\",\"2015-12-11T00:00:00\",\"2015-12-14T00:00:00\",\"2015-12-15T00:00:00\",\"2015-12-16T00:00:00\",\"2015-12-17T00:00:00\",\"2015-12-18T00:00:00\",\"2015-12-21T00:00:00\",\"2015-12-22T00:00:00\",\"2015-12-23T00:00:00\",\"2015-12-28T00:00:00\",\"2015-12-29T00:00:00\",\"2015-12-30T00:00:00\",\"2016-01-04T00:00:00\",\"2016-01-05T00:00:00\",\"2016-01-06T00:00:00\",\"2016-01-07T00:00:00\",\"2016-01-08T00:00:00\",\"2016-01-11T00:00:00\",\"2016-01-12T00:00:00\",\"2016-01-13T00:00:00\",\"2016-01-14T00:00:00\",\"2016-01-15T00:00:00\",\"2016-01-18T00:00:00\",\"2016-01-19T00:00:00\",\"2016-01-20T00:00:00\",\"2016-01-21T00:00:00\",\"2016-01-22T00:00:00\",\"2016-01-25T00:00:00\",\"2016-01-26T00:00:00\",\"2016-01-27T00:00:00\",\"2016-01-28T00:00:00\",\"2016-01-29T00:00:00\",\"2016-02-01T00:00:00\",\"2016-02-02T00:00:00\",\"2016-02-03T00:00:00\",\"2016-02-04T00:00:00\",\"2016-02-05T00:00:00\",\"2016-02-09T00:00:00\",\"2016-02-10T00:00:00\",\"2016-02-11T00:00:00\",\"2016-02-12T00:00:00\",\"2016-02-15T00:00:00\",\"2016-02-16T00:00:00\",\"2016-02-17T00:00:00\",\"2016-02-18T00:00:00\",\"2016-02-19T00:00:00\",\"2016-02-22T00:00:00\",\"2016-02-23T00:00:00\",\"2016-02-24T00:00:00\",\"2016-02-25T00:00:00\",\"2016-02-26T00:00:00\",\"2016-02-29T00:00:00\",\"2016-03-01T00:00:00\",\"2016-03-02T00:00:00\",\"2016-03-03T00:00:00\",\"2016-03-04T00:00:00\",\"2016-03-07T00:00:00\",\"2016-03-08T00:00:00\",\"2016-03-10T00:00:00\",\"2016-03-11T00:00:00\",\"2016-03-14T00:00:00\",\"2016-03-15T00:00:00\",\"2016-03-16T00:00:00\",\"2016-03-17T00:00:00\",\"2016-03-18T00:00:00\",\"2016-03-21T00:00:00\",\"2016-03-22T00:00:00\",\"2016-03-23T00:00:00\",\"2016-03-24T00:00:00\",\"2016-03-28T00:00:00\",\"2016-03-29T00:00:00\",\"2016-03-30T00:00:00\",\"2016-03-31T00:00:00\",\"2016-04-01T00:00:00\",\"2016-04-04T00:00:00\",\"2016-04-05T00:00:00\",\"2016-04-06T00:00:00\",\"2016-04-07T00:00:00\",\"2016-04-08T00:00:00\",\"2016-04-11T00:00:00\",\"2016-04-12T00:00:00\",\"2016-04-13T00:00:00\",\"2016-04-14T00:00:00\",\"2016-04-15T00:00:00\",\"2016-04-18T00:00:00\",\"2016-04-19T00:00:00\",\"2016-04-20T00:00:00\",\"2016-04-21T00:00:00\",\"2016-04-22T00:00:00\",\"2016-04-25T00:00:00\",\"2016-04-26T00:00:00\",\"2016-04-27T00:00:00\",\"2016-04-28T00:00:00\",\"2016-04-29T00:00:00\",\"2016-05-02T00:00:00\",\"2016-05-03T00:00:00\",\"2016-05-04T00:00:00\",\"2016-05-09T00:00:00\",\"2016-05-10T00:00:00\",\"2016-05-11T00:00:00\",\"2016-05-12T00:00:00\",\"2016-05-13T00:00:00\",\"2016-05-16T00:00:00\",\"2016-05-17T00:00:00\",\"2016-05-18T00:00:00\",\"2016-05-19T00:00:00\",\"2016-05-20T00:00:00\",\"2016-05-23T00:00:00\",\"2016-05-24T00:00:00\",\"2016-05-25T00:00:00\",\"2016-05-26T00:00:00\",\"2016-05-27T00:00:00\",\"2016-05-30T00:00:00\",\"2016-05-31T00:00:00\",\"2016-06-01T00:00:00\",\"2016-06-02T00:00:00\",\"2016-06-03T00:00:00\",\"2016-06-06T00:00:00\",\"2016-06-07T00:00:00\",\"2016-06-08T00:00:00\",\"2016-06-09T00:00:00\",\"2016-06-10T00:00:00\",\"2016-06-13T00:00:00\",\"2016-06-14T00:00:00\",\"2016-06-15T00:00:00\",\"2016-06-16T00:00:00\",\"2016-06-17T00:00:00\",\"2016-06-20T00:00:00\",\"2016-06-21T00:00:00\",\"2016-06-22T00:00:00\",\"2016-06-23T00:00:00\",\"2016-06-24T00:00:00\",\"2016-06-27T00:00:00\",\"2016-06-28T00:00:00\",\"2016-06-29T00:00:00\",\"2016-06-30T00:00:00\",\"2016-07-01T00:00:00\",\"2016-07-11T00:00:00\",\"2016-07-12T00:00:00\",\"2016-07-13T00:00:00\",\"2016-07-14T00:00:00\",\"2016-07-15T00:00:00\",\"2016-07-18T00:00:00\",\"2016-07-19T00:00:00\",\"2016-07-20T00:00:00\",\"2016-07-21T00:00:00\",\"2016-07-22T00:00:00\",\"2016-07-25T00:00:00\",\"2016-07-26T00:00:00\",\"2016-07-27T00:00:00\",\"2016-07-28T00:00:00\",\"2016-07-29T00:00:00\",\"2016-08-01T00:00:00\",\"2016-08-02T00:00:00\",\"2016-08-03T00:00:00\",\"2016-08-04T00:00:00\",\"2016-08-05T00:00:00\",\"2016-08-08T00:00:00\",\"2016-08-09T00:00:00\",\"2016-08-10T00:00:00\",\"2016-08-11T00:00:00\",\"2016-08-12T00:00:00\",\"2016-08-15T00:00:00\",\"2016-08-16T00:00:00\",\"2016-08-18T00:00:00\",\"2016-08-19T00:00:00\",\"2016-08-22T00:00:00\",\"2016-08-23T00:00:00\",\"2016-08-24T00:00:00\",\"2016-08-25T00:00:00\",\"2016-08-26T00:00:00\",\"2016-08-29T00:00:00\",\"2016-08-30T00:00:00\",\"2016-08-31T00:00:00\",\"2016-09-01T00:00:00\",\"2016-09-02T00:00:00\",\"2016-09-05T00:00:00\",\"2016-09-06T00:00:00\",\"2016-09-07T00:00:00\",\"2016-09-08T00:00:00\",\"2016-09-09T00:00:00\",\"2016-09-13T00:00:00\",\"2016-09-14T00:00:00\",\"2016-09-15T00:00:00\",\"2016-09-16T00:00:00\",\"2016-09-19T00:00:00\",\"2016-09-20T00:00:00\",\"2016-09-21T00:00:00\",\"2016-09-22T00:00:00\",\"2016-09-23T00:00:00\",\"2016-09-26T00:00:00\",\"2016-09-27T00:00:00\",\"2016-09-28T00:00:00\",\"2016-09-29T00:00:00\",\"2016-09-30T00:00:00\",\"2016-10-03T00:00:00\",\"2016-10-04T00:00:00\",\"2016-10-05T00:00:00\",\"2016-10-06T00:00:00\",\"2016-10-07T00:00:00\",\"2016-10-10T00:00:00\",\"2016-10-11T00:00:00\",\"2016-10-12T00:00:00\",\"2016-10-13T00:00:00\",\"2016-10-14T00:00:00\",\"2016-10-17T00:00:00\",\"2016-10-18T00:00:00\",\"2016-10-19T00:00:00\",\"2016-10-20T00:00:00\",\"2016-10-21T00:00:00\",\"2016-10-24T00:00:00\",\"2016-10-25T00:00:00\",\"2016-10-26T00:00:00\",\"2016-10-27T00:00:00\",\"2016-10-28T00:00:00\",\"2016-10-31T00:00:00\",\"2016-11-01T00:00:00\",\"2016-11-02T00:00:00\",\"2016-11-03T00:00:00\",\"2016-11-04T00:00:00\",\"2016-11-07T00:00:00\",\"2016-11-08T00:00:00\",\"2016-11-09T00:00:00\",\"2016-11-10T00:00:00\",\"2016-11-11T00:00:00\",\"2016-11-14T00:00:00\",\"2016-11-15T00:00:00\",\"2016-11-16T00:00:00\",\"2016-11-17T00:00:00\",\"2016-11-18T00:00:00\",\"2016-11-21T00:00:00\",\"2016-11-22T00:00:00\",\"2016-11-23T00:00:00\",\"2016-11-24T00:00:00\",\"2016-11-25T00:00:00\",\"2016-11-28T00:00:00\",\"2016-11-29T00:00:00\",\"2016-11-30T00:00:00\",\"2016-12-01T00:00:00\",\"2016-12-02T00:00:00\",\"2016-12-05T00:00:00\",\"2016-12-06T00:00:00\",\"2016-12-07T00:00:00\",\"2016-12-08T00:00:00\",\"2016-12-09T00:00:00\",\"2016-12-13T00:00:00\",\"2016-12-14T00:00:00\",\"2016-12-15T00:00:00\",\"2016-12-16T00:00:00\",\"2016-12-19T00:00:00\",\"2016-12-20T00:00:00\",\"2016-12-21T00:00:00\",\"2016-12-22T00:00:00\",\"2016-12-23T00:00:00\",\"2016-12-27T00:00:00\",\"2016-12-28T00:00:00\",\"2016-12-29T00:00:00\",\"2016-12-30T00:00:00\",\"2017-01-02T00:00:00\",\"2017-01-03T00:00:00\",\"2017-01-04T00:00:00\",\"2017-01-05T00:00:00\",\"2017-01-06T00:00:00\",\"2017-01-09T00:00:00\",\"2017-01-10T00:00:00\",\"2017-01-11T00:00:00\",\"2017-01-12T00:00:00\",\"2017-01-13T00:00:00\",\"2017-01-16T00:00:00\",\"2017-01-17T00:00:00\",\"2017-01-18T00:00:00\",\"2017-01-19T00:00:00\",\"2017-01-20T00:00:00\",\"2017-01-23T00:00:00\",\"2017-01-24T00:00:00\",\"2017-01-25T00:00:00\",\"2017-01-26T00:00:00\",\"2017-01-27T00:00:00\",\"2017-01-30T00:00:00\",\"2017-01-31T00:00:00\",\"2017-02-01T00:00:00\",\"2017-02-02T00:00:00\",\"2017-02-03T00:00:00\",\"2017-02-06T00:00:00\",\"2017-02-07T00:00:00\",\"2017-02-08T00:00:00\",\"2017-02-09T00:00:00\",\"2017-02-10T00:00:00\",\"2017-02-13T00:00:00\",\"2017-02-14T00:00:00\",\"2017-02-15T00:00:00\",\"2017-02-16T00:00:00\",\"2017-02-17T00:00:00\",\"2017-02-20T00:00:00\",\"2017-02-21T00:00:00\",\"2017-02-22T00:00:00\",\"2017-02-23T00:00:00\",\"2017-02-24T00:00:00\",\"2017-02-27T00:00:00\",\"2017-02-28T00:00:00\",\"2017-03-01T00:00:00\",\"2017-03-02T00:00:00\",\"2017-03-03T00:00:00\",\"2017-03-06T00:00:00\",\"2017-03-07T00:00:00\",\"2017-03-08T00:00:00\",\"2017-03-09T00:00:00\",\"2017-03-10T00:00:00\",\"2017-03-13T00:00:00\",\"2017-03-14T00:00:00\",\"2017-03-15T00:00:00\",\"2017-03-16T00:00:00\",\"2017-03-17T00:00:00\",\"2017-03-20T00:00:00\",\"2017-03-21T00:00:00\",\"2017-03-22T00:00:00\",\"2017-03-23T00:00:00\",\"2017-03-24T00:00:00\",\"2017-03-27T00:00:00\",\"2017-03-29T00:00:00\",\"2017-03-30T00:00:00\",\"2017-03-31T00:00:00\",\"2017-04-03T00:00:00\",\"2017-04-04T00:00:00\",\"2017-04-05T00:00:00\",\"2017-04-06T00:00:00\",\"2017-04-07T00:00:00\",\"2017-04-10T00:00:00\",\"2017-04-11T00:00:00\",\"2017-04-12T00:00:00\",\"2017-04-13T00:00:00\",\"2017-04-17T00:00:00\",\"2017-04-18T00:00:00\",\"2017-04-19T00:00:00\",\"2017-04-20T00:00:00\",\"2017-04-21T00:00:00\",\"2017-04-25T00:00:00\",\"2017-04-26T00:00:00\",\"2017-04-27T00:00:00\",\"2017-04-28T00:00:00\",\"2017-05-02T00:00:00\",\"2017-05-03T00:00:00\",\"2017-05-04T00:00:00\",\"2017-05-05T00:00:00\",\"2017-05-08T00:00:00\",\"2017-05-09T00:00:00\",\"2017-05-10T00:00:00\",\"2017-05-12T00:00:00\",\"2017-05-15T00:00:00\",\"2017-05-16T00:00:00\",\"2017-05-17T00:00:00\",\"2017-05-18T00:00:00\",\"2017-05-19T00:00:00\",\"2017-05-22T00:00:00\",\"2017-05-23T00:00:00\",\"2017-05-24T00:00:00\",\"2017-05-26T00:00:00\",\"2017-05-29T00:00:00\",\"2017-05-30T00:00:00\",\"2017-05-31T00:00:00\",\"2017-06-01T00:00:00\",\"2017-06-02T00:00:00\",\"2017-06-05T00:00:00\",\"2017-06-06T00:00:00\",\"2017-06-07T00:00:00\",\"2017-06-08T00:00:00\",\"2017-06-09T00:00:00\",\"2017-06-12T00:00:00\",\"2017-06-13T00:00:00\",\"2017-06-14T00:00:00\",\"2017-06-15T00:00:00\",\"2017-06-16T00:00:00\",\"2017-06-19T00:00:00\",\"2017-06-20T00:00:00\",\"2017-06-21T00:00:00\",\"2017-06-22T00:00:00\",\"2017-06-23T00:00:00\",\"2017-06-26T00:00:00\",\"2017-06-27T00:00:00\",\"2017-06-28T00:00:00\",\"2017-06-29T00:00:00\",\"2017-06-30T00:00:00\",\"2017-07-03T00:00:00\",\"2017-07-04T00:00:00\",\"2017-07-05T00:00:00\",\"2017-07-06T00:00:00\",\"2017-07-07T00:00:00\",\"2017-07-10T00:00:00\",\"2017-07-11T00:00:00\",\"2017-07-12T00:00:00\",\"2017-07-13T00:00:00\",\"2017-07-14T00:00:00\",\"2017-07-17T00:00:00\",\"2017-07-18T00:00:00\",\"2017-07-19T00:00:00\",\"2017-07-20T00:00:00\",\"2017-07-21T00:00:00\",\"2017-07-24T00:00:00\",\"2017-07-25T00:00:00\",\"2017-07-26T00:00:00\",\"2017-07-27T00:00:00\",\"2017-07-28T00:00:00\",\"2017-07-31T00:00:00\",\"2017-08-01T00:00:00\",\"2017-08-02T00:00:00\",\"2017-08-03T00:00:00\",\"2017-08-04T00:00:00\",\"2017-08-07T00:00:00\",\"2017-08-08T00:00:00\",\"2017-08-09T00:00:00\",\"2017-08-10T00:00:00\",\"2017-08-11T00:00:00\",\"2017-08-14T00:00:00\",\"2017-08-15T00:00:00\",\"2017-08-16T00:00:00\",\"2017-08-17T00:00:00\",\"2017-08-18T00:00:00\",\"2017-08-21T00:00:00\",\"2017-08-22T00:00:00\",\"2017-08-23T00:00:00\",\"2017-08-24T00:00:00\",\"2017-08-25T00:00:00\",\"2017-08-28T00:00:00\",\"2017-08-29T00:00:00\",\"2017-08-30T00:00:00\",\"2017-08-31T00:00:00\",\"2017-09-01T00:00:00\",\"2017-09-04T00:00:00\",\"2017-09-05T00:00:00\",\"2017-09-06T00:00:00\",\"2017-09-07T00:00:00\",\"2017-09-08T00:00:00\",\"2017-09-11T00:00:00\",\"2017-09-12T00:00:00\",\"2017-09-13T00:00:00\",\"2017-09-14T00:00:00\",\"2017-09-15T00:00:00\",\"2017-09-18T00:00:00\",\"2017-09-19T00:00:00\",\"2017-09-20T00:00:00\",\"2017-09-21T00:00:00\",\"2017-09-22T00:00:00\",\"2017-09-25T00:00:00\",\"2017-09-26T00:00:00\",\"2017-09-27T00:00:00\",\"2017-09-28T00:00:00\",\"2017-09-29T00:00:00\",\"2017-10-02T00:00:00\",\"2017-10-03T00:00:00\",\"2017-10-04T00:00:00\",\"2017-10-05T00:00:00\",\"2017-10-06T00:00:00\",\"2017-10-09T00:00:00\",\"2017-10-10T00:00:00\",\"2017-10-11T00:00:00\",\"2017-10-12T00:00:00\",\"2017-10-13T00:00:00\",\"2017-10-16T00:00:00\",\"2017-10-17T00:00:00\",\"2017-10-18T00:00:00\",\"2017-10-19T00:00:00\",\"2017-10-20T00:00:00\",\"2017-10-23T00:00:00\",\"2017-10-24T00:00:00\",\"2017-10-25T00:00:00\",\"2017-10-26T00:00:00\",\"2017-10-27T00:00:00\",\"2017-10-30T00:00:00\",\"2017-10-31T00:00:00\",\"2017-11-01T00:00:00\",\"2017-11-02T00:00:00\",\"2017-11-03T00:00:00\",\"2017-11-06T00:00:00\",\"2017-11-07T00:00:00\",\"2017-11-08T00:00:00\",\"2017-11-09T00:00:00\",\"2017-11-10T00:00:00\",\"2017-11-13T00:00:00\",\"2017-11-14T00:00:00\",\"2017-11-15T00:00:00\",\"2017-11-16T00:00:00\",\"2017-11-17T00:00:00\",\"2017-11-20T00:00:00\",\"2017-11-21T00:00:00\",\"2017-11-22T00:00:00\",\"2017-11-23T00:00:00\",\"2017-11-24T00:00:00\",\"2017-11-27T00:00:00\",\"2017-11-28T00:00:00\",\"2017-11-29T00:00:00\",\"2017-11-30T00:00:00\",\"2017-12-01T00:00:00\",\"2017-12-04T00:00:00\",\"2017-12-05T00:00:00\",\"2017-12-06T00:00:00\",\"2017-12-07T00:00:00\",\"2017-12-08T00:00:00\",\"2017-12-11T00:00:00\",\"2017-12-12T00:00:00\",\"2017-12-13T00:00:00\",\"2017-12-14T00:00:00\",\"2017-12-15T00:00:00\",\"2017-12-18T00:00:00\",\"2017-12-19T00:00:00\",\"2017-12-20T00:00:00\",\"2017-12-21T00:00:00\",\"2017-12-22T00:00:00\",\"2017-12-25T00:00:00\",\"2017-12-26T00:00:00\",\"2017-12-27T00:00:00\",\"2017-12-28T00:00:00\",\"2017-12-29T00:00:00\",\"2018-01-01T00:00:00\",\"2018-01-02T00:00:00\",\"2018-01-03T00:00:00\",\"2018-01-04T00:00:00\",\"2018-01-05T00:00:00\",\"2018-01-08T00:00:00\",\"2018-01-09T00:00:00\",\"2018-01-10T00:00:00\",\"2018-01-11T00:00:00\",\"2018-01-12T00:00:00\",\"2018-01-15T00:00:00\",\"2018-01-16T00:00:00\",\"2018-01-17T00:00:00\",\"2018-01-18T00:00:00\",\"2018-01-19T00:00:00\",\"2018-01-22T00:00:00\",\"2018-01-23T00:00:00\",\"2018-01-24T00:00:00\",\"2018-01-25T00:00:00\",\"2018-01-26T00:00:00\",\"2018-01-29T00:00:00\",\"2018-01-30T00:00:00\",\"2018-01-31T00:00:00\",\"2018-02-01T00:00:00\",\"2018-02-02T00:00:00\",\"2018-02-05T00:00:00\",\"2018-02-06T00:00:00\",\"2018-02-07T00:00:00\",\"2018-02-08T00:00:00\",\"2018-02-09T00:00:00\",\"2018-02-12T00:00:00\",\"2018-02-13T00:00:00\",\"2018-02-14T00:00:00\",\"2018-02-15T00:00:00\",\"2018-02-16T00:00:00\",\"2018-02-19T00:00:00\",\"2018-02-20T00:00:00\",\"2018-02-21T00:00:00\",\"2018-02-22T00:00:00\",\"2018-02-23T00:00:00\",\"2018-02-26T00:00:00\",\"2018-02-27T00:00:00\",\"2018-02-28T00:00:00\",\"2018-03-01T00:00:00\",\"2018-03-02T00:00:00\",\"2018-03-05T00:00:00\",\"2018-03-06T00:00:00\",\"2018-03-07T00:00:00\",\"2018-03-08T00:00:00\",\"2018-03-09T00:00:00\",\"2018-03-12T00:00:00\",\"2018-03-13T00:00:00\",\"2018-03-14T00:00:00\",\"2018-03-15T00:00:00\",\"2018-03-16T00:00:00\",\"2018-03-19T00:00:00\",\"2018-03-20T00:00:00\",\"2018-03-21T00:00:00\",\"2018-03-22T00:00:00\",\"2018-03-23T00:00:00\",\"2018-03-26T00:00:00\",\"2018-03-27T00:00:00\",\"2018-03-28T00:00:00\",\"2018-03-29T00:00:00\",\"2018-03-30T00:00:00\",\"2018-04-02T00:00:00\",\"2018-04-03T00:00:00\",\"2018-04-04T00:00:00\",\"2018-04-05T00:00:00\",\"2018-04-06T00:00:00\",\"2018-04-09T00:00:00\",\"2018-04-10T00:00:00\",\"2018-04-11T00:00:00\",\"2018-04-12T00:00:00\",\"2018-04-13T00:00:00\",\"2018-04-16T00:00:00\",\"2018-04-17T00:00:00\",\"2018-04-18T00:00:00\",\"2018-04-19T00:00:00\",\"2018-04-20T00:00:00\",\"2018-04-23T00:00:00\",\"2018-04-24T00:00:00\",\"2018-04-25T00:00:00\",\"2018-04-26T00:00:00\",\"2018-04-27T00:00:00\",\"2018-04-30T00:00:00\",\"2018-05-01T00:00:00\",\"2018-05-02T00:00:00\",\"2018-05-03T00:00:00\",\"2018-05-04T00:00:00\",\"2018-05-07T00:00:00\",\"2018-05-08T00:00:00\",\"2018-05-09T00:00:00\",\"2018-05-10T00:00:00\",\"2018-05-11T00:00:00\",\"2018-05-14T00:00:00\",\"2018-05-15T00:00:00\",\"2018-05-16T00:00:00\",\"2018-05-17T00:00:00\",\"2018-05-18T00:00:00\",\"2018-05-21T00:00:00\",\"2018-05-22T00:00:00\",\"2018-05-23T00:00:00\",\"2018-05-24T00:00:00\",\"2018-05-25T00:00:00\",\"2018-05-28T00:00:00\",\"2018-05-29T00:00:00\",\"2018-05-30T00:00:00\",\"2018-05-31T00:00:00\",\"2018-06-01T00:00:00\",\"2018-06-04T00:00:00\",\"2018-06-05T00:00:00\",\"2018-06-06T00:00:00\",\"2018-06-07T00:00:00\",\"2018-06-08T00:00:00\",\"2018-06-11T00:00:00\",\"2018-06-12T00:00:00\",\"2018-06-13T00:00:00\",\"2018-06-14T00:00:00\",\"2018-06-15T00:00:00\",\"2018-06-18T00:00:00\",\"2018-06-19T00:00:00\",\"2018-06-20T00:00:00\",\"2018-06-21T00:00:00\",\"2018-06-22T00:00:00\",\"2018-06-25T00:00:00\",\"2018-06-26T00:00:00\",\"2018-06-27T00:00:00\",\"2018-06-28T00:00:00\",\"2018-06-29T00:00:00\",\"2018-07-02T00:00:00\",\"2018-07-03T00:00:00\",\"2018-07-04T00:00:00\",\"2018-07-05T00:00:00\",\"2018-07-06T00:00:00\",\"2018-07-09T00:00:00\",\"2018-07-10T00:00:00\",\"2018-07-11T00:00:00\",\"2018-07-12T00:00:00\",\"2018-07-13T00:00:00\",\"2018-07-16T00:00:00\",\"2018-07-17T00:00:00\",\"2018-07-18T00:00:00\",\"2018-07-19T00:00:00\",\"2018-07-20T00:00:00\",\"2018-07-23T00:00:00\",\"2018-07-24T00:00:00\",\"2018-07-25T00:00:00\",\"2018-07-26T00:00:00\",\"2018-07-27T00:00:00\",\"2018-07-30T00:00:00\",\"2018-07-31T00:00:00\",\"2018-08-01T00:00:00\",\"2018-08-02T00:00:00\",\"2018-08-03T00:00:00\",\"2018-08-06T00:00:00\",\"2018-08-07T00:00:00\",\"2018-08-08T00:00:00\",\"2018-08-09T00:00:00\",\"2018-08-10T00:00:00\",\"2018-08-13T00:00:00\",\"2018-08-14T00:00:00\",\"2018-08-15T00:00:00\",\"2018-08-16T00:00:00\",\"2018-08-17T00:00:00\",\"2018-08-20T00:00:00\",\"2018-08-21T00:00:00\",\"2018-08-22T00:00:00\",\"2018-08-23T00:00:00\",\"2018-08-24T00:00:00\",\"2018-08-27T00:00:00\",\"2018-08-28T00:00:00\",\"2018-08-29T00:00:00\",\"2018-08-30T00:00:00\",\"2018-08-31T00:00:00\",\"2018-09-03T00:00:00\",\"2018-09-04T00:00:00\",\"2018-09-05T00:00:00\",\"2018-09-06T00:00:00\",\"2018-09-07T00:00:00\",\"2018-09-10T00:00:00\",\"2018-09-11T00:00:00\",\"2018-09-12T00:00:00\",\"2018-09-13T00:00:00\",\"2018-09-14T00:00:00\",\"2018-09-17T00:00:00\",\"2018-09-18T00:00:00\",\"2018-09-19T00:00:00\",\"2018-09-20T00:00:00\",\"2018-09-21T00:00:00\",\"2018-09-24T00:00:00\",\"2018-09-25T00:00:00\",\"2018-09-26T00:00:00\",\"2018-09-27T00:00:00\",\"2018-09-28T00:00:00\",\"2018-10-01T00:00:00\",\"2018-10-02T00:00:00\",\"2018-10-03T00:00:00\",\"2018-10-04T00:00:00\",\"2018-10-05T00:00:00\",\"2018-10-08T00:00:00\",\"2018-10-09T00:00:00\",\"2018-10-10T00:00:00\",\"2018-10-11T00:00:00\",\"2018-10-12T00:00:00\",\"2018-10-15T00:00:00\",\"2018-10-16T00:00:00\",\"2018-10-17T00:00:00\",\"2018-10-18T00:00:00\",\"2018-10-19T00:00:00\",\"2018-10-22T00:00:00\",\"2018-10-23T00:00:00\",\"2018-10-24T00:00:00\",\"2018-10-25T00:00:00\",\"2018-10-26T00:00:00\",\"2018-10-29T00:00:00\",\"2018-10-30T00:00:00\",\"2018-10-31T00:00:00\",\"2018-11-01T00:00:00\",\"2018-11-02T00:00:00\",\"2018-11-05T00:00:00\",\"2018-11-06T00:00:00\",\"2018-11-07T00:00:00\",\"2018-11-08T00:00:00\",\"2018-11-09T00:00:00\",\"2018-11-12T00:00:00\",\"2018-11-13T00:00:00\",\"2018-11-14T00:00:00\",\"2018-11-15T00:00:00\",\"2018-11-16T00:00:00\",\"2018-11-19T00:00:00\",\"2018-11-20T00:00:00\",\"2018-11-21T00:00:00\",\"2018-11-22T00:00:00\",\"2018-11-23T00:00:00\",\"2018-11-26T00:00:00\",\"2018-11-27T00:00:00\",\"2018-11-28T00:00:00\",\"2018-11-29T00:00:00\",\"2018-11-30T00:00:00\",\"2018-12-03T00:00:00\",\"2018-12-04T00:00:00\",\"2018-12-05T00:00:00\",\"2018-12-06T00:00:00\",\"2018-12-07T00:00:00\",\"2018-12-10T00:00:00\",\"2018-12-11T00:00:00\",\"2018-12-12T00:00:00\",\"2018-12-13T00:00:00\",\"2018-12-14T00:00:00\",\"2018-12-17T00:00:00\",\"2018-12-18T00:00:00\",\"2018-12-19T00:00:00\",\"2018-12-20T00:00:00\",\"2018-12-21T00:00:00\",\"2018-12-24T00:00:00\",\"2018-12-25T00:00:00\",\"2018-12-26T00:00:00\",\"2018-12-27T00:00:00\",\"2018-12-28T00:00:00\",\"2018-12-31T00:00:00\",\"2019-01-01T00:00:00\",\"2019-01-02T00:00:00\",\"2019-01-03T00:00:00\",\"2019-01-04T00:00:00\",\"2019-01-07T00:00:00\",\"2019-01-08T00:00:00\",\"2019-01-09T00:00:00\",\"2019-01-10T00:00:00\",\"2019-01-11T00:00:00\",\"2019-01-14T00:00:00\",\"2019-01-15T00:00:00\",\"2019-01-16T00:00:00\",\"2019-01-17T00:00:00\",\"2019-01-18T00:00:00\",\"2019-01-21T00:00:00\",\"2019-01-22T00:00:00\",\"2019-01-23T00:00:00\",\"2019-01-24T00:00:00\",\"2019-01-25T00:00:00\",\"2019-01-28T00:00:00\",\"2019-01-29T00:00:00\",\"2019-01-30T00:00:00\",\"2019-01-31T00:00:00\",\"2019-02-01T00:00:00\",\"2019-02-04T00:00:00\",\"2019-02-05T00:00:00\",\"2019-02-06T00:00:00\",\"2019-02-07T00:00:00\",\"2019-02-08T00:00:00\",\"2019-02-11T00:00:00\",\"2019-02-12T00:00:00\",\"2019-02-13T00:00:00\",\"2019-02-14T00:00:00\",\"2019-02-15T00:00:00\",\"2019-02-18T00:00:00\",\"2019-02-19T00:00:00\",\"2019-02-20T00:00:00\",\"2019-02-21T00:00:00\",\"2019-02-22T00:00:00\",\"2019-02-25T00:00:00\",\"2019-02-26T00:00:00\",\"2019-02-27T00:00:00\",\"2019-02-28T00:00:00\",\"2019-03-01T00:00:00\",\"2019-03-04T00:00:00\",\"2019-03-05T00:00:00\",\"2019-03-06T00:00:00\",\"2019-03-07T00:00:00\",\"2019-03-08T00:00:00\",\"2019-03-11T00:00:00\",\"2019-03-12T00:00:00\",\"2019-03-13T00:00:00\",\"2019-03-14T00:00:00\",\"2019-03-15T00:00:00\",\"2019-03-18T00:00:00\",\"2019-03-19T00:00:00\",\"2019-03-20T00:00:00\",\"2019-03-21T00:00:00\",\"2019-03-22T00:00:00\",\"2019-03-25T00:00:00\",\"2019-03-26T00:00:00\",\"2019-03-27T00:00:00\",\"2019-03-28T00:00:00\",\"2019-03-29T00:00:00\",\"2019-04-01T00:00:00\",\"2019-04-02T00:00:00\",\"2019-04-03T00:00:00\",\"2019-04-04T00:00:00\",\"2019-04-05T00:00:00\",\"2019-04-08T00:00:00\",\"2019-04-09T00:00:00\",\"2019-04-10T00:00:00\",\"2019-04-11T00:00:00\",\"2019-04-12T00:00:00\",\"2019-04-15T00:00:00\",\"2019-04-16T00:00:00\",\"2019-04-17T00:00:00\",\"2019-04-18T00:00:00\",\"2019-04-19T00:00:00\",\"2019-04-22T00:00:00\",\"2019-04-23T00:00:00\",\"2019-04-24T00:00:00\",\"2019-04-25T00:00:00\",\"2019-04-26T00:00:00\",\"2019-04-29T00:00:00\",\"2019-04-30T00:00:00\",\"2019-05-01T00:00:00\",\"2019-05-02T00:00:00\",\"2019-05-03T00:00:00\",\"2019-05-06T00:00:00\",\"2019-05-07T00:00:00\",\"2019-05-08T00:00:00\",\"2019-05-09T00:00:00\",\"2019-05-10T00:00:00\",\"2019-05-13T00:00:00\",\"2019-05-14T00:00:00\",\"2019-05-15T00:00:00\",\"2019-05-16T00:00:00\",\"2019-05-17T00:00:00\",\"2019-05-20T00:00:00\",\"2019-05-21T00:00:00\",\"2019-05-22T00:00:00\",\"2019-05-23T00:00:00\",\"2019-05-24T00:00:00\",\"2019-05-27T00:00:00\",\"2019-05-28T00:00:00\",\"2019-05-29T00:00:00\",\"2019-05-30T00:00:00\",\"2019-05-31T00:00:00\",\"2019-06-03T00:00:00\",\"2019-06-04T00:00:00\",\"2019-06-05T00:00:00\",\"2019-06-06T00:00:00\",\"2019-06-07T00:00:00\",\"2019-06-10T00:00:00\",\"2019-06-11T00:00:00\",\"2019-06-12T00:00:00\",\"2019-06-13T00:00:00\",\"2019-06-14T00:00:00\",\"2019-06-17T00:00:00\",\"2019-06-18T00:00:00\",\"2019-06-20T00:00:00\",\"2019-06-21T00:00:00\",\"2019-06-24T00:00:00\",\"2019-06-25T00:00:00\",\"2019-06-26T00:00:00\",\"2019-06-27T00:00:00\",\"2019-06-28T00:00:00\",\"2019-07-01T00:00:00\",\"2019-07-02T00:00:00\",\"2019-07-03T00:00:00\",\"2019-07-04T00:00:00\",\"2019-07-05T00:00:00\",\"2019-07-08T00:00:00\",\"2019-07-09T00:00:00\",\"2019-07-10T00:00:00\",\"2019-07-11T00:00:00\",\"2019-07-12T00:00:00\",\"2019-07-15T00:00:00\",\"2019-07-16T00:00:00\",\"2019-07-17T00:00:00\",\"2019-07-18T00:00:00\",\"2019-07-19T00:00:00\",\"2019-07-22T00:00:00\",\"2019-07-23T00:00:00\",\"2019-07-24T00:00:00\",\"2019-07-25T00:00:00\",\"2019-07-26T00:00:00\",\"2019-07-29T00:00:00\",\"2019-07-30T00:00:00\",\"2019-07-31T00:00:00\",\"2019-08-01T00:00:00\",\"2019-08-02T00:00:00\",\"2019-08-05T00:00:00\",\"2019-08-06T00:00:00\",\"2019-08-07T00:00:00\",\"2019-08-08T00:00:00\",\"2019-08-09T00:00:00\",\"2019-08-12T00:00:00\",\"2019-08-13T00:00:00\",\"2019-08-14T00:00:00\",\"2019-08-15T00:00:00\",\"2019-08-16T00:00:00\",\"2019-08-19T00:00:00\",\"2019-08-20T00:00:00\",\"2019-08-21T00:00:00\",\"2019-08-22T00:00:00\",\"2019-08-23T00:00:00\",\"2019-08-26T00:00:00\",\"2019-08-27T00:00:00\",\"2019-08-28T00:00:00\",\"2019-08-29T00:00:00\",\"2019-08-30T00:00:00\",\"2019-09-02T00:00:00\",\"2019-09-03T00:00:00\",\"2019-09-04T00:00:00\",\"2019-09-05T00:00:00\",\"2019-09-06T00:00:00\",\"2019-09-09T00:00:00\",\"2019-09-10T00:00:00\",\"2019-09-11T00:00:00\",\"2019-09-12T00:00:00\",\"2019-09-13T00:00:00\",\"2019-09-16T00:00:00\",\"2019-09-17T00:00:00\",\"2019-09-18T00:00:00\",\"2019-09-19T00:00:00\",\"2019-09-20T00:00:00\",\"2019-09-23T00:00:00\",\"2019-09-24T00:00:00\",\"2019-09-25T00:00:00\",\"2019-09-26T00:00:00\",\"2019-09-27T00:00:00\",\"2019-09-30T00:00:00\",\"2019-10-01T00:00:00\",\"2019-10-02T00:00:00\",\"2019-10-03T00:00:00\",\"2019-10-04T00:00:00\",\"2019-10-07T00:00:00\",\"2019-10-08T00:00:00\",\"2019-10-09T00:00:00\",\"2019-10-10T00:00:00\",\"2019-10-11T00:00:00\",\"2019-10-14T00:00:00\",\"2019-10-15T00:00:00\",\"2019-10-16T00:00:00\",\"2019-10-17T00:00:00\",\"2019-10-18T00:00:00\",\"2019-10-21T00:00:00\",\"2019-10-22T00:00:00\",\"2019-10-23T00:00:00\",\"2019-10-24T00:00:00\",\"2019-10-25T00:00:00\",\"2019-10-28T00:00:00\",\"2019-10-29T00:00:00\",\"2019-10-30T00:00:00\",\"2019-10-31T00:00:00\",\"2019-11-01T00:00:00\",\"2019-11-04T00:00:00\",\"2019-11-05T00:00:00\",\"2019-11-06T00:00:00\",\"2019-11-07T00:00:00\",\"2019-11-08T00:00:00\",\"2019-11-11T00:00:00\",\"2019-11-12T00:00:00\",\"2019-11-13T00:00:00\",\"2019-11-14T00:00:00\",\"2019-11-15T00:00:00\",\"2019-11-18T00:00:00\",\"2019-11-19T00:00:00\",\"2019-11-20T00:00:00\",\"2019-11-21T00:00:00\",\"2019-11-22T00:00:00\",\"2019-11-25T00:00:00\",\"2019-11-26T00:00:00\",\"2019-11-27T00:00:00\",\"2019-11-28T00:00:00\",\"2019-11-29T00:00:00\",\"2019-12-02T00:00:00\",\"2019-12-03T00:00:00\",\"2019-12-04T00:00:00\",\"2019-12-05T00:00:00\",\"2019-12-06T00:00:00\",\"2019-12-09T00:00:00\",\"2019-12-10T00:00:00\",\"2019-12-11T00:00:00\",\"2019-12-12T00:00:00\",\"2019-12-13T00:00:00\",\"2019-12-16T00:00:00\",\"2019-12-17T00:00:00\",\"2019-12-18T00:00:00\",\"2019-12-19T00:00:00\",\"2019-12-20T00:00:00\",\"2019-12-23T00:00:00\",\"2019-12-26T00:00:00\",\"2019-12-27T00:00:00\",\"2019-12-30T00:00:00\",\"2020-01-02T00:00:00\",\"2020-01-03T00:00:00\",\"2020-01-06T00:00:00\",\"2020-01-07T00:00:00\",\"2020-01-08T00:00:00\",\"2020-01-09T00:00:00\",\"2020-01-10T00:00:00\",\"2020-01-13T00:00:00\",\"2020-01-14T00:00:00\",\"2020-01-15T00:00:00\",\"2020-01-16T00:00:00\",\"2020-01-17T00:00:00\",\"2020-01-20T00:00:00\",\"2020-01-21T00:00:00\",\"2020-01-22T00:00:00\",\"2020-01-23T00:00:00\",\"2020-01-24T00:00:00\",\"2020-01-27T00:00:00\",\"2020-01-28T00:00:00\",\"2020-01-29T00:00:00\",\"2020-01-30T00:00:00\",\"2020-01-31T00:00:00\",\"2020-02-03T00:00:00\",\"2020-02-04T00:00:00\",\"2020-02-05T00:00:00\",\"2020-02-06T00:00:00\",\"2020-02-07T00:00:00\",\"2020-02-10T00:00:00\",\"2020-02-11T00:00:00\",\"2020-02-12T00:00:00\",\"2020-02-13T00:00:00\",\"2020-02-14T00:00:00\",\"2020-02-17T00:00:00\",\"2020-02-18T00:00:00\",\"2020-02-19T00:00:00\",\"2020-02-20T00:00:00\",\"2020-02-21T00:00:00\",\"2020-02-24T00:00:00\",\"2020-02-25T00:00:00\",\"2020-02-26T00:00:00\",\"2020-02-27T00:00:00\",\"2020-02-28T00:00:00\",\"2020-03-02T00:00:00\",\"2020-03-03T00:00:00\",\"2020-03-04T00:00:00\",\"2020-03-05T00:00:00\",\"2020-03-06T00:00:00\",\"2020-03-09T00:00:00\",\"2020-03-10T00:00:00\",\"2020-03-11T00:00:00\",\"2020-03-12T00:00:00\",\"2020-03-13T00:00:00\",\"2020-03-16T00:00:00\",\"2020-03-17T00:00:00\",\"2020-03-18T00:00:00\",\"2020-03-19T00:00:00\",\"2020-03-20T00:00:00\",\"2020-03-23T00:00:00\",\"2020-03-24T00:00:00\",\"2020-03-26T00:00:00\",\"2020-03-27T00:00:00\",\"2020-03-30T00:00:00\",\"2020-03-31T00:00:00\",\"2020-04-01T00:00:00\",\"2020-04-02T00:00:00\",\"2020-04-03T00:00:00\",\"2020-04-06T00:00:00\",\"2020-04-07T00:00:00\",\"2020-04-08T00:00:00\",\"2020-04-09T00:00:00\",\"2020-04-13T00:00:00\",\"2020-04-14T00:00:00\",\"2020-04-15T00:00:00\",\"2020-04-16T00:00:00\",\"2020-04-17T00:00:00\",\"2020-04-20T00:00:00\",\"2020-04-21T00:00:00\",\"2020-04-22T00:00:00\",\"2020-04-23T00:00:00\",\"2020-04-24T00:00:00\",\"2020-04-27T00:00:00\",\"2020-04-28T00:00:00\",\"2020-04-29T00:00:00\",\"2020-04-30T00:00:00\",\"2020-05-04T00:00:00\",\"2020-05-05T00:00:00\",\"2020-05-06T00:00:00\",\"2020-05-08T00:00:00\",\"2020-05-11T00:00:00\",\"2020-05-12T00:00:00\",\"2020-05-13T00:00:00\",\"2020-05-14T00:00:00\",\"2020-05-15T00:00:00\",\"2020-05-18T00:00:00\",\"2020-05-19T00:00:00\",\"2020-05-20T00:00:00\",\"2020-05-26T00:00:00\",\"2020-05-27T00:00:00\",\"2020-05-28T00:00:00\",\"2020-05-29T00:00:00\",\"2020-06-02T00:00:00\",\"2020-06-03T00:00:00\",\"2020-06-04T00:00:00\",\"2020-06-05T00:00:00\",\"2020-06-08T00:00:00\",\"2020-06-09T00:00:00\",\"2020-06-10T00:00:00\",\"2020-06-11T00:00:00\",\"2020-06-12T00:00:00\",\"2020-06-15T00:00:00\",\"2020-06-16T00:00:00\",\"2020-06-17T00:00:00\",\"2020-06-18T00:00:00\",\"2020-06-19T00:00:00\",\"2020-06-22T00:00:00\",\"2020-06-23T00:00:00\",\"2020-06-24T00:00:00\",\"2020-06-25T00:00:00\",\"2020-06-26T00:00:00\",\"2020-06-29T00:00:00\",\"2020-06-30T00:00:00\",\"2020-07-01T00:00:00\",\"2020-07-02T00:00:00\",\"2020-07-03T00:00:00\",\"2020-07-06T00:00:00\",\"2020-07-07T00:00:00\",\"2020-07-08T00:00:00\",\"2020-07-09T00:00:00\",\"2020-07-10T00:00:00\",\"2020-07-13T00:00:00\",\"2020-07-14T00:00:00\",\"2020-07-15T00:00:00\",\"2020-07-16T00:00:00\",\"2020-07-17T00:00:00\",\"2020-07-20T00:00:00\",\"2020-07-21T00:00:00\",\"2020-07-22T00:00:00\",\"2020-07-23T00:00:00\",\"2020-07-24T00:00:00\",\"2020-07-27T00:00:00\",\"2020-07-28T00:00:00\",\"2020-07-29T00:00:00\",\"2020-07-30T00:00:00\",\"2020-08-03T00:00:00\",\"2020-08-04T00:00:00\",\"2020-08-05T00:00:00\",\"2020-08-06T00:00:00\",\"2020-08-07T00:00:00\",\"2020-08-10T00:00:00\",\"2020-08-11T00:00:00\",\"2020-08-12T00:00:00\",\"2020-08-13T00:00:00\",\"2020-08-14T00:00:00\",\"2020-08-18T00:00:00\",\"2020-08-19T00:00:00\",\"2020-08-24T00:00:00\",\"2020-08-25T00:00:00\",\"2020-08-26T00:00:00\",\"2020-08-27T00:00:00\",\"2020-08-28T00:00:00\",\"2020-08-31T00:00:00\",\"2020-09-01T00:00:00\",\"2020-09-02T00:00:00\",\"2020-09-03T00:00:00\",\"2020-09-04T00:00:00\",\"2020-09-07T00:00:00\",\"2020-09-08T00:00:00\",\"2020-09-09T00:00:00\",\"2020-09-10T00:00:00\",\"2020-09-11T00:00:00\",\"2020-09-14T00:00:00\",\"2020-09-15T00:00:00\",\"2020-09-16T00:00:00\",\"2020-09-17T00:00:00\",\"2020-09-18T00:00:00\",\"2020-09-21T00:00:00\",\"2020-09-22T00:00:00\",\"2020-09-23T00:00:00\",\"2020-09-24T00:00:00\",\"2020-09-25T00:00:00\",\"2020-09-28T00:00:00\",\"2020-09-29T00:00:00\",\"2020-09-30T00:00:00\",\"2020-10-01T00:00:00\",\"2020-10-02T00:00:00\",\"2020-10-05T00:00:00\",\"2020-10-06T00:00:00\",\"2020-10-07T00:00:00\",\"2020-10-08T00:00:00\",\"2020-10-09T00:00:00\",\"2020-10-12T00:00:00\",\"2020-10-13T00:00:00\",\"2020-10-14T00:00:00\",\"2020-10-15T00:00:00\",\"2020-10-16T00:00:00\",\"2020-10-19T00:00:00\",\"2020-10-20T00:00:00\",\"2020-10-21T00:00:00\",\"2020-10-22T00:00:00\",\"2020-10-23T00:00:00\",\"2020-10-26T00:00:00\",\"2020-10-27T00:00:00\",\"2020-11-02T00:00:00\",\"2020-11-03T00:00:00\",\"2020-11-04T00:00:00\",\"2020-11-05T00:00:00\",\"2020-11-06T00:00:00\",\"2020-11-09T00:00:00\",\"2020-11-10T00:00:00\",\"2020-11-11T00:00:00\",\"2020-11-12T00:00:00\",\"2020-11-13T00:00:00\",\"2020-11-16T00:00:00\",\"2020-11-17T00:00:00\",\"2020-11-18T00:00:00\",\"2020-11-19T00:00:00\",\"2020-11-20T00:00:00\",\"2020-11-23T00:00:00\",\"2020-11-24T00:00:00\",\"2020-11-25T00:00:00\",\"2020-11-26T00:00:00\",\"2020-11-27T00:00:00\",\"2020-11-30T00:00:00\",\"2020-12-01T00:00:00\",\"2020-12-02T00:00:00\",\"2020-12-03T00:00:00\",\"2020-12-04T00:00:00\",\"2020-12-07T00:00:00\",\"2020-12-08T00:00:00\",\"2020-12-10T00:00:00\",\"2020-12-11T00:00:00\",\"2020-12-14T00:00:00\",\"2020-12-15T00:00:00\",\"2020-12-16T00:00:00\",\"2020-12-17T00:00:00\",\"2020-12-18T00:00:00\",\"2020-12-21T00:00:00\",\"2020-12-22T00:00:00\",\"2020-12-23T00:00:00\",\"2020-12-28T00:00:00\",\"2020-12-29T00:00:00\",\"2020-12-30T00:00:00\",\"2021-01-04T00:00:00\",\"2021-01-05T00:00:00\",\"2021-01-06T00:00:00\",\"2021-01-07T00:00:00\",\"2021-01-08T00:00:00\",\"2021-01-11T00:00:00\",\"2021-01-12T00:00:00\",\"2021-01-13T00:00:00\",\"2021-01-14T00:00:00\",\"2021-01-15T00:00:00\",\"2021-01-18T00:00:00\",\"2021-01-19T00:00:00\",\"2021-01-20T00:00:00\",\"2021-01-21T00:00:00\",\"2021-01-22T00:00:00\",\"2021-01-25T00:00:00\",\"2021-01-26T00:00:00\",\"2021-01-27T00:00:00\",\"2021-01-28T00:00:00\",\"2021-01-29T00:00:00\",\"2021-02-01T00:00:00\",\"2021-02-02T00:00:00\",\"2021-02-03T00:00:00\",\"2021-02-04T00:00:00\",\"2021-02-05T00:00:00\",\"2021-02-08T00:00:00\",\"2021-02-09T00:00:00\",\"2021-02-10T00:00:00\",\"2021-02-11T00:00:00\",\"2021-02-15T00:00:00\",\"2021-02-16T00:00:00\",\"2021-02-17T00:00:00\",\"2021-02-18T00:00:00\",\"2021-02-19T00:00:00\",\"2021-02-22T00:00:00\",\"2021-02-23T00:00:00\",\"2021-02-24T00:00:00\",\"2021-02-25T00:00:00\",\"2021-02-26T00:00:00\",\"2021-03-01T00:00:00\",\"2021-03-02T00:00:00\",\"2021-03-03T00:00:00\",\"2021-03-04T00:00:00\",\"2021-03-05T00:00:00\",\"2021-03-08T00:00:00\",\"2021-03-09T00:00:00\",\"2021-03-10T00:00:00\",\"2021-03-12T00:00:00\",\"2021-03-15T00:00:00\",\"2021-03-16T00:00:00\",\"2021-03-17T00:00:00\",\"2021-03-18T00:00:00\",\"2021-03-19T00:00:00\",\"2021-03-22T00:00:00\",\"2021-03-23T00:00:00\",\"2021-03-24T00:00:00\",\"2021-03-25T00:00:00\",\"2021-03-26T00:00:00\",\"2021-03-29T00:00:00\",\"2021-03-30T00:00:00\",\"2021-03-31T00:00:00\",\"2021-04-01T00:00:00\",\"2021-04-05T00:00:00\",\"2021-04-06T00:00:00\",\"2021-04-07T00:00:00\",\"2021-04-08T00:00:00\",\"2021-04-09T00:00:00\",\"2021-04-12T00:00:00\",\"2021-04-13T00:00:00\",\"2021-04-14T00:00:00\",\"2021-04-15T00:00:00\",\"2021-04-16T00:00:00\",\"2021-04-19T00:00:00\",\"2021-04-20T00:00:00\",\"2021-04-21T00:00:00\",\"2021-04-22T00:00:00\",\"2021-04-23T00:00:00\",\"2021-04-26T00:00:00\",\"2021-04-27T00:00:00\",\"2021-04-28T00:00:00\",\"2021-04-29T00:00:00\",\"2021-04-30T00:00:00\",\"2021-05-03T00:00:00\",\"2021-05-04T00:00:00\",\"2021-05-05T00:00:00\",\"2021-05-06T00:00:00\",\"2021-05-07T00:00:00\",\"2021-05-10T00:00:00\",\"2021-05-11T00:00:00\",\"2021-05-17T00:00:00\",\"2021-05-18T00:00:00\",\"2021-05-19T00:00:00\",\"2021-05-20T00:00:00\",\"2021-05-21T00:00:00\",\"2021-05-24T00:00:00\",\"2021-05-25T00:00:00\",\"2021-05-27T00:00:00\",\"2021-05-28T00:00:00\",\"2021-05-31T00:00:00\",\"2021-06-02T00:00:00\",\"2021-06-03T00:00:00\",\"2021-06-04T00:00:00\",\"2021-06-07T00:00:00\",\"2021-06-08T00:00:00\",\"2021-06-09T00:00:00\",\"2021-06-10T00:00:00\",\"2021-06-11T00:00:00\",\"2021-06-14T00:00:00\",\"2021-06-15T00:00:00\",\"2021-06-16T00:00:00\",\"2021-06-17T00:00:00\",\"2021-06-18T00:00:00\",\"2021-06-21T00:00:00\",\"2021-06-22T00:00:00\",\"2021-06-23T00:00:00\",\"2021-06-24T00:00:00\",\"2021-06-25T00:00:00\",\"2021-06-28T00:00:00\",\"2021-06-29T00:00:00\",\"2021-06-30T00:00:00\",\"2021-07-01T00:00:00\",\"2021-07-02T00:00:00\",\"2021-07-05T00:00:00\",\"2021-07-06T00:00:00\",\"2021-07-07T00:00:00\",\"2021-07-08T00:00:00\",\"2021-07-09T00:00:00\",\"2021-07-12T00:00:00\",\"2021-07-13T00:00:00\",\"2021-07-14T00:00:00\",\"2021-07-15T00:00:00\",\"2021-07-16T00:00:00\",\"2021-07-19T00:00:00\",\"2021-07-21T00:00:00\",\"2021-07-22T00:00:00\",\"2021-07-23T00:00:00\",\"2021-07-26T00:00:00\",\"2021-07-27T00:00:00\",\"2021-07-28T00:00:00\",\"2021-07-29T00:00:00\",\"2021-07-30T00:00:00\",\"2021-08-02T00:00:00\",\"2021-08-03T00:00:00\",\"2021-08-04T00:00:00\",\"2021-08-05T00:00:00\",\"2021-08-06T00:00:00\",\"2021-08-09T00:00:00\",\"2021-08-10T00:00:00\",\"2021-08-12T00:00:00\",\"2021-08-13T00:00:00\",\"2021-08-16T00:00:00\",\"2021-08-18T00:00:00\",\"2021-08-19T00:00:00\",\"2021-08-20T00:00:00\",\"2021-08-23T00:00:00\",\"2021-08-24T00:00:00\",\"2021-08-25T00:00:00\",\"2021-08-26T00:00:00\",\"2021-08-27T00:00:00\",\"2021-08-30T00:00:00\",\"2021-08-31T00:00:00\",\"2021-09-01T00:00:00\",\"2021-09-02T00:00:00\",\"2021-09-03T00:00:00\",\"2021-09-06T00:00:00\",\"2021-09-07T00:00:00\",\"2021-09-08T00:00:00\",\"2021-09-09T00:00:00\",\"2021-09-10T00:00:00\",\"2021-09-13T00:00:00\",\"2021-09-14T00:00:00\",\"2021-09-15T00:00:00\",\"2021-09-16T00:00:00\",\"2021-09-17T00:00:00\",\"2021-09-20T00:00:00\",\"2021-09-21T00:00:00\",\"2021-09-22T00:00:00\",\"2021-09-23T00:00:00\",\"2021-09-24T00:00:00\",\"2021-09-27T00:00:00\",\"2021-09-28T00:00:00\",\"2021-09-29T00:00:00\",\"2021-09-30T00:00:00\",\"2021-10-01T00:00:00\",\"2021-10-04T00:00:00\",\"2021-10-05T00:00:00\",\"2021-10-06T00:00:00\",\"2021-10-07T00:00:00\",\"2021-10-08T00:00:00\",\"2021-10-11T00:00:00\",\"2021-10-12T00:00:00\",\"2021-10-13T00:00:00\",\"2021-10-14T00:00:00\",\"2021-10-15T00:00:00\",\"2021-10-18T00:00:00\",\"2021-10-19T00:00:00\",\"2021-10-21T00:00:00\",\"2021-10-22T00:00:00\",\"2021-10-25T00:00:00\",\"2021-10-26T00:00:00\",\"2021-10-27T00:00:00\",\"2021-10-28T00:00:00\",\"2021-10-29T00:00:00\",\"2021-11-01T00:00:00\",\"2021-11-02T00:00:00\",\"2021-11-03T00:00:00\",\"2021-11-04T00:00:00\",\"2021-11-05T00:00:00\",\"2021-11-08T00:00:00\",\"2021-11-09T00:00:00\",\"2021-11-10T00:00:00\",\"2021-11-11T00:00:00\",\"2021-11-12T00:00:00\",\"2021-11-15T00:00:00\",\"2021-11-16T00:00:00\",\"2021-11-17T00:00:00\",\"2021-11-18T00:00:00\",\"2021-11-19T00:00:00\",\"2021-11-22T00:00:00\",\"2021-11-23T00:00:00\",\"2021-11-24T00:00:00\",\"2021-11-25T00:00:00\",\"2021-11-26T00:00:00\",\"2021-11-29T00:00:00\",\"2021-11-30T00:00:00\",\"2021-12-01T00:00:00\",\"2021-12-02T00:00:00\",\"2021-12-03T00:00:00\",\"2021-12-06T00:00:00\",\"2021-12-07T00:00:00\",\"2021-12-08T00:00:00\",\"2021-12-09T00:00:00\",\"2021-12-10T00:00:00\",\"2021-12-13T00:00:00\",\"2021-12-14T00:00:00\",\"2021-12-15T00:00:00\",\"2021-12-16T00:00:00\",\"2021-12-17T00:00:00\",\"2021-12-20T00:00:00\",\"2021-12-21T00:00:00\",\"2021-12-22T00:00:00\",\"2021-12-23T00:00:00\",\"2021-12-24T00:00:00\",\"2021-12-27T00:00:00\",\"2021-12-28T00:00:00\",\"2021-12-29T00:00:00\",\"2021-12-30T00:00:00\",\"2022-01-03T00:00:00\",\"2022-01-04T00:00:00\",\"2022-01-05T00:00:00\",\"2022-01-06T00:00:00\",\"2022-01-07T00:00:00\",\"2022-01-10T00:00:00\",\"2022-01-11T00:00:00\",\"2022-01-12T00:00:00\",\"2022-01-13T00:00:00\",\"2022-01-14T00:00:00\",\"2022-01-17T00:00:00\",\"2022-01-18T00:00:00\",\"2022-01-19T00:00:00\",\"2022-01-20T00:00:00\",\"2022-01-21T00:00:00\",\"2022-01-24T00:00:00\",\"2022-01-25T00:00:00\",\"2022-01-26T00:00:00\",\"2022-01-27T00:00:00\",\"2022-01-28T00:00:00\",\"2022-01-31T00:00:00\",\"2022-02-02T00:00:00\",\"2022-02-03T00:00:00\",\"2022-02-04T00:00:00\",\"2022-02-07T00:00:00\",\"2022-02-08T00:00:00\",\"2022-02-09T00:00:00\",\"2022-02-10T00:00:00\",\"2022-02-11T00:00:00\",\"2022-02-14T00:00:00\",\"2022-02-15T00:00:00\",\"2022-02-16T00:00:00\",\"2022-02-17T00:00:00\",\"2022-02-18T00:00:00\",\"2022-02-21T00:00:00\",\"2022-02-22T00:00:00\",\"2022-02-23T00:00:00\",\"2022-02-24T00:00:00\",\"2022-02-25T00:00:00\",\"2022-03-01T00:00:00\",\"2022-03-02T00:00:00\",\"2022-03-04T00:00:00\",\"2022-03-07T00:00:00\",\"2022-03-08T00:00:00\",\"2022-03-09T00:00:00\",\"2022-03-10T00:00:00\",\"2022-03-11T00:00:00\",\"2022-03-14T00:00:00\",\"2022-03-15T00:00:00\",\"2022-03-16T00:00:00\",\"2022-03-17T00:00:00\",\"2022-03-18T00:00:00\",\"2022-03-21T00:00:00\",\"2022-03-22T00:00:00\",\"2022-03-23T00:00:00\",\"2022-03-24T00:00:00\",\"2022-03-25T00:00:00\",\"2022-03-28T00:00:00\",\"2022-03-29T00:00:00\",\"2022-03-30T00:00:00\",\"2022-03-31T00:00:00\",\"2022-04-01T00:00:00\",\"2022-04-04T00:00:00\",\"2022-04-05T00:00:00\",\"2022-04-06T00:00:00\",\"2022-04-07T00:00:00\",\"2022-04-08T00:00:00\",\"2022-04-11T00:00:00\",\"2022-04-12T00:00:00\",\"2022-04-13T00:00:00\",\"2022-04-14T00:00:00\",\"2022-04-18T00:00:00\",\"2022-04-19T00:00:00\",\"2022-04-20T00:00:00\",\"2022-04-21T00:00:00\",\"2022-04-22T00:00:00\",\"2022-04-25T00:00:00\",\"2022-04-26T00:00:00\",\"2022-04-27T00:00:00\",\"2022-04-28T00:00:00\",\"2022-05-09T00:00:00\",\"2022-05-10T00:00:00\",\"2022-05-11T00:00:00\",\"2022-05-12T00:00:00\",\"2022-05-13T00:00:00\",\"2022-05-17T00:00:00\",\"2022-05-18T00:00:00\",\"2022-05-19T00:00:00\",\"2022-05-20T00:00:00\",\"2022-05-23T00:00:00\",\"2022-05-24T00:00:00\",\"2022-05-25T00:00:00\",\"2022-05-27T00:00:00\",\"2022-05-30T00:00:00\",\"2022-05-31T00:00:00\",\"2022-06-02T00:00:00\",\"2022-06-03T00:00:00\",\"2022-06-06T00:00:00\",\"2022-06-07T00:00:00\",\"2022-06-08T00:00:00\",\"2022-06-09T00:00:00\",\"2022-06-10T00:00:00\",\"2022-06-13T00:00:00\",\"2022-06-14T00:00:00\",\"2022-06-15T00:00:00\",\"2022-06-16T00:00:00\",\"2022-06-17T00:00:00\",\"2022-06-20T00:00:00\",\"2022-06-21T00:00:00\",\"2022-06-22T00:00:00\",\"2022-06-23T00:00:00\",\"2022-06-24T00:00:00\",\"2022-06-27T00:00:00\",\"2022-06-28T00:00:00\",\"2022-06-29T00:00:00\",\"2022-06-30T00:00:00\",\"2022-07-01T00:00:00\",\"2022-07-04T00:00:00\",\"2022-07-05T00:00:00\",\"2022-07-06T00:00:00\",\"2022-07-07T00:00:00\",\"2022-07-08T00:00:00\",\"2022-07-11T00:00:00\",\"2022-07-12T00:00:00\",\"2022-07-13T00:00:00\",\"2022-07-14T00:00:00\",\"2022-07-15T00:00:00\",\"2022-07-18T00:00:00\",\"2022-07-19T00:00:00\",\"2022-07-20T00:00:00\",\"2022-07-21T00:00:00\",\"2022-07-22T00:00:00\",\"2022-07-25T00:00:00\",\"2022-07-26T00:00:00\",\"2022-07-27T00:00:00\",\"2022-07-28T00:00:00\",\"2022-07-29T00:00:00\",\"2022-08-01T00:00:00\",\"2022-08-02T00:00:00\",\"2022-08-03T00:00:00\",\"2022-08-04T00:00:00\",\"2022-08-05T00:00:00\",\"2022-08-08T00:00:00\",\"2022-08-09T00:00:00\",\"2022-08-10T00:00:00\",\"2022-08-11T00:00:00\",\"2022-08-12T00:00:00\",\"2022-08-15T00:00:00\",\"2022-08-16T00:00:00\",\"2022-08-18T00:00:00\",\"2022-08-19T00:00:00\",\"2022-08-22T00:00:00\",\"2022-08-23T00:00:00\",\"2022-08-24T00:00:00\",\"2022-08-25T00:00:00\",\"2022-08-26T00:00:00\",\"2022-08-29T00:00:00\",\"2022-08-30T00:00:00\",\"2022-08-31T00:00:00\",\"2022-09-01T00:00:00\",\"2022-09-02T00:00:00\",\"2022-09-05T00:00:00\",\"2022-09-06T00:00:00\",\"2022-09-07T00:00:00\",\"2022-09-08T00:00:00\",\"2022-09-09T00:00:00\",\"2022-09-12T00:00:00\",\"2022-09-13T00:00:00\",\"2022-09-14T00:00:00\",\"2022-09-15T00:00:00\",\"2022-09-16T00:00:00\",\"2022-09-19T00:00:00\",\"2022-09-20T00:00:00\",\"2022-09-21T00:00:00\",\"2022-09-22T00:00:00\",\"2022-09-23T00:00:00\",\"2022-09-26T00:00:00\",\"2022-09-27T00:00:00\",\"2022-09-28T00:00:00\",\"2022-09-29T00:00:00\",\"2022-09-30T00:00:00\",\"2022-10-03T00:00:00\",\"2022-10-04T00:00:00\",\"2022-10-05T00:00:00\",\"2022-10-06T00:00:00\",\"2022-10-07T00:00:00\",\"2022-10-10T00:00:00\",\"2022-10-11T00:00:00\",\"2022-10-12T00:00:00\",\"2022-10-13T00:00:00\",\"2022-10-14T00:00:00\",\"2022-10-17T00:00:00\",\"2022-10-18T00:00:00\",\"2022-10-19T00:00:00\",\"2022-10-20T00:00:00\",\"2022-10-21T00:00:00\",\"2022-10-24T00:00:00\",\"2022-10-25T00:00:00\",\"2022-10-26T00:00:00\",\"2022-10-27T00:00:00\",\"2022-10-28T00:00:00\",\"2022-10-31T00:00:00\",\"2022-11-01T00:00:00\",\"2022-11-02T00:00:00\",\"2022-11-03T00:00:00\",\"2022-11-04T00:00:00\",\"2022-11-07T00:00:00\",\"2022-11-08T00:00:00\",\"2022-11-09T00:00:00\",\"2022-11-10T00:00:00\",\"2022-11-11T00:00:00\",\"2022-11-14T00:00:00\",\"2022-11-15T00:00:00\",\"2022-11-16T00:00:00\",\"2022-11-17T00:00:00\",\"2022-11-18T00:00:00\",\"2022-11-21T00:00:00\",\"2022-11-22T00:00:00\",\"2022-11-23T00:00:00\",\"2022-11-24T00:00:00\",\"2022-11-25T00:00:00\",\"2022-11-28T00:00:00\",\"2022-11-29T00:00:00\",\"2022-11-30T00:00:00\",\"2022-12-01T00:00:00\",\"2022-12-02T00:00:00\",\"2022-12-05T00:00:00\",\"2022-12-06T00:00:00\",\"2022-12-07T00:00:00\",\"2022-12-08T00:00:00\",\"2022-12-09T00:00:00\",\"2022-12-12T00:00:00\",\"2022-12-13T00:00:00\",\"2022-12-14T00:00:00\",\"2022-12-15T00:00:00\",\"2022-12-16T00:00:00\",\"2022-12-19T00:00:00\",\"2022-12-20T00:00:00\"],\"xaxis\":\"x\",\"y\":[2345.0,2340.0,2325.0,2355.0,2395.0,2420.0,2390.0,2370.0,2380.0,2360.0,2370.0,2340.0,2325.0,2330.0,2315.0,2375.0,2390.0,2405.0,2385.0,2350.0,2355.0,2345.0,2365.0,2385.0,2355.0,2355.0,2360.0,2360.0,2350.0,2380.0,2405.0,2410.0,2405.0,2520.0,2560.0,2550.0,2600.0,2585.0,2600.0,2610.0,2590.0,2595.0,2580.0,2575.0,2615.0,2600.0,2620.0,2575.0,2600.0,2605.0,2600.0,2600.0,2595.0,2620.0,2605.0,2595.0,2610.0,2650.0,2655.0,2625.0,2640.0,2655.0,2690.0,2640.0,2620.0,2650.0,2640.0,2635.0,2630.0,2610.0,2605.0,2620.0,2630.0,2635.0,2630.0,2640.0,2635.0,2625.0,2620.0,2580.0,2415.0,2390.0,2405.0,2380.0,2395.0,2355.0,2345.0,2345.0,2360.0,2435.0,2435.0,2455.0,2400.0,2455.0,2510.0,2550.0,2550.0,2505.0,2500.0,2465.0,2415.0,2375.0,2355.0,2345.0,2265.0,2260.0,2275.0,2175.0,2135.0,2100.0,2085.0,2070.0,2120.0,2205.0,2195.0,2210.0,2240.0,2200.0,2170.0,2060.0,2095.0,2085.0,2090.0,2120.0,2175.0,2180.0,2145.0,2110.0,2110.0,2070.0,2115.0,2105.0,2105.0,2095.0,2075.0,2080.0,2060.0,2020.0,1960.0,1920.0,1940.0,2005.0,2090.0,2095.0,2160.0,2175.0,2140.0,2115.0,2155.0,2005.0,2055.0,2045.0,2040.0,2015.0,1980.0,1910.0,1865.0,1950.0,1955.0,2100.0,2160.0,2135.0,2110.0,2055.0,2060.0,2040.0,2015.0,2000.0,2020.0,1960.0,1955.0,1945.0,1925.0,1945.0,2010.0,2015.0,1930.0,1920.0,1840.0,1740.0,1705.0,1675.0,1740.0,1760.0,1745.0,1830.0,1925.0,1970.0,2005.0,2115.0,2170.0,2140.0,2110.0,2085.0,2095.0,2135.0,2160.0,2140.0,2240.0,2340.0,2320.0,2300.0,2210.0,2160.0,2100.0,2175.0,2220.0,2195.0,2195.0,2150.0,2130.0,2110.0,2130.0,2135.0,2110.0,2185.0,2215.0,2205.0,2200.0,2230.0,2215.0,2295.0,2320.0,2295.0,2270.0,2260.0,2265.0,2260.0,2260.0,2275.0,2200.0,2180.0,2190.0,2185.0,2145.0,2150.0,2270.0,2320.0,2265.0,2225.0,2220.0,2225.0,2290.0,2285.0,2305.0,2320.0,2365.0,2355.0,2305.0,2340.0,2305.0,2345.0,2340.0,2355.0,2330.0,2305.0,2300.0,2295.0,2255.0,2255.0,2285.0,2280.0,2290.0,2270.0,2270.0,2270.0,2240.0,2205.0,2280.0,2460.0,2420.0,2400.0,2395.0,2400.0,2390.0,2395.0,2390.0,2410.0,2325.0,2290.0,2205.0,2155.0,2145.0,2170.0,2215.0,2220.0,2215.0,2240.0,2275.0,2300.0,2300.0,2250.0,2200.0,2200.0,2235.0,2215.0,2235.0,2240.0,2250.0,2240.0,2255.0,2265.0,2260.0,2225.0,2240.0,2285.0,2260.0,2225.0,2235.0,2235.0,2235.0,2215.0,2160.0,2140.0,2125.0,2125.0,2125.0,2125.0,2125.0,2100.0,2145.0,2185.0,2175.0,2090.0,2065.0,2095.0,2075.0,2090.0,2110.0,2105.0,2075.0,2025.0,2025.0,2010.0,1990.0,1990.0,1990.0,1950.0,1940.0,1970.0,1985.0,2005.0,1990.0,2060.0,2080.0,2135.0,2125.0,2100.0,2080.0,2090.0,2120.0,2135.0,2130.0,2130.0,2090.0,2065.0,2025.0,2025.0,2045.0,2060.0,2085.0,2080.0,2100.0,2100.0,2085.0,2055.0,2080.0,2135.0,2185.0,2190.0,2280.0,2320.0,2310.0,2320.0,2305.0,2320.0,2370.0,2400.0,2375.0,2295.0,2290.0,2310.0,2350.0,2300.0,2330.0,2355.0,2365.0,2360.0,2375.0,2405.0,2450.0,2445.0,2435.0,2420.0,2430.0,2425.0,2435.0,2435.0,2425.0,2390.0,2340.0,2355.0,2380.0,2365.0,2325.0,2325.0,2355.0,2345.0,2340.0,2365.0,2375.0,2395.0,2400.0,2395.0,2355.0,2345.0,2410.0,2410.0,2415.0,2405.0,2410.0,2440.0,2425.0,2425.0,2430.0,2435.0,2450.0,2450.0,2465.0,2465.0,2465.0,2480.0,2480.0,2405.0,2400.0,2425.0,2430.0,2465.0,2455.0,2455.0,2455.0,2440.0,2445.0,2455.0,2460.0,2445.0,2440.0,2450.0,2460.0,2460.0,2490.0,2480.0,2480.0,2505.0,2595.0,2595.0,2565.0,2480.0,2345.0,2280.0,2310.0,2320.0,2320.0,2295.0,2300.0,2310.0,2290.0,2235.0,2170.0,2135.0,2195.0,2220.0,2275.0,2265.0,2280.0,2285.0,2300.0,2300.0,2345.0,2350.0,2295.0,2280.0,2275.0,2260.0,2290.0,2215.0,2205.0,2215.0,2290.0,2345.0,2375.0,2335.0,2380.0,2440.0,2465.0,2430.0,2430.0,2390.0,2385.0,2385.0,2400.0,2400.0,2395.0,2395.0,2400.0,2395.0,2380.0,2380.0,2375.0,2365.0,2350.0,2370.0,2365.0,2395.0,2405.0,2410.0,2425.0,2415.0,2400.0,2405.0,2410.0,2425.0,2415.0,2400.0,2400.0,2385.0,2370.0,2400.0,2400.0,2400.0,2400.0,2400.0,2405.0,2390.0,2400.0,2395.0,2390.0,2400.0,2425.0,2430.0,2430.0,2430.0,2425.0,2445.0,2510.0,2600.0,2650.0,2620.0,2640.0,2635.0,2635.0,2630.0,2595.0,2590.0,2610.0,2630.0,2625.0,2605.0,2640.0,2645.0,2650.0,2620.0,2590.0,2615.0,2550.0,2590.0,2575.0,2600.0,2595.0,2630.0,2645.0,2640.0,2630.0,2625.0,2655.0,2785.0,2800.0,2840.0,2870.0,2850.0,2830.0,2860.0,2910.0,2860.0,2825.0,3060.0,3050.0,3040.0,2875.0,2860.0,2860.0,2860.0,2910.0,2895.0,2950.0,3005.0,3000.0,2985.0,3000.0,2910.0,2970.0,2915.0,2970.0,2950.0,2950.0,2960.0,2995.0,3060.0,3050.0,3050.0,3050.0,3050.0,3050.0,3050.0,3050.0,3100.0,3085.0,3060.0,3040.0,3050.0,3020.0,2975.0,2980.0,2980.0,2975.0,3000.0,2980.0,2980.0,2955.0,2970.0,2960.0,2970.0,2980.0,2955.0,2945.0,3000.0,2980.0,2990.0,2995.0,2990.0,2995.0,3000.0,3020.0,3010.0,3020.0,3020.0,3020.0,3050.0,3050.0,3050.0,3055.0,3070.0,3070.0,3070.0,3070.0,3060.0,3035.0,3025.0,3035.0,3025.0,3020.0,3025.0,2985.0,3000.0,3000.0,3010.0,3000.0,2995.0,2980.0,3000.0,3000.0,3010.0,3005.0,3005.0,3140.0,3150.0,3145.0,3110.0,3040.0,3065.0,3100.0,3085.0,3090.0,3080.0,3100.0,3100.0,3075.0,3080.0,3095.0,3095.0,3100.0,3090.0,3095.0,3100.0,3135.0,3145.0,3140.0,3140.0,3150.0,3140.0,3140.0,3140.0,3140.0,3190.0,3210.0,3285.0,3275.0,3365.0,3315.0,3370.0,3330.0,3300.0,3210.0,3240.0,3310.0,3380.0,3330.0,3410.0,3400.0,3360.0,3350.0,3380.0,3400.0,3350.0,3210.0,3350.0,3360.0,3470.0,3470.0,3430.0,3440.0,3460.0,3450.0,3460.0,3460.0,3400.0,3440.0,3460.0,3460.0,3470.0,3460.0,3460.0,3550.0,3650.0,3720.0,3640.0,3720.0,3630.0,3610.0,3590.0,3590.0,3600.0,3590.0,3540.0,3580.0,3570.0,3610.0,3630.0,3650.0,3630.0,3670.0,3920.0,3900.0,3860.0,3860.0,3850.0,3800.0,3720.0,3760.0,3750.0,3790.0,3720.0,3750.0,3730.0,3730.0,3800.0,3890.0,3910.0,3870.0,3840.0,3860.0,3860.0,3800.0,3790.0,3810.0,3790.0,3790.0,3790.0,3820.0,3790.0,3800.0,3810.0,3730.0,3770.0,3750.0,3760.0,3770.0,3750.0,3720.0,3680.0,3720.0,3740.0,3820.0,3800.0,3600.0,3610.0,3670.0,3650.0,3600.0,3600.0,3600.0,3600.0,3600.0,3540.0,3490.0,3530.0,3630.0,3670.0,3670.0,3650.0,3550.0,3550.0,3660.0,3660.0,3660.0,3640.0,3580.0,3490.0,3490.0,3490.0,3280.0,3220.0,3240.0,3200.0,3170.0,3100.0,3090.0,3230.0,3210.0,3300.0,3190.0,3220.0,3070.0,3100.0,3040.0,2920.0,2840.0,2920.0,3070.0,3130.0,3290.0,3250.0,3280.0,3190.0,3080.0,3170.0,3160.0,3160.0,3270.0,3250.0,3140.0,3140.0,3140.0,3140.0,3140.0,3140.0,3140.0,3030.0,2990.0,2980.0,3000.0,2910.0,2880.0,2850.0,2900.0,2910.0,2860.0,2950.0,2920.0,2910.0,3030.0,3080.0,3000.0,3000.0,3030.0,3010.0,2940.0,2900.0,2960.0,2980.0,3050.0,3070.0,3020.0,3070.0,3090.0,3110.0,3080.0,3200.0,3260.0,3350.0,3420.0,3400.0,3400.0,3350.0,3470.0,3320.0,3150.0,3220.0,3180.0,3050.0,3190.0,3180.0,3150.0,3270.0,3290.0,3380.0,3380.0,3300.0,3310.0,3180.0,3220.0,3200.0,3070.0,2990.0,3030.0,3030.0,2970.0,3010.0,3010.0,3070.0,3060.0,2980.0,3020.0,3120.0,3190.0,3120.0,3030.0,3060.0,3080.0,3170.0,3190.0,3180.0,3150.0,3060.0,3040.0,3010.0,3030.0,3040.0,2950.0,2990.0,3030.0,3020.0,3080.0,3100.0,3090.0,3080.0,3070.0,3040.0,3000.0,3020.0,3020.0,3030.0,3150.0,3250.0,3290.0,3280.0,3330.0,3370.0,3490.0,3430.0,3360.0,3360.0,3420.0,3420.0,3550.0,3540.0,3520.0,3470.0,3550.0,3580.0,3550.0,3620.0,3660.0,3760.0,3690.0,3780.0,3750.0,3680.0,3680.0,3660.0,3630.0,3630.0,3640.0,3690.0,3690.0,3680.0,3640.0,3670.0,3660.0,3630.0,3620.0,3620.0,3630.0,3670.0,3680.0,3660.0,3660.0,3640.0,3640.0,3660.0,3710.0,3680.0,3740.0,3750.0,3770.0,3790.0,3790.0,3800.0,3840.0,3850.0,3830.0,3790.0,3810.0,3810.0,3820.0,3790.0,3820.0,3760.0,3870.0,3930.0,3950.0,3900.0,3940.0,3930.0,3910.0,3920.0,3900.0,3890.0,3850.0,3840.0,3860.0,4000.0,3940.0,3940.0,3910.0,3970.0,3970.0,3920.0,3870.0,3890.0,3920.0,3900.0,3920.0,3900.0,3880.0,3900.0,3890.0,3810.0,3850.0,3950.0,4030.0,4050.0,4010.0,4040.0,4070.0,4040.0,4080.0,4080.0,4080.0,4140.0,4160.0,4170.0,4150.0,4280.0,4290.0,4290.0,4350.0,4320.0,4320.0,4320.0,4360.0,4360.0,4340.0,4730.0,4460.0,4460.0,4450.0,4430.0,4390.0,4360.0,4350.0,4410.0,4370.0,4420.0,4400.0,4300.0,4280.0,4250.0,4160.0,4160.0,4140.0,4090.0,4060.0,3990.0,3910.0,3850.0,3840.0,3830.0,3890.0,3930.0,3970.0,3950.0,3950.0,3940.0,4120.0,4100.0,4100.0,4100.0,4100.0,4100.0,4270.0,4250.0,4210.0,4250.0,4240.0,4250.0,4260.0,4330.0,4360.0,4350.0,4350.0,4370.0,4390.0,4400.0,4420.0,4420.0,4420.0,4400.0,4420.0,4410.0,4410.0,4480.0,4540.0,4540.0,4560.0,4550.0,4550.0,4510.0,4490.0,4510.0,4500.0,4520.0,4480.0,4470.0,4480.0,4500.0,4510.0,4510.0,4470.0,4420.0,4210.0,4290.0,4320.0,4350.0,4380.0,4330.0,4350.0,4280.0,4260.0,4220.0,4200.0,4170.0,4140.0,4100.0,4070.0,4210.0,4240.0,4220.0,4270.0,4280.0,4270.0,4180.0,4230.0,4290.0,4290.0,4190.0,4260.0,4350.0,4320.0,4290.0,4250.0,4260.0,4230.0,4220.0,4200.0,4160.0,4120.0,4210.0,4210.0,4200.0,4130.0,4090.0,3890.0,3960.0,3990.0,3960.0,3990.0,3990.0,3960.0,3980.0,3970.0,3990.0,4050.0,4190.0,4190.0,4140.0,4180.0,4300.0,4320.0,4260.0,4250.0,4260.0,4240.0,4220.0,4210.0,4300.0,4330.0,4160.0,4030.0,4000.0,4030.0,4010.0,3970.0,4100.0,4140.0,4190.0,4260.0,4230.0,4250.0,4180.0,4180.0,4210.0,4170.0,4120.0,4210.0,4220.0,4200.0,4230.0,4250.0,4210.0,4180.0,4210.0,4270.0,4290.0,4350.0,4360.0,4400.0,4370.0,4370.0,4470.0,4450.0,4440.0,4450.0,4410.0,4440.0,4390.0,4410.0,4400.0,4420.0,4430.0,4510.0,4600.0,4580.0,4590.0,4640.0,4690.0,4680.0,4710.0,4760.0,4750.0,4700.0,4640.0,4660.0,4700.0,4580.0,4490.0,4690.0,4580.0,4590.0,4580.0,4530.0,4540.0,4560.0,4590.0,4590.0,4540.0,4500.0,4480.0,4580.0,4560.0,4540.0,4550.0,4510.0,4380.0,4190.0,4200.0,4180.0,4240.0,4300.0,4050.0,3950.0,4030.0,4030.0,3840.0,3770.0,3750.0,3570.0,3440.0,3140.0,2970.0,2700.0,2750.0,3000.0,3670.0,3150.0,3200.0,3080.0,2900.0,2950.0,3030.0,3240.0,3040.0,2910.0,2840.0,2900.0,2990.0,2770.0,2840.0,2900.0,2790.0,2830.0,2880.0,2800.0,2700.0,2690.0,2620.0,2740.0,2680.0,2680.0,2650.0,2660.0,2640.0,2630.0,2520.0,2480.0,2400.0,2270.0,2420.0,2500.0,2550.0,2630.0,2780.0,2950.0,3290.0,3280.0,3200.0,3130.0,3370.0,3360.0,3180.0,3130.0,3040.0,3050.0,3150.0,3200.0,3120.0,3110.0,3110.0,3060.0,3140.0,3110.0,3120.0,3060.0,3110.0,3070.0,3090.0,3090.0,3100.0,3080.0,3200.0,3230.0,3150.0,3180.0,3250.0,3240.0,3160.0,3150.0,3130.0,3180.0,3170.0,3160.0,3140.0,3150.0,3170.0,3150.0,3170.0,3180.0,3080.0,3110.0,3130.0,3130.0,3150.0,3220.0,3370.0,3450.0,3350.0,3530.0,3640.0,3650.0,3800.0,3820.0,3780.0,3740.0,3740.0,3630.0,3660.0,3690.0,3610.0,3570.0,3570.0,3490.0,3300.0,3310.0,3450.0,3460.0,3390.0,3310.0,3270.0,3250.0,3190.0,3180.0,3080.0,3180.0,3230.0,3160.0,3080.0,3170.0,3210.0,3170.0,3240.0,3170.0,3170.0,3170.0,3210.0,3300.0,3380.0,3380.0,3360.0,3290.0,3290.0,3310.0,3300.0,3350.0,3360.0,3400.0,3390.0,3400.0,3420.0,3490.0,3600.0,3690.0,4010.0,4190.0,4100.0,4080.0,4070.0,4020.0,4050.0,4130.0,4080.0,4100.0,4230.0,4390.0,4320.0,4370.0,4280.0,4260.0,4340.0,4400.0,4400.0,4420.0,4400.0,4450.0,4400.0,4310.0,4290.0,4350.0,4360.0,4300.0,4340.0,4280.0,4180.0,4260.0,4280.0,4210.0,4320.0,4300.0,4300.0,4290.0,4390.0,4660.0,4770.0,4840.0,4830.0,4770.0,4650.0,4700.0,4920.0,4950.0,4860.0,4790.0,4790.0,4720.0,4650.0,4610.0,4440.0,4490.0,4480.0,4580.0,4540.0,4530.0,4770.0,4710.0,4710.0,4780.0,4740.0,4730.0,4770.0,4790.0,4870.0,4830.0,4820.0,4770.0,4750.0,4830.0,4880.0,4850.0,4850.0,4770.0,4820.0,4750.0,4660.0,4690.0,4630.0,4770.0,4700.0,4770.0,4750.0,4700.0,4720.0,4730.0,4700.0,4720.0,4780.0,4700.0,4480.0,4370.0,4330.0,4230.0,4240.0,4360.0,4400.0,4390.0,4260.0,4350.0,4410.0,4460.0,4380.0,4330.0,4290.0,4260.0,4280.0,4250.0,4200.0,4220.0,4200.0,4160.0,4070.0,4070.0,4130.0,4130.0,4140.0,4090.0,4040.0,4000.0,3960.0,3940.0,3930.0,3950.0,4060.0,4140.0,4190.0,4170.0,4280.0,4380.0,4360.0,4390.0,4350.0,4280.0,4270.0,4320.0,4350.0,4350.0,4350.0,4170.0,4070.0,4060.0,3970.0,4070.0,4070.0,4010.0,4040.0,3990.0,3910.0,3970.0,3970.0,4030.0,3960.0,3950.0,3940.0,3900.0,3870.0,3820.0,3800.0,3800.0,3840.0,3860.0,3850.0,3880.0,3910.0,3950.0,3900.0,3860.0,3810.0,3840.0,3830.0,3770.0,3780.0,3850.0,4090.0,4060.0,3950.0,3890.0,3850.0,3880.0,3930.0,4090.0,4020.0,3940.0,3990.0,3960.0,3545.393310546875,3545.393310546875,3536.302490234375,3581.75634765625,3590.84716796875,3572.66552734375,3536.302490234375,3572.66552734375,3618.119384765625,3563.57470703125,3880.0,3770.0,3790.0,3750.0,3730.0,3670.0,3660.0,3640.0,3590.0,3580.0,3650.0,3770.0,3860.0,3800.0,3770.0,3750.0,3870.0,3920.0,4010.0,3980.0,4150.0,4170.0,4240.0,4200.0,4240.0,4300.0,4350.0,4330.0,4410.0,4450.0,4460.0,4400.0,4370.0,4370.0,4340.0,4300.0,4300.0,4330.0,4270.0,4300.0,4340.0,4270.0,4260.0,4250.0,4260.0,4300.0,4290.0,4220.0,4170.0,4200.0,4190.0,4290.0,4310.0,4280.0,4230.0,4250.0,4220.0,4190.0,4220.0,4180.0,4220.0,4220.0,4220.0,4230.0,4250.0,4220.0,4160.0,4200.0,4160.0,4230.0,4220.0,4140.0,4130.0,4120.0,4110.0,4110.0,4120.0,4110.0,4110.0,4100.0,4140.0,4190.0,4210.0,4230.0,4240.0,4200.0,4210.0,4180.0,4180.0,4190.0,4210.0,4210.0,4240.0,4210.0,4160.0,4170.0,4160.0,4110.0,4100.0,4140.0,4170.0,4170.0,4120.0,4180.0,4210.0,4410.0,4550.0,4500.0,4500.0,4450.0,4450.0,4450.0,4470.0,4410.0,4440.0,4490.0,4470.0,4520.0,4470.0,4550.0,4860.0,4690.0,4730.0,4630.0,4560.0,4590.0,4640.0,4440.0,4540.0,4640.0,4660.0,4700.0,4700.0,4630.0,4710.0,4690.0,4730.0,4760.0,4740.0,4750.0,4740.0,4750.0,4730.0,4730.0,4740.0,4690.0,4670.0,4650.0,4620.0,4610.0,4640.0,4610.0,4580.0,4600.0,4870.0,4850.0,4850.0,4850.0,4980.0,4930.0,4930.0,4760.0,4530.0,4580.0,4490.0,4360.0,4520.0,4530.0,4460.0,4490.0,4440.0,4500.0,4450.0,4540.0,4540.0,4630.0,4600.0,4570.0,4510.0,4460.0,4470.0,4520.0,4470.0,4350.0,4410.0,4450.0,4530.0,4400.0,4410.0,4430.0,4410.0,4360.0,4350.0,4330.0,4330.0,4310.0,4220.0,4200.0,4120.0,4160.0,4100.0,4110.0,4200.0,4170.0,4140.0,4130.0,4090.0,4120.0,4140.0,4150.0,4300.0,4310.0,4330.0,4300.0,4350.0,4380.0,4400.0,4430.0,4410.0,4400.0,4420.0,4390.0,4400.0,4400.0,4470.0,4370.0,4410.0,4350.0,4350.0,4350.0,4340.0,4340.0,4330.0,4310.0,4330.0,4300.0,4290.0,4270.0,4300.0,4350.0,4390.0,4450.0,4600.0,4690.0,4550.0,4620.0,4640.0,4630.0,4640.0,4610.0,4700.0,4620.0,4600.0,4600.0,4550.0,4580.0,4560.0,4540.0,4550.0,4560.0,4540.0,4510.0,4550.0,4650.0,4660.0,4570.0,4490.0,4430.0,4430.0,4470.0,4420.0,4390.0,4320.0,4340.0,4340.0,4400.0,4460.0,4540.0,4610.0,4610.0,4600.0,4630.0,4680.0,4700.0,4680.0,4660.0,4660.0,4690.0,4690.0,4650.0,4580.0,4650.0,4640.0,4610.0,4610.0,4670.0,4680.0,4630.0,4670.0,4670.0,4740.0,4750.0,4830.0,4860.0,4980.0,5025.0,4930.0,4930.0,4890.0,4840.0,4840.0,4840.0,4850.0,4980.0,5000.0,4940.0,4980.0,4980.0,4970.0],\"yaxis\":\"y\",\"type\":\"scattergl\"},{\"hovertemplate\":\"variable=low<br>Date=%{x}<br>Stock value=%{y}<extra></extra>\",\"legendgroup\":\"low\",\"line\":{\"color\":\"#ab63fa\",\"dash\":\"solid\"},\"marker\":{\"symbol\":\"circle\"},\"mode\":\"lines\",\"name\":\"Stock Low Price\",\"showlegend\":true,\"x\":[\"2015-01-02T00:00:00\",\"2015-01-05T00:00:00\",\"2015-01-06T00:00:00\",\"2015-01-07T00:00:00\",\"2015-01-08T00:00:00\",\"2015-01-09T00:00:00\",\"2015-01-12T00:00:00\",\"2015-01-13T00:00:00\",\"2015-01-14T00:00:00\",\"2015-01-15T00:00:00\",\"2015-01-16T00:00:00\",\"2015-01-19T00:00:00\",\"2015-01-20T00:00:00\",\"2015-01-21T00:00:00\",\"2015-01-22T00:00:00\",\"2015-01-23T00:00:00\",\"2015-01-26T00:00:00\",\"2015-01-27T00:00:00\",\"2015-01-28T00:00:00\",\"2015-01-29T00:00:00\",\"2015-01-30T00:00:00\",\"2015-02-02T00:00:00\",\"2015-02-03T00:00:00\",\"2015-02-04T00:00:00\",\"2015-02-05T00:00:00\",\"2015-02-06T00:00:00\",\"2015-02-09T00:00:00\",\"2015-02-10T00:00:00\",\"2015-02-11T00:00:00\",\"2015-02-12T00:00:00\",\"2015-02-13T00:00:00\",\"2015-02-16T00:00:00\",\"2015-02-17T00:00:00\",\"2015-02-18T00:00:00\",\"2015-02-20T00:00:00\",\"2015-02-23T00:00:00\",\"2015-02-24T00:00:00\",\"2015-02-25T00:00:00\",\"2015-02-26T00:00:00\",\"2015-02-27T00:00:00\",\"2015-03-02T00:00:00\",\"2015-03-03T00:00:00\",\"2015-03-04T00:00:00\",\"2015-03-05T00:00:00\",\"2015-03-06T00:00:00\",\"2015-03-09T00:00:00\",\"2015-03-10T00:00:00\",\"2015-03-11T00:00:00\",\"2015-03-12T00:00:00\",\"2015-03-13T00:00:00\",\"2015-03-16T00:00:00\",\"2015-03-17T00:00:00\",\"2015-03-18T00:00:00\",\"2015-03-19T00:00:00\",\"2015-03-20T00:00:00\",\"2015-03-23T00:00:00\",\"2015-03-24T00:00:00\",\"2015-03-25T00:00:00\",\"2015-03-26T00:00:00\",\"2015-03-27T00:00:00\",\"2015-03-30T00:00:00\",\"2015-03-31T00:00:00\",\"2015-04-01T00:00:00\",\"2015-04-02T00:00:00\",\"2015-04-06T00:00:00\",\"2015-04-07T00:00:00\",\"2015-04-08T00:00:00\",\"2015-04-09T00:00:00\",\"2015-04-10T00:00:00\",\"2015-04-13T00:00:00\",\"2015-04-14T00:00:00\",\"2015-04-15T00:00:00\",\"2015-04-16T00:00:00\",\"2015-04-17T00:00:00\",\"2015-04-20T00:00:00\",\"2015-04-21T00:00:00\",\"2015-04-22T00:00:00\",\"2015-04-23T00:00:00\",\"2015-04-24T00:00:00\",\"2015-04-27T00:00:00\",\"2015-04-28T00:00:00\",\"2015-04-29T00:00:00\",\"2015-04-30T00:00:00\",\"2015-05-04T00:00:00\",\"2015-05-05T00:00:00\",\"2015-05-06T00:00:00\",\"2015-05-07T00:00:00\",\"2015-05-08T00:00:00\",\"2015-05-11T00:00:00\",\"2015-05-12T00:00:00\",\"2015-05-13T00:00:00\",\"2015-05-15T00:00:00\",\"2015-05-18T00:00:00\",\"2015-05-19T00:00:00\",\"2015-05-20T00:00:00\",\"2015-05-21T00:00:00\",\"2015-05-22T00:00:00\",\"2015-05-25T00:00:00\",\"2015-05-26T00:00:00\",\"2015-05-27T00:00:00\",\"2015-05-28T00:00:00\",\"2015-05-29T00:00:00\",\"2015-06-01T00:00:00\",\"2015-06-03T00:00:00\",\"2015-06-04T00:00:00\",\"2015-06-05T00:00:00\",\"2015-06-08T00:00:00\",\"2015-06-09T00:00:00\",\"2015-06-10T00:00:00\",\"2015-06-11T00:00:00\",\"2015-06-12T00:00:00\",\"2015-06-15T00:00:00\",\"2015-06-16T00:00:00\",\"2015-06-17T00:00:00\",\"2015-06-18T00:00:00\",\"2015-06-19T00:00:00\",\"2015-06-22T00:00:00\",\"2015-06-23T00:00:00\",\"2015-06-24T00:00:00\",\"2015-06-25T00:00:00\",\"2015-06-26T00:00:00\",\"2015-06-29T00:00:00\",\"2015-06-30T00:00:00\",\"2015-07-01T00:00:00\",\"2015-07-02T00:00:00\",\"2015-07-03T00:00:00\",\"2015-07-06T00:00:00\",\"2015-07-07T00:00:00\",\"2015-07-08T00:00:00\",\"2015-07-09T00:00:00\",\"2015-07-10T00:00:00\",\"2015-07-13T00:00:00\",\"2015-07-14T00:00:00\",\"2015-07-15T00:00:00\",\"2015-07-22T00:00:00\",\"2015-07-23T00:00:00\",\"2015-07-24T00:00:00\",\"2015-07-27T00:00:00\",\"2015-07-28T00:00:00\",\"2015-07-29T00:00:00\",\"2015-07-30T00:00:00\",\"2015-07-31T00:00:00\",\"2015-08-03T00:00:00\",\"2015-08-04T00:00:00\",\"2015-08-05T00:00:00\",\"2015-08-06T00:00:00\",\"2015-08-07T00:00:00\",\"2015-08-10T00:00:00\",\"2015-08-11T00:00:00\",\"2015-08-12T00:00:00\",\"2015-08-13T00:00:00\",\"2015-08-14T00:00:00\",\"2015-08-18T00:00:00\",\"2015-08-19T00:00:00\",\"2015-08-20T00:00:00\",\"2015-08-21T00:00:00\",\"2015-08-24T00:00:00\",\"2015-08-25T00:00:00\",\"2015-08-26T00:00:00\",\"2015-08-27T00:00:00\",\"2015-08-28T00:00:00\",\"2015-08-31T00:00:00\",\"2015-09-01T00:00:00\",\"2015-09-02T00:00:00\",\"2015-09-03T00:00:00\",\"2015-09-04T00:00:00\",\"2015-09-07T00:00:00\",\"2015-09-08T00:00:00\",\"2015-09-09T00:00:00\",\"2015-09-10T00:00:00\",\"2015-09-11T00:00:00\",\"2015-09-14T00:00:00\",\"2015-09-15T00:00:00\",\"2015-09-16T00:00:00\",\"2015-09-17T00:00:00\",\"2015-09-18T00:00:00\",\"2015-09-21T00:00:00\",\"2015-09-22T00:00:00\",\"2015-09-23T00:00:00\",\"2015-09-25T00:00:00\",\"2015-09-28T00:00:00\",\"2015-09-29T00:00:00\",\"2015-09-30T00:00:00\",\"2015-10-01T00:00:00\",\"2015-10-02T00:00:00\",\"2015-10-05T00:00:00\",\"2015-10-06T00:00:00\",\"2015-10-07T00:00:00\",\"2015-10-08T00:00:00\",\"2015-10-09T00:00:00\",\"2015-10-12T00:00:00\",\"2015-10-13T00:00:00\",\"2015-10-15T00:00:00\",\"2015-10-16T00:00:00\",\"2015-10-19T00:00:00\",\"2015-10-20T00:00:00\",\"2015-10-21T00:00:00\",\"2015-10-22T00:00:00\",\"2015-10-23T00:00:00\",\"2015-10-26T00:00:00\",\"2015-10-27T00:00:00\",\"2015-10-28T00:00:00\",\"2015-10-29T00:00:00\",\"2015-10-30T00:00:00\",\"2015-11-02T00:00:00\",\"2015-11-03T00:00:00\",\"2015-11-04T00:00:00\",\"2015-11-05T00:00:00\",\"2015-11-06T00:00:00\",\"2015-11-09T00:00:00\",\"2015-11-10T00:00:00\",\"2015-11-11T00:00:00\",\"2015-11-12T00:00:00\",\"2015-11-13T00:00:00\",\"2015-11-16T00:00:00\",\"2015-11-17T00:00:00\",\"2015-11-18T00:00:00\",\"2015-11-19T00:00:00\",\"2015-11-20T00:00:00\",\"2015-11-23T00:00:00\",\"2015-11-24T00:00:00\",\"2015-11-25T00:00:00\",\"2015-11-26T00:00:00\",\"2015-11-27T00:00:00\",\"2015-11-30T00:00:00\",\"2015-12-01T00:00:00\",\"2015-12-02T00:00:00\",\"2015-12-03T00:00:00\",\"2015-12-04T00:00:00\",\"2015-12-07T00:00:00\",\"2015-12-08T00:00:00\",\"2015-12-09T00:00:00\",\"2015-12-10T00:00:00\",\"2015-12-11T00:00:00\",\"2015-12-14T00:00:00\",\"2015-12-15T00:00:00\",\"2015-12-16T00:00:00\",\"2015-12-17T00:00:00\",\"2015-12-18T00:00:00\",\"2015-12-21T00:00:00\",\"2015-12-22T00:00:00\",\"2015-12-23T00:00:00\",\"2015-12-28T00:00:00\",\"2015-12-29T00:00:00\",\"2015-12-30T00:00:00\",\"2016-01-04T00:00:00\",\"2016-01-05T00:00:00\",\"2016-01-06T00:00:00\",\"2016-01-07T00:00:00\",\"2016-01-08T00:00:00\",\"2016-01-11T00:00:00\",\"2016-01-12T00:00:00\",\"2016-01-13T00:00:00\",\"2016-01-14T00:00:00\",\"2016-01-15T00:00:00\",\"2016-01-18T00:00:00\",\"2016-01-19T00:00:00\",\"2016-01-20T00:00:00\",\"2016-01-21T00:00:00\",\"2016-01-22T00:00:00\",\"2016-01-25T00:00:00\",\"2016-01-26T00:00:00\",\"2016-01-27T00:00:00\",\"2016-01-28T00:00:00\",\"2016-01-29T00:00:00\",\"2016-02-01T00:00:00\",\"2016-02-02T00:00:00\",\"2016-02-03T00:00:00\",\"2016-02-04T00:00:00\",\"2016-02-05T00:00:00\",\"2016-02-09T00:00:00\",\"2016-02-10T00:00:00\",\"2016-02-11T00:00:00\",\"2016-02-12T00:00:00\",\"2016-02-15T00:00:00\",\"2016-02-16T00:00:00\",\"2016-02-17T00:00:00\",\"2016-02-18T00:00:00\",\"2016-02-19T00:00:00\",\"2016-02-22T00:00:00\",\"2016-02-23T00:00:00\",\"2016-02-24T00:00:00\",\"2016-02-25T00:00:00\",\"2016-02-26T00:00:00\",\"2016-02-29T00:00:00\",\"2016-03-01T00:00:00\",\"2016-03-02T00:00:00\",\"2016-03-03T00:00:00\",\"2016-03-04T00:00:00\",\"2016-03-07T00:00:00\",\"2016-03-08T00:00:00\",\"2016-03-10T00:00:00\",\"2016-03-11T00:00:00\",\"2016-03-14T00:00:00\",\"2016-03-15T00:00:00\",\"2016-03-16T00:00:00\",\"2016-03-17T00:00:00\",\"2016-03-18T00:00:00\",\"2016-03-21T00:00:00\",\"2016-03-22T00:00:00\",\"2016-03-23T00:00:00\",\"2016-03-24T00:00:00\",\"2016-03-28T00:00:00\",\"2016-03-29T00:00:00\",\"2016-03-30T00:00:00\",\"2016-03-31T00:00:00\",\"2016-04-01T00:00:00\",\"2016-04-04T00:00:00\",\"2016-04-05T00:00:00\",\"2016-04-06T00:00:00\",\"2016-04-07T00:00:00\",\"2016-04-08T00:00:00\",\"2016-04-11T00:00:00\",\"2016-04-12T00:00:00\",\"2016-04-13T00:00:00\",\"2016-04-14T00:00:00\",\"2016-04-15T00:00:00\",\"2016-04-18T00:00:00\",\"2016-04-19T00:00:00\",\"2016-04-20T00:00:00\",\"2016-04-21T00:00:00\",\"2016-04-22T00:00:00\",\"2016-04-25T00:00:00\",\"2016-04-26T00:00:00\",\"2016-04-27T00:00:00\",\"2016-04-28T00:00:00\",\"2016-04-29T00:00:00\",\"2016-05-02T00:00:00\",\"2016-05-03T00:00:00\",\"2016-05-04T00:00:00\",\"2016-05-09T00:00:00\",\"2016-05-10T00:00:00\",\"2016-05-11T00:00:00\",\"2016-05-12T00:00:00\",\"2016-05-13T00:00:00\",\"2016-05-16T00:00:00\",\"2016-05-17T00:00:00\",\"2016-05-18T00:00:00\",\"2016-05-19T00:00:00\",\"2016-05-20T00:00:00\",\"2016-05-23T00:00:00\",\"2016-05-24T00:00:00\",\"2016-05-25T00:00:00\",\"2016-05-26T00:00:00\",\"2016-05-27T00:00:00\",\"2016-05-30T00:00:00\",\"2016-05-31T00:00:00\",\"2016-06-01T00:00:00\",\"2016-06-02T00:00:00\",\"2016-06-03T00:00:00\",\"2016-06-06T00:00:00\",\"2016-06-07T00:00:00\",\"2016-06-08T00:00:00\",\"2016-06-09T00:00:00\",\"2016-06-10T00:00:00\",\"2016-06-13T00:00:00\",\"2016-06-14T00:00:00\",\"2016-06-15T00:00:00\",\"2016-06-16T00:00:00\",\"2016-06-17T00:00:00\",\"2016-06-20T00:00:00\",\"2016-06-21T00:00:00\",\"2016-06-22T00:00:00\",\"2016-06-23T00:00:00\",\"2016-06-24T00:00:00\",\"2016-06-27T00:00:00\",\"2016-06-28T00:00:00\",\"2016-06-29T00:00:00\",\"2016-06-30T00:00:00\",\"2016-07-01T00:00:00\",\"2016-07-11T00:00:00\",\"2016-07-12T00:00:00\",\"2016-07-13T00:00:00\",\"2016-07-14T00:00:00\",\"2016-07-15T00:00:00\",\"2016-07-18T00:00:00\",\"2016-07-19T00:00:00\",\"2016-07-20T00:00:00\",\"2016-07-21T00:00:00\",\"2016-07-22T00:00:00\",\"2016-07-25T00:00:00\",\"2016-07-26T00:00:00\",\"2016-07-27T00:00:00\",\"2016-07-28T00:00:00\",\"2016-07-29T00:00:00\",\"2016-08-01T00:00:00\",\"2016-08-02T00:00:00\",\"2016-08-03T00:00:00\",\"2016-08-04T00:00:00\",\"2016-08-05T00:00:00\",\"2016-08-08T00:00:00\",\"2016-08-09T00:00:00\",\"2016-08-10T00:00:00\",\"2016-08-11T00:00:00\",\"2016-08-12T00:00:00\",\"2016-08-15T00:00:00\",\"2016-08-16T00:00:00\",\"2016-08-18T00:00:00\",\"2016-08-19T00:00:00\",\"2016-08-22T00:00:00\",\"2016-08-23T00:00:00\",\"2016-08-24T00:00:00\",\"2016-08-25T00:00:00\",\"2016-08-26T00:00:00\",\"2016-08-29T00:00:00\",\"2016-08-30T00:00:00\",\"2016-08-31T00:00:00\",\"2016-09-01T00:00:00\",\"2016-09-02T00:00:00\",\"2016-09-05T00:00:00\",\"2016-09-06T00:00:00\",\"2016-09-07T00:00:00\",\"2016-09-08T00:00:00\",\"2016-09-09T00:00:00\",\"2016-09-13T00:00:00\",\"2016-09-14T00:00:00\",\"2016-09-15T00:00:00\",\"2016-09-16T00:00:00\",\"2016-09-19T00:00:00\",\"2016-09-20T00:00:00\",\"2016-09-21T00:00:00\",\"2016-09-22T00:00:00\",\"2016-09-23T00:00:00\",\"2016-09-26T00:00:00\",\"2016-09-27T00:00:00\",\"2016-09-28T00:00:00\",\"2016-09-29T00:00:00\",\"2016-09-30T00:00:00\",\"2016-10-03T00:00:00\",\"2016-10-04T00:00:00\",\"2016-10-05T00:00:00\",\"2016-10-06T00:00:00\",\"2016-10-07T00:00:00\",\"2016-10-10T00:00:00\",\"2016-10-11T00:00:00\",\"2016-10-12T00:00:00\",\"2016-10-13T00:00:00\",\"2016-10-14T00:00:00\",\"2016-10-17T00:00:00\",\"2016-10-18T00:00:00\",\"2016-10-19T00:00:00\",\"2016-10-20T00:00:00\",\"2016-10-21T00:00:00\",\"2016-10-24T00:00:00\",\"2016-10-25T00:00:00\",\"2016-10-26T00:00:00\",\"2016-10-27T00:00:00\",\"2016-10-28T00:00:00\",\"2016-10-31T00:00:00\",\"2016-11-01T00:00:00\",\"2016-11-02T00:00:00\",\"2016-11-03T00:00:00\",\"2016-11-04T00:00:00\",\"2016-11-07T00:00:00\",\"2016-11-08T00:00:00\",\"2016-11-09T00:00:00\",\"2016-11-10T00:00:00\",\"2016-11-11T00:00:00\",\"2016-11-14T00:00:00\",\"2016-11-15T00:00:00\",\"2016-11-16T00:00:00\",\"2016-11-17T00:00:00\",\"2016-11-18T00:00:00\",\"2016-11-21T00:00:00\",\"2016-11-22T00:00:00\",\"2016-11-23T00:00:00\",\"2016-11-24T00:00:00\",\"2016-11-25T00:00:00\",\"2016-11-28T00:00:00\",\"2016-11-29T00:00:00\",\"2016-11-30T00:00:00\",\"2016-12-01T00:00:00\",\"2016-12-02T00:00:00\",\"2016-12-05T00:00:00\",\"2016-12-06T00:00:00\",\"2016-12-07T00:00:00\",\"2016-12-08T00:00:00\",\"2016-12-09T00:00:00\",\"2016-12-13T00:00:00\",\"2016-12-14T00:00:00\",\"2016-12-15T00:00:00\",\"2016-12-16T00:00:00\",\"2016-12-19T00:00:00\",\"2016-12-20T00:00:00\",\"2016-12-21T00:00:00\",\"2016-12-22T00:00:00\",\"2016-12-23T00:00:00\",\"2016-12-27T00:00:00\",\"2016-12-28T00:00:00\",\"2016-12-29T00:00:00\",\"2016-12-30T00:00:00\",\"2017-01-02T00:00:00\",\"2017-01-03T00:00:00\",\"2017-01-04T00:00:00\",\"2017-01-05T00:00:00\",\"2017-01-06T00:00:00\",\"2017-01-09T00:00:00\",\"2017-01-10T00:00:00\",\"2017-01-11T00:00:00\",\"2017-01-12T00:00:00\",\"2017-01-13T00:00:00\",\"2017-01-16T00:00:00\",\"2017-01-17T00:00:00\",\"2017-01-18T00:00:00\",\"2017-01-19T00:00:00\",\"2017-01-20T00:00:00\",\"2017-01-23T00:00:00\",\"2017-01-24T00:00:00\",\"2017-01-25T00:00:00\",\"2017-01-26T00:00:00\",\"2017-01-27T00:00:00\",\"2017-01-30T00:00:00\",\"2017-01-31T00:00:00\",\"2017-02-01T00:00:00\",\"2017-02-02T00:00:00\",\"2017-02-03T00:00:00\",\"2017-02-06T00:00:00\",\"2017-02-07T00:00:00\",\"2017-02-08T00:00:00\",\"2017-02-09T00:00:00\",\"2017-02-10T00:00:00\",\"2017-02-13T00:00:00\",\"2017-02-14T00:00:00\",\"2017-02-15T00:00:00\",\"2017-02-16T00:00:00\",\"2017-02-17T00:00:00\",\"2017-02-20T00:00:00\",\"2017-02-21T00:00:00\",\"2017-02-22T00:00:00\",\"2017-02-23T00:00:00\",\"2017-02-24T00:00:00\",\"2017-02-27T00:00:00\",\"2017-02-28T00:00:00\",\"2017-03-01T00:00:00\",\"2017-03-02T00:00:00\",\"2017-03-03T00:00:00\",\"2017-03-06T00:00:00\",\"2017-03-07T00:00:00\",\"2017-03-08T00:00:00\",\"2017-03-09T00:00:00\",\"2017-03-10T00:00:00\",\"2017-03-13T00:00:00\",\"2017-03-14T00:00:00\",\"2017-03-15T00:00:00\",\"2017-03-16T00:00:00\",\"2017-03-17T00:00:00\",\"2017-03-20T00:00:00\",\"2017-03-21T00:00:00\",\"2017-03-22T00:00:00\",\"2017-03-23T00:00:00\",\"2017-03-24T00:00:00\",\"2017-03-27T00:00:00\",\"2017-03-29T00:00:00\",\"2017-03-30T00:00:00\",\"2017-03-31T00:00:00\",\"2017-04-03T00:00:00\",\"2017-04-04T00:00:00\",\"2017-04-05T00:00:00\",\"2017-04-06T00:00:00\",\"2017-04-07T00:00:00\",\"2017-04-10T00:00:00\",\"2017-04-11T00:00:00\",\"2017-04-12T00:00:00\",\"2017-04-13T00:00:00\",\"2017-04-17T00:00:00\",\"2017-04-18T00:00:00\",\"2017-04-19T00:00:00\",\"2017-04-20T00:00:00\",\"2017-04-21T00:00:00\",\"2017-04-25T00:00:00\",\"2017-04-26T00:00:00\",\"2017-04-27T00:00:00\",\"2017-04-28T00:00:00\",\"2017-05-02T00:00:00\",\"2017-05-03T00:00:00\",\"2017-05-04T00:00:00\",\"2017-05-05T00:00:00\",\"2017-05-08T00:00:00\",\"2017-05-09T00:00:00\",\"2017-05-10T00:00:00\",\"2017-05-12T00:00:00\",\"2017-05-15T00:00:00\",\"2017-05-16T00:00:00\",\"2017-05-17T00:00:00\",\"2017-05-18T00:00:00\",\"2017-05-19T00:00:00\",\"2017-05-22T00:00:00\",\"2017-05-23T00:00:00\",\"2017-05-24T00:00:00\",\"2017-05-26T00:00:00\",\"2017-05-29T00:00:00\",\"2017-05-30T00:00:00\",\"2017-05-31T00:00:00\",\"2017-06-01T00:00:00\",\"2017-06-02T00:00:00\",\"2017-06-05T00:00:00\",\"2017-06-06T00:00:00\",\"2017-06-07T00:00:00\",\"2017-06-08T00:00:00\",\"2017-06-09T00:00:00\",\"2017-06-12T00:00:00\",\"2017-06-13T00:00:00\",\"2017-06-14T00:00:00\",\"2017-06-15T00:00:00\",\"2017-06-16T00:00:00\",\"2017-06-19T00:00:00\",\"2017-06-20T00:00:00\",\"2017-06-21T00:00:00\",\"2017-06-22T00:00:00\",\"2017-06-23T00:00:00\",\"2017-06-26T00:00:00\",\"2017-06-27T00:00:00\",\"2017-06-28T00:00:00\",\"2017-06-29T00:00:00\",\"2017-06-30T00:00:00\",\"2017-07-03T00:00:00\",\"2017-07-04T00:00:00\",\"2017-07-05T00:00:00\",\"2017-07-06T00:00:00\",\"2017-07-07T00:00:00\",\"2017-07-10T00:00:00\",\"2017-07-11T00:00:00\",\"2017-07-12T00:00:00\",\"2017-07-13T00:00:00\",\"2017-07-14T00:00:00\",\"2017-07-17T00:00:00\",\"2017-07-18T00:00:00\",\"2017-07-19T00:00:00\",\"2017-07-20T00:00:00\",\"2017-07-21T00:00:00\",\"2017-07-24T00:00:00\",\"2017-07-25T00:00:00\",\"2017-07-26T00:00:00\",\"2017-07-27T00:00:00\",\"2017-07-28T00:00:00\",\"2017-07-31T00:00:00\",\"2017-08-01T00:00:00\",\"2017-08-02T00:00:00\",\"2017-08-03T00:00:00\",\"2017-08-04T00:00:00\",\"2017-08-07T00:00:00\",\"2017-08-08T00:00:00\",\"2017-08-09T00:00:00\",\"2017-08-10T00:00:00\",\"2017-08-11T00:00:00\",\"2017-08-14T00:00:00\",\"2017-08-15T00:00:00\",\"2017-08-16T00:00:00\",\"2017-08-17T00:00:00\",\"2017-08-18T00:00:00\",\"2017-08-21T00:00:00\",\"2017-08-22T00:00:00\",\"2017-08-23T00:00:00\",\"2017-08-24T00:00:00\",\"2017-08-25T00:00:00\",\"2017-08-28T00:00:00\",\"2017-08-29T00:00:00\",\"2017-08-30T00:00:00\",\"2017-08-31T00:00:00\",\"2017-09-01T00:00:00\",\"2017-09-04T00:00:00\",\"2017-09-05T00:00:00\",\"2017-09-06T00:00:00\",\"2017-09-07T00:00:00\",\"2017-09-08T00:00:00\",\"2017-09-11T00:00:00\",\"2017-09-12T00:00:00\",\"2017-09-13T00:00:00\",\"2017-09-14T00:00:00\",\"2017-09-15T00:00:00\",\"2017-09-18T00:00:00\",\"2017-09-19T00:00:00\",\"2017-09-20T00:00:00\",\"2017-09-21T00:00:00\",\"2017-09-22T00:00:00\",\"2017-09-25T00:00:00\",\"2017-09-26T00:00:00\",\"2017-09-27T00:00:00\",\"2017-09-28T00:00:00\",\"2017-09-29T00:00:00\",\"2017-10-02T00:00:00\",\"2017-10-03T00:00:00\",\"2017-10-04T00:00:00\",\"2017-10-05T00:00:00\",\"2017-10-06T00:00:00\",\"2017-10-09T00:00:00\",\"2017-10-10T00:00:00\",\"2017-10-11T00:00:00\",\"2017-10-12T00:00:00\",\"2017-10-13T00:00:00\",\"2017-10-16T00:00:00\",\"2017-10-17T00:00:00\",\"2017-10-18T00:00:00\",\"2017-10-19T00:00:00\",\"2017-10-20T00:00:00\",\"2017-10-23T00:00:00\",\"2017-10-24T00:00:00\",\"2017-10-25T00:00:00\",\"2017-10-26T00:00:00\",\"2017-10-27T00:00:00\",\"2017-10-30T00:00:00\",\"2017-10-31T00:00:00\",\"2017-11-01T00:00:00\",\"2017-11-02T00:00:00\",\"2017-11-03T00:00:00\",\"2017-11-06T00:00:00\",\"2017-11-07T00:00:00\",\"2017-11-08T00:00:00\",\"2017-11-09T00:00:00\",\"2017-11-10T00:00:00\",\"2017-11-13T00:00:00\",\"2017-11-14T00:00:00\",\"2017-11-15T00:00:00\",\"2017-11-16T00:00:00\",\"2017-11-17T00:00:00\",\"2017-11-20T00:00:00\",\"2017-11-21T00:00:00\",\"2017-11-22T00:00:00\",\"2017-11-23T00:00:00\",\"2017-11-24T00:00:00\",\"2017-11-27T00:00:00\",\"2017-11-28T00:00:00\",\"2017-11-29T00:00:00\",\"2017-11-30T00:00:00\",\"2017-12-01T00:00:00\",\"2017-12-04T00:00:00\",\"2017-12-05T00:00:00\",\"2017-12-06T00:00:00\",\"2017-12-07T00:00:00\",\"2017-12-08T00:00:00\",\"2017-12-11T00:00:00\",\"2017-12-12T00:00:00\",\"2017-12-13T00:00:00\",\"2017-12-14T00:00:00\",\"2017-12-15T00:00:00\",\"2017-12-18T00:00:00\",\"2017-12-19T00:00:00\",\"2017-12-20T00:00:00\",\"2017-12-21T00:00:00\",\"2017-12-22T00:00:00\",\"2017-12-25T00:00:00\",\"2017-12-26T00:00:00\",\"2017-12-27T00:00:00\",\"2017-12-28T00:00:00\",\"2017-12-29T00:00:00\",\"2018-01-01T00:00:00\",\"2018-01-02T00:00:00\",\"2018-01-03T00:00:00\",\"2018-01-04T00:00:00\",\"2018-01-05T00:00:00\",\"2018-01-08T00:00:00\",\"2018-01-09T00:00:00\",\"2018-01-10T00:00:00\",\"2018-01-11T00:00:00\",\"2018-01-12T00:00:00\",\"2018-01-15T00:00:00\",\"2018-01-16T00:00:00\",\"2018-01-17T00:00:00\",\"2018-01-18T00:00:00\",\"2018-01-19T00:00:00\",\"2018-01-22T00:00:00\",\"2018-01-23T00:00:00\",\"2018-01-24T00:00:00\",\"2018-01-25T00:00:00\",\"2018-01-26T00:00:00\",\"2018-01-29T00:00:00\",\"2018-01-30T00:00:00\",\"2018-01-31T00:00:00\",\"2018-02-01T00:00:00\",\"2018-02-02T00:00:00\",\"2018-02-05T00:00:00\",\"2018-02-06T00:00:00\",\"2018-02-07T00:00:00\",\"2018-02-08T00:00:00\",\"2018-02-09T00:00:00\",\"2018-02-12T00:00:00\",\"2018-02-13T00:00:00\",\"2018-02-14T00:00:00\",\"2018-02-15T00:00:00\",\"2018-02-16T00:00:00\",\"2018-02-19T00:00:00\",\"2018-02-20T00:00:00\",\"2018-02-21T00:00:00\",\"2018-02-22T00:00:00\",\"2018-02-23T00:00:00\",\"2018-02-26T00:00:00\",\"2018-02-27T00:00:00\",\"2018-02-28T00:00:00\",\"2018-03-01T00:00:00\",\"2018-03-02T00:00:00\",\"2018-03-05T00:00:00\",\"2018-03-06T00:00:00\",\"2018-03-07T00:00:00\",\"2018-03-08T00:00:00\",\"2018-03-09T00:00:00\",\"2018-03-12T00:00:00\",\"2018-03-13T00:00:00\",\"2018-03-14T00:00:00\",\"2018-03-15T00:00:00\",\"2018-03-16T00:00:00\",\"2018-03-19T00:00:00\",\"2018-03-20T00:00:00\",\"2018-03-21T00:00:00\",\"2018-03-22T00:00:00\",\"2018-03-23T00:00:00\",\"2018-03-26T00:00:00\",\"2018-03-27T00:00:00\",\"2018-03-28T00:00:00\",\"2018-03-29T00:00:00\",\"2018-03-30T00:00:00\",\"2018-04-02T00:00:00\",\"2018-04-03T00:00:00\",\"2018-04-04T00:00:00\",\"2018-04-05T00:00:00\",\"2018-04-06T00:00:00\",\"2018-04-09T00:00:00\",\"2018-04-10T00:00:00\",\"2018-04-11T00:00:00\",\"2018-04-12T00:00:00\",\"2018-04-13T00:00:00\",\"2018-04-16T00:00:00\",\"2018-04-17T00:00:00\",\"2018-04-18T00:00:00\",\"2018-04-19T00:00:00\",\"2018-04-20T00:00:00\",\"2018-04-23T00:00:00\",\"2018-04-24T00:00:00\",\"2018-04-25T00:00:00\",\"2018-04-26T00:00:00\",\"2018-04-27T00:00:00\",\"2018-04-30T00:00:00\",\"2018-05-01T00:00:00\",\"2018-05-02T00:00:00\",\"2018-05-03T00:00:00\",\"2018-05-04T00:00:00\",\"2018-05-07T00:00:00\",\"2018-05-08T00:00:00\",\"2018-05-09T00:00:00\",\"2018-05-10T00:00:00\",\"2018-05-11T00:00:00\",\"2018-05-14T00:00:00\",\"2018-05-15T00:00:00\",\"2018-05-16T00:00:00\",\"2018-05-17T00:00:00\",\"2018-05-18T00:00:00\",\"2018-05-21T00:00:00\",\"2018-05-22T00:00:00\",\"2018-05-23T00:00:00\",\"2018-05-24T00:00:00\",\"2018-05-25T00:00:00\",\"2018-05-28T00:00:00\",\"2018-05-29T00:00:00\",\"2018-05-30T00:00:00\",\"2018-05-31T00:00:00\",\"2018-06-01T00:00:00\",\"2018-06-04T00:00:00\",\"2018-06-05T00:00:00\",\"2018-06-06T00:00:00\",\"2018-06-07T00:00:00\",\"2018-06-08T00:00:00\",\"2018-06-11T00:00:00\",\"2018-06-12T00:00:00\",\"2018-06-13T00:00:00\",\"2018-06-14T00:00:00\",\"2018-06-15T00:00:00\",\"2018-06-18T00:00:00\",\"2018-06-19T00:00:00\",\"2018-06-20T00:00:00\",\"2018-06-21T00:00:00\",\"2018-06-22T00:00:00\",\"2018-06-25T00:00:00\",\"2018-06-26T00:00:00\",\"2018-06-27T00:00:00\",\"2018-06-28T00:00:00\",\"2018-06-29T00:00:00\",\"2018-07-02T00:00:00\",\"2018-07-03T00:00:00\",\"2018-07-04T00:00:00\",\"2018-07-05T00:00:00\",\"2018-07-06T00:00:00\",\"2018-07-09T00:00:00\",\"2018-07-10T00:00:00\",\"2018-07-11T00:00:00\",\"2018-07-12T00:00:00\",\"2018-07-13T00:00:00\",\"2018-07-16T00:00:00\",\"2018-07-17T00:00:00\",\"2018-07-18T00:00:00\",\"2018-07-19T00:00:00\",\"2018-07-20T00:00:00\",\"2018-07-23T00:00:00\",\"2018-07-24T00:00:00\",\"2018-07-25T00:00:00\",\"2018-07-26T00:00:00\",\"2018-07-27T00:00:00\",\"2018-07-30T00:00:00\",\"2018-07-31T00:00:00\",\"2018-08-01T00:00:00\",\"2018-08-02T00:00:00\",\"2018-08-03T00:00:00\",\"2018-08-06T00:00:00\",\"2018-08-07T00:00:00\",\"2018-08-08T00:00:00\",\"2018-08-09T00:00:00\",\"2018-08-10T00:00:00\",\"2018-08-13T00:00:00\",\"2018-08-14T00:00:00\",\"2018-08-15T00:00:00\",\"2018-08-16T00:00:00\",\"2018-08-17T00:00:00\",\"2018-08-20T00:00:00\",\"2018-08-21T00:00:00\",\"2018-08-22T00:00:00\",\"2018-08-23T00:00:00\",\"2018-08-24T00:00:00\",\"2018-08-27T00:00:00\",\"2018-08-28T00:00:00\",\"2018-08-29T00:00:00\",\"2018-08-30T00:00:00\",\"2018-08-31T00:00:00\",\"2018-09-03T00:00:00\",\"2018-09-04T00:00:00\",\"2018-09-05T00:00:00\",\"2018-09-06T00:00:00\",\"2018-09-07T00:00:00\",\"2018-09-10T00:00:00\",\"2018-09-11T00:00:00\",\"2018-09-12T00:00:00\",\"2018-09-13T00:00:00\",\"2018-09-14T00:00:00\",\"2018-09-17T00:00:00\",\"2018-09-18T00:00:00\",\"2018-09-19T00:00:00\",\"2018-09-20T00:00:00\",\"2018-09-21T00:00:00\",\"2018-09-24T00:00:00\",\"2018-09-25T00:00:00\",\"2018-09-26T00:00:00\",\"2018-09-27T00:00:00\",\"2018-09-28T00:00:00\",\"2018-10-01T00:00:00\",\"2018-10-02T00:00:00\",\"2018-10-03T00:00:00\",\"2018-10-04T00:00:00\",\"2018-10-05T00:00:00\",\"2018-10-08T00:00:00\",\"2018-10-09T00:00:00\",\"2018-10-10T00:00:00\",\"2018-10-11T00:00:00\",\"2018-10-12T00:00:00\",\"2018-10-15T00:00:00\",\"2018-10-16T00:00:00\",\"2018-10-17T00:00:00\",\"2018-10-18T00:00:00\",\"2018-10-19T00:00:00\",\"2018-10-22T00:00:00\",\"2018-10-23T00:00:00\",\"2018-10-24T00:00:00\",\"2018-10-25T00:00:00\",\"2018-10-26T00:00:00\",\"2018-10-29T00:00:00\",\"2018-10-30T00:00:00\",\"2018-10-31T00:00:00\",\"2018-11-01T00:00:00\",\"2018-11-02T00:00:00\",\"2018-11-05T00:00:00\",\"2018-11-06T00:00:00\",\"2018-11-07T00:00:00\",\"2018-11-08T00:00:00\",\"2018-11-09T00:00:00\",\"2018-11-12T00:00:00\",\"2018-11-13T00:00:00\",\"2018-11-14T00:00:00\",\"2018-11-15T00:00:00\",\"2018-11-16T00:00:00\",\"2018-11-19T00:00:00\",\"2018-11-20T00:00:00\",\"2018-11-21T00:00:00\",\"2018-11-22T00:00:00\",\"2018-11-23T00:00:00\",\"2018-11-26T00:00:00\",\"2018-11-27T00:00:00\",\"2018-11-28T00:00:00\",\"2018-11-29T00:00:00\",\"2018-11-30T00:00:00\",\"2018-12-03T00:00:00\",\"2018-12-04T00:00:00\",\"2018-12-05T00:00:00\",\"2018-12-06T00:00:00\",\"2018-12-07T00:00:00\",\"2018-12-10T00:00:00\",\"2018-12-11T00:00:00\",\"2018-12-12T00:00:00\",\"2018-12-13T00:00:00\",\"2018-12-14T00:00:00\",\"2018-12-17T00:00:00\",\"2018-12-18T00:00:00\",\"2018-12-19T00:00:00\",\"2018-12-20T00:00:00\",\"2018-12-21T00:00:00\",\"2018-12-24T00:00:00\",\"2018-12-25T00:00:00\",\"2018-12-26T00:00:00\",\"2018-12-27T00:00:00\",\"2018-12-28T00:00:00\",\"2018-12-31T00:00:00\",\"2019-01-01T00:00:00\",\"2019-01-02T00:00:00\",\"2019-01-03T00:00:00\",\"2019-01-04T00:00:00\",\"2019-01-07T00:00:00\",\"2019-01-08T00:00:00\",\"2019-01-09T00:00:00\",\"2019-01-10T00:00:00\",\"2019-01-11T00:00:00\",\"2019-01-14T00:00:00\",\"2019-01-15T00:00:00\",\"2019-01-16T00:00:00\",\"2019-01-17T00:00:00\",\"2019-01-18T00:00:00\",\"2019-01-21T00:00:00\",\"2019-01-22T00:00:00\",\"2019-01-23T00:00:00\",\"2019-01-24T00:00:00\",\"2019-01-25T00:00:00\",\"2019-01-28T00:00:00\",\"2019-01-29T00:00:00\",\"2019-01-30T00:00:00\",\"2019-01-31T00:00:00\",\"2019-02-01T00:00:00\",\"2019-02-04T00:00:00\",\"2019-02-05T00:00:00\",\"2019-02-06T00:00:00\",\"2019-02-07T00:00:00\",\"2019-02-08T00:00:00\",\"2019-02-11T00:00:00\",\"2019-02-12T00:00:00\",\"2019-02-13T00:00:00\",\"2019-02-14T00:00:00\",\"2019-02-15T00:00:00\",\"2019-02-18T00:00:00\",\"2019-02-19T00:00:00\",\"2019-02-20T00:00:00\",\"2019-02-21T00:00:00\",\"2019-02-22T00:00:00\",\"2019-02-25T00:00:00\",\"2019-02-26T00:00:00\",\"2019-02-27T00:00:00\",\"2019-02-28T00:00:00\",\"2019-03-01T00:00:00\",\"2019-03-04T00:00:00\",\"2019-03-05T00:00:00\",\"2019-03-06T00:00:00\",\"2019-03-07T00:00:00\",\"2019-03-08T00:00:00\",\"2019-03-11T00:00:00\",\"2019-03-12T00:00:00\",\"2019-03-13T00:00:00\",\"2019-03-14T00:00:00\",\"2019-03-15T00:00:00\",\"2019-03-18T00:00:00\",\"2019-03-19T00:00:00\",\"2019-03-20T00:00:00\",\"2019-03-21T00:00:00\",\"2019-03-22T00:00:00\",\"2019-03-25T00:00:00\",\"2019-03-26T00:00:00\",\"2019-03-27T00:00:00\",\"2019-03-28T00:00:00\",\"2019-03-29T00:00:00\",\"2019-04-01T00:00:00\",\"2019-04-02T00:00:00\",\"2019-04-03T00:00:00\",\"2019-04-04T00:00:00\",\"2019-04-05T00:00:00\",\"2019-04-08T00:00:00\",\"2019-04-09T00:00:00\",\"2019-04-10T00:00:00\",\"2019-04-11T00:00:00\",\"2019-04-12T00:00:00\",\"2019-04-15T00:00:00\",\"2019-04-16T00:00:00\",\"2019-04-17T00:00:00\",\"2019-04-18T00:00:00\",\"2019-04-19T00:00:00\",\"2019-04-22T00:00:00\",\"2019-04-23T00:00:00\",\"2019-04-24T00:00:00\",\"2019-04-25T00:00:00\",\"2019-04-26T00:00:00\",\"2019-04-29T00:00:00\",\"2019-04-30T00:00:00\",\"2019-05-01T00:00:00\",\"2019-05-02T00:00:00\",\"2019-05-03T00:00:00\",\"2019-05-06T00:00:00\",\"2019-05-07T00:00:00\",\"2019-05-08T00:00:00\",\"2019-05-09T00:00:00\",\"2019-05-10T00:00:00\",\"2019-05-13T00:00:00\",\"2019-05-14T00:00:00\",\"2019-05-15T00:00:00\",\"2019-05-16T00:00:00\",\"2019-05-17T00:00:00\",\"2019-05-20T00:00:00\",\"2019-05-21T00:00:00\",\"2019-05-22T00:00:00\",\"2019-05-23T00:00:00\",\"2019-05-24T00:00:00\",\"2019-05-27T00:00:00\",\"2019-05-28T00:00:00\",\"2019-05-29T00:00:00\",\"2019-05-30T00:00:00\",\"2019-05-31T00:00:00\",\"2019-06-03T00:00:00\",\"2019-06-04T00:00:00\",\"2019-06-05T00:00:00\",\"2019-06-06T00:00:00\",\"2019-06-07T00:00:00\",\"2019-06-10T00:00:00\",\"2019-06-11T00:00:00\",\"2019-06-12T00:00:00\",\"2019-06-13T00:00:00\",\"2019-06-14T00:00:00\",\"2019-06-17T00:00:00\",\"2019-06-18T00:00:00\",\"2019-06-20T00:00:00\",\"2019-06-21T00:00:00\",\"2019-06-24T00:00:00\",\"2019-06-25T00:00:00\",\"2019-06-26T00:00:00\",\"2019-06-27T00:00:00\",\"2019-06-28T00:00:00\",\"2019-07-01T00:00:00\",\"2019-07-02T00:00:00\",\"2019-07-03T00:00:00\",\"2019-07-04T00:00:00\",\"2019-07-05T00:00:00\",\"2019-07-08T00:00:00\",\"2019-07-09T00:00:00\",\"2019-07-10T00:00:00\",\"2019-07-11T00:00:00\",\"2019-07-12T00:00:00\",\"2019-07-15T00:00:00\",\"2019-07-16T00:00:00\",\"2019-07-17T00:00:00\",\"2019-07-18T00:00:00\",\"2019-07-19T00:00:00\",\"2019-07-22T00:00:00\",\"2019-07-23T00:00:00\",\"2019-07-24T00:00:00\",\"2019-07-25T00:00:00\",\"2019-07-26T00:00:00\",\"2019-07-29T00:00:00\",\"2019-07-30T00:00:00\",\"2019-07-31T00:00:00\",\"2019-08-01T00:00:00\",\"2019-08-02T00:00:00\",\"2019-08-05T00:00:00\",\"2019-08-06T00:00:00\",\"2019-08-07T00:00:00\",\"2019-08-08T00:00:00\",\"2019-08-09T00:00:00\",\"2019-08-12T00:00:00\",\"2019-08-13T00:00:00\",\"2019-08-14T00:00:00\",\"2019-08-15T00:00:00\",\"2019-08-16T00:00:00\",\"2019-08-19T00:00:00\",\"2019-08-20T00:00:00\",\"2019-08-21T00:00:00\",\"2019-08-22T00:00:00\",\"2019-08-23T00:00:00\",\"2019-08-26T00:00:00\",\"2019-08-27T00:00:00\",\"2019-08-28T00:00:00\",\"2019-08-29T00:00:00\",\"2019-08-30T00:00:00\",\"2019-09-02T00:00:00\",\"2019-09-03T00:00:00\",\"2019-09-04T00:00:00\",\"2019-09-05T00:00:00\",\"2019-09-06T00:00:00\",\"2019-09-09T00:00:00\",\"2019-09-10T00:00:00\",\"2019-09-11T00:00:00\",\"2019-09-12T00:00:00\",\"2019-09-13T00:00:00\",\"2019-09-16T00:00:00\",\"2019-09-17T00:00:00\",\"2019-09-18T00:00:00\",\"2019-09-19T00:00:00\",\"2019-09-20T00:00:00\",\"2019-09-23T00:00:00\",\"2019-09-24T00:00:00\",\"2019-09-25T00:00:00\",\"2019-09-26T00:00:00\",\"2019-09-27T00:00:00\",\"2019-09-30T00:00:00\",\"2019-10-01T00:00:00\",\"2019-10-02T00:00:00\",\"2019-10-03T00:00:00\",\"2019-10-04T00:00:00\",\"2019-10-07T00:00:00\",\"2019-10-08T00:00:00\",\"2019-10-09T00:00:00\",\"2019-10-10T00:00:00\",\"2019-10-11T00:00:00\",\"2019-10-14T00:00:00\",\"2019-10-15T00:00:00\",\"2019-10-16T00:00:00\",\"2019-10-17T00:00:00\",\"2019-10-18T00:00:00\",\"2019-10-21T00:00:00\",\"2019-10-22T00:00:00\",\"2019-10-23T00:00:00\",\"2019-10-24T00:00:00\",\"2019-10-25T00:00:00\",\"2019-10-28T00:00:00\",\"2019-10-29T00:00:00\",\"2019-10-30T00:00:00\",\"2019-10-31T00:00:00\",\"2019-11-01T00:00:00\",\"2019-11-04T00:00:00\",\"2019-11-05T00:00:00\",\"2019-11-06T00:00:00\",\"2019-11-07T00:00:00\",\"2019-11-08T00:00:00\",\"2019-11-11T00:00:00\",\"2019-11-12T00:00:00\",\"2019-11-13T00:00:00\",\"2019-11-14T00:00:00\",\"2019-11-15T00:00:00\",\"2019-11-18T00:00:00\",\"2019-11-19T00:00:00\",\"2019-11-20T00:00:00\",\"2019-11-21T00:00:00\",\"2019-11-22T00:00:00\",\"2019-11-25T00:00:00\",\"2019-11-26T00:00:00\",\"2019-11-27T00:00:00\",\"2019-11-28T00:00:00\",\"2019-11-29T00:00:00\",\"2019-12-02T00:00:00\",\"2019-12-03T00:00:00\",\"2019-12-04T00:00:00\",\"2019-12-05T00:00:00\",\"2019-12-06T00:00:00\",\"2019-12-09T00:00:00\",\"2019-12-10T00:00:00\",\"2019-12-11T00:00:00\",\"2019-12-12T00:00:00\",\"2019-12-13T00:00:00\",\"2019-12-16T00:00:00\",\"2019-12-17T00:00:00\",\"2019-12-18T00:00:00\",\"2019-12-19T00:00:00\",\"2019-12-20T00:00:00\",\"2019-12-23T00:00:00\",\"2019-12-26T00:00:00\",\"2019-12-27T00:00:00\",\"2019-12-30T00:00:00\",\"2020-01-02T00:00:00\",\"2020-01-03T00:00:00\",\"2020-01-06T00:00:00\",\"2020-01-07T00:00:00\",\"2020-01-08T00:00:00\",\"2020-01-09T00:00:00\",\"2020-01-10T00:00:00\",\"2020-01-13T00:00:00\",\"2020-01-14T00:00:00\",\"2020-01-15T00:00:00\",\"2020-01-16T00:00:00\",\"2020-01-17T00:00:00\",\"2020-01-20T00:00:00\",\"2020-01-21T00:00:00\",\"2020-01-22T00:00:00\",\"2020-01-23T00:00:00\",\"2020-01-24T00:00:00\",\"2020-01-27T00:00:00\",\"2020-01-28T00:00:00\",\"2020-01-29T00:00:00\",\"2020-01-30T00:00:00\",\"2020-01-31T00:00:00\",\"2020-02-03T00:00:00\",\"2020-02-04T00:00:00\",\"2020-02-05T00:00:00\",\"2020-02-06T00:00:00\",\"2020-02-07T00:00:00\",\"2020-02-10T00:00:00\",\"2020-02-11T00:00:00\",\"2020-02-12T00:00:00\",\"2020-02-13T00:00:00\",\"2020-02-14T00:00:00\",\"2020-02-17T00:00:00\",\"2020-02-18T00:00:00\",\"2020-02-19T00:00:00\",\"2020-02-20T00:00:00\",\"2020-02-21T00:00:00\",\"2020-02-24T00:00:00\",\"2020-02-25T00:00:00\",\"2020-02-26T00:00:00\",\"2020-02-27T00:00:00\",\"2020-02-28T00:00:00\",\"2020-03-02T00:00:00\",\"2020-03-03T00:00:00\",\"2020-03-04T00:00:00\",\"2020-03-05T00:00:00\",\"2020-03-06T00:00:00\",\"2020-03-09T00:00:00\",\"2020-03-10T00:00:00\",\"2020-03-11T00:00:00\",\"2020-03-12T00:00:00\",\"2020-03-13T00:00:00\",\"2020-03-16T00:00:00\",\"2020-03-17T00:00:00\",\"2020-03-18T00:00:00\",\"2020-03-19T00:00:00\",\"2020-03-20T00:00:00\",\"2020-03-23T00:00:00\",\"2020-03-24T00:00:00\",\"2020-03-26T00:00:00\",\"2020-03-27T00:00:00\",\"2020-03-30T00:00:00\",\"2020-03-31T00:00:00\",\"2020-04-01T00:00:00\",\"2020-04-02T00:00:00\",\"2020-04-03T00:00:00\",\"2020-04-06T00:00:00\",\"2020-04-07T00:00:00\",\"2020-04-08T00:00:00\",\"2020-04-09T00:00:00\",\"2020-04-13T00:00:00\",\"2020-04-14T00:00:00\",\"2020-04-15T00:00:00\",\"2020-04-16T00:00:00\",\"2020-04-17T00:00:00\",\"2020-04-20T00:00:00\",\"2020-04-21T00:00:00\",\"2020-04-22T00:00:00\",\"2020-04-23T00:00:00\",\"2020-04-24T00:00:00\",\"2020-04-27T00:00:00\",\"2020-04-28T00:00:00\",\"2020-04-29T00:00:00\",\"2020-04-30T00:00:00\",\"2020-05-04T00:00:00\",\"2020-05-05T00:00:00\",\"2020-05-06T00:00:00\",\"2020-05-08T00:00:00\",\"2020-05-11T00:00:00\",\"2020-05-12T00:00:00\",\"2020-05-13T00:00:00\",\"2020-05-14T00:00:00\",\"2020-05-15T00:00:00\",\"2020-05-18T00:00:00\",\"2020-05-19T00:00:00\",\"2020-05-20T00:00:00\",\"2020-05-26T00:00:00\",\"2020-05-27T00:00:00\",\"2020-05-28T00:00:00\",\"2020-05-29T00:00:00\",\"2020-06-02T00:00:00\",\"2020-06-03T00:00:00\",\"2020-06-04T00:00:00\",\"2020-06-05T00:00:00\",\"2020-06-08T00:00:00\",\"2020-06-09T00:00:00\",\"2020-06-10T00:00:00\",\"2020-06-11T00:00:00\",\"2020-06-12T00:00:00\",\"2020-06-15T00:00:00\",\"2020-06-16T00:00:00\",\"2020-06-17T00:00:00\",\"2020-06-18T00:00:00\",\"2020-06-19T00:00:00\",\"2020-06-22T00:00:00\",\"2020-06-23T00:00:00\",\"2020-06-24T00:00:00\",\"2020-06-25T00:00:00\",\"2020-06-26T00:00:00\",\"2020-06-29T00:00:00\",\"2020-06-30T00:00:00\",\"2020-07-01T00:00:00\",\"2020-07-02T00:00:00\",\"2020-07-03T00:00:00\",\"2020-07-06T00:00:00\",\"2020-07-07T00:00:00\",\"2020-07-08T00:00:00\",\"2020-07-09T00:00:00\",\"2020-07-10T00:00:00\",\"2020-07-13T00:00:00\",\"2020-07-14T00:00:00\",\"2020-07-15T00:00:00\",\"2020-07-16T00:00:00\",\"2020-07-17T00:00:00\",\"2020-07-20T00:00:00\",\"2020-07-21T00:00:00\",\"2020-07-22T00:00:00\",\"2020-07-23T00:00:00\",\"2020-07-24T00:00:00\",\"2020-07-27T00:00:00\",\"2020-07-28T00:00:00\",\"2020-07-29T00:00:00\",\"2020-07-30T00:00:00\",\"2020-08-03T00:00:00\",\"2020-08-04T00:00:00\",\"2020-08-05T00:00:00\",\"2020-08-06T00:00:00\",\"2020-08-07T00:00:00\",\"2020-08-10T00:00:00\",\"2020-08-11T00:00:00\",\"2020-08-12T00:00:00\",\"2020-08-13T00:00:00\",\"2020-08-14T00:00:00\",\"2020-08-18T00:00:00\",\"2020-08-19T00:00:00\",\"2020-08-24T00:00:00\",\"2020-08-25T00:00:00\",\"2020-08-26T00:00:00\",\"2020-08-27T00:00:00\",\"2020-08-28T00:00:00\",\"2020-08-31T00:00:00\",\"2020-09-01T00:00:00\",\"2020-09-02T00:00:00\",\"2020-09-03T00:00:00\",\"2020-09-04T00:00:00\",\"2020-09-07T00:00:00\",\"2020-09-08T00:00:00\",\"2020-09-09T00:00:00\",\"2020-09-10T00:00:00\",\"2020-09-11T00:00:00\",\"2020-09-14T00:00:00\",\"2020-09-15T00:00:00\",\"2020-09-16T00:00:00\",\"2020-09-17T00:00:00\",\"2020-09-18T00:00:00\",\"2020-09-21T00:00:00\",\"2020-09-22T00:00:00\",\"2020-09-23T00:00:00\",\"2020-09-24T00:00:00\",\"2020-09-25T00:00:00\",\"2020-09-28T00:00:00\",\"2020-09-29T00:00:00\",\"2020-09-30T00:00:00\",\"2020-10-01T00:00:00\",\"2020-10-02T00:00:00\",\"2020-10-05T00:00:00\",\"2020-10-06T00:00:00\",\"2020-10-07T00:00:00\",\"2020-10-08T00:00:00\",\"2020-10-09T00:00:00\",\"2020-10-12T00:00:00\",\"2020-10-13T00:00:00\",\"2020-10-14T00:00:00\",\"2020-10-15T00:00:00\",\"2020-10-16T00:00:00\",\"2020-10-19T00:00:00\",\"2020-10-20T00:00:00\",\"2020-10-21T00:00:00\",\"2020-10-22T00:00:00\",\"2020-10-23T00:00:00\",\"2020-10-26T00:00:00\",\"2020-10-27T00:00:00\",\"2020-11-02T00:00:00\",\"2020-11-03T00:00:00\",\"2020-11-04T00:00:00\",\"2020-11-05T00:00:00\",\"2020-11-06T00:00:00\",\"2020-11-09T00:00:00\",\"2020-11-10T00:00:00\",\"2020-11-11T00:00:00\",\"2020-11-12T00:00:00\",\"2020-11-13T00:00:00\",\"2020-11-16T00:00:00\",\"2020-11-17T00:00:00\",\"2020-11-18T00:00:00\",\"2020-11-19T00:00:00\",\"2020-11-20T00:00:00\",\"2020-11-23T00:00:00\",\"2020-11-24T00:00:00\",\"2020-11-25T00:00:00\",\"2020-11-26T00:00:00\",\"2020-11-27T00:00:00\",\"2020-11-30T00:00:00\",\"2020-12-01T00:00:00\",\"2020-12-02T00:00:00\",\"2020-12-03T00:00:00\",\"2020-12-04T00:00:00\",\"2020-12-07T00:00:00\",\"2020-12-08T00:00:00\",\"2020-12-10T00:00:00\",\"2020-12-11T00:00:00\",\"2020-12-14T00:00:00\",\"2020-12-15T00:00:00\",\"2020-12-16T00:00:00\",\"2020-12-17T00:00:00\",\"2020-12-18T00:00:00\",\"2020-12-21T00:00:00\",\"2020-12-22T00:00:00\",\"2020-12-23T00:00:00\",\"2020-12-28T00:00:00\",\"2020-12-29T00:00:00\",\"2020-12-30T00:00:00\",\"2021-01-04T00:00:00\",\"2021-01-05T00:00:00\",\"2021-01-06T00:00:00\",\"2021-01-07T00:00:00\",\"2021-01-08T00:00:00\",\"2021-01-11T00:00:00\",\"2021-01-12T00:00:00\",\"2021-01-13T00:00:00\",\"2021-01-14T00:00:00\",\"2021-01-15T00:00:00\",\"2021-01-18T00:00:00\",\"2021-01-19T00:00:00\",\"2021-01-20T00:00:00\",\"2021-01-21T00:00:00\",\"2021-01-22T00:00:00\",\"2021-01-25T00:00:00\",\"2021-01-26T00:00:00\",\"2021-01-27T00:00:00\",\"2021-01-28T00:00:00\",\"2021-01-29T00:00:00\",\"2021-02-01T00:00:00\",\"2021-02-02T00:00:00\",\"2021-02-03T00:00:00\",\"2021-02-04T00:00:00\",\"2021-02-05T00:00:00\",\"2021-02-08T00:00:00\",\"2021-02-09T00:00:00\",\"2021-02-10T00:00:00\",\"2021-02-11T00:00:00\",\"2021-02-15T00:00:00\",\"2021-02-16T00:00:00\",\"2021-02-17T00:00:00\",\"2021-02-18T00:00:00\",\"2021-02-19T00:00:00\",\"2021-02-22T00:00:00\",\"2021-02-23T00:00:00\",\"2021-02-24T00:00:00\",\"2021-02-25T00:00:00\",\"2021-02-26T00:00:00\",\"2021-03-01T00:00:00\",\"2021-03-02T00:00:00\",\"2021-03-03T00:00:00\",\"2021-03-04T00:00:00\",\"2021-03-05T00:00:00\",\"2021-03-08T00:00:00\",\"2021-03-09T00:00:00\",\"2021-03-10T00:00:00\",\"2021-03-12T00:00:00\",\"2021-03-15T00:00:00\",\"2021-03-16T00:00:00\",\"2021-03-17T00:00:00\",\"2021-03-18T00:00:00\",\"2021-03-19T00:00:00\",\"2021-03-22T00:00:00\",\"2021-03-23T00:00:00\",\"2021-03-24T00:00:00\",\"2021-03-25T00:00:00\",\"2021-03-26T00:00:00\",\"2021-03-29T00:00:00\",\"2021-03-30T00:00:00\",\"2021-03-31T00:00:00\",\"2021-04-01T00:00:00\",\"2021-04-05T00:00:00\",\"2021-04-06T00:00:00\",\"2021-04-07T00:00:00\",\"2021-04-08T00:00:00\",\"2021-04-09T00:00:00\",\"2021-04-12T00:00:00\",\"2021-04-13T00:00:00\",\"2021-04-14T00:00:00\",\"2021-04-15T00:00:00\",\"2021-04-16T00:00:00\",\"2021-04-19T00:00:00\",\"2021-04-20T00:00:00\",\"2021-04-21T00:00:00\",\"2021-04-22T00:00:00\",\"2021-04-23T00:00:00\",\"2021-04-26T00:00:00\",\"2021-04-27T00:00:00\",\"2021-04-28T00:00:00\",\"2021-04-29T00:00:00\",\"2021-04-30T00:00:00\",\"2021-05-03T00:00:00\",\"2021-05-04T00:00:00\",\"2021-05-05T00:00:00\",\"2021-05-06T00:00:00\",\"2021-05-07T00:00:00\",\"2021-05-10T00:00:00\",\"2021-05-11T00:00:00\",\"2021-05-17T00:00:00\",\"2021-05-18T00:00:00\",\"2021-05-19T00:00:00\",\"2021-05-20T00:00:00\",\"2021-05-21T00:00:00\",\"2021-05-24T00:00:00\",\"2021-05-25T00:00:00\",\"2021-05-27T00:00:00\",\"2021-05-28T00:00:00\",\"2021-05-31T00:00:00\",\"2021-06-02T00:00:00\",\"2021-06-03T00:00:00\",\"2021-06-04T00:00:00\",\"2021-06-07T00:00:00\",\"2021-06-08T00:00:00\",\"2021-06-09T00:00:00\",\"2021-06-10T00:00:00\",\"2021-06-11T00:00:00\",\"2021-06-14T00:00:00\",\"2021-06-15T00:00:00\",\"2021-06-16T00:00:00\",\"2021-06-17T00:00:00\",\"2021-06-18T00:00:00\",\"2021-06-21T00:00:00\",\"2021-06-22T00:00:00\",\"2021-06-23T00:00:00\",\"2021-06-24T00:00:00\",\"2021-06-25T00:00:00\",\"2021-06-28T00:00:00\",\"2021-06-29T00:00:00\",\"2021-06-30T00:00:00\",\"2021-07-01T00:00:00\",\"2021-07-02T00:00:00\",\"2021-07-05T00:00:00\",\"2021-07-06T00:00:00\",\"2021-07-07T00:00:00\",\"2021-07-08T00:00:00\",\"2021-07-09T00:00:00\",\"2021-07-12T00:00:00\",\"2021-07-13T00:00:00\",\"2021-07-14T00:00:00\",\"2021-07-15T00:00:00\",\"2021-07-16T00:00:00\",\"2021-07-19T00:00:00\",\"2021-07-21T00:00:00\",\"2021-07-22T00:00:00\",\"2021-07-23T00:00:00\",\"2021-07-26T00:00:00\",\"2021-07-27T00:00:00\",\"2021-07-28T00:00:00\",\"2021-07-29T00:00:00\",\"2021-07-30T00:00:00\",\"2021-08-02T00:00:00\",\"2021-08-03T00:00:00\",\"2021-08-04T00:00:00\",\"2021-08-05T00:00:00\",\"2021-08-06T00:00:00\",\"2021-08-09T00:00:00\",\"2021-08-10T00:00:00\",\"2021-08-12T00:00:00\",\"2021-08-13T00:00:00\",\"2021-08-16T00:00:00\",\"2021-08-18T00:00:00\",\"2021-08-19T00:00:00\",\"2021-08-20T00:00:00\",\"2021-08-23T00:00:00\",\"2021-08-24T00:00:00\",\"2021-08-25T00:00:00\",\"2021-08-26T00:00:00\",\"2021-08-27T00:00:00\",\"2021-08-30T00:00:00\",\"2021-08-31T00:00:00\",\"2021-09-01T00:00:00\",\"2021-09-02T00:00:00\",\"2021-09-03T00:00:00\",\"2021-09-06T00:00:00\",\"2021-09-07T00:00:00\",\"2021-09-08T00:00:00\",\"2021-09-09T00:00:00\",\"2021-09-10T00:00:00\",\"2021-09-13T00:00:00\",\"2021-09-14T00:00:00\",\"2021-09-15T00:00:00\",\"2021-09-16T00:00:00\",\"2021-09-17T00:00:00\",\"2021-09-20T00:00:00\",\"2021-09-21T00:00:00\",\"2021-09-22T00:00:00\",\"2021-09-23T00:00:00\",\"2021-09-24T00:00:00\",\"2021-09-27T00:00:00\",\"2021-09-28T00:00:00\",\"2021-09-29T00:00:00\",\"2021-09-30T00:00:00\",\"2021-10-01T00:00:00\",\"2021-10-04T00:00:00\",\"2021-10-05T00:00:00\",\"2021-10-06T00:00:00\",\"2021-10-07T00:00:00\",\"2021-10-08T00:00:00\",\"2021-10-11T00:00:00\",\"2021-10-12T00:00:00\",\"2021-10-13T00:00:00\",\"2021-10-14T00:00:00\",\"2021-10-15T00:00:00\",\"2021-10-18T00:00:00\",\"2021-10-19T00:00:00\",\"2021-10-21T00:00:00\",\"2021-10-22T00:00:00\",\"2021-10-25T00:00:00\",\"2021-10-26T00:00:00\",\"2021-10-27T00:00:00\",\"2021-10-28T00:00:00\",\"2021-10-29T00:00:00\",\"2021-11-01T00:00:00\",\"2021-11-02T00:00:00\",\"2021-11-03T00:00:00\",\"2021-11-04T00:00:00\",\"2021-11-05T00:00:00\",\"2021-11-08T00:00:00\",\"2021-11-09T00:00:00\",\"2021-11-10T00:00:00\",\"2021-11-11T00:00:00\",\"2021-11-12T00:00:00\",\"2021-11-15T00:00:00\",\"2021-11-16T00:00:00\",\"2021-11-17T00:00:00\",\"2021-11-18T00:00:00\",\"2021-11-19T00:00:00\",\"2021-11-22T00:00:00\",\"2021-11-23T00:00:00\",\"2021-11-24T00:00:00\",\"2021-11-25T00:00:00\",\"2021-11-26T00:00:00\",\"2021-11-29T00:00:00\",\"2021-11-30T00:00:00\",\"2021-12-01T00:00:00\",\"2021-12-02T00:00:00\",\"2021-12-03T00:00:00\",\"2021-12-06T00:00:00\",\"2021-12-07T00:00:00\",\"2021-12-08T00:00:00\",\"2021-12-09T00:00:00\",\"2021-12-10T00:00:00\",\"2021-12-13T00:00:00\",\"2021-12-14T00:00:00\",\"2021-12-15T00:00:00\",\"2021-12-16T00:00:00\",\"2021-12-17T00:00:00\",\"2021-12-20T00:00:00\",\"2021-12-21T00:00:00\",\"2021-12-22T00:00:00\",\"2021-12-23T00:00:00\",\"2021-12-24T00:00:00\",\"2021-12-27T00:00:00\",\"2021-12-28T00:00:00\",\"2021-12-29T00:00:00\",\"2021-12-30T00:00:00\",\"2022-01-03T00:00:00\",\"2022-01-04T00:00:00\",\"2022-01-05T00:00:00\",\"2022-01-06T00:00:00\",\"2022-01-07T00:00:00\",\"2022-01-10T00:00:00\",\"2022-01-11T00:00:00\",\"2022-01-12T00:00:00\",\"2022-01-13T00:00:00\",\"2022-01-14T00:00:00\",\"2022-01-17T00:00:00\",\"2022-01-18T00:00:00\",\"2022-01-19T00:00:00\",\"2022-01-20T00:00:00\",\"2022-01-21T00:00:00\",\"2022-01-24T00:00:00\",\"2022-01-25T00:00:00\",\"2022-01-26T00:00:00\",\"2022-01-27T00:00:00\",\"2022-01-28T00:00:00\",\"2022-01-31T00:00:00\",\"2022-02-02T00:00:00\",\"2022-02-03T00:00:00\",\"2022-02-04T00:00:00\",\"2022-02-07T00:00:00\",\"2022-02-08T00:00:00\",\"2022-02-09T00:00:00\",\"2022-02-10T00:00:00\",\"2022-02-11T00:00:00\",\"2022-02-14T00:00:00\",\"2022-02-15T00:00:00\",\"2022-02-16T00:00:00\",\"2022-02-17T00:00:00\",\"2022-02-18T00:00:00\",\"2022-02-21T00:00:00\",\"2022-02-22T00:00:00\",\"2022-02-23T00:00:00\",\"2022-02-24T00:00:00\",\"2022-02-25T00:00:00\",\"2022-03-01T00:00:00\",\"2022-03-02T00:00:00\",\"2022-03-04T00:00:00\",\"2022-03-07T00:00:00\",\"2022-03-08T00:00:00\",\"2022-03-09T00:00:00\",\"2022-03-10T00:00:00\",\"2022-03-11T00:00:00\",\"2022-03-14T00:00:00\",\"2022-03-15T00:00:00\",\"2022-03-16T00:00:00\",\"2022-03-17T00:00:00\",\"2022-03-18T00:00:00\",\"2022-03-21T00:00:00\",\"2022-03-22T00:00:00\",\"2022-03-23T00:00:00\",\"2022-03-24T00:00:00\",\"2022-03-25T00:00:00\",\"2022-03-28T00:00:00\",\"2022-03-29T00:00:00\",\"2022-03-30T00:00:00\",\"2022-03-31T00:00:00\",\"2022-04-01T00:00:00\",\"2022-04-04T00:00:00\",\"2022-04-05T00:00:00\",\"2022-04-06T00:00:00\",\"2022-04-07T00:00:00\",\"2022-04-08T00:00:00\",\"2022-04-11T00:00:00\",\"2022-04-12T00:00:00\",\"2022-04-13T00:00:00\",\"2022-04-14T00:00:00\",\"2022-04-18T00:00:00\",\"2022-04-19T00:00:00\",\"2022-04-20T00:00:00\",\"2022-04-21T00:00:00\",\"2022-04-22T00:00:00\",\"2022-04-25T00:00:00\",\"2022-04-26T00:00:00\",\"2022-04-27T00:00:00\",\"2022-04-28T00:00:00\",\"2022-05-09T00:00:00\",\"2022-05-10T00:00:00\",\"2022-05-11T00:00:00\",\"2022-05-12T00:00:00\",\"2022-05-13T00:00:00\",\"2022-05-17T00:00:00\",\"2022-05-18T00:00:00\",\"2022-05-19T00:00:00\",\"2022-05-20T00:00:00\",\"2022-05-23T00:00:00\",\"2022-05-24T00:00:00\",\"2022-05-25T00:00:00\",\"2022-05-27T00:00:00\",\"2022-05-30T00:00:00\",\"2022-05-31T00:00:00\",\"2022-06-02T00:00:00\",\"2022-06-03T00:00:00\",\"2022-06-06T00:00:00\",\"2022-06-07T00:00:00\",\"2022-06-08T00:00:00\",\"2022-06-09T00:00:00\",\"2022-06-10T00:00:00\",\"2022-06-13T00:00:00\",\"2022-06-14T00:00:00\",\"2022-06-15T00:00:00\",\"2022-06-16T00:00:00\",\"2022-06-17T00:00:00\",\"2022-06-20T00:00:00\",\"2022-06-21T00:00:00\",\"2022-06-22T00:00:00\",\"2022-06-23T00:00:00\",\"2022-06-24T00:00:00\",\"2022-06-27T00:00:00\",\"2022-06-28T00:00:00\",\"2022-06-29T00:00:00\",\"2022-06-30T00:00:00\",\"2022-07-01T00:00:00\",\"2022-07-04T00:00:00\",\"2022-07-05T00:00:00\",\"2022-07-06T00:00:00\",\"2022-07-07T00:00:00\",\"2022-07-08T00:00:00\",\"2022-07-11T00:00:00\",\"2022-07-12T00:00:00\",\"2022-07-13T00:00:00\",\"2022-07-14T00:00:00\",\"2022-07-15T00:00:00\",\"2022-07-18T00:00:00\",\"2022-07-19T00:00:00\",\"2022-07-20T00:00:00\",\"2022-07-21T00:00:00\",\"2022-07-22T00:00:00\",\"2022-07-25T00:00:00\",\"2022-07-26T00:00:00\",\"2022-07-27T00:00:00\",\"2022-07-28T00:00:00\",\"2022-07-29T00:00:00\",\"2022-08-01T00:00:00\",\"2022-08-02T00:00:00\",\"2022-08-03T00:00:00\",\"2022-08-04T00:00:00\",\"2022-08-05T00:00:00\",\"2022-08-08T00:00:00\",\"2022-08-09T00:00:00\",\"2022-08-10T00:00:00\",\"2022-08-11T00:00:00\",\"2022-08-12T00:00:00\",\"2022-08-15T00:00:00\",\"2022-08-16T00:00:00\",\"2022-08-18T00:00:00\",\"2022-08-19T00:00:00\",\"2022-08-22T00:00:00\",\"2022-08-23T00:00:00\",\"2022-08-24T00:00:00\",\"2022-08-25T00:00:00\",\"2022-08-26T00:00:00\",\"2022-08-29T00:00:00\",\"2022-08-30T00:00:00\",\"2022-08-31T00:00:00\",\"2022-09-01T00:00:00\",\"2022-09-02T00:00:00\",\"2022-09-05T00:00:00\",\"2022-09-06T00:00:00\",\"2022-09-07T00:00:00\",\"2022-09-08T00:00:00\",\"2022-09-09T00:00:00\",\"2022-09-12T00:00:00\",\"2022-09-13T00:00:00\",\"2022-09-14T00:00:00\",\"2022-09-15T00:00:00\",\"2022-09-16T00:00:00\",\"2022-09-19T00:00:00\",\"2022-09-20T00:00:00\",\"2022-09-21T00:00:00\",\"2022-09-22T00:00:00\",\"2022-09-23T00:00:00\",\"2022-09-26T00:00:00\",\"2022-09-27T00:00:00\",\"2022-09-28T00:00:00\",\"2022-09-29T00:00:00\",\"2022-09-30T00:00:00\",\"2022-10-03T00:00:00\",\"2022-10-04T00:00:00\",\"2022-10-05T00:00:00\",\"2022-10-06T00:00:00\",\"2022-10-07T00:00:00\",\"2022-10-10T00:00:00\",\"2022-10-11T00:00:00\",\"2022-10-12T00:00:00\",\"2022-10-13T00:00:00\",\"2022-10-14T00:00:00\",\"2022-10-17T00:00:00\",\"2022-10-18T00:00:00\",\"2022-10-19T00:00:00\",\"2022-10-20T00:00:00\",\"2022-10-21T00:00:00\",\"2022-10-24T00:00:00\",\"2022-10-25T00:00:00\",\"2022-10-26T00:00:00\",\"2022-10-27T00:00:00\",\"2022-10-28T00:00:00\",\"2022-10-31T00:00:00\",\"2022-11-01T00:00:00\",\"2022-11-02T00:00:00\",\"2022-11-03T00:00:00\",\"2022-11-04T00:00:00\",\"2022-11-07T00:00:00\",\"2022-11-08T00:00:00\",\"2022-11-09T00:00:00\",\"2022-11-10T00:00:00\",\"2022-11-11T00:00:00\",\"2022-11-14T00:00:00\",\"2022-11-15T00:00:00\",\"2022-11-16T00:00:00\",\"2022-11-17T00:00:00\",\"2022-11-18T00:00:00\",\"2022-11-21T00:00:00\",\"2022-11-22T00:00:00\",\"2022-11-23T00:00:00\",\"2022-11-24T00:00:00\",\"2022-11-25T00:00:00\",\"2022-11-28T00:00:00\",\"2022-11-29T00:00:00\",\"2022-11-30T00:00:00\",\"2022-12-01T00:00:00\",\"2022-12-02T00:00:00\",\"2022-12-05T00:00:00\",\"2022-12-06T00:00:00\",\"2022-12-07T00:00:00\",\"2022-12-08T00:00:00\",\"2022-12-09T00:00:00\",\"2022-12-12T00:00:00\",\"2022-12-13T00:00:00\",\"2022-12-14T00:00:00\",\"2022-12-15T00:00:00\",\"2022-12-16T00:00:00\",\"2022-12-19T00:00:00\",\"2022-12-20T00:00:00\"],\"xaxis\":\"x\",\"y\":[2305.0,2315.0,2300.0,2315.0,2360.0,2390.0,2345.0,2340.0,2350.0,2335.0,2310.0,2315.0,2265.0,2275.0,2275.0,2320.0,2330.0,2375.0,2335.0,2330.0,2330.0,2320.0,2345.0,2345.0,2325.0,2325.0,2320.0,2325.0,2330.0,2340.0,2385.0,2385.0,2395.0,2445.0,2500.0,2490.0,2540.0,2560.0,2570.0,2575.0,2570.0,2550.0,2560.0,2555.0,2565.0,2570.0,2565.0,2545.0,2565.0,2550.0,2530.0,2580.0,2520.0,2590.0,2565.0,2575.0,2585.0,2595.0,2605.0,2580.0,2595.0,2625.0,2595.0,2595.0,2595.0,2615.0,2610.0,2605.0,2600.0,2590.0,2590.0,2590.0,2610.0,2595.0,2575.0,2620.0,2600.0,2600.0,2585.0,2400.0,2340.0,2250.0,2305.0,2280.0,2325.0,2320.0,2315.0,2325.0,2340.0,2345.0,2400.0,2350.0,2340.0,2390.0,2455.0,2470.0,2485.0,2460.0,2440.0,2390.0,2365.0,2340.0,2325.0,2250.0,2215.0,2200.0,2175.0,2060.0,2055.0,2015.0,2010.0,2030.0,2025.0,2120.0,2130.0,2165.0,2165.0,2145.0,2055.0,2015.0,2030.0,2040.0,2055.0,2070.0,2110.0,2130.0,2070.0,2080.0,2040.0,2025.0,2070.0,2060.0,2075.0,2025.0,2035.0,2050.0,2005.0,1955.0,1880.0,1890.0,1860.0,1875.0,2000.0,2040.0,2060.0,2140.0,2105.0,2060.0,2030.0,1930.0,1940.0,2010.0,1960.0,1960.0,1935.0,1885.0,1805.0,1850.0,1860.0,2005.0,2080.0,2060.0,2020.0,1975.0,2020.0,1990.0,1955.0,1940.0,1975.0,1925.0,1920.0,1905.0,1905.0,1915.0,1920.0,1955.0,1900.0,1855.0,1755.0,1665.0,1660.0,1595.0,1675.0,1720.0,1710.0,1740.0,1855.0,1890.0,1970.0,2015.0,2120.0,2005.0,2020.0,2035.0,2070.0,2065.0,2110.0,2110.0,2170.0,2305.0,2270.0,2190.0,2125.0,2090.0,2040.0,2090.0,2195.0,2140.0,2135.0,2110.0,2070.0,2055.0,2090.0,2090.0,2045.0,2130.0,2155.0,2165.0,2100.0,2190.0,2175.0,2220.0,2270.0,2250.0,2155.0,2205.0,2240.0,2235.0,2225.0,2205.0,2170.0,2180.0,2155.0,2160.0,2085.0,2115.0,2170.0,2300.0,2175.0,2175.0,2185.0,2195.0,2195.0,2265.0,2285.0,2240.0,2315.0,2280.0,2250.0,2250.0,2255.0,2285.0,2315.0,2270.0,2290.0,2270.0,2265.0,2200.0,2150.0,2185.0,2255.0,2240.0,2260.0,2245.0,2205.0,2225.0,2205.0,2175.0,2210.0,2320.0,2360.0,2350.0,2345.0,2345.0,2360.0,2375.0,2370.0,2375.0,2250.0,2190.0,2105.0,2105.0,2085.0,2100.0,2165.0,2130.0,2180.0,2185.0,2215.0,2275.0,2230.0,2185.0,2200.0,2200.0,2205.0,2185.0,2200.0,2210.0,2215.0,2220.0,2230.0,2250.0,2210.0,2185.0,2195.0,2210.0,2200.0,2200.0,2210.0,2220.0,2200.0,2155.0,2160.0,2080.0,2125.0,2125.0,2125.0,2125.0,2125.0,2035.0,2100.0,2130.0,2080.0,2010.0,2025.0,2045.0,2050.0,2035.0,2060.0,2040.0,2005.0,1995.0,1995.0,1970.0,1950.0,1960.0,1930.0,1905.0,1910.0,1920.0,1960.0,1965.0,1975.0,1995.0,2035.0,2080.0,2065.0,2065.0,2040.0,2050.0,2075.0,2115.0,2105.0,2075.0,2065.0,2015.0,1985.0,1980.0,2025.0,2000.0,2035.0,2055.0,2070.0,2060.0,2000.0,2010.0,2025.0,2085.0,2145.0,2140.0,2180.0,2285.0,2280.0,2265.0,2290.0,2260.0,2265.0,2360.0,2300.0,2250.0,2235.0,2250.0,2310.0,2255.0,2290.0,2315.0,2340.0,2310.0,2345.0,2370.0,2410.0,2395.0,2355.0,2370.0,2350.0,2385.0,2410.0,2410.0,2380.0,2345.0,2300.0,2305.0,2345.0,2335.0,2295.0,2295.0,2325.0,2305.0,2300.0,2345.0,2350.0,2365.0,2380.0,2345.0,2320.0,2300.0,2335.0,2380.0,2370.0,2385.0,2380.0,2410.0,2395.0,2405.0,2355.0,2410.0,2425.0,2415.0,2440.0,2430.0,2445.0,2455.0,2390.0,2365.0,2380.0,2365.0,2370.0,2370.0,2430.0,2430.0,2420.0,2415.0,2425.0,2430.0,2430.0,2400.0,2405.0,2400.0,2415.0,2440.0,2435.0,2450.0,2430.0,2460.0,2500.0,2490.0,2530.0,2385.0,2225.0,2205.0,2240.0,2275.0,2285.0,2270.0,2270.0,2280.0,2245.0,2175.0,2085.0,2085.0,2130.0,2175.0,2200.0,2225.0,2220.0,2255.0,2260.0,2280.0,2280.0,2295.0,2200.0,2245.0,2250.0,2230.0,2200.0,2170.0,2155.0,2165.0,2220.0,2285.0,2325.0,2335.0,2315.0,2350.0,2405.0,2395.0,2350.0,2355.0,2350.0,2375.0,2375.0,2380.0,2375.0,2370.0,2385.0,2360.0,2350.0,2360.0,2340.0,2345.0,2335.0,2350.0,2340.0,2355.0,2385.0,2395.0,2400.0,2400.0,2365.0,2385.0,2395.0,2400.0,2380.0,2400.0,2355.0,2340.0,2330.0,2365.0,2380.0,2385.0,2370.0,2375.0,2380.0,2370.0,2370.0,2370.0,2375.0,2385.0,2400.0,2405.0,2405.0,2405.0,2400.0,2410.0,2460.0,2540.0,2580.0,2590.0,2560.0,2580.0,2615.0,2540.0,2560.0,2515.0,2570.0,2590.0,2560.0,2605.0,2585.0,2605.0,2585.0,2565.0,2555.0,2540.0,2485.0,2520.0,2575.0,2545.0,2550.0,2600.0,2615.0,2585.0,2580.0,2600.0,2615.0,2655.0,2745.0,2770.0,2800.0,2790.0,2745.0,2830.0,2805.0,2780.0,2735.0,2760.0,2920.0,2875.0,2820.0,2825.0,2820.0,2805.0,2845.0,2895.0,2910.0,2925.0,2920.0,2950.0,2930.0,2860.0,2840.0,2890.0,2900.0,2920.0,2910.0,2920.0,2940.0,2960.0,3010.0,3050.0,3050.0,3050.0,3050.0,3050.0,3050.0,2995.0,3050.0,3025.0,3010.0,3000.0,2945.0,2925.0,2920.0,2955.0,2925.0,2955.0,2930.0,2940.0,2935.0,2935.0,2900.0,2940.0,2940.0,2940.0,2860.0,2885.0,2955.0,2955.0,2960.0,2970.0,2970.0,2985.0,2990.0,2990.0,2980.0,2995.0,3000.0,3000.0,3050.0,2990.0,3000.0,3030.0,3045.0,3030.0,3045.0,3030.0,2980.0,2985.0,3010.0,3025.0,2975.0,2960.0,2945.0,2965.0,2970.0,2985.0,2960.0,2960.0,2960.0,2960.0,2975.0,2990.0,2990.0,3005.0,3015.0,3130.0,3105.0,3030.0,2935.0,2975.0,3050.0,3050.0,3055.0,3025.0,3030.0,3060.0,3050.0,3035.0,3050.0,3060.0,3060.0,3050.0,3060.0,3065.0,3095.0,3110.0,3090.0,3090.0,3120.0,3115.0,3105.0,3110.0,3115.0,3135.0,3180.0,3205.0,3230.0,3250.0,3285.0,3270.0,3260.0,3170.0,3120.0,3150.0,3210.0,3290.0,3270.0,3280.0,3350.0,3340.0,3280.0,3280.0,3300.0,3210.0,3210.0,3260.0,3310.0,3340.0,3380.0,3370.0,3410.0,3410.0,3420.0,3390.0,3380.0,3350.0,3390.0,3390.0,3410.0,3410.0,3460.0,3460.0,3460.0,3560.0,3580.0,3640.0,3610.0,3560.0,3460.0,3520.0,3560.0,3530.0,3500.0,3480.0,3500.0,3540.0,3530.0,3580.0,3590.0,3580.0,3610.0,3670.0,3820.0,3720.0,3780.0,3760.0,3710.0,3630.0,3700.0,3710.0,3650.0,3660.0,3700.0,3680.0,3680.0,3700.0,3810.0,3830.0,3820.0,3840.0,3820.0,3780.0,3750.0,3760.0,3760.0,3730.0,3730.0,3740.0,3780.0,3740.0,3770.0,3700.0,3650.0,3690.0,3680.0,3700.0,3720.0,3700.0,3640.0,3550.0,3670.0,3660.0,3740.0,3660.0,3450.0,3540.0,3570.0,3500.0,3520.0,3600.0,3490.0,3530.0,3460.0,3470.0,3450.0,3480.0,3530.0,3630.0,3570.0,3550.0,3550.0,3550.0,3620.0,3660.0,3660.0,3580.0,3480.0,3490.0,3490.0,3490.0,3160.0,3220.0,3190.0,3140.0,3010.0,2990.0,3020.0,3070.0,3210.0,3160.0,3100.0,3060.0,2950.0,2990.0,2920.0,2750.0,2720.0,2770.0,2920.0,3020.0,3120.0,3250.0,3140.0,3070.0,3080.0,3100.0,3090.0,3090.0,3160.0,3110.0,3140.0,3140.0,3140.0,3140.0,3140.0,3140.0,3140.0,2950.0,2910.0,2870.0,2870.0,2810.0,2830.0,2740.0,2780.0,2820.0,2770.0,2790.0,2860.0,2840.0,2860.0,2980.0,2950.0,2950.0,2960.0,2890.0,2860.0,2850.0,2870.0,2870.0,2990.0,3010.0,2950.0,3030.0,3020.0,3070.0,3000.0,3050.0,3190.0,3230.0,3340.0,3330.0,3310.0,3300.0,3350.0,3130.0,3040.0,3020.0,3050.0,3050.0,3080.0,3120.0,3150.0,3130.0,3230.0,3290.0,3300.0,3250.0,3190.0,3110.0,3160.0,3090.0,2900.0,2910.0,2960.0,2960.0,2970.0,2910.0,2960.0,3000.0,2950.0,2920.0,2970.0,3020.0,3120.0,3000.0,2980.0,2990.0,3000.0,3080.0,3150.0,3080.0,3080.0,2980.0,2960.0,2960.0,2970.0,3010.0,2870.0,2920.0,2960.0,2960.0,3030.0,3050.0,3020.0,3010.0,3010.0,2950.0,2910.0,2980.0,2950.0,2950.0,3030.0,3160.0,3190.0,3220.0,3260.0,3310.0,3390.0,3330.0,3280.0,3230.0,3350.0,3330.0,3420.0,3450.0,3520.0,3350.0,3430.0,3470.0,3450.0,3480.0,3580.0,3680.0,3610.0,3690.0,3680.0,3610.0,3610.0,3610.0,3570.0,3580.0,3590.0,3650.0,3640.0,3600.0,3550.0,3600.0,3610.0,3600.0,3620.0,3620.0,3520.0,3620.0,3650.0,3660.0,3660.0,3590.0,3580.0,3610.0,3660.0,3630.0,3690.0,3710.0,3700.0,3730.0,3740.0,3760.0,3780.0,3790.0,3800.0,3740.0,3730.0,3750.0,3780.0,3750.0,3650.0,3700.0,3800.0,3870.0,3890.0,3900.0,3910.0,3890.0,3850.0,3860.0,3820.0,3780.0,3750.0,3750.0,3790.0,3880.0,3860.0,3830.0,3860.0,3900.0,3910.0,3850.0,3840.0,3860.0,3880.0,3860.0,3860.0,3900.0,3810.0,3830.0,3810.0,3780.0,3780.0,3890.0,3980.0,3970.0,3960.0,3970.0,4000.0,3990.0,4010.0,4040.0,4030.0,4050.0,4130.0,4130.0,4150.0,4140.0,4250.0,4210.0,4260.0,4260.0,4280.0,4280.0,4310.0,4320.0,4340.0,4380.0,4460.0,4410.0,4410.0,4400.0,4260.0,4210.0,4280.0,4340.0,4370.0,4340.0,4310.0,4190.0,4210.0,4180.0,4120.0,4090.0,4100.0,3970.0,3890.0,3820.0,3770.0,3660.0,3710.0,3710.0,3800.0,3770.0,3860.0,3810.0,3860.0,3940.0,3980.0,4100.0,4100.0,4100.0,4100.0,4100.0,4200.0,4150.0,4170.0,4180.0,4170.0,4200.0,4180.0,4280.0,4260.0,4290.0,4290.0,4320.0,4350.0,4350.0,4380.0,4360.0,4360.0,4360.0,4380.0,4370.0,4370.0,4400.0,4480.0,4490.0,4520.0,4500.0,4500.0,4440.0,4440.0,4460.0,4470.0,4440.0,4450.0,4400.0,4440.0,4460.0,4450.0,4410.0,4390.0,4270.0,4020.0,4140.0,4250.0,4300.0,4290.0,4250.0,4310.0,4180.0,4200.0,4130.0,4090.0,4040.0,4000.0,4020.0,4000.0,4080.0,4190.0,4160.0,4120.0,4210.0,4130.0,4100.0,4180.0,4250.0,4170.0,4150.0,4150.0,4270.0,4280.0,4100.0,4130.0,4210.0,4200.0,4130.0,4160.0,4110.0,4020.0,4100.0,4160.0,4110.0,4070.0,3920.0,3810.0,3860.0,3860.0,3890.0,3920.0,3880.0,3910.0,3910.0,3890.0,3940.0,3990.0,4050.0,4110.0,4070.0,4080.0,4180.0,4220.0,4220.0,4180.0,4190.0,4160.0,4150.0,4150.0,4170.0,4160.0,3960.0,3980.0,3950.0,3980.0,3920.0,3900.0,3960.0,4050.0,4080.0,4150.0,4140.0,4160.0,4120.0,4100.0,4100.0,4050.0,4010.0,4120.0,4160.0,4120.0,4170.0,4170.0,4150.0,4130.0,4160.0,4210.0,4240.0,4290.0,4300.0,4350.0,4320.0,4320.0,4360.0,4400.0,4380.0,4360.0,4360.0,4390.0,4320.0,4380.0,4340.0,4370.0,4390.0,4420.0,4520.0,4530.0,4510.0,4600.0,4630.0,4640.0,4670.0,4690.0,4680.0,4640.0,4570.0,4600.0,4580.0,4460.0,4450.0,4520.0,4510.0,4530.0,4540.0,4400.0,4480.0,4520.0,4540.0,4530.0,4470.0,4400.0,4450.0,4510.0,4510.0,4470.0,4460.0,4470.0,4120.0,3910.0,3980.0,4000.0,4130.0,4130.0,4000.0,3750.0,3780.0,3880.0,3600.0,3360.0,3460.0,3260.0,3090.0,2930.0,2730.0,2620.0,2440.0,2500.0,3000.0,3010.0,2970.0,2900.0,2800.0,2830.0,2910.0,2950.0,2820.0,2750.0,2700.0,2770.0,2730.0,2580.0,2660.0,2760.0,2690.0,2650.0,2790.0,2630.0,2610.0,2570.0,2560.0,2610.0,2600.0,2610.0,2600.0,2580.0,2600.0,2470.0,2440.0,2330.0,2210.0,2160.0,2250.0,2320.0,2470.0,2520.0,2640.0,2700.0,2950.0,3010.0,3030.0,2960.0,3170.0,3210.0,3000.0,2900.0,2800.0,2890.0,2960.0,3080.0,3040.0,3060.0,3030.0,2980.0,3010.0,3040.0,3020.0,2980.0,3030.0,3030.0,3040.0,3040.0,3030.0,3030.0,3030.0,3140.0,3100.0,3050.0,3130.0,3130.0,3130.0,3100.0,3030.0,3050.0,3090.0,3100.0,3090.0,3090.0,3100.0,3100.0,3110.0,2970.0,3000.0,3040.0,3090.0,3060.0,3100.0,3130.0,3190.0,3300.0,3280.0,3340.0,3520.0,3520.0,3640.0,3700.0,3660.0,3650.0,3500.0,3480.0,3590.0,3550.0,3480.0,3500.0,3510.0,3380.0,3180.0,3010.0,3300.0,3310.0,3240.0,3170.0,3190.0,3150.0,3100.0,3050.0,3010.0,3040.0,3080.0,3020.0,3000.0,3060.0,3060.0,3110.0,3180.0,3080.0,3110.0,3120.0,3150.0,3150.0,3290.0,3310.0,3210.0,3230.0,3210.0,3230.0,3200.0,3270.0,3290.0,3330.0,3300.0,3360.0,3290.0,3360.0,3470.0,3580.0,3770.0,3950.0,3920.0,3960.0,3930.0,3930.0,3970.0,3980.0,3990.0,4010.0,4080.0,4250.0,4220.0,4270.0,3990.0,4070.0,4250.0,4300.0,4270.0,4350.0,4340.0,4330.0,4260.0,4270.0,4240.0,4300.0,4310.0,4270.0,4210.0,4120.0,3950.0,4160.0,4170.0,4130.0,4150.0,4240.0,4160.0,4210.0,4300.0,4410.0,4670.0,4750.0,4720.0,4550.0,4540.0,4610.0,4650.0,4770.0,4680.0,4610.0,4620.0,4500.0,4420.0,4180.0,3960.0,4260.0,4360.0,4370.0,4420.0,4450.0,4500.0,4600.0,4630.0,4700.0,4660.0,4620.0,4650.0,4600.0,4760.0,4740.0,4710.0,4670.0,4700.0,4720.0,4800.0,4740.0,4730.0,4700.0,4730.0,4560.0,4590.0,4540.0,4560.0,4610.0,4600.0,4690.0,4670.0,4620.0,4650.0,4650.0,4580.0,4620.0,4720.0,4480.0,4260.0,4210.0,4160.0,4150.0,4160.0,4230.0,4350.0,4200.0,4120.0,4220.0,4280.0,4310.0,4310.0,4220.0,4230.0,4200.0,4190.0,4130.0,4150.0,4130.0,4140.0,4050.0,4000.0,4010.0,4080.0,4070.0,4040.0,4050.0,3980.0,3900.0,3890.0,3850.0,3820.0,3860.0,3910.0,4040.0,3950.0,4020.0,4110.0,4230.0,4220.0,4290.0,4210.0,4190.0,4100.0,4260.0,4280.0,4280.0,4210.0,4010.0,3930.0,3910.0,3860.0,3920.0,3940.0,3960.0,3990.0,3930.0,3860.0,3890.0,3910.0,3970.0,3880.0,3890.0,3810.0,3820.0,3780.0,3750.0,3760.0,3700.0,3730.0,3810.0,3780.0,3810.0,3840.0,3830.0,3820.0,3770.0,3720.0,3750.0,3710.0,3700.0,3720.0,3770.0,3900.0,3900.0,3820.0,3810.0,3800.0,3820.0,3840.0,3930.0,3860.0,3830.0,3930.0,3830.0,3499.939453125,3490.848876953125,3481.758056640625,3490.848876953125,3518.12109375,3527.2119140625,3490.848876953125,3463.576416015625,3499.939453125,3518.12109375,3720.0,3650.0,3670.0,3660.0,3660.0,3620.0,3610.0,3570.0,3510.0,3500.0,3520.0,3590.0,3770.0,3730.0,3690.0,3690.0,3750.0,3830.0,3890.0,3910.0,3920.0,4070.0,4130.0,4130.0,4180.0,4220.0,4230.0,4220.0,4340.0,4360.0,4320.0,4320.0,4300.0,4270.0,4260.0,4200.0,4220.0,4220.0,4210.0,4210.0,4250.0,4210.0,4220.0,4220.0,4210.0,4230.0,4210.0,4140.0,4120.0,4160.0,4140.0,4220.0,4250.0,4200.0,4190.0,4180.0,4150.0,4080.0,4090.0,4070.0,4060.0,4170.0,4110.0,4160.0,4170.0,4160.0,4130.0,4160.0,4130.0,4140.0,4120.0,4090.0,4060.0,4080.0,4050.0,4060.0,4050.0,4060.0,4070.0,4070.0,4060.0,4090.0,4160.0,4130.0,4140.0,4150.0,4180.0,4130.0,4130.0,4170.0,4160.0,4180.0,4140.0,4130.0,4110.0,4110.0,4100.0,4000.0,4030.0,4060.0,4090.0,4070.0,4060.0,4130.0,4150.0,4220.0,4400.0,4380.0,4450.0,4380.0,4380.0,4390.0,4410.0,4340.0,4370.0,4440.0,4420.0,4460.0,4370.0,4410.0,4630.0,4550.0,4610.0,4520.0,4430.0,4500.0,4510.0,4370.0,4410.0,4530.0,4610.0,4610.0,4580.0,4560.0,4640.0,4620.0,4620.0,4650.0,4670.0,4670.0,4690.0,4660.0,4630.0,4660.0,4670.0,4600.0,4620.0,4600.0,4570.0,4550.0,4590.0,4530.0,4540.0,4540.0,4600.0,4760.0,4720.0,4670.0,4830.0,4850.0,4860.0,4530.0,4260.0,4480.0,4300.0,4250.0,4270.0,4430.0,4300.0,4410.0,4320.0,4320.0,4350.0,4440.0,4390.0,4450.0,4480.0,4510.0,4400.0,4400.0,4380.0,4480.0,4360.0,4260.0,4300.0,4360.0,4410.0,4350.0,4340.0,4380.0,4310.0,4300.0,4310.0,4270.0,4280.0,4180.0,4120.0,4110.0,3960.0,4040.0,4020.0,4040.0,4050.0,4100.0,4100.0,4030.0,4010.0,4050.0,4080.0,4110.0,4160.0,4230.0,4270.0,4250.0,4260.0,4300.0,4340.0,4340.0,4330.0,4300.0,4350.0,4350.0,4320.0,4340.0,4390.0,4300.0,4340.0,4320.0,4300.0,4270.0,4310.0,4300.0,4270.0,4260.0,4280.0,4270.0,4270.0,4220.0,4250.0,4240.0,4310.0,4380.0,4420.0,4550.0,4460.0,4480.0,4570.0,4560.0,4560.0,4510.0,4590.0,4500.0,4500.0,4490.0,4470.0,4500.0,4480.0,4410.0,4480.0,4480.0,4460.0,4410.0,4480.0,4560.0,4540.0,4510.0,4430.0,4340.0,4370.0,4400.0,4350.0,4270.0,4260.0,4280.0,4280.0,4280.0,4360.0,4430.0,4550.0,4500.0,4530.0,4560.0,4630.0,4630.0,4570.0,4590.0,4610.0,4610.0,4610.0,4600.0,4520.0,4590.0,4550.0,4560.0,4490.0,4500.0,4610.0,4560.0,4570.0,4630.0,4670.0,4690.0,4730.0,4790.0,4800.0,4900.0,4860.0,4860.0,4800.0,4740.0,4710.0,4760.0,4760.0,4840.0,4870.0,4880.0,4820.0,4920.0,4890.0],\"yaxis\":\"y\",\"type\":\"scattergl\"}],                        {\"template\":{\"data\":{\"bar\":[{\"error_x\":{\"color\":\"#2a3f5f\"},\"error_y\":{\"color\":\"#2a3f5f\"},\"marker\":{\"line\":{\"color\":\"#E5ECF6\",\"width\":0.5},\"pattern\":{\"fillmode\":\"overlay\",\"size\":10,\"solidity\":0.2}},\"type\":\"bar\"}],\"barpolar\":[{\"marker\":{\"line\":{\"color\":\"#E5ECF6\",\"width\":0.5},\"pattern\":{\"fillmode\":\"overlay\",\"size\":10,\"solidity\":0.2}},\"type\":\"barpolar\"}],\"carpet\":[{\"aaxis\":{\"endlinecolor\":\"#2a3f5f\",\"gridcolor\":\"white\",\"linecolor\":\"white\",\"minorgridcolor\":\"white\",\"startlinecolor\":\"#2a3f5f\"},\"baxis\":{\"endlinecolor\":\"#2a3f5f\",\"gridcolor\":\"white\",\"linecolor\":\"white\",\"minorgridcolor\":\"white\",\"startlinecolor\":\"#2a3f5f\"},\"type\":\"carpet\"}],\"choropleth\":[{\"colorbar\":{\"outlinewidth\":0,\"ticks\":\"\"},\"type\":\"choropleth\"}],\"contour\":[{\"colorbar\":{\"outlinewidth\":0,\"ticks\":\"\"},\"colorscale\":[[0.0,\"#0d0887\"],[0.1111111111111111,\"#46039f\"],[0.2222222222222222,\"#7201a8\"],[0.3333333333333333,\"#9c179e\"],[0.4444444444444444,\"#bd3786\"],[0.5555555555555556,\"#d8576b\"],[0.6666666666666666,\"#ed7953\"],[0.7777777777777778,\"#fb9f3a\"],[0.8888888888888888,\"#fdca26\"],[1.0,\"#f0f921\"]],\"type\":\"contour\"}],\"contourcarpet\":[{\"colorbar\":{\"outlinewidth\":0,\"ticks\":\"\"},\"type\":\"contourcarpet\"}],\"heatmap\":[{\"colorbar\":{\"outlinewidth\":0,\"ticks\":\"\"},\"colorscale\":[[0.0,\"#0d0887\"],[0.1111111111111111,\"#46039f\"],[0.2222222222222222,\"#7201a8\"],[0.3333333333333333,\"#9c179e\"],[0.4444444444444444,\"#bd3786\"],[0.5555555555555556,\"#d8576b\"],[0.6666666666666666,\"#ed7953\"],[0.7777777777777778,\"#fb9f3a\"],[0.8888888888888888,\"#fdca26\"],[1.0,\"#f0f921\"]],\"type\":\"heatmap\"}],\"heatmapgl\":[{\"colorbar\":{\"outlinewidth\":0,\"ticks\":\"\"},\"colorscale\":[[0.0,\"#0d0887\"],[0.1111111111111111,\"#46039f\"],[0.2222222222222222,\"#7201a8\"],[0.3333333333333333,\"#9c179e\"],[0.4444444444444444,\"#bd3786\"],[0.5555555555555556,\"#d8576b\"],[0.6666666666666666,\"#ed7953\"],[0.7777777777777778,\"#fb9f3a\"],[0.8888888888888888,\"#fdca26\"],[1.0,\"#f0f921\"]],\"type\":\"heatmapgl\"}],\"histogram\":[{\"marker\":{\"pattern\":{\"fillmode\":\"overlay\",\"size\":10,\"solidity\":0.2}},\"type\":\"histogram\"}],\"histogram2d\":[{\"colorbar\":{\"outlinewidth\":0,\"ticks\":\"\"},\"colorscale\":[[0.0,\"#0d0887\"],[0.1111111111111111,\"#46039f\"],[0.2222222222222222,\"#7201a8\"],[0.3333333333333333,\"#9c179e\"],[0.4444444444444444,\"#bd3786\"],[0.5555555555555556,\"#d8576b\"],[0.6666666666666666,\"#ed7953\"],[0.7777777777777778,\"#fb9f3a\"],[0.8888888888888888,\"#fdca26\"],[1.0,\"#f0f921\"]],\"type\":\"histogram2d\"}],\"histogram2dcontour\":[{\"colorbar\":{\"outlinewidth\":0,\"ticks\":\"\"},\"colorscale\":[[0.0,\"#0d0887\"],[0.1111111111111111,\"#46039f\"],[0.2222222222222222,\"#7201a8\"],[0.3333333333333333,\"#9c179e\"],[0.4444444444444444,\"#bd3786\"],[0.5555555555555556,\"#d8576b\"],[0.6666666666666666,\"#ed7953\"],[0.7777777777777778,\"#fb9f3a\"],[0.8888888888888888,\"#fdca26\"],[1.0,\"#f0f921\"]],\"type\":\"histogram2dcontour\"}],\"mesh3d\":[{\"colorbar\":{\"outlinewidth\":0,\"ticks\":\"\"},\"type\":\"mesh3d\"}],\"parcoords\":[{\"line\":{\"colorbar\":{\"outlinewidth\":0,\"ticks\":\"\"}},\"type\":\"parcoords\"}],\"pie\":[{\"automargin\":true,\"type\":\"pie\"}],\"scatter\":[{\"marker\":{\"colorbar\":{\"outlinewidth\":0,\"ticks\":\"\"}},\"type\":\"scatter\"}],\"scatter3d\":[{\"line\":{\"colorbar\":{\"outlinewidth\":0,\"ticks\":\"\"}},\"marker\":{\"colorbar\":{\"outlinewidth\":0,\"ticks\":\"\"}},\"type\":\"scatter3d\"}],\"scattercarpet\":[{\"marker\":{\"colorbar\":{\"outlinewidth\":0,\"ticks\":\"\"}},\"type\":\"scattercarpet\"}],\"scattergeo\":[{\"marker\":{\"colorbar\":{\"outlinewidth\":0,\"ticks\":\"\"}},\"type\":\"scattergeo\"}],\"scattergl\":[{\"marker\":{\"colorbar\":{\"outlinewidth\":0,\"ticks\":\"\"}},\"type\":\"scattergl\"}],\"scattermapbox\":[{\"marker\":{\"colorbar\":{\"outlinewidth\":0,\"ticks\":\"\"}},\"type\":\"scattermapbox\"}],\"scatterpolar\":[{\"marker\":{\"colorbar\":{\"outlinewidth\":0,\"ticks\":\"\"}},\"type\":\"scatterpolar\"}],\"scatterpolargl\":[{\"marker\":{\"colorbar\":{\"outlinewidth\":0,\"ticks\":\"\"}},\"type\":\"scatterpolargl\"}],\"scatterternary\":[{\"marker\":{\"colorbar\":{\"outlinewidth\":0,\"ticks\":\"\"}},\"type\":\"scatterternary\"}],\"surface\":[{\"colorbar\":{\"outlinewidth\":0,\"ticks\":\"\"},\"colorscale\":[[0.0,\"#0d0887\"],[0.1111111111111111,\"#46039f\"],[0.2222222222222222,\"#7201a8\"],[0.3333333333333333,\"#9c179e\"],[0.4444444444444444,\"#bd3786\"],[0.5555555555555556,\"#d8576b\"],[0.6666666666666666,\"#ed7953\"],[0.7777777777777778,\"#fb9f3a\"],[0.8888888888888888,\"#fdca26\"],[1.0,\"#f0f921\"]],\"type\":\"surface\"}],\"table\":[{\"cells\":{\"fill\":{\"color\":\"#EBF0F8\"},\"line\":{\"color\":\"white\"}},\"header\":{\"fill\":{\"color\":\"#C8D4E3\"},\"line\":{\"color\":\"white\"}},\"type\":\"table\"}]},\"layout\":{\"annotationdefaults\":{\"arrowcolor\":\"#2a3f5f\",\"arrowhead\":0,\"arrowwidth\":1},\"autotypenumbers\":\"strict\",\"coloraxis\":{\"colorbar\":{\"outlinewidth\":0,\"ticks\":\"\"}},\"colorscale\":{\"diverging\":[[0,\"#8e0152\"],[0.1,\"#c51b7d\"],[0.2,\"#de77ae\"],[0.3,\"#f1b6da\"],[0.4,\"#fde0ef\"],[0.5,\"#f7f7f7\"],[0.6,\"#e6f5d0\"],[0.7,\"#b8e186\"],[0.8,\"#7fbc41\"],[0.9,\"#4d9221\"],[1,\"#276419\"]],\"sequential\":[[0.0,\"#0d0887\"],[0.1111111111111111,\"#46039f\"],[0.2222222222222222,\"#7201a8\"],[0.3333333333333333,\"#9c179e\"],[0.4444444444444444,\"#bd3786\"],[0.5555555555555556,\"#d8576b\"],[0.6666666666666666,\"#ed7953\"],[0.7777777777777778,\"#fb9f3a\"],[0.8888888888888888,\"#fdca26\"],[1.0,\"#f0f921\"]],\"sequentialminus\":[[0.0,\"#0d0887\"],[0.1111111111111111,\"#46039f\"],[0.2222222222222222,\"#7201a8\"],[0.3333333333333333,\"#9c179e\"],[0.4444444444444444,\"#bd3786\"],[0.5555555555555556,\"#d8576b\"],[0.6666666666666666,\"#ed7953\"],[0.7777777777777778,\"#fb9f3a\"],[0.8888888888888888,\"#fdca26\"],[1.0,\"#f0f921\"]]},\"colorway\":[\"#636efa\",\"#EF553B\",\"#00cc96\",\"#ab63fa\",\"#FFA15A\",\"#19d3f3\",\"#FF6692\",\"#B6E880\",\"#FF97FF\",\"#FECB52\"],\"font\":{\"color\":\"#2a3f5f\"},\"geo\":{\"bgcolor\":\"white\",\"lakecolor\":\"white\",\"landcolor\":\"#E5ECF6\",\"showlakes\":true,\"showland\":true,\"subunitcolor\":\"white\"},\"hoverlabel\":{\"align\":\"left\"},\"hovermode\":\"closest\",\"mapbox\":{\"style\":\"light\"},\"paper_bgcolor\":\"white\",\"plot_bgcolor\":\"#E5ECF6\",\"polar\":{\"angularaxis\":{\"gridcolor\":\"white\",\"linecolor\":\"white\",\"ticks\":\"\"},\"bgcolor\":\"#E5ECF6\",\"radialaxis\":{\"gridcolor\":\"white\",\"linecolor\":\"white\",\"ticks\":\"\"}},\"scene\":{\"xaxis\":{\"backgroundcolor\":\"#E5ECF6\",\"gridcolor\":\"white\",\"gridwidth\":2,\"linecolor\":\"white\",\"showbackground\":true,\"ticks\":\"\",\"zerolinecolor\":\"white\"},\"yaxis\":{\"backgroundcolor\":\"#E5ECF6\",\"gridcolor\":\"white\",\"gridwidth\":2,\"linecolor\":\"white\",\"showbackground\":true,\"ticks\":\"\",\"zerolinecolor\":\"white\"},\"zaxis\":{\"backgroundcolor\":\"#E5ECF6\",\"gridcolor\":\"white\",\"gridwidth\":2,\"linecolor\":\"white\",\"showbackground\":true,\"ticks\":\"\",\"zerolinecolor\":\"white\"}},\"shapedefaults\":{\"line\":{\"color\":\"#2a3f5f\"}},\"ternary\":{\"aaxis\":{\"gridcolor\":\"white\",\"linecolor\":\"white\",\"ticks\":\"\"},\"baxis\":{\"gridcolor\":\"white\",\"linecolor\":\"white\",\"ticks\":\"\"},\"bgcolor\":\"#E5ECF6\",\"caxis\":{\"gridcolor\":\"white\",\"linecolor\":\"white\",\"ticks\":\"\"}},\"title\":{\"x\":0.05},\"xaxis\":{\"automargin\":true,\"gridcolor\":\"white\",\"linecolor\":\"white\",\"ticks\":\"\",\"title\":{\"standoff\":15},\"zerolinecolor\":\"white\",\"zerolinewidth\":2},\"yaxis\":{\"automargin\":true,\"gridcolor\":\"white\",\"linecolor\":\"white\",\"ticks\":\"\",\"title\":{\"standoff\":15},\"zerolinecolor\":\"white\",\"zerolinewidth\":2}}},\"xaxis\":{\"anchor\":\"y\",\"domain\":[0.0,1.0],\"title\":{\"text\":\"Date\"},\"showgrid\":false},\"yaxis\":{\"anchor\":\"x\",\"domain\":[0.0,1.0],\"title\":{\"text\":\"Stock value\"},\"showgrid\":false},\"legend\":{\"title\":{\"text\":\"Stock Parameters\"},\"tracegroupgap\":0},\"margin\":{\"t\":60},\"title\":{\"text\":\"Stock analysis chart\"},\"font\":{\"size\":15,\"color\":\"black\"}},                        {\"responsive\": true}                    ).then(function(){\n",
              "                            \n",
              "var gd = document.getElementById('a6b89082-08c1-40cc-b343-b6d4384d192b');\n",
              "var x = new MutationObserver(function (mutations, observer) {{\n",
              "        var display = window.getComputedStyle(gd).display;\n",
              "        if (!display || display === 'none') {{\n",
              "            console.log([gd, 'removed!']);\n",
              "            Plotly.purge(gd);\n",
              "            observer.disconnect();\n",
              "        }}\n",
              "}});\n",
              "\n",
              "// Listen for the removal of the full notebook cells\n",
              "var notebookContainer = gd.closest('#notebook-container');\n",
              "if (notebookContainer) {{\n",
              "    x.observe(notebookContainer, {childList: true});\n",
              "}}\n",
              "\n",
              "// Listen for the clearing of the current output cell\n",
              "var outputEl = gd.closest('.output');\n",
              "if (outputEl) {{\n",
              "    x.observe(outputEl, {childList: true});\n",
              "}}\n",
              "\n",
              "                        })                };                            </script>        </div>\n",
              "</body>\n",
              "</html>"
            ]
          },
          "metadata": {}
        }
      ],
      "source": [
        "names = cycle(['Stock Open Price','Stock Close Price','Stock High Price','Stock Low Price'])\n",
        "\n",
        "fig = px.line(maindf, x=maindf.date, y=[maindf['open'], maindf['close'], \n",
        "                                          maindf['high'], maindf['low']],\n",
        "             labels={'date': 'Date','value':'Stock value'})\n",
        "fig.update_layout(title_text='Stock analysis chart', font_size=15, font_color='black',legend_title_text='Stock Parameters')\n",
        "fig.for_each_trace(lambda t:  t.update(name = next(names)))\n",
        "fig.update_xaxes(showgrid=False)\n",
        "fig.update_yaxes(showgrid=False)\n",
        "\n",
        "fig.show()"
      ]
    },
    {
      "cell_type": "markdown",
      "metadata": {
        "id": "tRGbxBS1F0-T"
      },
      "source": [
        "From the overall trend comparison between open, close, high and low stock prices, it can be seen that on March 2020, BNI stock price decreased significantly compared to other years."
      ]
    },
    {
      "cell_type": "markdown",
      "metadata": {
        "id": "pKMw7BmzalUz"
      },
      "source": [
        "<a name=\"sc\"></a>\n",
        "\n",
        "**Here, We are going to predict close price for next 30 days**\n",
        "\n",
        "# Prepare Stock Close price"
      ]
    },
    {
      "cell_type": "markdown",
      "metadata": {
        "id": "1UwBTqhEalU0"
      },
      "source": [
        "<a name=\"df\"></a>\n",
        "\n",
        "### Make separate dataframe of close price"
      ]
    },
    {
      "cell_type": "code",
      "execution_count": 19,
      "metadata": {
        "colab": {
          "base_uri": "https://localhost:8080/"
        },
        "execution": {
          "iopub.execute_input": "2021-08-16T08:12:26.137457Z",
          "iopub.status.busy": "2021-08-16T08:12:26.137059Z",
          "iopub.status.idle": "2021-08-16T08:12:26.142726Z",
          "shell.execute_reply": "2021-08-16T08:12:26.142063Z",
          "shell.execute_reply.started": "2021-08-16T08:12:26.137429Z"
        },
        "id": "0vycLTDHalU0",
        "outputId": "984ea8ef-1456-430d-9d39-56f3a2121974",
        "trusted": true
      },
      "outputs": [
        {
          "output_type": "stream",
          "name": "stdout",
          "text": [
            "Shape of close dataframe: (1990, 2)\n"
          ]
        }
      ],
      "source": [
        "closedf = maindf[['date','close']]\n",
        "print(\"Shape of close dataframe:\", closedf.shape)"
      ]
    },
    {
      "cell_type": "markdown",
      "metadata": {
        "id": "rOe2Zd7mGYqS"
      },
      "source": [
        "For the next analysis step, we only used `date` and `close` columns for modeling."
      ]
    },
    {
      "cell_type": "markdown",
      "metadata": {
        "id": "LcOPm0u7alU0"
      },
      "source": [
        "<a name=\"pclose\"></a>\n",
        "\n",
        "### Plotting Stock Close price chart"
      ]
    },
    {
      "cell_type": "code",
      "execution_count": 20,
      "metadata": {
        "colab": {
          "base_uri": "https://localhost:8080/",
          "height": 542
        },
        "execution": {
          "iopub.execute_input": "2021-08-16T08:12:26.144589Z",
          "iopub.status.busy": "2021-08-16T08:12:26.144143Z",
          "iopub.status.idle": "2021-08-16T08:12:26.280334Z",
          "shell.execute_reply": "2021-08-16T08:12:26.27933Z",
          "shell.execute_reply.started": "2021-08-16T08:12:26.144558Z"
        },
        "id": "CzqvdaiBalU0",
        "outputId": "9dbfe483-5263-4a81-eba6-05ecb94ef142",
        "trusted": true
      },
      "outputs": [
        {
          "output_type": "display_data",
          "data": {
            "text/html": [
              "<html>\n",
              "<head><meta charset=\"utf-8\" /></head>\n",
              "<body>\n",
              "    <div>            <script src=\"https://cdnjs.cloudflare.com/ajax/libs/mathjax/2.7.5/MathJax.js?config=TeX-AMS-MML_SVG\"></script><script type=\"text/javascript\">if (window.MathJax) {MathJax.Hub.Config({SVG: {font: \"STIX-Web\"}});}</script>                <script type=\"text/javascript\">window.PlotlyConfig = {MathJaxConfig: 'local'};</script>\n",
              "        <script src=\"https://cdn.plot.ly/plotly-2.8.3.min.js\"></script>                <div id=\"3ed9d2ad-638b-4935-8ad7-63bf3af4aff0\" class=\"plotly-graph-div\" style=\"height:525px; width:100%;\"></div>            <script type=\"text/javascript\">                                    window.PLOTLYENV=window.PLOTLYENV || {};                                    if (document.getElementById(\"3ed9d2ad-638b-4935-8ad7-63bf3af4aff0\")) {                    Plotly.newPlot(                        \"3ed9d2ad-638b-4935-8ad7-63bf3af4aff0\",                        [{\"hovertemplate\":\"Date=%{x}<br>Close Stock=%{y}<extra></extra>\",\"legendgroup\":\"\",\"line\":{\"color\":\"#636efa\",\"dash\":\"solid\"},\"marker\":{\"symbol\":\"circle\",\"line\":{\"width\":2}},\"mode\":\"lines\",\"name\":\"\",\"showlegend\":false,\"x\":[\"2015-01-02T00:00:00\",\"2015-01-05T00:00:00\",\"2015-01-06T00:00:00\",\"2015-01-07T00:00:00\",\"2015-01-08T00:00:00\",\"2015-01-09T00:00:00\",\"2015-01-12T00:00:00\",\"2015-01-13T00:00:00\",\"2015-01-14T00:00:00\",\"2015-01-15T00:00:00\",\"2015-01-16T00:00:00\",\"2015-01-19T00:00:00\",\"2015-01-20T00:00:00\",\"2015-01-21T00:00:00\",\"2015-01-22T00:00:00\",\"2015-01-23T00:00:00\",\"2015-01-26T00:00:00\",\"2015-01-27T00:00:00\",\"2015-01-28T00:00:00\",\"2015-01-29T00:00:00\",\"2015-01-30T00:00:00\",\"2015-02-02T00:00:00\",\"2015-02-03T00:00:00\",\"2015-02-04T00:00:00\",\"2015-02-05T00:00:00\",\"2015-02-06T00:00:00\",\"2015-02-09T00:00:00\",\"2015-02-10T00:00:00\",\"2015-02-11T00:00:00\",\"2015-02-12T00:00:00\",\"2015-02-13T00:00:00\",\"2015-02-16T00:00:00\",\"2015-02-17T00:00:00\",\"2015-02-18T00:00:00\",\"2015-02-20T00:00:00\",\"2015-02-23T00:00:00\",\"2015-02-24T00:00:00\",\"2015-02-25T00:00:00\",\"2015-02-26T00:00:00\",\"2015-02-27T00:00:00\",\"2015-03-02T00:00:00\",\"2015-03-03T00:00:00\",\"2015-03-04T00:00:00\",\"2015-03-05T00:00:00\",\"2015-03-06T00:00:00\",\"2015-03-09T00:00:00\",\"2015-03-10T00:00:00\",\"2015-03-11T00:00:00\",\"2015-03-12T00:00:00\",\"2015-03-13T00:00:00\",\"2015-03-16T00:00:00\",\"2015-03-17T00:00:00\",\"2015-03-18T00:00:00\",\"2015-03-19T00:00:00\",\"2015-03-20T00:00:00\",\"2015-03-23T00:00:00\",\"2015-03-24T00:00:00\",\"2015-03-25T00:00:00\",\"2015-03-26T00:00:00\",\"2015-03-27T00:00:00\",\"2015-03-30T00:00:00\",\"2015-03-31T00:00:00\",\"2015-04-01T00:00:00\",\"2015-04-02T00:00:00\",\"2015-04-06T00:00:00\",\"2015-04-07T00:00:00\",\"2015-04-08T00:00:00\",\"2015-04-09T00:00:00\",\"2015-04-10T00:00:00\",\"2015-04-13T00:00:00\",\"2015-04-14T00:00:00\",\"2015-04-15T00:00:00\",\"2015-04-16T00:00:00\",\"2015-04-17T00:00:00\",\"2015-04-20T00:00:00\",\"2015-04-21T00:00:00\",\"2015-04-22T00:00:00\",\"2015-04-23T00:00:00\",\"2015-04-24T00:00:00\",\"2015-04-27T00:00:00\",\"2015-04-28T00:00:00\",\"2015-04-29T00:00:00\",\"2015-04-30T00:00:00\",\"2015-05-04T00:00:00\",\"2015-05-05T00:00:00\",\"2015-05-06T00:00:00\",\"2015-05-07T00:00:00\",\"2015-05-08T00:00:00\",\"2015-05-11T00:00:00\",\"2015-05-12T00:00:00\",\"2015-05-13T00:00:00\",\"2015-05-15T00:00:00\",\"2015-05-18T00:00:00\",\"2015-05-19T00:00:00\",\"2015-05-20T00:00:00\",\"2015-05-21T00:00:00\",\"2015-05-22T00:00:00\",\"2015-05-25T00:00:00\",\"2015-05-26T00:00:00\",\"2015-05-27T00:00:00\",\"2015-05-28T00:00:00\",\"2015-05-29T00:00:00\",\"2015-06-01T00:00:00\",\"2015-06-03T00:00:00\",\"2015-06-04T00:00:00\",\"2015-06-05T00:00:00\",\"2015-06-08T00:00:00\",\"2015-06-09T00:00:00\",\"2015-06-10T00:00:00\",\"2015-06-11T00:00:00\",\"2015-06-12T00:00:00\",\"2015-06-15T00:00:00\",\"2015-06-16T00:00:00\",\"2015-06-17T00:00:00\",\"2015-06-18T00:00:00\",\"2015-06-19T00:00:00\",\"2015-06-22T00:00:00\",\"2015-06-23T00:00:00\",\"2015-06-24T00:00:00\",\"2015-06-25T00:00:00\",\"2015-06-26T00:00:00\",\"2015-06-29T00:00:00\",\"2015-06-30T00:00:00\",\"2015-07-01T00:00:00\",\"2015-07-02T00:00:00\",\"2015-07-03T00:00:00\",\"2015-07-06T00:00:00\",\"2015-07-07T00:00:00\",\"2015-07-08T00:00:00\",\"2015-07-09T00:00:00\",\"2015-07-10T00:00:00\",\"2015-07-13T00:00:00\",\"2015-07-14T00:00:00\",\"2015-07-15T00:00:00\",\"2015-07-22T00:00:00\",\"2015-07-23T00:00:00\",\"2015-07-24T00:00:00\",\"2015-07-27T00:00:00\",\"2015-07-28T00:00:00\",\"2015-07-29T00:00:00\",\"2015-07-30T00:00:00\",\"2015-07-31T00:00:00\",\"2015-08-03T00:00:00\",\"2015-08-04T00:00:00\",\"2015-08-05T00:00:00\",\"2015-08-06T00:00:00\",\"2015-08-07T00:00:00\",\"2015-08-10T00:00:00\",\"2015-08-11T00:00:00\",\"2015-08-12T00:00:00\",\"2015-08-13T00:00:00\",\"2015-08-14T00:00:00\",\"2015-08-18T00:00:00\",\"2015-08-19T00:00:00\",\"2015-08-20T00:00:00\",\"2015-08-21T00:00:00\",\"2015-08-24T00:00:00\",\"2015-08-25T00:00:00\",\"2015-08-26T00:00:00\",\"2015-08-27T00:00:00\",\"2015-08-28T00:00:00\",\"2015-08-31T00:00:00\",\"2015-09-01T00:00:00\",\"2015-09-02T00:00:00\",\"2015-09-03T00:00:00\",\"2015-09-04T00:00:00\",\"2015-09-07T00:00:00\",\"2015-09-08T00:00:00\",\"2015-09-09T00:00:00\",\"2015-09-10T00:00:00\",\"2015-09-11T00:00:00\",\"2015-09-14T00:00:00\",\"2015-09-15T00:00:00\",\"2015-09-16T00:00:00\",\"2015-09-17T00:00:00\",\"2015-09-18T00:00:00\",\"2015-09-21T00:00:00\",\"2015-09-22T00:00:00\",\"2015-09-23T00:00:00\",\"2015-09-25T00:00:00\",\"2015-09-28T00:00:00\",\"2015-09-29T00:00:00\",\"2015-09-30T00:00:00\",\"2015-10-01T00:00:00\",\"2015-10-02T00:00:00\",\"2015-10-05T00:00:00\",\"2015-10-06T00:00:00\",\"2015-10-07T00:00:00\",\"2015-10-08T00:00:00\",\"2015-10-09T00:00:00\",\"2015-10-12T00:00:00\",\"2015-10-13T00:00:00\",\"2015-10-15T00:00:00\",\"2015-10-16T00:00:00\",\"2015-10-19T00:00:00\",\"2015-10-20T00:00:00\",\"2015-10-21T00:00:00\",\"2015-10-22T00:00:00\",\"2015-10-23T00:00:00\",\"2015-10-26T00:00:00\",\"2015-10-27T00:00:00\",\"2015-10-28T00:00:00\",\"2015-10-29T00:00:00\",\"2015-10-30T00:00:00\",\"2015-11-02T00:00:00\",\"2015-11-03T00:00:00\",\"2015-11-04T00:00:00\",\"2015-11-05T00:00:00\",\"2015-11-06T00:00:00\",\"2015-11-09T00:00:00\",\"2015-11-10T00:00:00\",\"2015-11-11T00:00:00\",\"2015-11-12T00:00:00\",\"2015-11-13T00:00:00\",\"2015-11-16T00:00:00\",\"2015-11-17T00:00:00\",\"2015-11-18T00:00:00\",\"2015-11-19T00:00:00\",\"2015-11-20T00:00:00\",\"2015-11-23T00:00:00\",\"2015-11-24T00:00:00\",\"2015-11-25T00:00:00\",\"2015-11-26T00:00:00\",\"2015-11-27T00:00:00\",\"2015-11-30T00:00:00\",\"2015-12-01T00:00:00\",\"2015-12-02T00:00:00\",\"2015-12-03T00:00:00\",\"2015-12-04T00:00:00\",\"2015-12-07T00:00:00\",\"2015-12-08T00:00:00\",\"2015-12-09T00:00:00\",\"2015-12-10T00:00:00\",\"2015-12-11T00:00:00\",\"2015-12-14T00:00:00\",\"2015-12-15T00:00:00\",\"2015-12-16T00:00:00\",\"2015-12-17T00:00:00\",\"2015-12-18T00:00:00\",\"2015-12-21T00:00:00\",\"2015-12-22T00:00:00\",\"2015-12-23T00:00:00\",\"2015-12-28T00:00:00\",\"2015-12-29T00:00:00\",\"2015-12-30T00:00:00\",\"2016-01-04T00:00:00\",\"2016-01-05T00:00:00\",\"2016-01-06T00:00:00\",\"2016-01-07T00:00:00\",\"2016-01-08T00:00:00\",\"2016-01-11T00:00:00\",\"2016-01-12T00:00:00\",\"2016-01-13T00:00:00\",\"2016-01-14T00:00:00\",\"2016-01-15T00:00:00\",\"2016-01-18T00:00:00\",\"2016-01-19T00:00:00\",\"2016-01-20T00:00:00\",\"2016-01-21T00:00:00\",\"2016-01-22T00:00:00\",\"2016-01-25T00:00:00\",\"2016-01-26T00:00:00\",\"2016-01-27T00:00:00\",\"2016-01-28T00:00:00\",\"2016-01-29T00:00:00\",\"2016-02-01T00:00:00\",\"2016-02-02T00:00:00\",\"2016-02-03T00:00:00\",\"2016-02-04T00:00:00\",\"2016-02-05T00:00:00\",\"2016-02-09T00:00:00\",\"2016-02-10T00:00:00\",\"2016-02-11T00:00:00\",\"2016-02-12T00:00:00\",\"2016-02-15T00:00:00\",\"2016-02-16T00:00:00\",\"2016-02-17T00:00:00\",\"2016-02-18T00:00:00\",\"2016-02-19T00:00:00\",\"2016-02-22T00:00:00\",\"2016-02-23T00:00:00\",\"2016-02-24T00:00:00\",\"2016-02-25T00:00:00\",\"2016-02-26T00:00:00\",\"2016-02-29T00:00:00\",\"2016-03-01T00:00:00\",\"2016-03-02T00:00:00\",\"2016-03-03T00:00:00\",\"2016-03-04T00:00:00\",\"2016-03-07T00:00:00\",\"2016-03-08T00:00:00\",\"2016-03-10T00:00:00\",\"2016-03-11T00:00:00\",\"2016-03-14T00:00:00\",\"2016-03-15T00:00:00\",\"2016-03-16T00:00:00\",\"2016-03-17T00:00:00\",\"2016-03-18T00:00:00\",\"2016-03-21T00:00:00\",\"2016-03-22T00:00:00\",\"2016-03-23T00:00:00\",\"2016-03-24T00:00:00\",\"2016-03-28T00:00:00\",\"2016-03-29T00:00:00\",\"2016-03-30T00:00:00\",\"2016-03-31T00:00:00\",\"2016-04-01T00:00:00\",\"2016-04-04T00:00:00\",\"2016-04-05T00:00:00\",\"2016-04-06T00:00:00\",\"2016-04-07T00:00:00\",\"2016-04-08T00:00:00\",\"2016-04-11T00:00:00\",\"2016-04-12T00:00:00\",\"2016-04-13T00:00:00\",\"2016-04-14T00:00:00\",\"2016-04-15T00:00:00\",\"2016-04-18T00:00:00\",\"2016-04-19T00:00:00\",\"2016-04-20T00:00:00\",\"2016-04-21T00:00:00\",\"2016-04-22T00:00:00\",\"2016-04-25T00:00:00\",\"2016-04-26T00:00:00\",\"2016-04-27T00:00:00\",\"2016-04-28T00:00:00\",\"2016-04-29T00:00:00\",\"2016-05-02T00:00:00\",\"2016-05-03T00:00:00\",\"2016-05-04T00:00:00\",\"2016-05-09T00:00:00\",\"2016-05-10T00:00:00\",\"2016-05-11T00:00:00\",\"2016-05-12T00:00:00\",\"2016-05-13T00:00:00\",\"2016-05-16T00:00:00\",\"2016-05-17T00:00:00\",\"2016-05-18T00:00:00\",\"2016-05-19T00:00:00\",\"2016-05-20T00:00:00\",\"2016-05-23T00:00:00\",\"2016-05-24T00:00:00\",\"2016-05-25T00:00:00\",\"2016-05-26T00:00:00\",\"2016-05-27T00:00:00\",\"2016-05-30T00:00:00\",\"2016-05-31T00:00:00\",\"2016-06-01T00:00:00\",\"2016-06-02T00:00:00\",\"2016-06-03T00:00:00\",\"2016-06-06T00:00:00\",\"2016-06-07T00:00:00\",\"2016-06-08T00:00:00\",\"2016-06-09T00:00:00\",\"2016-06-10T00:00:00\",\"2016-06-13T00:00:00\",\"2016-06-14T00:00:00\",\"2016-06-15T00:00:00\",\"2016-06-16T00:00:00\",\"2016-06-17T00:00:00\",\"2016-06-20T00:00:00\",\"2016-06-21T00:00:00\",\"2016-06-22T00:00:00\",\"2016-06-23T00:00:00\",\"2016-06-24T00:00:00\",\"2016-06-27T00:00:00\",\"2016-06-28T00:00:00\",\"2016-06-29T00:00:00\",\"2016-06-30T00:00:00\",\"2016-07-01T00:00:00\",\"2016-07-11T00:00:00\",\"2016-07-12T00:00:00\",\"2016-07-13T00:00:00\",\"2016-07-14T00:00:00\",\"2016-07-15T00:00:00\",\"2016-07-18T00:00:00\",\"2016-07-19T00:00:00\",\"2016-07-20T00:00:00\",\"2016-07-21T00:00:00\",\"2016-07-22T00:00:00\",\"2016-07-25T00:00:00\",\"2016-07-26T00:00:00\",\"2016-07-27T00:00:00\",\"2016-07-28T00:00:00\",\"2016-07-29T00:00:00\",\"2016-08-01T00:00:00\",\"2016-08-02T00:00:00\",\"2016-08-03T00:00:00\",\"2016-08-04T00:00:00\",\"2016-08-05T00:00:00\",\"2016-08-08T00:00:00\",\"2016-08-09T00:00:00\",\"2016-08-10T00:00:00\",\"2016-08-11T00:00:00\",\"2016-08-12T00:00:00\",\"2016-08-15T00:00:00\",\"2016-08-16T00:00:00\",\"2016-08-18T00:00:00\",\"2016-08-19T00:00:00\",\"2016-08-22T00:00:00\",\"2016-08-23T00:00:00\",\"2016-08-24T00:00:00\",\"2016-08-25T00:00:00\",\"2016-08-26T00:00:00\",\"2016-08-29T00:00:00\",\"2016-08-30T00:00:00\",\"2016-08-31T00:00:00\",\"2016-09-01T00:00:00\",\"2016-09-02T00:00:00\",\"2016-09-05T00:00:00\",\"2016-09-06T00:00:00\",\"2016-09-07T00:00:00\",\"2016-09-08T00:00:00\",\"2016-09-09T00:00:00\",\"2016-09-13T00:00:00\",\"2016-09-14T00:00:00\",\"2016-09-15T00:00:00\",\"2016-09-16T00:00:00\",\"2016-09-19T00:00:00\",\"2016-09-20T00:00:00\",\"2016-09-21T00:00:00\",\"2016-09-22T00:00:00\",\"2016-09-23T00:00:00\",\"2016-09-26T00:00:00\",\"2016-09-27T00:00:00\",\"2016-09-28T00:00:00\",\"2016-09-29T00:00:00\",\"2016-09-30T00:00:00\",\"2016-10-03T00:00:00\",\"2016-10-04T00:00:00\",\"2016-10-05T00:00:00\",\"2016-10-06T00:00:00\",\"2016-10-07T00:00:00\",\"2016-10-10T00:00:00\",\"2016-10-11T00:00:00\",\"2016-10-12T00:00:00\",\"2016-10-13T00:00:00\",\"2016-10-14T00:00:00\",\"2016-10-17T00:00:00\",\"2016-10-18T00:00:00\",\"2016-10-19T00:00:00\",\"2016-10-20T00:00:00\",\"2016-10-21T00:00:00\",\"2016-10-24T00:00:00\",\"2016-10-25T00:00:00\",\"2016-10-26T00:00:00\",\"2016-10-27T00:00:00\",\"2016-10-28T00:00:00\",\"2016-10-31T00:00:00\",\"2016-11-01T00:00:00\",\"2016-11-02T00:00:00\",\"2016-11-03T00:00:00\",\"2016-11-04T00:00:00\",\"2016-11-07T00:00:00\",\"2016-11-08T00:00:00\",\"2016-11-09T00:00:00\",\"2016-11-10T00:00:00\",\"2016-11-11T00:00:00\",\"2016-11-14T00:00:00\",\"2016-11-15T00:00:00\",\"2016-11-16T00:00:00\",\"2016-11-17T00:00:00\",\"2016-11-18T00:00:00\",\"2016-11-21T00:00:00\",\"2016-11-22T00:00:00\",\"2016-11-23T00:00:00\",\"2016-11-24T00:00:00\",\"2016-11-25T00:00:00\",\"2016-11-28T00:00:00\",\"2016-11-29T00:00:00\",\"2016-11-30T00:00:00\",\"2016-12-01T00:00:00\",\"2016-12-02T00:00:00\",\"2016-12-05T00:00:00\",\"2016-12-06T00:00:00\",\"2016-12-07T00:00:00\",\"2016-12-08T00:00:00\",\"2016-12-09T00:00:00\",\"2016-12-13T00:00:00\",\"2016-12-14T00:00:00\",\"2016-12-15T00:00:00\",\"2016-12-16T00:00:00\",\"2016-12-19T00:00:00\",\"2016-12-20T00:00:00\",\"2016-12-21T00:00:00\",\"2016-12-22T00:00:00\",\"2016-12-23T00:00:00\",\"2016-12-27T00:00:00\",\"2016-12-28T00:00:00\",\"2016-12-29T00:00:00\",\"2016-12-30T00:00:00\",\"2017-01-02T00:00:00\",\"2017-01-03T00:00:00\",\"2017-01-04T00:00:00\",\"2017-01-05T00:00:00\",\"2017-01-06T00:00:00\",\"2017-01-09T00:00:00\",\"2017-01-10T00:00:00\",\"2017-01-11T00:00:00\",\"2017-01-12T00:00:00\",\"2017-01-13T00:00:00\",\"2017-01-16T00:00:00\",\"2017-01-17T00:00:00\",\"2017-01-18T00:00:00\",\"2017-01-19T00:00:00\",\"2017-01-20T00:00:00\",\"2017-01-23T00:00:00\",\"2017-01-24T00:00:00\",\"2017-01-25T00:00:00\",\"2017-01-26T00:00:00\",\"2017-01-27T00:00:00\",\"2017-01-30T00:00:00\",\"2017-01-31T00:00:00\",\"2017-02-01T00:00:00\",\"2017-02-02T00:00:00\",\"2017-02-03T00:00:00\",\"2017-02-06T00:00:00\",\"2017-02-07T00:00:00\",\"2017-02-08T00:00:00\",\"2017-02-09T00:00:00\",\"2017-02-10T00:00:00\",\"2017-02-13T00:00:00\",\"2017-02-14T00:00:00\",\"2017-02-15T00:00:00\",\"2017-02-16T00:00:00\",\"2017-02-17T00:00:00\",\"2017-02-20T00:00:00\",\"2017-02-21T00:00:00\",\"2017-02-22T00:00:00\",\"2017-02-23T00:00:00\",\"2017-02-24T00:00:00\",\"2017-02-27T00:00:00\",\"2017-02-28T00:00:00\",\"2017-03-01T00:00:00\",\"2017-03-02T00:00:00\",\"2017-03-03T00:00:00\",\"2017-03-06T00:00:00\",\"2017-03-07T00:00:00\",\"2017-03-08T00:00:00\",\"2017-03-09T00:00:00\",\"2017-03-10T00:00:00\",\"2017-03-13T00:00:00\",\"2017-03-14T00:00:00\",\"2017-03-15T00:00:00\",\"2017-03-16T00:00:00\",\"2017-03-17T00:00:00\",\"2017-03-20T00:00:00\",\"2017-03-21T00:00:00\",\"2017-03-22T00:00:00\",\"2017-03-23T00:00:00\",\"2017-03-24T00:00:00\",\"2017-03-27T00:00:00\",\"2017-03-29T00:00:00\",\"2017-03-30T00:00:00\",\"2017-03-31T00:00:00\",\"2017-04-03T00:00:00\",\"2017-04-04T00:00:00\",\"2017-04-05T00:00:00\",\"2017-04-06T00:00:00\",\"2017-04-07T00:00:00\",\"2017-04-10T00:00:00\",\"2017-04-11T00:00:00\",\"2017-04-12T00:00:00\",\"2017-04-13T00:00:00\",\"2017-04-17T00:00:00\",\"2017-04-18T00:00:00\",\"2017-04-19T00:00:00\",\"2017-04-20T00:00:00\",\"2017-04-21T00:00:00\",\"2017-04-25T00:00:00\",\"2017-04-26T00:00:00\",\"2017-04-27T00:00:00\",\"2017-04-28T00:00:00\",\"2017-05-02T00:00:00\",\"2017-05-03T00:00:00\",\"2017-05-04T00:00:00\",\"2017-05-05T00:00:00\",\"2017-05-08T00:00:00\",\"2017-05-09T00:00:00\",\"2017-05-10T00:00:00\",\"2017-05-12T00:00:00\",\"2017-05-15T00:00:00\",\"2017-05-16T00:00:00\",\"2017-05-17T00:00:00\",\"2017-05-18T00:00:00\",\"2017-05-19T00:00:00\",\"2017-05-22T00:00:00\",\"2017-05-23T00:00:00\",\"2017-05-24T00:00:00\",\"2017-05-26T00:00:00\",\"2017-05-29T00:00:00\",\"2017-05-30T00:00:00\",\"2017-05-31T00:00:00\",\"2017-06-01T00:00:00\",\"2017-06-02T00:00:00\",\"2017-06-05T00:00:00\",\"2017-06-06T00:00:00\",\"2017-06-07T00:00:00\",\"2017-06-08T00:00:00\",\"2017-06-09T00:00:00\",\"2017-06-12T00:00:00\",\"2017-06-13T00:00:00\",\"2017-06-14T00:00:00\",\"2017-06-15T00:00:00\",\"2017-06-16T00:00:00\",\"2017-06-19T00:00:00\",\"2017-06-20T00:00:00\",\"2017-06-21T00:00:00\",\"2017-06-22T00:00:00\",\"2017-06-23T00:00:00\",\"2017-06-26T00:00:00\",\"2017-06-27T00:00:00\",\"2017-06-28T00:00:00\",\"2017-06-29T00:00:00\",\"2017-06-30T00:00:00\",\"2017-07-03T00:00:00\",\"2017-07-04T00:00:00\",\"2017-07-05T00:00:00\",\"2017-07-06T00:00:00\",\"2017-07-07T00:00:00\",\"2017-07-10T00:00:00\",\"2017-07-11T00:00:00\",\"2017-07-12T00:00:00\",\"2017-07-13T00:00:00\",\"2017-07-14T00:00:00\",\"2017-07-17T00:00:00\",\"2017-07-18T00:00:00\",\"2017-07-19T00:00:00\",\"2017-07-20T00:00:00\",\"2017-07-21T00:00:00\",\"2017-07-24T00:00:00\",\"2017-07-25T00:00:00\",\"2017-07-26T00:00:00\",\"2017-07-27T00:00:00\",\"2017-07-28T00:00:00\",\"2017-07-31T00:00:00\",\"2017-08-01T00:00:00\",\"2017-08-02T00:00:00\",\"2017-08-03T00:00:00\",\"2017-08-04T00:00:00\",\"2017-08-07T00:00:00\",\"2017-08-08T00:00:00\",\"2017-08-09T00:00:00\",\"2017-08-10T00:00:00\",\"2017-08-11T00:00:00\",\"2017-08-14T00:00:00\",\"2017-08-15T00:00:00\",\"2017-08-16T00:00:00\",\"2017-08-17T00:00:00\",\"2017-08-18T00:00:00\",\"2017-08-21T00:00:00\",\"2017-08-22T00:00:00\",\"2017-08-23T00:00:00\",\"2017-08-24T00:00:00\",\"2017-08-25T00:00:00\",\"2017-08-28T00:00:00\",\"2017-08-29T00:00:00\",\"2017-08-30T00:00:00\",\"2017-08-31T00:00:00\",\"2017-09-01T00:00:00\",\"2017-09-04T00:00:00\",\"2017-09-05T00:00:00\",\"2017-09-06T00:00:00\",\"2017-09-07T00:00:00\",\"2017-09-08T00:00:00\",\"2017-09-11T00:00:00\",\"2017-09-12T00:00:00\",\"2017-09-13T00:00:00\",\"2017-09-14T00:00:00\",\"2017-09-15T00:00:00\",\"2017-09-18T00:00:00\",\"2017-09-19T00:00:00\",\"2017-09-20T00:00:00\",\"2017-09-21T00:00:00\",\"2017-09-22T00:00:00\",\"2017-09-25T00:00:00\",\"2017-09-26T00:00:00\",\"2017-09-27T00:00:00\",\"2017-09-28T00:00:00\",\"2017-09-29T00:00:00\",\"2017-10-02T00:00:00\",\"2017-10-03T00:00:00\",\"2017-10-04T00:00:00\",\"2017-10-05T00:00:00\",\"2017-10-06T00:00:00\",\"2017-10-09T00:00:00\",\"2017-10-10T00:00:00\",\"2017-10-11T00:00:00\",\"2017-10-12T00:00:00\",\"2017-10-13T00:00:00\",\"2017-10-16T00:00:00\",\"2017-10-17T00:00:00\",\"2017-10-18T00:00:00\",\"2017-10-19T00:00:00\",\"2017-10-20T00:00:00\",\"2017-10-23T00:00:00\",\"2017-10-24T00:00:00\",\"2017-10-25T00:00:00\",\"2017-10-26T00:00:00\",\"2017-10-27T00:00:00\",\"2017-10-30T00:00:00\",\"2017-10-31T00:00:00\",\"2017-11-01T00:00:00\",\"2017-11-02T00:00:00\",\"2017-11-03T00:00:00\",\"2017-11-06T00:00:00\",\"2017-11-07T00:00:00\",\"2017-11-08T00:00:00\",\"2017-11-09T00:00:00\",\"2017-11-10T00:00:00\",\"2017-11-13T00:00:00\",\"2017-11-14T00:00:00\",\"2017-11-15T00:00:00\",\"2017-11-16T00:00:00\",\"2017-11-17T00:00:00\",\"2017-11-20T00:00:00\",\"2017-11-21T00:00:00\",\"2017-11-22T00:00:00\",\"2017-11-23T00:00:00\",\"2017-11-24T00:00:00\",\"2017-11-27T00:00:00\",\"2017-11-28T00:00:00\",\"2017-11-29T00:00:00\",\"2017-11-30T00:00:00\",\"2017-12-01T00:00:00\",\"2017-12-04T00:00:00\",\"2017-12-05T00:00:00\",\"2017-12-06T00:00:00\",\"2017-12-07T00:00:00\",\"2017-12-08T00:00:00\",\"2017-12-11T00:00:00\",\"2017-12-12T00:00:00\",\"2017-12-13T00:00:00\",\"2017-12-14T00:00:00\",\"2017-12-15T00:00:00\",\"2017-12-18T00:00:00\",\"2017-12-19T00:00:00\",\"2017-12-20T00:00:00\",\"2017-12-21T00:00:00\",\"2017-12-22T00:00:00\",\"2017-12-25T00:00:00\",\"2017-12-26T00:00:00\",\"2017-12-27T00:00:00\",\"2017-12-28T00:00:00\",\"2017-12-29T00:00:00\",\"2018-01-01T00:00:00\",\"2018-01-02T00:00:00\",\"2018-01-03T00:00:00\",\"2018-01-04T00:00:00\",\"2018-01-05T00:00:00\",\"2018-01-08T00:00:00\",\"2018-01-09T00:00:00\",\"2018-01-10T00:00:00\",\"2018-01-11T00:00:00\",\"2018-01-12T00:00:00\",\"2018-01-15T00:00:00\",\"2018-01-16T00:00:00\",\"2018-01-17T00:00:00\",\"2018-01-18T00:00:00\",\"2018-01-19T00:00:00\",\"2018-01-22T00:00:00\",\"2018-01-23T00:00:00\",\"2018-01-24T00:00:00\",\"2018-01-25T00:00:00\",\"2018-01-26T00:00:00\",\"2018-01-29T00:00:00\",\"2018-01-30T00:00:00\",\"2018-01-31T00:00:00\",\"2018-02-01T00:00:00\",\"2018-02-02T00:00:00\",\"2018-02-05T00:00:00\",\"2018-02-06T00:00:00\",\"2018-02-07T00:00:00\",\"2018-02-08T00:00:00\",\"2018-02-09T00:00:00\",\"2018-02-12T00:00:00\",\"2018-02-13T00:00:00\",\"2018-02-14T00:00:00\",\"2018-02-15T00:00:00\",\"2018-02-16T00:00:00\",\"2018-02-19T00:00:00\",\"2018-02-20T00:00:00\",\"2018-02-21T00:00:00\",\"2018-02-22T00:00:00\",\"2018-02-23T00:00:00\",\"2018-02-26T00:00:00\",\"2018-02-27T00:00:00\",\"2018-02-28T00:00:00\",\"2018-03-01T00:00:00\",\"2018-03-02T00:00:00\",\"2018-03-05T00:00:00\",\"2018-03-06T00:00:00\",\"2018-03-07T00:00:00\",\"2018-03-08T00:00:00\",\"2018-03-09T00:00:00\",\"2018-03-12T00:00:00\",\"2018-03-13T00:00:00\",\"2018-03-14T00:00:00\",\"2018-03-15T00:00:00\",\"2018-03-16T00:00:00\",\"2018-03-19T00:00:00\",\"2018-03-20T00:00:00\",\"2018-03-21T00:00:00\",\"2018-03-22T00:00:00\",\"2018-03-23T00:00:00\",\"2018-03-26T00:00:00\",\"2018-03-27T00:00:00\",\"2018-03-28T00:00:00\",\"2018-03-29T00:00:00\",\"2018-03-30T00:00:00\",\"2018-04-02T00:00:00\",\"2018-04-03T00:00:00\",\"2018-04-04T00:00:00\",\"2018-04-05T00:00:00\",\"2018-04-06T00:00:00\",\"2018-04-09T00:00:00\",\"2018-04-10T00:00:00\",\"2018-04-11T00:00:00\",\"2018-04-12T00:00:00\",\"2018-04-13T00:00:00\",\"2018-04-16T00:00:00\",\"2018-04-17T00:00:00\",\"2018-04-18T00:00:00\",\"2018-04-19T00:00:00\",\"2018-04-20T00:00:00\",\"2018-04-23T00:00:00\",\"2018-04-24T00:00:00\",\"2018-04-25T00:00:00\",\"2018-04-26T00:00:00\",\"2018-04-27T00:00:00\",\"2018-04-30T00:00:00\",\"2018-05-01T00:00:00\",\"2018-05-02T00:00:00\",\"2018-05-03T00:00:00\",\"2018-05-04T00:00:00\",\"2018-05-07T00:00:00\",\"2018-05-08T00:00:00\",\"2018-05-09T00:00:00\",\"2018-05-10T00:00:00\",\"2018-05-11T00:00:00\",\"2018-05-14T00:00:00\",\"2018-05-15T00:00:00\",\"2018-05-16T00:00:00\",\"2018-05-17T00:00:00\",\"2018-05-18T00:00:00\",\"2018-05-21T00:00:00\",\"2018-05-22T00:00:00\",\"2018-05-23T00:00:00\",\"2018-05-24T00:00:00\",\"2018-05-25T00:00:00\",\"2018-05-28T00:00:00\",\"2018-05-29T00:00:00\",\"2018-05-30T00:00:00\",\"2018-05-31T00:00:00\",\"2018-06-01T00:00:00\",\"2018-06-04T00:00:00\",\"2018-06-05T00:00:00\",\"2018-06-06T00:00:00\",\"2018-06-07T00:00:00\",\"2018-06-08T00:00:00\",\"2018-06-11T00:00:00\",\"2018-06-12T00:00:00\",\"2018-06-13T00:00:00\",\"2018-06-14T00:00:00\",\"2018-06-15T00:00:00\",\"2018-06-18T00:00:00\",\"2018-06-19T00:00:00\",\"2018-06-20T00:00:00\",\"2018-06-21T00:00:00\",\"2018-06-22T00:00:00\",\"2018-06-25T00:00:00\",\"2018-06-26T00:00:00\",\"2018-06-27T00:00:00\",\"2018-06-28T00:00:00\",\"2018-06-29T00:00:00\",\"2018-07-02T00:00:00\",\"2018-07-03T00:00:00\",\"2018-07-04T00:00:00\",\"2018-07-05T00:00:00\",\"2018-07-06T00:00:00\",\"2018-07-09T00:00:00\",\"2018-07-10T00:00:00\",\"2018-07-11T00:00:00\",\"2018-07-12T00:00:00\",\"2018-07-13T00:00:00\",\"2018-07-16T00:00:00\",\"2018-07-17T00:00:00\",\"2018-07-18T00:00:00\",\"2018-07-19T00:00:00\",\"2018-07-20T00:00:00\",\"2018-07-23T00:00:00\",\"2018-07-24T00:00:00\",\"2018-07-25T00:00:00\",\"2018-07-26T00:00:00\",\"2018-07-27T00:00:00\",\"2018-07-30T00:00:00\",\"2018-07-31T00:00:00\",\"2018-08-01T00:00:00\",\"2018-08-02T00:00:00\",\"2018-08-03T00:00:00\",\"2018-08-06T00:00:00\",\"2018-08-07T00:00:00\",\"2018-08-08T00:00:00\",\"2018-08-09T00:00:00\",\"2018-08-10T00:00:00\",\"2018-08-13T00:00:00\",\"2018-08-14T00:00:00\",\"2018-08-15T00:00:00\",\"2018-08-16T00:00:00\",\"2018-08-17T00:00:00\",\"2018-08-20T00:00:00\",\"2018-08-21T00:00:00\",\"2018-08-22T00:00:00\",\"2018-08-23T00:00:00\",\"2018-08-24T00:00:00\",\"2018-08-27T00:00:00\",\"2018-08-28T00:00:00\",\"2018-08-29T00:00:00\",\"2018-08-30T00:00:00\",\"2018-08-31T00:00:00\",\"2018-09-03T00:00:00\",\"2018-09-04T00:00:00\",\"2018-09-05T00:00:00\",\"2018-09-06T00:00:00\",\"2018-09-07T00:00:00\",\"2018-09-10T00:00:00\",\"2018-09-11T00:00:00\",\"2018-09-12T00:00:00\",\"2018-09-13T00:00:00\",\"2018-09-14T00:00:00\",\"2018-09-17T00:00:00\",\"2018-09-18T00:00:00\",\"2018-09-19T00:00:00\",\"2018-09-20T00:00:00\",\"2018-09-21T00:00:00\",\"2018-09-24T00:00:00\",\"2018-09-25T00:00:00\",\"2018-09-26T00:00:00\",\"2018-09-27T00:00:00\",\"2018-09-28T00:00:00\",\"2018-10-01T00:00:00\",\"2018-10-02T00:00:00\",\"2018-10-03T00:00:00\",\"2018-10-04T00:00:00\",\"2018-10-05T00:00:00\",\"2018-10-08T00:00:00\",\"2018-10-09T00:00:00\",\"2018-10-10T00:00:00\",\"2018-10-11T00:00:00\",\"2018-10-12T00:00:00\",\"2018-10-15T00:00:00\",\"2018-10-16T00:00:00\",\"2018-10-17T00:00:00\",\"2018-10-18T00:00:00\",\"2018-10-19T00:00:00\",\"2018-10-22T00:00:00\",\"2018-10-23T00:00:00\",\"2018-10-24T00:00:00\",\"2018-10-25T00:00:00\",\"2018-10-26T00:00:00\",\"2018-10-29T00:00:00\",\"2018-10-30T00:00:00\",\"2018-10-31T00:00:00\",\"2018-11-01T00:00:00\",\"2018-11-02T00:00:00\",\"2018-11-05T00:00:00\",\"2018-11-06T00:00:00\",\"2018-11-07T00:00:00\",\"2018-11-08T00:00:00\",\"2018-11-09T00:00:00\",\"2018-11-12T00:00:00\",\"2018-11-13T00:00:00\",\"2018-11-14T00:00:00\",\"2018-11-15T00:00:00\",\"2018-11-16T00:00:00\",\"2018-11-19T00:00:00\",\"2018-11-20T00:00:00\",\"2018-11-21T00:00:00\",\"2018-11-22T00:00:00\",\"2018-11-23T00:00:00\",\"2018-11-26T00:00:00\",\"2018-11-27T00:00:00\",\"2018-11-28T00:00:00\",\"2018-11-29T00:00:00\",\"2018-11-30T00:00:00\",\"2018-12-03T00:00:00\",\"2018-12-04T00:00:00\",\"2018-12-05T00:00:00\",\"2018-12-06T00:00:00\",\"2018-12-07T00:00:00\",\"2018-12-10T00:00:00\",\"2018-12-11T00:00:00\",\"2018-12-12T00:00:00\",\"2018-12-13T00:00:00\",\"2018-12-14T00:00:00\",\"2018-12-17T00:00:00\",\"2018-12-18T00:00:00\",\"2018-12-19T00:00:00\",\"2018-12-20T00:00:00\",\"2018-12-21T00:00:00\",\"2018-12-24T00:00:00\",\"2018-12-25T00:00:00\",\"2018-12-26T00:00:00\",\"2018-12-27T00:00:00\",\"2018-12-28T00:00:00\",\"2018-12-31T00:00:00\",\"2019-01-01T00:00:00\",\"2019-01-02T00:00:00\",\"2019-01-03T00:00:00\",\"2019-01-04T00:00:00\",\"2019-01-07T00:00:00\",\"2019-01-08T00:00:00\",\"2019-01-09T00:00:00\",\"2019-01-10T00:00:00\",\"2019-01-11T00:00:00\",\"2019-01-14T00:00:00\",\"2019-01-15T00:00:00\",\"2019-01-16T00:00:00\",\"2019-01-17T00:00:00\",\"2019-01-18T00:00:00\",\"2019-01-21T00:00:00\",\"2019-01-22T00:00:00\",\"2019-01-23T00:00:00\",\"2019-01-24T00:00:00\",\"2019-01-25T00:00:00\",\"2019-01-28T00:00:00\",\"2019-01-29T00:00:00\",\"2019-01-30T00:00:00\",\"2019-01-31T00:00:00\",\"2019-02-01T00:00:00\",\"2019-02-04T00:00:00\",\"2019-02-05T00:00:00\",\"2019-02-06T00:00:00\",\"2019-02-07T00:00:00\",\"2019-02-08T00:00:00\",\"2019-02-11T00:00:00\",\"2019-02-12T00:00:00\",\"2019-02-13T00:00:00\",\"2019-02-14T00:00:00\",\"2019-02-15T00:00:00\",\"2019-02-18T00:00:00\",\"2019-02-19T00:00:00\",\"2019-02-20T00:00:00\",\"2019-02-21T00:00:00\",\"2019-02-22T00:00:00\",\"2019-02-25T00:00:00\",\"2019-02-26T00:00:00\",\"2019-02-27T00:00:00\",\"2019-02-28T00:00:00\",\"2019-03-01T00:00:00\",\"2019-03-04T00:00:00\",\"2019-03-05T00:00:00\",\"2019-03-06T00:00:00\",\"2019-03-07T00:00:00\",\"2019-03-08T00:00:00\",\"2019-03-11T00:00:00\",\"2019-03-12T00:00:00\",\"2019-03-13T00:00:00\",\"2019-03-14T00:00:00\",\"2019-03-15T00:00:00\",\"2019-03-18T00:00:00\",\"2019-03-19T00:00:00\",\"2019-03-20T00:00:00\",\"2019-03-21T00:00:00\",\"2019-03-22T00:00:00\",\"2019-03-25T00:00:00\",\"2019-03-26T00:00:00\",\"2019-03-27T00:00:00\",\"2019-03-28T00:00:00\",\"2019-03-29T00:00:00\",\"2019-04-01T00:00:00\",\"2019-04-02T00:00:00\",\"2019-04-03T00:00:00\",\"2019-04-04T00:00:00\",\"2019-04-05T00:00:00\",\"2019-04-08T00:00:00\",\"2019-04-09T00:00:00\",\"2019-04-10T00:00:00\",\"2019-04-11T00:00:00\",\"2019-04-12T00:00:00\",\"2019-04-15T00:00:00\",\"2019-04-16T00:00:00\",\"2019-04-17T00:00:00\",\"2019-04-18T00:00:00\",\"2019-04-19T00:00:00\",\"2019-04-22T00:00:00\",\"2019-04-23T00:00:00\",\"2019-04-24T00:00:00\",\"2019-04-25T00:00:00\",\"2019-04-26T00:00:00\",\"2019-04-29T00:00:00\",\"2019-04-30T00:00:00\",\"2019-05-01T00:00:00\",\"2019-05-02T00:00:00\",\"2019-05-03T00:00:00\",\"2019-05-06T00:00:00\",\"2019-05-07T00:00:00\",\"2019-05-08T00:00:00\",\"2019-05-09T00:00:00\",\"2019-05-10T00:00:00\",\"2019-05-13T00:00:00\",\"2019-05-14T00:00:00\",\"2019-05-15T00:00:00\",\"2019-05-16T00:00:00\",\"2019-05-17T00:00:00\",\"2019-05-20T00:00:00\",\"2019-05-21T00:00:00\",\"2019-05-22T00:00:00\",\"2019-05-23T00:00:00\",\"2019-05-24T00:00:00\",\"2019-05-27T00:00:00\",\"2019-05-28T00:00:00\",\"2019-05-29T00:00:00\",\"2019-05-30T00:00:00\",\"2019-05-31T00:00:00\",\"2019-06-03T00:00:00\",\"2019-06-04T00:00:00\",\"2019-06-05T00:00:00\",\"2019-06-06T00:00:00\",\"2019-06-07T00:00:00\",\"2019-06-10T00:00:00\",\"2019-06-11T00:00:00\",\"2019-06-12T00:00:00\",\"2019-06-13T00:00:00\",\"2019-06-14T00:00:00\",\"2019-06-17T00:00:00\",\"2019-06-18T00:00:00\",\"2019-06-20T00:00:00\",\"2019-06-21T00:00:00\",\"2019-06-24T00:00:00\",\"2019-06-25T00:00:00\",\"2019-06-26T00:00:00\",\"2019-06-27T00:00:00\",\"2019-06-28T00:00:00\",\"2019-07-01T00:00:00\",\"2019-07-02T00:00:00\",\"2019-07-03T00:00:00\",\"2019-07-04T00:00:00\",\"2019-07-05T00:00:00\",\"2019-07-08T00:00:00\",\"2019-07-09T00:00:00\",\"2019-07-10T00:00:00\",\"2019-07-11T00:00:00\",\"2019-07-12T00:00:00\",\"2019-07-15T00:00:00\",\"2019-07-16T00:00:00\",\"2019-07-17T00:00:00\",\"2019-07-18T00:00:00\",\"2019-07-19T00:00:00\",\"2019-07-22T00:00:00\",\"2019-07-23T00:00:00\",\"2019-07-24T00:00:00\",\"2019-07-25T00:00:00\",\"2019-07-26T00:00:00\",\"2019-07-29T00:00:00\",\"2019-07-30T00:00:00\",\"2019-07-31T00:00:00\",\"2019-08-01T00:00:00\",\"2019-08-02T00:00:00\",\"2019-08-05T00:00:00\",\"2019-08-06T00:00:00\",\"2019-08-07T00:00:00\",\"2019-08-08T00:00:00\",\"2019-08-09T00:00:00\",\"2019-08-12T00:00:00\",\"2019-08-13T00:00:00\",\"2019-08-14T00:00:00\",\"2019-08-15T00:00:00\",\"2019-08-16T00:00:00\",\"2019-08-19T00:00:00\",\"2019-08-20T00:00:00\",\"2019-08-21T00:00:00\",\"2019-08-22T00:00:00\",\"2019-08-23T00:00:00\",\"2019-08-26T00:00:00\",\"2019-08-27T00:00:00\",\"2019-08-28T00:00:00\",\"2019-08-29T00:00:00\",\"2019-08-30T00:00:00\",\"2019-09-02T00:00:00\",\"2019-09-03T00:00:00\",\"2019-09-04T00:00:00\",\"2019-09-05T00:00:00\",\"2019-09-06T00:00:00\",\"2019-09-09T00:00:00\",\"2019-09-10T00:00:00\",\"2019-09-11T00:00:00\",\"2019-09-12T00:00:00\",\"2019-09-13T00:00:00\",\"2019-09-16T00:00:00\",\"2019-09-17T00:00:00\",\"2019-09-18T00:00:00\",\"2019-09-19T00:00:00\",\"2019-09-20T00:00:00\",\"2019-09-23T00:00:00\",\"2019-09-24T00:00:00\",\"2019-09-25T00:00:00\",\"2019-09-26T00:00:00\",\"2019-09-27T00:00:00\",\"2019-09-30T00:00:00\",\"2019-10-01T00:00:00\",\"2019-10-02T00:00:00\",\"2019-10-03T00:00:00\",\"2019-10-04T00:00:00\",\"2019-10-07T00:00:00\",\"2019-10-08T00:00:00\",\"2019-10-09T00:00:00\",\"2019-10-10T00:00:00\",\"2019-10-11T00:00:00\",\"2019-10-14T00:00:00\",\"2019-10-15T00:00:00\",\"2019-10-16T00:00:00\",\"2019-10-17T00:00:00\",\"2019-10-18T00:00:00\",\"2019-10-21T00:00:00\",\"2019-10-22T00:00:00\",\"2019-10-23T00:00:00\",\"2019-10-24T00:00:00\",\"2019-10-25T00:00:00\",\"2019-10-28T00:00:00\",\"2019-10-29T00:00:00\",\"2019-10-30T00:00:00\",\"2019-10-31T00:00:00\",\"2019-11-01T00:00:00\",\"2019-11-04T00:00:00\",\"2019-11-05T00:00:00\",\"2019-11-06T00:00:00\",\"2019-11-07T00:00:00\",\"2019-11-08T00:00:00\",\"2019-11-11T00:00:00\",\"2019-11-12T00:00:00\",\"2019-11-13T00:00:00\",\"2019-11-14T00:00:00\",\"2019-11-15T00:00:00\",\"2019-11-18T00:00:00\",\"2019-11-19T00:00:00\",\"2019-11-20T00:00:00\",\"2019-11-21T00:00:00\",\"2019-11-22T00:00:00\",\"2019-11-25T00:00:00\",\"2019-11-26T00:00:00\",\"2019-11-27T00:00:00\",\"2019-11-28T00:00:00\",\"2019-11-29T00:00:00\",\"2019-12-02T00:00:00\",\"2019-12-03T00:00:00\",\"2019-12-04T00:00:00\",\"2019-12-05T00:00:00\",\"2019-12-06T00:00:00\",\"2019-12-09T00:00:00\",\"2019-12-10T00:00:00\",\"2019-12-11T00:00:00\",\"2019-12-12T00:00:00\",\"2019-12-13T00:00:00\",\"2019-12-16T00:00:00\",\"2019-12-17T00:00:00\",\"2019-12-18T00:00:00\",\"2019-12-19T00:00:00\",\"2019-12-20T00:00:00\",\"2019-12-23T00:00:00\",\"2019-12-26T00:00:00\",\"2019-12-27T00:00:00\",\"2019-12-30T00:00:00\",\"2020-01-02T00:00:00\",\"2020-01-03T00:00:00\",\"2020-01-06T00:00:00\",\"2020-01-07T00:00:00\",\"2020-01-08T00:00:00\",\"2020-01-09T00:00:00\",\"2020-01-10T00:00:00\",\"2020-01-13T00:00:00\",\"2020-01-14T00:00:00\",\"2020-01-15T00:00:00\",\"2020-01-16T00:00:00\",\"2020-01-17T00:00:00\",\"2020-01-20T00:00:00\",\"2020-01-21T00:00:00\",\"2020-01-22T00:00:00\",\"2020-01-23T00:00:00\",\"2020-01-24T00:00:00\",\"2020-01-27T00:00:00\",\"2020-01-28T00:00:00\",\"2020-01-29T00:00:00\",\"2020-01-30T00:00:00\",\"2020-01-31T00:00:00\",\"2020-02-03T00:00:00\",\"2020-02-04T00:00:00\",\"2020-02-05T00:00:00\",\"2020-02-06T00:00:00\",\"2020-02-07T00:00:00\",\"2020-02-10T00:00:00\",\"2020-02-11T00:00:00\",\"2020-02-12T00:00:00\",\"2020-02-13T00:00:00\",\"2020-02-14T00:00:00\",\"2020-02-17T00:00:00\",\"2020-02-18T00:00:00\",\"2020-02-19T00:00:00\",\"2020-02-20T00:00:00\",\"2020-02-21T00:00:00\",\"2020-02-24T00:00:00\",\"2020-02-25T00:00:00\",\"2020-02-26T00:00:00\",\"2020-02-27T00:00:00\",\"2020-02-28T00:00:00\",\"2020-03-02T00:00:00\",\"2020-03-03T00:00:00\",\"2020-03-04T00:00:00\",\"2020-03-05T00:00:00\",\"2020-03-06T00:00:00\",\"2020-03-09T00:00:00\",\"2020-03-10T00:00:00\",\"2020-03-11T00:00:00\",\"2020-03-12T00:00:00\",\"2020-03-13T00:00:00\",\"2020-03-16T00:00:00\",\"2020-03-17T00:00:00\",\"2020-03-18T00:00:00\",\"2020-03-19T00:00:00\",\"2020-03-20T00:00:00\",\"2020-03-23T00:00:00\",\"2020-03-24T00:00:00\",\"2020-03-26T00:00:00\",\"2020-03-27T00:00:00\",\"2020-03-30T00:00:00\",\"2020-03-31T00:00:00\",\"2020-04-01T00:00:00\",\"2020-04-02T00:00:00\",\"2020-04-03T00:00:00\",\"2020-04-06T00:00:00\",\"2020-04-07T00:00:00\",\"2020-04-08T00:00:00\",\"2020-04-09T00:00:00\",\"2020-04-13T00:00:00\",\"2020-04-14T00:00:00\",\"2020-04-15T00:00:00\",\"2020-04-16T00:00:00\",\"2020-04-17T00:00:00\",\"2020-04-20T00:00:00\",\"2020-04-21T00:00:00\",\"2020-04-22T00:00:00\",\"2020-04-23T00:00:00\",\"2020-04-24T00:00:00\",\"2020-04-27T00:00:00\",\"2020-04-28T00:00:00\",\"2020-04-29T00:00:00\",\"2020-04-30T00:00:00\",\"2020-05-04T00:00:00\",\"2020-05-05T00:00:00\",\"2020-05-06T00:00:00\",\"2020-05-08T00:00:00\",\"2020-05-11T00:00:00\",\"2020-05-12T00:00:00\",\"2020-05-13T00:00:00\",\"2020-05-14T00:00:00\",\"2020-05-15T00:00:00\",\"2020-05-18T00:00:00\",\"2020-05-19T00:00:00\",\"2020-05-20T00:00:00\",\"2020-05-26T00:00:00\",\"2020-05-27T00:00:00\",\"2020-05-28T00:00:00\",\"2020-05-29T00:00:00\",\"2020-06-02T00:00:00\",\"2020-06-03T00:00:00\",\"2020-06-04T00:00:00\",\"2020-06-05T00:00:00\",\"2020-06-08T00:00:00\",\"2020-06-09T00:00:00\",\"2020-06-10T00:00:00\",\"2020-06-11T00:00:00\",\"2020-06-12T00:00:00\",\"2020-06-15T00:00:00\",\"2020-06-16T00:00:00\",\"2020-06-17T00:00:00\",\"2020-06-18T00:00:00\",\"2020-06-19T00:00:00\",\"2020-06-22T00:00:00\",\"2020-06-23T00:00:00\",\"2020-06-24T00:00:00\",\"2020-06-25T00:00:00\",\"2020-06-26T00:00:00\",\"2020-06-29T00:00:00\",\"2020-06-30T00:00:00\",\"2020-07-01T00:00:00\",\"2020-07-02T00:00:00\",\"2020-07-03T00:00:00\",\"2020-07-06T00:00:00\",\"2020-07-07T00:00:00\",\"2020-07-08T00:00:00\",\"2020-07-09T00:00:00\",\"2020-07-10T00:00:00\",\"2020-07-13T00:00:00\",\"2020-07-14T00:00:00\",\"2020-07-15T00:00:00\",\"2020-07-16T00:00:00\",\"2020-07-17T00:00:00\",\"2020-07-20T00:00:00\",\"2020-07-21T00:00:00\",\"2020-07-22T00:00:00\",\"2020-07-23T00:00:00\",\"2020-07-24T00:00:00\",\"2020-07-27T00:00:00\",\"2020-07-28T00:00:00\",\"2020-07-29T00:00:00\",\"2020-07-30T00:00:00\",\"2020-08-03T00:00:00\",\"2020-08-04T00:00:00\",\"2020-08-05T00:00:00\",\"2020-08-06T00:00:00\",\"2020-08-07T00:00:00\",\"2020-08-10T00:00:00\",\"2020-08-11T00:00:00\",\"2020-08-12T00:00:00\",\"2020-08-13T00:00:00\",\"2020-08-14T00:00:00\",\"2020-08-18T00:00:00\",\"2020-08-19T00:00:00\",\"2020-08-24T00:00:00\",\"2020-08-25T00:00:00\",\"2020-08-26T00:00:00\",\"2020-08-27T00:00:00\",\"2020-08-28T00:00:00\",\"2020-08-31T00:00:00\",\"2020-09-01T00:00:00\",\"2020-09-02T00:00:00\",\"2020-09-03T00:00:00\",\"2020-09-04T00:00:00\",\"2020-09-07T00:00:00\",\"2020-09-08T00:00:00\",\"2020-09-09T00:00:00\",\"2020-09-10T00:00:00\",\"2020-09-11T00:00:00\",\"2020-09-14T00:00:00\",\"2020-09-15T00:00:00\",\"2020-09-16T00:00:00\",\"2020-09-17T00:00:00\",\"2020-09-18T00:00:00\",\"2020-09-21T00:00:00\",\"2020-09-22T00:00:00\",\"2020-09-23T00:00:00\",\"2020-09-24T00:00:00\",\"2020-09-25T00:00:00\",\"2020-09-28T00:00:00\",\"2020-09-29T00:00:00\",\"2020-09-30T00:00:00\",\"2020-10-01T00:00:00\",\"2020-10-02T00:00:00\",\"2020-10-05T00:00:00\",\"2020-10-06T00:00:00\",\"2020-10-07T00:00:00\",\"2020-10-08T00:00:00\",\"2020-10-09T00:00:00\",\"2020-10-12T00:00:00\",\"2020-10-13T00:00:00\",\"2020-10-14T00:00:00\",\"2020-10-15T00:00:00\",\"2020-10-16T00:00:00\",\"2020-10-19T00:00:00\",\"2020-10-20T00:00:00\",\"2020-10-21T00:00:00\",\"2020-10-22T00:00:00\",\"2020-10-23T00:00:00\",\"2020-10-26T00:00:00\",\"2020-10-27T00:00:00\",\"2020-11-02T00:00:00\",\"2020-11-03T00:00:00\",\"2020-11-04T00:00:00\",\"2020-11-05T00:00:00\",\"2020-11-06T00:00:00\",\"2020-11-09T00:00:00\",\"2020-11-10T00:00:00\",\"2020-11-11T00:00:00\",\"2020-11-12T00:00:00\",\"2020-11-13T00:00:00\",\"2020-11-16T00:00:00\",\"2020-11-17T00:00:00\",\"2020-11-18T00:00:00\",\"2020-11-19T00:00:00\",\"2020-11-20T00:00:00\",\"2020-11-23T00:00:00\",\"2020-11-24T00:00:00\",\"2020-11-25T00:00:00\",\"2020-11-26T00:00:00\",\"2020-11-27T00:00:00\",\"2020-11-30T00:00:00\",\"2020-12-01T00:00:00\",\"2020-12-02T00:00:00\",\"2020-12-03T00:00:00\",\"2020-12-04T00:00:00\",\"2020-12-07T00:00:00\",\"2020-12-08T00:00:00\",\"2020-12-10T00:00:00\",\"2020-12-11T00:00:00\",\"2020-12-14T00:00:00\",\"2020-12-15T00:00:00\",\"2020-12-16T00:00:00\",\"2020-12-17T00:00:00\",\"2020-12-18T00:00:00\",\"2020-12-21T00:00:00\",\"2020-12-22T00:00:00\",\"2020-12-23T00:00:00\",\"2020-12-28T00:00:00\",\"2020-12-29T00:00:00\",\"2020-12-30T00:00:00\",\"2021-01-04T00:00:00\",\"2021-01-05T00:00:00\",\"2021-01-06T00:00:00\",\"2021-01-07T00:00:00\",\"2021-01-08T00:00:00\",\"2021-01-11T00:00:00\",\"2021-01-12T00:00:00\",\"2021-01-13T00:00:00\",\"2021-01-14T00:00:00\",\"2021-01-15T00:00:00\",\"2021-01-18T00:00:00\",\"2021-01-19T00:00:00\",\"2021-01-20T00:00:00\",\"2021-01-21T00:00:00\",\"2021-01-22T00:00:00\",\"2021-01-25T00:00:00\",\"2021-01-26T00:00:00\",\"2021-01-27T00:00:00\",\"2021-01-28T00:00:00\",\"2021-01-29T00:00:00\",\"2021-02-01T00:00:00\",\"2021-02-02T00:00:00\",\"2021-02-03T00:00:00\",\"2021-02-04T00:00:00\",\"2021-02-05T00:00:00\",\"2021-02-08T00:00:00\",\"2021-02-09T00:00:00\",\"2021-02-10T00:00:00\",\"2021-02-11T00:00:00\",\"2021-02-15T00:00:00\",\"2021-02-16T00:00:00\",\"2021-02-17T00:00:00\",\"2021-02-18T00:00:00\",\"2021-02-19T00:00:00\",\"2021-02-22T00:00:00\",\"2021-02-23T00:00:00\",\"2021-02-24T00:00:00\",\"2021-02-25T00:00:00\",\"2021-02-26T00:00:00\",\"2021-03-01T00:00:00\",\"2021-03-02T00:00:00\",\"2021-03-03T00:00:00\",\"2021-03-04T00:00:00\",\"2021-03-05T00:00:00\",\"2021-03-08T00:00:00\",\"2021-03-09T00:00:00\",\"2021-03-10T00:00:00\",\"2021-03-12T00:00:00\",\"2021-03-15T00:00:00\",\"2021-03-16T00:00:00\",\"2021-03-17T00:00:00\",\"2021-03-18T00:00:00\",\"2021-03-19T00:00:00\",\"2021-03-22T00:00:00\",\"2021-03-23T00:00:00\",\"2021-03-24T00:00:00\",\"2021-03-25T00:00:00\",\"2021-03-26T00:00:00\",\"2021-03-29T00:00:00\",\"2021-03-30T00:00:00\",\"2021-03-31T00:00:00\",\"2021-04-01T00:00:00\",\"2021-04-05T00:00:00\",\"2021-04-06T00:00:00\",\"2021-04-07T00:00:00\",\"2021-04-08T00:00:00\",\"2021-04-09T00:00:00\",\"2021-04-12T00:00:00\",\"2021-04-13T00:00:00\",\"2021-04-14T00:00:00\",\"2021-04-15T00:00:00\",\"2021-04-16T00:00:00\",\"2021-04-19T00:00:00\",\"2021-04-20T00:00:00\",\"2021-04-21T00:00:00\",\"2021-04-22T00:00:00\",\"2021-04-23T00:00:00\",\"2021-04-26T00:00:00\",\"2021-04-27T00:00:00\",\"2021-04-28T00:00:00\",\"2021-04-29T00:00:00\",\"2021-04-30T00:00:00\",\"2021-05-03T00:00:00\",\"2021-05-04T00:00:00\",\"2021-05-05T00:00:00\",\"2021-05-06T00:00:00\",\"2021-05-07T00:00:00\",\"2021-05-10T00:00:00\",\"2021-05-11T00:00:00\",\"2021-05-17T00:00:00\",\"2021-05-18T00:00:00\",\"2021-05-19T00:00:00\",\"2021-05-20T00:00:00\",\"2021-05-21T00:00:00\",\"2021-05-24T00:00:00\",\"2021-05-25T00:00:00\",\"2021-05-27T00:00:00\",\"2021-05-28T00:00:00\",\"2021-05-31T00:00:00\",\"2021-06-02T00:00:00\",\"2021-06-03T00:00:00\",\"2021-06-04T00:00:00\",\"2021-06-07T00:00:00\",\"2021-06-08T00:00:00\",\"2021-06-09T00:00:00\",\"2021-06-10T00:00:00\",\"2021-06-11T00:00:00\",\"2021-06-14T00:00:00\",\"2021-06-15T00:00:00\",\"2021-06-16T00:00:00\",\"2021-06-17T00:00:00\",\"2021-06-18T00:00:00\",\"2021-06-21T00:00:00\",\"2021-06-22T00:00:00\",\"2021-06-23T00:00:00\",\"2021-06-24T00:00:00\",\"2021-06-25T00:00:00\",\"2021-06-28T00:00:00\",\"2021-06-29T00:00:00\",\"2021-06-30T00:00:00\",\"2021-07-01T00:00:00\",\"2021-07-02T00:00:00\",\"2021-07-05T00:00:00\",\"2021-07-06T00:00:00\",\"2021-07-07T00:00:00\",\"2021-07-08T00:00:00\",\"2021-07-09T00:00:00\",\"2021-07-12T00:00:00\",\"2021-07-13T00:00:00\",\"2021-07-14T00:00:00\",\"2021-07-15T00:00:00\",\"2021-07-16T00:00:00\",\"2021-07-19T00:00:00\",\"2021-07-21T00:00:00\",\"2021-07-22T00:00:00\",\"2021-07-23T00:00:00\",\"2021-07-26T00:00:00\",\"2021-07-27T00:00:00\",\"2021-07-28T00:00:00\",\"2021-07-29T00:00:00\",\"2021-07-30T00:00:00\",\"2021-08-02T00:00:00\",\"2021-08-03T00:00:00\",\"2021-08-04T00:00:00\",\"2021-08-05T00:00:00\",\"2021-08-06T00:00:00\",\"2021-08-09T00:00:00\",\"2021-08-10T00:00:00\",\"2021-08-12T00:00:00\",\"2021-08-13T00:00:00\",\"2021-08-16T00:00:00\",\"2021-08-18T00:00:00\",\"2021-08-19T00:00:00\",\"2021-08-20T00:00:00\",\"2021-08-23T00:00:00\",\"2021-08-24T00:00:00\",\"2021-08-25T00:00:00\",\"2021-08-26T00:00:00\",\"2021-08-27T00:00:00\",\"2021-08-30T00:00:00\",\"2021-08-31T00:00:00\",\"2021-09-01T00:00:00\",\"2021-09-02T00:00:00\",\"2021-09-03T00:00:00\",\"2021-09-06T00:00:00\",\"2021-09-07T00:00:00\",\"2021-09-08T00:00:00\",\"2021-09-09T00:00:00\",\"2021-09-10T00:00:00\",\"2021-09-13T00:00:00\",\"2021-09-14T00:00:00\",\"2021-09-15T00:00:00\",\"2021-09-16T00:00:00\",\"2021-09-17T00:00:00\",\"2021-09-20T00:00:00\",\"2021-09-21T00:00:00\",\"2021-09-22T00:00:00\",\"2021-09-23T00:00:00\",\"2021-09-24T00:00:00\",\"2021-09-27T00:00:00\",\"2021-09-28T00:00:00\",\"2021-09-29T00:00:00\",\"2021-09-30T00:00:00\",\"2021-10-01T00:00:00\",\"2021-10-04T00:00:00\",\"2021-10-05T00:00:00\",\"2021-10-06T00:00:00\",\"2021-10-07T00:00:00\",\"2021-10-08T00:00:00\",\"2021-10-11T00:00:00\",\"2021-10-12T00:00:00\",\"2021-10-13T00:00:00\",\"2021-10-14T00:00:00\",\"2021-10-15T00:00:00\",\"2021-10-18T00:00:00\",\"2021-10-19T00:00:00\",\"2021-10-21T00:00:00\",\"2021-10-22T00:00:00\",\"2021-10-25T00:00:00\",\"2021-10-26T00:00:00\",\"2021-10-27T00:00:00\",\"2021-10-28T00:00:00\",\"2021-10-29T00:00:00\",\"2021-11-01T00:00:00\",\"2021-11-02T00:00:00\",\"2021-11-03T00:00:00\",\"2021-11-04T00:00:00\",\"2021-11-05T00:00:00\",\"2021-11-08T00:00:00\",\"2021-11-09T00:00:00\",\"2021-11-10T00:00:00\",\"2021-11-11T00:00:00\",\"2021-11-12T00:00:00\",\"2021-11-15T00:00:00\",\"2021-11-16T00:00:00\",\"2021-11-17T00:00:00\",\"2021-11-18T00:00:00\",\"2021-11-19T00:00:00\",\"2021-11-22T00:00:00\",\"2021-11-23T00:00:00\",\"2021-11-24T00:00:00\",\"2021-11-25T00:00:00\",\"2021-11-26T00:00:00\",\"2021-11-29T00:00:00\",\"2021-11-30T00:00:00\",\"2021-12-01T00:00:00\",\"2021-12-02T00:00:00\",\"2021-12-03T00:00:00\",\"2021-12-06T00:00:00\",\"2021-12-07T00:00:00\",\"2021-12-08T00:00:00\",\"2021-12-09T00:00:00\",\"2021-12-10T00:00:00\",\"2021-12-13T00:00:00\",\"2021-12-14T00:00:00\",\"2021-12-15T00:00:00\",\"2021-12-16T00:00:00\",\"2021-12-17T00:00:00\",\"2021-12-20T00:00:00\",\"2021-12-21T00:00:00\",\"2021-12-22T00:00:00\",\"2021-12-23T00:00:00\",\"2021-12-24T00:00:00\",\"2021-12-27T00:00:00\",\"2021-12-28T00:00:00\",\"2021-12-29T00:00:00\",\"2021-12-30T00:00:00\",\"2022-01-03T00:00:00\",\"2022-01-04T00:00:00\",\"2022-01-05T00:00:00\",\"2022-01-06T00:00:00\",\"2022-01-07T00:00:00\",\"2022-01-10T00:00:00\",\"2022-01-11T00:00:00\",\"2022-01-12T00:00:00\",\"2022-01-13T00:00:00\",\"2022-01-14T00:00:00\",\"2022-01-17T00:00:00\",\"2022-01-18T00:00:00\",\"2022-01-19T00:00:00\",\"2022-01-20T00:00:00\",\"2022-01-21T00:00:00\",\"2022-01-24T00:00:00\",\"2022-01-25T00:00:00\",\"2022-01-26T00:00:00\",\"2022-01-27T00:00:00\",\"2022-01-28T00:00:00\",\"2022-01-31T00:00:00\",\"2022-02-02T00:00:00\",\"2022-02-03T00:00:00\",\"2022-02-04T00:00:00\",\"2022-02-07T00:00:00\",\"2022-02-08T00:00:00\",\"2022-02-09T00:00:00\",\"2022-02-10T00:00:00\",\"2022-02-11T00:00:00\",\"2022-02-14T00:00:00\",\"2022-02-15T00:00:00\",\"2022-02-16T00:00:00\",\"2022-02-17T00:00:00\",\"2022-02-18T00:00:00\",\"2022-02-21T00:00:00\",\"2022-02-22T00:00:00\",\"2022-02-23T00:00:00\",\"2022-02-24T00:00:00\",\"2022-02-25T00:00:00\",\"2022-03-01T00:00:00\",\"2022-03-02T00:00:00\",\"2022-03-04T00:00:00\",\"2022-03-07T00:00:00\",\"2022-03-08T00:00:00\",\"2022-03-09T00:00:00\",\"2022-03-10T00:00:00\",\"2022-03-11T00:00:00\",\"2022-03-14T00:00:00\",\"2022-03-15T00:00:00\",\"2022-03-16T00:00:00\",\"2022-03-17T00:00:00\",\"2022-03-18T00:00:00\",\"2022-03-21T00:00:00\",\"2022-03-22T00:00:00\",\"2022-03-23T00:00:00\",\"2022-03-24T00:00:00\",\"2022-03-25T00:00:00\",\"2022-03-28T00:00:00\",\"2022-03-29T00:00:00\",\"2022-03-30T00:00:00\",\"2022-03-31T00:00:00\",\"2022-04-01T00:00:00\",\"2022-04-04T00:00:00\",\"2022-04-05T00:00:00\",\"2022-04-06T00:00:00\",\"2022-04-07T00:00:00\",\"2022-04-08T00:00:00\",\"2022-04-11T00:00:00\",\"2022-04-12T00:00:00\",\"2022-04-13T00:00:00\",\"2022-04-14T00:00:00\",\"2022-04-18T00:00:00\",\"2022-04-19T00:00:00\",\"2022-04-20T00:00:00\",\"2022-04-21T00:00:00\",\"2022-04-22T00:00:00\",\"2022-04-25T00:00:00\",\"2022-04-26T00:00:00\",\"2022-04-27T00:00:00\",\"2022-04-28T00:00:00\",\"2022-05-09T00:00:00\",\"2022-05-10T00:00:00\",\"2022-05-11T00:00:00\",\"2022-05-12T00:00:00\",\"2022-05-13T00:00:00\",\"2022-05-17T00:00:00\",\"2022-05-18T00:00:00\",\"2022-05-19T00:00:00\",\"2022-05-20T00:00:00\",\"2022-05-23T00:00:00\",\"2022-05-24T00:00:00\",\"2022-05-25T00:00:00\",\"2022-05-27T00:00:00\",\"2022-05-30T00:00:00\",\"2022-05-31T00:00:00\",\"2022-06-02T00:00:00\",\"2022-06-03T00:00:00\",\"2022-06-06T00:00:00\",\"2022-06-07T00:00:00\",\"2022-06-08T00:00:00\",\"2022-06-09T00:00:00\",\"2022-06-10T00:00:00\",\"2022-06-13T00:00:00\",\"2022-06-14T00:00:00\",\"2022-06-15T00:00:00\",\"2022-06-16T00:00:00\",\"2022-06-17T00:00:00\",\"2022-06-20T00:00:00\",\"2022-06-21T00:00:00\",\"2022-06-22T00:00:00\",\"2022-06-23T00:00:00\",\"2022-06-24T00:00:00\",\"2022-06-27T00:00:00\",\"2022-06-28T00:00:00\",\"2022-06-29T00:00:00\",\"2022-06-30T00:00:00\",\"2022-07-01T00:00:00\",\"2022-07-04T00:00:00\",\"2022-07-05T00:00:00\",\"2022-07-06T00:00:00\",\"2022-07-07T00:00:00\",\"2022-07-08T00:00:00\",\"2022-07-11T00:00:00\",\"2022-07-12T00:00:00\",\"2022-07-13T00:00:00\",\"2022-07-14T00:00:00\",\"2022-07-15T00:00:00\",\"2022-07-18T00:00:00\",\"2022-07-19T00:00:00\",\"2022-07-20T00:00:00\",\"2022-07-21T00:00:00\",\"2022-07-22T00:00:00\",\"2022-07-25T00:00:00\",\"2022-07-26T00:00:00\",\"2022-07-27T00:00:00\",\"2022-07-28T00:00:00\",\"2022-07-29T00:00:00\",\"2022-08-01T00:00:00\",\"2022-08-02T00:00:00\",\"2022-08-03T00:00:00\",\"2022-08-04T00:00:00\",\"2022-08-05T00:00:00\",\"2022-08-08T00:00:00\",\"2022-08-09T00:00:00\",\"2022-08-10T00:00:00\",\"2022-08-11T00:00:00\",\"2022-08-12T00:00:00\",\"2022-08-15T00:00:00\",\"2022-08-16T00:00:00\",\"2022-08-18T00:00:00\",\"2022-08-19T00:00:00\",\"2022-08-22T00:00:00\",\"2022-08-23T00:00:00\",\"2022-08-24T00:00:00\",\"2022-08-25T00:00:00\",\"2022-08-26T00:00:00\",\"2022-08-29T00:00:00\",\"2022-08-30T00:00:00\",\"2022-08-31T00:00:00\",\"2022-09-01T00:00:00\",\"2022-09-02T00:00:00\",\"2022-09-05T00:00:00\",\"2022-09-06T00:00:00\",\"2022-09-07T00:00:00\",\"2022-09-08T00:00:00\",\"2022-09-09T00:00:00\",\"2022-09-12T00:00:00\",\"2022-09-13T00:00:00\",\"2022-09-14T00:00:00\",\"2022-09-15T00:00:00\",\"2022-09-16T00:00:00\",\"2022-09-19T00:00:00\",\"2022-09-20T00:00:00\",\"2022-09-21T00:00:00\",\"2022-09-22T00:00:00\",\"2022-09-23T00:00:00\",\"2022-09-26T00:00:00\",\"2022-09-27T00:00:00\",\"2022-09-28T00:00:00\",\"2022-09-29T00:00:00\",\"2022-09-30T00:00:00\",\"2022-10-03T00:00:00\",\"2022-10-04T00:00:00\",\"2022-10-05T00:00:00\",\"2022-10-06T00:00:00\",\"2022-10-07T00:00:00\",\"2022-10-10T00:00:00\",\"2022-10-11T00:00:00\",\"2022-10-12T00:00:00\",\"2022-10-13T00:00:00\",\"2022-10-14T00:00:00\",\"2022-10-17T00:00:00\",\"2022-10-18T00:00:00\",\"2022-10-19T00:00:00\",\"2022-10-20T00:00:00\",\"2022-10-21T00:00:00\",\"2022-10-24T00:00:00\",\"2022-10-25T00:00:00\",\"2022-10-26T00:00:00\",\"2022-10-27T00:00:00\",\"2022-10-28T00:00:00\",\"2022-10-31T00:00:00\",\"2022-11-01T00:00:00\",\"2022-11-02T00:00:00\",\"2022-11-03T00:00:00\",\"2022-11-04T00:00:00\",\"2022-11-07T00:00:00\",\"2022-11-08T00:00:00\",\"2022-11-09T00:00:00\",\"2022-11-10T00:00:00\",\"2022-11-11T00:00:00\",\"2022-11-14T00:00:00\",\"2022-11-15T00:00:00\",\"2022-11-16T00:00:00\",\"2022-11-17T00:00:00\",\"2022-11-18T00:00:00\",\"2022-11-21T00:00:00\",\"2022-11-22T00:00:00\",\"2022-11-23T00:00:00\",\"2022-11-24T00:00:00\",\"2022-11-25T00:00:00\",\"2022-11-28T00:00:00\",\"2022-11-29T00:00:00\",\"2022-11-30T00:00:00\",\"2022-12-01T00:00:00\",\"2022-12-02T00:00:00\",\"2022-12-05T00:00:00\",\"2022-12-06T00:00:00\",\"2022-12-07T00:00:00\",\"2022-12-08T00:00:00\",\"2022-12-09T00:00:00\",\"2022-12-12T00:00:00\",\"2022-12-13T00:00:00\",\"2022-12-14T00:00:00\",\"2022-12-15T00:00:00\",\"2022-12-16T00:00:00\",\"2022-12-19T00:00:00\",\"2022-12-20T00:00:00\"],\"xaxis\":\"x\",\"y\":[2330.0,2320.0,2305.0,2355.0,2395.0,2405.0,2350.0,2365.0,2350.0,2340.0,2315.0,2320.0,2300.0,2285.0,2295.0,2375.0,2375.0,2385.0,2340.0,2340.0,2335.0,2345.0,2350.0,2355.0,2340.0,2330.0,2335.0,2330.0,2340.0,2375.0,2400.0,2405.0,2400.0,2495.0,2545.0,2540.0,2560.0,2585.0,2590.0,2575.0,2590.0,2575.0,2565.0,2570.0,2615.0,2585.0,2575.0,2570.0,2580.0,2550.0,2580.0,2585.0,2595.0,2610.0,2580.0,2580.0,2600.0,2630.0,2625.0,2615.0,2605.0,2655.0,2600.0,2600.0,2605.0,2635.0,2620.0,2615.0,2605.0,2600.0,2600.0,2615.0,2625.0,2600.0,2630.0,2640.0,2635.0,2610.0,2590.0,2405.0,2375.0,2325.0,2325.0,2325.0,2340.0,2350.0,2325.0,2330.0,2355.0,2405.0,2435.0,2360.0,2400.0,2455.0,2495.0,2550.0,2520.0,2470.0,2475.0,2390.0,2365.0,2355.0,2345.0,2250.0,2225.0,2260.0,2200.0,2095.0,2080.0,2025.0,2075.0,2030.0,2110.0,2200.0,2155.0,2210.0,2190.0,2160.0,2060.0,2040.0,2095.0,2075.0,2070.0,2110.0,2175.0,2165.0,2080.0,2095.0,2045.0,2060.0,2095.0,2095.0,2100.0,2025.0,2070.0,2050.0,2020.0,1955.0,1880.0,1900.0,1870.0,2000.0,2090.0,2080.0,2160.0,2155.0,2110.0,2115.0,2030.0,1940.0,2005.0,2045.0,1960.0,1980.0,1945.0,1900.0,1830.0,1900.0,1950.0,2100.0,2080.0,2125.0,2020.0,2040.0,2030.0,2015.0,1955.0,1985.0,1985.0,1930.0,1920.0,1925.0,1925.0,1920.0,2005.0,1955.0,1905.0,1870.0,1760.0,1710.0,1660.0,1670.0,1730.0,1745.0,1735.0,1825.0,1890.0,1970.0,1995.0,2110.0,2160.0,2005.0,2025.0,2060.0,2085.0,2125.0,2110.0,2140.0,2240.0,2320.0,2320.0,2220.0,2150.0,2105.0,2055.0,2140.0,2210.0,2145.0,2140.0,2115.0,2090.0,2095.0,2105.0,2105.0,2105.0,2180.0,2190.0,2195.0,2200.0,2200.0,2210.0,2295.0,2295.0,2260.0,2155.0,2250.0,2255.0,2255.0,2260.0,2210.0,2180.0,2180.0,2175.0,2165.0,2135.0,2150.0,2270.0,2310.0,2175.0,2220.0,2210.0,2220.0,2280.0,2280.0,2285.0,2295.0,2315.0,2305.0,2250.0,2320.0,2275.0,2320.0,2320.0,2345.0,2290.0,2280.0,2300.0,2200.0,2165.0,2255.0,2285.0,2260.0,2275.0,2250.0,2245.0,2245.0,2205.0,2185.0,2280.0,2460.0,2395.0,2355.0,2375.0,2360.0,2375.0,2385.0,2390.0,2400.0,2290.0,2195.0,2120.0,2135.0,2090.0,2170.0,2215.0,2140.0,2195.0,2230.0,2275.0,2280.0,2265.0,2200.0,2200.0,2200.0,2215.0,2210.0,2200.0,2225.0,2230.0,2235.0,2255.0,2255.0,2220.0,2195.0,2230.0,2285.0,2220.0,2220.0,2220.0,2230.0,2220.0,2160.0,2160.0,2125.0,2125.0,2125.0,2125.0,2125.0,2125.0,2095.0,2140.0,2180.0,2100.0,2040.0,2040.0,2075.0,2070.0,2055.0,2105.0,2070.0,2005.0,2010.0,2000.0,1980.0,1975.0,1990.0,1940.0,1905.0,1935.0,1960.0,1985.0,1965.0,1985.0,2060.0,2080.0,2125.0,2070.0,2090.0,2055.0,2080.0,2120.0,2130.0,2130.0,2075.0,2065.0,2020.0,1995.0,2010.0,2040.0,2050.0,2065.0,2080.0,2100.0,2085.0,2060.0,2045.0,2075.0,2135.0,2160.0,2150.0,2270.0,2300.0,2310.0,2275.0,2300.0,2295.0,2360.0,2375.0,2300.0,2285.0,2270.0,2310.0,2320.0,2280.0,2305.0,2345.0,2350.0,2330.0,2360.0,2395.0,2430.0,2400.0,2400.0,2380.0,2390.0,2400.0,2420.0,2420.0,2400.0,2370.0,2310.0,2330.0,2370.0,2350.0,2300.0,2305.0,2330.0,2340.0,2325.0,2360.0,2375.0,2395.0,2395.0,2350.0,2335.0,2340.0,2395.0,2385.0,2370.0,2400.0,2400.0,2415.0,2415.0,2405.0,2420.0,2420.0,2445.0,2440.0,2455.0,2455.0,2460.0,2480.0,2395.0,2370.0,2390.0,2400.0,2395.0,2445.0,2430.0,2440.0,2430.0,2425.0,2445.0,2440.0,2430.0,2415.0,2440.0,2440.0,2440.0,2445.0,2480.0,2465.0,2480.0,2490.0,2575.0,2520.0,2540.0,2395.0,2225.0,2205.0,2300.0,2300.0,2300.0,2290.0,2295.0,2300.0,2260.0,2185.0,2095.0,2110.0,2180.0,2210.0,2260.0,2225.0,2265.0,2285.0,2300.0,2295.0,2345.0,2300.0,2280.0,2255.0,2250.0,2245.0,2200.0,2175.0,2175.0,2200.0,2275.0,2330.0,2335.0,2335.0,2380.0,2440.0,2420.0,2420.0,2350.0,2360.0,2360.0,2375.0,2390.0,2380.0,2385.0,2390.0,2400.0,2360.0,2360.0,2365.0,2340.0,2350.0,2345.0,2350.0,2345.0,2390.0,2395.0,2400.0,2410.0,2405.0,2390.0,2395.0,2405.0,2415.0,2400.0,2400.0,2400.0,2340.0,2350.0,2380.0,2400.0,2385.0,2390.0,2375.0,2390.0,2390.0,2370.0,2370.0,2390.0,2400.0,2400.0,2415.0,2415.0,2415.0,2410.0,2430.0,2505.0,2600.0,2600.0,2600.0,2640.0,2630.0,2630.0,2555.0,2565.0,2590.0,2595.0,2605.0,2605.0,2605.0,2635.0,2610.0,2620.0,2580.0,2555.0,2540.0,2485.0,2575.0,2575.0,2550.0,2585.0,2625.0,2645.0,2600.0,2580.0,2610.0,2640.0,2785.0,2785.0,2820.0,2800.0,2795.0,2805.0,2860.0,2805.0,2820.0,2820.0,2900.0,2925.0,2895.0,2830.0,2845.0,2840.0,2840.0,2895.0,2895.0,2950.0,3005.0,2935.0,2985.0,2930.0,2875.0,2925.0,2895.0,2970.0,2935.0,2935.0,2960.0,2995.0,3060.0,3050.0,3050.0,3050.0,3050.0,3050.0,3050.0,3050.0,3100.0,3060.0,3040.0,3010.0,3010.0,2945.0,2925.0,2965.0,2980.0,2960.0,3000.0,2980.0,2945.0,2945.0,2935.0,2935.0,2960.0,2955.0,2940.0,2900.0,2955.0,2960.0,2990.0,2970.0,2985.0,2980.0,2990.0,3005.0,3000.0,3000.0,3015.0,3010.0,3050.0,3050.0,3030.0,3055.0,3060.0,3060.0,3045.0,3060.0,3045.0,2995.0,3015.0,3025.0,3025.0,2975.0,3000.0,2970.0,3000.0,3000.0,2990.0,2985.0,2980.0,2965.0,2970.0,3000.0,3005.0,3005.0,3005.0,3135.0,3135.0,3110.0,3050.0,2940.0,3055.0,3050.0,3065.0,3055.0,3065.0,3075.0,3075.0,3055.0,3055.0,3075.0,3070.0,3070.0,3080.0,3080.0,3100.0,3125.0,3125.0,3095.0,3120.0,3125.0,3120.0,3110.0,3120.0,3140.0,3190.0,3200.0,3250.0,3240.0,3290.0,3290.0,3280.0,3260.0,3170.0,3140.0,3210.0,3290.0,3340.0,3280.0,3400.0,3360.0,3350.0,3300.0,3380.0,3300.0,3210.0,3210.0,3300.0,3350.0,3460.0,3380.0,3370.0,3440.0,3450.0,3450.0,3460.0,3390.0,3390.0,3440.0,3400.0,3420.0,3460.0,3460.0,3460.0,3550.0,3630.0,3640.0,3640.0,3630.0,3610.0,3550.0,3590.0,3590.0,3570.0,3530.0,3540.0,3540.0,3550.0,3610.0,3630.0,3620.0,3620.0,3650.0,3920.0,3830.0,3770.0,3850.0,3800.0,3720.0,3700.0,3700.0,3740.0,3780.0,3680.0,3700.0,3720.0,3710.0,3800.0,3880.0,3860.0,3840.0,3840.0,3860.0,3800.0,3800.0,3770.0,3790.0,3740.0,3770.0,3780.0,3790.0,3790.0,3770.0,3730.0,3660.0,3770.0,3690.0,3760.0,3760.0,3750.0,3640.0,3680.0,3690.0,3740.0,3810.0,3670.0,3600.0,3600.0,3600.0,3550.0,3600.0,3600.0,3600.0,3600.0,3490.0,3470.0,3480.0,3530.0,3580.0,3650.0,3590.0,3550.0,3550.0,3550.0,3660.0,3660.0,3660.0,3580.0,3490.0,3490.0,3490.0,3490.0,3220.0,3220.0,3230.0,3150.0,3030.0,3050.0,3070.0,3210.0,3210.0,3160.0,3190.0,3070.0,3070.0,2990.0,2940.0,2760.0,2720.0,2880.0,3060.0,3120.0,3250.0,3250.0,3140.0,3080.0,3080.0,3130.0,3110.0,3150.0,3270.0,3140.0,3140.0,3140.0,3140.0,3140.0,3140.0,3140.0,3140.0,2960.0,2910.0,2980.0,2890.0,2820.0,2840.0,2750.0,2840.0,2850.0,2830.0,2930.0,2910.0,2840.0,3010.0,3050.0,2990.0,2970.0,2970.0,2970.0,2870.0,2850.0,2890.0,2980.0,3040.0,3010.0,2990.0,3040.0,3090.0,3080.0,3070.0,3190.0,3250.0,3330.0,3410.0,3350.0,3330.0,3330.0,3390.0,3140.0,3130.0,3210.0,3050.0,3050.0,3180.0,3150.0,3150.0,3270.0,3270.0,3380.0,3330.0,3290.0,3190.0,3180.0,3170.0,3110.0,2930.0,2960.0,3030.0,2970.0,2970.0,2910.0,3000.0,3070.0,2970.0,2940.0,3000.0,3090.0,3120.0,3010.0,3030.0,2990.0,3070.0,3150.0,3180.0,3110.0,3100.0,3000.0,2980.0,2970.0,3020.0,3010.0,2910.0,2950.0,3000.0,3000.0,3070.0,3090.0,3020.0,3050.0,3020.0,2950.0,3000.0,2990.0,2950.0,3030.0,3150.0,3200.0,3280.0,3270.0,3330.0,3370.0,3450.0,3340.0,3280.0,3350.0,3350.0,3410.0,3490.0,3520.0,3520.0,3430.0,3550.0,3480.0,3540.0,3600.0,3650.0,3710.0,3620.0,3690.0,3710.0,3650.0,3650.0,3620.0,3610.0,3620.0,3620.0,3680.0,3680.0,3600.0,3630.0,3670.0,3650.0,3620.0,3620.0,3620.0,3600.0,3660.0,3660.0,3660.0,3660.0,3610.0,3620.0,3660.0,3660.0,3680.0,3720.0,3750.0,3730.0,3790.0,3780.0,3780.0,3810.0,3820.0,3800.0,3770.0,3770.0,3790.0,3780.0,3780.0,3690.0,3750.0,3850.0,3920.0,3900.0,3900.0,3920.0,3930.0,3890.0,3870.0,3850.0,3790.0,3800.0,3770.0,3840.0,3910.0,3890.0,3910.0,3900.0,3960.0,3940.0,3870.0,3850.0,3870.0,3880.0,3860.0,3900.0,3900.0,3850.0,3860.0,3840.0,3790.0,3840.0,3950.0,4000.0,3980.0,3990.0,3990.0,4050.0,4010.0,4060.0,4050.0,4070.0,4110.0,4150.0,4150.0,4150.0,4220.0,4270.0,4250.0,4300.0,4310.0,4300.0,4310.0,4350.0,4340.0,4340.0,4460.0,4460.0,4440.0,4430.0,4400.0,4330.0,4330.0,4340.0,4370.0,4370.0,4370.0,4380.0,4230.0,4250.0,4220.0,4120.0,4120.0,4100.0,4050.0,3890.0,3860.0,3790.0,3750.0,3750.0,3770.0,3850.0,3850.0,3920.0,3810.0,3940.0,3940.0,4100.0,4100.0,4100.0,4100.0,4100.0,4100.0,4230.0,4230.0,4210.0,4200.0,4230.0,4200.0,4260.0,4310.0,4360.0,4310.0,4330.0,4360.0,4380.0,4360.0,4420.0,4410.0,4400.0,4390.0,4400.0,4400.0,4410.0,4470.0,4510.0,4510.0,4530.0,4550.0,4520.0,4450.0,4480.0,4500.0,4490.0,4450.0,4460.0,4440.0,4460.0,4500.0,4480.0,4450.0,4450.0,4270.0,4100.0,4250.0,4290.0,4330.0,4300.0,4280.0,4330.0,4250.0,4210.0,4180.0,4100.0,4050.0,4070.0,4080.0,4070.0,4200.0,4190.0,4200.0,4270.0,4220.0,4150.0,4160.0,4220.0,4270.0,4170.0,4190.0,4250.0,4280.0,4310.0,4190.0,4250.0,4240.0,4220.0,4160.0,4180.0,4110.0,4080.0,4210.0,4180.0,4120.0,4070.0,3930.0,3810.0,3950.0,3900.0,3930.0,3960.0,3890.0,3920.0,3920.0,3940.0,3990.0,4050.0,4170.0,4120.0,4140.0,4180.0,4300.0,4230.0,4230.0,4230.0,4250.0,4210.0,4180.0,4160.0,4300.0,4160.0,4000.0,3990.0,4000.0,4000.0,3960.0,3940.0,4090.0,4120.0,4190.0,4220.0,4220.0,4210.0,4130.0,4150.0,4170.0,4050.0,4090.0,4210.0,4170.0,4130.0,4220.0,4170.0,4180.0,4170.0,4210.0,4250.0,4280.0,4330.0,4350.0,4400.0,4350.0,4360.0,4450.0,4410.0,4430.0,4400.0,4410.0,4420.0,4370.0,4400.0,4380.0,4400.0,4410.0,4510.0,4570.0,4580.0,4570.0,4630.0,4660.0,4670.0,4710.0,4740.0,4740.0,4650.0,4620.0,4620.0,4580.0,4460.0,4460.0,4560.0,4560.0,4550.0,4550.0,4500.0,4510.0,4530.0,4570.0,4550.0,4470.0,4400.0,4480.0,4560.0,4510.0,4490.0,4500.0,4480.0,4130.0,4190.0,3980.0,4100.0,4220.0,4150.0,4010.0,3750.0,3910.0,3910.0,3610.0,3720.0,3500.0,3260.0,3140.0,2930.0,2810.0,2620.0,2440.0,2940.0,3230.0,3010.0,3020.0,2930.0,2870.0,2890.0,3020.0,3030.0,2820.0,2790.0,2770.0,2900.0,2760.0,2610.0,2830.0,2780.0,2720.0,2790.0,2800.0,2630.0,2660.0,2590.0,2580.0,2730.0,2630.0,2630.0,2620.0,2590.0,2620.0,2490.0,2470.0,2350.0,2240.0,2170.0,2370.0,2480.0,2520.0,2630.0,2730.0,2950.0,3180.0,3100.0,3060.0,3110.0,3300.0,3210.0,3030.0,2970.0,3030.0,2900.0,3130.0,3100.0,3050.0,3100.0,3060.0,3010.0,3120.0,3060.0,3030.0,3040.0,3030.0,3060.0,3060.0,3050.0,3040.0,3030.0,3190.0,3140.0,3110.0,3160.0,3170.0,3130.0,3140.0,3100.0,3050.0,3150.0,3100.0,3140.0,3090.0,3150.0,3140.0,3120.0,3160.0,2990.0,3080.0,3080.0,3110.0,3110.0,3130.0,3190.0,3350.0,3330.0,3340.0,3520.0,3560.0,3640.0,3800.0,3740.0,3700.0,3690.0,3510.0,3610.0,3660.0,3580.0,3550.0,3510.0,3520.0,3410.0,3180.0,3250.0,3440.0,3330.0,3260.0,3200.0,3220.0,3190.0,3130.0,3080.0,3030.0,3160.0,3090.0,3040.0,3040.0,3160.0,3100.0,3160.0,3190.0,3120.0,3150.0,3150.0,3190.0,3280.0,3360.0,3310.0,3250.0,3280.0,3250.0,3240.0,3300.0,3290.0,3340.0,3360.0,3380.0,3380.0,3290.0,3490.0,3560.0,3690.0,4000.0,4120.0,3950.0,4000.0,3960.0,3960.0,4040.0,4040.0,4020.0,4080.0,4200.0,4320.0,4290.0,4270.0,4090.0,4240.0,4300.0,4400.0,4300.0,4400.0,4400.0,4330.0,4280.0,4280.0,4280.0,4320.0,4330.0,4280.0,4210.0,4130.0,4160.0,4250.0,4180.0,4170.0,4310.0,4270.0,4200.0,4280.0,4390.0,4650.0,4720.0,4790.0,4770.0,4580.0,4620.0,4620.0,4890.0,4790.0,4720.0,4780.0,4650.0,4620.0,4470.0,4180.0,4400.0,4360.0,4380.0,4490.0,4470.0,4460.0,4620.0,4650.0,4680.0,4710.0,4670.0,4630.0,4670.0,4790.0,4790.0,4790.0,4730.0,4730.0,4710.0,4830.0,4800.0,4850.0,4760.0,4770.0,4730.0,4580.0,4630.0,4580.0,4570.0,4720.0,4670.0,4760.0,4670.0,4630.0,4670.0,4670.0,4620.0,4720.0,4720.0,4500.0,4400.0,4290.0,4200.0,4200.0,4200.0,4350.0,4350.0,4210.0,4160.0,4350.0,4410.0,4340.0,4380.0,4310.0,4230.0,4200.0,4250.0,4140.0,4170.0,4130.0,4160.0,4050.0,4010.0,4060.0,4090.0,4110.0,4050.0,4050.0,3990.0,3900.0,3900.0,3870.0,3880.0,3890.0,4040.0,4060.0,3950.0,4070.0,4260.0,4260.0,4360.0,4340.0,4250.0,4200.0,4220.0,4300.0,4280.0,4350.0,4230.0,4010.0,4030.0,3910.0,3940.0,4040.0,3940.0,3990.0,3990.0,3930.0,3900.0,3940.0,3940.0,3990.0,3900.0,3890.0,3820.0,3870.0,3800.0,3760.0,3780.0,3710.0,3810.0,3840.0,3780.0,3820.0,3900.0,3870.0,3830.0,3800.0,3730.0,3770.0,3710.0,3740.0,3750.0,3850.0,4050.0,3930.0,3850.0,3820.0,3810.0,3870.0,3930.0,4070.0,3880.0,3930.0,3960.0,3890.0,3536.302490234375,3518.12109375,3490.848876953125,3581.75634765625,3572.66552734375,3536.302490234375,3518.12109375,3572.66552734375,3499.939453125,3554.484130859375,3730.0,3730.0,3780.0,3700.0,3700.0,3660.0,3640.0,3610.0,3590.0,3570.0,3610.0,3770.0,3820.0,3750.0,3720.0,3740.0,3850.0,3900.0,3970.0,3930.0,4120.0,4120.0,4160.0,4180.0,4220.0,4280.0,4250.0,4320.0,4410.0,4400.0,4360.0,4400.0,4300.0,4350.0,4290.0,4240.0,4250.0,4230.0,4210.0,4290.0,4250.0,4240.0,4230.0,4250.0,4250.0,4250.0,4220.0,4160.0,4130.0,4200.0,4180.0,4280.0,4280.0,4210.0,4210.0,4220.0,4160.0,4170.0,4090.0,4080.0,4200.0,4170.0,4110.0,4230.0,4210.0,4190.0,4130.0,4160.0,4130.0,4200.0,4140.0,4110.0,4120.0,4080.0,4050.0,4100.0,4070.0,4060.0,4090.0,4080.0,4110.0,4180.0,4160.0,4210.0,4160.0,4190.0,4180.0,4150.0,4160.0,4190.0,4180.0,4210.0,4190.0,4130.0,4130.0,4170.0,4120.0,4070.0,4090.0,4140.0,4140.0,4070.0,4070.0,4130.0,4210.0,4400.0,4440.0,4450.0,4470.0,4450.0,4410.0,4430.0,4420.0,4400.0,4430.0,4490.0,4430.0,4480.0,4390.0,4550.0,4630.0,4560.0,4670.0,4520.0,4430.0,4570.0,4570.0,4400.0,4520.0,4610.0,4650.0,4650.0,4580.0,4590.0,4640.0,4650.0,4730.0,4710.0,4730.0,4690.0,4710.0,4660.0,4730.0,4700.0,4700.0,4600.0,4630.0,4610.0,4570.0,4610.0,4610.0,4540.0,4550.0,4570.0,4850.0,4800.0,4750.0,4840.0,4940.0,4850.0,4870.0,4530.0,4530.0,4490.0,4320.0,4250.0,4450.0,4450.0,4440.0,4430.0,4330.0,4460.0,4350.0,4540.0,4430.0,4630.0,4480.0,4520.0,4430.0,4400.0,4470.0,4490.0,4400.0,4340.0,4360.0,4450.0,4430.0,4370.0,4400.0,4380.0,4320.0,4310.0,4340.0,4280.0,4300.0,4180.0,4150.0,4140.0,4040.0,4090.0,4080.0,4050.0,4200.0,4120.0,4110.0,4060.0,4070.0,4110.0,4140.0,4110.0,4300.0,4310.0,4270.0,4250.0,4330.0,4320.0,4360.0,4360.0,4360.0,4400.0,4380.0,4360.0,4360.0,4370.0,4410.0,4310.0,4350.0,4320.0,4300.0,4280.0,4330.0,4300.0,4270.0,4300.0,4290.0,4270.0,4270.0,4250.0,4260.0,4340.0,4390.0,4450.0,4590.0,4560.0,4460.0,4600.0,4610.0,4560.0,4580.0,4580.0,4610.0,4500.0,4570.0,4490.0,4550.0,4560.0,4480.0,4540.0,4530.0,4520.0,4480.0,4490.0,4530.0,4640.0,4540.0,4510.0,4440.0,4370.0,4430.0,4400.0,4350.0,4270.0,4300.0,4290.0,4300.0,4390.0,4430.0,4500.0,4590.0,4530.0,4600.0,4630.0,4650.0,4660.0,4610.0,4650.0,4650.0,4690.0,4620.0,4650.0,4530.0,4650.0,4580.0,4580.0,4520.0,4670.0,4610.0,4590.0,4590.0,4670.0,4720.0,4750.0,4820.0,4850.0,4980.0,4940.0,4890.0,4890.0,4860.0,4760.0,4840.0,4800.0,4850.0,4970.0,4980.0,4910.0,4980.0,4970.0,4910.0],\"yaxis\":\"y\",\"type\":\"scattergl\",\"opacity\":0.8}],                        {\"template\":{\"data\":{\"bar\":[{\"error_x\":{\"color\":\"#2a3f5f\"},\"error_y\":{\"color\":\"#2a3f5f\"},\"marker\":{\"line\":{\"color\":\"#E5ECF6\",\"width\":0.5},\"pattern\":{\"fillmode\":\"overlay\",\"size\":10,\"solidity\":0.2}},\"type\":\"bar\"}],\"barpolar\":[{\"marker\":{\"line\":{\"color\":\"#E5ECF6\",\"width\":0.5},\"pattern\":{\"fillmode\":\"overlay\",\"size\":10,\"solidity\":0.2}},\"type\":\"barpolar\"}],\"carpet\":[{\"aaxis\":{\"endlinecolor\":\"#2a3f5f\",\"gridcolor\":\"white\",\"linecolor\":\"white\",\"minorgridcolor\":\"white\",\"startlinecolor\":\"#2a3f5f\"},\"baxis\":{\"endlinecolor\":\"#2a3f5f\",\"gridcolor\":\"white\",\"linecolor\":\"white\",\"minorgridcolor\":\"white\",\"startlinecolor\":\"#2a3f5f\"},\"type\":\"carpet\"}],\"choropleth\":[{\"colorbar\":{\"outlinewidth\":0,\"ticks\":\"\"},\"type\":\"choropleth\"}],\"contour\":[{\"colorbar\":{\"outlinewidth\":0,\"ticks\":\"\"},\"colorscale\":[[0.0,\"#0d0887\"],[0.1111111111111111,\"#46039f\"],[0.2222222222222222,\"#7201a8\"],[0.3333333333333333,\"#9c179e\"],[0.4444444444444444,\"#bd3786\"],[0.5555555555555556,\"#d8576b\"],[0.6666666666666666,\"#ed7953\"],[0.7777777777777778,\"#fb9f3a\"],[0.8888888888888888,\"#fdca26\"],[1.0,\"#f0f921\"]],\"type\":\"contour\"}],\"contourcarpet\":[{\"colorbar\":{\"outlinewidth\":0,\"ticks\":\"\"},\"type\":\"contourcarpet\"}],\"heatmap\":[{\"colorbar\":{\"outlinewidth\":0,\"ticks\":\"\"},\"colorscale\":[[0.0,\"#0d0887\"],[0.1111111111111111,\"#46039f\"],[0.2222222222222222,\"#7201a8\"],[0.3333333333333333,\"#9c179e\"],[0.4444444444444444,\"#bd3786\"],[0.5555555555555556,\"#d8576b\"],[0.6666666666666666,\"#ed7953\"],[0.7777777777777778,\"#fb9f3a\"],[0.8888888888888888,\"#fdca26\"],[1.0,\"#f0f921\"]],\"type\":\"heatmap\"}],\"heatmapgl\":[{\"colorbar\":{\"outlinewidth\":0,\"ticks\":\"\"},\"colorscale\":[[0.0,\"#0d0887\"],[0.1111111111111111,\"#46039f\"],[0.2222222222222222,\"#7201a8\"],[0.3333333333333333,\"#9c179e\"],[0.4444444444444444,\"#bd3786\"],[0.5555555555555556,\"#d8576b\"],[0.6666666666666666,\"#ed7953\"],[0.7777777777777778,\"#fb9f3a\"],[0.8888888888888888,\"#fdca26\"],[1.0,\"#f0f921\"]],\"type\":\"heatmapgl\"}],\"histogram\":[{\"marker\":{\"pattern\":{\"fillmode\":\"overlay\",\"size\":10,\"solidity\":0.2}},\"type\":\"histogram\"}],\"histogram2d\":[{\"colorbar\":{\"outlinewidth\":0,\"ticks\":\"\"},\"colorscale\":[[0.0,\"#0d0887\"],[0.1111111111111111,\"#46039f\"],[0.2222222222222222,\"#7201a8\"],[0.3333333333333333,\"#9c179e\"],[0.4444444444444444,\"#bd3786\"],[0.5555555555555556,\"#d8576b\"],[0.6666666666666666,\"#ed7953\"],[0.7777777777777778,\"#fb9f3a\"],[0.8888888888888888,\"#fdca26\"],[1.0,\"#f0f921\"]],\"type\":\"histogram2d\"}],\"histogram2dcontour\":[{\"colorbar\":{\"outlinewidth\":0,\"ticks\":\"\"},\"colorscale\":[[0.0,\"#0d0887\"],[0.1111111111111111,\"#46039f\"],[0.2222222222222222,\"#7201a8\"],[0.3333333333333333,\"#9c179e\"],[0.4444444444444444,\"#bd3786\"],[0.5555555555555556,\"#d8576b\"],[0.6666666666666666,\"#ed7953\"],[0.7777777777777778,\"#fb9f3a\"],[0.8888888888888888,\"#fdca26\"],[1.0,\"#f0f921\"]],\"type\":\"histogram2dcontour\"}],\"mesh3d\":[{\"colorbar\":{\"outlinewidth\":0,\"ticks\":\"\"},\"type\":\"mesh3d\"}],\"parcoords\":[{\"line\":{\"colorbar\":{\"outlinewidth\":0,\"ticks\":\"\"}},\"type\":\"parcoords\"}],\"pie\":[{\"automargin\":true,\"type\":\"pie\"}],\"scatter\":[{\"marker\":{\"colorbar\":{\"outlinewidth\":0,\"ticks\":\"\"}},\"type\":\"scatter\"}],\"scatter3d\":[{\"line\":{\"colorbar\":{\"outlinewidth\":0,\"ticks\":\"\"}},\"marker\":{\"colorbar\":{\"outlinewidth\":0,\"ticks\":\"\"}},\"type\":\"scatter3d\"}],\"scattercarpet\":[{\"marker\":{\"colorbar\":{\"outlinewidth\":0,\"ticks\":\"\"}},\"type\":\"scattercarpet\"}],\"scattergeo\":[{\"marker\":{\"colorbar\":{\"outlinewidth\":0,\"ticks\":\"\"}},\"type\":\"scattergeo\"}],\"scattergl\":[{\"marker\":{\"colorbar\":{\"outlinewidth\":0,\"ticks\":\"\"}},\"type\":\"scattergl\"}],\"scattermapbox\":[{\"marker\":{\"colorbar\":{\"outlinewidth\":0,\"ticks\":\"\"}},\"type\":\"scattermapbox\"}],\"scatterpolar\":[{\"marker\":{\"colorbar\":{\"outlinewidth\":0,\"ticks\":\"\"}},\"type\":\"scatterpolar\"}],\"scatterpolargl\":[{\"marker\":{\"colorbar\":{\"outlinewidth\":0,\"ticks\":\"\"}},\"type\":\"scatterpolargl\"}],\"scatterternary\":[{\"marker\":{\"colorbar\":{\"outlinewidth\":0,\"ticks\":\"\"}},\"type\":\"scatterternary\"}],\"surface\":[{\"colorbar\":{\"outlinewidth\":0,\"ticks\":\"\"},\"colorscale\":[[0.0,\"#0d0887\"],[0.1111111111111111,\"#46039f\"],[0.2222222222222222,\"#7201a8\"],[0.3333333333333333,\"#9c179e\"],[0.4444444444444444,\"#bd3786\"],[0.5555555555555556,\"#d8576b\"],[0.6666666666666666,\"#ed7953\"],[0.7777777777777778,\"#fb9f3a\"],[0.8888888888888888,\"#fdca26\"],[1.0,\"#f0f921\"]],\"type\":\"surface\"}],\"table\":[{\"cells\":{\"fill\":{\"color\":\"#EBF0F8\"},\"line\":{\"color\":\"white\"}},\"header\":{\"fill\":{\"color\":\"#C8D4E3\"},\"line\":{\"color\":\"white\"}},\"type\":\"table\"}]},\"layout\":{\"annotationdefaults\":{\"arrowcolor\":\"#2a3f5f\",\"arrowhead\":0,\"arrowwidth\":1},\"autotypenumbers\":\"strict\",\"coloraxis\":{\"colorbar\":{\"outlinewidth\":0,\"ticks\":\"\"}},\"colorscale\":{\"diverging\":[[0,\"#8e0152\"],[0.1,\"#c51b7d\"],[0.2,\"#de77ae\"],[0.3,\"#f1b6da\"],[0.4,\"#fde0ef\"],[0.5,\"#f7f7f7\"],[0.6,\"#e6f5d0\"],[0.7,\"#b8e186\"],[0.8,\"#7fbc41\"],[0.9,\"#4d9221\"],[1,\"#276419\"]],\"sequential\":[[0.0,\"#0d0887\"],[0.1111111111111111,\"#46039f\"],[0.2222222222222222,\"#7201a8\"],[0.3333333333333333,\"#9c179e\"],[0.4444444444444444,\"#bd3786\"],[0.5555555555555556,\"#d8576b\"],[0.6666666666666666,\"#ed7953\"],[0.7777777777777778,\"#fb9f3a\"],[0.8888888888888888,\"#fdca26\"],[1.0,\"#f0f921\"]],\"sequentialminus\":[[0.0,\"#0d0887\"],[0.1111111111111111,\"#46039f\"],[0.2222222222222222,\"#7201a8\"],[0.3333333333333333,\"#9c179e\"],[0.4444444444444444,\"#bd3786\"],[0.5555555555555556,\"#d8576b\"],[0.6666666666666666,\"#ed7953\"],[0.7777777777777778,\"#fb9f3a\"],[0.8888888888888888,\"#fdca26\"],[1.0,\"#f0f921\"]]},\"colorway\":[\"#636efa\",\"#EF553B\",\"#00cc96\",\"#ab63fa\",\"#FFA15A\",\"#19d3f3\",\"#FF6692\",\"#B6E880\",\"#FF97FF\",\"#FECB52\"],\"font\":{\"color\":\"#2a3f5f\"},\"geo\":{\"bgcolor\":\"white\",\"lakecolor\":\"white\",\"landcolor\":\"#E5ECF6\",\"showlakes\":true,\"showland\":true,\"subunitcolor\":\"white\"},\"hoverlabel\":{\"align\":\"left\"},\"hovermode\":\"closest\",\"mapbox\":{\"style\":\"light\"},\"paper_bgcolor\":\"white\",\"plot_bgcolor\":\"#E5ECF6\",\"polar\":{\"angularaxis\":{\"gridcolor\":\"white\",\"linecolor\":\"white\",\"ticks\":\"\"},\"bgcolor\":\"#E5ECF6\",\"radialaxis\":{\"gridcolor\":\"white\",\"linecolor\":\"white\",\"ticks\":\"\"}},\"scene\":{\"xaxis\":{\"backgroundcolor\":\"#E5ECF6\",\"gridcolor\":\"white\",\"gridwidth\":2,\"linecolor\":\"white\",\"showbackground\":true,\"ticks\":\"\",\"zerolinecolor\":\"white\"},\"yaxis\":{\"backgroundcolor\":\"#E5ECF6\",\"gridcolor\":\"white\",\"gridwidth\":2,\"linecolor\":\"white\",\"showbackground\":true,\"ticks\":\"\",\"zerolinecolor\":\"white\"},\"zaxis\":{\"backgroundcolor\":\"#E5ECF6\",\"gridcolor\":\"white\",\"gridwidth\":2,\"linecolor\":\"white\",\"showbackground\":true,\"ticks\":\"\",\"zerolinecolor\":\"white\"}},\"shapedefaults\":{\"line\":{\"color\":\"#2a3f5f\"}},\"ternary\":{\"aaxis\":{\"gridcolor\":\"white\",\"linecolor\":\"white\",\"ticks\":\"\"},\"baxis\":{\"gridcolor\":\"white\",\"linecolor\":\"white\",\"ticks\":\"\"},\"bgcolor\":\"#E5ECF6\",\"caxis\":{\"gridcolor\":\"white\",\"linecolor\":\"white\",\"ticks\":\"\"}},\"title\":{\"x\":0.05},\"xaxis\":{\"automargin\":true,\"gridcolor\":\"white\",\"linecolor\":\"white\",\"ticks\":\"\",\"title\":{\"standoff\":15},\"zerolinecolor\":\"white\",\"zerolinewidth\":2},\"yaxis\":{\"automargin\":true,\"gridcolor\":\"white\",\"linecolor\":\"white\",\"ticks\":\"\",\"title\":{\"standoff\":15},\"zerolinecolor\":\"white\",\"zerolinewidth\":2}}},\"xaxis\":{\"anchor\":\"y\",\"domain\":[0.0,1.0],\"title\":{\"text\":\"Date\"},\"showgrid\":false},\"yaxis\":{\"anchor\":\"x\",\"domain\":[0.0,1.0],\"title\":{\"text\":\"Close Stock\"},\"showgrid\":false},\"legend\":{\"tracegroupgap\":0},\"margin\":{\"t\":60},\"title\":{\"text\":\"Stock close price chart\"},\"font\":{\"size\":15,\"color\":\"black\"},\"plot_bgcolor\":\"white\"},                        {\"responsive\": true}                    ).then(function(){\n",
              "                            \n",
              "var gd = document.getElementById('3ed9d2ad-638b-4935-8ad7-63bf3af4aff0');\n",
              "var x = new MutationObserver(function (mutations, observer) {{\n",
              "        var display = window.getComputedStyle(gd).display;\n",
              "        if (!display || display === 'none') {{\n",
              "            console.log([gd, 'removed!']);\n",
              "            Plotly.purge(gd);\n",
              "            observer.disconnect();\n",
              "        }}\n",
              "}});\n",
              "\n",
              "// Listen for the removal of the full notebook cells\n",
              "var notebookContainer = gd.closest('#notebook-container');\n",
              "if (notebookContainer) {{\n",
              "    x.observe(notebookContainer, {childList: true});\n",
              "}}\n",
              "\n",
              "// Listen for the clearing of the current output cell\n",
              "var outputEl = gd.closest('.output');\n",
              "if (outputEl) {{\n",
              "    x.observe(outputEl, {childList: true});\n",
              "}}\n",
              "\n",
              "                        })                };                            </script>        </div>\n",
              "</body>\n",
              "</html>"
            ]
          },
          "metadata": {}
        }
      ],
      "source": [
        "fig = px.line(closedf, x=closedf.date, y=closedf.close,labels={'date':'Date','close':'Close Stock'})\n",
        "fig.update_traces(marker_line_width=2, opacity=0.8)\n",
        "fig.update_layout(title_text='Stock close price chart', plot_bgcolor='white', font_size=15, font_color='black')\n",
        "fig.update_xaxes(showgrid=False)\n",
        "fig.update_yaxes(showgrid=False)\n",
        "fig.show()"
      ]
    },
    {
      "cell_type": "markdown",
      "metadata": {
        "id": "BHfBPVsGGtAC"
      },
      "source": [
        "From the stock close price plot above, it can be seen that there is a significant decreasing on March 2020."
      ]
    },
    {
      "cell_type": "markdown",
      "metadata": {
        "id": "rrRZ907balU0"
      },
      "source": [
        "<a name=\"year\"></a>\n",
        "\n",
        "# Consider only last 1 year data for prediction"
      ]
    },
    {
      "cell_type": "code",
      "execution_count": 21,
      "metadata": {
        "colab": {
          "base_uri": "https://localhost:8080/"
        },
        "execution": {
          "iopub.execute_input": "2021-08-16T08:12:26.281738Z",
          "iopub.status.busy": "2021-08-16T08:12:26.281464Z",
          "iopub.status.idle": "2021-08-16T08:12:26.287929Z",
          "shell.execute_reply": "2021-08-16T08:12:26.286927Z",
          "shell.execute_reply.started": "2021-08-16T08:12:26.281712Z"
        },
        "id": "Db32HBHfalU0",
        "outputId": "66960519-9223-4d3f-fe29-ae2999233156",
        "trusted": true
      },
      "outputs": [
        {
          "output_type": "stream",
          "name": "stdout",
          "text": [
            "Total data for prediction:  248\n"
          ]
        }
      ],
      "source": [
        "closedf = closedf[closedf['date'] > '2021-12-16']\n",
        "close_stock = closedf.copy()\n",
        "print(\"Total data for prediction: \",closedf.shape[0])"
      ]
    },
    {
      "cell_type": "markdown",
      "metadata": {
        "id": "EXPaxsRhG7Gg"
      },
      "source": [
        "The total number of data used for analysis to do the prediction is 248 data which is for the last 1 year."
      ]
    },
    {
      "cell_type": "code",
      "execution_count": 22,
      "metadata": {
        "colab": {
          "base_uri": "https://localhost:8080/",
          "height": 542
        },
        "execution": {
          "iopub.execute_input": "2021-08-16T08:12:26.289627Z",
          "iopub.status.busy": "2021-08-16T08:12:26.289334Z",
          "iopub.status.idle": "2021-08-16T08:12:26.388309Z",
          "shell.execute_reply": "2021-08-16T08:12:26.387172Z",
          "shell.execute_reply.started": "2021-08-16T08:12:26.289599Z"
        },
        "id": "n0j4m7STalU1",
        "outputId": "bd4e1ca2-bf33-4a0f-fe48-1f4287af7256",
        "trusted": true
      },
      "outputs": [
        {
          "output_type": "display_data",
          "data": {
            "text/html": [
              "<html>\n",
              "<head><meta charset=\"utf-8\" /></head>\n",
              "<body>\n",
              "    <div>            <script src=\"https://cdnjs.cloudflare.com/ajax/libs/mathjax/2.7.5/MathJax.js?config=TeX-AMS-MML_SVG\"></script><script type=\"text/javascript\">if (window.MathJax) {MathJax.Hub.Config({SVG: {font: \"STIX-Web\"}});}</script>                <script type=\"text/javascript\">window.PlotlyConfig = {MathJaxConfig: 'local'};</script>\n",
              "        <script src=\"https://cdn.plot.ly/plotly-2.8.3.min.js\"></script>                <div id=\"bcbb3d7b-4197-486a-b110-eb3e31964737\" class=\"plotly-graph-div\" style=\"height:525px; width:100%;\"></div>            <script type=\"text/javascript\">                                    window.PLOTLYENV=window.PLOTLYENV || {};                                    if (document.getElementById(\"bcbb3d7b-4197-486a-b110-eb3e31964737\")) {                    Plotly.newPlot(                        \"bcbb3d7b-4197-486a-b110-eb3e31964737\",                        [{\"hovertemplate\":\"Date=%{x}<br>Close Stock=%{y}<extra></extra>\",\"legendgroup\":\"\",\"line\":{\"color\":\"#636efa\",\"dash\":\"solid\"},\"marker\":{\"symbol\":\"circle\",\"line\":{\"color\":\"orange\",\"width\":2}},\"mode\":\"lines\",\"name\":\"\",\"orientation\":\"v\",\"showlegend\":false,\"x\":[\"2021-12-17T00:00:00\",\"2021-12-20T00:00:00\",\"2021-12-21T00:00:00\",\"2021-12-22T00:00:00\",\"2021-12-23T00:00:00\",\"2021-12-24T00:00:00\",\"2021-12-27T00:00:00\",\"2021-12-28T00:00:00\",\"2021-12-29T00:00:00\",\"2021-12-30T00:00:00\",\"2022-01-03T00:00:00\",\"2022-01-04T00:00:00\",\"2022-01-05T00:00:00\",\"2022-01-06T00:00:00\",\"2022-01-07T00:00:00\",\"2022-01-10T00:00:00\",\"2022-01-11T00:00:00\",\"2022-01-12T00:00:00\",\"2022-01-13T00:00:00\",\"2022-01-14T00:00:00\",\"2022-01-17T00:00:00\",\"2022-01-18T00:00:00\",\"2022-01-19T00:00:00\",\"2022-01-20T00:00:00\",\"2022-01-21T00:00:00\",\"2022-01-24T00:00:00\",\"2022-01-25T00:00:00\",\"2022-01-26T00:00:00\",\"2022-01-27T00:00:00\",\"2022-01-28T00:00:00\",\"2022-01-31T00:00:00\",\"2022-02-02T00:00:00\",\"2022-02-03T00:00:00\",\"2022-02-04T00:00:00\",\"2022-02-07T00:00:00\",\"2022-02-08T00:00:00\",\"2022-02-09T00:00:00\",\"2022-02-10T00:00:00\",\"2022-02-11T00:00:00\",\"2022-02-14T00:00:00\",\"2022-02-15T00:00:00\",\"2022-02-16T00:00:00\",\"2022-02-17T00:00:00\",\"2022-02-18T00:00:00\",\"2022-02-21T00:00:00\",\"2022-02-22T00:00:00\",\"2022-02-23T00:00:00\",\"2022-02-24T00:00:00\",\"2022-02-25T00:00:00\",\"2022-03-01T00:00:00\",\"2022-03-02T00:00:00\",\"2022-03-04T00:00:00\",\"2022-03-07T00:00:00\",\"2022-03-08T00:00:00\",\"2022-03-09T00:00:00\",\"2022-03-10T00:00:00\",\"2022-03-11T00:00:00\",\"2022-03-14T00:00:00\",\"2022-03-15T00:00:00\",\"2022-03-16T00:00:00\",\"2022-03-17T00:00:00\",\"2022-03-18T00:00:00\",\"2022-03-21T00:00:00\",\"2022-03-22T00:00:00\",\"2022-03-23T00:00:00\",\"2022-03-24T00:00:00\",\"2022-03-25T00:00:00\",\"2022-03-28T00:00:00\",\"2022-03-29T00:00:00\",\"2022-03-30T00:00:00\",\"2022-03-31T00:00:00\",\"2022-04-01T00:00:00\",\"2022-04-04T00:00:00\",\"2022-04-05T00:00:00\",\"2022-04-06T00:00:00\",\"2022-04-07T00:00:00\",\"2022-04-08T00:00:00\",\"2022-04-11T00:00:00\",\"2022-04-12T00:00:00\",\"2022-04-13T00:00:00\",\"2022-04-14T00:00:00\",\"2022-04-18T00:00:00\",\"2022-04-19T00:00:00\",\"2022-04-20T00:00:00\",\"2022-04-21T00:00:00\",\"2022-04-22T00:00:00\",\"2022-04-25T00:00:00\",\"2022-04-26T00:00:00\",\"2022-04-27T00:00:00\",\"2022-04-28T00:00:00\",\"2022-05-09T00:00:00\",\"2022-05-10T00:00:00\",\"2022-05-11T00:00:00\",\"2022-05-12T00:00:00\",\"2022-05-13T00:00:00\",\"2022-05-17T00:00:00\",\"2022-05-18T00:00:00\",\"2022-05-19T00:00:00\",\"2022-05-20T00:00:00\",\"2022-05-23T00:00:00\",\"2022-05-24T00:00:00\",\"2022-05-25T00:00:00\",\"2022-05-27T00:00:00\",\"2022-05-30T00:00:00\",\"2022-05-31T00:00:00\",\"2022-06-02T00:00:00\",\"2022-06-03T00:00:00\",\"2022-06-06T00:00:00\",\"2022-06-07T00:00:00\",\"2022-06-08T00:00:00\",\"2022-06-09T00:00:00\",\"2022-06-10T00:00:00\",\"2022-06-13T00:00:00\",\"2022-06-14T00:00:00\",\"2022-06-15T00:00:00\",\"2022-06-16T00:00:00\",\"2022-06-17T00:00:00\",\"2022-06-20T00:00:00\",\"2022-06-21T00:00:00\",\"2022-06-22T00:00:00\",\"2022-06-23T00:00:00\",\"2022-06-24T00:00:00\",\"2022-06-27T00:00:00\",\"2022-06-28T00:00:00\",\"2022-06-29T00:00:00\",\"2022-06-30T00:00:00\",\"2022-07-01T00:00:00\",\"2022-07-04T00:00:00\",\"2022-07-05T00:00:00\",\"2022-07-06T00:00:00\",\"2022-07-07T00:00:00\",\"2022-07-08T00:00:00\",\"2022-07-11T00:00:00\",\"2022-07-12T00:00:00\",\"2022-07-13T00:00:00\",\"2022-07-14T00:00:00\",\"2022-07-15T00:00:00\",\"2022-07-18T00:00:00\",\"2022-07-19T00:00:00\",\"2022-07-20T00:00:00\",\"2022-07-21T00:00:00\",\"2022-07-22T00:00:00\",\"2022-07-25T00:00:00\",\"2022-07-26T00:00:00\",\"2022-07-27T00:00:00\",\"2022-07-28T00:00:00\",\"2022-07-29T00:00:00\",\"2022-08-01T00:00:00\",\"2022-08-02T00:00:00\",\"2022-08-03T00:00:00\",\"2022-08-04T00:00:00\",\"2022-08-05T00:00:00\",\"2022-08-08T00:00:00\",\"2022-08-09T00:00:00\",\"2022-08-10T00:00:00\",\"2022-08-11T00:00:00\",\"2022-08-12T00:00:00\",\"2022-08-15T00:00:00\",\"2022-08-16T00:00:00\",\"2022-08-18T00:00:00\",\"2022-08-19T00:00:00\",\"2022-08-22T00:00:00\",\"2022-08-23T00:00:00\",\"2022-08-24T00:00:00\",\"2022-08-25T00:00:00\",\"2022-08-26T00:00:00\",\"2022-08-29T00:00:00\",\"2022-08-30T00:00:00\",\"2022-08-31T00:00:00\",\"2022-09-01T00:00:00\",\"2022-09-02T00:00:00\",\"2022-09-05T00:00:00\",\"2022-09-06T00:00:00\",\"2022-09-07T00:00:00\",\"2022-09-08T00:00:00\",\"2022-09-09T00:00:00\",\"2022-09-12T00:00:00\",\"2022-09-13T00:00:00\",\"2022-09-14T00:00:00\",\"2022-09-15T00:00:00\",\"2022-09-16T00:00:00\",\"2022-09-19T00:00:00\",\"2022-09-20T00:00:00\",\"2022-09-21T00:00:00\",\"2022-09-22T00:00:00\",\"2022-09-23T00:00:00\",\"2022-09-26T00:00:00\",\"2022-09-27T00:00:00\",\"2022-09-28T00:00:00\",\"2022-09-29T00:00:00\",\"2022-09-30T00:00:00\",\"2022-10-03T00:00:00\",\"2022-10-04T00:00:00\",\"2022-10-05T00:00:00\",\"2022-10-06T00:00:00\",\"2022-10-07T00:00:00\",\"2022-10-10T00:00:00\",\"2022-10-11T00:00:00\",\"2022-10-12T00:00:00\",\"2022-10-13T00:00:00\",\"2022-10-14T00:00:00\",\"2022-10-17T00:00:00\",\"2022-10-18T00:00:00\",\"2022-10-19T00:00:00\",\"2022-10-20T00:00:00\",\"2022-10-21T00:00:00\",\"2022-10-24T00:00:00\",\"2022-10-25T00:00:00\",\"2022-10-26T00:00:00\",\"2022-10-27T00:00:00\",\"2022-10-28T00:00:00\",\"2022-10-31T00:00:00\",\"2022-11-01T00:00:00\",\"2022-11-02T00:00:00\",\"2022-11-03T00:00:00\",\"2022-11-04T00:00:00\",\"2022-11-07T00:00:00\",\"2022-11-08T00:00:00\",\"2022-11-09T00:00:00\",\"2022-11-10T00:00:00\",\"2022-11-11T00:00:00\",\"2022-11-14T00:00:00\",\"2022-11-15T00:00:00\",\"2022-11-16T00:00:00\",\"2022-11-17T00:00:00\",\"2022-11-18T00:00:00\",\"2022-11-21T00:00:00\",\"2022-11-22T00:00:00\",\"2022-11-23T00:00:00\",\"2022-11-24T00:00:00\",\"2022-11-25T00:00:00\",\"2022-11-28T00:00:00\",\"2022-11-29T00:00:00\",\"2022-11-30T00:00:00\",\"2022-12-01T00:00:00\",\"2022-12-02T00:00:00\",\"2022-12-05T00:00:00\",\"2022-12-06T00:00:00\",\"2022-12-07T00:00:00\",\"2022-12-08T00:00:00\",\"2022-12-09T00:00:00\",\"2022-12-12T00:00:00\",\"2022-12-13T00:00:00\",\"2022-12-14T00:00:00\",\"2022-12-15T00:00:00\",\"2022-12-16T00:00:00\",\"2022-12-19T00:00:00\",\"2022-12-20T00:00:00\"],\"xaxis\":\"x\",\"y\":[4110.0,4120.0,4080.0,4050.0,4100.0,4070.0,4060.0,4090.0,4080.0,4110.0,4180.0,4160.0,4210.0,4160.0,4190.0,4180.0,4150.0,4160.0,4190.0,4180.0,4210.0,4190.0,4130.0,4130.0,4170.0,4120.0,4070.0,4090.0,4140.0,4140.0,4070.0,4070.0,4130.0,4210.0,4400.0,4440.0,4450.0,4470.0,4450.0,4410.0,4430.0,4420.0,4400.0,4430.0,4490.0,4430.0,4480.0,4390.0,4550.0,4630.0,4560.0,4670.0,4520.0,4430.0,4570.0,4570.0,4400.0,4520.0,4610.0,4650.0,4650.0,4580.0,4590.0,4640.0,4650.0,4730.0,4710.0,4730.0,4690.0,4710.0,4660.0,4730.0,4700.0,4700.0,4600.0,4630.0,4610.0,4570.0,4610.0,4610.0,4540.0,4550.0,4570.0,4850.0,4800.0,4750.0,4840.0,4940.0,4850.0,4870.0,4530.0,4530.0,4490.0,4320.0,4250.0,4450.0,4450.0,4440.0,4430.0,4330.0,4460.0,4350.0,4540.0,4430.0,4630.0,4480.0,4520.0,4430.0,4400.0,4470.0,4490.0,4400.0,4340.0,4360.0,4450.0,4430.0,4370.0,4400.0,4380.0,4320.0,4310.0,4340.0,4280.0,4300.0,4180.0,4150.0,4140.0,4040.0,4090.0,4080.0,4050.0,4200.0,4120.0,4110.0,4060.0,4070.0,4110.0,4140.0,4110.0,4300.0,4310.0,4270.0,4250.0,4330.0,4320.0,4360.0,4360.0,4360.0,4400.0,4380.0,4360.0,4360.0,4370.0,4410.0,4310.0,4350.0,4320.0,4300.0,4280.0,4330.0,4300.0,4270.0,4300.0,4290.0,4270.0,4270.0,4250.0,4260.0,4340.0,4390.0,4450.0,4590.0,4560.0,4460.0,4600.0,4610.0,4560.0,4580.0,4580.0,4610.0,4500.0,4570.0,4490.0,4550.0,4560.0,4480.0,4540.0,4530.0,4520.0,4480.0,4490.0,4530.0,4640.0,4540.0,4510.0,4440.0,4370.0,4430.0,4400.0,4350.0,4270.0,4300.0,4290.0,4300.0,4390.0,4430.0,4500.0,4590.0,4530.0,4600.0,4630.0,4650.0,4660.0,4610.0,4650.0,4650.0,4690.0,4620.0,4650.0,4530.0,4650.0,4580.0,4580.0,4520.0,4670.0,4610.0,4590.0,4590.0,4670.0,4720.0,4750.0,4820.0,4850.0,4980.0,4940.0,4890.0,4890.0,4860.0,4760.0,4840.0,4800.0,4850.0,4970.0,4980.0,4910.0,4980.0,4970.0,4910.0],\"yaxis\":\"y\",\"type\":\"scatter\",\"opacity\":0.8}],                        {\"template\":{\"data\":{\"bar\":[{\"error_x\":{\"color\":\"#2a3f5f\"},\"error_y\":{\"color\":\"#2a3f5f\"},\"marker\":{\"line\":{\"color\":\"#E5ECF6\",\"width\":0.5},\"pattern\":{\"fillmode\":\"overlay\",\"size\":10,\"solidity\":0.2}},\"type\":\"bar\"}],\"barpolar\":[{\"marker\":{\"line\":{\"color\":\"#E5ECF6\",\"width\":0.5},\"pattern\":{\"fillmode\":\"overlay\",\"size\":10,\"solidity\":0.2}},\"type\":\"barpolar\"}],\"carpet\":[{\"aaxis\":{\"endlinecolor\":\"#2a3f5f\",\"gridcolor\":\"white\",\"linecolor\":\"white\",\"minorgridcolor\":\"white\",\"startlinecolor\":\"#2a3f5f\"},\"baxis\":{\"endlinecolor\":\"#2a3f5f\",\"gridcolor\":\"white\",\"linecolor\":\"white\",\"minorgridcolor\":\"white\",\"startlinecolor\":\"#2a3f5f\"},\"type\":\"carpet\"}],\"choropleth\":[{\"colorbar\":{\"outlinewidth\":0,\"ticks\":\"\"},\"type\":\"choropleth\"}],\"contour\":[{\"colorbar\":{\"outlinewidth\":0,\"ticks\":\"\"},\"colorscale\":[[0.0,\"#0d0887\"],[0.1111111111111111,\"#46039f\"],[0.2222222222222222,\"#7201a8\"],[0.3333333333333333,\"#9c179e\"],[0.4444444444444444,\"#bd3786\"],[0.5555555555555556,\"#d8576b\"],[0.6666666666666666,\"#ed7953\"],[0.7777777777777778,\"#fb9f3a\"],[0.8888888888888888,\"#fdca26\"],[1.0,\"#f0f921\"]],\"type\":\"contour\"}],\"contourcarpet\":[{\"colorbar\":{\"outlinewidth\":0,\"ticks\":\"\"},\"type\":\"contourcarpet\"}],\"heatmap\":[{\"colorbar\":{\"outlinewidth\":0,\"ticks\":\"\"},\"colorscale\":[[0.0,\"#0d0887\"],[0.1111111111111111,\"#46039f\"],[0.2222222222222222,\"#7201a8\"],[0.3333333333333333,\"#9c179e\"],[0.4444444444444444,\"#bd3786\"],[0.5555555555555556,\"#d8576b\"],[0.6666666666666666,\"#ed7953\"],[0.7777777777777778,\"#fb9f3a\"],[0.8888888888888888,\"#fdca26\"],[1.0,\"#f0f921\"]],\"type\":\"heatmap\"}],\"heatmapgl\":[{\"colorbar\":{\"outlinewidth\":0,\"ticks\":\"\"},\"colorscale\":[[0.0,\"#0d0887\"],[0.1111111111111111,\"#46039f\"],[0.2222222222222222,\"#7201a8\"],[0.3333333333333333,\"#9c179e\"],[0.4444444444444444,\"#bd3786\"],[0.5555555555555556,\"#d8576b\"],[0.6666666666666666,\"#ed7953\"],[0.7777777777777778,\"#fb9f3a\"],[0.8888888888888888,\"#fdca26\"],[1.0,\"#f0f921\"]],\"type\":\"heatmapgl\"}],\"histogram\":[{\"marker\":{\"pattern\":{\"fillmode\":\"overlay\",\"size\":10,\"solidity\":0.2}},\"type\":\"histogram\"}],\"histogram2d\":[{\"colorbar\":{\"outlinewidth\":0,\"ticks\":\"\"},\"colorscale\":[[0.0,\"#0d0887\"],[0.1111111111111111,\"#46039f\"],[0.2222222222222222,\"#7201a8\"],[0.3333333333333333,\"#9c179e\"],[0.4444444444444444,\"#bd3786\"],[0.5555555555555556,\"#d8576b\"],[0.6666666666666666,\"#ed7953\"],[0.7777777777777778,\"#fb9f3a\"],[0.8888888888888888,\"#fdca26\"],[1.0,\"#f0f921\"]],\"type\":\"histogram2d\"}],\"histogram2dcontour\":[{\"colorbar\":{\"outlinewidth\":0,\"ticks\":\"\"},\"colorscale\":[[0.0,\"#0d0887\"],[0.1111111111111111,\"#46039f\"],[0.2222222222222222,\"#7201a8\"],[0.3333333333333333,\"#9c179e\"],[0.4444444444444444,\"#bd3786\"],[0.5555555555555556,\"#d8576b\"],[0.6666666666666666,\"#ed7953\"],[0.7777777777777778,\"#fb9f3a\"],[0.8888888888888888,\"#fdca26\"],[1.0,\"#f0f921\"]],\"type\":\"histogram2dcontour\"}],\"mesh3d\":[{\"colorbar\":{\"outlinewidth\":0,\"ticks\":\"\"},\"type\":\"mesh3d\"}],\"parcoords\":[{\"line\":{\"colorbar\":{\"outlinewidth\":0,\"ticks\":\"\"}},\"type\":\"parcoords\"}],\"pie\":[{\"automargin\":true,\"type\":\"pie\"}],\"scatter\":[{\"marker\":{\"colorbar\":{\"outlinewidth\":0,\"ticks\":\"\"}},\"type\":\"scatter\"}],\"scatter3d\":[{\"line\":{\"colorbar\":{\"outlinewidth\":0,\"ticks\":\"\"}},\"marker\":{\"colorbar\":{\"outlinewidth\":0,\"ticks\":\"\"}},\"type\":\"scatter3d\"}],\"scattercarpet\":[{\"marker\":{\"colorbar\":{\"outlinewidth\":0,\"ticks\":\"\"}},\"type\":\"scattercarpet\"}],\"scattergeo\":[{\"marker\":{\"colorbar\":{\"outlinewidth\":0,\"ticks\":\"\"}},\"type\":\"scattergeo\"}],\"scattergl\":[{\"marker\":{\"colorbar\":{\"outlinewidth\":0,\"ticks\":\"\"}},\"type\":\"scattergl\"}],\"scattermapbox\":[{\"marker\":{\"colorbar\":{\"outlinewidth\":0,\"ticks\":\"\"}},\"type\":\"scattermapbox\"}],\"scatterpolar\":[{\"marker\":{\"colorbar\":{\"outlinewidth\":0,\"ticks\":\"\"}},\"type\":\"scatterpolar\"}],\"scatterpolargl\":[{\"marker\":{\"colorbar\":{\"outlinewidth\":0,\"ticks\":\"\"}},\"type\":\"scatterpolargl\"}],\"scatterternary\":[{\"marker\":{\"colorbar\":{\"outlinewidth\":0,\"ticks\":\"\"}},\"type\":\"scatterternary\"}],\"surface\":[{\"colorbar\":{\"outlinewidth\":0,\"ticks\":\"\"},\"colorscale\":[[0.0,\"#0d0887\"],[0.1111111111111111,\"#46039f\"],[0.2222222222222222,\"#7201a8\"],[0.3333333333333333,\"#9c179e\"],[0.4444444444444444,\"#bd3786\"],[0.5555555555555556,\"#d8576b\"],[0.6666666666666666,\"#ed7953\"],[0.7777777777777778,\"#fb9f3a\"],[0.8888888888888888,\"#fdca26\"],[1.0,\"#f0f921\"]],\"type\":\"surface\"}],\"table\":[{\"cells\":{\"fill\":{\"color\":\"#EBF0F8\"},\"line\":{\"color\":\"white\"}},\"header\":{\"fill\":{\"color\":\"#C8D4E3\"},\"line\":{\"color\":\"white\"}},\"type\":\"table\"}]},\"layout\":{\"annotationdefaults\":{\"arrowcolor\":\"#2a3f5f\",\"arrowhead\":0,\"arrowwidth\":1},\"autotypenumbers\":\"strict\",\"coloraxis\":{\"colorbar\":{\"outlinewidth\":0,\"ticks\":\"\"}},\"colorscale\":{\"diverging\":[[0,\"#8e0152\"],[0.1,\"#c51b7d\"],[0.2,\"#de77ae\"],[0.3,\"#f1b6da\"],[0.4,\"#fde0ef\"],[0.5,\"#f7f7f7\"],[0.6,\"#e6f5d0\"],[0.7,\"#b8e186\"],[0.8,\"#7fbc41\"],[0.9,\"#4d9221\"],[1,\"#276419\"]],\"sequential\":[[0.0,\"#0d0887\"],[0.1111111111111111,\"#46039f\"],[0.2222222222222222,\"#7201a8\"],[0.3333333333333333,\"#9c179e\"],[0.4444444444444444,\"#bd3786\"],[0.5555555555555556,\"#d8576b\"],[0.6666666666666666,\"#ed7953\"],[0.7777777777777778,\"#fb9f3a\"],[0.8888888888888888,\"#fdca26\"],[1.0,\"#f0f921\"]],\"sequentialminus\":[[0.0,\"#0d0887\"],[0.1111111111111111,\"#46039f\"],[0.2222222222222222,\"#7201a8\"],[0.3333333333333333,\"#9c179e\"],[0.4444444444444444,\"#bd3786\"],[0.5555555555555556,\"#d8576b\"],[0.6666666666666666,\"#ed7953\"],[0.7777777777777778,\"#fb9f3a\"],[0.8888888888888888,\"#fdca26\"],[1.0,\"#f0f921\"]]},\"colorway\":[\"#636efa\",\"#EF553B\",\"#00cc96\",\"#ab63fa\",\"#FFA15A\",\"#19d3f3\",\"#FF6692\",\"#B6E880\",\"#FF97FF\",\"#FECB52\"],\"font\":{\"color\":\"#2a3f5f\"},\"geo\":{\"bgcolor\":\"white\",\"lakecolor\":\"white\",\"landcolor\":\"#E5ECF6\",\"showlakes\":true,\"showland\":true,\"subunitcolor\":\"white\"},\"hoverlabel\":{\"align\":\"left\"},\"hovermode\":\"closest\",\"mapbox\":{\"style\":\"light\"},\"paper_bgcolor\":\"white\",\"plot_bgcolor\":\"#E5ECF6\",\"polar\":{\"angularaxis\":{\"gridcolor\":\"white\",\"linecolor\":\"white\",\"ticks\":\"\"},\"bgcolor\":\"#E5ECF6\",\"radialaxis\":{\"gridcolor\":\"white\",\"linecolor\":\"white\",\"ticks\":\"\"}},\"scene\":{\"xaxis\":{\"backgroundcolor\":\"#E5ECF6\",\"gridcolor\":\"white\",\"gridwidth\":2,\"linecolor\":\"white\",\"showbackground\":true,\"ticks\":\"\",\"zerolinecolor\":\"white\"},\"yaxis\":{\"backgroundcolor\":\"#E5ECF6\",\"gridcolor\":\"white\",\"gridwidth\":2,\"linecolor\":\"white\",\"showbackground\":true,\"ticks\":\"\",\"zerolinecolor\":\"white\"},\"zaxis\":{\"backgroundcolor\":\"#E5ECF6\",\"gridcolor\":\"white\",\"gridwidth\":2,\"linecolor\":\"white\",\"showbackground\":true,\"ticks\":\"\",\"zerolinecolor\":\"white\"}},\"shapedefaults\":{\"line\":{\"color\":\"#2a3f5f\"}},\"ternary\":{\"aaxis\":{\"gridcolor\":\"white\",\"linecolor\":\"white\",\"ticks\":\"\"},\"baxis\":{\"gridcolor\":\"white\",\"linecolor\":\"white\",\"ticks\":\"\"},\"bgcolor\":\"#E5ECF6\",\"caxis\":{\"gridcolor\":\"white\",\"linecolor\":\"white\",\"ticks\":\"\"}},\"title\":{\"x\":0.05},\"xaxis\":{\"automargin\":true,\"gridcolor\":\"white\",\"linecolor\":\"white\",\"ticks\":\"\",\"title\":{\"standoff\":15},\"zerolinecolor\":\"white\",\"zerolinewidth\":2},\"yaxis\":{\"automargin\":true,\"gridcolor\":\"white\",\"linecolor\":\"white\",\"ticks\":\"\",\"title\":{\"standoff\":15},\"zerolinecolor\":\"white\",\"zerolinewidth\":2}}},\"xaxis\":{\"anchor\":\"y\",\"domain\":[0.0,1.0],\"title\":{\"text\":\"Date\"},\"showgrid\":false},\"yaxis\":{\"anchor\":\"x\",\"domain\":[0.0,1.0],\"title\":{\"text\":\"Close Stock\"},\"showgrid\":false},\"legend\":{\"tracegroupgap\":0},\"margin\":{\"t\":60},\"title\":{\"text\":\"Considered period to predict Stock close price\"},\"font\":{\"size\":15,\"color\":\"black\"},\"plot_bgcolor\":\"white\"},                        {\"responsive\": true}                    ).then(function(){\n",
              "                            \n",
              "var gd = document.getElementById('bcbb3d7b-4197-486a-b110-eb3e31964737');\n",
              "var x = new MutationObserver(function (mutations, observer) {{\n",
              "        var display = window.getComputedStyle(gd).display;\n",
              "        if (!display || display === 'none') {{\n",
              "            console.log([gd, 'removed!']);\n",
              "            Plotly.purge(gd);\n",
              "            observer.disconnect();\n",
              "        }}\n",
              "}});\n",
              "\n",
              "// Listen for the removal of the full notebook cells\n",
              "var notebookContainer = gd.closest('#notebook-container');\n",
              "if (notebookContainer) {{\n",
              "    x.observe(notebookContainer, {childList: true});\n",
              "}}\n",
              "\n",
              "// Listen for the clearing of the current output cell\n",
              "var outputEl = gd.closest('.output');\n",
              "if (outputEl) {{\n",
              "    x.observe(outputEl, {childList: true});\n",
              "}}\n",
              "\n",
              "                        })                };                            </script>        </div>\n",
              "</body>\n",
              "</html>"
            ]
          },
          "metadata": {}
        }
      ],
      "source": [
        "fig = px.line(closedf, x=closedf.date, y=closedf.close,labels={'date':'Date','close':'Close Stock'})\n",
        "fig.update_traces(marker_line_width=2, opacity=0.8, marker_line_color='orange')\n",
        "fig.update_layout(title_text='Considered period to predict Stock close price', plot_bgcolor='white', font_size=15, font_color='black')\n",
        "fig.update_xaxes(showgrid=False)\n",
        "fig.update_yaxes(showgrid=False)\n",
        "fig.show()"
      ]
    },
    {
      "cell_type": "markdown",
      "metadata": {
        "id": "frkX7z0WHJSY"
      },
      "source": [
        "The graphic above representate the stock close price for the last 1 year"
      ]
    },
    {
      "cell_type": "markdown",
      "metadata": {
        "id": "hPnL6K9CalU1"
      },
      "source": [
        "<a name=\"norm\"></a>\n",
        "\n",
        "### Normalizing close price"
      ]
    },
    {
      "cell_type": "code",
      "execution_count": 23,
      "metadata": {
        "colab": {
          "base_uri": "https://localhost:8080/"
        },
        "execution": {
          "iopub.execute_input": "2021-08-16T08:12:26.390286Z",
          "iopub.status.busy": "2021-08-16T08:12:26.389854Z",
          "iopub.status.idle": "2021-08-16T08:12:26.39847Z",
          "shell.execute_reply": "2021-08-16T08:12:26.397358Z",
          "shell.execute_reply.started": "2021-08-16T08:12:26.390246Z"
        },
        "id": "wBJwOBQDalU1",
        "outputId": "03cb379d-d55d-45c3-9858-df6f749af08f",
        "trusted": true
      },
      "outputs": [
        {
          "output_type": "stream",
          "name": "stdout",
          "text": [
            "(248, 1)\n"
          ]
        }
      ],
      "source": [
        "del closedf['date']\n",
        "scaler=MinMaxScaler(feature_range=(0,1))\n",
        "closedf=scaler.fit_transform(np.array(closedf).reshape(-1,1))\n",
        "print(closedf.shape)"
      ]
    },
    {
      "cell_type": "markdown",
      "metadata": {
        "id": "SAu6z4XNHkYN"
      },
      "source": [
        "and next is, normalizing the data with range 0 until 1 and add 1 more dimension."
      ]
    },
    {
      "cell_type": "markdown",
      "metadata": {
        "id": "1jgskjHMalU1"
      },
      "source": [
        "<a name=\"split\"></a>\n",
        "\n",
        "### Prepare Data for train and test"
      ]
    },
    {
      "cell_type": "code",
      "execution_count": 24,
      "metadata": {
        "colab": {
          "base_uri": "https://localhost:8080/"
        },
        "execution": {
          "iopub.execute_input": "2021-08-16T08:12:26.400625Z",
          "iopub.status.busy": "2021-08-16T08:12:26.400197Z",
          "iopub.status.idle": "2021-08-16T08:12:26.410852Z",
          "shell.execute_reply": "2021-08-16T08:12:26.409813Z",
          "shell.execute_reply.started": "2021-08-16T08:12:26.400584Z"
        },
        "id": "wXs_NIfpalU1",
        "outputId": "10a7e3eb-bd57-4699-b9e2-9f0bababe491",
        "trusted": true
      },
      "outputs": [
        {
          "output_type": "stream",
          "name": "stdout",
          "text": [
            "train_data:  (148, 1)\n",
            "test_data:  (100, 1)\n"
          ]
        }
      ],
      "source": [
        "training_size=int(len(closedf)*0.60)\n",
        "test_size=len(closedf)-training_size\n",
        "train_data,test_data=closedf[0:training_size,:],closedf[training_size:len(closedf),:1]\n",
        "print(\"train_data: \", train_data.shape)\n",
        "print(\"test_data: \", test_data.shape)"
      ]
    },
    {
      "cell_type": "markdown",
      "metadata": {
        "id": "fCA5b6gDIz4e"
      },
      "source": [
        "after the normalization, the data is divided into 2 data-set which are train-set and test-set. but the divide must be ordered, or can't be done separately."
      ]
    },
    {
      "cell_type": "markdown",
      "metadata": {
        "id": "wfwrhWGyalU1"
      },
      "source": [
        "<a name=\"trans\"></a>\n",
        "\n",
        "### Transform Close price base on Time-series-analysis forecasting requirement"
      ]
    },
    {
      "cell_type": "markdown",
      "metadata": {
        "id": "6qCWHnqPOwop"
      },
      "source": [
        "in this part, I made a function to create new dataset based on customs time step."
      ]
    },
    {
      "cell_type": "code",
      "execution_count": 25,
      "metadata": {
        "execution": {
          "iopub.execute_input": "2021-08-16T08:12:26.413162Z",
          "iopub.status.busy": "2021-08-16T08:12:26.41271Z",
          "iopub.status.idle": "2021-08-16T08:12:26.420228Z",
          "shell.execute_reply": "2021-08-16T08:12:26.419122Z",
          "shell.execute_reply.started": "2021-08-16T08:12:26.413119Z"
        },
        "id": "OEE9HQtNalU2",
        "trusted": true
      },
      "outputs": [],
      "source": [
        "# convert an array of values into a dataset matrix\n",
        "def create_dataset(dataset, time_step=1):\n",
        "    dataX, dataY = [], []\n",
        "    for i in range(len(dataset)-time_step-1):\n",
        "        a = dataset[i:(i+time_step), 0] \n",
        "        dataX.append(a)\n",
        "        dataY.append(dataset[i + time_step, 0])\n",
        "    return np.array(dataX), np.array(dataY)"
      ]
    },
    {
      "cell_type": "code",
      "execution_count": 26,
      "metadata": {
        "colab": {
          "base_uri": "https://localhost:8080/"
        },
        "id": "0KQWn555tJG0",
        "outputId": "75c23a8d-41ac-4a16-9cc8-8c5878cfb7de"
      },
      "outputs": [
        {
          "output_type": "execute_result",
          "data": {
            "text/plain": [
              "<function __main__.create_dataset(dataset, time_step=1)>"
            ]
          },
          "metadata": {},
          "execution_count": 26
        }
      ],
      "source": [
        "create_dataset"
      ]
    },
    {
      "cell_type": "markdown",
      "metadata": {
        "id": "t1qGSSSWP3oT"
      },
      "source": [
        "Because we want to predict using the last 1 week patterns, so we're using 8 time step."
      ]
    },
    {
      "cell_type": "code",
      "execution_count": 27,
      "metadata": {
        "colab": {
          "base_uri": "https://localhost:8080/"
        },
        "execution": {
          "iopub.execute_input": "2021-08-16T08:12:26.421993Z",
          "iopub.status.busy": "2021-08-16T08:12:26.421568Z",
          "iopub.status.idle": "2021-08-16T08:12:26.434525Z",
          "shell.execute_reply": "2021-08-16T08:12:26.433557Z",
          "shell.execute_reply.started": "2021-08-16T08:12:26.421935Z"
        },
        "id": "RNXb5NPyalU2",
        "outputId": "da9ac75e-6bef-48b6-f5ca-8d0330f175bb",
        "trusted": true
      },
      "outputs": [
        {
          "output_type": "stream",
          "name": "stdout",
          "text": [
            "X_train:  (139, 8)\n",
            "y_train:  (139,)\n",
            "X_test:  (91, 8)\n",
            "y_test (91,)\n"
          ]
        }
      ],
      "source": [
        "time_step = 8\n",
        "X_train, y_train = create_dataset(train_data, time_step)\n",
        "X_test, y_test = create_dataset(test_data, time_step)\n",
        "\n",
        "print(\"X_train: \", X_train.shape)\n",
        "print(\"y_train: \", y_train.shape)\n",
        "print(\"X_test: \", X_test.shape)\n",
        "print(\"y_test\", y_test.shape)"
      ]
    },
    {
      "cell_type": "markdown",
      "metadata": {
        "id": "J3CQWQeLRFxD"
      },
      "source": [
        "Then, add one more dimension to make it become 3 dimension to fulfill the terms of LSTM model."
      ]
    },
    {
      "cell_type": "code",
      "execution_count": 28,
      "metadata": {
        "colab": {
          "base_uri": "https://localhost:8080/"
        },
        "execution": {
          "iopub.execute_input": "2021-08-16T08:12:26.436049Z",
          "iopub.status.busy": "2021-08-16T08:12:26.435723Z",
          "iopub.status.idle": "2021-08-16T08:12:26.444395Z",
          "shell.execute_reply": "2021-08-16T08:12:26.443123Z",
          "shell.execute_reply.started": "2021-08-16T08:12:26.436015Z"
        },
        "id": "oK7yu6CLalU2",
        "outputId": "6dcbf677-85fa-4c39-d0ca-165890f7b929",
        "trusted": true
      },
      "outputs": [
        {
          "output_type": "stream",
          "name": "stdout",
          "text": [
            "X_train:  (139, 8, 1)\n",
            "X_test:  (91, 8, 1)\n"
          ]
        }
      ],
      "source": [
        "# reshape input to be [samples, time steps, features] which is required for LSTM\n",
        "X_train =X_train.reshape(X_train.shape[0],X_train.shape[1] , 1)\n",
        "X_test = X_test.reshape(X_test.shape[0],X_test.shape[1] , 1)\n",
        "\n",
        "print(\"X_train: \", X_train.shape)\n",
        "print(\"X_test: \", X_test.shape)"
      ]
    },
    {
      "cell_type": "markdown",
      "metadata": {
        "id": "IGOHUtglalU2"
      },
      "source": [
        "# Model Building (LSTM)"
      ]
    },
    {
      "cell_type": "markdown",
      "metadata": {
        "id": "2_mlnoSySvBo"
      },
      "source": [
        "The next is create LSTM model using adam as the optimizer and MSE as the loss function."
      ]
    },
    {
      "cell_type": "code",
      "execution_count": 29,
      "metadata": {
        "id": "Zjhvsvg9k49B"
      },
      "outputs": [],
      "source": [
        "tf.keras.backend.clear_session()\n",
        "model=Sequential()\n",
        "model.add(LSTM(4,return_sequences=True,input_shape=(time_step,1)))\n",
        "model.add(LSTM(4))\n",
        "model.add(Dropout(0.20))\n",
        "model.add(Dense(1))\n",
        "model.compile(loss='mean_squared_error',optimizer='adam')"
      ]
    },
    {
      "cell_type": "code",
      "execution_count": 30,
      "metadata": {
        "colab": {
          "base_uri": "https://localhost:8080/"
        },
        "execution": {
          "iopub.execute_input": "2021-08-16T08:12:27.127217Z",
          "iopub.status.busy": "2021-08-16T08:12:27.126909Z",
          "iopub.status.idle": "2021-08-16T08:12:27.135772Z",
          "shell.execute_reply": "2021-08-16T08:12:27.134801Z",
          "shell.execute_reply.started": "2021-08-16T08:12:27.127189Z"
        },
        "id": "g9JXAFaValU3",
        "outputId": "9688e866-3b29-4245-d349-615e22e78f41",
        "trusted": true
      },
      "outputs": [
        {
          "output_type": "stream",
          "name": "stdout",
          "text": [
            "Model: \"sequential\"\n",
            "_________________________________________________________________\n",
            " Layer (type)                Output Shape              Param #   \n",
            "=================================================================\n",
            " lstm (LSTM)                 (None, 8, 4)              96        \n",
            "                                                                 \n",
            " lstm_1 (LSTM)               (None, 4)                 144       \n",
            "                                                                 \n",
            " dropout (Dropout)           (None, 4)                 0         \n",
            "                                                                 \n",
            " dense (Dense)               (None, 1)                 5         \n",
            "                                                                 \n",
            "=================================================================\n",
            "Total params: 245\n",
            "Trainable params: 245\n",
            "Non-trainable params: 0\n",
            "_________________________________________________________________\n"
          ]
        }
      ],
      "source": [
        "model.summary()"
      ]
    },
    {
      "cell_type": "markdown",
      "metadata": {
        "id": "GhdSo8OESxWd"
      },
      "source": [
        "The total number of params used to do the model training is 21.025 params."
      ]
    },
    {
      "cell_type": "markdown",
      "metadata": {
        "id": "dFwmDvsdS5Jn"
      },
      "source": [
        "Training the model with 500 epoch which means the training is done 500 times with validation data set that is splitted before."
      ]
    },
    {
      "cell_type": "code",
      "execution_count": 31,
      "metadata": {
        "colab": {
          "base_uri": "https://localhost:8080/"
        },
        "execution": {
          "iopub.execute_input": "2021-08-16T08:12:27.137354Z",
          "iopub.status.busy": "2021-08-16T08:12:27.137072Z",
          "iopub.status.idle": "2021-08-16T08:13:10.724456Z",
          "shell.execute_reply": "2021-08-16T08:13:10.723655Z",
          "shell.execute_reply.started": "2021-08-16T08:12:27.137327Z"
        },
        "id": "pdFF7ygpalU3",
        "outputId": "2ae08adb-8b95-45dd-8503-6e721bf3cbb7",
        "trusted": true
      },
      "outputs": [
        {
          "output_type": "stream",
          "name": "stdout",
          "text": [
            "Epoch 1/500\n",
            "5/5 [==============================] - 5s 298ms/step - loss: 0.1587 - val_loss: 0.2779\n",
            "Epoch 2/500\n",
            "5/5 [==============================] - 0s 24ms/step - loss: 0.1499 - val_loss: 0.2593\n",
            "Epoch 3/500\n",
            "5/5 [==============================] - 0s 25ms/step - loss: 0.1393 - val_loss: 0.2410\n",
            "Epoch 4/500\n",
            "5/5 [==============================] - 0s 21ms/step - loss: 0.1248 - val_loss: 0.2231\n",
            "Epoch 5/500\n",
            "5/5 [==============================] - 0s 28ms/step - loss: 0.1158 - val_loss: 0.2050\n",
            "Epoch 6/500\n",
            "5/5 [==============================] - 0s 26ms/step - loss: 0.1042 - val_loss: 0.1872\n",
            "Epoch 7/500\n",
            "5/5 [==============================] - 0s 28ms/step - loss: 0.0931 - val_loss: 0.1689\n",
            "Epoch 8/500\n",
            "5/5 [==============================] - 0s 23ms/step - loss: 0.0768 - val_loss: 0.1506\n",
            "Epoch 9/500\n",
            "5/5 [==============================] - 0s 25ms/step - loss: 0.0717 - val_loss: 0.1327\n",
            "Epoch 10/500\n",
            "5/5 [==============================] - 0s 20ms/step - loss: 0.0644 - val_loss: 0.1149\n",
            "Epoch 11/500\n",
            "5/5 [==============================] - 0s 61ms/step - loss: 0.0597 - val_loss: 0.0991\n",
            "Epoch 12/500\n",
            "5/5 [==============================] - 0s 30ms/step - loss: 0.0519 - val_loss: 0.0849\n",
            "Epoch 13/500\n",
            "5/5 [==============================] - 0s 28ms/step - loss: 0.0479 - val_loss: 0.0727\n",
            "Epoch 14/500\n",
            "5/5 [==============================] - 0s 23ms/step - loss: 0.0431 - val_loss: 0.0626\n",
            "Epoch 15/500\n",
            "5/5 [==============================] - 0s 41ms/step - loss: 0.0411 - val_loss: 0.0548\n",
            "Epoch 16/500\n",
            "5/5 [==============================] - 0s 38ms/step - loss: 0.0456 - val_loss: 0.0484\n",
            "Epoch 17/500\n",
            "5/5 [==============================] - 0s 42ms/step - loss: 0.0397 - val_loss: 0.0447\n",
            "Epoch 18/500\n",
            "5/5 [==============================] - 0s 27ms/step - loss: 0.0352 - val_loss: 0.0435\n",
            "Epoch 19/500\n",
            "5/5 [==============================] - 0s 34ms/step - loss: 0.0387 - val_loss: 0.0437\n",
            "Epoch 20/500\n",
            "5/5 [==============================] - 0s 34ms/step - loss: 0.0391 - val_loss: 0.0443\n",
            "Epoch 21/500\n",
            "5/5 [==============================] - 0s 34ms/step - loss: 0.0381 - val_loss: 0.0446\n",
            "Epoch 22/500\n",
            "5/5 [==============================] - 0s 35ms/step - loss: 0.0454 - val_loss: 0.0435\n",
            "Epoch 23/500\n",
            "5/5 [==============================] - 0s 29ms/step - loss: 0.0329 - val_loss: 0.0423\n",
            "Epoch 24/500\n",
            "5/5 [==============================] - 0s 26ms/step - loss: 0.0348 - val_loss: 0.0412\n",
            "Epoch 25/500\n",
            "5/5 [==============================] - 0s 24ms/step - loss: 0.0349 - val_loss: 0.0406\n",
            "Epoch 26/500\n",
            "5/5 [==============================] - 0s 35ms/step - loss: 0.0384 - val_loss: 0.0380\n",
            "Epoch 27/500\n",
            "5/5 [==============================] - 0s 31ms/step - loss: 0.0336 - val_loss: 0.0351\n",
            "Epoch 28/500\n",
            "5/5 [==============================] - 0s 24ms/step - loss: 0.0355 - val_loss: 0.0332\n",
            "Epoch 29/500\n",
            "5/5 [==============================] - 0s 34ms/step - loss: 0.0276 - val_loss: 0.0310\n",
            "Epoch 30/500\n",
            "5/5 [==============================] - 0s 34ms/step - loss: 0.0367 - val_loss: 0.0295\n",
            "Epoch 31/500\n",
            "5/5 [==============================] - 0s 31ms/step - loss: 0.0272 - val_loss: 0.0277\n",
            "Epoch 32/500\n",
            "5/5 [==============================] - 0s 32ms/step - loss: 0.0292 - val_loss: 0.0273\n",
            "Epoch 33/500\n",
            "5/5 [==============================] - 0s 25ms/step - loss: 0.0264 - val_loss: 0.0275\n",
            "Epoch 34/500\n",
            "5/5 [==============================] - 0s 26ms/step - loss: 0.0251 - val_loss: 0.0275\n",
            "Epoch 35/500\n",
            "5/5 [==============================] - 0s 23ms/step - loss: 0.0270 - val_loss: 0.0278\n",
            "Epoch 36/500\n",
            "5/5 [==============================] - 0s 23ms/step - loss: 0.0267 - val_loss: 0.0287\n",
            "Epoch 37/500\n",
            "5/5 [==============================] - 0s 22ms/step - loss: 0.0287 - val_loss: 0.0288\n",
            "Epoch 38/500\n",
            "5/5 [==============================] - 0s 29ms/step - loss: 0.0270 - val_loss: 0.0288\n",
            "Epoch 39/500\n",
            "5/5 [==============================] - 0s 24ms/step - loss: 0.0292 - val_loss: 0.0278\n",
            "Epoch 40/500\n",
            "5/5 [==============================] - 0s 27ms/step - loss: 0.0250 - val_loss: 0.0267\n",
            "Epoch 41/500\n",
            "5/5 [==============================] - 0s 27ms/step - loss: 0.0258 - val_loss: 0.0253\n",
            "Epoch 42/500\n",
            "5/5 [==============================] - 0s 39ms/step - loss: 0.0267 - val_loss: 0.0235\n",
            "Epoch 43/500\n",
            "5/5 [==============================] - 0s 21ms/step - loss: 0.0216 - val_loss: 0.0226\n",
            "Epoch 44/500\n",
            "5/5 [==============================] - 0s 32ms/step - loss: 0.0289 - val_loss: 0.0213\n",
            "Epoch 45/500\n",
            "5/5 [==============================] - 0s 23ms/step - loss: 0.0235 - val_loss: 0.0215\n",
            "Epoch 46/500\n",
            "5/5 [==============================] - 0s 36ms/step - loss: 0.0232 - val_loss: 0.0221\n",
            "Epoch 47/500\n",
            "5/5 [==============================] - 0s 56ms/step - loss: 0.0223 - val_loss: 0.0231\n",
            "Epoch 48/500\n",
            "5/5 [==============================] - 0s 26ms/step - loss: 0.0235 - val_loss: 0.0231\n",
            "Epoch 49/500\n",
            "5/5 [==============================] - 0s 35ms/step - loss: 0.0261 - val_loss: 0.0232\n",
            "Epoch 50/500\n",
            "5/5 [==============================] - 0s 38ms/step - loss: 0.0254 - val_loss: 0.0225\n",
            "Epoch 51/500\n",
            "5/5 [==============================] - 0s 22ms/step - loss: 0.0264 - val_loss: 0.0213\n",
            "Epoch 52/500\n",
            "5/5 [==============================] - 0s 40ms/step - loss: 0.0231 - val_loss: 0.0216\n",
            "Epoch 53/500\n",
            "5/5 [==============================] - 0s 41ms/step - loss: 0.0255 - val_loss: 0.0218\n",
            "Epoch 54/500\n",
            "5/5 [==============================] - 0s 27ms/step - loss: 0.0248 - val_loss: 0.0210\n",
            "Epoch 55/500\n",
            "5/5 [==============================] - 0s 40ms/step - loss: 0.0185 - val_loss: 0.0191\n",
            "Epoch 56/500\n",
            "5/5 [==============================] - 0s 24ms/step - loss: 0.0251 - val_loss: 0.0190\n",
            "Epoch 57/500\n",
            "5/5 [==============================] - 0s 23ms/step - loss: 0.0222 - val_loss: 0.0191\n",
            "Epoch 58/500\n",
            "5/5 [==============================] - 0s 31ms/step - loss: 0.0197 - val_loss: 0.0193\n",
            "Epoch 59/500\n",
            "5/5 [==============================] - 0s 25ms/step - loss: 0.0261 - val_loss: 0.0194\n",
            "Epoch 60/500\n",
            "5/5 [==============================] - 0s 24ms/step - loss: 0.0213 - val_loss: 0.0200\n",
            "Epoch 61/500\n",
            "5/5 [==============================] - 0s 34ms/step - loss: 0.0243 - val_loss: 0.0203\n",
            "Epoch 62/500\n",
            "5/5 [==============================] - 0s 30ms/step - loss: 0.0220 - val_loss: 0.0191\n",
            "Epoch 63/500\n",
            "5/5 [==============================] - 0s 26ms/step - loss: 0.0227 - val_loss: 0.0184\n",
            "Epoch 64/500\n",
            "5/5 [==============================] - 0s 29ms/step - loss: 0.0198 - val_loss: 0.0195\n",
            "Epoch 65/500\n",
            "5/5 [==============================] - 0s 30ms/step - loss: 0.0200 - val_loss: 0.0209\n",
            "Epoch 66/500\n",
            "5/5 [==============================] - 0s 31ms/step - loss: 0.0206 - val_loss: 0.0198\n",
            "Epoch 67/500\n",
            "5/5 [==============================] - 0s 47ms/step - loss: 0.0293 - val_loss: 0.0197\n",
            "Epoch 68/500\n",
            "5/5 [==============================] - 0s 30ms/step - loss: 0.0232 - val_loss: 0.0190\n",
            "Epoch 69/500\n",
            "5/5 [==============================] - 0s 39ms/step - loss: 0.0224 - val_loss: 0.0177\n",
            "Epoch 70/500\n",
            "5/5 [==============================] - 0s 40ms/step - loss: 0.0200 - val_loss: 0.0178\n",
            "Epoch 71/500\n",
            "5/5 [==============================] - 0s 22ms/step - loss: 0.0236 - val_loss: 0.0192\n",
            "Epoch 72/500\n",
            "5/5 [==============================] - 0s 37ms/step - loss: 0.0321 - val_loss: 0.0196\n",
            "Epoch 73/500\n",
            "5/5 [==============================] - 0s 24ms/step - loss: 0.0273 - val_loss: 0.0188\n",
            "Epoch 74/500\n",
            "5/5 [==============================] - 0s 45ms/step - loss: 0.0227 - val_loss: 0.0192\n",
            "Epoch 75/500\n",
            "5/5 [==============================] - 0s 23ms/step - loss: 0.0190 - val_loss: 0.0209\n",
            "Epoch 76/500\n",
            "5/5 [==============================] - 0s 55ms/step - loss: 0.0193 - val_loss: 0.0200\n",
            "Epoch 77/500\n",
            "5/5 [==============================] - 0s 36ms/step - loss: 0.0234 - val_loss: 0.0181\n",
            "Epoch 78/500\n",
            "5/5 [==============================] - 0s 46ms/step - loss: 0.0271 - val_loss: 0.0179\n",
            "Epoch 79/500\n",
            "5/5 [==============================] - 0s 32ms/step - loss: 0.0211 - val_loss: 0.0183\n",
            "Epoch 80/500\n",
            "5/5 [==============================] - 0s 50ms/step - loss: 0.0225 - val_loss: 0.0190\n",
            "Epoch 81/500\n",
            "5/5 [==============================] - 0s 40ms/step - loss: 0.0201 - val_loss: 0.0183\n",
            "Epoch 82/500\n",
            "5/5 [==============================] - 0s 38ms/step - loss: 0.0256 - val_loss: 0.0185\n",
            "Epoch 83/500\n",
            "5/5 [==============================] - 0s 34ms/step - loss: 0.0268 - val_loss: 0.0191\n",
            "Epoch 84/500\n",
            "5/5 [==============================] - 0s 32ms/step - loss: 0.0215 - val_loss: 0.0191\n",
            "Epoch 85/500\n",
            "5/5 [==============================] - 0s 24ms/step - loss: 0.0207 - val_loss: 0.0194\n",
            "Epoch 86/500\n",
            "5/5 [==============================] - 0s 31ms/step - loss: 0.0231 - val_loss: 0.0191\n",
            "Epoch 87/500\n",
            "5/5 [==============================] - 0s 32ms/step - loss: 0.0234 - val_loss: 0.0183\n",
            "Epoch 88/500\n",
            "5/5 [==============================] - 0s 44ms/step - loss: 0.0205 - val_loss: 0.0188\n",
            "Epoch 89/500\n",
            "5/5 [==============================] - 0s 48ms/step - loss: 0.0205 - val_loss: 0.0191\n",
            "Epoch 90/500\n",
            "5/5 [==============================] - 0s 37ms/step - loss: 0.0252 - val_loss: 0.0185\n",
            "Epoch 91/500\n",
            "5/5 [==============================] - 0s 28ms/step - loss: 0.0195 - val_loss: 0.0174\n",
            "Epoch 92/500\n",
            "5/5 [==============================] - 0s 23ms/step - loss: 0.0199 - val_loss: 0.0174\n",
            "Epoch 93/500\n",
            "5/5 [==============================] - 0s 38ms/step - loss: 0.0193 - val_loss: 0.0172\n",
            "Epoch 94/500\n",
            "5/5 [==============================] - 0s 21ms/step - loss: 0.0195 - val_loss: 0.0177\n",
            "Epoch 95/500\n",
            "5/5 [==============================] - 0s 25ms/step - loss: 0.0209 - val_loss: 0.0180\n",
            "Epoch 96/500\n",
            "5/5 [==============================] - 0s 31ms/step - loss: 0.0203 - val_loss: 0.0179\n",
            "Epoch 97/500\n",
            "5/5 [==============================] - 0s 38ms/step - loss: 0.0173 - val_loss: 0.0176\n",
            "Epoch 98/500\n",
            "5/5 [==============================] - 0s 37ms/step - loss: 0.0238 - val_loss: 0.0174\n",
            "Epoch 99/500\n",
            "5/5 [==============================] - 0s 21ms/step - loss: 0.0204 - val_loss: 0.0178\n",
            "Epoch 100/500\n",
            "5/5 [==============================] - 0s 54ms/step - loss: 0.0182 - val_loss: 0.0182\n",
            "Epoch 101/500\n",
            "5/5 [==============================] - 0s 33ms/step - loss: 0.0176 - val_loss: 0.0186\n",
            "Epoch 102/500\n",
            "5/5 [==============================] - 0s 22ms/step - loss: 0.0200 - val_loss: 0.0182\n",
            "Epoch 103/500\n",
            "5/5 [==============================] - 0s 28ms/step - loss: 0.0170 - val_loss: 0.0169\n",
            "Epoch 104/500\n",
            "5/5 [==============================] - 0s 33ms/step - loss: 0.0210 - val_loss: 0.0167\n",
            "Epoch 105/500\n",
            "5/5 [==============================] - 0s 30ms/step - loss: 0.0233 - val_loss: 0.0175\n",
            "Epoch 106/500\n",
            "5/5 [==============================] - 0s 39ms/step - loss: 0.0208 - val_loss: 0.0171\n",
            "Epoch 107/500\n",
            "5/5 [==============================] - 0s 53ms/step - loss: 0.0217 - val_loss: 0.0171\n",
            "Epoch 108/500\n",
            "5/5 [==============================] - 0s 28ms/step - loss: 0.0185 - val_loss: 0.0170\n",
            "Epoch 109/500\n",
            "5/5 [==============================] - 0s 29ms/step - loss: 0.0211 - val_loss: 0.0178\n",
            "Epoch 110/500\n",
            "5/5 [==============================] - 0s 25ms/step - loss: 0.0237 - val_loss: 0.0173\n",
            "Epoch 111/500\n",
            "5/5 [==============================] - 0s 31ms/step - loss: 0.0169 - val_loss: 0.0167\n",
            "Epoch 112/500\n",
            "5/5 [==============================] - 0s 24ms/step - loss: 0.0169 - val_loss: 0.0169\n",
            "Epoch 113/500\n",
            "5/5 [==============================] - 0s 44ms/step - loss: 0.0165 - val_loss: 0.0177\n",
            "Epoch 114/500\n",
            "5/5 [==============================] - 0s 39ms/step - loss: 0.0218 - val_loss: 0.0188\n",
            "Epoch 115/500\n",
            "5/5 [==============================] - 0s 27ms/step - loss: 0.0208 - val_loss: 0.0186\n",
            "Epoch 116/500\n",
            "5/5 [==============================] - 0s 28ms/step - loss: 0.0226 - val_loss: 0.0181\n",
            "Epoch 117/500\n",
            "5/5 [==============================] - 0s 23ms/step - loss: 0.0247 - val_loss: 0.0174\n",
            "Epoch 118/500\n",
            "5/5 [==============================] - 0s 26ms/step - loss: 0.0242 - val_loss: 0.0177\n",
            "Epoch 119/500\n",
            "5/5 [==============================] - 0s 24ms/step - loss: 0.0218 - val_loss: 0.0188\n",
            "Epoch 120/500\n",
            "5/5 [==============================] - 0s 23ms/step - loss: 0.0181 - val_loss: 0.0184\n",
            "Epoch 121/500\n",
            "5/5 [==============================] - 0s 25ms/step - loss: 0.0221 - val_loss: 0.0175\n",
            "Epoch 122/500\n",
            "5/5 [==============================] - 0s 43ms/step - loss: 0.0192 - val_loss: 0.0169\n",
            "Epoch 123/500\n",
            "5/5 [==============================] - 0s 22ms/step - loss: 0.0206 - val_loss: 0.0162\n",
            "Epoch 124/500\n",
            "5/5 [==============================] - 0s 31ms/step - loss: 0.0204 - val_loss: 0.0168\n",
            "Epoch 125/500\n",
            "5/5 [==============================] - 0s 41ms/step - loss: 0.0223 - val_loss: 0.0185\n",
            "Epoch 126/500\n",
            "5/5 [==============================] - 0s 23ms/step - loss: 0.0181 - val_loss: 0.0186\n",
            "Epoch 127/500\n",
            "5/5 [==============================] - 0s 36ms/step - loss: 0.0234 - val_loss: 0.0181\n",
            "Epoch 128/500\n",
            "5/5 [==============================] - 0s 45ms/step - loss: 0.0168 - val_loss: 0.0180\n",
            "Epoch 129/500\n",
            "5/5 [==============================] - 0s 46ms/step - loss: 0.0197 - val_loss: 0.0176\n",
            "Epoch 130/500\n",
            "5/5 [==============================] - 0s 51ms/step - loss: 0.0152 - val_loss: 0.0166\n",
            "Epoch 131/500\n",
            "5/5 [==============================] - 0s 30ms/step - loss: 0.0178 - val_loss: 0.0157\n",
            "Epoch 132/500\n",
            "5/5 [==============================] - 0s 50ms/step - loss: 0.0202 - val_loss: 0.0162\n",
            "Epoch 133/500\n",
            "5/5 [==============================] - 0s 40ms/step - loss: 0.0193 - val_loss: 0.0158\n",
            "Epoch 134/500\n",
            "5/5 [==============================] - 0s 28ms/step - loss: 0.0227 - val_loss: 0.0160\n",
            "Epoch 135/500\n",
            "5/5 [==============================] - 0s 32ms/step - loss: 0.0189 - val_loss: 0.0157\n",
            "Epoch 136/500\n",
            "5/5 [==============================] - 0s 22ms/step - loss: 0.0208 - val_loss: 0.0158\n",
            "Epoch 137/500\n",
            "5/5 [==============================] - 0s 32ms/step - loss: 0.0210 - val_loss: 0.0153\n",
            "Epoch 138/500\n",
            "5/5 [==============================] - 0s 21ms/step - loss: 0.0198 - val_loss: 0.0152\n",
            "Epoch 139/500\n",
            "5/5 [==============================] - 0s 26ms/step - loss: 0.0190 - val_loss: 0.0156\n",
            "Epoch 140/500\n",
            "5/5 [==============================] - 0s 22ms/step - loss: 0.0168 - val_loss: 0.0156\n",
            "Epoch 141/500\n",
            "5/5 [==============================] - 0s 22ms/step - loss: 0.0196 - val_loss: 0.0154\n",
            "Epoch 142/500\n",
            "5/5 [==============================] - 0s 15ms/step - loss: 0.0187 - val_loss: 0.0153\n",
            "Epoch 143/500\n",
            "5/5 [==============================] - 0s 16ms/step - loss: 0.0210 - val_loss: 0.0155\n",
            "Epoch 144/500\n",
            "5/5 [==============================] - 0s 18ms/step - loss: 0.0200 - val_loss: 0.0160\n",
            "Epoch 145/500\n",
            "5/5 [==============================] - 0s 15ms/step - loss: 0.0178 - val_loss: 0.0162\n",
            "Epoch 146/500\n",
            "5/5 [==============================] - 0s 18ms/step - loss: 0.0207 - val_loss: 0.0174\n",
            "Epoch 147/500\n",
            "5/5 [==============================] - 0s 14ms/step - loss: 0.0209 - val_loss: 0.0178\n",
            "Epoch 148/500\n",
            "5/5 [==============================] - 0s 15ms/step - loss: 0.0209 - val_loss: 0.0170\n",
            "Epoch 149/500\n",
            "5/5 [==============================] - 0s 15ms/step - loss: 0.0166 - val_loss: 0.0157\n",
            "Epoch 150/500\n",
            "5/5 [==============================] - 0s 18ms/step - loss: 0.0177 - val_loss: 0.0157\n",
            "Epoch 151/500\n",
            "5/5 [==============================] - 0s 15ms/step - loss: 0.0215 - val_loss: 0.0156\n",
            "Epoch 152/500\n",
            "5/5 [==============================] - 0s 15ms/step - loss: 0.0192 - val_loss: 0.0143\n",
            "Epoch 153/500\n",
            "5/5 [==============================] - 0s 16ms/step - loss: 0.0159 - val_loss: 0.0137\n",
            "Epoch 154/500\n",
            "5/5 [==============================] - 0s 15ms/step - loss: 0.0170 - val_loss: 0.0136\n",
            "Epoch 155/500\n",
            "5/5 [==============================] - 0s 16ms/step - loss: 0.0193 - val_loss: 0.0135\n",
            "Epoch 156/500\n",
            "5/5 [==============================] - 0s 17ms/step - loss: 0.0203 - val_loss: 0.0144\n",
            "Epoch 157/500\n",
            "5/5 [==============================] - 0s 15ms/step - loss: 0.0188 - val_loss: 0.0151\n",
            "Epoch 158/500\n",
            "5/5 [==============================] - 0s 15ms/step - loss: 0.0196 - val_loss: 0.0156\n",
            "Epoch 159/500\n",
            "5/5 [==============================] - 0s 17ms/step - loss: 0.0194 - val_loss: 0.0152\n",
            "Epoch 160/500\n",
            "5/5 [==============================] - 0s 17ms/step - loss: 0.0201 - val_loss: 0.0151\n",
            "Epoch 161/500\n",
            "5/5 [==============================] - 0s 21ms/step - loss: 0.0192 - val_loss: 0.0153\n",
            "Epoch 162/500\n",
            "5/5 [==============================] - 0s 15ms/step - loss: 0.0170 - val_loss: 0.0161\n",
            "Epoch 163/500\n",
            "5/5 [==============================] - 0s 18ms/step - loss: 0.0176 - val_loss: 0.0160\n",
            "Epoch 164/500\n",
            "5/5 [==============================] - 0s 18ms/step - loss: 0.0184 - val_loss: 0.0153\n",
            "Epoch 165/500\n",
            "5/5 [==============================] - 0s 19ms/step - loss: 0.0141 - val_loss: 0.0151\n",
            "Epoch 166/500\n",
            "5/5 [==============================] - 0s 17ms/step - loss: 0.0177 - val_loss: 0.0155\n",
            "Epoch 167/500\n",
            "5/5 [==============================] - 0s 19ms/step - loss: 0.0187 - val_loss: 0.0165\n",
            "Epoch 168/500\n",
            "5/5 [==============================] - 0s 18ms/step - loss: 0.0150 - val_loss: 0.0174\n",
            "Epoch 169/500\n",
            "5/5 [==============================] - 0s 14ms/step - loss: 0.0137 - val_loss: 0.0164\n",
            "Epoch 170/500\n",
            "5/5 [==============================] - 0s 15ms/step - loss: 0.0181 - val_loss: 0.0161\n",
            "Epoch 171/500\n",
            "5/5 [==============================] - 0s 16ms/step - loss: 0.0178 - val_loss: 0.0158\n",
            "Epoch 172/500\n",
            "5/5 [==============================] - 0s 19ms/step - loss: 0.0163 - val_loss: 0.0161\n",
            "Epoch 173/500\n",
            "5/5 [==============================] - 0s 15ms/step - loss: 0.0147 - val_loss: 0.0171\n",
            "Epoch 174/500\n",
            "5/5 [==============================] - 0s 18ms/step - loss: 0.0189 - val_loss: 0.0174\n",
            "Epoch 175/500\n",
            "5/5 [==============================] - 0s 15ms/step - loss: 0.0204 - val_loss: 0.0165\n",
            "Epoch 176/500\n",
            "5/5 [==============================] - 0s 14ms/step - loss: 0.0170 - val_loss: 0.0151\n",
            "Epoch 177/500\n",
            "5/5 [==============================] - 0s 15ms/step - loss: 0.0172 - val_loss: 0.0144\n",
            "Epoch 178/500\n",
            "5/5 [==============================] - 0s 14ms/step - loss: 0.0173 - val_loss: 0.0150\n",
            "Epoch 179/500\n",
            "5/5 [==============================] - 0s 15ms/step - loss: 0.0155 - val_loss: 0.0153\n",
            "Epoch 180/500\n",
            "5/5 [==============================] - 0s 14ms/step - loss: 0.0159 - val_loss: 0.0163\n",
            "Epoch 181/500\n",
            "5/5 [==============================] - 0s 17ms/step - loss: 0.0181 - val_loss: 0.0184\n",
            "Epoch 182/500\n",
            "5/5 [==============================] - 0s 15ms/step - loss: 0.0186 - val_loss: 0.0176\n",
            "Epoch 183/500\n",
            "5/5 [==============================] - 0s 19ms/step - loss: 0.0189 - val_loss: 0.0151\n",
            "Epoch 184/500\n",
            "5/5 [==============================] - 0s 16ms/step - loss: 0.0205 - val_loss: 0.0141\n",
            "Epoch 185/500\n",
            "5/5 [==============================] - 0s 16ms/step - loss: 0.0181 - val_loss: 0.0140\n",
            "Epoch 186/500\n",
            "5/5 [==============================] - 0s 18ms/step - loss: 0.0203 - val_loss: 0.0135\n",
            "Epoch 187/500\n",
            "5/5 [==============================] - 0s 15ms/step - loss: 0.0163 - val_loss: 0.0135\n",
            "Epoch 188/500\n",
            "5/5 [==============================] - 0s 18ms/step - loss: 0.0190 - val_loss: 0.0157\n",
            "Epoch 189/500\n",
            "5/5 [==============================] - 0s 18ms/step - loss: 0.0176 - val_loss: 0.0170\n",
            "Epoch 190/500\n",
            "5/5 [==============================] - 0s 14ms/step - loss: 0.0175 - val_loss: 0.0171\n",
            "Epoch 191/500\n",
            "5/5 [==============================] - 0s 15ms/step - loss: 0.0188 - val_loss: 0.0152\n",
            "Epoch 192/500\n",
            "5/5 [==============================] - 0s 14ms/step - loss: 0.0192 - val_loss: 0.0139\n",
            "Epoch 193/500\n",
            "5/5 [==============================] - 0s 15ms/step - loss: 0.0186 - val_loss: 0.0135\n",
            "Epoch 194/500\n",
            "5/5 [==============================] - 0s 15ms/step - loss: 0.0210 - val_loss: 0.0134\n",
            "Epoch 195/500\n",
            "5/5 [==============================] - 0s 16ms/step - loss: 0.0199 - val_loss: 0.0145\n",
            "Epoch 196/500\n",
            "5/5 [==============================] - 0s 17ms/step - loss: 0.0183 - val_loss: 0.0154\n",
            "Epoch 197/500\n",
            "5/5 [==============================] - 0s 20ms/step - loss: 0.0183 - val_loss: 0.0159\n",
            "Epoch 198/500\n",
            "5/5 [==============================] - 0s 19ms/step - loss: 0.0175 - val_loss: 0.0153\n",
            "Epoch 199/500\n",
            "5/5 [==============================] - 0s 16ms/step - loss: 0.0205 - val_loss: 0.0147\n",
            "Epoch 200/500\n",
            "5/5 [==============================] - 0s 16ms/step - loss: 0.0195 - val_loss: 0.0153\n",
            "Epoch 201/500\n",
            "5/5 [==============================] - 0s 14ms/step - loss: 0.0178 - val_loss: 0.0148\n",
            "Epoch 202/500\n",
            "5/5 [==============================] - 0s 14ms/step - loss: 0.0204 - val_loss: 0.0143\n",
            "Epoch 203/500\n",
            "5/5 [==============================] - 0s 16ms/step - loss: 0.0153 - val_loss: 0.0144\n",
            "Epoch 204/500\n",
            "5/5 [==============================] - 0s 15ms/step - loss: 0.0190 - val_loss: 0.0141\n",
            "Epoch 205/500\n",
            "5/5 [==============================] - 0s 15ms/step - loss: 0.0209 - val_loss: 0.0140\n",
            "Epoch 206/500\n",
            "5/5 [==============================] - 0s 15ms/step - loss: 0.0167 - val_loss: 0.0142\n",
            "Epoch 207/500\n",
            "5/5 [==============================] - 0s 15ms/step - loss: 0.0180 - val_loss: 0.0136\n",
            "Epoch 208/500\n",
            "5/5 [==============================] - 0s 14ms/step - loss: 0.0162 - val_loss: 0.0131\n",
            "Epoch 209/500\n",
            "5/5 [==============================] - 0s 21ms/step - loss: 0.0175 - val_loss: 0.0126\n",
            "Epoch 210/500\n",
            "5/5 [==============================] - 0s 15ms/step - loss: 0.0158 - val_loss: 0.0132\n",
            "Epoch 211/500\n",
            "5/5 [==============================] - 0s 18ms/step - loss: 0.0185 - val_loss: 0.0139\n",
            "Epoch 212/500\n",
            "5/5 [==============================] - 0s 18ms/step - loss: 0.0176 - val_loss: 0.0147\n",
            "Epoch 213/500\n",
            "5/5 [==============================] - 0s 14ms/step - loss: 0.0161 - val_loss: 0.0142\n",
            "Epoch 214/500\n",
            "5/5 [==============================] - 0s 15ms/step - loss: 0.0172 - val_loss: 0.0123\n",
            "Epoch 215/500\n",
            "5/5 [==============================] - 0s 19ms/step - loss: 0.0162 - val_loss: 0.0120\n",
            "Epoch 216/500\n",
            "5/5 [==============================] - 0s 18ms/step - loss: 0.0169 - val_loss: 0.0125\n",
            "Epoch 217/500\n",
            "5/5 [==============================] - 0s 18ms/step - loss: 0.0182 - val_loss: 0.0142\n",
            "Epoch 218/500\n",
            "5/5 [==============================] - 0s 19ms/step - loss: 0.0130 - val_loss: 0.0154\n",
            "Epoch 219/500\n",
            "5/5 [==============================] - 0s 15ms/step - loss: 0.0183 - val_loss: 0.0150\n",
            "Epoch 220/500\n",
            "5/5 [==============================] - 0s 15ms/step - loss: 0.0144 - val_loss: 0.0139\n",
            "Epoch 221/500\n",
            "5/5 [==============================] - 0s 18ms/step - loss: 0.0169 - val_loss: 0.0131\n",
            "Epoch 222/500\n",
            "5/5 [==============================] - 0s 14ms/step - loss: 0.0155 - val_loss: 0.0120\n",
            "Epoch 223/500\n",
            "5/5 [==============================] - 0s 18ms/step - loss: 0.0151 - val_loss: 0.0113\n",
            "Epoch 224/500\n",
            "5/5 [==============================] - 0s 18ms/step - loss: 0.0146 - val_loss: 0.0118\n",
            "Epoch 225/500\n",
            "5/5 [==============================] - 0s 19ms/step - loss: 0.0154 - val_loss: 0.0132\n",
            "Epoch 226/500\n",
            "5/5 [==============================] - 0s 15ms/step - loss: 0.0170 - val_loss: 0.0147\n",
            "Epoch 227/500\n",
            "5/5 [==============================] - 0s 15ms/step - loss: 0.0148 - val_loss: 0.0145\n",
            "Epoch 228/500\n",
            "5/5 [==============================] - 0s 14ms/step - loss: 0.0130 - val_loss: 0.0128\n",
            "Epoch 229/500\n",
            "5/5 [==============================] - 0s 16ms/step - loss: 0.0168 - val_loss: 0.0105\n",
            "Epoch 230/500\n",
            "5/5 [==============================] - 0s 16ms/step - loss: 0.0175 - val_loss: 0.0101\n",
            "Epoch 231/500\n",
            "5/5 [==============================] - 0s 16ms/step - loss: 0.0162 - val_loss: 0.0108\n",
            "Epoch 232/500\n",
            "5/5 [==============================] - 0s 18ms/step - loss: 0.0183 - val_loss: 0.0124\n",
            "Epoch 233/500\n",
            "5/5 [==============================] - 0s 22ms/step - loss: 0.0166 - val_loss: 0.0121\n",
            "Epoch 234/500\n",
            "5/5 [==============================] - 0s 15ms/step - loss: 0.0141 - val_loss: 0.0121\n",
            "Epoch 235/500\n",
            "5/5 [==============================] - 0s 15ms/step - loss: 0.0141 - val_loss: 0.0118\n",
            "Epoch 236/500\n",
            "5/5 [==============================] - 0s 18ms/step - loss: 0.0168 - val_loss: 0.0112\n",
            "Epoch 237/500\n",
            "5/5 [==============================] - 0s 18ms/step - loss: 0.0167 - val_loss: 0.0104\n",
            "Epoch 238/500\n",
            "5/5 [==============================] - 0s 14ms/step - loss: 0.0165 - val_loss: 0.0112\n",
            "Epoch 239/500\n",
            "5/5 [==============================] - 0s 15ms/step - loss: 0.0136 - val_loss: 0.0120\n",
            "Epoch 240/500\n",
            "5/5 [==============================] - 0s 14ms/step - loss: 0.0153 - val_loss: 0.0114\n",
            "Epoch 241/500\n",
            "5/5 [==============================] - 0s 15ms/step - loss: 0.0156 - val_loss: 0.0107\n",
            "Epoch 242/500\n",
            "5/5 [==============================] - 0s 15ms/step - loss: 0.0146 - val_loss: 0.0108\n",
            "Epoch 243/500\n",
            "5/5 [==============================] - 0s 16ms/step - loss: 0.0154 - val_loss: 0.0114\n",
            "Epoch 244/500\n",
            "5/5 [==============================] - 0s 18ms/step - loss: 0.0143 - val_loss: 0.0122\n",
            "Epoch 245/500\n",
            "5/5 [==============================] - 0s 19ms/step - loss: 0.0126 - val_loss: 0.0130\n",
            "Epoch 246/500\n",
            "5/5 [==============================] - 0s 16ms/step - loss: 0.0164 - val_loss: 0.0125\n",
            "Epoch 247/500\n",
            "5/5 [==============================] - 0s 15ms/step - loss: 0.0138 - val_loss: 0.0116\n",
            "Epoch 248/500\n",
            "5/5 [==============================] - 0s 14ms/step - loss: 0.0139 - val_loss: 0.0114\n",
            "Epoch 249/500\n",
            "5/5 [==============================] - 0s 15ms/step - loss: 0.0172 - val_loss: 0.0112\n",
            "Epoch 250/500\n",
            "5/5 [==============================] - 0s 16ms/step - loss: 0.0148 - val_loss: 0.0111\n",
            "Epoch 251/500\n",
            "5/5 [==============================] - 0s 19ms/step - loss: 0.0155 - val_loss: 0.0123\n",
            "Epoch 252/500\n",
            "5/5 [==============================] - 0s 15ms/step - loss: 0.0160 - val_loss: 0.0128\n",
            "Epoch 253/500\n",
            "5/5 [==============================] - 0s 21ms/step - loss: 0.0149 - val_loss: 0.0118\n",
            "Epoch 254/500\n",
            "5/5 [==============================] - 0s 20ms/step - loss: 0.0146 - val_loss: 0.0119\n",
            "Epoch 255/500\n",
            "5/5 [==============================] - 0s 18ms/step - loss: 0.0162 - val_loss: 0.0112\n",
            "Epoch 256/500\n",
            "5/5 [==============================] - 0s 18ms/step - loss: 0.0165 - val_loss: 0.0109\n",
            "Epoch 257/500\n",
            "5/5 [==============================] - 0s 21ms/step - loss: 0.0175 - val_loss: 0.0112\n",
            "Epoch 258/500\n",
            "5/5 [==============================] - 0s 15ms/step - loss: 0.0161 - val_loss: 0.0102\n",
            "Epoch 259/500\n",
            "5/5 [==============================] - 0s 15ms/step - loss: 0.0149 - val_loss: 0.0095\n",
            "Epoch 260/500\n",
            "5/5 [==============================] - 0s 15ms/step - loss: 0.0147 - val_loss: 0.0097\n",
            "Epoch 261/500\n",
            "5/5 [==============================] - 0s 19ms/step - loss: 0.0132 - val_loss: 0.0096\n",
            "Epoch 262/500\n",
            "5/5 [==============================] - 0s 15ms/step - loss: 0.0143 - val_loss: 0.0104\n",
            "Epoch 263/500\n",
            "5/5 [==============================] - 0s 14ms/step - loss: 0.0152 - val_loss: 0.0108\n",
            "Epoch 264/500\n",
            "5/5 [==============================] - 0s 19ms/step - loss: 0.0147 - val_loss: 0.0113\n",
            "Epoch 265/500\n",
            "5/5 [==============================] - 0s 17ms/step - loss: 0.0142 - val_loss: 0.0114\n",
            "Epoch 266/500\n",
            "5/5 [==============================] - 0s 15ms/step - loss: 0.0163 - val_loss: 0.0106\n",
            "Epoch 267/500\n",
            "5/5 [==============================] - 0s 22ms/step - loss: 0.0142 - val_loss: 0.0091\n",
            "Epoch 268/500\n",
            "5/5 [==============================] - 0s 15ms/step - loss: 0.0149 - val_loss: 0.0091\n",
            "Epoch 269/500\n",
            "5/5 [==============================] - 0s 17ms/step - loss: 0.0125 - val_loss: 0.0115\n",
            "Epoch 270/500\n",
            "5/5 [==============================] - 0s 16ms/step - loss: 0.0116 - val_loss: 0.0124\n",
            "Epoch 271/500\n",
            "5/5 [==============================] - 0s 15ms/step - loss: 0.0118 - val_loss: 0.0113\n",
            "Epoch 272/500\n",
            "5/5 [==============================] - 0s 15ms/step - loss: 0.0161 - val_loss: 0.0101\n",
            "Epoch 273/500\n",
            "5/5 [==============================] - 0s 14ms/step - loss: 0.0148 - val_loss: 0.0097\n",
            "Epoch 274/500\n",
            "5/5 [==============================] - 0s 15ms/step - loss: 0.0136 - val_loss: 0.0109\n",
            "Epoch 275/500\n",
            "5/5 [==============================] - 0s 20ms/step - loss: 0.0139 - val_loss: 0.0115\n",
            "Epoch 276/500\n",
            "5/5 [==============================] - 0s 18ms/step - loss: 0.0153 - val_loss: 0.0125\n",
            "Epoch 277/500\n",
            "5/5 [==============================] - 0s 15ms/step - loss: 0.0149 - val_loss: 0.0123\n",
            "Epoch 278/500\n",
            "5/5 [==============================] - 0s 16ms/step - loss: 0.0140 - val_loss: 0.0107\n",
            "Epoch 279/500\n",
            "5/5 [==============================] - 0s 15ms/step - loss: 0.0158 - val_loss: 0.0094\n",
            "Epoch 280/500\n",
            "5/5 [==============================] - 0s 15ms/step - loss: 0.0158 - val_loss: 0.0096\n",
            "Epoch 281/500\n",
            "5/5 [==============================] - 0s 20ms/step - loss: 0.0145 - val_loss: 0.0097\n",
            "Epoch 282/500\n",
            "5/5 [==============================] - 0s 17ms/step - loss: 0.0121 - val_loss: 0.0096\n",
            "Epoch 283/500\n",
            "5/5 [==============================] - 0s 19ms/step - loss: 0.0155 - val_loss: 0.0099\n",
            "Epoch 284/500\n",
            "5/5 [==============================] - 0s 18ms/step - loss: 0.0138 - val_loss: 0.0092\n",
            "Epoch 285/500\n",
            "5/5 [==============================] - 0s 16ms/step - loss: 0.0150 - val_loss: 0.0091\n",
            "Epoch 286/500\n",
            "5/5 [==============================] - 0s 19ms/step - loss: 0.0127 - val_loss: 0.0093\n",
            "Epoch 287/500\n",
            "5/5 [==============================] - 0s 18ms/step - loss: 0.0149 - val_loss: 0.0094\n",
            "Epoch 288/500\n",
            "5/5 [==============================] - 0s 15ms/step - loss: 0.0128 - val_loss: 0.0103\n",
            "Epoch 289/500\n",
            "5/5 [==============================] - 0s 17ms/step - loss: 0.0118 - val_loss: 0.0105\n",
            "Epoch 290/500\n",
            "5/5 [==============================] - 0s 16ms/step - loss: 0.0141 - val_loss: 0.0101\n",
            "Epoch 291/500\n",
            "5/5 [==============================] - 0s 18ms/step - loss: 0.0137 - val_loss: 0.0092\n",
            "Epoch 292/500\n",
            "5/5 [==============================] - 0s 15ms/step - loss: 0.0129 - val_loss: 0.0086\n",
            "Epoch 293/500\n",
            "5/5 [==============================] - 0s 17ms/step - loss: 0.0117 - val_loss: 0.0092\n",
            "Epoch 294/500\n",
            "5/5 [==============================] - 0s 18ms/step - loss: 0.0125 - val_loss: 0.0105\n",
            "Epoch 295/500\n",
            "5/5 [==============================] - 0s 18ms/step - loss: 0.0154 - val_loss: 0.0112\n",
            "Epoch 296/500\n",
            "5/5 [==============================] - 0s 19ms/step - loss: 0.0166 - val_loss: 0.0104\n",
            "Epoch 297/500\n",
            "5/5 [==============================] - 0s 21ms/step - loss: 0.0104 - val_loss: 0.0090\n",
            "Epoch 298/500\n",
            "5/5 [==============================] - 0s 18ms/step - loss: 0.0132 - val_loss: 0.0083\n",
            "Epoch 299/500\n",
            "5/5 [==============================] - 0s 16ms/step - loss: 0.0137 - val_loss: 0.0082\n",
            "Epoch 300/500\n",
            "5/5 [==============================] - 0s 15ms/step - loss: 0.0141 - val_loss: 0.0087\n",
            "Epoch 301/500\n",
            "5/5 [==============================] - 0s 18ms/step - loss: 0.0139 - val_loss: 0.0111\n",
            "Epoch 302/500\n",
            "5/5 [==============================] - 0s 15ms/step - loss: 0.0123 - val_loss: 0.0116\n",
            "Epoch 303/500\n",
            "5/5 [==============================] - 0s 16ms/step - loss: 0.0134 - val_loss: 0.0100\n",
            "Epoch 304/500\n",
            "5/5 [==============================] - 0s 17ms/step - loss: 0.0124 - val_loss: 0.0097\n",
            "Epoch 305/500\n",
            "5/5 [==============================] - 0s 19ms/step - loss: 0.0141 - val_loss: 0.0098\n",
            "Epoch 306/500\n",
            "5/5 [==============================] - 0s 16ms/step - loss: 0.0147 - val_loss: 0.0094\n",
            "Epoch 307/500\n",
            "5/5 [==============================] - 0s 18ms/step - loss: 0.0149 - val_loss: 0.0090\n",
            "Epoch 308/500\n",
            "5/5 [==============================] - 0s 15ms/step - loss: 0.0152 - val_loss: 0.0083\n",
            "Epoch 309/500\n",
            "5/5 [==============================] - 0s 18ms/step - loss: 0.0140 - val_loss: 0.0094\n",
            "Epoch 310/500\n",
            "5/5 [==============================] - 0s 15ms/step - loss: 0.0119 - val_loss: 0.0109\n",
            "Epoch 311/500\n",
            "5/5 [==============================] - 0s 18ms/step - loss: 0.0120 - val_loss: 0.0108\n",
            "Epoch 312/500\n",
            "5/5 [==============================] - 0s 16ms/step - loss: 0.0127 - val_loss: 0.0097\n",
            "Epoch 313/500\n",
            "5/5 [==============================] - 0s 15ms/step - loss: 0.0137 - val_loss: 0.0088\n",
            "Epoch 314/500\n",
            "5/5 [==============================] - 0s 18ms/step - loss: 0.0139 - val_loss: 0.0085\n",
            "Epoch 315/500\n",
            "5/5 [==============================] - 0s 16ms/step - loss: 0.0127 - val_loss: 0.0097\n",
            "Epoch 316/500\n",
            "5/5 [==============================] - 0s 19ms/step - loss: 0.0138 - val_loss: 0.0104\n",
            "Epoch 317/500\n",
            "5/5 [==============================] - 0s 16ms/step - loss: 0.0114 - val_loss: 0.0110\n",
            "Epoch 318/500\n",
            "5/5 [==============================] - 0s 15ms/step - loss: 0.0140 - val_loss: 0.0098\n",
            "Epoch 319/500\n",
            "5/5 [==============================] - 0s 18ms/step - loss: 0.0108 - val_loss: 0.0084\n",
            "Epoch 320/500\n",
            "5/5 [==============================] - 0s 16ms/step - loss: 0.0141 - val_loss: 0.0080\n",
            "Epoch 321/500\n",
            "5/5 [==============================] - 0s 16ms/step - loss: 0.0127 - val_loss: 0.0087\n",
            "Epoch 322/500\n",
            "5/5 [==============================] - 0s 16ms/step - loss: 0.0115 - val_loss: 0.0100\n",
            "Epoch 323/500\n",
            "5/5 [==============================] - 0s 16ms/step - loss: 0.0122 - val_loss: 0.0107\n",
            "Epoch 324/500\n",
            "5/5 [==============================] - 0s 17ms/step - loss: 0.0137 - val_loss: 0.0103\n",
            "Epoch 325/500\n",
            "5/5 [==============================] - 0s 16ms/step - loss: 0.0124 - val_loss: 0.0091\n",
            "Epoch 326/500\n",
            "5/5 [==============================] - 0s 16ms/step - loss: 0.0143 - val_loss: 0.0089\n",
            "Epoch 327/500\n",
            "5/5 [==============================] - 0s 15ms/step - loss: 0.0129 - val_loss: 0.0092\n",
            "Epoch 328/500\n",
            "5/5 [==============================] - 0s 19ms/step - loss: 0.0126 - val_loss: 0.0088\n",
            "Epoch 329/500\n",
            "5/5 [==============================] - 0s 15ms/step - loss: 0.0124 - val_loss: 0.0081\n",
            "Epoch 330/500\n",
            "5/5 [==============================] - 0s 14ms/step - loss: 0.0135 - val_loss: 0.0085\n",
            "Epoch 331/500\n",
            "5/5 [==============================] - 0s 21ms/step - loss: 0.0117 - val_loss: 0.0085\n",
            "Epoch 332/500\n",
            "5/5 [==============================] - 0s 15ms/step - loss: 0.0133 - val_loss: 0.0092\n",
            "Epoch 333/500\n",
            "5/5 [==============================] - 0s 15ms/step - loss: 0.0116 - val_loss: 0.0112\n",
            "Epoch 334/500\n",
            "5/5 [==============================] - 0s 15ms/step - loss: 0.0115 - val_loss: 0.0107\n",
            "Epoch 335/500\n",
            "5/5 [==============================] - 0s 19ms/step - loss: 0.0130 - val_loss: 0.0081\n",
            "Epoch 336/500\n",
            "5/5 [==============================] - 0s 18ms/step - loss: 0.0138 - val_loss: 0.0074\n",
            "Epoch 337/500\n",
            "5/5 [==============================] - 0s 18ms/step - loss: 0.0116 - val_loss: 0.0089\n",
            "Epoch 338/500\n",
            "5/5 [==============================] - 0s 14ms/step - loss: 0.0122 - val_loss: 0.0104\n",
            "Epoch 339/500\n",
            "5/5 [==============================] - 0s 17ms/step - loss: 0.0117 - val_loss: 0.0100\n",
            "Epoch 340/500\n",
            "5/5 [==============================] - 0s 17ms/step - loss: 0.0113 - val_loss: 0.0096\n",
            "Epoch 341/500\n",
            "5/5 [==============================] - 0s 16ms/step - loss: 0.0106 - val_loss: 0.0108\n",
            "Epoch 342/500\n",
            "5/5 [==============================] - 0s 15ms/step - loss: 0.0120 - val_loss: 0.0109\n",
            "Epoch 343/500\n",
            "5/5 [==============================] - 0s 15ms/step - loss: 0.0126 - val_loss: 0.0104\n",
            "Epoch 344/500\n",
            "5/5 [==============================] - 0s 15ms/step - loss: 0.0124 - val_loss: 0.0092\n",
            "Epoch 345/500\n",
            "5/5 [==============================] - 0s 15ms/step - loss: 0.0133 - val_loss: 0.0084\n",
            "Epoch 346/500\n",
            "5/5 [==============================] - 0s 19ms/step - loss: 0.0109 - val_loss: 0.0077\n",
            "Epoch 347/500\n",
            "5/5 [==============================] - 0s 15ms/step - loss: 0.0124 - val_loss: 0.0082\n",
            "Epoch 348/500\n",
            "5/5 [==============================] - 0s 21ms/step - loss: 0.0136 - val_loss: 0.0095\n",
            "Epoch 349/500\n",
            "5/5 [==============================] - 0s 16ms/step - loss: 0.0139 - val_loss: 0.0101\n",
            "Epoch 350/500\n",
            "5/5 [==============================] - 0s 15ms/step - loss: 0.0140 - val_loss: 0.0092\n",
            "Epoch 351/500\n",
            "5/5 [==============================] - 0s 17ms/step - loss: 0.0117 - val_loss: 0.0088\n",
            "Epoch 352/500\n",
            "5/5 [==============================] - 0s 17ms/step - loss: 0.0107 - val_loss: 0.0092\n",
            "Epoch 353/500\n",
            "5/5 [==============================] - 0s 18ms/step - loss: 0.0125 - val_loss: 0.0094\n",
            "Epoch 354/500\n",
            "5/5 [==============================] - 0s 16ms/step - loss: 0.0120 - val_loss: 0.0091\n",
            "Epoch 355/500\n",
            "5/5 [==============================] - 0s 15ms/step - loss: 0.0116 - val_loss: 0.0095\n",
            "Epoch 356/500\n",
            "5/5 [==============================] - 0s 16ms/step - loss: 0.0148 - val_loss: 0.0089\n",
            "Epoch 357/500\n",
            "5/5 [==============================] - 0s 15ms/step - loss: 0.0122 - val_loss: 0.0079\n",
            "Epoch 358/500\n",
            "5/5 [==============================] - 0s 15ms/step - loss: 0.0133 - val_loss: 0.0079\n",
            "Epoch 359/500\n",
            "5/5 [==============================] - 0s 16ms/step - loss: 0.0125 - val_loss: 0.0097\n",
            "Epoch 360/500\n",
            "5/5 [==============================] - 0s 16ms/step - loss: 0.0149 - val_loss: 0.0111\n",
            "Epoch 361/500\n",
            "5/5 [==============================] - 0s 16ms/step - loss: 0.0122 - val_loss: 0.0100\n",
            "Epoch 362/500\n",
            "5/5 [==============================] - 0s 15ms/step - loss: 0.0126 - val_loss: 0.0091\n",
            "Epoch 363/500\n",
            "5/5 [==============================] - 0s 15ms/step - loss: 0.0113 - val_loss: 0.0091\n",
            "Epoch 364/500\n",
            "5/5 [==============================] - 0s 20ms/step - loss: 0.0121 - val_loss: 0.0086\n",
            "Epoch 365/500\n",
            "5/5 [==============================] - 0s 18ms/step - loss: 0.0122 - val_loss: 0.0088\n",
            "Epoch 366/500\n",
            "5/5 [==============================] - 0s 16ms/step - loss: 0.0131 - val_loss: 0.0086\n",
            "Epoch 367/500\n",
            "5/5 [==============================] - 0s 17ms/step - loss: 0.0118 - val_loss: 0.0084\n",
            "Epoch 368/500\n",
            "5/5 [==============================] - 0s 15ms/step - loss: 0.0109 - val_loss: 0.0083\n",
            "Epoch 369/500\n",
            "5/5 [==============================] - 0s 15ms/step - loss: 0.0140 - val_loss: 0.0088\n",
            "Epoch 370/500\n",
            "5/5 [==============================] - 0s 14ms/step - loss: 0.0125 - val_loss: 0.0088\n",
            "Epoch 371/500\n",
            "5/5 [==============================] - 0s 16ms/step - loss: 0.0101 - val_loss: 0.0095\n",
            "Epoch 372/500\n",
            "5/5 [==============================] - 0s 18ms/step - loss: 0.0116 - val_loss: 0.0101\n",
            "Epoch 373/500\n",
            "5/5 [==============================] - 0s 19ms/step - loss: 0.0108 - val_loss: 0.0095\n",
            "Epoch 374/500\n",
            "5/5 [==============================] - 0s 16ms/step - loss: 0.0124 - val_loss: 0.0095\n",
            "Epoch 375/500\n",
            "5/5 [==============================] - 0s 23ms/step - loss: 0.0107 - val_loss: 0.0090\n",
            "Epoch 376/500\n",
            "5/5 [==============================] - 0s 18ms/step - loss: 0.0115 - val_loss: 0.0086\n",
            "Epoch 377/500\n",
            "5/5 [==============================] - 0s 19ms/step - loss: 0.0108 - val_loss: 0.0084\n",
            "Epoch 378/500\n",
            "5/5 [==============================] - 0s 15ms/step - loss: 0.0113 - val_loss: 0.0081\n",
            "Epoch 379/500\n",
            "5/5 [==============================] - 0s 16ms/step - loss: 0.0136 - val_loss: 0.0076\n",
            "Epoch 380/500\n",
            "5/5 [==============================] - 0s 15ms/step - loss: 0.0138 - val_loss: 0.0077\n",
            "Epoch 381/500\n",
            "5/5 [==============================] - 0s 15ms/step - loss: 0.0109 - val_loss: 0.0089\n",
            "Epoch 382/500\n",
            "5/5 [==============================] - 0s 16ms/step - loss: 0.0122 - val_loss: 0.0084\n",
            "Epoch 383/500\n",
            "5/5 [==============================] - 0s 16ms/step - loss: 0.0125 - val_loss: 0.0085\n",
            "Epoch 384/500\n",
            "5/5 [==============================] - 0s 19ms/step - loss: 0.0123 - val_loss: 0.0100\n",
            "Epoch 385/500\n",
            "5/5 [==============================] - 0s 16ms/step - loss: 0.0116 - val_loss: 0.0093\n",
            "Epoch 386/500\n",
            "5/5 [==============================] - 0s 19ms/step - loss: 0.0139 - val_loss: 0.0087\n",
            "Epoch 387/500\n",
            "5/5 [==============================] - 0s 15ms/step - loss: 0.0109 - val_loss: 0.0083\n",
            "Epoch 388/500\n",
            "5/5 [==============================] - 0s 20ms/step - loss: 0.0105 - val_loss: 0.0079\n",
            "Epoch 389/500\n",
            "5/5 [==============================] - 0s 18ms/step - loss: 0.0117 - val_loss: 0.0083\n",
            "Epoch 390/500\n",
            "5/5 [==============================] - 0s 19ms/step - loss: 0.0113 - val_loss: 0.0099\n",
            "Epoch 391/500\n",
            "5/5 [==============================] - 0s 19ms/step - loss: 0.0126 - val_loss: 0.0098\n",
            "Epoch 392/500\n",
            "5/5 [==============================] - 0s 15ms/step - loss: 0.0144 - val_loss: 0.0088\n",
            "Epoch 393/500\n",
            "5/5 [==============================] - 0s 20ms/step - loss: 0.0132 - val_loss: 0.0083\n",
            "Epoch 394/500\n",
            "5/5 [==============================] - 0s 20ms/step - loss: 0.0121 - val_loss: 0.0084\n",
            "Epoch 395/500\n",
            "5/5 [==============================] - 0s 17ms/step - loss: 0.0126 - val_loss: 0.0091\n",
            "Epoch 396/500\n",
            "5/5 [==============================] - 0s 16ms/step - loss: 0.0130 - val_loss: 0.0090\n",
            "Epoch 397/500\n",
            "5/5 [==============================] - 0s 21ms/step - loss: 0.0122 - val_loss: 0.0087\n",
            "Epoch 398/500\n",
            "5/5 [==============================] - 0s 15ms/step - loss: 0.0125 - val_loss: 0.0081\n",
            "Epoch 399/500\n",
            "5/5 [==============================] - 0s 15ms/step - loss: 0.0106 - val_loss: 0.0084\n",
            "Epoch 400/500\n",
            "5/5 [==============================] - 0s 16ms/step - loss: 0.0132 - val_loss: 0.0096\n",
            "Epoch 401/500\n",
            "5/5 [==============================] - 0s 16ms/step - loss: 0.0103 - val_loss: 0.0098\n",
            "Epoch 402/500\n",
            "5/5 [==============================] - 0s 22ms/step - loss: 0.0113 - val_loss: 0.0092\n",
            "Epoch 403/500\n",
            "5/5 [==============================] - 0s 19ms/step - loss: 0.0110 - val_loss: 0.0091\n",
            "Epoch 404/500\n",
            "5/5 [==============================] - 0s 18ms/step - loss: 0.0136 - val_loss: 0.0090\n",
            "Epoch 405/500\n",
            "5/5 [==============================] - 0s 15ms/step - loss: 0.0128 - val_loss: 0.0091\n",
            "Epoch 406/500\n",
            "5/5 [==============================] - 0s 20ms/step - loss: 0.0120 - val_loss: 0.0084\n",
            "Epoch 407/500\n",
            "5/5 [==============================] - 0s 19ms/step - loss: 0.0120 - val_loss: 0.0088\n",
            "Epoch 408/500\n",
            "5/5 [==============================] - 0s 15ms/step - loss: 0.0101 - val_loss: 0.0080\n",
            "Epoch 409/500\n",
            "5/5 [==============================] - 0s 15ms/step - loss: 0.0126 - val_loss: 0.0080\n",
            "Epoch 410/500\n",
            "5/5 [==============================] - 0s 22ms/step - loss: 0.0103 - val_loss: 0.0085\n",
            "Epoch 411/500\n",
            "5/5 [==============================] - 0s 14ms/step - loss: 0.0111 - val_loss: 0.0093\n",
            "Epoch 412/500\n",
            "5/5 [==============================] - 0s 18ms/step - loss: 0.0109 - val_loss: 0.0087\n",
            "Epoch 413/500\n",
            "5/5 [==============================] - 0s 18ms/step - loss: 0.0109 - val_loss: 0.0078\n",
            "Epoch 414/500\n",
            "5/5 [==============================] - 0s 15ms/step - loss: 0.0117 - val_loss: 0.0080\n",
            "Epoch 415/500\n",
            "5/5 [==============================] - 0s 15ms/step - loss: 0.0114 - val_loss: 0.0084\n",
            "Epoch 416/500\n",
            "5/5 [==============================] - 0s 15ms/step - loss: 0.0102 - val_loss: 0.0085\n",
            "Epoch 417/500\n",
            "5/5 [==============================] - 0s 15ms/step - loss: 0.0114 - val_loss: 0.0082\n",
            "Epoch 418/500\n",
            "5/5 [==============================] - 0s 15ms/step - loss: 0.0091 - val_loss: 0.0078\n",
            "Epoch 419/500\n",
            "5/5 [==============================] - 0s 18ms/step - loss: 0.0105 - val_loss: 0.0080\n",
            "Epoch 420/500\n",
            "5/5 [==============================] - 0s 19ms/step - loss: 0.0111 - val_loss: 0.0083\n",
            "Epoch 421/500\n",
            "5/5 [==============================] - 0s 17ms/step - loss: 0.0116 - val_loss: 0.0090\n",
            "Epoch 422/500\n",
            "5/5 [==============================] - 0s 16ms/step - loss: 0.0112 - val_loss: 0.0091\n",
            "Epoch 423/500\n",
            "5/5 [==============================] - 0s 17ms/step - loss: 0.0112 - val_loss: 0.0088\n",
            "Epoch 424/500\n",
            "5/5 [==============================] - 0s 17ms/step - loss: 0.0135 - val_loss: 0.0079\n",
            "Epoch 425/500\n",
            "5/5 [==============================] - 0s 15ms/step - loss: 0.0118 - val_loss: 0.0086\n",
            "Epoch 426/500\n",
            "5/5 [==============================] - 0s 16ms/step - loss: 0.0114 - val_loss: 0.0085\n",
            "Epoch 427/500\n",
            "5/5 [==============================] - 0s 15ms/step - loss: 0.0116 - val_loss: 0.0085\n",
            "Epoch 428/500\n",
            "5/5 [==============================] - 0s 15ms/step - loss: 0.0130 - val_loss: 0.0087\n",
            "Epoch 429/500\n",
            "5/5 [==============================] - 0s 15ms/step - loss: 0.0120 - val_loss: 0.0084\n",
            "Epoch 430/500\n",
            "5/5 [==============================] - 0s 20ms/step - loss: 0.0109 - val_loss: 0.0084\n",
            "Epoch 431/500\n",
            "5/5 [==============================] - 0s 15ms/step - loss: 0.0106 - val_loss: 0.0084\n",
            "Epoch 432/500\n",
            "5/5 [==============================] - 0s 15ms/step - loss: 0.0127 - val_loss: 0.0076\n",
            "Epoch 433/500\n",
            "5/5 [==============================] - 0s 15ms/step - loss: 0.0115 - val_loss: 0.0070\n",
            "Epoch 434/500\n",
            "5/5 [==============================] - 0s 18ms/step - loss: 0.0108 - val_loss: 0.0071\n",
            "Epoch 435/500\n",
            "5/5 [==============================] - 0s 18ms/step - loss: 0.0115 - val_loss: 0.0087\n",
            "Epoch 436/500\n",
            "5/5 [==============================] - 0s 15ms/step - loss: 0.0119 - val_loss: 0.0094\n",
            "Epoch 437/500\n",
            "5/5 [==============================] - 0s 16ms/step - loss: 0.0134 - val_loss: 0.0088\n",
            "Epoch 438/500\n",
            "5/5 [==============================] - 0s 16ms/step - loss: 0.0137 - val_loss: 0.0086\n",
            "Epoch 439/500\n",
            "5/5 [==============================] - 0s 19ms/step - loss: 0.0100 - val_loss: 0.0085\n",
            "Epoch 440/500\n",
            "5/5 [==============================] - 0s 16ms/step - loss: 0.0114 - val_loss: 0.0080\n",
            "Epoch 441/500\n",
            "5/5 [==============================] - 0s 15ms/step - loss: 0.0142 - val_loss: 0.0076\n",
            "Epoch 442/500\n",
            "5/5 [==============================] - 0s 15ms/step - loss: 0.0095 - val_loss: 0.0073\n",
            "Epoch 443/500\n",
            "5/5 [==============================] - 0s 18ms/step - loss: 0.0111 - val_loss: 0.0078\n",
            "Epoch 444/500\n",
            "5/5 [==============================] - 0s 17ms/step - loss: 0.0131 - val_loss: 0.0081\n",
            "Epoch 445/500\n",
            "5/5 [==============================] - 0s 19ms/step - loss: 0.0112 - val_loss: 0.0084\n",
            "Epoch 446/500\n",
            "5/5 [==============================] - 0s 20ms/step - loss: 0.0105 - val_loss: 0.0085\n",
            "Epoch 447/500\n",
            "5/5 [==============================] - 0s 15ms/step - loss: 0.0130 - val_loss: 0.0081\n",
            "Epoch 448/500\n",
            "5/5 [==============================] - 0s 18ms/step - loss: 0.0119 - val_loss: 0.0084\n",
            "Epoch 449/500\n",
            "5/5 [==============================] - 0s 15ms/step - loss: 0.0120 - val_loss: 0.0078\n",
            "Epoch 450/500\n",
            "5/5 [==============================] - 0s 15ms/step - loss: 0.0097 - val_loss: 0.0077\n",
            "Epoch 451/500\n",
            "5/5 [==============================] - 0s 15ms/step - loss: 0.0098 - val_loss: 0.0080\n",
            "Epoch 452/500\n",
            "5/5 [==============================] - 0s 19ms/step - loss: 0.0106 - val_loss: 0.0079\n",
            "Epoch 453/500\n",
            "5/5 [==============================] - 0s 16ms/step - loss: 0.0107 - val_loss: 0.0078\n",
            "Epoch 454/500\n",
            "5/5 [==============================] - 0s 16ms/step - loss: 0.0104 - val_loss: 0.0084\n",
            "Epoch 455/500\n",
            "5/5 [==============================] - 0s 15ms/step - loss: 0.0113 - val_loss: 0.0079\n",
            "Epoch 456/500\n",
            "5/5 [==============================] - 0s 15ms/step - loss: 0.0106 - val_loss: 0.0085\n",
            "Epoch 457/500\n",
            "5/5 [==============================] - 0s 16ms/step - loss: 0.0118 - val_loss: 0.0084\n",
            "Epoch 458/500\n",
            "5/5 [==============================] - 0s 17ms/step - loss: 0.0116 - val_loss: 0.0075\n",
            "Epoch 459/500\n",
            "5/5 [==============================] - 0s 15ms/step - loss: 0.0106 - val_loss: 0.0072\n",
            "Epoch 460/500\n",
            "5/5 [==============================] - 0s 18ms/step - loss: 0.0103 - val_loss: 0.0071\n",
            "Epoch 461/500\n",
            "5/5 [==============================] - 0s 17ms/step - loss: 0.0123 - val_loss: 0.0071\n",
            "Epoch 462/500\n",
            "5/5 [==============================] - 0s 19ms/step - loss: 0.0114 - val_loss: 0.0078\n",
            "Epoch 463/500\n",
            "5/5 [==============================] - 0s 16ms/step - loss: 0.0116 - val_loss: 0.0088\n",
            "Epoch 464/500\n",
            "5/5 [==============================] - 0s 16ms/step - loss: 0.0108 - val_loss: 0.0087\n",
            "Epoch 465/500\n",
            "5/5 [==============================] - 0s 19ms/step - loss: 0.0102 - val_loss: 0.0077\n",
            "Epoch 466/500\n",
            "5/5 [==============================] - 0s 18ms/step - loss: 0.0104 - val_loss: 0.0068\n",
            "Epoch 467/500\n",
            "5/5 [==============================] - 0s 15ms/step - loss: 0.0110 - val_loss: 0.0071\n",
            "Epoch 468/500\n",
            "5/5 [==============================] - 0s 18ms/step - loss: 0.0099 - val_loss: 0.0074\n",
            "Epoch 469/500\n",
            "5/5 [==============================] - 0s 18ms/step - loss: 0.0118 - val_loss: 0.0076\n",
            "Epoch 470/500\n",
            "5/5 [==============================] - 0s 18ms/step - loss: 0.0125 - val_loss: 0.0081\n",
            "Epoch 471/500\n",
            "5/5 [==============================] - 0s 19ms/step - loss: 0.0118 - val_loss: 0.0080\n",
            "Epoch 472/500\n",
            "5/5 [==============================] - 0s 19ms/step - loss: 0.0103 - val_loss: 0.0085\n",
            "Epoch 473/500\n",
            "5/5 [==============================] - 0s 15ms/step - loss: 0.0116 - val_loss: 0.0090\n",
            "Epoch 474/500\n",
            "5/5 [==============================] - 0s 15ms/step - loss: 0.0107 - val_loss: 0.0082\n",
            "Epoch 475/500\n",
            "5/5 [==============================] - 0s 16ms/step - loss: 0.0094 - val_loss: 0.0080\n",
            "Epoch 476/500\n",
            "5/5 [==============================] - 0s 16ms/step - loss: 0.0101 - val_loss: 0.0078\n",
            "Epoch 477/500\n",
            "5/5 [==============================] - 0s 15ms/step - loss: 0.0112 - val_loss: 0.0078\n",
            "Epoch 478/500\n",
            "5/5 [==============================] - 0s 14ms/step - loss: 0.0111 - val_loss: 0.0073\n",
            "Epoch 479/500\n",
            "5/5 [==============================] - 0s 21ms/step - loss: 0.0119 - val_loss: 0.0074\n",
            "Epoch 480/500\n",
            "5/5 [==============================] - 0s 18ms/step - loss: 0.0107 - val_loss: 0.0075\n",
            "Epoch 481/500\n",
            "5/5 [==============================] - 0s 17ms/step - loss: 0.0113 - val_loss: 0.0079\n",
            "Epoch 482/500\n",
            "5/5 [==============================] - 0s 15ms/step - loss: 0.0122 - val_loss: 0.0080\n",
            "Epoch 483/500\n",
            "5/5 [==============================] - 0s 16ms/step - loss: 0.0116 - val_loss: 0.0078\n",
            "Epoch 484/500\n",
            "5/5 [==============================] - 0s 19ms/step - loss: 0.0106 - val_loss: 0.0081\n",
            "Epoch 485/500\n",
            "5/5 [==============================] - 0s 19ms/step - loss: 0.0115 - val_loss: 0.0079\n",
            "Epoch 486/500\n",
            "5/5 [==============================] - 0s 17ms/step - loss: 0.0114 - val_loss: 0.0079\n",
            "Epoch 487/500\n",
            "5/5 [==============================] - 0s 16ms/step - loss: 0.0131 - val_loss: 0.0089\n",
            "Epoch 488/500\n",
            "5/5 [==============================] - 0s 15ms/step - loss: 0.0144 - val_loss: 0.0089\n",
            "Epoch 489/500\n",
            "5/5 [==============================] - 0s 15ms/step - loss: 0.0109 - val_loss: 0.0077\n",
            "Epoch 490/500\n",
            "5/5 [==============================] - 0s 16ms/step - loss: 0.0121 - val_loss: 0.0075\n",
            "Epoch 491/500\n",
            "5/5 [==============================] - 0s 19ms/step - loss: 0.0089 - val_loss: 0.0076\n",
            "Epoch 492/500\n",
            "5/5 [==============================] - 0s 15ms/step - loss: 0.0105 - val_loss: 0.0081\n",
            "Epoch 493/500\n",
            "5/5 [==============================] - 0s 17ms/step - loss: 0.0102 - val_loss: 0.0074\n",
            "Epoch 494/500\n",
            "5/5 [==============================] - 0s 16ms/step - loss: 0.0094 - val_loss: 0.0073\n",
            "Epoch 495/500\n",
            "5/5 [==============================] - 0s 16ms/step - loss: 0.0096 - val_loss: 0.0069\n",
            "Epoch 496/500\n",
            "5/5 [==============================] - 0s 19ms/step - loss: 0.0105 - val_loss: 0.0074\n",
            "Epoch 497/500\n",
            "5/5 [==============================] - 0s 16ms/step - loss: 0.0120 - val_loss: 0.0083\n",
            "Epoch 498/500\n",
            "5/5 [==============================] - 0s 20ms/step - loss: 0.0116 - val_loss: 0.0086\n",
            "Epoch 499/500\n",
            "5/5 [==============================] - 0s 17ms/step - loss: 0.0110 - val_loss: 0.0080\n",
            "Epoch 500/500\n",
            "5/5 [==============================] - 0s 15ms/step - loss: 0.0125 - val_loss: 0.0079\n"
          ]
        }
      ],
      "source": [
        "history = model.fit(X_train,y_train,validation_data=(X_test,y_test),epochs=500,batch_size=32,verbose=1)"
      ]
    },
    {
      "cell_type": "markdown",
      "metadata": {
        "id": "fqEgaqizalU3"
      },
      "source": [
        "<a name=\"loss\"></a>\n",
        "\n",
        "### Plotting loss chart"
      ]
    },
    {
      "cell_type": "markdown",
      "metadata": {
        "id": "jADLrFi1THk9"
      },
      "source": [
        "the next is visualize the loss training result with the validation loss."
      ]
    },
    {
      "cell_type": "code",
      "execution_count": 32,
      "metadata": {
        "colab": {
          "base_uri": "https://localhost:8080/",
          "height": 298
        },
        "execution": {
          "iopub.execute_input": "2021-08-16T08:13:10.728133Z",
          "iopub.status.busy": "2021-08-16T08:13:10.727675Z",
          "iopub.status.idle": "2021-08-16T08:13:10.927178Z",
          "shell.execute_reply": "2021-08-16T08:13:10.926165Z",
          "shell.execute_reply.started": "2021-08-16T08:13:10.728102Z"
        },
        "id": "sHwPaVyAalU3",
        "outputId": "e55781f9-25b5-40e2-e3b8-d42f3ee6fb30",
        "trusted": true
      },
      "outputs": [
        {
          "output_type": "display_data",
          "data": {
            "text/plain": [
              "<Figure size 432x288 with 1 Axes>"
            ],
            "image/png": "[encoded data removed]"
          },
          "metadata": {
            "needs_background": "light"
          }
        },
        {
          "output_type": "display_data",
          "data": {
            "text/plain": [
              "<Figure size 432x288 with 0 Axes>"
            ]
          },
          "metadata": {}
        }
      ],
      "source": [
        "import matplotlib.pyplot as plt\n",
        "\n",
        "loss = history.history['loss']\n",
        "val_loss = history.history['val_loss']\n",
        "\n",
        "epochs = range(len(loss))\n",
        "\n",
        "plt.plot(epochs, loss, 'r', label='Training loss')\n",
        "plt.plot(epochs, val_loss, 'b', label='Validation loss')\n",
        "plt.title('Training and validation loss')\n",
        "plt.legend(loc=0)\n",
        "plt.figure()\n",
        "\n",
        "\n",
        "plt.show()"
      ]
    },
    {
      "cell_type": "markdown",
      "metadata": {
        "id": "XExczUBCTTfX"
      },
      "source": [
        "Based on the plot above, the result of model training is good enough because there is no exploding gradient or vanishing gradient. And the model can be considered as bestfit because the difference between training and validation loss is really small."
      ]
    },
    {
      "cell_type": "code",
      "execution_count": 33,
      "metadata": {
        "colab": {
          "base_uri": "https://localhost:8080/"
        },
        "execution": {
          "iopub.execute_input": "2021-08-16T08:13:10.928975Z",
          "iopub.status.busy": "2021-08-16T08:13:10.928686Z",
          "iopub.status.idle": "2021-08-16T08:13:11.99465Z",
          "shell.execute_reply": "2021-08-16T08:13:11.993383Z",
          "shell.execute_reply.started": "2021-08-16T08:13:10.928946Z"
        },
        "id": "Z1lkPFBcalU3",
        "outputId": "ecfb7035-66bf-450f-f449-8d85fbbbe18b",
        "trusted": true
      },
      "outputs": [
        {
          "output_type": "stream",
          "name": "stdout",
          "text": [
            "5/5 [==============================] - 1s 4ms/step\n",
            "3/3 [==============================] - 0s 5ms/step\n"
          ]
        },
        {
          "output_type": "execute_result",
          "data": {
            "text/plain": [
              "((139, 1), (91, 1))"
            ]
          },
          "metadata": {},
          "execution_count": 33
        }
      ],
      "source": [
        "### Lets Do the prediction and check performance metrics\n",
        "train_predict=model.predict(X_train)\n",
        "test_predict=model.predict(X_test)\n",
        "train_predict.shape, test_predict.shape"
      ]
    },
    {
      "cell_type": "markdown",
      "metadata": {
        "id": "YGnoPrI8alU3"
      },
      "source": [
        "<a name=\"eval\"></a>\n",
        "\n",
        "# Model Evaluation"
      ]
    },
    {
      "cell_type": "code",
      "execution_count": 34,
      "metadata": {
        "execution": {
          "iopub.execute_input": "2021-08-16T08:13:11.996976Z",
          "iopub.status.busy": "2021-08-16T08:13:11.996501Z",
          "iopub.status.idle": "2021-08-16T08:13:12.007044Z",
          "shell.execute_reply": "2021-08-16T08:13:12.005061Z",
          "shell.execute_reply.started": "2021-08-16T08:13:11.996944Z"
        },
        "id": "gaMo-Z2BalU3",
        "trusted": true
      },
      "outputs": [],
      "source": [
        "# Transform back to original form\n",
        "\n",
        "train_predict = scaler.inverse_transform(train_predict)\n",
        "test_predict = scaler.inverse_transform(test_predict)\n",
        "original_ytrain = scaler.inverse_transform(y_train.reshape(-1,1)) \n",
        "original_ytest = scaler.inverse_transform(y_test.reshape(-1,1)) "
      ]
    },
    {
      "cell_type": "markdown",
      "metadata": {
        "id": "xWSVOy_-CkbR"
      },
      "source": [
        "Before doing the model evaluation, we were doing inverse transform to make it go back to the base value (value before)"
      ]
    },
    {
      "cell_type": "markdown",
      "metadata": {
        "execution": {
          "iopub.execute_input": "2021-08-13T14:37:27.193402Z",
          "iopub.status.busy": "2021-08-13T14:37:27.193015Z",
          "iopub.status.idle": "2021-08-13T14:37:27.20143Z",
          "shell.execute_reply": "2021-08-13T14:37:27.199897Z",
          "shell.execute_reply.started": "2021-08-13T14:37:27.193367Z"
        },
        "id": "loRfbnWhalU4"
      },
      "source": [
        "<a name=\"mse\"></a>\n",
        "\n",
        "### Evaluation metrices RMSE, MSE and MAE\n",
        "\n",
        "Root Mean Square Error (RMSE), Mean Square Error (MSE) and Mean absolute Error (MAE) are a standard way to measure the error of a model in predicting quantitative data."
      ]
    },
    {
      "cell_type": "code",
      "execution_count": 35,
      "metadata": {
        "colab": {
          "base_uri": "https://localhost:8080/"
        },
        "execution": {
          "iopub.execute_input": "2021-08-16T08:13:12.009168Z",
          "iopub.status.busy": "2021-08-16T08:13:12.008754Z",
          "iopub.status.idle": "2021-08-16T08:13:12.022913Z",
          "shell.execute_reply": "2021-08-16T08:13:12.021896Z",
          "shell.execute_reply.started": "2021-08-16T08:13:12.009082Z"
        },
        "id": "mHdWtDW0alU4",
        "outputId": "dd2d5251-b32b-46f4-9d8c-95de6ca51b07",
        "trusted": true
      },
      "outputs": [
        {
          "output_type": "stream",
          "name": "stdout",
          "text": [
            "Train data RMSE:  86.5913876967897\n",
            "Train data MSE:  7498.068423255742\n",
            "Train data MAE:  67.67272861398381\n",
            "-------------------------------------------------------------------------------------\n",
            "Test data RMSE:  83.72411416501131\n",
            "Test data MSE:  7009.727292715848\n",
            "Test data MAE:  65.58326536744505\n"
          ]
        }
      ],
      "source": [
        "# Evaluation metrices RMSE and MAE\n",
        "print(\"Train data RMSE: \", math.sqrt(mean_squared_error(original_ytrain,train_predict)))\n",
        "print(\"Train data MSE: \", mean_squared_error(original_ytrain,train_predict))\n",
        "print(\"Train data MAE: \", mean_absolute_error(original_ytrain,train_predict))\n",
        "print(\"-------------------------------------------------------------------------------------\")\n",
        "print(\"Test data RMSE: \", math.sqrt(mean_squared_error(original_ytest,test_predict)))\n",
        "print(\"Test data MSE: \", mean_squared_error(original_ytest,test_predict))\n",
        "print(\"Test data MAE: \", mean_absolute_error(original_ytest,test_predict))"
      ]
    },
    {
      "cell_type": "markdown",
      "metadata": {
        "id": "lfmZ1-uGalU4"
      },
      "source": [
        "<a name=\"var\"></a>\n",
        "\n",
        "### Explained variance regression score\n",
        "\n",
        "\n",
        "The explained variance score explains the dispersion of errors of a given dataset, and the formula is written as follows: Here, and Var(y) is the variance of prediction errors and actual values respectively. Scores close to 1.0 are highly desired, indicating better squares of standard deviations of errors."
      ]
    },
    {
      "cell_type": "code",
      "execution_count": 36,
      "metadata": {
        "colab": {
          "base_uri": "https://localhost:8080/"
        },
        "execution": {
          "iopub.execute_input": "2021-08-16T08:13:12.024356Z",
          "iopub.status.busy": "2021-08-16T08:13:12.024068Z",
          "iopub.status.idle": "2021-08-16T08:13:12.035152Z",
          "shell.execute_reply": "2021-08-16T08:13:12.03413Z",
          "shell.execute_reply.started": "2021-08-16T08:13:12.024328Z"
        },
        "id": "IGbjJm7_alU4",
        "outputId": "60901651-ad47-4ebb-b3c5-fdfae099215c",
        "trusted": true
      },
      "outputs": [
        {
          "output_type": "stream",
          "name": "stdout",
          "text": [
            "Train data explained variance regression score: 0.8408065588611748\n",
            "Test data explained variance regression score: 0.8462269840775275\n"
          ]
        }
      ],
      "source": [
        "print(\"Train data explained variance regression score:\", explained_variance_score(original_ytrain, train_predict))\n",
        "print(\"Test data explained variance regression score:\", explained_variance_score(original_ytest, test_predict))"
      ]
    },
    {
      "cell_type": "markdown",
      "metadata": {
        "id": "wf0v7OD4alU4"
      },
      "source": [
        "<a name=\"r2\"></a>\n",
        "\n",
        "### R<sup>2</sup> score for regression\n",
        "\n",
        "R-squared (R2) is a statistical measure that represents the proportion of the variance for a dependent variable that's explained by an independent variable or variables in a regression model.\n",
        "\n",
        "1 = Best <br>\n",
        "0 or < 0 = worse"
      ]
    },
    {
      "cell_type": "code",
      "execution_count": 37,
      "metadata": {
        "colab": {
          "base_uri": "https://localhost:8080/"
        },
        "execution": {
          "iopub.execute_input": "2021-08-16T08:13:12.036663Z",
          "iopub.status.busy": "2021-08-16T08:13:12.036237Z",
          "iopub.status.idle": "2021-08-16T08:13:12.047016Z",
          "shell.execute_reply": "2021-08-16T08:13:12.046118Z",
          "shell.execute_reply.started": "2021-08-16T08:13:12.036633Z"
        },
        "id": "BKQ5yvLhalU4",
        "outputId": "3bcd6b06-7196-4407-c7f2-c313e6275201",
        "trusted": true
      },
      "outputs": [
        {
          "output_type": "stream",
          "name": "stdout",
          "text": [
            "Train data R2 score: 0.8408060235777292\n",
            "Test data R2 score: 0.8204890705209904\n"
          ]
        }
      ],
      "source": [
        "print(\"Train data R2 score:\", r2_score(original_ytrain, train_predict))\n",
        "print(\"Test data R2 score:\", r2_score(original_ytest, test_predict))"
      ]
    },
    {
      "cell_type": "markdown",
      "metadata": {
        "id": "o-bcQ76XsEKr"
      },
      "source": [
        "From the r2-score shown above, it is seen that the model is good enough with 0.94 train score, and 0.8 test score."
      ]
    },
    {
      "cell_type": "markdown",
      "metadata": {
        "id": "c52WNGfFalU4"
      },
      "source": [
        "<a name=\"mpd\"></a>\n",
        "\n",
        "### Regression Loss Mean Gamma deviance regression loss (MGD) and Mean Poisson deviance regression loss (MPD)"
      ]
    },
    {
      "cell_type": "code",
      "execution_count": 38,
      "metadata": {
        "colab": {
          "base_uri": "https://localhost:8080/"
        },
        "execution": {
          "iopub.execute_input": "2021-08-16T08:13:12.048615Z",
          "iopub.status.busy": "2021-08-16T08:13:12.048152Z",
          "iopub.status.idle": "2021-08-16T08:13:12.062329Z",
          "shell.execute_reply": "2021-08-16T08:13:12.061281Z",
          "shell.execute_reply.started": "2021-08-16T08:13:12.048572Z"
        },
        "id": "UAjeZV1palU5",
        "outputId": "38493144-7a9c-4a3c-e9f8-7f0a67f8678e",
        "trusted": true
      },
      "outputs": [
        {
          "output_type": "stream",
          "name": "stdout",
          "text": [
            "Train data MGD:  0.00038403965620010855\n",
            "Test data MGD:  0.0003267979794065109\n",
            "----------------------------------------------------------------------\n",
            "Train data MPD:  1.695132855807145\n",
            "Test data MPD:  1.512322210009238\n"
          ]
        }
      ],
      "source": [
        "print(\"Train data MGD: \", mean_gamma_deviance(original_ytrain, train_predict))\n",
        "print(\"Test data MGD: \", mean_gamma_deviance(original_ytest, test_predict))\n",
        "print(\"----------------------------------------------------------------------\")\n",
        "print(\"Train data MPD: \", mean_poisson_deviance(original_ytrain, train_predict))\n",
        "print(\"Test data MPD: \", mean_poisson_deviance(original_ytest, test_predict))"
      ]
    },
    {
      "cell_type": "markdown",
      "metadata": {
        "id": "yvZBQdmLalU5"
      },
      "source": [
        "<a name=\"cp\"></a>\n",
        "\n",
        "# Comparison of original stock close price and predicted close price"
      ]
    },
    {
      "cell_type": "code",
      "execution_count": 39,
      "metadata": {
        "colab": {
          "base_uri": "https://localhost:8080/",
          "height": 577
        },
        "execution": {
          "iopub.execute_input": "2021-08-16T08:13:12.064387Z",
          "iopub.status.busy": "2021-08-16T08:13:12.063782Z",
          "iopub.status.idle": "2021-08-16T08:13:12.201034Z",
          "shell.execute_reply": "2021-08-16T08:13:12.200017Z",
          "shell.execute_reply.started": "2021-08-16T08:13:12.064339Z"
        },
        "id": "_GVJFUnralU5",
        "outputId": "74767aa1-e5f8-4470-efd8-b3fc8dc953d9",
        "trusted": true
      },
      "outputs": [
        {
          "output_type": "stream",
          "name": "stdout",
          "text": [
            "Train predicted data:  (248, 1)\n",
            "Test predicted data:  (248, 1)\n"
          ]
        },
        {
          "output_type": "display_data",
          "data": {
            "text/html": [
              "<html>\n",
              "<head><meta charset=\"utf-8\" /></head>\n",
              "<body>\n",
              "    <div>            <script src=\"https://cdnjs.cloudflare.com/ajax/libs/mathjax/2.7.5/MathJax.js?config=TeX-AMS-MML_SVG\"></script><script type=\"text/javascript\">if (window.MathJax) {MathJax.Hub.Config({SVG: {font: \"STIX-Web\"}});}</script>                <script type=\"text/javascript\">window.PlotlyConfig = {MathJaxConfig: 'local'};</script>\n",
              "        <script src=\"https://cdn.plot.ly/plotly-2.8.3.min.js\"></script>                <div id=\"6e4bfe0e-b534-4f6b-a922-80c0800b0558\" class=\"plotly-graph-div\" style=\"height:525px; width:100%;\"></div>            <script type=\"text/javascript\">                                    window.PLOTLYENV=window.PLOTLYENV || {};                                    if (document.getElementById(\"6e4bfe0e-b534-4f6b-a922-80c0800b0558\")) {                    Plotly.newPlot(                        \"6e4bfe0e-b534-4f6b-a922-80c0800b0558\",                        [{\"hovertemplate\":\"variable=original_close<br>Date=%{x}<br>Stock price=%{y}<extra></extra>\",\"legendgroup\":\"original_close\",\"line\":{\"color\":\"#636efa\",\"dash\":\"solid\"},\"marker\":{\"symbol\":\"circle\"},\"mode\":\"lines\",\"name\":\"Original close price\",\"orientation\":\"v\",\"showlegend\":true,\"x\":[\"2021-12-17T00:00:00\",\"2021-12-20T00:00:00\",\"2021-12-21T00:00:00\",\"2021-12-22T00:00:00\",\"2021-12-23T00:00:00\",\"2021-12-24T00:00:00\",\"2021-12-27T00:00:00\",\"2021-12-28T00:00:00\",\"2021-12-29T00:00:00\",\"2021-12-30T00:00:00\",\"2022-01-03T00:00:00\",\"2022-01-04T00:00:00\",\"2022-01-05T00:00:00\",\"2022-01-06T00:00:00\",\"2022-01-07T00:00:00\",\"2022-01-10T00:00:00\",\"2022-01-11T00:00:00\",\"2022-01-12T00:00:00\",\"2022-01-13T00:00:00\",\"2022-01-14T00:00:00\",\"2022-01-17T00:00:00\",\"2022-01-18T00:00:00\",\"2022-01-19T00:00:00\",\"2022-01-20T00:00:00\",\"2022-01-21T00:00:00\",\"2022-01-24T00:00:00\",\"2022-01-25T00:00:00\",\"2022-01-26T00:00:00\",\"2022-01-27T00:00:00\",\"2022-01-28T00:00:00\",\"2022-01-31T00:00:00\",\"2022-02-02T00:00:00\",\"2022-02-03T00:00:00\",\"2022-02-04T00:00:00\",\"2022-02-07T00:00:00\",\"2022-02-08T00:00:00\",\"2022-02-09T00:00:00\",\"2022-02-10T00:00:00\",\"2022-02-11T00:00:00\",\"2022-02-14T00:00:00\",\"2022-02-15T00:00:00\",\"2022-02-16T00:00:00\",\"2022-02-17T00:00:00\",\"2022-02-18T00:00:00\",\"2022-02-21T00:00:00\",\"2022-02-22T00:00:00\",\"2022-02-23T00:00:00\",\"2022-02-24T00:00:00\",\"2022-02-25T00:00:00\",\"2022-03-01T00:00:00\",\"2022-03-02T00:00:00\",\"2022-03-04T00:00:00\",\"2022-03-07T00:00:00\",\"2022-03-08T00:00:00\",\"2022-03-09T00:00:00\",\"2022-03-10T00:00:00\",\"2022-03-11T00:00:00\",\"2022-03-14T00:00:00\",\"2022-03-15T00:00:00\",\"2022-03-16T00:00:00\",\"2022-03-17T00:00:00\",\"2022-03-18T00:00:00\",\"2022-03-21T00:00:00\",\"2022-03-22T00:00:00\",\"2022-03-23T00:00:00\",\"2022-03-24T00:00:00\",\"2022-03-25T00:00:00\",\"2022-03-28T00:00:00\",\"2022-03-29T00:00:00\",\"2022-03-30T00:00:00\",\"2022-03-31T00:00:00\",\"2022-04-01T00:00:00\",\"2022-04-04T00:00:00\",\"2022-04-05T00:00:00\",\"2022-04-06T00:00:00\",\"2022-04-07T00:00:00\",\"2022-04-08T00:00:00\",\"2022-04-11T00:00:00\",\"2022-04-12T00:00:00\",\"2022-04-13T00:00:00\",\"2022-04-14T00:00:00\",\"2022-04-18T00:00:00\",\"2022-04-19T00:00:00\",\"2022-04-20T00:00:00\",\"2022-04-21T00:00:00\",\"2022-04-22T00:00:00\",\"2022-04-25T00:00:00\",\"2022-04-26T00:00:00\",\"2022-04-27T00:00:00\",\"2022-04-28T00:00:00\",\"2022-05-09T00:00:00\",\"2022-05-10T00:00:00\",\"2022-05-11T00:00:00\",\"2022-05-12T00:00:00\",\"2022-05-13T00:00:00\",\"2022-05-17T00:00:00\",\"2022-05-18T00:00:00\",\"2022-05-19T00:00:00\",\"2022-05-20T00:00:00\",\"2022-05-23T00:00:00\",\"2022-05-24T00:00:00\",\"2022-05-25T00:00:00\",\"2022-05-27T00:00:00\",\"2022-05-30T00:00:00\",\"2022-05-31T00:00:00\",\"2022-06-02T00:00:00\",\"2022-06-03T00:00:00\",\"2022-06-06T00:00:00\",\"2022-06-07T00:00:00\",\"2022-06-08T00:00:00\",\"2022-06-09T00:00:00\",\"2022-06-10T00:00:00\",\"2022-06-13T00:00:00\",\"2022-06-14T00:00:00\",\"2022-06-15T00:00:00\",\"2022-06-16T00:00:00\",\"2022-06-17T00:00:00\",\"2022-06-20T00:00:00\",\"2022-06-21T00:00:00\",\"2022-06-22T00:00:00\",\"2022-06-23T00:00:00\",\"2022-06-24T00:00:00\",\"2022-06-27T00:00:00\",\"2022-06-28T00:00:00\",\"2022-06-29T00:00:00\",\"2022-06-30T00:00:00\",\"2022-07-01T00:00:00\",\"2022-07-04T00:00:00\",\"2022-07-05T00:00:00\",\"2022-07-06T00:00:00\",\"2022-07-07T00:00:00\",\"2022-07-08T00:00:00\",\"2022-07-11T00:00:00\",\"2022-07-12T00:00:00\",\"2022-07-13T00:00:00\",\"2022-07-14T00:00:00\",\"2022-07-15T00:00:00\",\"2022-07-18T00:00:00\",\"2022-07-19T00:00:00\",\"2022-07-20T00:00:00\",\"2022-07-21T00:00:00\",\"2022-07-22T00:00:00\",\"2022-07-25T00:00:00\",\"2022-07-26T00:00:00\",\"2022-07-27T00:00:00\",\"2022-07-28T00:00:00\",\"2022-07-29T00:00:00\",\"2022-08-01T00:00:00\",\"2022-08-02T00:00:00\",\"2022-08-03T00:00:00\",\"2022-08-04T00:00:00\",\"2022-08-05T00:00:00\",\"2022-08-08T00:00:00\",\"2022-08-09T00:00:00\",\"2022-08-10T00:00:00\",\"2022-08-11T00:00:00\",\"2022-08-12T00:00:00\",\"2022-08-15T00:00:00\",\"2022-08-16T00:00:00\",\"2022-08-18T00:00:00\",\"2022-08-19T00:00:00\",\"2022-08-22T00:00:00\",\"2022-08-23T00:00:00\",\"2022-08-24T00:00:00\",\"2022-08-25T00:00:00\",\"2022-08-26T00:00:00\",\"2022-08-29T00:00:00\",\"2022-08-30T00:00:00\",\"2022-08-31T00:00:00\",\"2022-09-01T00:00:00\",\"2022-09-02T00:00:00\",\"2022-09-05T00:00:00\",\"2022-09-06T00:00:00\",\"2022-09-07T00:00:00\",\"2022-09-08T00:00:00\",\"2022-09-09T00:00:00\",\"2022-09-12T00:00:00\",\"2022-09-13T00:00:00\",\"2022-09-14T00:00:00\",\"2022-09-15T00:00:00\",\"2022-09-16T00:00:00\",\"2022-09-19T00:00:00\",\"2022-09-20T00:00:00\",\"2022-09-21T00:00:00\",\"2022-09-22T00:00:00\",\"2022-09-23T00:00:00\",\"2022-09-26T00:00:00\",\"2022-09-27T00:00:00\",\"2022-09-28T00:00:00\",\"2022-09-29T00:00:00\",\"2022-09-30T00:00:00\",\"2022-10-03T00:00:00\",\"2022-10-04T00:00:00\",\"2022-10-05T00:00:00\",\"2022-10-06T00:00:00\",\"2022-10-07T00:00:00\",\"2022-10-10T00:00:00\",\"2022-10-11T00:00:00\",\"2022-10-12T00:00:00\",\"2022-10-13T00:00:00\",\"2022-10-14T00:00:00\",\"2022-10-17T00:00:00\",\"2022-10-18T00:00:00\",\"2022-10-19T00:00:00\",\"2022-10-20T00:00:00\",\"2022-10-21T00:00:00\",\"2022-10-24T00:00:00\",\"2022-10-25T00:00:00\",\"2022-10-26T00:00:00\",\"2022-10-27T00:00:00\",\"2022-10-28T00:00:00\",\"2022-10-31T00:00:00\",\"2022-11-01T00:00:00\",\"2022-11-02T00:00:00\",\"2022-11-03T00:00:00\",\"2022-11-04T00:00:00\",\"2022-11-07T00:00:00\",\"2022-11-08T00:00:00\",\"2022-11-09T00:00:00\",\"2022-11-10T00:00:00\",\"2022-11-11T00:00:00\",\"2022-11-14T00:00:00\",\"2022-11-15T00:00:00\",\"2022-11-16T00:00:00\",\"2022-11-17T00:00:00\",\"2022-11-18T00:00:00\",\"2022-11-21T00:00:00\",\"2022-11-22T00:00:00\",\"2022-11-23T00:00:00\",\"2022-11-24T00:00:00\",\"2022-11-25T00:00:00\",\"2022-11-28T00:00:00\",\"2022-11-29T00:00:00\",\"2022-11-30T00:00:00\",\"2022-12-01T00:00:00\",\"2022-12-02T00:00:00\",\"2022-12-05T00:00:00\",\"2022-12-06T00:00:00\",\"2022-12-07T00:00:00\",\"2022-12-08T00:00:00\",\"2022-12-09T00:00:00\",\"2022-12-12T00:00:00\",\"2022-12-13T00:00:00\",\"2022-12-14T00:00:00\",\"2022-12-15T00:00:00\",\"2022-12-16T00:00:00\",\"2022-12-19T00:00:00\",\"2022-12-20T00:00:00\"],\"xaxis\":\"x\",\"y\":[4110.0,4120.0,4080.0,4050.0,4100.0,4070.0,4060.0,4090.0,4080.0,4110.0,4180.0,4160.0,4210.0,4160.0,4190.0,4180.0,4150.0,4160.0,4190.0,4180.0,4210.0,4190.0,4130.0,4130.0,4170.0,4120.0,4070.0,4090.0,4140.0,4140.0,4070.0,4070.0,4130.0,4210.0,4400.0,4440.0,4450.0,4470.0,4450.0,4410.0,4430.0,4420.0,4400.0,4430.0,4490.0,4430.0,4480.0,4390.0,4550.0,4630.0,4560.0,4670.0,4520.0,4430.0,4570.0,4570.0,4400.0,4520.0,4610.0,4650.0,4650.0,4580.0,4590.0,4640.0,4650.0,4730.0,4710.0,4730.0,4690.0,4710.0,4660.0,4730.0,4700.0,4700.0,4600.0,4630.0,4610.0,4570.0,4610.0,4610.0,4540.0,4550.0,4570.0,4850.0,4800.0,4750.0,4840.0,4940.0,4850.0,4870.0,4530.0,4530.0,4490.0,4320.0,4250.0,4450.0,4450.0,4440.0,4430.0,4330.0,4460.0,4350.0,4540.0,4430.0,4630.0,4480.0,4520.0,4430.0,4400.0,4470.0,4490.0,4400.0,4340.0,4360.0,4450.0,4430.0,4370.0,4400.0,4380.0,4320.0,4310.0,4340.0,4280.0,4300.0,4180.0,4150.0,4140.0,4040.0,4090.0,4080.0,4050.0,4200.0,4120.0,4110.0,4060.0,4070.0,4110.0,4140.0,4110.0,4300.0,4310.0,4270.0,4250.0,4330.0,4320.0,4360.0,4360.0,4360.0,4400.0,4380.0,4360.0,4360.0,4370.0,4410.0,4310.0,4350.0,4320.0,4300.0,4280.0,4330.0,4300.0,4270.0,4300.0,4290.0,4270.0,4270.0,4250.0,4260.0,4340.0,4390.0,4450.0,4590.0,4560.0,4460.0,4600.0,4610.0,4560.0,4580.0,4580.0,4610.0,4500.0,4570.0,4490.0,4550.0,4560.0,4480.0,4540.0,4530.0,4520.0,4480.0,4490.0,4530.0,4640.0,4540.0,4510.0,4440.0,4370.0,4430.0,4400.0,4350.0,4270.0,4300.0,4290.0,4300.0,4390.0,4430.0,4500.0,4590.0,4530.0,4600.0,4630.0,4650.0,4660.0,4610.0,4650.0,4650.0,4690.0,4620.0,4650.0,4530.0,4650.0,4580.0,4580.0,4520.0,4670.0,4610.0,4590.0,4590.0,4670.0,4720.0,4750.0,4820.0,4850.0,4980.0,4940.0,4890.0,4890.0,4860.0,4760.0,4840.0,4800.0,4850.0,4970.0,4980.0,4910.0,4980.0,4970.0,4910.0],\"yaxis\":\"y\",\"type\":\"scatter\"},{\"hovertemplate\":\"variable=train_predicted_close<br>Date=%{x}<br>Stock price=%{y}<extra></extra>\",\"legendgroup\":\"train_predicted_close\",\"line\":{\"color\":\"#EF553B\",\"dash\":\"solid\"},\"marker\":{\"symbol\":\"circle\"},\"mode\":\"lines\",\"name\":\"Train predicted close price\",\"orientation\":\"v\",\"showlegend\":true,\"x\":[\"2021-12-17T00:00:00\",\"2021-12-20T00:00:00\",\"2021-12-21T00:00:00\",\"2021-12-22T00:00:00\",\"2021-12-23T00:00:00\",\"2021-12-24T00:00:00\",\"2021-12-27T00:00:00\",\"2021-12-28T00:00:00\",\"2021-12-29T00:00:00\",\"2021-12-30T00:00:00\",\"2022-01-03T00:00:00\",\"2022-01-04T00:00:00\",\"2022-01-05T00:00:00\",\"2022-01-06T00:00:00\",\"2022-01-07T00:00:00\",\"2022-01-10T00:00:00\",\"2022-01-11T00:00:00\",\"2022-01-12T00:00:00\",\"2022-01-13T00:00:00\",\"2022-01-14T00:00:00\",\"2022-01-17T00:00:00\",\"2022-01-18T00:00:00\",\"2022-01-19T00:00:00\",\"2022-01-20T00:00:00\",\"2022-01-21T00:00:00\",\"2022-01-24T00:00:00\",\"2022-01-25T00:00:00\",\"2022-01-26T00:00:00\",\"2022-01-27T00:00:00\",\"2022-01-28T00:00:00\",\"2022-01-31T00:00:00\",\"2022-02-02T00:00:00\",\"2022-02-03T00:00:00\",\"2022-02-04T00:00:00\",\"2022-02-07T00:00:00\",\"2022-02-08T00:00:00\",\"2022-02-09T00:00:00\",\"2022-02-10T00:00:00\",\"2022-02-11T00:00:00\",\"2022-02-14T00:00:00\",\"2022-02-15T00:00:00\",\"2022-02-16T00:00:00\",\"2022-02-17T00:00:00\",\"2022-02-18T00:00:00\",\"2022-02-21T00:00:00\",\"2022-02-22T00:00:00\",\"2022-02-23T00:00:00\",\"2022-02-24T00:00:00\",\"2022-02-25T00:00:00\",\"2022-03-01T00:00:00\",\"2022-03-02T00:00:00\",\"2022-03-04T00:00:00\",\"2022-03-07T00:00:00\",\"2022-03-08T00:00:00\",\"2022-03-09T00:00:00\",\"2022-03-10T00:00:00\",\"2022-03-11T00:00:00\",\"2022-03-14T00:00:00\",\"2022-03-15T00:00:00\",\"2022-03-16T00:00:00\",\"2022-03-17T00:00:00\",\"2022-03-18T00:00:00\",\"2022-03-21T00:00:00\",\"2022-03-22T00:00:00\",\"2022-03-23T00:00:00\",\"2022-03-24T00:00:00\",\"2022-03-25T00:00:00\",\"2022-03-28T00:00:00\",\"2022-03-29T00:00:00\",\"2022-03-30T00:00:00\",\"2022-03-31T00:00:00\",\"2022-04-01T00:00:00\",\"2022-04-04T00:00:00\",\"2022-04-05T00:00:00\",\"2022-04-06T00:00:00\",\"2022-04-07T00:00:00\",\"2022-04-08T00:00:00\",\"2022-04-11T00:00:00\",\"2022-04-12T00:00:00\",\"2022-04-13T00:00:00\",\"2022-04-14T00:00:00\",\"2022-04-18T00:00:00\",\"2022-04-19T00:00:00\",\"2022-04-20T00:00:00\",\"2022-04-21T00:00:00\",\"2022-04-22T00:00:00\",\"2022-04-25T00:00:00\",\"2022-04-26T00:00:00\",\"2022-04-27T00:00:00\",\"2022-04-28T00:00:00\",\"2022-05-09T00:00:00\",\"2022-05-10T00:00:00\",\"2022-05-11T00:00:00\",\"2022-05-12T00:00:00\",\"2022-05-13T00:00:00\",\"2022-05-17T00:00:00\",\"2022-05-18T00:00:00\",\"2022-05-19T00:00:00\",\"2022-05-20T00:00:00\",\"2022-05-23T00:00:00\",\"2022-05-24T00:00:00\",\"2022-05-25T00:00:00\",\"2022-05-27T00:00:00\",\"2022-05-30T00:00:00\",\"2022-05-31T00:00:00\",\"2022-06-02T00:00:00\",\"2022-06-03T00:00:00\",\"2022-06-06T00:00:00\",\"2022-06-07T00:00:00\",\"2022-06-08T00:00:00\",\"2022-06-09T00:00:00\",\"2022-06-10T00:00:00\",\"2022-06-13T00:00:00\",\"2022-06-14T00:00:00\",\"2022-06-15T00:00:00\",\"2022-06-16T00:00:00\",\"2022-06-17T00:00:00\",\"2022-06-20T00:00:00\",\"2022-06-21T00:00:00\",\"2022-06-22T00:00:00\",\"2022-06-23T00:00:00\",\"2022-06-24T00:00:00\",\"2022-06-27T00:00:00\",\"2022-06-28T00:00:00\",\"2022-06-29T00:00:00\",\"2022-06-30T00:00:00\",\"2022-07-01T00:00:00\",\"2022-07-04T00:00:00\",\"2022-07-05T00:00:00\",\"2022-07-06T00:00:00\",\"2022-07-07T00:00:00\",\"2022-07-08T00:00:00\",\"2022-07-11T00:00:00\",\"2022-07-12T00:00:00\",\"2022-07-13T00:00:00\",\"2022-07-14T00:00:00\",\"2022-07-15T00:00:00\",\"2022-07-18T00:00:00\",\"2022-07-19T00:00:00\",\"2022-07-20T00:00:00\",\"2022-07-21T00:00:00\",\"2022-07-22T00:00:00\",\"2022-07-25T00:00:00\",\"2022-07-26T00:00:00\",\"2022-07-27T00:00:00\",\"2022-07-28T00:00:00\",\"2022-07-29T00:00:00\",\"2022-08-01T00:00:00\",\"2022-08-02T00:00:00\",\"2022-08-03T00:00:00\",\"2022-08-04T00:00:00\",\"2022-08-05T00:00:00\",\"2022-08-08T00:00:00\",\"2022-08-09T00:00:00\",\"2022-08-10T00:00:00\",\"2022-08-11T00:00:00\",\"2022-08-12T00:00:00\",\"2022-08-15T00:00:00\",\"2022-08-16T00:00:00\",\"2022-08-18T00:00:00\",\"2022-08-19T00:00:00\",\"2022-08-22T00:00:00\",\"2022-08-23T00:00:00\",\"2022-08-24T00:00:00\",\"2022-08-25T00:00:00\",\"2022-08-26T00:00:00\",\"2022-08-29T00:00:00\",\"2022-08-30T00:00:00\",\"2022-08-31T00:00:00\",\"2022-09-01T00:00:00\",\"2022-09-02T00:00:00\",\"2022-09-05T00:00:00\",\"2022-09-06T00:00:00\",\"2022-09-07T00:00:00\",\"2022-09-08T00:00:00\",\"2022-09-09T00:00:00\",\"2022-09-12T00:00:00\",\"2022-09-13T00:00:00\",\"2022-09-14T00:00:00\",\"2022-09-15T00:00:00\",\"2022-09-16T00:00:00\",\"2022-09-19T00:00:00\",\"2022-09-20T00:00:00\",\"2022-09-21T00:00:00\",\"2022-09-22T00:00:00\",\"2022-09-23T00:00:00\",\"2022-09-26T00:00:00\",\"2022-09-27T00:00:00\",\"2022-09-28T00:00:00\",\"2022-09-29T00:00:00\",\"2022-09-30T00:00:00\",\"2022-10-03T00:00:00\",\"2022-10-04T00:00:00\",\"2022-10-05T00:00:00\",\"2022-10-06T00:00:00\",\"2022-10-07T00:00:00\",\"2022-10-10T00:00:00\",\"2022-10-11T00:00:00\",\"2022-10-12T00:00:00\",\"2022-10-13T00:00:00\",\"2022-10-14T00:00:00\",\"2022-10-17T00:00:00\",\"2022-10-18T00:00:00\",\"2022-10-19T00:00:00\",\"2022-10-20T00:00:00\",\"2022-10-21T00:00:00\",\"2022-10-24T00:00:00\",\"2022-10-25T00:00:00\",\"2022-10-26T00:00:00\",\"2022-10-27T00:00:00\",\"2022-10-28T00:00:00\",\"2022-10-31T00:00:00\",\"2022-11-01T00:00:00\",\"2022-11-02T00:00:00\",\"2022-11-03T00:00:00\",\"2022-11-04T00:00:00\",\"2022-11-07T00:00:00\",\"2022-11-08T00:00:00\",\"2022-11-09T00:00:00\",\"2022-11-10T00:00:00\",\"2022-11-11T00:00:00\",\"2022-11-14T00:00:00\",\"2022-11-15T00:00:00\",\"2022-11-16T00:00:00\",\"2022-11-17T00:00:00\",\"2022-11-18T00:00:00\",\"2022-11-21T00:00:00\",\"2022-11-22T00:00:00\",\"2022-11-23T00:00:00\",\"2022-11-24T00:00:00\",\"2022-11-25T00:00:00\",\"2022-11-28T00:00:00\",\"2022-11-29T00:00:00\",\"2022-11-30T00:00:00\",\"2022-12-01T00:00:00\",\"2022-12-02T00:00:00\",\"2022-12-05T00:00:00\",\"2022-12-06T00:00:00\",\"2022-12-07T00:00:00\",\"2022-12-08T00:00:00\",\"2022-12-09T00:00:00\",\"2022-12-12T00:00:00\",\"2022-12-13T00:00:00\",\"2022-12-14T00:00:00\",\"2022-12-15T00:00:00\",\"2022-12-16T00:00:00\",\"2022-12-19T00:00:00\",\"2022-12-20T00:00:00\"],\"xaxis\":\"x\",\"y\":[null,null,null,null,null,null,null,null,4129.7548828125,4130.0986328125,4134.81298828125,4151.83984375,4168.99609375,4191.041015625,4202.25634765625,4211.28662109375,4215.79345703125,4211.5888671875,4206.5966796875,4208.51171875,4210.873046875,4218.97314453125,4223.505859375,4214.47802734375,4202.24658203125,4198.1572265625,4189.7861328125,4173.6103515625,4160.39990234375,4158.8447265625,4163.07568359375,4158.00146484375,4149.3525390625,4149.71044921875,4167.806640625,4231.234375,4317.599609375,4395.18115234375,4453.22412109375,4476.46875,4463.62841796875,4449.4580078125,4434.80029296875,4422.75146484375,4425.00390625,4450.9375,4454.52197265625,4468.31689453125,4447.033203125,4481.31396484375,4547.77001953125,4568.87646484375,4615.587890625,4585.421875,4511.95556640625,4512.26123046875,4521.896484375,4473.16845703125,4478.41015625,4525.65673828125,4588.6943359375,4624.33447265625,4605.49853515625,4591.24658203125,4601.02099609375,4605.56640625,4645.65283203125,4667.31640625,4684.09326171875,4671.52490234375,4662.2177734375,4632.70947265625,4644.49951171875,4643.37353515625,4644.25244140625,4599.55078125,4582.6259765625,4568.54345703125,4547.728515625,4550.94091796875,4563.8212890625,4545.11279296875,4534.9638671875,4535.705078125,4658.84326171875,4735.060546875,4741.46533203125,4769.78662109375,4825.4990234375,4804.6513671875,4783.04296875,4605.4677734375,4507.07568359375,4447.37353515625,4365.30615234375,4304.54052734375,4333.4306640625,4381.7802734375,4424.13720703125,4439.13720703125,4414.57275390625,4429.3134765625,4408.84423828125,4447.1826171875,4457.0966796875,4528.0693359375,4531.11669921875,4531.2421875,4490.65966796875,4449.70751953125,4441.04833984375,4458.42822265625,4439.5615234375,4409.48828125,4387.232421875,4405.86474609375,4420.98583984375,4411.4814453125,4411.29052734375,4407.41064453125,4383.18359375,4357.77001953125,4349.1025390625,4334.09521484375,4326.39794921875,4292.9453125,4257.2978515625,4227.92724609375,4190.60400390625,4166.14794921875,4150.87158203125,4137.30029296875,4147.99658203125,4157.5693359375,4161.57421875,4155.2802734375,4146.857421875,4144.4482421875,4150.123046875,4153.78466796875,4188.6396484375,4237.93505859375,4272.3662109375,4286.93359375,4309.568359375,4326.30078125,4346.98291015625,null,null,null,null,null,null,null,null,null,null,null,null,null,null,null,null,null,null,null,null,null,null,null,null,null,null,null,null,null,null,null,null,null,null,null,null,null,null,null,null,null,null,null,null,null,null,null,null,null,null,null,null,null,null,null,null,null,null,null,null,null,null,null,null,null,null,null,null,null,null,null,null,null,null,null,null,null,null,null,null,null,null,null,null,null,null,null,null,null,null,null,null,null,null,null,null,null,null,null,null,null],\"yaxis\":\"y\",\"type\":\"scatter\"},{\"hovertemplate\":\"variable=test_predicted_close<br>Date=%{x}<br>Stock price=%{y}<extra></extra>\",\"legendgroup\":\"test_predicted_close\",\"line\":{\"color\":\"#00cc96\",\"dash\":\"solid\"},\"marker\":{\"symbol\":\"circle\"},\"mode\":\"lines\",\"name\":\"Test predicted close price\",\"orientation\":\"v\",\"showlegend\":true,\"x\":[\"2021-12-17T00:00:00\",\"2021-12-20T00:00:00\",\"2021-12-21T00:00:00\",\"2021-12-22T00:00:00\",\"2021-12-23T00:00:00\",\"2021-12-24T00:00:00\",\"2021-12-27T00:00:00\",\"2021-12-28T00:00:00\",\"2021-12-29T00:00:00\",\"2021-12-30T00:00:00\",\"2022-01-03T00:00:00\",\"2022-01-04T00:00:00\",\"2022-01-05T00:00:00\",\"2022-01-06T00:00:00\",\"2022-01-07T00:00:00\",\"2022-01-10T00:00:00\",\"2022-01-11T00:00:00\",\"2022-01-12T00:00:00\",\"2022-01-13T00:00:00\",\"2022-01-14T00:00:00\",\"2022-01-17T00:00:00\",\"2022-01-18T00:00:00\",\"2022-01-19T00:00:00\",\"2022-01-20T00:00:00\",\"2022-01-21T00:00:00\",\"2022-01-24T00:00:00\",\"2022-01-25T00:00:00\",\"2022-01-26T00:00:00\",\"2022-01-27T00:00:00\",\"2022-01-28T00:00:00\",\"2022-01-31T00:00:00\",\"2022-02-02T00:00:00\",\"2022-02-03T00:00:00\",\"2022-02-04T00:00:00\",\"2022-02-07T00:00:00\",\"2022-02-08T00:00:00\",\"2022-02-09T00:00:00\",\"2022-02-10T00:00:00\",\"2022-02-11T00:00:00\",\"2022-02-14T00:00:00\",\"2022-02-15T00:00:00\",\"2022-02-16T00:00:00\",\"2022-02-17T00:00:00\",\"2022-02-18T00:00:00\",\"2022-02-21T00:00:00\",\"2022-02-22T00:00:00\",\"2022-02-23T00:00:00\",\"2022-02-24T00:00:00\",\"2022-02-25T00:00:00\",\"2022-03-01T00:00:00\",\"2022-03-02T00:00:00\",\"2022-03-04T00:00:00\",\"2022-03-07T00:00:00\",\"2022-03-08T00:00:00\",\"2022-03-09T00:00:00\",\"2022-03-10T00:00:00\",\"2022-03-11T00:00:00\",\"2022-03-14T00:00:00\",\"2022-03-15T00:00:00\",\"2022-03-16T00:00:00\",\"2022-03-17T00:00:00\",\"2022-03-18T00:00:00\",\"2022-03-21T00:00:00\",\"2022-03-22T00:00:00\",\"2022-03-23T00:00:00\",\"2022-03-24T00:00:00\",\"2022-03-25T00:00:00\",\"2022-03-28T00:00:00\",\"2022-03-29T00:00:00\",\"2022-03-30T00:00:00\",\"2022-03-31T00:00:00\",\"2022-04-01T00:00:00\",\"2022-04-04T00:00:00\",\"2022-04-05T00:00:00\",\"2022-04-06T00:00:00\",\"2022-04-07T00:00:00\",\"2022-04-08T00:00:00\",\"2022-04-11T00:00:00\",\"2022-04-12T00:00:00\",\"2022-04-13T00:00:00\",\"2022-04-14T00:00:00\",\"2022-04-18T00:00:00\",\"2022-04-19T00:00:00\",\"2022-04-20T00:00:00\",\"2022-04-21T00:00:00\",\"2022-04-22T00:00:00\",\"2022-04-25T00:00:00\",\"2022-04-26T00:00:00\",\"2022-04-27T00:00:00\",\"2022-04-28T00:00:00\",\"2022-05-09T00:00:00\",\"2022-05-10T00:00:00\",\"2022-05-11T00:00:00\",\"2022-05-12T00:00:00\",\"2022-05-13T00:00:00\",\"2022-05-17T00:00:00\",\"2022-05-18T00:00:00\",\"2022-05-19T00:00:00\",\"2022-05-20T00:00:00\",\"2022-05-23T00:00:00\",\"2022-05-24T00:00:00\",\"2022-05-25T00:00:00\",\"2022-05-27T00:00:00\",\"2022-05-30T00:00:00\",\"2022-05-31T00:00:00\",\"2022-06-02T00:00:00\",\"2022-06-03T00:00:00\",\"2022-06-06T00:00:00\",\"2022-06-07T00:00:00\",\"2022-06-08T00:00:00\",\"2022-06-09T00:00:00\",\"2022-06-10T00:00:00\",\"2022-06-13T00:00:00\",\"2022-06-14T00:00:00\",\"2022-06-15T00:00:00\",\"2022-06-16T00:00:00\",\"2022-06-17T00:00:00\",\"2022-06-20T00:00:00\",\"2022-06-21T00:00:00\",\"2022-06-22T00:00:00\",\"2022-06-23T00:00:00\",\"2022-06-24T00:00:00\",\"2022-06-27T00:00:00\",\"2022-06-28T00:00:00\",\"2022-06-29T00:00:00\",\"2022-06-30T00:00:00\",\"2022-07-01T00:00:00\",\"2022-07-04T00:00:00\",\"2022-07-05T00:00:00\",\"2022-07-06T00:00:00\",\"2022-07-07T00:00:00\",\"2022-07-08T00:00:00\",\"2022-07-11T00:00:00\",\"2022-07-12T00:00:00\",\"2022-07-13T00:00:00\",\"2022-07-14T00:00:00\",\"2022-07-15T00:00:00\",\"2022-07-18T00:00:00\",\"2022-07-19T00:00:00\",\"2022-07-20T00:00:00\",\"2022-07-21T00:00:00\",\"2022-07-22T00:00:00\",\"2022-07-25T00:00:00\",\"2022-07-26T00:00:00\",\"2022-07-27T00:00:00\",\"2022-07-28T00:00:00\",\"2022-07-29T00:00:00\",\"2022-08-01T00:00:00\",\"2022-08-02T00:00:00\",\"2022-08-03T00:00:00\",\"2022-08-04T00:00:00\",\"2022-08-05T00:00:00\",\"2022-08-08T00:00:00\",\"2022-08-09T00:00:00\",\"2022-08-10T00:00:00\",\"2022-08-11T00:00:00\",\"2022-08-12T00:00:00\",\"2022-08-15T00:00:00\",\"2022-08-16T00:00:00\",\"2022-08-18T00:00:00\",\"2022-08-19T00:00:00\",\"2022-08-22T00:00:00\",\"2022-08-23T00:00:00\",\"2022-08-24T00:00:00\",\"2022-08-25T00:00:00\",\"2022-08-26T00:00:00\",\"2022-08-29T00:00:00\",\"2022-08-30T00:00:00\",\"2022-08-31T00:00:00\",\"2022-09-01T00:00:00\",\"2022-09-02T00:00:00\",\"2022-09-05T00:00:00\",\"2022-09-06T00:00:00\",\"2022-09-07T00:00:00\",\"2022-09-08T00:00:00\",\"2022-09-09T00:00:00\",\"2022-09-12T00:00:00\",\"2022-09-13T00:00:00\",\"2022-09-14T00:00:00\",\"2022-09-15T00:00:00\",\"2022-09-16T00:00:00\",\"2022-09-19T00:00:00\",\"2022-09-20T00:00:00\",\"2022-09-21T00:00:00\",\"2022-09-22T00:00:00\",\"2022-09-23T00:00:00\",\"2022-09-26T00:00:00\",\"2022-09-27T00:00:00\",\"2022-09-28T00:00:00\",\"2022-09-29T00:00:00\",\"2022-09-30T00:00:00\",\"2022-10-03T00:00:00\",\"2022-10-04T00:00:00\",\"2022-10-05T00:00:00\",\"2022-10-06T00:00:00\",\"2022-10-07T00:00:00\",\"2022-10-10T00:00:00\",\"2022-10-11T00:00:00\",\"2022-10-12T00:00:00\",\"2022-10-13T00:00:00\",\"2022-10-14T00:00:00\",\"2022-10-17T00:00:00\",\"2022-10-18T00:00:00\",\"2022-10-19T00:00:00\",\"2022-10-20T00:00:00\",\"2022-10-21T00:00:00\",\"2022-10-24T00:00:00\",\"2022-10-25T00:00:00\",\"2022-10-26T00:00:00\",\"2022-10-27T00:00:00\",\"2022-10-28T00:00:00\",\"2022-10-31T00:00:00\",\"2022-11-01T00:00:00\",\"2022-11-02T00:00:00\",\"2022-11-03T00:00:00\",\"2022-11-04T00:00:00\",\"2022-11-07T00:00:00\",\"2022-11-08T00:00:00\",\"2022-11-09T00:00:00\",\"2022-11-10T00:00:00\",\"2022-11-11T00:00:00\",\"2022-11-14T00:00:00\",\"2022-11-15T00:00:00\",\"2022-11-16T00:00:00\",\"2022-11-17T00:00:00\",\"2022-11-18T00:00:00\",\"2022-11-21T00:00:00\",\"2022-11-22T00:00:00\",\"2022-11-23T00:00:00\",\"2022-11-24T00:00:00\",\"2022-11-25T00:00:00\",\"2022-11-28T00:00:00\",\"2022-11-29T00:00:00\",\"2022-11-30T00:00:00\",\"2022-12-01T00:00:00\",\"2022-12-02T00:00:00\",\"2022-12-05T00:00:00\",\"2022-12-06T00:00:00\",\"2022-12-07T00:00:00\",\"2022-12-08T00:00:00\",\"2022-12-09T00:00:00\",\"2022-12-12T00:00:00\",\"2022-12-13T00:00:00\",\"2022-12-14T00:00:00\",\"2022-12-15T00:00:00\",\"2022-12-16T00:00:00\",\"2022-12-19T00:00:00\",\"2022-12-20T00:00:00\"],\"xaxis\":\"x\",\"y\":[null,null,null,null,null,null,null,null,null,null,null,null,null,null,null,null,null,null,null,null,null,null,null,null,null,null,null,null,null,null,null,null,null,null,null,null,null,null,null,null,null,null,null,null,null,null,null,null,null,null,null,null,null,null,null,null,null,null,null,null,null,null,null,null,null,null,null,null,null,null,null,null,null,null,null,null,null,null,null,null,null,null,null,null,null,null,null,null,null,null,null,null,null,null,null,null,null,null,null,null,null,null,null,null,null,null,null,null,null,null,null,null,null,null,null,null,null,null,null,null,null,null,null,null,null,null,null,null,null,null,null,null,null,null,null,null,null,null,null,null,null,null,null,null,null,null,null,null,null,null,null,null,null,null,null,null,4369.93310546875,4358.7275390625,4344.1357421875,4327.49267578125,4328.5859375,4327.38037109375,4319.353515625,4317.10546875,4316.33251953125,4310.5107421875,4304.603515625,4295.14794921875,4290.57861328125,4308.07958984375,4342.642578125,4393.1201171875,4482.1533203125,4542.79931640625,4533.50732421875,4559.99072265625,4583.65234375,4575.11962890625,4568.69775390625,4563.90966796875,4577.42724609375,4541.0703125,4532.876953125,4508.46533203125,4513.78076171875,4526.05322265625,4506.513671875,4511.7333984375,4518.43310546875,4515.037109375,4499.75830078125,4487.927734375,4499.64599609375,4556.00830078125,4557.93994140625,4538.3056640625,4493.5751953125,4436.2802734375,4416.140625,4403.208984375,4384.11474609375,4352.60986328125,4333.3466796875,4321.74755859375,4317.67724609375,4341.28955078125,4382.71142578125,4440.52734375,4517.43017578125,4547.8701171875,4580.82861328125,4608.57763671875,4627.16357421875,4637.85791015625,4616.49609375,4613.67626953125,4615.88330078125,4629.92529296875,4611.30810546875,4607.73095703125,4557.59912109375,4571.54345703125,4560.62841796875,4553.36767578125,4526.59423828125,4571.63525390625,4586.24560546875,4583.50927734375,4572.7109375,4604.234375,4647.9521484375,4687.8115234375,4734.53466796875,4776.966796875,4847.13232421875,4859.51806640625,4823.5810546875,4793.04736328125,4758.7607421875,4690.01513671875,4690.50390625,4683.15087890625,4710.63427734375,4786.5478515625,4835.40869140625,4822.3193359375,4836.6162109375,null],\"yaxis\":\"y\",\"type\":\"scatter\"}],                        {\"template\":{\"data\":{\"bar\":[{\"error_x\":{\"color\":\"#2a3f5f\"},\"error_y\":{\"color\":\"#2a3f5f\"},\"marker\":{\"line\":{\"color\":\"#E5ECF6\",\"width\":0.5},\"pattern\":{\"fillmode\":\"overlay\",\"size\":10,\"solidity\":0.2}},\"type\":\"bar\"}],\"barpolar\":[{\"marker\":{\"line\":{\"color\":\"#E5ECF6\",\"width\":0.5},\"pattern\":{\"fillmode\":\"overlay\",\"size\":10,\"solidity\":0.2}},\"type\":\"barpolar\"}],\"carpet\":[{\"aaxis\":{\"endlinecolor\":\"#2a3f5f\",\"gridcolor\":\"white\",\"linecolor\":\"white\",\"minorgridcolor\":\"white\",\"startlinecolor\":\"#2a3f5f\"},\"baxis\":{\"endlinecolor\":\"#2a3f5f\",\"gridcolor\":\"white\",\"linecolor\":\"white\",\"minorgridcolor\":\"white\",\"startlinecolor\":\"#2a3f5f\"},\"type\":\"carpet\"}],\"choropleth\":[{\"colorbar\":{\"outlinewidth\":0,\"ticks\":\"\"},\"type\":\"choropleth\"}],\"contour\":[{\"colorbar\":{\"outlinewidth\":0,\"ticks\":\"\"},\"colorscale\":[[0.0,\"#0d0887\"],[0.1111111111111111,\"#46039f\"],[0.2222222222222222,\"#7201a8\"],[0.3333333333333333,\"#9c179e\"],[0.4444444444444444,\"#bd3786\"],[0.5555555555555556,\"#d8576b\"],[0.6666666666666666,\"#ed7953\"],[0.7777777777777778,\"#fb9f3a\"],[0.8888888888888888,\"#fdca26\"],[1.0,\"#f0f921\"]],\"type\":\"contour\"}],\"contourcarpet\":[{\"colorbar\":{\"outlinewidth\":0,\"ticks\":\"\"},\"type\":\"contourcarpet\"}],\"heatmap\":[{\"colorbar\":{\"outlinewidth\":0,\"ticks\":\"\"},\"colorscale\":[[0.0,\"#0d0887\"],[0.1111111111111111,\"#46039f\"],[0.2222222222222222,\"#7201a8\"],[0.3333333333333333,\"#9c179e\"],[0.4444444444444444,\"#bd3786\"],[0.5555555555555556,\"#d8576b\"],[0.6666666666666666,\"#ed7953\"],[0.7777777777777778,\"#fb9f3a\"],[0.8888888888888888,\"#fdca26\"],[1.0,\"#f0f921\"]],\"type\":\"heatmap\"}],\"heatmapgl\":[{\"colorbar\":{\"outlinewidth\":0,\"ticks\":\"\"},\"colorscale\":[[0.0,\"#0d0887\"],[0.1111111111111111,\"#46039f\"],[0.2222222222222222,\"#7201a8\"],[0.3333333333333333,\"#9c179e\"],[0.4444444444444444,\"#bd3786\"],[0.5555555555555556,\"#d8576b\"],[0.6666666666666666,\"#ed7953\"],[0.7777777777777778,\"#fb9f3a\"],[0.8888888888888888,\"#fdca26\"],[1.0,\"#f0f921\"]],\"type\":\"heatmapgl\"}],\"histogram\":[{\"marker\":{\"pattern\":{\"fillmode\":\"overlay\",\"size\":10,\"solidity\":0.2}},\"type\":\"histogram\"}],\"histogram2d\":[{\"colorbar\":{\"outlinewidth\":0,\"ticks\":\"\"},\"colorscale\":[[0.0,\"#0d0887\"],[0.1111111111111111,\"#46039f\"],[0.2222222222222222,\"#7201a8\"],[0.3333333333333333,\"#9c179e\"],[0.4444444444444444,\"#bd3786\"],[0.5555555555555556,\"#d8576b\"],[0.6666666666666666,\"#ed7953\"],[0.7777777777777778,\"#fb9f3a\"],[0.8888888888888888,\"#fdca26\"],[1.0,\"#f0f921\"]],\"type\":\"histogram2d\"}],\"histogram2dcontour\":[{\"colorbar\":{\"outlinewidth\":0,\"ticks\":\"\"},\"colorscale\":[[0.0,\"#0d0887\"],[0.1111111111111111,\"#46039f\"],[0.2222222222222222,\"#7201a8\"],[0.3333333333333333,\"#9c179e\"],[0.4444444444444444,\"#bd3786\"],[0.5555555555555556,\"#d8576b\"],[0.6666666666666666,\"#ed7953\"],[0.7777777777777778,\"#fb9f3a\"],[0.8888888888888888,\"#fdca26\"],[1.0,\"#f0f921\"]],\"type\":\"histogram2dcontour\"}],\"mesh3d\":[{\"colorbar\":{\"outlinewidth\":0,\"ticks\":\"\"},\"type\":\"mesh3d\"}],\"parcoords\":[{\"line\":{\"colorbar\":{\"outlinewidth\":0,\"ticks\":\"\"}},\"type\":\"parcoords\"}],\"pie\":[{\"automargin\":true,\"type\":\"pie\"}],\"scatter\":[{\"marker\":{\"colorbar\":{\"outlinewidth\":0,\"ticks\":\"\"}},\"type\":\"scatter\"}],\"scatter3d\":[{\"line\":{\"colorbar\":{\"outlinewidth\":0,\"ticks\":\"\"}},\"marker\":{\"colorbar\":{\"outlinewidth\":0,\"ticks\":\"\"}},\"type\":\"scatter3d\"}],\"scattercarpet\":[{\"marker\":{\"colorbar\":{\"outlinewidth\":0,\"ticks\":\"\"}},\"type\":\"scattercarpet\"}],\"scattergeo\":[{\"marker\":{\"colorbar\":{\"outlinewidth\":0,\"ticks\":\"\"}},\"type\":\"scattergeo\"}],\"scattergl\":[{\"marker\":{\"colorbar\":{\"outlinewidth\":0,\"ticks\":\"\"}},\"type\":\"scattergl\"}],\"scattermapbox\":[{\"marker\":{\"colorbar\":{\"outlinewidth\":0,\"ticks\":\"\"}},\"type\":\"scattermapbox\"}],\"scatterpolar\":[{\"marker\":{\"colorbar\":{\"outlinewidth\":0,\"ticks\":\"\"}},\"type\":\"scatterpolar\"}],\"scatterpolargl\":[{\"marker\":{\"colorbar\":{\"outlinewidth\":0,\"ticks\":\"\"}},\"type\":\"scatterpolargl\"}],\"scatterternary\":[{\"marker\":{\"colorbar\":{\"outlinewidth\":0,\"ticks\":\"\"}},\"type\":\"scatterternary\"}],\"surface\":[{\"colorbar\":{\"outlinewidth\":0,\"ticks\":\"\"},\"colorscale\":[[0.0,\"#0d0887\"],[0.1111111111111111,\"#46039f\"],[0.2222222222222222,\"#7201a8\"],[0.3333333333333333,\"#9c179e\"],[0.4444444444444444,\"#bd3786\"],[0.5555555555555556,\"#d8576b\"],[0.6666666666666666,\"#ed7953\"],[0.7777777777777778,\"#fb9f3a\"],[0.8888888888888888,\"#fdca26\"],[1.0,\"#f0f921\"]],\"type\":\"surface\"}],\"table\":[{\"cells\":{\"fill\":{\"color\":\"#EBF0F8\"},\"line\":{\"color\":\"white\"}},\"header\":{\"fill\":{\"color\":\"#C8D4E3\"},\"line\":{\"color\":\"white\"}},\"type\":\"table\"}]},\"layout\":{\"annotationdefaults\":{\"arrowcolor\":\"#2a3f5f\",\"arrowhead\":0,\"arrowwidth\":1},\"autotypenumbers\":\"strict\",\"coloraxis\":{\"colorbar\":{\"outlinewidth\":0,\"ticks\":\"\"}},\"colorscale\":{\"diverging\":[[0,\"#8e0152\"],[0.1,\"#c51b7d\"],[0.2,\"#de77ae\"],[0.3,\"#f1b6da\"],[0.4,\"#fde0ef\"],[0.5,\"#f7f7f7\"],[0.6,\"#e6f5d0\"],[0.7,\"#b8e186\"],[0.8,\"#7fbc41\"],[0.9,\"#4d9221\"],[1,\"#276419\"]],\"sequential\":[[0.0,\"#0d0887\"],[0.1111111111111111,\"#46039f\"],[0.2222222222222222,\"#7201a8\"],[0.3333333333333333,\"#9c179e\"],[0.4444444444444444,\"#bd3786\"],[0.5555555555555556,\"#d8576b\"],[0.6666666666666666,\"#ed7953\"],[0.7777777777777778,\"#fb9f3a\"],[0.8888888888888888,\"#fdca26\"],[1.0,\"#f0f921\"]],\"sequentialminus\":[[0.0,\"#0d0887\"],[0.1111111111111111,\"#46039f\"],[0.2222222222222222,\"#7201a8\"],[0.3333333333333333,\"#9c179e\"],[0.4444444444444444,\"#bd3786\"],[0.5555555555555556,\"#d8576b\"],[0.6666666666666666,\"#ed7953\"],[0.7777777777777778,\"#fb9f3a\"],[0.8888888888888888,\"#fdca26\"],[1.0,\"#f0f921\"]]},\"colorway\":[\"#636efa\",\"#EF553B\",\"#00cc96\",\"#ab63fa\",\"#FFA15A\",\"#19d3f3\",\"#FF6692\",\"#B6E880\",\"#FF97FF\",\"#FECB52\"],\"font\":{\"color\":\"#2a3f5f\"},\"geo\":{\"bgcolor\":\"white\",\"lakecolor\":\"white\",\"landcolor\":\"#E5ECF6\",\"showlakes\":true,\"showland\":true,\"subunitcolor\":\"white\"},\"hoverlabel\":{\"align\":\"left\"},\"hovermode\":\"closest\",\"mapbox\":{\"style\":\"light\"},\"paper_bgcolor\":\"white\",\"plot_bgcolor\":\"#E5ECF6\",\"polar\":{\"angularaxis\":{\"gridcolor\":\"white\",\"linecolor\":\"white\",\"ticks\":\"\"},\"bgcolor\":\"#E5ECF6\",\"radialaxis\":{\"gridcolor\":\"white\",\"linecolor\":\"white\",\"ticks\":\"\"}},\"scene\":{\"xaxis\":{\"backgroundcolor\":\"#E5ECF6\",\"gridcolor\":\"white\",\"gridwidth\":2,\"linecolor\":\"white\",\"showbackground\":true,\"ticks\":\"\",\"zerolinecolor\":\"white\"},\"yaxis\":{\"backgroundcolor\":\"#E5ECF6\",\"gridcolor\":\"white\",\"gridwidth\":2,\"linecolor\":\"white\",\"showbackground\":true,\"ticks\":\"\",\"zerolinecolor\":\"white\"},\"zaxis\":{\"backgroundcolor\":\"#E5ECF6\",\"gridcolor\":\"white\",\"gridwidth\":2,\"linecolor\":\"white\",\"showbackground\":true,\"ticks\":\"\",\"zerolinecolor\":\"white\"}},\"shapedefaults\":{\"line\":{\"color\":\"#2a3f5f\"}},\"ternary\":{\"aaxis\":{\"gridcolor\":\"white\",\"linecolor\":\"white\",\"ticks\":\"\"},\"baxis\":{\"gridcolor\":\"white\",\"linecolor\":\"white\",\"ticks\":\"\"},\"bgcolor\":\"#E5ECF6\",\"caxis\":{\"gridcolor\":\"white\",\"linecolor\":\"white\",\"ticks\":\"\"}},\"title\":{\"x\":0.05},\"xaxis\":{\"automargin\":true,\"gridcolor\":\"white\",\"linecolor\":\"white\",\"ticks\":\"\",\"title\":{\"standoff\":15},\"zerolinecolor\":\"white\",\"zerolinewidth\":2},\"yaxis\":{\"automargin\":true,\"gridcolor\":\"white\",\"linecolor\":\"white\",\"ticks\":\"\",\"title\":{\"standoff\":15},\"zerolinecolor\":\"white\",\"zerolinewidth\":2}}},\"xaxis\":{\"anchor\":\"y\",\"domain\":[0.0,1.0],\"title\":{\"text\":\"Date\"},\"showgrid\":false},\"yaxis\":{\"anchor\":\"x\",\"domain\":[0.0,1.0],\"title\":{\"text\":\"Stock price\"},\"showgrid\":false},\"legend\":{\"title\":{\"text\":\"Close Price\"},\"tracegroupgap\":0},\"margin\":{\"t\":60},\"title\":{\"text\":\"Comparision between original close price vs predicted close price\"},\"font\":{\"size\":15,\"color\":\"black\"},\"plot_bgcolor\":\"white\"},                        {\"responsive\": true}                    ).then(function(){\n",
              "                            \n",
              "var gd = document.getElementById('6e4bfe0e-b534-4f6b-a922-80c0800b0558');\n",
              "var x = new MutationObserver(function (mutations, observer) {{\n",
              "        var display = window.getComputedStyle(gd).display;\n",
              "        if (!display || display === 'none') {{\n",
              "            console.log([gd, 'removed!']);\n",
              "            Plotly.purge(gd);\n",
              "            observer.disconnect();\n",
              "        }}\n",
              "}});\n",
              "\n",
              "// Listen for the removal of the full notebook cells\n",
              "var notebookContainer = gd.closest('#notebook-container');\n",
              "if (notebookContainer) {{\n",
              "    x.observe(notebookContainer, {childList: true});\n",
              "}}\n",
              "\n",
              "// Listen for the clearing of the current output cell\n",
              "var outputEl = gd.closest('.output');\n",
              "if (outputEl) {{\n",
              "    x.observe(outputEl, {childList: true});\n",
              "}}\n",
              "\n",
              "                        })                };                            </script>        </div>\n",
              "</body>\n",
              "</html>"
            ]
          },
          "metadata": {}
        }
      ],
      "source": [
        "# shift train predictions for plotting\n",
        "\n",
        "look_back=time_step\n",
        "trainPredictPlot = np.empty_like(closedf)\n",
        "trainPredictPlot[:, :] = np.nan\n",
        "trainPredictPlot[look_back:len(train_predict)+look_back, :] = train_predict\n",
        "print(\"Train predicted data: \", trainPredictPlot.shape)\n",
        "\n",
        "# shift test predictions for plotting\n",
        "testPredictPlot = np.empty_like(closedf)\n",
        "testPredictPlot[:, :] = np.nan\n",
        "testPredictPlot[len(train_predict)+(look_back*2)+1:len(closedf)-1, :] = test_predict\n",
        "print(\"Test predicted data: \", testPredictPlot.shape)\n",
        "\n",
        "names = cycle(['Original close price','Train predicted close price','Test predicted close price'])\n",
        "\n",
        "\n",
        "plotdf = pd.DataFrame({'date': close_stock['date'],\n",
        "                       'original_close': close_stock['close'],\n",
        "                      'train_predicted_close': trainPredictPlot.reshape(1,-1)[0].tolist(),\n",
        "                      'test_predicted_close': testPredictPlot.reshape(1,-1)[0].tolist()})\n",
        "\n",
        "fig = px.line(plotdf,x=plotdf['date'], y=[plotdf['original_close'],plotdf['train_predicted_close'],\n",
        "                                          plotdf['test_predicted_close']],\n",
        "              labels={'value':'Stock price','date': 'Date'})\n",
        "fig.update_layout(title_text='Comparision between original close price vs predicted close price',\n",
        "                  plot_bgcolor='white', font_size=15, font_color='black', legend_title_text='Close Price')\n",
        "fig.for_each_trace(lambda t:  t.update(name = next(names)))\n",
        "\n",
        "fig.update_xaxes(showgrid=False)\n",
        "fig.update_yaxes(showgrid=False)\n",
        "fig.show()"
      ]
    },
    {
      "cell_type": "markdown",
      "metadata": {
        "id": "h2dKQeWCssBk"
      },
      "source": [
        "From the comparison between original close price and predicted close price plot above, we can tell that there's no significant difference which shows that the accuracy between original and predicted close price is good enough."
      ]
    },
    {
      "cell_type": "markdown",
      "metadata": {
        "id": "-RXxU-d0alU5"
      },
      "source": [
        "<a name=\"days\"></a>\n",
        "\n",
        "# Predicting next 30 days"
      ]
    },
    {
      "cell_type": "markdown",
      "metadata": {
        "id": "zSb8YnH85IMi"
      },
      "source": [
        "the next step is predicting the close price for the next 30 days using the last 7 days data as the reference pattern."
      ]
    },
    {
      "cell_type": "code",
      "execution_count": 40,
      "metadata": {
        "colab": {
          "base_uri": "https://localhost:8080/"
        },
        "execution": {
          "iopub.execute_input": "2021-08-16T08:13:12.203204Z",
          "iopub.status.busy": "2021-08-16T08:13:12.202422Z",
          "iopub.status.idle": "2021-08-16T08:13:13.423648Z",
          "shell.execute_reply": "2021-08-16T08:13:13.42275Z",
          "shell.execute_reply.started": "2021-08-16T08:13:12.203161Z"
        },
        "id": "2VoaWMa_alU5",
        "outputId": "89efd8a0-d625-4358-d0fb-38336862bc5f",
        "trusted": true
      },
      "outputs": [
        {
          "output_type": "stream",
          "name": "stdout",
          "text": [
            "1 day input [0.86170213 0.9893617  1.         0.92553191 1.         0.9893617\n",
            " 0.92553191 0.80786496]\n",
            "1 day output [[0.7241136]]\n",
            "[0.8617021276595747, 0.9893617021276597, 1.0, 0.9255319148936172, 1.0, 0.9893617021276597, 0.9255319148936172, 0.8078649640083313, 0.7241135835647583]\n",
            "2 day input [0.9893617  1.         0.92553191 1.         0.9893617  0.92553191\n",
            " 0.80786496 0.72411358]\n",
            "2 day output [[0.63872486]]\n",
            "[0.9893617021276597, 1.0, 0.9255319148936172, 1.0, 0.9893617021276597, 0.9255319148936172, 0.8078649640083313, 0.7241135835647583, 0.6387248635292053]\n",
            "3 day input [1.         0.92553191 1.         0.9893617  0.92553191 0.80786496\n",
            " 0.72411358 0.63872486]\n",
            "3 day output [[0.564366]]\n",
            "[1.0, 0.9255319148936172, 1.0, 0.9893617021276597, 0.9255319148936172, 0.8078649640083313, 0.7241135835647583, 0.6387248635292053, 0.5643659830093384]\n",
            "4 day input [0.92553191 1.         0.9893617  0.92553191 0.80786496 0.72411358\n",
            " 0.63872486 0.56436598]\n",
            "4 day output [[0.5013818]]\n",
            "[0.9255319148936172, 1.0, 0.9893617021276597, 0.9255319148936172, 0.8078649640083313, 0.7241135835647583, 0.6387248635292053, 0.5643659830093384, 0.5013818144798279]\n",
            "5 day input [1.         0.9893617  0.92553191 0.80786496 0.72411358 0.63872486\n",
            " 0.56436598 0.50138181]\n",
            "5 day output [[0.44880313]]\n",
            "[1.0, 0.9893617021276597, 0.9255319148936172, 0.8078649640083313, 0.7241135835647583, 0.6387248635292053, 0.5643659830093384, 0.5013818144798279, 0.4488031268119812]\n",
            "6 day input [0.9893617  0.92553191 0.80786496 0.72411358 0.63872486 0.56436598\n",
            " 0.50138181 0.44880313]\n",
            "6 day output [[0.41460976]]\n",
            "[0.9893617021276597, 0.9255319148936172, 0.8078649640083313, 0.7241135835647583, 0.6387248635292053, 0.5643659830093384, 0.5013818144798279, 0.4488031268119812, 0.41460976004600525]\n",
            "7 day input [0.92553191 0.80786496 0.72411358 0.63872486 0.56436598 0.50138181\n",
            " 0.44880313 0.41460976]\n",
            "7 day output [[0.39513752]]\n",
            "[0.9255319148936172, 0.8078649640083313, 0.7241135835647583, 0.6387248635292053, 0.5643659830093384, 0.5013818144798279, 0.4488031268119812, 0.41460976004600525, 0.3951375186443329]\n",
            "8 day input [0.80786496 0.72411358 0.63872486 0.56436598 0.50138181 0.44880313\n",
            " 0.41460976 0.39513752]\n",
            "8 day output [[0.3861961]]\n",
            "[0.8078649640083313, 0.7241135835647583, 0.6387248635292053, 0.5643659830093384, 0.5013818144798279, 0.4488031268119812, 0.41460976004600525, 0.3951375186443329, 0.386196106672287]\n",
            "9 day input [0.72411358 0.63872486 0.56436598 0.50138181 0.44880313 0.41460976\n",
            " 0.39513752 0.38619611]\n",
            "9 day output [[0.38265932]]\n",
            "[0.7241135835647583, 0.6387248635292053, 0.5643659830093384, 0.5013818144798279, 0.4488031268119812, 0.41460976004600525, 0.3951375186443329, 0.386196106672287, 0.38265931606292725]\n",
            "10 day input [0.63872486 0.56436598 0.50138181 0.44880313 0.41460976 0.39513752\n",
            " 0.38619611 0.38265932]\n",
            "10 day output [[0.38360903]]\n",
            "[0.6387248635292053, 0.5643659830093384, 0.5013818144798279, 0.4488031268119812, 0.41460976004600525, 0.3951375186443329, 0.386196106672287, 0.38265931606292725, 0.38360902667045593]\n",
            "11 day input [0.56436598 0.50138181 0.44880313 0.41460976 0.39513752 0.38619611\n",
            " 0.38265932 0.38360903]\n",
            "11 day output [[0.3870547]]\n",
            "[0.5643659830093384, 0.5013818144798279, 0.4488031268119812, 0.41460976004600525, 0.3951375186443329, 0.386196106672287, 0.38265931606292725, 0.38360902667045593, 0.3870547115802765]\n",
            "12 day input [0.50138181 0.44880313 0.41460976 0.39513752 0.38619611 0.38265932\n",
            " 0.38360903 0.38705471]\n",
            "12 day output [[0.39201963]]\n",
            "[0.5013818144798279, 0.4488031268119812, 0.41460976004600525, 0.3951375186443329, 0.386196106672287, 0.38265931606292725, 0.38360902667045593, 0.3870547115802765, 0.3920196294784546]\n",
            "13 day input [0.44880313 0.41460976 0.39513752 0.38619611 0.38265932 0.38360903\n",
            " 0.38705471 0.39201963]\n",
            "13 day output [[0.39779234]]\n",
            "[0.4488031268119812, 0.41460976004600525, 0.3951375186443329, 0.386196106672287, 0.38265931606292725, 0.38360902667045593, 0.3870547115802765, 0.3920196294784546, 0.39779233932495117]\n",
            "14 day input [0.41460976 0.39513752 0.38619611 0.38265932 0.38360903 0.38705471\n",
            " 0.39201963 0.39779234]\n",
            "14 day output [[0.40379766]]\n",
            "[0.41460976004600525, 0.3951375186443329, 0.386196106672287, 0.38265931606292725, 0.38360902667045593, 0.3870547115802765, 0.3920196294784546, 0.39779233932495117, 0.4037976562976837]\n",
            "15 day input [0.39513752 0.38619611 0.38265932 0.38360903 0.38705471 0.39201963\n",
            " 0.39779234 0.40379766]\n",
            "15 day output [[0.40984866]]\n",
            "[0.3951375186443329, 0.386196106672287, 0.38265931606292725, 0.38360902667045593, 0.3870547115802765, 0.3920196294784546, 0.39779233932495117, 0.4037976562976837, 0.4098486602306366]\n",
            "16 day input [0.38619611 0.38265932 0.38360903 0.38705471 0.39201963 0.39779234\n",
            " 0.40379766 0.40984866]\n",
            "16 day output [[0.4158075]]\n",
            "[0.386196106672287, 0.38265931606292725, 0.38360902667045593, 0.3870547115802765, 0.3920196294784546, 0.39779233932495117, 0.4037976562976837, 0.4098486602306366, 0.41580748558044434]\n",
            "17 day input [0.38265932 0.38360903 0.38705471 0.39201963 0.39779234 0.40379766\n",
            " 0.40984866 0.41580749]\n",
            "17 day output [[0.42158583]]\n",
            "[0.38265931606292725, 0.38360902667045593, 0.3870547115802765, 0.3920196294784546, 0.39779233932495117, 0.4037976562976837, 0.4098486602306366, 0.41580748558044434, 0.4215858280658722]\n",
            "18 day input [0.38360903 0.38705471 0.39201963 0.39779234 0.40379766 0.40984866\n",
            " 0.41580749 0.42158583]\n",
            "18 day output [[0.4270804]]\n",
            "[0.38360902667045593, 0.3870547115802765, 0.3920196294784546, 0.39779233932495117, 0.4037976562976837, 0.4098486602306366, 0.41580748558044434, 0.4215858280658722, 0.4270803928375244]\n",
            "19 day input [0.38705471 0.39201963 0.39779234 0.40379766 0.40984866 0.41580749\n",
            " 0.42158583 0.42708039]\n",
            "19 day output [[0.43225703]]\n",
            "[0.3870547115802765, 0.3920196294784546, 0.39779233932495117, 0.4037976562976837, 0.4098486602306366, 0.41580748558044434, 0.4215858280658722, 0.4270803928375244, 0.4322570264339447]\n",
            "20 day input [0.39201963 0.39779234 0.40379766 0.40984866 0.41580749 0.42158583\n",
            " 0.42708039 0.43225703]\n",
            "20 day output [[0.4370887]]\n",
            "[0.3920196294784546, 0.39779233932495117, 0.4037976562976837, 0.4098486602306366, 0.41580748558044434, 0.4215858280658722, 0.4270803928375244, 0.4322570264339447, 0.4370886981487274]\n",
            "21 day input [0.39779234 0.40379766 0.40984866 0.41580749 0.42158583 0.42708039\n",
            " 0.43225703 0.4370887 ]\n",
            "21 day output [[0.44156408]]\n",
            "[0.39779233932495117, 0.4037976562976837, 0.4098486602306366, 0.41580748558044434, 0.4215858280658722, 0.4270803928375244, 0.4322570264339447, 0.4370886981487274, 0.44156408309936523]\n",
            "22 day input [0.40379766 0.40984866 0.41580749 0.42158583 0.42708039 0.43225703\n",
            " 0.4370887  0.44156408]\n",
            "22 day output [[0.4456803]]\n",
            "[0.4037976562976837, 0.4098486602306366, 0.41580748558044434, 0.4215858280658722, 0.4270803928375244, 0.4322570264339447, 0.4370886981487274, 0.44156408309936523, 0.44568029046058655]\n",
            "23 day input [0.40984866 0.41580749 0.42158583 0.42708039 0.43225703 0.4370887\n",
            " 0.44156408 0.44568029]\n",
            "23 day output [[0.44943634]]\n",
            "[0.4098486602306366, 0.41580748558044434, 0.4215858280658722, 0.4270803928375244, 0.4322570264339447, 0.4370886981487274, 0.44156408309936523, 0.44568029046058655, 0.44943633675575256]\n",
            "24 day input [0.41580749 0.42158583 0.42708039 0.43225703 0.4370887  0.44156408\n",
            " 0.44568029 0.44943634]\n",
            "24 day output [[0.45283845]]\n",
            "[0.41580748558044434, 0.4215858280658722, 0.4270803928375244, 0.4322570264339447, 0.4370886981487274, 0.44156408309936523, 0.44568029046058655, 0.44943633675575256, 0.4528384506702423]\n",
            "25 day input [0.42158583 0.42708039 0.43225703 0.4370887  0.44156408 0.44568029\n",
            " 0.44943634 0.45283845]\n",
            "25 day output [[0.45589808]]\n",
            "[0.4215858280658722, 0.4270803928375244, 0.4322570264339447, 0.4370886981487274, 0.44156408309936523, 0.44568029046058655, 0.44943633675575256, 0.4528384506702423, 0.45589807629585266]\n",
            "26 day input [0.42708039 0.43225703 0.4370887  0.44156408 0.44568029 0.44943634\n",
            " 0.45283845 0.45589808]\n",
            "26 day output [[0.4586306]]\n",
            "[0.4270803928375244, 0.4322570264339447, 0.4370886981487274, 0.44156408309936523, 0.44568029046058655, 0.44943633675575256, 0.4528384506702423, 0.45589807629585266, 0.45863059163093567]\n",
            "27 day input [0.43225703 0.4370887  0.44156408 0.44568029 0.44943634 0.45283845\n",
            " 0.45589808 0.45863059]\n",
            "27 day output [[0.46105295]]\n",
            "[0.4322570264339447, 0.4370886981487274, 0.44156408309936523, 0.44568029046058655, 0.44943633675575256, 0.4528384506702423, 0.45589807629585266, 0.45863059163093567, 0.46105295419692993]\n",
            "28 day input [0.4370887  0.44156408 0.44568029 0.44943634 0.45283845 0.45589808\n",
            " 0.45863059 0.46105295]\n",
            "28 day output [[0.46318454]]\n",
            "[0.4370886981487274, 0.44156408309936523, 0.44568029046058655, 0.44943633675575256, 0.4528384506702423, 0.45589807629585266, 0.45863059163093567, 0.46105295419692993, 0.46318453550338745]\n",
            "29 day input [0.44156408 0.44568029 0.44943634 0.45283845 0.45589808 0.45863059\n",
            " 0.46105295 0.46318454]\n",
            "29 day output [[0.4650461]]\n",
            "[0.44156408309936523, 0.44568029046058655, 0.44943633675575256, 0.4528384506702423, 0.45589807629585266, 0.45863059163093567, 0.46105295419692993, 0.46318453550338745, 0.46504610776901245]\n",
            "Output of predicted next days:  30\n"
          ]
        }
      ],
      "source": [
        "x_input=test_data[len(test_data)-time_step:].reshape(1,-1)\n",
        "temp_input=list(x_input)\n",
        "temp_input=temp_input[0].tolist()\n",
        "\n",
        "from numpy import array\n",
        "\n",
        "lst_output=[]\n",
        "n_steps=time_step\n",
        "i=0\n",
        "pred_days = 30\n",
        "while(i<pred_days):\n",
        "    \n",
        "    if(len(temp_input)>time_step):\n",
        "        \n",
        "        x_input=np.array(temp_input[1:])\n",
        "        print(\"{} day input {}\".format(i,x_input))\n",
        "        x_input = x_input.reshape(1,-1)\n",
        "        x_input = x_input.reshape((1, n_steps, 1))\n",
        "        \n",
        "        yhat = model.predict(x_input, verbose=0)\n",
        "        print(\"{} day output {}\".format(i,yhat))\n",
        "        temp_input.extend(yhat[0].tolist())\n",
        "        temp_input=temp_input[1:]\n",
        "        print(temp_input)\n",
        "       \n",
        "        lst_output.extend(yhat.tolist())\n",
        "        i=i+1\n",
        "        \n",
        "    else:\n",
        "        \n",
        "        x_input = x_input.reshape((1, n_steps,1))\n",
        "        yhat = model.predict(x_input, verbose=0)\n",
        "        temp_input.extend(yhat[0].tolist())\n",
        "        \n",
        "        lst_output.extend(yhat.tolist())\n",
        "        i=i+1\n",
        "               \n",
        "print(\"Output of predicted next days: \", len(lst_output))"
      ]
    },
    {
      "cell_type": "markdown",
      "metadata": {
        "id": "Go6LaIITalU6"
      },
      "source": [
        "<a name=\"pdays\"></a>\n",
        "\n",
        "### Plotting last 7 days of dataset and next predicted 30 days"
      ]
    },
    {
      "cell_type": "code",
      "execution_count": 41,
      "metadata": {
        "colab": {
          "base_uri": "https://localhost:8080/"
        },
        "execution": {
          "iopub.execute_input": "2021-08-16T08:13:13.425155Z",
          "iopub.status.busy": "2021-08-16T08:13:13.424697Z",
          "iopub.status.idle": "2021-08-16T08:13:13.432608Z",
          "shell.execute_reply": "2021-08-16T08:13:13.431426Z",
          "shell.execute_reply.started": "2021-08-16T08:13:13.42512Z"
        },
        "id": "G8m9TmPgalU6",
        "outputId": "8198c35f-f029-4e6a-a855-1526d9cb2d2f",
        "trusted": true
      },
      "outputs": [
        {
          "output_type": "stream",
          "name": "stdout",
          "text": [
            "[1 2 3 4 5 6 7 8]\n",
            "[ 9 10 11 12 13 14 15 16 17 18 19 20 21 22 23 24 25 26 27 28 29 30 31 32\n",
            " 33 34 35 36 37 38]\n"
          ]
        }
      ],
      "source": [
        "last_days=np.arange(1,time_step+1)\n",
        "day_pred=np.arange(time_step+1,time_step+pred_days+1)\n",
        "print(last_days)\n",
        "print(day_pred)"
      ]
    },
    {
      "cell_type": "code",
      "execution_count": 42,
      "metadata": {
        "colab": {
          "base_uri": "https://localhost:8080/",
          "height": 542
        },
        "execution": {
          "iopub.execute_input": "2021-08-16T08:13:13.434875Z",
          "iopub.status.busy": "2021-08-16T08:13:13.434212Z",
          "iopub.status.idle": "2021-08-16T08:13:13.535134Z",
          "shell.execute_reply": "2021-08-16T08:13:13.533748Z",
          "shell.execute_reply.started": "2021-08-16T08:13:13.434832Z"
        },
        "id": "1VLPS-rXalU6",
        "outputId": "ed70dfaf-ce82-4325-e8a4-7b8d07fd0f11",
        "trusted": true
      },
      "outputs": [
        {
          "output_type": "display_data",
          "data": {
            "text/html": [
              "<html>\n",
              "<head><meta charset=\"utf-8\" /></head>\n",
              "<body>\n",
              "    <div>            <script src=\"https://cdnjs.cloudflare.com/ajax/libs/mathjax/2.7.5/MathJax.js?config=TeX-AMS-MML_SVG\"></script><script type=\"text/javascript\">if (window.MathJax) {MathJax.Hub.Config({SVG: {font: \"STIX-Web\"}});}</script>                <script type=\"text/javascript\">window.PlotlyConfig = {MathJaxConfig: 'local'};</script>\n",
              "        <script src=\"https://cdn.plot.ly/plotly-2.8.3.min.js\"></script>                <div id=\"d4931737-9a30-47b9-a5b8-5b741d9b4cb9\" class=\"plotly-graph-div\" style=\"height:525px; width:100%;\"></div>            <script type=\"text/javascript\">                                    window.PLOTLYENV=window.PLOTLYENV || {};                                    if (document.getElementById(\"d4931737-9a30-47b9-a5b8-5b741d9b4cb9\")) {                    Plotly.newPlot(                        \"d4931737-9a30-47b9-a5b8-5b741d9b4cb9\",                        [{\"hovertemplate\":\"variable=last_original_days_value<br>Timestamp=%{x}<br>Stock price=%{y}<extra></extra>\",\"legendgroup\":\"last_original_days_value\",\"line\":{\"color\":\"#636efa\",\"dash\":\"solid\"},\"marker\":{\"symbol\":\"circle\"},\"mode\":\"lines\",\"name\":\"Last 7 days close price\",\"orientation\":\"v\",\"showlegend\":true,\"x\":[0,1,2,3,4,5,6,7,8,9,10,11,12,13,14,15,16,17,18,19,20,21,22,23,24,25,26,27,28,29,30,31,32,33,34,35,36,37,38],\"xaxis\":\"x\",\"y\":[4800.0,4850.0,4970.0,4980.0,4910.0,4980.0,4970.0,4910.0,null,4799.393066167831,4720.666768550873,4640.401371717453,4570.504024028778,4511.298905611038,4461.874939203262,4429.733174443245,4411.429267525673,4403.02434027195,4399.699757099152,4400.592485070229,4403.83142888546,4408.498451709747,4413.924798965454,4419.569796919823,4425.257740616798,4430.859036445618,4436.29067838192,4441.455569267273,4446.321604847908,4450.863376259804,4455.070238113403,4458.939473032951,4462.470156550407,4465.668143630028,4468.5441917181015,4471.1127561330795,4473.389776945114,4475.393463373184,4477.143341302872],\"yaxis\":\"y\",\"type\":\"scatter\"},{\"hovertemplate\":\"variable=next_predicted_days_value<br>Timestamp=%{x}<br>Stock price=%{y}<extra></extra>\",\"legendgroup\":\"next_predicted_days_value\",\"line\":{\"color\":\"#EF553B\",\"dash\":\"solid\"},\"marker\":{\"symbol\":\"circle\"},\"mode\":\"lines\",\"name\":\"Predicted next 30 days close price\",\"orientation\":\"v\",\"showlegend\":true,\"x\":[0,1,2,3,4,5,6,7,8,9,10,11,12,13,14,15,16,17,18,19,20,21,22,23,24,25,26,27,28,29,30,31,32,33,34,35,36,37,38],\"xaxis\":\"x\",\"y\":[4800.0,4850.0,4970.0,4980.0,4910.0,4980.0,4970.0,4910.0,null,4799.393066167831,4720.666768550873,4640.401371717453,4570.504024028778,4511.298905611038,4461.874939203262,4429.733174443245,4411.429267525673,4403.02434027195,4399.699757099152,4400.592485070229,4403.83142888546,4408.498451709747,4413.924798965454,4419.569796919823,4425.257740616798,4430.859036445618,4436.29067838192,4441.455569267273,4446.321604847908,4450.863376259804,4455.070238113403,4458.939473032951,4462.470156550407,4465.668143630028,4468.5441917181015,4471.1127561330795,4473.389776945114,4475.393463373184,4477.143341302872],\"yaxis\":\"y\",\"type\":\"scatter\"}],                        {\"template\":{\"data\":{\"bar\":[{\"error_x\":{\"color\":\"#2a3f5f\"},\"error_y\":{\"color\":\"#2a3f5f\"},\"marker\":{\"line\":{\"color\":\"#E5ECF6\",\"width\":0.5},\"pattern\":{\"fillmode\":\"overlay\",\"size\":10,\"solidity\":0.2}},\"type\":\"bar\"}],\"barpolar\":[{\"marker\":{\"line\":{\"color\":\"#E5ECF6\",\"width\":0.5},\"pattern\":{\"fillmode\":\"overlay\",\"size\":10,\"solidity\":0.2}},\"type\":\"barpolar\"}],\"carpet\":[{\"aaxis\":{\"endlinecolor\":\"#2a3f5f\",\"gridcolor\":\"white\",\"linecolor\":\"white\",\"minorgridcolor\":\"white\",\"startlinecolor\":\"#2a3f5f\"},\"baxis\":{\"endlinecolor\":\"#2a3f5f\",\"gridcolor\":\"white\",\"linecolor\":\"white\",\"minorgridcolor\":\"white\",\"startlinecolor\":\"#2a3f5f\"},\"type\":\"carpet\"}],\"choropleth\":[{\"colorbar\":{\"outlinewidth\":0,\"ticks\":\"\"},\"type\":\"choropleth\"}],\"contour\":[{\"colorbar\":{\"outlinewidth\":0,\"ticks\":\"\"},\"colorscale\":[[0.0,\"#0d0887\"],[0.1111111111111111,\"#46039f\"],[0.2222222222222222,\"#7201a8\"],[0.3333333333333333,\"#9c179e\"],[0.4444444444444444,\"#bd3786\"],[0.5555555555555556,\"#d8576b\"],[0.6666666666666666,\"#ed7953\"],[0.7777777777777778,\"#fb9f3a\"],[0.8888888888888888,\"#fdca26\"],[1.0,\"#f0f921\"]],\"type\":\"contour\"}],\"contourcarpet\":[{\"colorbar\":{\"outlinewidth\":0,\"ticks\":\"\"},\"type\":\"contourcarpet\"}],\"heatmap\":[{\"colorbar\":{\"outlinewidth\":0,\"ticks\":\"\"},\"colorscale\":[[0.0,\"#0d0887\"],[0.1111111111111111,\"#46039f\"],[0.2222222222222222,\"#7201a8\"],[0.3333333333333333,\"#9c179e\"],[0.4444444444444444,\"#bd3786\"],[0.5555555555555556,\"#d8576b\"],[0.6666666666666666,\"#ed7953\"],[0.7777777777777778,\"#fb9f3a\"],[0.8888888888888888,\"#fdca26\"],[1.0,\"#f0f921\"]],\"type\":\"heatmap\"}],\"heatmapgl\":[{\"colorbar\":{\"outlinewidth\":0,\"ticks\":\"\"},\"colorscale\":[[0.0,\"#0d0887\"],[0.1111111111111111,\"#46039f\"],[0.2222222222222222,\"#7201a8\"],[0.3333333333333333,\"#9c179e\"],[0.4444444444444444,\"#bd3786\"],[0.5555555555555556,\"#d8576b\"],[0.6666666666666666,\"#ed7953\"],[0.7777777777777778,\"#fb9f3a\"],[0.8888888888888888,\"#fdca26\"],[1.0,\"#f0f921\"]],\"type\":\"heatmapgl\"}],\"histogram\":[{\"marker\":{\"pattern\":{\"fillmode\":\"overlay\",\"size\":10,\"solidity\":0.2}},\"type\":\"histogram\"}],\"histogram2d\":[{\"colorbar\":{\"outlinewidth\":0,\"ticks\":\"\"},\"colorscale\":[[0.0,\"#0d0887\"],[0.1111111111111111,\"#46039f\"],[0.2222222222222222,\"#7201a8\"],[0.3333333333333333,\"#9c179e\"],[0.4444444444444444,\"#bd3786\"],[0.5555555555555556,\"#d8576b\"],[0.6666666666666666,\"#ed7953\"],[0.7777777777777778,\"#fb9f3a\"],[0.8888888888888888,\"#fdca26\"],[1.0,\"#f0f921\"]],\"type\":\"histogram2d\"}],\"histogram2dcontour\":[{\"colorbar\":{\"outlinewidth\":0,\"ticks\":\"\"},\"colorscale\":[[0.0,\"#0d0887\"],[0.1111111111111111,\"#46039f\"],[0.2222222222222222,\"#7201a8\"],[0.3333333333333333,\"#9c179e\"],[0.4444444444444444,\"#bd3786\"],[0.5555555555555556,\"#d8576b\"],[0.6666666666666666,\"#ed7953\"],[0.7777777777777778,\"#fb9f3a\"],[0.8888888888888888,\"#fdca26\"],[1.0,\"#f0f921\"]],\"type\":\"histogram2dcontour\"}],\"mesh3d\":[{\"colorbar\":{\"outlinewidth\":0,\"ticks\":\"\"},\"type\":\"mesh3d\"}],\"parcoords\":[{\"line\":{\"colorbar\":{\"outlinewidth\":0,\"ticks\":\"\"}},\"type\":\"parcoords\"}],\"pie\":[{\"automargin\":true,\"type\":\"pie\"}],\"scatter\":[{\"marker\":{\"colorbar\":{\"outlinewidth\":0,\"ticks\":\"\"}},\"type\":\"scatter\"}],\"scatter3d\":[{\"line\":{\"colorbar\":{\"outlinewidth\":0,\"ticks\":\"\"}},\"marker\":{\"colorbar\":{\"outlinewidth\":0,\"ticks\":\"\"}},\"type\":\"scatter3d\"}],\"scattercarpet\":[{\"marker\":{\"colorbar\":{\"outlinewidth\":0,\"ticks\":\"\"}},\"type\":\"scattercarpet\"}],\"scattergeo\":[{\"marker\":{\"colorbar\":{\"outlinewidth\":0,\"ticks\":\"\"}},\"type\":\"scattergeo\"}],\"scattergl\":[{\"marker\":{\"colorbar\":{\"outlinewidth\":0,\"ticks\":\"\"}},\"type\":\"scattergl\"}],\"scattermapbox\":[{\"marker\":{\"colorbar\":{\"outlinewidth\":0,\"ticks\":\"\"}},\"type\":\"scattermapbox\"}],\"scatterpolar\":[{\"marker\":{\"colorbar\":{\"outlinewidth\":0,\"ticks\":\"\"}},\"type\":\"scatterpolar\"}],\"scatterpolargl\":[{\"marker\":{\"colorbar\":{\"outlinewidth\":0,\"ticks\":\"\"}},\"type\":\"scatterpolargl\"}],\"scatterternary\":[{\"marker\":{\"colorbar\":{\"outlinewidth\":0,\"ticks\":\"\"}},\"type\":\"scatterternary\"}],\"surface\":[{\"colorbar\":{\"outlinewidth\":0,\"ticks\":\"\"},\"colorscale\":[[0.0,\"#0d0887\"],[0.1111111111111111,\"#46039f\"],[0.2222222222222222,\"#7201a8\"],[0.3333333333333333,\"#9c179e\"],[0.4444444444444444,\"#bd3786\"],[0.5555555555555556,\"#d8576b\"],[0.6666666666666666,\"#ed7953\"],[0.7777777777777778,\"#fb9f3a\"],[0.8888888888888888,\"#fdca26\"],[1.0,\"#f0f921\"]],\"type\":\"surface\"}],\"table\":[{\"cells\":{\"fill\":{\"color\":\"#EBF0F8\"},\"line\":{\"color\":\"white\"}},\"header\":{\"fill\":{\"color\":\"#C8D4E3\"},\"line\":{\"color\":\"white\"}},\"type\":\"table\"}]},\"layout\":{\"annotationdefaults\":{\"arrowcolor\":\"#2a3f5f\",\"arrowhead\":0,\"arrowwidth\":1},\"autotypenumbers\":\"strict\",\"coloraxis\":{\"colorbar\":{\"outlinewidth\":0,\"ticks\":\"\"}},\"colorscale\":{\"diverging\":[[0,\"#8e0152\"],[0.1,\"#c51b7d\"],[0.2,\"#de77ae\"],[0.3,\"#f1b6da\"],[0.4,\"#fde0ef\"],[0.5,\"#f7f7f7\"],[0.6,\"#e6f5d0\"],[0.7,\"#b8e186\"],[0.8,\"#7fbc41\"],[0.9,\"#4d9221\"],[1,\"#276419\"]],\"sequential\":[[0.0,\"#0d0887\"],[0.1111111111111111,\"#46039f\"],[0.2222222222222222,\"#7201a8\"],[0.3333333333333333,\"#9c179e\"],[0.4444444444444444,\"#bd3786\"],[0.5555555555555556,\"#d8576b\"],[0.6666666666666666,\"#ed7953\"],[0.7777777777777778,\"#fb9f3a\"],[0.8888888888888888,\"#fdca26\"],[1.0,\"#f0f921\"]],\"sequentialminus\":[[0.0,\"#0d0887\"],[0.1111111111111111,\"#46039f\"],[0.2222222222222222,\"#7201a8\"],[0.3333333333333333,\"#9c179e\"],[0.4444444444444444,\"#bd3786\"],[0.5555555555555556,\"#d8576b\"],[0.6666666666666666,\"#ed7953\"],[0.7777777777777778,\"#fb9f3a\"],[0.8888888888888888,\"#fdca26\"],[1.0,\"#f0f921\"]]},\"colorway\":[\"#636efa\",\"#EF553B\",\"#00cc96\",\"#ab63fa\",\"#FFA15A\",\"#19d3f3\",\"#FF6692\",\"#B6E880\",\"#FF97FF\",\"#FECB52\"],\"font\":{\"color\":\"#2a3f5f\"},\"geo\":{\"bgcolor\":\"white\",\"lakecolor\":\"white\",\"landcolor\":\"#E5ECF6\",\"showlakes\":true,\"showland\":true,\"subunitcolor\":\"white\"},\"hoverlabel\":{\"align\":\"left\"},\"hovermode\":\"closest\",\"mapbox\":{\"style\":\"light\"},\"paper_bgcolor\":\"white\",\"plot_bgcolor\":\"#E5ECF6\",\"polar\":{\"angularaxis\":{\"gridcolor\":\"white\",\"linecolor\":\"white\",\"ticks\":\"\"},\"bgcolor\":\"#E5ECF6\",\"radialaxis\":{\"gridcolor\":\"white\",\"linecolor\":\"white\",\"ticks\":\"\"}},\"scene\":{\"xaxis\":{\"backgroundcolor\":\"#E5ECF6\",\"gridcolor\":\"white\",\"gridwidth\":2,\"linecolor\":\"white\",\"showbackground\":true,\"ticks\":\"\",\"zerolinecolor\":\"white\"},\"yaxis\":{\"backgroundcolor\":\"#E5ECF6\",\"gridcolor\":\"white\",\"gridwidth\":2,\"linecolor\":\"white\",\"showbackground\":true,\"ticks\":\"\",\"zerolinecolor\":\"white\"},\"zaxis\":{\"backgroundcolor\":\"#E5ECF6\",\"gridcolor\":\"white\",\"gridwidth\":2,\"linecolor\":\"white\",\"showbackground\":true,\"ticks\":\"\",\"zerolinecolor\":\"white\"}},\"shapedefaults\":{\"line\":{\"color\":\"#2a3f5f\"}},\"ternary\":{\"aaxis\":{\"gridcolor\":\"white\",\"linecolor\":\"white\",\"ticks\":\"\"},\"baxis\":{\"gridcolor\":\"white\",\"linecolor\":\"white\",\"ticks\":\"\"},\"bgcolor\":\"#E5ECF6\",\"caxis\":{\"gridcolor\":\"white\",\"linecolor\":\"white\",\"ticks\":\"\"}},\"title\":{\"x\":0.05},\"xaxis\":{\"automargin\":true,\"gridcolor\":\"white\",\"linecolor\":\"white\",\"ticks\":\"\",\"title\":{\"standoff\":15},\"zerolinecolor\":\"white\",\"zerolinewidth\":2},\"yaxis\":{\"automargin\":true,\"gridcolor\":\"white\",\"linecolor\":\"white\",\"ticks\":\"\",\"title\":{\"standoff\":15},\"zerolinecolor\":\"white\",\"zerolinewidth\":2}}},\"xaxis\":{\"anchor\":\"y\",\"domain\":[0.0,1.0],\"title\":{\"text\":\"Timestamp\"},\"showgrid\":false},\"yaxis\":{\"anchor\":\"x\",\"domain\":[0.0,1.0],\"title\":{\"text\":\"Stock price\"},\"showgrid\":false},\"legend\":{\"title\":{\"text\":\"Close Price\"},\"tracegroupgap\":0},\"margin\":{\"t\":60},\"title\":{\"text\":\"Compare last 7 days vs next 30 days\"},\"font\":{\"size\":15,\"color\":\"black\"},\"plot_bgcolor\":\"white\"},                        {\"responsive\": true}                    ).then(function(){\n",
              "                            \n",
              "var gd = document.getElementById('d4931737-9a30-47b9-a5b8-5b741d9b4cb9');\n",
              "var x = new MutationObserver(function (mutations, observer) {{\n",
              "        var display = window.getComputedStyle(gd).display;\n",
              "        if (!display || display === 'none') {{\n",
              "            console.log([gd, 'removed!']);\n",
              "            Plotly.purge(gd);\n",
              "            observer.disconnect();\n",
              "        }}\n",
              "}});\n",
              "\n",
              "// Listen for the removal of the full notebook cells\n",
              "var notebookContainer = gd.closest('#notebook-container');\n",
              "if (notebookContainer) {{\n",
              "    x.observe(notebookContainer, {childList: true});\n",
              "}}\n",
              "\n",
              "// Listen for the clearing of the current output cell\n",
              "var outputEl = gd.closest('.output');\n",
              "if (outputEl) {{\n",
              "    x.observe(outputEl, {childList: true});\n",
              "}}\n",
              "\n",
              "                        })                };                            </script>        </div>\n",
              "</body>\n",
              "</html>"
            ]
          },
          "metadata": {}
        }
      ],
      "source": [
        "temp_mat = np.empty((len(last_days)+pred_days+1,1))\n",
        "temp_mat[:] = np.nan\n",
        "temp_mat = temp_mat.reshape(1,-1).tolist()[0]\n",
        "\n",
        "last_original_days_value = temp_mat\n",
        "next_predicted_days_value = temp_mat\n",
        "\n",
        "last_original_days_value[0:time_step+1] = scaler.inverse_transform(closedf[len(closedf)-time_step:]).reshape(1,-1).tolist()[0]\n",
        "next_predicted_days_value[time_step+1:] = scaler.inverse_transform(np.array(lst_output).reshape(-1,1)).reshape(1,-1).tolist()[0]\n",
        "\n",
        "new_pred_plot = pd.DataFrame({\n",
        "    'last_original_days_value':last_original_days_value,\n",
        "    'next_predicted_days_value':next_predicted_days_value\n",
        "})\n",
        "\n",
        "names = cycle(['Last 7 days close price','Predicted next 30 days close price'])\n",
        "\n",
        "fig = px.line(new_pred_plot,x=new_pred_plot.index, y=[new_pred_plot['last_original_days_value'],\n",
        "                                                      new_pred_plot['next_predicted_days_value']],\n",
        "              labels={'value': 'Stock price','index': 'Timestamp'})\n",
        "fig.update_layout(title_text='Compare last 7 days vs next 30 days',\n",
        "                  plot_bgcolor='white', font_size=15, font_color='black',legend_title_text='Close Price')\n",
        "\n",
        "fig.for_each_trace(lambda t:  t.update(name = next(names)))\n",
        "fig.update_xaxes(showgrid=False)\n",
        "fig.update_yaxes(showgrid=False)\n",
        "fig.show()"
      ]
    },
    {
      "cell_type": "markdown",
      "metadata": {
        "id": "XO5CngHj9gab"
      },
      "source": [
        "The plot above shows the model prediction for the next 30 days, and there is downtrend."
      ]
    },
    {
      "cell_type": "markdown",
      "metadata": {
        "id": "0zH9zgyMalU7"
      },
      "source": [
        "<a name=\"pwhole\"></a>\n",
        "\n",
        "### Plotting entire Closing Stock Price with next 30 days period of prediction "
      ]
    },
    {
      "cell_type": "markdown",
      "metadata": {
        "id": "ytH94g9F-QeU"
      },
      "source": [
        "and the next is visualizing the overall close stock price with the predicition result."
      ]
    },
    {
      "cell_type": "code",
      "execution_count": 43,
      "metadata": {
        "colab": {
          "base_uri": "https://localhost:8080/",
          "height": 542
        },
        "execution": {
          "iopub.execute_input": "2021-08-16T08:13:13.537471Z",
          "iopub.status.busy": "2021-08-16T08:13:13.536835Z",
          "iopub.status.idle": "2021-08-16T08:13:13.630151Z",
          "shell.execute_reply": "2021-08-16T08:13:13.629155Z",
          "shell.execute_reply.started": "2021-08-16T08:13:13.537423Z"
        },
        "id": "k3_vsuXDalU7",
        "outputId": "11f63eb9-bce9-4334-ef3e-20fa1fe58f43",
        "trusted": true
      },
      "outputs": [
        {
          "output_type": "display_data",
          "data": {
            "text/html": [
              "<html>\n",
              "<head><meta charset=\"utf-8\" /></head>\n",
              "<body>\n",
              "    <div>            <script src=\"https://cdnjs.cloudflare.com/ajax/libs/mathjax/2.7.5/MathJax.js?config=TeX-AMS-MML_SVG\"></script><script type=\"text/javascript\">if (window.MathJax) {MathJax.Hub.Config({SVG: {font: \"STIX-Web\"}});}</script>                <script type=\"text/javascript\">window.PlotlyConfig = {MathJaxConfig: 'local'};</script>\n",
              "        <script src=\"https://cdn.plot.ly/plotly-2.8.3.min.js\"></script>                <div id=\"c7bbc169-d3cf-4d1c-867b-e30fe8cbd280\" class=\"plotly-graph-div\" style=\"height:525px; width:100%;\"></div>            <script type=\"text/javascript\">                                    window.PLOTLYENV=window.PLOTLYENV || {};                                    if (document.getElementById(\"c7bbc169-d3cf-4d1c-867b-e30fe8cbd280\")) {                    Plotly.newPlot(                        \"c7bbc169-d3cf-4d1c-867b-e30fe8cbd280\",                        [{\"hovertemplate\":\"variable=0<br>Timestamp=%{x}<br>Stock price=%{y}<extra></extra>\",\"legendgroup\":\"0\",\"line\":{\"color\":\"#636efa\",\"dash\":\"solid\"},\"marker\":{\"symbol\":\"circle\"},\"mode\":\"lines\",\"name\":\"Close price\",\"orientation\":\"v\",\"showlegend\":true,\"x\":[0,1,2,3,4,5,6,7,8,9,10,11,12,13,14,15,16,17,18,19,20,21,22,23,24,25,26,27,28,29,30,31,32,33,34,35,36,37,38,39,40,41,42,43,44,45,46,47,48,49,50,51,52,53,54,55,56,57,58,59,60,61,62,63,64,65,66,67,68,69,70,71,72,73,74,75,76,77,78,79,80,81,82,83,84,85,86,87,88,89,90,91,92,93,94,95,96,97,98,99,100,101,102,103,104,105,106,107,108,109,110,111,112,113,114,115,116,117,118,119,120,121,122,123,124,125,126,127,128,129,130,131,132,133,134,135,136,137,138,139,140,141,142,143,144,145,146,147,148,149,150,151,152,153,154,155,156,157,158,159,160,161,162,163,164,165,166,167,168,169,170,171,172,173,174,175,176,177,178,179,180,181,182,183,184,185,186,187,188,189,190,191,192,193,194,195,196,197,198,199,200,201,202,203,204,205,206,207,208,209,210,211,212,213,214,215,216,217,218,219,220,221,222,223,224,225,226,227,228,229,230,231,232,233,234,235,236,237,238,239,240,241,242,243,244,245,246,247,248,249,250,251,252,253,254,255,256,257,258,259,260,261,262,263,264,265,266,267,268,269,270,271,272,273,274,275,276,277],\"xaxis\":\"x\",\"y\":[4110.0,4120.0,4080.0000000000005,4050.0,4100.0,4069.9999999999995,4060.0,4090.0000000000005,4080.0000000000005,4110.0,4180.0,4160.0,4210.0,4160.0,4190.0,4180.0,4150.0,4160.0,4190.0,4180.0,4210.0,4190.0,4130.0,4130.0,4170.0,4120.0,4069.9999999999995,4090.0000000000005,4140.0,4140.0,4069.9999999999995,4069.9999999999995,4130.0,4210.0,4400.0,4440.0,4450.0,4470.0,4450.0,4410.0,4430.0,4420.0,4400.0,4430.0,4490.0,4430.0,4480.0,4390.0,4550.0,4630.0,4560.0,4670.0,4520.0,4430.0,4570.0,4570.0,4400.0,4520.0,4610.0,4650.0,4650.0,4580.0,4590.0,4640.0,4650.0,4730.0,4710.0,4730.0,4690.0,4710.0,4660.0,4730.0,4700.0,4700.0,4600.0,4630.0,4610.0,4570.0,4610.0,4610.0,4540.0,4550.0,4570.0,4850.0,4800.0,4750.0,4840.0,4940.0,4850.0,4870.0,4530.0,4530.0,4490.0,4320.0,4250.0,4450.0,4450.0,4440.0,4430.0,4330.0,4460.0,4350.0,4540.0,4430.0,4630.0,4480.0,4520.0,4430.0,4400.0,4470.0,4490.0,4400.0,4340.0,4360.0,4450.0,4430.0,4370.0,4400.0,4380.0,4320.0,4310.0,4340.0,4280.0,4300.0,4180.0,4150.0,4140.0,4040.0,4090.0000000000005,4080.0000000000005,4050.0,4200.0,4120.0,4110.0,4060.0,4069.9999999999995,4110.0,4140.0,4110.0,4300.0,4310.0,4270.0,4250.0,4330.0,4320.0,4360.0,4360.0,4360.0,4400.0,4380.0,4360.0,4360.0,4370.0,4410.0,4310.0,4350.0,4320.0,4300.0,4280.0,4330.0,4300.0,4270.0,4300.0,4290.0,4270.0,4270.0,4250.0,4260.0,4340.0,4390.0,4450.0,4590.0,4560.0,4460.0,4600.0,4610.0,4560.0,4580.0,4580.0,4610.0,4500.0,4570.0,4490.0,4550.0,4560.0,4480.0,4540.0,4530.0,4520.0,4480.0,4490.0,4530.0,4640.0,4540.0,4510.0,4440.0,4370.0,4430.0,4400.0,4350.0,4270.0,4300.0,4290.0,4300.0,4390.0,4430.0,4500.0,4590.0,4530.0,4600.0,4630.0,4650.0,4660.0,4610.0,4650.0,4650.0,4690.0,4620.0,4650.0,4530.0,4650.0,4580.0,4580.0,4520.0,4670.0,4610.0,4590.0,4590.0,4670.0,4720.0,4750.0,4820.0,4850.0,4980.0,4940.0,4890.0,4890.0,4860.0,4760.0,4840.0,4800.0,4850.0,4970.0,4980.0,4910.0,4980.0,4970.0,4910.0,4799.393066167831,4720.666768550873,4640.401371717453,4570.504024028778,4511.298905611038,4461.874939203262,4429.733174443245,4411.429267525673,4403.02434027195,4399.699757099152,4400.592485070229,4403.83142888546,4408.498451709747,4413.924798965454,4419.569796919823,4425.257740616798,4430.859036445618,4436.29067838192,4441.455569267273,4446.321604847908,4450.863376259804,4455.070238113403,4458.939473032951,4462.470156550407,4465.668143630028,4468.5441917181015,4471.1127561330795,4473.389776945114,4475.393463373184,4477.143341302872],\"yaxis\":\"y\",\"type\":\"scatter\"}],                        {\"template\":{\"data\":{\"bar\":[{\"error_x\":{\"color\":\"#2a3f5f\"},\"error_y\":{\"color\":\"#2a3f5f\"},\"marker\":{\"line\":{\"color\":\"#E5ECF6\",\"width\":0.5},\"pattern\":{\"fillmode\":\"overlay\",\"size\":10,\"solidity\":0.2}},\"type\":\"bar\"}],\"barpolar\":[{\"marker\":{\"line\":{\"color\":\"#E5ECF6\",\"width\":0.5},\"pattern\":{\"fillmode\":\"overlay\",\"size\":10,\"solidity\":0.2}},\"type\":\"barpolar\"}],\"carpet\":[{\"aaxis\":{\"endlinecolor\":\"#2a3f5f\",\"gridcolor\":\"white\",\"linecolor\":\"white\",\"minorgridcolor\":\"white\",\"startlinecolor\":\"#2a3f5f\"},\"baxis\":{\"endlinecolor\":\"#2a3f5f\",\"gridcolor\":\"white\",\"linecolor\":\"white\",\"minorgridcolor\":\"white\",\"startlinecolor\":\"#2a3f5f\"},\"type\":\"carpet\"}],\"choropleth\":[{\"colorbar\":{\"outlinewidth\":0,\"ticks\":\"\"},\"type\":\"choropleth\"}],\"contour\":[{\"colorbar\":{\"outlinewidth\":0,\"ticks\":\"\"},\"colorscale\":[[0.0,\"#0d0887\"],[0.1111111111111111,\"#46039f\"],[0.2222222222222222,\"#7201a8\"],[0.3333333333333333,\"#9c179e\"],[0.4444444444444444,\"#bd3786\"],[0.5555555555555556,\"#d8576b\"],[0.6666666666666666,\"#ed7953\"],[0.7777777777777778,\"#fb9f3a\"],[0.8888888888888888,\"#fdca26\"],[1.0,\"#f0f921\"]],\"type\":\"contour\"}],\"contourcarpet\":[{\"colorbar\":{\"outlinewidth\":0,\"ticks\":\"\"},\"type\":\"contourcarpet\"}],\"heatmap\":[{\"colorbar\":{\"outlinewidth\":0,\"ticks\":\"\"},\"colorscale\":[[0.0,\"#0d0887\"],[0.1111111111111111,\"#46039f\"],[0.2222222222222222,\"#7201a8\"],[0.3333333333333333,\"#9c179e\"],[0.4444444444444444,\"#bd3786\"],[0.5555555555555556,\"#d8576b\"],[0.6666666666666666,\"#ed7953\"],[0.7777777777777778,\"#fb9f3a\"],[0.8888888888888888,\"#fdca26\"],[1.0,\"#f0f921\"]],\"type\":\"heatmap\"}],\"heatmapgl\":[{\"colorbar\":{\"outlinewidth\":0,\"ticks\":\"\"},\"colorscale\":[[0.0,\"#0d0887\"],[0.1111111111111111,\"#46039f\"],[0.2222222222222222,\"#7201a8\"],[0.3333333333333333,\"#9c179e\"],[0.4444444444444444,\"#bd3786\"],[0.5555555555555556,\"#d8576b\"],[0.6666666666666666,\"#ed7953\"],[0.7777777777777778,\"#fb9f3a\"],[0.8888888888888888,\"#fdca26\"],[1.0,\"#f0f921\"]],\"type\":\"heatmapgl\"}],\"histogram\":[{\"marker\":{\"pattern\":{\"fillmode\":\"overlay\",\"size\":10,\"solidity\":0.2}},\"type\":\"histogram\"}],\"histogram2d\":[{\"colorbar\":{\"outlinewidth\":0,\"ticks\":\"\"},\"colorscale\":[[0.0,\"#0d0887\"],[0.1111111111111111,\"#46039f\"],[0.2222222222222222,\"#7201a8\"],[0.3333333333333333,\"#9c179e\"],[0.4444444444444444,\"#bd3786\"],[0.5555555555555556,\"#d8576b\"],[0.6666666666666666,\"#ed7953\"],[0.7777777777777778,\"#fb9f3a\"],[0.8888888888888888,\"#fdca26\"],[1.0,\"#f0f921\"]],\"type\":\"histogram2d\"}],\"histogram2dcontour\":[{\"colorbar\":{\"outlinewidth\":0,\"ticks\":\"\"},\"colorscale\":[[0.0,\"#0d0887\"],[0.1111111111111111,\"#46039f\"],[0.2222222222222222,\"#7201a8\"],[0.3333333333333333,\"#9c179e\"],[0.4444444444444444,\"#bd3786\"],[0.5555555555555556,\"#d8576b\"],[0.6666666666666666,\"#ed7953\"],[0.7777777777777778,\"#fb9f3a\"],[0.8888888888888888,\"#fdca26\"],[1.0,\"#f0f921\"]],\"type\":\"histogram2dcontour\"}],\"mesh3d\":[{\"colorbar\":{\"outlinewidth\":0,\"ticks\":\"\"},\"type\":\"mesh3d\"}],\"parcoords\":[{\"line\":{\"colorbar\":{\"outlinewidth\":0,\"ticks\":\"\"}},\"type\":\"parcoords\"}],\"pie\":[{\"automargin\":true,\"type\":\"pie\"}],\"scatter\":[{\"marker\":{\"colorbar\":{\"outlinewidth\":0,\"ticks\":\"\"}},\"type\":\"scatter\"}],\"scatter3d\":[{\"line\":{\"colorbar\":{\"outlinewidth\":0,\"ticks\":\"\"}},\"marker\":{\"colorbar\":{\"outlinewidth\":0,\"ticks\":\"\"}},\"type\":\"scatter3d\"}],\"scattercarpet\":[{\"marker\":{\"colorbar\":{\"outlinewidth\":0,\"ticks\":\"\"}},\"type\":\"scattercarpet\"}],\"scattergeo\":[{\"marker\":{\"colorbar\":{\"outlinewidth\":0,\"ticks\":\"\"}},\"type\":\"scattergeo\"}],\"scattergl\":[{\"marker\":{\"colorbar\":{\"outlinewidth\":0,\"ticks\":\"\"}},\"type\":\"scattergl\"}],\"scattermapbox\":[{\"marker\":{\"colorbar\":{\"outlinewidth\":0,\"ticks\":\"\"}},\"type\":\"scattermapbox\"}],\"scatterpolar\":[{\"marker\":{\"colorbar\":{\"outlinewidth\":0,\"ticks\":\"\"}},\"type\":\"scatterpolar\"}],\"scatterpolargl\":[{\"marker\":{\"colorbar\":{\"outlinewidth\":0,\"ticks\":\"\"}},\"type\":\"scatterpolargl\"}],\"scatterternary\":[{\"marker\":{\"colorbar\":{\"outlinewidth\":0,\"ticks\":\"\"}},\"type\":\"scatterternary\"}],\"surface\":[{\"colorbar\":{\"outlinewidth\":0,\"ticks\":\"\"},\"colorscale\":[[0.0,\"#0d0887\"],[0.1111111111111111,\"#46039f\"],[0.2222222222222222,\"#7201a8\"],[0.3333333333333333,\"#9c179e\"],[0.4444444444444444,\"#bd3786\"],[0.5555555555555556,\"#d8576b\"],[0.6666666666666666,\"#ed7953\"],[0.7777777777777778,\"#fb9f3a\"],[0.8888888888888888,\"#fdca26\"],[1.0,\"#f0f921\"]],\"type\":\"surface\"}],\"table\":[{\"cells\":{\"fill\":{\"color\":\"#EBF0F8\"},\"line\":{\"color\":\"white\"}},\"header\":{\"fill\":{\"color\":\"#C8D4E3\"},\"line\":{\"color\":\"white\"}},\"type\":\"table\"}]},\"layout\":{\"annotationdefaults\":{\"arrowcolor\":\"#2a3f5f\",\"arrowhead\":0,\"arrowwidth\":1},\"autotypenumbers\":\"strict\",\"coloraxis\":{\"colorbar\":{\"outlinewidth\":0,\"ticks\":\"\"}},\"colorscale\":{\"diverging\":[[0,\"#8e0152\"],[0.1,\"#c51b7d\"],[0.2,\"#de77ae\"],[0.3,\"#f1b6da\"],[0.4,\"#fde0ef\"],[0.5,\"#f7f7f7\"],[0.6,\"#e6f5d0\"],[0.7,\"#b8e186\"],[0.8,\"#7fbc41\"],[0.9,\"#4d9221\"],[1,\"#276419\"]],\"sequential\":[[0.0,\"#0d0887\"],[0.1111111111111111,\"#46039f\"],[0.2222222222222222,\"#7201a8\"],[0.3333333333333333,\"#9c179e\"],[0.4444444444444444,\"#bd3786\"],[0.5555555555555556,\"#d8576b\"],[0.6666666666666666,\"#ed7953\"],[0.7777777777777778,\"#fb9f3a\"],[0.8888888888888888,\"#fdca26\"],[1.0,\"#f0f921\"]],\"sequentialminus\":[[0.0,\"#0d0887\"],[0.1111111111111111,\"#46039f\"],[0.2222222222222222,\"#7201a8\"],[0.3333333333333333,\"#9c179e\"],[0.4444444444444444,\"#bd3786\"],[0.5555555555555556,\"#d8576b\"],[0.6666666666666666,\"#ed7953\"],[0.7777777777777778,\"#fb9f3a\"],[0.8888888888888888,\"#fdca26\"],[1.0,\"#f0f921\"]]},\"colorway\":[\"#636efa\",\"#EF553B\",\"#00cc96\",\"#ab63fa\",\"#FFA15A\",\"#19d3f3\",\"#FF6692\",\"#B6E880\",\"#FF97FF\",\"#FECB52\"],\"font\":{\"color\":\"#2a3f5f\"},\"geo\":{\"bgcolor\":\"white\",\"lakecolor\":\"white\",\"landcolor\":\"#E5ECF6\",\"showlakes\":true,\"showland\":true,\"subunitcolor\":\"white\"},\"hoverlabel\":{\"align\":\"left\"},\"hovermode\":\"closest\",\"mapbox\":{\"style\":\"light\"},\"paper_bgcolor\":\"white\",\"plot_bgcolor\":\"#E5ECF6\",\"polar\":{\"angularaxis\":{\"gridcolor\":\"white\",\"linecolor\":\"white\",\"ticks\":\"\"},\"bgcolor\":\"#E5ECF6\",\"radialaxis\":{\"gridcolor\":\"white\",\"linecolor\":\"white\",\"ticks\":\"\"}},\"scene\":{\"xaxis\":{\"backgroundcolor\":\"#E5ECF6\",\"gridcolor\":\"white\",\"gridwidth\":2,\"linecolor\":\"white\",\"showbackground\":true,\"ticks\":\"\",\"zerolinecolor\":\"white\"},\"yaxis\":{\"backgroundcolor\":\"#E5ECF6\",\"gridcolor\":\"white\",\"gridwidth\":2,\"linecolor\":\"white\",\"showbackground\":true,\"ticks\":\"\",\"zerolinecolor\":\"white\"},\"zaxis\":{\"backgroundcolor\":\"#E5ECF6\",\"gridcolor\":\"white\",\"gridwidth\":2,\"linecolor\":\"white\",\"showbackground\":true,\"ticks\":\"\",\"zerolinecolor\":\"white\"}},\"shapedefaults\":{\"line\":{\"color\":\"#2a3f5f\"}},\"ternary\":{\"aaxis\":{\"gridcolor\":\"white\",\"linecolor\":\"white\",\"ticks\":\"\"},\"baxis\":{\"gridcolor\":\"white\",\"linecolor\":\"white\",\"ticks\":\"\"},\"bgcolor\":\"#E5ECF6\",\"caxis\":{\"gridcolor\":\"white\",\"linecolor\":\"white\",\"ticks\":\"\"}},\"title\":{\"x\":0.05},\"xaxis\":{\"automargin\":true,\"gridcolor\":\"white\",\"linecolor\":\"white\",\"ticks\":\"\",\"title\":{\"standoff\":15},\"zerolinecolor\":\"white\",\"zerolinewidth\":2},\"yaxis\":{\"automargin\":true,\"gridcolor\":\"white\",\"linecolor\":\"white\",\"ticks\":\"\",\"title\":{\"standoff\":15},\"zerolinecolor\":\"white\",\"zerolinewidth\":2}}},\"xaxis\":{\"anchor\":\"y\",\"domain\":[0.0,1.0],\"title\":{\"text\":\"Timestamp\"},\"showgrid\":false},\"yaxis\":{\"anchor\":\"x\",\"domain\":[0.0,1.0],\"title\":{\"text\":\"Stock price\"},\"showgrid\":false},\"legend\":{\"title\":{\"text\":\"Stock\"},\"tracegroupgap\":0},\"margin\":{\"t\":60},\"title\":{\"text\":\"Plotting whole closing stock price with prediction\"},\"font\":{\"size\":15,\"color\":\"black\"},\"plot_bgcolor\":\"white\"},                        {\"responsive\": true}                    ).then(function(){\n",
              "                            \n",
              "var gd = document.getElementById('c7bbc169-d3cf-4d1c-867b-e30fe8cbd280');\n",
              "var x = new MutationObserver(function (mutations, observer) {{\n",
              "        var display = window.getComputedStyle(gd).display;\n",
              "        if (!display || display === 'none') {{\n",
              "            console.log([gd, 'removed!']);\n",
              "            Plotly.purge(gd);\n",
              "            observer.disconnect();\n",
              "        }}\n",
              "}});\n",
              "\n",
              "// Listen for the removal of the full notebook cells\n",
              "var notebookContainer = gd.closest('#notebook-container');\n",
              "if (notebookContainer) {{\n",
              "    x.observe(notebookContainer, {childList: true});\n",
              "}}\n",
              "\n",
              "// Listen for the clearing of the current output cell\n",
              "var outputEl = gd.closest('.output');\n",
              "if (outputEl) {{\n",
              "    x.observe(outputEl, {childList: true});\n",
              "}}\n",
              "\n",
              "                        })                };                            </script>        </div>\n",
              "</body>\n",
              "</html>"
            ]
          },
          "metadata": {}
        }
      ],
      "source": [
        "lstmdf=closedf.tolist()\n",
        "lstmdf.extend((np.array(lst_output).reshape(-1,1)).tolist())\n",
        "lstmdf=scaler.inverse_transform(lstmdf).reshape(1,-1).tolist()[0]\n",
        "\n",
        "names = cycle(['Close price'])\n",
        "\n",
        "fig = px.line(lstmdf,labels={'value': 'Stock price','index': 'Timestamp'})\n",
        "fig.update_layout(title_text='Plotting whole closing stock price with prediction',\n",
        "                  plot_bgcolor='white', font_size=15, font_color='black',legend_title_text='Stock')\n",
        "\n",
        "fig.for_each_trace(lambda t:  t.update(name = next(names)))\n",
        "\n",
        "fig.update_xaxes(showgrid=False)\n",
        "fig.update_yaxes(showgrid=False)\n",
        "fig.show()"
      ]
    },
    {
      "cell_type": "markdown",
      "metadata": {
        "id": "G6DTgx4SpWRf"
      },
      "source": [
        "# SAVE MODEL"
      ]
    },
    {
      "cell_type": "markdown",
      "source": [
        "Saving the model used for deployment with the preprocessing step which is scaler."
      ],
      "metadata": {
        "id": "ClQuS0CzD2Nz"
      }
    },
    {
      "cell_type": "code",
      "execution_count": 44,
      "metadata": {
        "id": "Lio6tt4G_51G"
      },
      "outputs": [],
      "source": [
        "model.save('model_bri.h5')"
      ]
    },
    {
      "cell_type": "code",
      "execution_count": 45,
      "metadata": {
        "id": "3Sel3SAIAahE"
      },
      "outputs": [],
      "source": [
        "import pickle\n",
        "with open(\"scaler_bri.pkl\", \"wb\") as f:\n",
        "    pickle.dump(scaler, f)"
      ]
    }
  ],
  "metadata": {
    "colab": {
      "provenance": []
    },
    "kernelspec": {
      "display_name": "Python 3",
      "language": "python",
      "name": "python3"
    },
    "language_info": {
      "codemirror_mode": {
        "name": "ipython",
        "version": 3
      },
      "file_extension": ".py",
      "mimetype": "text/x-python",
      "name": "python",
      "nbconvert_exporter": "python",
      "pygments_lexer": "ipython3",
      "version": "3.6.4"
    }
  },
  "nbformat": 4,
  "nbformat_minor": 0
}